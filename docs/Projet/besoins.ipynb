{
 "cells": [
  {
   "attachments": {},
   "cell_type": "markdown",
   "metadata": {},
   "source": [
    "# Définition des besoins"
   ]
  },
  {
   "cell_type": "code",
   "execution_count": null,
   "metadata": {},
   "outputs": [],
   "source": [
    "import pandas as pd\n",
    "import numpy as np\n",
    "import altair as alt"
   ]
  },
  {
   "attachments": {},
   "cell_type": "markdown",
   "metadata": {},
   "source": [
    "## Typologie\n",
    "\n",
    "On distingue ici trois sortes de besoins : \n",
    "\n",
    "* irrigation (potager)\n",
    "* agricole (machines)\n",
    "* domestiques\n",
    "\n",
    "Dans un premier temps, nous nous concentrerons sur les besoins d'irrigation. \n"
   ]
  },
  {
   "attachments": {},
   "cell_type": "markdown",
   "metadata": {},
   "source": [
    "## Besoins potager\n",
    "\n",
    "Le potager à irriguer a une surface de $100 m^2$ . \n",
    "\n",
    "Pour simplifier les calculs, on ne prendra que trois valeurs de besoins en eau du potager : \n",
    "\n",
    "* D'octobre à avril il n'y a pas besoin d'irrigation.\n",
    "* Entre juin et août : irrigation maximale\n",
    "* En mai et septembre, irrigation modérée. \n",
    "\n",
    "Pour simplifier, on considérera que l'irrigation est de $20L/m^2$ tous les trois jours *sans paillage* au plus fort de l'été. \n"
   ]
  },
  {
   "cell_type": "code",
   "execution_count": 7,
   "metadata": {},
   "outputs": [
    {
     "data": {
      "text/html": [
       "<div>\n",
       "<style scoped>\n",
       "    .dataframe tbody tr th:only-of-type {\n",
       "        vertical-align: middle;\n",
       "    }\n",
       "\n",
       "    .dataframe tbody tr th {\n",
       "        vertical-align: top;\n",
       "    }\n",
       "\n",
       "    .dataframe thead th {\n",
       "        text-align: right;\n",
       "    }\n",
       "</style>\n",
       "<table border=\"1\" class=\"dataframe\">\n",
       "  <thead>\n",
       "    <tr style=\"text-align: right;\">\n",
       "      <th></th>\n",
       "      <th>doy</th>\n",
       "      <th>julianDay</th>\n",
       "      <th>conso_potager</th>\n",
       "    </tr>\n",
       "  </thead>\n",
       "  <tbody>\n",
       "    <tr>\n",
       "      <th>0</th>\n",
       "      <td>01-01</td>\n",
       "      <td>1</td>\n",
       "      <td>0.0</td>\n",
       "    </tr>\n",
       "    <tr>\n",
       "      <th>1</th>\n",
       "      <td>01-02</td>\n",
       "      <td>2</td>\n",
       "      <td>0.0</td>\n",
       "    </tr>\n",
       "    <tr>\n",
       "      <th>2</th>\n",
       "      <td>01-03</td>\n",
       "      <td>3</td>\n",
       "      <td>0.0</td>\n",
       "    </tr>\n",
       "    <tr>\n",
       "      <th>3</th>\n",
       "      <td>01-04</td>\n",
       "      <td>4</td>\n",
       "      <td>0.0</td>\n",
       "    </tr>\n",
       "    <tr>\n",
       "      <th>4</th>\n",
       "      <td>01-05</td>\n",
       "      <td>5</td>\n",
       "      <td>0.0</td>\n",
       "    </tr>\n",
       "  </tbody>\n",
       "</table>\n",
       "</div>"
      ],
      "text/plain": [
       "     doy  julianDay  conso_potager\n",
       "0  01-01          1            0.0\n",
       "1  01-02          2            0.0\n",
       "2  01-03          3            0.0\n",
       "3  01-04          4            0.0\n",
       "4  01-05          5            0.0"
      ]
     },
     "execution_count": 7,
     "metadata": {},
     "output_type": "execute_result"
    }
   ],
   "source": [
    "besoins = pd.read_csv('../../../data/potager_besoins.csv', sep=',')\n",
    "besoins.conso_potager = besoins.conso_potager/3\n",
    "besoins.head()"
   ]
  },
  {
   "cell_type": "code",
   "execution_count": 15,
   "metadata": {},
   "outputs": [
    {
     "data": {
      "text/html": [
       "\n",
       "<div id=\"altair-viz-4f39123e3e824e5fa8238984cbada0ee\"></div>\n",
       "<script type=\"text/javascript\">\n",
       "  var VEGA_DEBUG = (typeof VEGA_DEBUG == \"undefined\") ? {} : VEGA_DEBUG;\n",
       "  (function(spec, embedOpt){\n",
       "    let outputDiv = document.currentScript.previousElementSibling;\n",
       "    if (outputDiv.id !== \"altair-viz-4f39123e3e824e5fa8238984cbada0ee\") {\n",
       "      outputDiv = document.getElementById(\"altair-viz-4f39123e3e824e5fa8238984cbada0ee\");\n",
       "    }\n",
       "    const paths = {\n",
       "      \"vega\": \"https://cdn.jsdelivr.net/npm//vega@5?noext\",\n",
       "      \"vega-lib\": \"https://cdn.jsdelivr.net/npm//vega-lib?noext\",\n",
       "      \"vega-lite\": \"https://cdn.jsdelivr.net/npm//vega-lite@4.17.0?noext\",\n",
       "      \"vega-embed\": \"https://cdn.jsdelivr.net/npm//vega-embed@6?noext\",\n",
       "    };\n",
       "\n",
       "    function maybeLoadScript(lib, version) {\n",
       "      var key = `${lib.replace(\"-\", \"\")}_version`;\n",
       "      return (VEGA_DEBUG[key] == version) ?\n",
       "        Promise.resolve(paths[lib]) :\n",
       "        new Promise(function(resolve, reject) {\n",
       "          var s = document.createElement('script');\n",
       "          document.getElementsByTagName(\"head\")[0].appendChild(s);\n",
       "          s.async = true;\n",
       "          s.onload = () => {\n",
       "            VEGA_DEBUG[key] = version;\n",
       "            return resolve(paths[lib]);\n",
       "          };\n",
       "          s.onerror = () => reject(`Error loading script: ${paths[lib]}`);\n",
       "          s.src = paths[lib];\n",
       "        });\n",
       "    }\n",
       "\n",
       "    function showError(err) {\n",
       "      outputDiv.innerHTML = `<div class=\"error\" style=\"color:red;\">${err}</div>`;\n",
       "      throw err;\n",
       "    }\n",
       "\n",
       "    function displayChart(vegaEmbed) {\n",
       "      vegaEmbed(outputDiv, spec, embedOpt)\n",
       "        .catch(err => showError(`Javascript Error: ${err.message}<br>This usually means there's a typo in your chart specification. See the javascript console for the full traceback.`));\n",
       "    }\n",
       "\n",
       "    if(typeof define === \"function\" && define.amd) {\n",
       "      requirejs.config({paths});\n",
       "      require([\"vega-embed\"], displayChart, err => showError(`Error loading script: ${err.message}`));\n",
       "    } else {\n",
       "      maybeLoadScript(\"vega\", \"5\")\n",
       "        .then(() => maybeLoadScript(\"vega-lite\", \"4.17.0\"))\n",
       "        .then(() => maybeLoadScript(\"vega-embed\", \"6\"))\n",
       "        .catch(showError)\n",
       "        .then(() => displayChart(vegaEmbed));\n",
       "    }\n",
       "  })({\"config\": {\"view\": {\"continuousWidth\": 400, \"continuousHeight\": 300}}, \"data\": {\"name\": \"data-5e067715c3c300d523e956939e189063\"}, \"mark\": \"line\", \"encoding\": {\"x\": {\"axis\": {\"labelFontSize\": 0, \"labelOpacity\": 0}, \"field\": \"doy\", \"title\": \"Jour de l'ann\\u00e9e\", \"type\": \"nominal\"}, \"y\": {\"field\": \"conso_potager\", \"title\": \"Consommation (L/m2)\", \"type\": \"quantitative\"}}, \"width\": 600, \"$schema\": \"https://vega.github.io/schema/vega-lite/v4.17.0.json\", \"datasets\": {\"data-5e067715c3c300d523e956939e189063\": [{\"doy\": \"01-01\", \"julianDay\": 1, \"conso_potager\": 0.0}, {\"doy\": \"01-02\", \"julianDay\": 2, \"conso_potager\": 0.0}, {\"doy\": \"01-03\", \"julianDay\": 3, \"conso_potager\": 0.0}, {\"doy\": \"01-04\", \"julianDay\": 4, \"conso_potager\": 0.0}, {\"doy\": \"01-05\", \"julianDay\": 5, \"conso_potager\": 0.0}, {\"doy\": \"01-06\", \"julianDay\": 6, \"conso_potager\": 0.0}, {\"doy\": \"01-07\", \"julianDay\": 7, \"conso_potager\": 0.0}, {\"doy\": \"01-08\", \"julianDay\": 8, \"conso_potager\": 0.0}, {\"doy\": \"01-09\", \"julianDay\": 9, \"conso_potager\": 0.0}, {\"doy\": \"01-10\", \"julianDay\": 10, \"conso_potager\": 0.0}, {\"doy\": \"01-11\", \"julianDay\": 11, \"conso_potager\": 0.0}, {\"doy\": \"01-12\", \"julianDay\": 12, \"conso_potager\": 0.0}, {\"doy\": \"01-13\", \"julianDay\": 13, \"conso_potager\": 0.0}, {\"doy\": \"01-14\", \"julianDay\": 14, \"conso_potager\": 0.0}, {\"doy\": \"01-15\", \"julianDay\": 15, \"conso_potager\": 0.0}, {\"doy\": \"01-16\", \"julianDay\": 16, \"conso_potager\": 0.0}, {\"doy\": \"01-17\", \"julianDay\": 17, \"conso_potager\": 0.0}, {\"doy\": \"01-18\", \"julianDay\": 18, \"conso_potager\": 0.0}, {\"doy\": \"01-19\", \"julianDay\": 19, \"conso_potager\": 0.0}, {\"doy\": \"01-20\", \"julianDay\": 20, \"conso_potager\": 0.0}, {\"doy\": \"01-21\", \"julianDay\": 21, \"conso_potager\": 0.0}, {\"doy\": \"01-22\", \"julianDay\": 22, \"conso_potager\": 0.0}, {\"doy\": \"01-23\", \"julianDay\": 23, \"conso_potager\": 0.0}, {\"doy\": \"01-24\", \"julianDay\": 24, \"conso_potager\": 0.0}, {\"doy\": \"01-25\", \"julianDay\": 25, \"conso_potager\": 0.0}, {\"doy\": \"01-26\", \"julianDay\": 26, \"conso_potager\": 0.0}, {\"doy\": \"01-27\", \"julianDay\": 27, \"conso_potager\": 0.0}, {\"doy\": \"01-28\", \"julianDay\": 28, \"conso_potager\": 0.0}, {\"doy\": \"01-29\", \"julianDay\": 29, \"conso_potager\": 0.0}, {\"doy\": \"01-30\", \"julianDay\": 30, \"conso_potager\": 0.0}, {\"doy\": \"01-31\", \"julianDay\": 31, \"conso_potager\": 0.0}, {\"doy\": \"02-01\", \"julianDay\": 32, \"conso_potager\": 0.0}, {\"doy\": \"02-02\", \"julianDay\": 33, \"conso_potager\": 0.0}, {\"doy\": \"02-03\", \"julianDay\": 34, \"conso_potager\": 0.0}, {\"doy\": \"02-04\", \"julianDay\": 35, \"conso_potager\": 0.0}, {\"doy\": \"02-05\", \"julianDay\": 36, \"conso_potager\": 0.0}, {\"doy\": \"02-06\", \"julianDay\": 37, \"conso_potager\": 0.0}, {\"doy\": \"02-07\", \"julianDay\": 38, \"conso_potager\": 0.0}, {\"doy\": \"02-08\", \"julianDay\": 39, \"conso_potager\": 0.0}, {\"doy\": \"02-09\", \"julianDay\": 40, \"conso_potager\": 0.0}, {\"doy\": \"02-10\", \"julianDay\": 41, \"conso_potager\": 0.0}, {\"doy\": \"02-11\", \"julianDay\": 42, \"conso_potager\": 0.0}, {\"doy\": \"02-12\", \"julianDay\": 43, \"conso_potager\": 0.0}, {\"doy\": \"02-13\", \"julianDay\": 44, \"conso_potager\": 0.0}, {\"doy\": \"02-14\", \"julianDay\": 45, \"conso_potager\": 0.0}, {\"doy\": \"02-15\", \"julianDay\": 46, \"conso_potager\": 0.0}, {\"doy\": \"02-16\", \"julianDay\": 47, \"conso_potager\": 0.0}, {\"doy\": \"02-17\", \"julianDay\": 48, \"conso_potager\": 0.0}, {\"doy\": \"02-18\", \"julianDay\": 49, \"conso_potager\": 0.0}, {\"doy\": \"02-19\", \"julianDay\": 50, \"conso_potager\": 0.0}, {\"doy\": \"02-20\", \"julianDay\": 51, \"conso_potager\": 0.0}, {\"doy\": \"02-21\", \"julianDay\": 52, \"conso_potager\": 0.0}, {\"doy\": \"02-22\", \"julianDay\": 53, \"conso_potager\": 0.0}, {\"doy\": \"02-23\", \"julianDay\": 54, \"conso_potager\": 0.0}, {\"doy\": \"02-24\", \"julianDay\": 55, \"conso_potager\": 0.0}, {\"doy\": \"02-25\", \"julianDay\": 56, \"conso_potager\": 0.0}, {\"doy\": \"02-26\", \"julianDay\": 57, \"conso_potager\": 0.0}, {\"doy\": \"02-27\", \"julianDay\": 58, \"conso_potager\": 0.0}, {\"doy\": \"02-28\", \"julianDay\": 59, \"conso_potager\": 0.0}, {\"doy\": \"03-01\", \"julianDay\": 60, \"conso_potager\": 0.0}, {\"doy\": \"03-02\", \"julianDay\": 61, \"conso_potager\": 0.0}, {\"doy\": \"03-03\", \"julianDay\": 62, \"conso_potager\": 0.0}, {\"doy\": \"03-04\", \"julianDay\": 63, \"conso_potager\": 0.0}, {\"doy\": \"03-05\", \"julianDay\": 64, \"conso_potager\": 0.0}, {\"doy\": \"03-06\", \"julianDay\": 65, \"conso_potager\": 0.0}, {\"doy\": \"03-07\", \"julianDay\": 66, \"conso_potager\": 0.0}, {\"doy\": \"03-08\", \"julianDay\": 67, \"conso_potager\": 0.0}, {\"doy\": \"03-09\", \"julianDay\": 68, \"conso_potager\": 0.0}, {\"doy\": \"03-10\", \"julianDay\": 69, \"conso_potager\": 0.0}, {\"doy\": \"03-11\", \"julianDay\": 70, \"conso_potager\": 0.0}, {\"doy\": \"03-12\", \"julianDay\": 71, \"conso_potager\": 0.0}, {\"doy\": \"03-13\", \"julianDay\": 72, \"conso_potager\": 0.0}, {\"doy\": \"03-14\", \"julianDay\": 73, \"conso_potager\": 0.0}, {\"doy\": \"03-15\", \"julianDay\": 74, \"conso_potager\": 0.0}, {\"doy\": \"03-16\", \"julianDay\": 75, \"conso_potager\": 0.0}, {\"doy\": \"03-17\", \"julianDay\": 76, \"conso_potager\": 0.0}, {\"doy\": \"03-18\", \"julianDay\": 77, \"conso_potager\": 0.0}, {\"doy\": \"03-19\", \"julianDay\": 78, \"conso_potager\": 0.0}, {\"doy\": \"03-20\", \"julianDay\": 79, \"conso_potager\": 0.0}, {\"doy\": \"03-21\", \"julianDay\": 80, \"conso_potager\": 0.0}, {\"doy\": \"03-22\", \"julianDay\": 81, \"conso_potager\": 0.0}, {\"doy\": \"03-23\", \"julianDay\": 82, \"conso_potager\": 0.0}, {\"doy\": \"03-24\", \"julianDay\": 83, \"conso_potager\": 0.0}, {\"doy\": \"03-25\", \"julianDay\": 84, \"conso_potager\": 0.0}, {\"doy\": \"03-26\", \"julianDay\": 85, \"conso_potager\": 0.0}, {\"doy\": \"03-27\", \"julianDay\": 86, \"conso_potager\": 0.0}, {\"doy\": \"03-28\", \"julianDay\": 87, \"conso_potager\": 0.0}, {\"doy\": \"03-29\", \"julianDay\": 88, \"conso_potager\": 0.0}, {\"doy\": \"03-30\", \"julianDay\": 89, \"conso_potager\": 0.0}, {\"doy\": \"03-31\", \"julianDay\": 90, \"conso_potager\": 0.0}, {\"doy\": \"04-01\", \"julianDay\": 91, \"conso_potager\": 0.0}, {\"doy\": \"04-02\", \"julianDay\": 92, \"conso_potager\": 0.0}, {\"doy\": \"04-03\", \"julianDay\": 93, \"conso_potager\": 0.0}, {\"doy\": \"04-04\", \"julianDay\": 94, \"conso_potager\": 0.0}, {\"doy\": \"04-05\", \"julianDay\": 95, \"conso_potager\": 0.0}, {\"doy\": \"04-06\", \"julianDay\": 96, \"conso_potager\": 0.0}, {\"doy\": \"04-07\", \"julianDay\": 97, \"conso_potager\": 0.0}, {\"doy\": \"04-08\", \"julianDay\": 98, \"conso_potager\": 0.0}, {\"doy\": \"04-09\", \"julianDay\": 99, \"conso_potager\": 0.0}, {\"doy\": \"04-10\", \"julianDay\": 100, \"conso_potager\": 0.0}, {\"doy\": \"04-11\", \"julianDay\": 101, \"conso_potager\": 0.0}, {\"doy\": \"04-12\", \"julianDay\": 102, \"conso_potager\": 0.0}, {\"doy\": \"04-13\", \"julianDay\": 103, \"conso_potager\": 0.0}, {\"doy\": \"04-14\", \"julianDay\": 104, \"conso_potager\": 0.0}, {\"doy\": \"04-15\", \"julianDay\": 105, \"conso_potager\": 0.0}, {\"doy\": \"04-16\", \"julianDay\": 106, \"conso_potager\": 0.0}, {\"doy\": \"04-17\", \"julianDay\": 107, \"conso_potager\": 0.0}, {\"doy\": \"04-18\", \"julianDay\": 108, \"conso_potager\": 0.0}, {\"doy\": \"04-19\", \"julianDay\": 109, \"conso_potager\": 0.0}, {\"doy\": \"04-20\", \"julianDay\": 110, \"conso_potager\": 0.0}, {\"doy\": \"04-21\", \"julianDay\": 111, \"conso_potager\": 0.0}, {\"doy\": \"04-22\", \"julianDay\": 112, \"conso_potager\": 0.0}, {\"doy\": \"04-23\", \"julianDay\": 113, \"conso_potager\": 0.0}, {\"doy\": \"04-24\", \"julianDay\": 114, \"conso_potager\": 0.0}, {\"doy\": \"04-25\", \"julianDay\": 115, \"conso_potager\": 0.0}, {\"doy\": \"04-26\", \"julianDay\": 116, \"conso_potager\": 0.0}, {\"doy\": \"04-27\", \"julianDay\": 117, \"conso_potager\": 0.0}, {\"doy\": \"04-28\", \"julianDay\": 118, \"conso_potager\": 0.0}, {\"doy\": \"04-29\", \"julianDay\": 119, \"conso_potager\": 0.0}, {\"doy\": \"04-30\", \"julianDay\": 120, \"conso_potager\": 0.0}, {\"doy\": \"05-01\", \"julianDay\": 121, \"conso_potager\": 3.3333333333333335}, {\"doy\": \"05-02\", \"julianDay\": 122, \"conso_potager\": 3.3333333333333335}, {\"doy\": \"05-03\", \"julianDay\": 123, \"conso_potager\": 3.3333333333333335}, {\"doy\": \"05-04\", \"julianDay\": 124, \"conso_potager\": 3.3333333333333335}, {\"doy\": \"05-05\", \"julianDay\": 125, \"conso_potager\": 3.3333333333333335}, {\"doy\": \"05-06\", \"julianDay\": 126, \"conso_potager\": 3.3333333333333335}, {\"doy\": \"05-07\", \"julianDay\": 127, \"conso_potager\": 3.3333333333333335}, {\"doy\": \"05-08\", \"julianDay\": 128, \"conso_potager\": 3.3333333333333335}, {\"doy\": \"05-09\", \"julianDay\": 129, \"conso_potager\": 3.3333333333333335}, {\"doy\": \"05-10\", \"julianDay\": 130, \"conso_potager\": 3.3333333333333335}, {\"doy\": \"05-11\", \"julianDay\": 131, \"conso_potager\": 3.3333333333333335}, {\"doy\": \"05-12\", \"julianDay\": 132, \"conso_potager\": 3.3333333333333335}, {\"doy\": \"05-13\", \"julianDay\": 133, \"conso_potager\": 3.3333333333333335}, {\"doy\": \"05-14\", \"julianDay\": 134, \"conso_potager\": 3.3333333333333335}, {\"doy\": \"05-15\", \"julianDay\": 135, \"conso_potager\": 3.3333333333333335}, {\"doy\": \"05-16\", \"julianDay\": 136, \"conso_potager\": 3.3333333333333335}, {\"doy\": \"05-17\", \"julianDay\": 137, \"conso_potager\": 3.3333333333333335}, {\"doy\": \"05-18\", \"julianDay\": 138, \"conso_potager\": 3.3333333333333335}, {\"doy\": \"05-19\", \"julianDay\": 139, \"conso_potager\": 3.3333333333333335}, {\"doy\": \"05-20\", \"julianDay\": 140, \"conso_potager\": 3.3333333333333335}, {\"doy\": \"05-21\", \"julianDay\": 141, \"conso_potager\": 3.3333333333333335}, {\"doy\": \"05-22\", \"julianDay\": 142, \"conso_potager\": 3.3333333333333335}, {\"doy\": \"05-23\", \"julianDay\": 143, \"conso_potager\": 3.3333333333333335}, {\"doy\": \"05-24\", \"julianDay\": 144, \"conso_potager\": 3.3333333333333335}, {\"doy\": \"05-25\", \"julianDay\": 145, \"conso_potager\": 3.3333333333333335}, {\"doy\": \"05-26\", \"julianDay\": 146, \"conso_potager\": 3.3333333333333335}, {\"doy\": \"05-27\", \"julianDay\": 147, \"conso_potager\": 3.3333333333333335}, {\"doy\": \"05-28\", \"julianDay\": 148, \"conso_potager\": 3.3333333333333335}, {\"doy\": \"05-29\", \"julianDay\": 149, \"conso_potager\": 3.3333333333333335}, {\"doy\": \"05-30\", \"julianDay\": 150, \"conso_potager\": 3.3333333333333335}, {\"doy\": \"05-31\", \"julianDay\": 151, \"conso_potager\": 3.3333333333333335}, {\"doy\": \"06-01\", \"julianDay\": 152, \"conso_potager\": 6.666666666666667}, {\"doy\": \"06-02\", \"julianDay\": 153, \"conso_potager\": 6.666666666666667}, {\"doy\": \"06-03\", \"julianDay\": 154, \"conso_potager\": 6.666666666666667}, {\"doy\": \"06-04\", \"julianDay\": 155, \"conso_potager\": 6.666666666666667}, {\"doy\": \"06-05\", \"julianDay\": 156, \"conso_potager\": 6.666666666666667}, {\"doy\": \"06-06\", \"julianDay\": 157, \"conso_potager\": 6.666666666666667}, {\"doy\": \"06-07\", \"julianDay\": 158, \"conso_potager\": 6.666666666666667}, {\"doy\": \"06-08\", \"julianDay\": 159, \"conso_potager\": 6.666666666666667}, {\"doy\": \"06-09\", \"julianDay\": 160, \"conso_potager\": 6.666666666666667}, {\"doy\": \"06-10\", \"julianDay\": 161, \"conso_potager\": 6.666666666666667}, {\"doy\": \"06-11\", \"julianDay\": 162, \"conso_potager\": 6.666666666666667}, {\"doy\": \"06-12\", \"julianDay\": 163, \"conso_potager\": 6.666666666666667}, {\"doy\": \"06-13\", \"julianDay\": 164, \"conso_potager\": 6.666666666666667}, {\"doy\": \"06-14\", \"julianDay\": 165, \"conso_potager\": 6.666666666666667}, {\"doy\": \"06-15\", \"julianDay\": 166, \"conso_potager\": 6.666666666666667}, {\"doy\": \"06-16\", \"julianDay\": 167, \"conso_potager\": 6.666666666666667}, {\"doy\": \"06-17\", \"julianDay\": 168, \"conso_potager\": 6.666666666666667}, {\"doy\": \"06-18\", \"julianDay\": 169, \"conso_potager\": 6.666666666666667}, {\"doy\": \"06-19\", \"julianDay\": 170, \"conso_potager\": 6.666666666666667}, {\"doy\": \"06-20\", \"julianDay\": 171, \"conso_potager\": 6.666666666666667}, {\"doy\": \"06-21\", \"julianDay\": 172, \"conso_potager\": 6.666666666666667}, {\"doy\": \"06-22\", \"julianDay\": 173, \"conso_potager\": 6.666666666666667}, {\"doy\": \"06-23\", \"julianDay\": 174, \"conso_potager\": 6.666666666666667}, {\"doy\": \"06-24\", \"julianDay\": 175, \"conso_potager\": 6.666666666666667}, {\"doy\": \"06-25\", \"julianDay\": 176, \"conso_potager\": 6.666666666666667}, {\"doy\": \"06-26\", \"julianDay\": 177, \"conso_potager\": 6.666666666666667}, {\"doy\": \"06-27\", \"julianDay\": 178, \"conso_potager\": 6.666666666666667}, {\"doy\": \"06-28\", \"julianDay\": 179, \"conso_potager\": 6.666666666666667}, {\"doy\": \"06-29\", \"julianDay\": 180, \"conso_potager\": 6.666666666666667}, {\"doy\": \"06-30\", \"julianDay\": 181, \"conso_potager\": 6.666666666666667}, {\"doy\": \"07-01\", \"julianDay\": 182, \"conso_potager\": 6.666666666666667}, {\"doy\": \"07-02\", \"julianDay\": 183, \"conso_potager\": 6.666666666666667}, {\"doy\": \"07-03\", \"julianDay\": 184, \"conso_potager\": 6.666666666666667}, {\"doy\": \"07-04\", \"julianDay\": 185, \"conso_potager\": 6.666666666666667}, {\"doy\": \"07-05\", \"julianDay\": 186, \"conso_potager\": 6.666666666666667}, {\"doy\": \"07-06\", \"julianDay\": 187, \"conso_potager\": 6.666666666666667}, {\"doy\": \"07-07\", \"julianDay\": 188, \"conso_potager\": 6.666666666666667}, {\"doy\": \"07-08\", \"julianDay\": 189, \"conso_potager\": 6.666666666666667}, {\"doy\": \"07-09\", \"julianDay\": 190, \"conso_potager\": 6.666666666666667}, {\"doy\": \"07-10\", \"julianDay\": 191, \"conso_potager\": 6.666666666666667}, {\"doy\": \"07-11\", \"julianDay\": 192, \"conso_potager\": 6.666666666666667}, {\"doy\": \"07-12\", \"julianDay\": 193, \"conso_potager\": 6.666666666666667}, {\"doy\": \"07-13\", \"julianDay\": 194, \"conso_potager\": 6.666666666666667}, {\"doy\": \"07-14\", \"julianDay\": 195, \"conso_potager\": 6.666666666666667}, {\"doy\": \"07-15\", \"julianDay\": 196, \"conso_potager\": 6.666666666666667}, {\"doy\": \"07-16\", \"julianDay\": 197, \"conso_potager\": 6.666666666666667}, {\"doy\": \"07-17\", \"julianDay\": 198, \"conso_potager\": 6.666666666666667}, {\"doy\": \"07-18\", \"julianDay\": 199, \"conso_potager\": 6.666666666666667}, {\"doy\": \"07-19\", \"julianDay\": 200, \"conso_potager\": 6.666666666666667}, {\"doy\": \"07-20\", \"julianDay\": 201, \"conso_potager\": 6.666666666666667}, {\"doy\": \"07-21\", \"julianDay\": 202, \"conso_potager\": 6.666666666666667}, {\"doy\": \"07-22\", \"julianDay\": 203, \"conso_potager\": 6.666666666666667}, {\"doy\": \"07-23\", \"julianDay\": 204, \"conso_potager\": 6.666666666666667}, {\"doy\": \"07-24\", \"julianDay\": 205, \"conso_potager\": 6.666666666666667}, {\"doy\": \"07-25\", \"julianDay\": 206, \"conso_potager\": 6.666666666666667}, {\"doy\": \"07-26\", \"julianDay\": 207, \"conso_potager\": 6.666666666666667}, {\"doy\": \"07-27\", \"julianDay\": 208, \"conso_potager\": 6.666666666666667}, {\"doy\": \"07-28\", \"julianDay\": 209, \"conso_potager\": 6.666666666666667}, {\"doy\": \"07-29\", \"julianDay\": 210, \"conso_potager\": 6.666666666666667}, {\"doy\": \"07-30\", \"julianDay\": 211, \"conso_potager\": 6.666666666666667}, {\"doy\": \"07-31\", \"julianDay\": 212, \"conso_potager\": 6.666666666666667}, {\"doy\": \"08-01\", \"julianDay\": 213, \"conso_potager\": 6.666666666666667}, {\"doy\": \"08-02\", \"julianDay\": 214, \"conso_potager\": 6.666666666666667}, {\"doy\": \"08-03\", \"julianDay\": 215, \"conso_potager\": 6.666666666666667}, {\"doy\": \"08-04\", \"julianDay\": 216, \"conso_potager\": 6.666666666666667}, {\"doy\": \"08-05\", \"julianDay\": 217, \"conso_potager\": 6.666666666666667}, {\"doy\": \"08-06\", \"julianDay\": 218, \"conso_potager\": 6.666666666666667}, {\"doy\": \"08-07\", \"julianDay\": 219, \"conso_potager\": 6.666666666666667}, {\"doy\": \"08-08\", \"julianDay\": 220, \"conso_potager\": 6.666666666666667}, {\"doy\": \"08-09\", \"julianDay\": 221, \"conso_potager\": 6.666666666666667}, {\"doy\": \"08-10\", \"julianDay\": 222, \"conso_potager\": 6.666666666666667}, {\"doy\": \"08-11\", \"julianDay\": 223, \"conso_potager\": 6.666666666666667}, {\"doy\": \"08-12\", \"julianDay\": 224, \"conso_potager\": 6.666666666666667}, {\"doy\": \"08-13\", \"julianDay\": 225, \"conso_potager\": 6.666666666666667}, {\"doy\": \"08-14\", \"julianDay\": 226, \"conso_potager\": 6.666666666666667}, {\"doy\": \"08-15\", \"julianDay\": 227, \"conso_potager\": 6.666666666666667}, {\"doy\": \"08-16\", \"julianDay\": 228, \"conso_potager\": 6.666666666666667}, {\"doy\": \"08-17\", \"julianDay\": 229, \"conso_potager\": 6.666666666666667}, {\"doy\": \"08-18\", \"julianDay\": 230, \"conso_potager\": 6.666666666666667}, {\"doy\": \"08-19\", \"julianDay\": 231, \"conso_potager\": 6.666666666666667}, {\"doy\": \"08-20\", \"julianDay\": 232, \"conso_potager\": 6.666666666666667}, {\"doy\": \"08-21\", \"julianDay\": 233, \"conso_potager\": 6.666666666666667}, {\"doy\": \"08-22\", \"julianDay\": 234, \"conso_potager\": 6.666666666666667}, {\"doy\": \"08-23\", \"julianDay\": 235, \"conso_potager\": 6.666666666666667}, {\"doy\": \"08-24\", \"julianDay\": 236, \"conso_potager\": 6.666666666666667}, {\"doy\": \"08-25\", \"julianDay\": 237, \"conso_potager\": 6.666666666666667}, {\"doy\": \"08-26\", \"julianDay\": 238, \"conso_potager\": 6.666666666666667}, {\"doy\": \"08-27\", \"julianDay\": 239, \"conso_potager\": 6.666666666666667}, {\"doy\": \"08-28\", \"julianDay\": 240, \"conso_potager\": 6.666666666666667}, {\"doy\": \"08-29\", \"julianDay\": 241, \"conso_potager\": 6.666666666666667}, {\"doy\": \"08-30\", \"julianDay\": 242, \"conso_potager\": 6.666666666666667}, {\"doy\": \"08-31\", \"julianDay\": 243, \"conso_potager\": 6.666666666666667}, {\"doy\": \"09-01\", \"julianDay\": 244, \"conso_potager\": 3.3333333333333335}, {\"doy\": \"09-02\", \"julianDay\": 245, \"conso_potager\": 3.3333333333333335}, {\"doy\": \"09-03\", \"julianDay\": 246, \"conso_potager\": 3.3333333333333335}, {\"doy\": \"09-04\", \"julianDay\": 247, \"conso_potager\": 3.3333333333333335}, {\"doy\": \"09-05\", \"julianDay\": 248, \"conso_potager\": 3.3333333333333335}, {\"doy\": \"09-06\", \"julianDay\": 249, \"conso_potager\": 3.3333333333333335}, {\"doy\": \"09-07\", \"julianDay\": 250, \"conso_potager\": 3.3333333333333335}, {\"doy\": \"09-08\", \"julianDay\": 251, \"conso_potager\": 3.3333333333333335}, {\"doy\": \"09-09\", \"julianDay\": 252, \"conso_potager\": 3.3333333333333335}, {\"doy\": \"09-10\", \"julianDay\": 253, \"conso_potager\": 3.3333333333333335}, {\"doy\": \"09-11\", \"julianDay\": 254, \"conso_potager\": 3.3333333333333335}, {\"doy\": \"09-12\", \"julianDay\": 255, \"conso_potager\": 3.3333333333333335}, {\"doy\": \"09-13\", \"julianDay\": 256, \"conso_potager\": 3.3333333333333335}, {\"doy\": \"09-14\", \"julianDay\": 257, \"conso_potager\": 3.3333333333333335}, {\"doy\": \"09-15\", \"julianDay\": 258, \"conso_potager\": 3.3333333333333335}, {\"doy\": \"09-16\", \"julianDay\": 259, \"conso_potager\": 3.3333333333333335}, {\"doy\": \"09-17\", \"julianDay\": 260, \"conso_potager\": 3.3333333333333335}, {\"doy\": \"09-18\", \"julianDay\": 261, \"conso_potager\": 3.3333333333333335}, {\"doy\": \"09-19\", \"julianDay\": 262, \"conso_potager\": 3.3333333333333335}, {\"doy\": \"09-20\", \"julianDay\": 263, \"conso_potager\": 3.3333333333333335}, {\"doy\": \"09-21\", \"julianDay\": 264, \"conso_potager\": 3.3333333333333335}, {\"doy\": \"09-22\", \"julianDay\": 265, \"conso_potager\": 3.3333333333333335}, {\"doy\": \"09-23\", \"julianDay\": 266, \"conso_potager\": 3.3333333333333335}, {\"doy\": \"09-24\", \"julianDay\": 267, \"conso_potager\": 3.3333333333333335}, {\"doy\": \"09-25\", \"julianDay\": 268, \"conso_potager\": 3.3333333333333335}, {\"doy\": \"09-26\", \"julianDay\": 269, \"conso_potager\": 3.3333333333333335}, {\"doy\": \"09-27\", \"julianDay\": 270, \"conso_potager\": 3.3333333333333335}, {\"doy\": \"09-28\", \"julianDay\": 271, \"conso_potager\": 3.3333333333333335}, {\"doy\": \"09-29\", \"julianDay\": 272, \"conso_potager\": 3.3333333333333335}, {\"doy\": \"09-30\", \"julianDay\": 273, \"conso_potager\": 3.3333333333333335}, {\"doy\": \"10-01\", \"julianDay\": 274, \"conso_potager\": 0.0}, {\"doy\": \"10-02\", \"julianDay\": 275, \"conso_potager\": 0.0}, {\"doy\": \"10-03\", \"julianDay\": 276, \"conso_potager\": 0.0}, {\"doy\": \"10-04\", \"julianDay\": 277, \"conso_potager\": 0.0}, {\"doy\": \"10-05\", \"julianDay\": 278, \"conso_potager\": 0.0}, {\"doy\": \"10-06\", \"julianDay\": 279, \"conso_potager\": 0.0}, {\"doy\": \"10-07\", \"julianDay\": 280, \"conso_potager\": 0.0}, {\"doy\": \"10-08\", \"julianDay\": 281, \"conso_potager\": 0.0}, {\"doy\": \"10-09\", \"julianDay\": 282, \"conso_potager\": 0.0}, {\"doy\": \"10-10\", \"julianDay\": 283, \"conso_potager\": 0.0}, {\"doy\": \"10-11\", \"julianDay\": 284, \"conso_potager\": 0.0}, {\"doy\": \"10-12\", \"julianDay\": 285, \"conso_potager\": 0.0}, {\"doy\": \"10-13\", \"julianDay\": 286, \"conso_potager\": 0.0}, {\"doy\": \"10-14\", \"julianDay\": 287, \"conso_potager\": 0.0}, {\"doy\": \"10-15\", \"julianDay\": 288, \"conso_potager\": 0.0}, {\"doy\": \"10-16\", \"julianDay\": 289, \"conso_potager\": 0.0}, {\"doy\": \"10-17\", \"julianDay\": 290, \"conso_potager\": 0.0}, {\"doy\": \"10-18\", \"julianDay\": 291, \"conso_potager\": 0.0}, {\"doy\": \"10-19\", \"julianDay\": 292, \"conso_potager\": 0.0}, {\"doy\": \"10-20\", \"julianDay\": 293, \"conso_potager\": 0.0}, {\"doy\": \"10-21\", \"julianDay\": 294, \"conso_potager\": 0.0}, {\"doy\": \"10-22\", \"julianDay\": 295, \"conso_potager\": 0.0}, {\"doy\": \"10-23\", \"julianDay\": 296, \"conso_potager\": 0.0}, {\"doy\": \"10-24\", \"julianDay\": 297, \"conso_potager\": 0.0}, {\"doy\": \"10-25\", \"julianDay\": 298, \"conso_potager\": 0.0}, {\"doy\": \"10-26\", \"julianDay\": 299, \"conso_potager\": 0.0}, {\"doy\": \"10-27\", \"julianDay\": 300, \"conso_potager\": 0.0}, {\"doy\": \"10-28\", \"julianDay\": 301, \"conso_potager\": 0.0}, {\"doy\": \"10-29\", \"julianDay\": 302, \"conso_potager\": 0.0}, {\"doy\": \"10-30\", \"julianDay\": 303, \"conso_potager\": 0.0}, {\"doy\": \"10-31\", \"julianDay\": 304, \"conso_potager\": 0.0}, {\"doy\": \"11-01\", \"julianDay\": 305, \"conso_potager\": 0.0}, {\"doy\": \"11-02\", \"julianDay\": 306, \"conso_potager\": 0.0}, {\"doy\": \"11-03\", \"julianDay\": 307, \"conso_potager\": 0.0}, {\"doy\": \"11-04\", \"julianDay\": 308, \"conso_potager\": 0.0}, {\"doy\": \"11-05\", \"julianDay\": 309, \"conso_potager\": 0.0}, {\"doy\": \"11-06\", \"julianDay\": 310, \"conso_potager\": 0.0}, {\"doy\": \"11-07\", \"julianDay\": 311, \"conso_potager\": 0.0}, {\"doy\": \"11-08\", \"julianDay\": 312, \"conso_potager\": 0.0}, {\"doy\": \"11-09\", \"julianDay\": 313, \"conso_potager\": 0.0}, {\"doy\": \"11-10\", \"julianDay\": 314, \"conso_potager\": 0.0}, {\"doy\": \"11-11\", \"julianDay\": 315, \"conso_potager\": 0.0}, {\"doy\": \"11-12\", \"julianDay\": 316, \"conso_potager\": 0.0}, {\"doy\": \"11-13\", \"julianDay\": 317, \"conso_potager\": 0.0}, {\"doy\": \"11-14\", \"julianDay\": 318, \"conso_potager\": 0.0}, {\"doy\": \"11-15\", \"julianDay\": 319, \"conso_potager\": 0.0}, {\"doy\": \"11-16\", \"julianDay\": 320, \"conso_potager\": 0.0}, {\"doy\": \"11-17\", \"julianDay\": 321, \"conso_potager\": 0.0}, {\"doy\": \"11-18\", \"julianDay\": 322, \"conso_potager\": 0.0}, {\"doy\": \"11-19\", \"julianDay\": 323, \"conso_potager\": 0.0}, {\"doy\": \"11-20\", \"julianDay\": 324, \"conso_potager\": 0.0}, {\"doy\": \"11-21\", \"julianDay\": 325, \"conso_potager\": 0.0}, {\"doy\": \"11-22\", \"julianDay\": 326, \"conso_potager\": 0.0}, {\"doy\": \"11-23\", \"julianDay\": 327, \"conso_potager\": 0.0}, {\"doy\": \"11-24\", \"julianDay\": 328, \"conso_potager\": 0.0}, {\"doy\": \"11-25\", \"julianDay\": 329, \"conso_potager\": 0.0}, {\"doy\": \"11-26\", \"julianDay\": 330, \"conso_potager\": 0.0}, {\"doy\": \"11-27\", \"julianDay\": 331, \"conso_potager\": 0.0}, {\"doy\": \"11-28\", \"julianDay\": 332, \"conso_potager\": 0.0}, {\"doy\": \"11-29\", \"julianDay\": 333, \"conso_potager\": 0.0}, {\"doy\": \"11-30\", \"julianDay\": 334, \"conso_potager\": 0.0}, {\"doy\": \"12-01\", \"julianDay\": 335, \"conso_potager\": 0.0}, {\"doy\": \"12-02\", \"julianDay\": 336, \"conso_potager\": 0.0}, {\"doy\": \"12-03\", \"julianDay\": 337, \"conso_potager\": 0.0}, {\"doy\": \"12-04\", \"julianDay\": 338, \"conso_potager\": 0.0}, {\"doy\": \"12-05\", \"julianDay\": 339, \"conso_potager\": 0.0}, {\"doy\": \"12-06\", \"julianDay\": 340, \"conso_potager\": 0.0}, {\"doy\": \"12-07\", \"julianDay\": 341, \"conso_potager\": 0.0}, {\"doy\": \"12-08\", \"julianDay\": 342, \"conso_potager\": 0.0}, {\"doy\": \"12-09\", \"julianDay\": 343, \"conso_potager\": 0.0}, {\"doy\": \"12-10\", \"julianDay\": 344, \"conso_potager\": 0.0}, {\"doy\": \"12-11\", \"julianDay\": 345, \"conso_potager\": 0.0}, {\"doy\": \"12-12\", \"julianDay\": 346, \"conso_potager\": 0.0}, {\"doy\": \"12-13\", \"julianDay\": 347, \"conso_potager\": 0.0}, {\"doy\": \"12-14\", \"julianDay\": 348, \"conso_potager\": 0.0}, {\"doy\": \"12-15\", \"julianDay\": 349, \"conso_potager\": 0.0}, {\"doy\": \"12-16\", \"julianDay\": 350, \"conso_potager\": 0.0}, {\"doy\": \"12-17\", \"julianDay\": 351, \"conso_potager\": 0.0}, {\"doy\": \"12-18\", \"julianDay\": 352, \"conso_potager\": 0.0}, {\"doy\": \"12-19\", \"julianDay\": 353, \"conso_potager\": 0.0}, {\"doy\": \"12-20\", \"julianDay\": 354, \"conso_potager\": 0.0}, {\"doy\": \"12-21\", \"julianDay\": 355, \"conso_potager\": 0.0}, {\"doy\": \"12-22\", \"julianDay\": 356, \"conso_potager\": 0.0}, {\"doy\": \"12-23\", \"julianDay\": 357, \"conso_potager\": 0.0}, {\"doy\": \"12-24\", \"julianDay\": 358, \"conso_potager\": 0.0}, {\"doy\": \"12-25\", \"julianDay\": 359, \"conso_potager\": 0.0}, {\"doy\": \"12-26\", \"julianDay\": 360, \"conso_potager\": 0.0}, {\"doy\": \"12-27\", \"julianDay\": 361, \"conso_potager\": 0.0}, {\"doy\": \"12-28\", \"julianDay\": 362, \"conso_potager\": 0.0}, {\"doy\": \"12-29\", \"julianDay\": 363, \"conso_potager\": 0.0}, {\"doy\": \"12-30\", \"julianDay\": 364, \"conso_potager\": 0.0}, {\"doy\": \"12-31\", \"julianDay\": 365, \"conso_potager\": 0.0}]}}, {\"mode\": \"vega-lite\"});\n",
       "</script>"
      ],
      "text/plain": [
       "alt.Chart(...)"
      ]
     },
     "execution_count": 15,
     "metadata": {},
     "output_type": "execute_result"
    }
   ],
   "source": [
    "alt.Chart(besoins).mark_line().encode(\n",
    "    x=alt.X('doy', title='Jour de l\\'année', axis=alt.Axis(labelFontSize=0,\n",
    "                           labelOpacity=0)),\n",
    "    y=alt.Y('conso_potager', \n",
    "    title = 'Consommation (L/m2)')\n",
    ").properties(width=600)"
   ]
  },
  {
   "attachments": {},
   "cell_type": "markdown",
   "metadata": {},
   "source": [
    "## Consommation domestique\n",
    "\n",
    "La consommation humaine est considérée comme uniforme, et dépendant uniquement du nombre d'habitants. \n",
    "On prend comme chiffre de base la consommation de 55 $m^2$ par personne et par an, soit 150L/personne/jour[conso-domestique].\n",
    "Ici, on compte :\n",
    "* Habitants permanents : 6\n",
    "* Habitants supplémentaires en été : 6\n"
   ]
  },
  {
   "cell_type": "code",
   "execution_count": null,
   "metadata": {},
   "outputs": [],
   "source": []
  },
  {
   "cell_type": "code",
   "execution_count": 36,
   "metadata": {},
   "outputs": [
    {
     "data": {
      "text/html": [
       "<div>\n",
       "<style scoped>\n",
       "    .dataframe tbody tr th:only-of-type {\n",
       "        vertical-align: middle;\n",
       "    }\n",
       "\n",
       "    .dataframe tbody tr th {\n",
       "        vertical-align: top;\n",
       "    }\n",
       "\n",
       "    .dataframe thead th {\n",
       "        text-align: right;\n",
       "    }\n",
       "</style>\n",
       "<table border=\"1\" class=\"dataframe\">\n",
       "  <thead>\n",
       "    <tr style=\"text-align: right;\">\n",
       "      <th></th>\n",
       "      <th>doy</th>\n",
       "      <th>julianDay</th>\n",
       "      <th>conso_potager</th>\n",
       "      <th>conso_humaine</th>\n",
       "      <th>month</th>\n",
       "    </tr>\n",
       "  </thead>\n",
       "  <tbody>\n",
       "    <tr>\n",
       "      <th>0</th>\n",
       "      <td>01-01</td>\n",
       "      <td>1</td>\n",
       "      <td>0.0</td>\n",
       "      <td>0</td>\n",
       "      <td>NaN</td>\n",
       "    </tr>\n",
       "    <tr>\n",
       "      <th>1</th>\n",
       "      <td>01-02</td>\n",
       "      <td>2</td>\n",
       "      <td>0.0</td>\n",
       "      <td>0</td>\n",
       "      <td>NaN</td>\n",
       "    </tr>\n",
       "    <tr>\n",
       "      <th>2</th>\n",
       "      <td>01-03</td>\n",
       "      <td>3</td>\n",
       "      <td>0.0</td>\n",
       "      <td>0</td>\n",
       "      <td>NaN</td>\n",
       "    </tr>\n",
       "    <tr>\n",
       "      <th>3</th>\n",
       "      <td>01-04</td>\n",
       "      <td>4</td>\n",
       "      <td>0.0</td>\n",
       "      <td>0</td>\n",
       "      <td>NaN</td>\n",
       "    </tr>\n",
       "    <tr>\n",
       "      <th>4</th>\n",
       "      <td>01-04</td>\n",
       "      <td>5</td>\n",
       "      <td>0.0</td>\n",
       "      <td>0</td>\n",
       "      <td>01-04</td>\n",
       "    </tr>\n",
       "  </tbody>\n",
       "</table>\n",
       "</div>"
      ],
      "text/plain": [
       "     doy  julianDay  conso_potager  conso_humaine  month\n",
       "0  01-01          1            0.0              0    NaN\n",
       "1  01-02          2            0.0              0    NaN\n",
       "2  01-03          3            0.0              0    NaN\n",
       "3  01-04          4            0.0              0    NaN\n",
       "4  01-04          5            0.0              0  01-04"
      ]
     },
     "execution_count": 36,
     "metadata": {},
     "output_type": "execute_result"
    }
   ],
   "source": [
    "besoins['month'] = besoins['doy'][4:5]\n",
    "besoins.head()"
   ]
  },
  {
   "cell_type": "code",
   "execution_count": 34,
   "metadata": {},
   "outputs": [],
   "source": [
    "besoins['conso_humaine'] = 0\n",
    "besoins['month'] = besoins['doy'][4:5]\n",
    "besoins.conso_humaine.where(\n",
    "    besoins['doy'!= []]\n",
    ")"
   ]
  },
  {
   "cell_type": "code",
   "execution_count": 19,
   "metadata": {},
   "outputs": [
    {
     "data": {
      "text/plain": [
       "357.50000000000006"
      ]
     },
     "execution_count": 19,
     "metadata": {},
     "output_type": "execute_result"
    }
   ],
   "source": [
    "(500+150)*0.55\n"
   ]
  }
 ],
 "metadata": {
  "kernelspec": {
   "display_name": ".venv",
   "language": "python",
   "name": "python3"
  },
  "language_info": {
   "codemirror_mode": {
    "name": "ipython",
    "version": 3
   },
   "file_extension": ".py",
   "mimetype": "text/x-python",
   "name": "python",
   "nbconvert_exporter": "python",
   "pygments_lexer": "ipython3",
   "version": "3.11.2"
  },
  "orig_nbformat": 4,
  "vscode": {
   "interpreter": {
    "hash": "e90112cafb4d1c901daea2540376a25af3d49cb7f6758657662eedef0022234f"
   }
  }
 },
 "nbformat": 4,
 "nbformat_minor": 2
}
