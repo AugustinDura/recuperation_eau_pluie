{
 "cells": [
  {
   "attachments": {},
   "cell_type": "markdown",
   "metadata": {},
   "source": [
    "# Modèle statique"
   ]
  },
  {
   "cell_type": "code",
   "execution_count": 1,
   "metadata": {},
   "outputs": [],
   "source": [
    "import numpy as np\n",
    "import pandas as pd\n",
    "import altair as alt"
   ]
  },
  {
   "attachments": {},
   "cell_type": "markdown",
   "metadata": {},
   "source": [
    "## Méthode\n",
    "\n",
    "On utilise un modèle de pluviométrie statique : on sait exactement, et à l'avance, quand la pluie tombera et en quelle quantité. \n",
    "\n",
    "Pour construire le modèle nous utilisons la fiche climatique de Clermont-Ferrand qui donne, pour chaque mois, la hauteur cumulée tombée, et le nombre de jours où il a plu. \n",
    "\n",
    "Comme on ne sait pas quel jour il a plu, on distribue aléatoirement les jours de pluie dans le mois, et on considère qu'il tombe toujours la même quantité. "
   ]
  },
  {
   "attachments": {},
   "cell_type": "markdown",
   "metadata": {},
   "source": [
    "## Modèle de pluviométrie\n",
    "\n",
    "### Pluviométrie locale\n",
    "\n",
    "Considérons la fiche climatique de Clermont-Ferrand. "
   ]
  },
  {
   "cell_type": "code",
   "execution_count": 2,
   "metadata": {},
   "outputs": [
    {
     "ename": "FileNotFoundError",
     "evalue": "[Errno 2] No such file or directory: '../../../data/clermont_2.csv'",
     "output_type": "error",
     "traceback": [
      "\u001b[0;31m---------------------------------------------------------------------------\u001b[0m",
      "\u001b[0;31mFileNotFoundError\u001b[0m                         Traceback (most recent call last)",
      "Cell \u001b[0;32mIn[2], line 1\u001b[0m\n\u001b[0;32m----> 1\u001b[0m moyenne_clermont \u001b[39m=\u001b[39m pd\u001b[39m.\u001b[39;49mread_csv(\u001b[39m'\u001b[39;49m\u001b[39m../../../data/clermont_2.csv\u001b[39;49m\u001b[39m'\u001b[39;49m, sep\u001b[39m=\u001b[39;49m\u001b[39m'\u001b[39;49m\u001b[39m,\u001b[39;49m\u001b[39m'\u001b[39;49m, )\n\u001b[1;32m      2\u001b[0m precipitations \u001b[39m=\u001b[39m pd\u001b[39m.\u001b[39mread_csv(\u001b[39m'\u001b[39m\u001b[39m../../../data/avg_yearly_rain_clermont.csv\u001b[39m\u001b[39m'\u001b[39m,\n\u001b[1;32m      3\u001b[0m                               sep\u001b[39m=\u001b[39m\u001b[39m'\u001b[39m\u001b[39m,\u001b[39m\u001b[39m'\u001b[39m)\u001b[39m.\u001b[39mreplace(np\u001b[39m.\u001b[39mnan, \u001b[39m0\u001b[39m)\n",
      "File \u001b[0;32m~/Code/recuperation_eau_pluie/.venv/lib/python3.11/site-packages/pandas/util/_decorators.py:211\u001b[0m, in \u001b[0;36mdeprecate_kwarg.<locals>._deprecate_kwarg.<locals>.wrapper\u001b[0;34m(*args, **kwargs)\u001b[0m\n\u001b[1;32m    209\u001b[0m     \u001b[39melse\u001b[39;00m:\n\u001b[1;32m    210\u001b[0m         kwargs[new_arg_name] \u001b[39m=\u001b[39m new_arg_value\n\u001b[0;32m--> 211\u001b[0m \u001b[39mreturn\u001b[39;00m func(\u001b[39m*\u001b[39;49margs, \u001b[39m*\u001b[39;49m\u001b[39m*\u001b[39;49mkwargs)\n",
      "File \u001b[0;32m~/Code/recuperation_eau_pluie/.venv/lib/python3.11/site-packages/pandas/util/_decorators.py:331\u001b[0m, in \u001b[0;36mdeprecate_nonkeyword_arguments.<locals>.decorate.<locals>.wrapper\u001b[0;34m(*args, **kwargs)\u001b[0m\n\u001b[1;32m    325\u001b[0m \u001b[39mif\u001b[39;00m \u001b[39mlen\u001b[39m(args) \u001b[39m>\u001b[39m num_allow_args:\n\u001b[1;32m    326\u001b[0m     warnings\u001b[39m.\u001b[39mwarn(\n\u001b[1;32m    327\u001b[0m         msg\u001b[39m.\u001b[39mformat(arguments\u001b[39m=\u001b[39m_format_argument_list(allow_args)),\n\u001b[1;32m    328\u001b[0m         \u001b[39mFutureWarning\u001b[39;00m,\n\u001b[1;32m    329\u001b[0m         stacklevel\u001b[39m=\u001b[39mfind_stack_level(),\n\u001b[1;32m    330\u001b[0m     )\n\u001b[0;32m--> 331\u001b[0m \u001b[39mreturn\u001b[39;00m func(\u001b[39m*\u001b[39;49margs, \u001b[39m*\u001b[39;49m\u001b[39m*\u001b[39;49mkwargs)\n",
      "File \u001b[0;32m~/Code/recuperation_eau_pluie/.venv/lib/python3.11/site-packages/pandas/io/parsers/readers.py:950\u001b[0m, in \u001b[0;36mread_csv\u001b[0;34m(filepath_or_buffer, sep, delimiter, header, names, index_col, usecols, squeeze, prefix, mangle_dupe_cols, dtype, engine, converters, true_values, false_values, skipinitialspace, skiprows, skipfooter, nrows, na_values, keep_default_na, na_filter, verbose, skip_blank_lines, parse_dates, infer_datetime_format, keep_date_col, date_parser, dayfirst, cache_dates, iterator, chunksize, compression, thousands, decimal, lineterminator, quotechar, quoting, doublequote, escapechar, comment, encoding, encoding_errors, dialect, error_bad_lines, warn_bad_lines, on_bad_lines, delim_whitespace, low_memory, memory_map, float_precision, storage_options)\u001b[0m\n\u001b[1;32m    935\u001b[0m kwds_defaults \u001b[39m=\u001b[39m _refine_defaults_read(\n\u001b[1;32m    936\u001b[0m     dialect,\n\u001b[1;32m    937\u001b[0m     delimiter,\n\u001b[0;32m   (...)\u001b[0m\n\u001b[1;32m    946\u001b[0m     defaults\u001b[39m=\u001b[39m{\u001b[39m\"\u001b[39m\u001b[39mdelimiter\u001b[39m\u001b[39m\"\u001b[39m: \u001b[39m\"\u001b[39m\u001b[39m,\u001b[39m\u001b[39m\"\u001b[39m},\n\u001b[1;32m    947\u001b[0m )\n\u001b[1;32m    948\u001b[0m kwds\u001b[39m.\u001b[39mupdate(kwds_defaults)\n\u001b[0;32m--> 950\u001b[0m \u001b[39mreturn\u001b[39;00m _read(filepath_or_buffer, kwds)\n",
      "File \u001b[0;32m~/Code/recuperation_eau_pluie/.venv/lib/python3.11/site-packages/pandas/io/parsers/readers.py:605\u001b[0m, in \u001b[0;36m_read\u001b[0;34m(filepath_or_buffer, kwds)\u001b[0m\n\u001b[1;32m    602\u001b[0m _validate_names(kwds\u001b[39m.\u001b[39mget(\u001b[39m\"\u001b[39m\u001b[39mnames\u001b[39m\u001b[39m\"\u001b[39m, \u001b[39mNone\u001b[39;00m))\n\u001b[1;32m    604\u001b[0m \u001b[39m# Create the parser.\u001b[39;00m\n\u001b[0;32m--> 605\u001b[0m parser \u001b[39m=\u001b[39m TextFileReader(filepath_or_buffer, \u001b[39m*\u001b[39;49m\u001b[39m*\u001b[39;49mkwds)\n\u001b[1;32m    607\u001b[0m \u001b[39mif\u001b[39;00m chunksize \u001b[39mor\u001b[39;00m iterator:\n\u001b[1;32m    608\u001b[0m     \u001b[39mreturn\u001b[39;00m parser\n",
      "File \u001b[0;32m~/Code/recuperation_eau_pluie/.venv/lib/python3.11/site-packages/pandas/io/parsers/readers.py:1442\u001b[0m, in \u001b[0;36mTextFileReader.__init__\u001b[0;34m(self, f, engine, **kwds)\u001b[0m\n\u001b[1;32m   1439\u001b[0m     \u001b[39mself\u001b[39m\u001b[39m.\u001b[39moptions[\u001b[39m\"\u001b[39m\u001b[39mhas_index_names\u001b[39m\u001b[39m\"\u001b[39m] \u001b[39m=\u001b[39m kwds[\u001b[39m\"\u001b[39m\u001b[39mhas_index_names\u001b[39m\u001b[39m\"\u001b[39m]\n\u001b[1;32m   1441\u001b[0m \u001b[39mself\u001b[39m\u001b[39m.\u001b[39mhandles: IOHandles \u001b[39m|\u001b[39m \u001b[39mNone\u001b[39;00m \u001b[39m=\u001b[39m \u001b[39mNone\u001b[39;00m\n\u001b[0;32m-> 1442\u001b[0m \u001b[39mself\u001b[39m\u001b[39m.\u001b[39m_engine \u001b[39m=\u001b[39m \u001b[39mself\u001b[39;49m\u001b[39m.\u001b[39;49m_make_engine(f, \u001b[39mself\u001b[39;49m\u001b[39m.\u001b[39;49mengine)\n",
      "File \u001b[0;32m~/Code/recuperation_eau_pluie/.venv/lib/python3.11/site-packages/pandas/io/parsers/readers.py:1735\u001b[0m, in \u001b[0;36mTextFileReader._make_engine\u001b[0;34m(self, f, engine)\u001b[0m\n\u001b[1;32m   1733\u001b[0m     \u001b[39mif\u001b[39;00m \u001b[39m\"\u001b[39m\u001b[39mb\u001b[39m\u001b[39m\"\u001b[39m \u001b[39mnot\u001b[39;00m \u001b[39min\u001b[39;00m mode:\n\u001b[1;32m   1734\u001b[0m         mode \u001b[39m+\u001b[39m\u001b[39m=\u001b[39m \u001b[39m\"\u001b[39m\u001b[39mb\u001b[39m\u001b[39m\"\u001b[39m\n\u001b[0;32m-> 1735\u001b[0m \u001b[39mself\u001b[39m\u001b[39m.\u001b[39mhandles \u001b[39m=\u001b[39m get_handle(\n\u001b[1;32m   1736\u001b[0m     f,\n\u001b[1;32m   1737\u001b[0m     mode,\n\u001b[1;32m   1738\u001b[0m     encoding\u001b[39m=\u001b[39;49m\u001b[39mself\u001b[39;49m\u001b[39m.\u001b[39;49moptions\u001b[39m.\u001b[39;49mget(\u001b[39m\"\u001b[39;49m\u001b[39mencoding\u001b[39;49m\u001b[39m\"\u001b[39;49m, \u001b[39mNone\u001b[39;49;00m),\n\u001b[1;32m   1739\u001b[0m     compression\u001b[39m=\u001b[39;49m\u001b[39mself\u001b[39;49m\u001b[39m.\u001b[39;49moptions\u001b[39m.\u001b[39;49mget(\u001b[39m\"\u001b[39;49m\u001b[39mcompression\u001b[39;49m\u001b[39m\"\u001b[39;49m, \u001b[39mNone\u001b[39;49;00m),\n\u001b[1;32m   1740\u001b[0m     memory_map\u001b[39m=\u001b[39;49m\u001b[39mself\u001b[39;49m\u001b[39m.\u001b[39;49moptions\u001b[39m.\u001b[39;49mget(\u001b[39m\"\u001b[39;49m\u001b[39mmemory_map\u001b[39;49m\u001b[39m\"\u001b[39;49m, \u001b[39mFalse\u001b[39;49;00m),\n\u001b[1;32m   1741\u001b[0m     is_text\u001b[39m=\u001b[39;49mis_text,\n\u001b[1;32m   1742\u001b[0m     errors\u001b[39m=\u001b[39;49m\u001b[39mself\u001b[39;49m\u001b[39m.\u001b[39;49moptions\u001b[39m.\u001b[39;49mget(\u001b[39m\"\u001b[39;49m\u001b[39mencoding_errors\u001b[39;49m\u001b[39m\"\u001b[39;49m, \u001b[39m\"\u001b[39;49m\u001b[39mstrict\u001b[39;49m\u001b[39m\"\u001b[39;49m),\n\u001b[1;32m   1743\u001b[0m     storage_options\u001b[39m=\u001b[39;49m\u001b[39mself\u001b[39;49m\u001b[39m.\u001b[39;49moptions\u001b[39m.\u001b[39;49mget(\u001b[39m\"\u001b[39;49m\u001b[39mstorage_options\u001b[39;49m\u001b[39m\"\u001b[39;49m, \u001b[39mNone\u001b[39;49;00m),\n\u001b[1;32m   1744\u001b[0m )\n\u001b[1;32m   1745\u001b[0m \u001b[39massert\u001b[39;00m \u001b[39mself\u001b[39m\u001b[39m.\u001b[39mhandles \u001b[39mis\u001b[39;00m \u001b[39mnot\u001b[39;00m \u001b[39mNone\u001b[39;00m\n\u001b[1;32m   1746\u001b[0m f \u001b[39m=\u001b[39m \u001b[39mself\u001b[39m\u001b[39m.\u001b[39mhandles\u001b[39m.\u001b[39mhandle\n",
      "File \u001b[0;32m~/Code/recuperation_eau_pluie/.venv/lib/python3.11/site-packages/pandas/io/common.py:856\u001b[0m, in \u001b[0;36mget_handle\u001b[0;34m(path_or_buf, mode, encoding, compression, memory_map, is_text, errors, storage_options)\u001b[0m\n\u001b[1;32m    851\u001b[0m \u001b[39melif\u001b[39;00m \u001b[39misinstance\u001b[39m(handle, \u001b[39mstr\u001b[39m):\n\u001b[1;32m    852\u001b[0m     \u001b[39m# Check whether the filename is to be opened in binary mode.\u001b[39;00m\n\u001b[1;32m    853\u001b[0m     \u001b[39m# Binary mode does not support 'encoding' and 'newline'.\u001b[39;00m\n\u001b[1;32m    854\u001b[0m     \u001b[39mif\u001b[39;00m ioargs\u001b[39m.\u001b[39mencoding \u001b[39mand\u001b[39;00m \u001b[39m\"\u001b[39m\u001b[39mb\u001b[39m\u001b[39m\"\u001b[39m \u001b[39mnot\u001b[39;00m \u001b[39min\u001b[39;00m ioargs\u001b[39m.\u001b[39mmode:\n\u001b[1;32m    855\u001b[0m         \u001b[39m# Encoding\u001b[39;00m\n\u001b[0;32m--> 856\u001b[0m         handle \u001b[39m=\u001b[39m \u001b[39mopen\u001b[39;49m(\n\u001b[1;32m    857\u001b[0m             handle,\n\u001b[1;32m    858\u001b[0m             ioargs\u001b[39m.\u001b[39;49mmode,\n\u001b[1;32m    859\u001b[0m             encoding\u001b[39m=\u001b[39;49mioargs\u001b[39m.\u001b[39;49mencoding,\n\u001b[1;32m    860\u001b[0m             errors\u001b[39m=\u001b[39;49merrors,\n\u001b[1;32m    861\u001b[0m             newline\u001b[39m=\u001b[39;49m\u001b[39m\"\u001b[39;49m\u001b[39m\"\u001b[39;49m,\n\u001b[1;32m    862\u001b[0m         )\n\u001b[1;32m    863\u001b[0m     \u001b[39melse\u001b[39;00m:\n\u001b[1;32m    864\u001b[0m         \u001b[39m# Binary mode\u001b[39;00m\n\u001b[1;32m    865\u001b[0m         handle \u001b[39m=\u001b[39m \u001b[39mopen\u001b[39m(handle, ioargs\u001b[39m.\u001b[39mmode)\n",
      "\u001b[0;31mFileNotFoundError\u001b[0m: [Errno 2] No such file or directory: '../../../data/clermont_2.csv'"
     ]
    }
   ],
   "source": [
    "moyenne_clermont = pd.read_csv('../../../data/clermont_2.csv', sep=',', )\n",
    "precipitations = pd.read_csv('../../../data/avg_yearly_rain_clermont.csv',\n",
    "                              sep=',').replace(np.nan, 0)"
   ]
  },
  {
   "attachments": {},
   "cell_type": "markdown",
   "metadata": {},
   "source": [
    "Et visualisons-la :"
   ]
  },
  {
   "cell_type": "code",
   "execution_count": null,
   "metadata": {},
   "outputs": [
    {
     "data": {
      "text/html": [
       "\n",
       "<div id=\"altair-viz-4650bcee46e9416dbc530104a011103b\"></div>\n",
       "<script type=\"text/javascript\">\n",
       "  var VEGA_DEBUG = (typeof VEGA_DEBUG == \"undefined\") ? {} : VEGA_DEBUG;\n",
       "  (function(spec, embedOpt){\n",
       "    let outputDiv = document.currentScript.previousElementSibling;\n",
       "    if (outputDiv.id !== \"altair-viz-4650bcee46e9416dbc530104a011103b\") {\n",
       "      outputDiv = document.getElementById(\"altair-viz-4650bcee46e9416dbc530104a011103b\");\n",
       "    }\n",
       "    const paths = {\n",
       "      \"vega\": \"https://cdn.jsdelivr.net/npm//vega@5?noext\",\n",
       "      \"vega-lib\": \"https://cdn.jsdelivr.net/npm//vega-lib?noext\",\n",
       "      \"vega-lite\": \"https://cdn.jsdelivr.net/npm//vega-lite@4.17.0?noext\",\n",
       "      \"vega-embed\": \"https://cdn.jsdelivr.net/npm//vega-embed@6?noext\",\n",
       "    };\n",
       "\n",
       "    function maybeLoadScript(lib, version) {\n",
       "      var key = `${lib.replace(\"-\", \"\")}_version`;\n",
       "      return (VEGA_DEBUG[key] == version) ?\n",
       "        Promise.resolve(paths[lib]) :\n",
       "        new Promise(function(resolve, reject) {\n",
       "          var s = document.createElement('script');\n",
       "          document.getElementsByTagName(\"head\")[0].appendChild(s);\n",
       "          s.async = true;\n",
       "          s.onload = () => {\n",
       "            VEGA_DEBUG[key] = version;\n",
       "            return resolve(paths[lib]);\n",
       "          };\n",
       "          s.onerror = () => reject(`Error loading script: ${paths[lib]}`);\n",
       "          s.src = paths[lib];\n",
       "        });\n",
       "    }\n",
       "\n",
       "    function showError(err) {\n",
       "      outputDiv.innerHTML = `<div class=\"error\" style=\"color:red;\">${err}</div>`;\n",
       "      throw err;\n",
       "    }\n",
       "\n",
       "    function displayChart(vegaEmbed) {\n",
       "      vegaEmbed(outputDiv, spec, embedOpt)\n",
       "        .catch(err => showError(`Javascript Error: ${err.message}<br>This usually means there's a typo in your chart specification. See the javascript console for the full traceback.`));\n",
       "    }\n",
       "\n",
       "    if(typeof define === \"function\" && define.amd) {\n",
       "      requirejs.config({paths});\n",
       "      require([\"vega-embed\"], displayChart, err => showError(`Error loading script: ${err.message}`));\n",
       "    } else {\n",
       "      maybeLoadScript(\"vega\", \"5\")\n",
       "        .then(() => maybeLoadScript(\"vega-lite\", \"4.17.0\"))\n",
       "        .then(() => maybeLoadScript(\"vega-embed\", \"6\"))\n",
       "        .catch(showError)\n",
       "        .then(() => displayChart(vegaEmbed));\n",
       "    }\n",
       "  })({\"config\": {\"view\": {\"continuousWidth\": 400, \"continuousHeight\": 300}}, \"data\": {\"name\": \"data-04a93ade9b57d6e1feecf43ac147f836\"}, \"mark\": \"bar\", \"encoding\": {\"x\": {\"field\": \"mois\", \"title\": \"Mois\", \"type\": \"quantitative\"}, \"y\": {\"field\": \"hauteur\", \"title\": \"Hauteur\", \"type\": \"quantitative\"}}, \"$schema\": \"https://vega.github.io/schema/vega-lite/v4.17.0.json\", \"datasets\": {\"data-04a93ade9b57d6e1feecf43ac147f836\": [{\"mois\": 1, \"hauteur\": 26.6, \"nb_jours\": 6.4}, {\"mois\": 2, \"hauteur\": 18.7, \"nb_jours\": 5.0}, {\"mois\": 3, \"hauteur\": 26.1, \"nb_jours\": 6.5}, {\"mois\": 4, \"hauteur\": 51.1, \"nb_jours\": 8.3}, {\"mois\": 5, \"hauteur\": 66.5, \"nb_jours\": 9.4}, {\"mois\": 6, \"hauteur\": 67.5, \"nb_jours\": 8.0}, {\"mois\": 7, \"hauteur\": 63.3, \"nb_jours\": 7.4}, {\"mois\": 8, \"hauteur\": 62.0, \"nb_jours\": 7.5}, {\"mois\": 9, \"hauteur\": 57.5, \"nb_jours\": 6.7}, {\"mois\": 10, \"hauteur\": 48.8, \"nb_jours\": 7.8}, {\"mois\": 11, \"hauteur\": 46.2, \"nb_jours\": 7.8}, {\"mois\": 12, \"hauteur\": 29.1, \"nb_jours\": 6.4}]}}, {\"mode\": \"vega-lite\"});\n",
       "</script>"
      ],
      "text/plain": [
       "alt.Chart(...)"
      ]
     },
     "execution_count": 87,
     "metadata": {},
     "output_type": "execute_result"
    }
   ],
   "source": [
    "alt.Chart(moyenne_clermont).mark_bar().encode(\n",
    "    alt.X('mois:T', title='Mois'),\n",
    "    alt.Y('hauteur', title='Hauteur')\n",
    ")"
   ]
  },
  {
   "attachments": {},
   "cell_type": "markdown",
   "metadata": {},
   "source": [
    "Simulons maintenant des pluies quotidiennes."
   ]
  },
  {
   "cell_type": "code",
   "execution_count": null,
   "metadata": {},
   "outputs": [
    {
     "data": {
      "text/html": [
       "\n",
       "<div id=\"altair-viz-cd08a1eba23e45dcada74629671e790e\"></div>\n",
       "<script type=\"text/javascript\">\n",
       "  var VEGA_DEBUG = (typeof VEGA_DEBUG == \"undefined\") ? {} : VEGA_DEBUG;\n",
       "  (function(spec, embedOpt){\n",
       "    let outputDiv = document.currentScript.previousElementSibling;\n",
       "    if (outputDiv.id !== \"altair-viz-cd08a1eba23e45dcada74629671e790e\") {\n",
       "      outputDiv = document.getElementById(\"altair-viz-cd08a1eba23e45dcada74629671e790e\");\n",
       "    }\n",
       "    const paths = {\n",
       "      \"vega\": \"https://cdn.jsdelivr.net/npm//vega@5?noext\",\n",
       "      \"vega-lib\": \"https://cdn.jsdelivr.net/npm//vega-lib?noext\",\n",
       "      \"vega-lite\": \"https://cdn.jsdelivr.net/npm//vega-lite@4.17.0?noext\",\n",
       "      \"vega-embed\": \"https://cdn.jsdelivr.net/npm//vega-embed@6?noext\",\n",
       "    };\n",
       "\n",
       "    function maybeLoadScript(lib, version) {\n",
       "      var key = `${lib.replace(\"-\", \"\")}_version`;\n",
       "      return (VEGA_DEBUG[key] == version) ?\n",
       "        Promise.resolve(paths[lib]) :\n",
       "        new Promise(function(resolve, reject) {\n",
       "          var s = document.createElement('script');\n",
       "          document.getElementsByTagName(\"head\")[0].appendChild(s);\n",
       "          s.async = true;\n",
       "          s.onload = () => {\n",
       "            VEGA_DEBUG[key] = version;\n",
       "            return resolve(paths[lib]);\n",
       "          };\n",
       "          s.onerror = () => reject(`Error loading script: ${paths[lib]}`);\n",
       "          s.src = paths[lib];\n",
       "        });\n",
       "    }\n",
       "\n",
       "    function showError(err) {\n",
       "      outputDiv.innerHTML = `<div class=\"error\" style=\"color:red;\">${err}</div>`;\n",
       "      throw err;\n",
       "    }\n",
       "\n",
       "    function displayChart(vegaEmbed) {\n",
       "      vegaEmbed(outputDiv, spec, embedOpt)\n",
       "        .catch(err => showError(`Javascript Error: ${err.message}<br>This usually means there's a typo in your chart specification. See the javascript console for the full traceback.`));\n",
       "    }\n",
       "\n",
       "    if(typeof define === \"function\" && define.amd) {\n",
       "      requirejs.config({paths});\n",
       "      require([\"vega-embed\"], displayChart, err => showError(`Error loading script: ${err.message}`));\n",
       "    } else {\n",
       "      maybeLoadScript(\"vega\", \"5\")\n",
       "        .then(() => maybeLoadScript(\"vega-lite\", \"4.17.0\"))\n",
       "        .then(() => maybeLoadScript(\"vega-embed\", \"6\"))\n",
       "        .catch(showError)\n",
       "        .then(() => displayChart(vegaEmbed));\n",
       "    }\n",
       "  })({\"config\": {\"view\": {\"continuousWidth\": 400, \"continuousHeight\": 300}}, \"data\": {\"name\": \"data-5c27e2743bd4512c1b4f41cce3354b9e\"}, \"mark\": \"bar\", \"encoding\": {\"x\": {\"axis\": {\"labelFontSize\": 0, \"labelOpacity\": 0}, \"field\": \"doy\", \"title\": \"Jour de l'annee\", \"type\": \"nominal\"}, \"y\": {\"field\": \"mm\", \"title\": \"Hauteur des pr\\u00e9cipitations\", \"type\": \"quantitative\"}}, \"width\": 450, \"$schema\": \"https://vega.github.io/schema/vega-lite/v4.17.0.json\", \"datasets\": {\"data-5c27e2743bd4512c1b4f41cce3354b9e\": [{\"doy\": \"01-01\", \"month\": 1, \"mm\": 0.0}, {\"doy\": \"01-02\", \"month\": 1, \"mm\": 0.0}, {\"doy\": \"01-03\", \"month\": 1, \"mm\": 0.0}, {\"doy\": \"01-04\", \"month\": 1, \"mm\": 0.0}, {\"doy\": \"01-05\", \"month\": 1, \"mm\": 0.0}, {\"doy\": \"01-06\", \"month\": 1, \"mm\": 0.0}, {\"doy\": \"01-07\", \"month\": 1, \"mm\": 0.0}, {\"doy\": \"01-08\", \"month\": 1, \"mm\": 0.0}, {\"doy\": \"01-09\", \"month\": 1, \"mm\": 0.0}, {\"doy\": \"01-10\", \"month\": 1, \"mm\": 4.43}, {\"doy\": \"01-11\", \"month\": 1, \"mm\": 4.43}, {\"doy\": \"01-12\", \"month\": 1, \"mm\": 0.0}, {\"doy\": \"01-13\", \"month\": 1, \"mm\": 4.43}, {\"doy\": \"01-14\", \"month\": 1, \"mm\": 4.43}, {\"doy\": \"01-15\", \"month\": 1, \"mm\": 0.0}, {\"doy\": \"01-16\", \"month\": 1, \"mm\": 0.0}, {\"doy\": \"01-17\", \"month\": 1, \"mm\": 4.43}, {\"doy\": \"01-18\", \"month\": 1, \"mm\": 0.0}, {\"doy\": \"01-19\", \"month\": 1, \"mm\": 0.0}, {\"doy\": \"01-20\", \"month\": 1, \"mm\": 0.0}, {\"doy\": \"01-21\", \"month\": 1, \"mm\": 0.0}, {\"doy\": \"01-22\", \"month\": 1, \"mm\": 0.0}, {\"doy\": \"01-23\", \"month\": 1, \"mm\": 0.0}, {\"doy\": \"01-24\", \"month\": 1, \"mm\": 0.0}, {\"doy\": \"01-25\", \"month\": 1, \"mm\": 0.0}, {\"doy\": \"01-26\", \"month\": 1, \"mm\": 4.43}, {\"doy\": \"01-27\", \"month\": 1, \"mm\": 0.0}, {\"doy\": \"01-28\", \"month\": 1, \"mm\": 0.0}, {\"doy\": \"01-29\", \"month\": 1, \"mm\": 0.0}, {\"doy\": \"01-30\", \"month\": 1, \"mm\": 0.0}, {\"doy\": \"01-31\", \"month\": 1, \"mm\": 0.0}, {\"doy\": \"02-01\", \"month\": 2, \"mm\": 0.0}, {\"doy\": \"02-02\", \"month\": 2, \"mm\": 0.0}, {\"doy\": \"02-03\", \"month\": 2, \"mm\": 0.0}, {\"doy\": \"02-04\", \"month\": 2, \"mm\": 0.0}, {\"doy\": \"02-05\", \"month\": 2, \"mm\": 0.0}, {\"doy\": \"02-06\", \"month\": 2, \"mm\": 0.0}, {\"doy\": \"02-07\", \"month\": 2, \"mm\": 0.0}, {\"doy\": \"02-08\", \"month\": 2, \"mm\": 0.0}, {\"doy\": \"02-09\", \"month\": 2, \"mm\": 0.0}, {\"doy\": \"02-10\", \"month\": 2, \"mm\": 0.0}, {\"doy\": \"02-11\", \"month\": 2, \"mm\": 0.0}, {\"doy\": \"02-12\", \"month\": 2, \"mm\": 5.0}, {\"doy\": \"02-13\", \"month\": 2, \"mm\": 0.0}, {\"doy\": \"02-14\", \"month\": 2, \"mm\": 0.0}, {\"doy\": \"02-15\", \"month\": 2, \"mm\": 0.0}, {\"doy\": \"02-16\", \"month\": 2, \"mm\": 5.0}, {\"doy\": \"02-17\", \"month\": 2, \"mm\": 5.0}, {\"doy\": \"02-18\", \"month\": 2, \"mm\": 0.0}, {\"doy\": \"02-19\", \"month\": 2, \"mm\": 0.0}, {\"doy\": \"02-20\", \"month\": 2, \"mm\": 0.0}, {\"doy\": \"02-21\", \"month\": 2, \"mm\": 0.0}, {\"doy\": \"02-22\", \"month\": 2, \"mm\": 0.0}, {\"doy\": \"02-23\", \"month\": 2, \"mm\": 0.0}, {\"doy\": \"02-24\", \"month\": 2, \"mm\": 0.0}, {\"doy\": \"02-25\", \"month\": 2, \"mm\": 0.0}, {\"doy\": \"02-26\", \"month\": 2, \"mm\": 0.0}, {\"doy\": \"02-27\", \"month\": 2, \"mm\": 5.0}, {\"doy\": \"02-28\", \"month\": 2, \"mm\": 5.0}, {\"doy\": \"03-01\", \"month\": 3, \"mm\": 0.0}, {\"doy\": \"03-02\", \"month\": 3, \"mm\": 0.0}, {\"doy\": \"03-03\", \"month\": 3, \"mm\": 0.0}, {\"doy\": \"03-04\", \"month\": 3, \"mm\": 4.0}, {\"doy\": \"03-05\", \"month\": 3, \"mm\": 0.0}, {\"doy\": \"03-06\", \"month\": 3, \"mm\": 0.0}, {\"doy\": \"03-07\", \"month\": 3, \"mm\": 0.0}, {\"doy\": \"03-08\", \"month\": 3, \"mm\": 4.0}, {\"doy\": \"03-09\", \"month\": 3, \"mm\": 0.0}, {\"doy\": \"03-10\", \"month\": 3, \"mm\": 0.0}, {\"doy\": \"03-11\", \"month\": 3, \"mm\": 0.0}, {\"doy\": \"03-12\", \"month\": 3, \"mm\": 0.0}, {\"doy\": \"03-13\", \"month\": 3, \"mm\": 0.0}, {\"doy\": \"03-14\", \"month\": 3, \"mm\": 0.0}, {\"doy\": \"03-15\", \"month\": 3, \"mm\": 0.0}, {\"doy\": \"03-16\", \"month\": 3, \"mm\": 4.0}, {\"doy\": \"03-17\", \"month\": 3, \"mm\": 4.0}, {\"doy\": \"03-18\", \"month\": 3, \"mm\": 0.0}, {\"doy\": \"03-19\", \"month\": 3, \"mm\": 0.0}, {\"doy\": \"03-20\", \"month\": 3, \"mm\": 8.0}, {\"doy\": \"03-21\", \"month\": 3, \"mm\": 0.0}, {\"doy\": \"03-22\", \"month\": 3, \"mm\": 0.0}, {\"doy\": \"03-23\", \"month\": 3, \"mm\": 0.0}, {\"doy\": \"03-24\", \"month\": 3, \"mm\": 0.0}, {\"doy\": \"03-25\", \"month\": 3, \"mm\": 4.0}, {\"doy\": \"03-26\", \"month\": 3, \"mm\": 0.0}, {\"doy\": \"03-27\", \"month\": 3, \"mm\": 0.0}, {\"doy\": \"03-28\", \"month\": 3, \"mm\": 0.0}, {\"doy\": \"03-29\", \"month\": 3, \"mm\": 0.0}, {\"doy\": \"03-30\", \"month\": 3, \"mm\": 0.0}, {\"doy\": \"03-31\", \"month\": 3, \"mm\": 0.0}, {\"doy\": \"04-01\", \"month\": 4, \"mm\": 6.0}, {\"doy\": \"04-02\", \"month\": 4, \"mm\": 0.0}, {\"doy\": \"04-03\", \"month\": 4, \"mm\": 0.0}, {\"doy\": \"04-04\", \"month\": 4, \"mm\": 6.0}, {\"doy\": \"04-05\", \"month\": 4, \"mm\": 0.0}, {\"doy\": \"04-06\", \"month\": 4, \"mm\": 6.0}, {\"doy\": \"04-07\", \"month\": 4, \"mm\": 6.0}, {\"doy\": \"04-08\", \"month\": 4, \"mm\": 0.0}, {\"doy\": \"04-09\", \"month\": 4, \"mm\": 0.0}, {\"doy\": \"04-10\", \"month\": 4, \"mm\": 0.0}, {\"doy\": \"04-11\", \"month\": 4, \"mm\": 0.0}, {\"doy\": \"04-12\", \"month\": 4, \"mm\": 12.0}, {\"doy\": \"04-13\", \"month\": 4, \"mm\": 0.0}, {\"doy\": \"04-14\", \"month\": 4, \"mm\": 0.0}, {\"doy\": \"04-15\", \"month\": 4, \"mm\": 0.0}, {\"doy\": \"04-16\", \"month\": 4, \"mm\": 0.0}, {\"doy\": \"04-17\", \"month\": 4, \"mm\": 0.0}, {\"doy\": \"04-18\", \"month\": 4, \"mm\": 0.0}, {\"doy\": \"04-19\", \"month\": 4, \"mm\": 0.0}, {\"doy\": \"04-20\", \"month\": 4, \"mm\": 0.0}, {\"doy\": \"04-21\", \"month\": 4, \"mm\": 0.0}, {\"doy\": \"04-22\", \"month\": 4, \"mm\": 0.0}, {\"doy\": \"04-23\", \"month\": 4, \"mm\": 0.0}, {\"doy\": \"04-24\", \"month\": 4, \"mm\": 6.0}, {\"doy\": \"04-25\", \"month\": 4, \"mm\": 6.0}, {\"doy\": \"04-26\", \"month\": 4, \"mm\": 0.0}, {\"doy\": \"04-27\", \"month\": 4, \"mm\": 0.0}, {\"doy\": \"04-28\", \"month\": 4, \"mm\": 0.0}, {\"doy\": \"04-29\", \"month\": 4, \"mm\": 0.0}, {\"doy\": \"04-30\", \"month\": 4, \"mm\": 0.0}, {\"doy\": \"05-01\", \"month\": 5, \"mm\": 0.0}, {\"doy\": \"05-02\", \"month\": 5, \"mm\": 7.0}, {\"doy\": \"05-03\", \"month\": 5, \"mm\": 0.0}, {\"doy\": \"05-04\", \"month\": 5, \"mm\": 14.0}, {\"doy\": \"05-05\", \"month\": 5, \"mm\": 0.0}, {\"doy\": \"05-06\", \"month\": 5, \"mm\": 0.0}, {\"doy\": \"05-07\", \"month\": 5, \"mm\": 0.0}, {\"doy\": \"05-08\", \"month\": 5, \"mm\": 7.0}, {\"doy\": \"05-09\", \"month\": 5, \"mm\": 0.0}, {\"doy\": \"05-10\", \"month\": 5, \"mm\": 0.0}, {\"doy\": \"05-11\", \"month\": 5, \"mm\": 7.0}, {\"doy\": \"05-12\", \"month\": 5, \"mm\": 0.0}, {\"doy\": \"05-13\", \"month\": 5, \"mm\": 0.0}, {\"doy\": \"05-14\", \"month\": 5, \"mm\": 0.0}, {\"doy\": \"05-15\", \"month\": 5, \"mm\": 7.0}, {\"doy\": \"05-16\", \"month\": 5, \"mm\": 0.0}, {\"doy\": \"05-17\", \"month\": 5, \"mm\": 0.0}, {\"doy\": \"05-18\", \"month\": 5, \"mm\": 0.0}, {\"doy\": \"05-19\", \"month\": 5, \"mm\": 0.0}, {\"doy\": \"05-20\", \"month\": 5, \"mm\": 7.0}, {\"doy\": \"05-21\", \"month\": 5, \"mm\": 0.0}, {\"doy\": \"05-22\", \"month\": 5, \"mm\": 7.0}, {\"doy\": \"05-23\", \"month\": 5, \"mm\": 0.0}, {\"doy\": \"05-24\", \"month\": 5, \"mm\": 0.0}, {\"doy\": \"05-25\", \"month\": 5, \"mm\": 0.0}, {\"doy\": \"05-26\", \"month\": 5, \"mm\": 0.0}, {\"doy\": \"05-27\", \"month\": 5, \"mm\": 7.0}, {\"doy\": \"05-28\", \"month\": 5, \"mm\": 7.0}, {\"doy\": \"05-29\", \"month\": 5, \"mm\": 0.0}, {\"doy\": \"05-30\", \"month\": 5, \"mm\": 0.0}, {\"doy\": \"05-31\", \"month\": 5, \"mm\": 0.0}, {\"doy\": \"06-01\", \"month\": 6, \"mm\": 0.0}, {\"doy\": \"06-02\", \"month\": 6, \"mm\": 8.0}, {\"doy\": \"06-03\", \"month\": 6, \"mm\": 0.0}, {\"doy\": \"06-04\", \"month\": 6, \"mm\": 0.0}, {\"doy\": \"06-05\", \"month\": 6, \"mm\": 0.0}, {\"doy\": \"06-06\", \"month\": 6, \"mm\": 0.0}, {\"doy\": \"06-07\", \"month\": 6, \"mm\": 8.0}, {\"doy\": \"06-08\", \"month\": 6, \"mm\": 8.0}, {\"doy\": \"06-09\", \"month\": 6, \"mm\": 0.0}, {\"doy\": \"06-10\", \"month\": 6, \"mm\": 0.0}, {\"doy\": \"06-11\", \"month\": 6, \"mm\": 0.0}, {\"doy\": \"06-12\", \"month\": 6, \"mm\": 8.0}, {\"doy\": \"06-13\", \"month\": 6, \"mm\": 8.0}, {\"doy\": \"06-14\", \"month\": 6, \"mm\": 8.0}, {\"doy\": \"06-15\", \"month\": 6, \"mm\": 0.0}, {\"doy\": \"06-16\", \"month\": 6, \"mm\": 0.0}, {\"doy\": \"06-17\", \"month\": 6, \"mm\": 0.0}, {\"doy\": \"06-18\", \"month\": 6, \"mm\": 0.0}, {\"doy\": \"06-19\", \"month\": 6, \"mm\": 0.0}, {\"doy\": \"06-20\", \"month\": 6, \"mm\": 0.0}, {\"doy\": \"06-21\", \"month\": 6, \"mm\": 0.0}, {\"doy\": \"06-22\", \"month\": 6, \"mm\": 0.0}, {\"doy\": \"06-23\", \"month\": 6, \"mm\": 8.0}, {\"doy\": \"06-24\", \"month\": 6, \"mm\": 0.0}, {\"doy\": \"06-25\", \"month\": 6, \"mm\": 0.0}, {\"doy\": \"06-26\", \"month\": 6, \"mm\": 0.0}, {\"doy\": \"06-27\", \"month\": 6, \"mm\": 8.0}, {\"doy\": \"06-28\", \"month\": 6, \"mm\": 0.0}, {\"doy\": \"06-29\", \"month\": 6, \"mm\": 0.0}, {\"doy\": \"06-30\", \"month\": 6, \"mm\": 0.0}, {\"doy\": \"07-01\", \"month\": 7, \"mm\": 0.0}, {\"doy\": \"07-02\", \"month\": 7, \"mm\": 0.0}, {\"doy\": \"07-03\", \"month\": 7, \"mm\": 7.0}, {\"doy\": \"07-04\", \"month\": 7, \"mm\": 0.0}, {\"doy\": \"07-05\", \"month\": 7, \"mm\": 0.0}, {\"doy\": \"07-06\", \"month\": 7, \"mm\": 0.0}, {\"doy\": \"07-07\", \"month\": 7, \"mm\": 7.0}, {\"doy\": \"07-08\", \"month\": 7, \"mm\": 7.0}, {\"doy\": \"07-09\", \"month\": 7, \"mm\": 7.0}, {\"doy\": \"07-10\", \"month\": 7, \"mm\": 0.0}, {\"doy\": \"07-11\", \"month\": 7, \"mm\": 0.0}, {\"doy\": \"07-12\", \"month\": 7, \"mm\": 0.0}, {\"doy\": \"07-13\", \"month\": 7, \"mm\": 0.0}, {\"doy\": \"07-14\", \"month\": 7, \"mm\": 0.0}, {\"doy\": \"07-15\", \"month\": 7, \"mm\": 0.0}, {\"doy\": \"07-16\", \"month\": 7, \"mm\": 0.0}, {\"doy\": \"07-17\", \"month\": 7, \"mm\": 0.0}, {\"doy\": \"07-18\", \"month\": 7, \"mm\": 7.0}, {\"doy\": \"07-19\", \"month\": 7, \"mm\": 0.0}, {\"doy\": \"07-20\", \"month\": 7, \"mm\": 0.0}, {\"doy\": \"07-21\", \"month\": 7, \"mm\": 7.0}, {\"doy\": \"07-22\", \"month\": 7, \"mm\": 7.0}, {\"doy\": \"07-23\", \"month\": 7, \"mm\": 0.0}, {\"doy\": \"07-24\", \"month\": 7, \"mm\": 0.0}, {\"doy\": \"07-25\", \"month\": 7, \"mm\": 0.0}, {\"doy\": \"07-26\", \"month\": 7, \"mm\": 0.0}, {\"doy\": \"07-27\", \"month\": 7, \"mm\": 7.0}, {\"doy\": \"07-28\", \"month\": 7, \"mm\": 0.0}, {\"doy\": \"07-29\", \"month\": 7, \"mm\": 0.0}, {\"doy\": \"07-30\", \"month\": 7, \"mm\": 7.0}, {\"doy\": \"07-31\", \"month\": 7, \"mm\": 0.0}, {\"doy\": \"08-01\", \"month\": 8, \"mm\": 0.0}, {\"doy\": \"08-02\", \"month\": 8, \"mm\": 0.0}, {\"doy\": \"08-03\", \"month\": 8, \"mm\": 8.0}, {\"doy\": \"08-04\", \"month\": 8, \"mm\": 0.0}, {\"doy\": \"08-05\", \"month\": 8, \"mm\": 0.0}, {\"doy\": \"08-06\", \"month\": 8, \"mm\": 0.0}, {\"doy\": \"08-07\", \"month\": 8, \"mm\": 0.0}, {\"doy\": \"08-08\", \"month\": 8, \"mm\": 8.0}, {\"doy\": \"08-09\", \"month\": 8, \"mm\": 8.0}, {\"doy\": \"08-10\", \"month\": 8, \"mm\": 0.0}, {\"doy\": \"08-11\", \"month\": 8, \"mm\": 0.0}, {\"doy\": \"08-12\", \"month\": 8, \"mm\": 0.0}, {\"doy\": \"08-13\", \"month\": 8, \"mm\": 0.0}, {\"doy\": \"08-14\", \"month\": 8, \"mm\": 0.0}, {\"doy\": \"08-15\", \"month\": 8, \"mm\": 16.0}, {\"doy\": \"08-16\", \"month\": 8, \"mm\": 0.0}, {\"doy\": \"08-17\", \"month\": 8, \"mm\": 0.0}, {\"doy\": \"08-18\", \"month\": 8, \"mm\": 0.0}, {\"doy\": \"08-19\", \"month\": 8, \"mm\": 0.0}, {\"doy\": \"08-20\", \"month\": 8, \"mm\": 0.0}, {\"doy\": \"08-21\", \"month\": 8, \"mm\": 8.0}, {\"doy\": \"08-22\", \"month\": 8, \"mm\": 8.0}, {\"doy\": \"08-23\", \"month\": 8, \"mm\": 0.0}, {\"doy\": \"08-24\", \"month\": 8, \"mm\": 0.0}, {\"doy\": \"08-25\", \"month\": 8, \"mm\": 8.0}, {\"doy\": \"08-26\", \"month\": 8, \"mm\": 0.0}, {\"doy\": \"08-27\", \"month\": 8, \"mm\": 0.0}, {\"doy\": \"08-28\", \"month\": 8, \"mm\": 0.0}, {\"doy\": \"08-29\", \"month\": 8, \"mm\": 0.0}, {\"doy\": \"08-30\", \"month\": 8, \"mm\": 0.0}, {\"doy\": \"08-31\", \"month\": 8, \"mm\": 0.0}, {\"doy\": \"09-01\", \"month\": 9, \"mm\": 0.0}, {\"doy\": \"09-02\", \"month\": 9, \"mm\": 0.0}, {\"doy\": \"09-03\", \"month\": 9, \"mm\": 8.0}, {\"doy\": \"09-04\", \"month\": 9, \"mm\": 0.0}, {\"doy\": \"09-05\", \"month\": 9, \"mm\": 0.0}, {\"doy\": \"09-06\", \"month\": 9, \"mm\": 0.0}, {\"doy\": \"09-07\", \"month\": 9, \"mm\": 0.0}, {\"doy\": \"09-08\", \"month\": 9, \"mm\": 0.0}, {\"doy\": \"09-09\", \"month\": 9, \"mm\": 0.0}, {\"doy\": \"09-10\", \"month\": 9, \"mm\": 0.0}, {\"doy\": \"09-11\", \"month\": 9, \"mm\": 8.0}, {\"doy\": \"09-12\", \"month\": 9, \"mm\": 8.0}, {\"doy\": \"09-13\", \"month\": 9, \"mm\": 0.0}, {\"doy\": \"09-14\", \"month\": 9, \"mm\": 0.0}, {\"doy\": \"09-15\", \"month\": 9, \"mm\": 0.0}, {\"doy\": \"09-16\", \"month\": 9, \"mm\": 0.0}, {\"doy\": \"09-17\", \"month\": 9, \"mm\": 0.0}, {\"doy\": \"09-18\", \"month\": 9, \"mm\": 0.0}, {\"doy\": \"09-19\", \"month\": 9, \"mm\": 8.0}, {\"doy\": \"09-20\", \"month\": 9, \"mm\": 8.0}, {\"doy\": \"09-21\", \"month\": 9, \"mm\": 16.0}, {\"doy\": \"09-22\", \"month\": 9, \"mm\": 0.0}, {\"doy\": \"09-23\", \"month\": 9, \"mm\": 0.0}, {\"doy\": \"09-24\", \"month\": 9, \"mm\": 0.0}, {\"doy\": \"09-25\", \"month\": 9, \"mm\": 8.0}, {\"doy\": \"09-26\", \"month\": 9, \"mm\": 0.0}, {\"doy\": \"09-27\", \"month\": 9, \"mm\": 0.0}, {\"doy\": \"09-28\", \"month\": 9, \"mm\": 0.0}, {\"doy\": \"09-29\", \"month\": 9, \"mm\": 0.0}, {\"doy\": \"09-30\", \"month\": 9, \"mm\": 0.0}, {\"doy\": \"10-01\", \"month\": 10, \"mm\": 0.0}, {\"doy\": \"10-02\", \"month\": 10, \"mm\": 0.0}, {\"doy\": \"10-03\", \"month\": 10, \"mm\": 0.0}, {\"doy\": \"10-04\", \"month\": 10, \"mm\": 6.0}, {\"doy\": \"10-05\", \"month\": 10, \"mm\": 0.0}, {\"doy\": \"10-06\", \"month\": 10, \"mm\": 0.0}, {\"doy\": \"10-07\", \"month\": 10, \"mm\": 0.0}, {\"doy\": \"10-08\", \"month\": 10, \"mm\": 0.0}, {\"doy\": \"10-09\", \"month\": 10, \"mm\": 6.0}, {\"doy\": \"10-10\", \"month\": 10, \"mm\": 6.0}, {\"doy\": \"10-11\", \"month\": 10, \"mm\": 0.0}, {\"doy\": \"10-12\", \"month\": 10, \"mm\": 0.0}, {\"doy\": \"10-13\", \"month\": 10, \"mm\": 0.0}, {\"doy\": \"10-14\", \"month\": 10, \"mm\": 0.0}, {\"doy\": \"10-15\", \"month\": 10, \"mm\": 0.0}, {\"doy\": \"10-16\", \"month\": 10, \"mm\": 6.0}, {\"doy\": \"10-17\", \"month\": 10, \"mm\": 0.0}, {\"doy\": \"10-18\", \"month\": 10, \"mm\": 0.0}, {\"doy\": \"10-19\", \"month\": 10, \"mm\": 0.0}, {\"doy\": \"10-20\", \"month\": 10, \"mm\": 0.0}, {\"doy\": \"10-21\", \"month\": 10, \"mm\": 6.0}, {\"doy\": \"10-22\", \"month\": 10, \"mm\": 0.0}, {\"doy\": \"10-23\", \"month\": 10, \"mm\": 0.0}, {\"doy\": \"10-24\", \"month\": 10, \"mm\": 0.0}, {\"doy\": \"10-25\", \"month\": 10, \"mm\": 6.0}, {\"doy\": \"10-26\", \"month\": 10, \"mm\": 6.0}, {\"doy\": \"10-27\", \"month\": 10, \"mm\": 0.0}, {\"doy\": \"10-28\", \"month\": 10, \"mm\": 6.0}, {\"doy\": \"10-29\", \"month\": 10, \"mm\": 0.0}, {\"doy\": \"10-30\", \"month\": 10, \"mm\": 0.0}, {\"doy\": \"10-31\", \"month\": 10, \"mm\": 0.0}, {\"doy\": \"11-01\", \"month\": 11, \"mm\": 0.0}, {\"doy\": \"11-02\", \"month\": 11, \"mm\": 6.0}, {\"doy\": \"11-03\", \"month\": 11, \"mm\": 6.0}, {\"doy\": \"11-04\", \"month\": 11, \"mm\": 0.0}, {\"doy\": \"11-05\", \"month\": 11, \"mm\": 0.0}, {\"doy\": \"11-06\", \"month\": 11, \"mm\": 0.0}, {\"doy\": \"11-07\", \"month\": 11, \"mm\": 6.0}, {\"doy\": \"11-08\", \"month\": 11, \"mm\": 6.0}, {\"doy\": \"11-09\", \"month\": 11, \"mm\": 0.0}, {\"doy\": \"11-10\", \"month\": 11, \"mm\": 0.0}, {\"doy\": \"11-11\", \"month\": 11, \"mm\": 0.0}, {\"doy\": \"11-12\", \"month\": 11, \"mm\": 0.0}, {\"doy\": \"11-13\", \"month\": 11, \"mm\": 0.0}, {\"doy\": \"11-14\", \"month\": 11, \"mm\": 6.0}, {\"doy\": \"11-15\", \"month\": 11, \"mm\": 0.0}, {\"doy\": \"11-16\", \"month\": 11, \"mm\": 0.0}, {\"doy\": \"11-17\", \"month\": 11, \"mm\": 0.0}, {\"doy\": \"11-18\", \"month\": 11, \"mm\": 6.0}, {\"doy\": \"11-19\", \"month\": 11, \"mm\": 0.0}, {\"doy\": \"11-20\", \"month\": 11, \"mm\": 0.0}, {\"doy\": \"11-21\", \"month\": 11, \"mm\": 0.0}, {\"doy\": \"11-22\", \"month\": 11, \"mm\": 0.0}, {\"doy\": \"11-23\", \"month\": 11, \"mm\": 0.0}, {\"doy\": \"11-24\", \"month\": 11, \"mm\": 6.0}, {\"doy\": \"11-25\", \"month\": 11, \"mm\": 6.0}, {\"doy\": \"11-26\", \"month\": 11, \"mm\": 0.0}, {\"doy\": \"11-27\", \"month\": 11, \"mm\": 0.0}, {\"doy\": \"11-28\", \"month\": 11, \"mm\": 0.0}, {\"doy\": \"11-29\", \"month\": 11, \"mm\": 0.0}, {\"doy\": \"11-30\", \"month\": 11, \"mm\": 0.0}, {\"doy\": \"12-01\", \"month\": 12, \"mm\": 0.0}, {\"doy\": \"12-02\", \"month\": 12, \"mm\": 0.0}, {\"doy\": \"12-03\", \"month\": 12, \"mm\": 5.0}, {\"doy\": \"12-04\", \"month\": 12, \"mm\": 0.0}, {\"doy\": \"12-05\", \"month\": 12, \"mm\": 0.0}, {\"doy\": \"12-06\", \"month\": 12, \"mm\": 0.0}, {\"doy\": \"12-07\", \"month\": 12, \"mm\": 5.0}, {\"doy\": \"12-08\", \"month\": 12, \"mm\": 0.0}, {\"doy\": \"12-09\", \"month\": 12, \"mm\": 0.0}, {\"doy\": \"12-10\", \"month\": 12, \"mm\": 0.0}, {\"doy\": \"12-11\", \"month\": 12, \"mm\": 5.0}, {\"doy\": \"12-12\", \"month\": 12, \"mm\": 0.0}, {\"doy\": \"12-13\", \"month\": 12, \"mm\": 0.0}, {\"doy\": \"12-14\", \"month\": 12, \"mm\": 0.0}, {\"doy\": \"12-15\", \"month\": 12, \"mm\": 0.0}, {\"doy\": \"12-16\", \"month\": 12, \"mm\": 0.0}, {\"doy\": \"12-17\", \"month\": 12, \"mm\": 0.0}, {\"doy\": \"12-18\", \"month\": 12, \"mm\": 0.0}, {\"doy\": \"12-19\", \"month\": 12, \"mm\": 0.0}, {\"doy\": \"12-20\", \"month\": 12, \"mm\": 5.0}, {\"doy\": \"12-21\", \"month\": 12, \"mm\": 5.0}, {\"doy\": \"12-22\", \"month\": 12, \"mm\": 0.0}, {\"doy\": \"12-23\", \"month\": 12, \"mm\": 0.0}, {\"doy\": \"12-24\", \"month\": 12, \"mm\": 0.0}, {\"doy\": \"12-25\", \"month\": 12, \"mm\": 0.0}, {\"doy\": \"12-26\", \"month\": 12, \"mm\": 0.0}, {\"doy\": \"12-27\", \"month\": 12, \"mm\": 0.0}, {\"doy\": \"12-28\", \"month\": 12, \"mm\": 0.0}, {\"doy\": \"12-29\", \"month\": 12, \"mm\": 0.0}, {\"doy\": \"12-30\", \"month\": 12, \"mm\": 0.0}, {\"doy\": \"12-31\", \"month\": 12, \"mm\": 0.0}]}}, {\"mode\": \"vega-lite\"});\n",
       "</script>"
      ],
      "text/plain": [
       "alt.Chart(...)"
      ]
     },
     "execution_count": 88,
     "metadata": {},
     "output_type": "execute_result"
    }
   ],
   "source": [
    "alt.Chart(precipitations).mark_bar().encode(\n",
    "    x=alt.X('doy:T', \n",
    "            title = 'Jour de l\\'annee', \n",
    "            axis=alt.Axis(labelFontSize=0,\n",
    "                           labelOpacity=0)),\n",
    "    y=alt.Y('mm:Q', title = 'Hauteur des précipitations')\n",
    ").properties(width=450)\n",
    "\n"
   ]
  },
  {
   "attachments": {},
   "cell_type": "markdown",
   "metadata": {},
   "source": [
    "Comme prévu, ce modèle n'est pas représentatif de la réalité, car les pluies sont bien trop homogènes en hauteur. \n",
    "On en tire immédiatement l'eau disponible à chaque pluie grâce à la surface du toit. "
   ]
  },
  {
   "attachments": {},
   "cell_type": "markdown",
   "metadata": {},
   "source": [
    "## Consommation\n",
    "\n",
    "### Consommation potagère\n",
    "\n",
    "La consommation est décrite dans une section précédente. \n"
   ]
  },
  {
   "attachments": {},
   "cell_type": "markdown",
   "metadata": {},
   "source": [
    "## Dimensionnement cuve\n",
    "\n",
    "Dans un premier temps, voyons la hauteur cumulée d'eau tombée. "
   ]
  },
  {
   "cell_type": "code",
   "execution_count": null,
   "metadata": {},
   "outputs": [
    {
     "data": {
      "text/html": [
       "\n",
       "<div id=\"altair-viz-89531d0c72a14f88a7b39de5737ab8de\"></div>\n",
       "<script type=\"text/javascript\">\n",
       "  var VEGA_DEBUG = (typeof VEGA_DEBUG == \"undefined\") ? {} : VEGA_DEBUG;\n",
       "  (function(spec, embedOpt){\n",
       "    let outputDiv = document.currentScript.previousElementSibling;\n",
       "    if (outputDiv.id !== \"altair-viz-89531d0c72a14f88a7b39de5737ab8de\") {\n",
       "      outputDiv = document.getElementById(\"altair-viz-89531d0c72a14f88a7b39de5737ab8de\");\n",
       "    }\n",
       "    const paths = {\n",
       "      \"vega\": \"https://cdn.jsdelivr.net/npm//vega@5?noext\",\n",
       "      \"vega-lib\": \"https://cdn.jsdelivr.net/npm//vega-lib?noext\",\n",
       "      \"vega-lite\": \"https://cdn.jsdelivr.net/npm//vega-lite@4.17.0?noext\",\n",
       "      \"vega-embed\": \"https://cdn.jsdelivr.net/npm//vega-embed@6?noext\",\n",
       "    };\n",
       "\n",
       "    function maybeLoadScript(lib, version) {\n",
       "      var key = `${lib.replace(\"-\", \"\")}_version`;\n",
       "      return (VEGA_DEBUG[key] == version) ?\n",
       "        Promise.resolve(paths[lib]) :\n",
       "        new Promise(function(resolve, reject) {\n",
       "          var s = document.createElement('script');\n",
       "          document.getElementsByTagName(\"head\")[0].appendChild(s);\n",
       "          s.async = true;\n",
       "          s.onload = () => {\n",
       "            VEGA_DEBUG[key] = version;\n",
       "            return resolve(paths[lib]);\n",
       "          };\n",
       "          s.onerror = () => reject(`Error loading script: ${paths[lib]}`);\n",
       "          s.src = paths[lib];\n",
       "        });\n",
       "    }\n",
       "\n",
       "    function showError(err) {\n",
       "      outputDiv.innerHTML = `<div class=\"error\" style=\"color:red;\">${err}</div>`;\n",
       "      throw err;\n",
       "    }\n",
       "\n",
       "    function displayChart(vegaEmbed) {\n",
       "      vegaEmbed(outputDiv, spec, embedOpt)\n",
       "        .catch(err => showError(`Javascript Error: ${err.message}<br>This usually means there's a typo in your chart specification. See the javascript console for the full traceback.`));\n",
       "    }\n",
       "\n",
       "    if(typeof define === \"function\" && define.amd) {\n",
       "      requirejs.config({paths});\n",
       "      require([\"vega-embed\"], displayChart, err => showError(`Error loading script: ${err.message}`));\n",
       "    } else {\n",
       "      maybeLoadScript(\"vega\", \"5\")\n",
       "        .then(() => maybeLoadScript(\"vega-lite\", \"4.17.0\"))\n",
       "        .then(() => maybeLoadScript(\"vega-embed\", \"6\"))\n",
       "        .catch(showError)\n",
       "        .then(() => displayChart(vegaEmbed));\n",
       "    }\n",
       "  })({\"config\": {\"view\": {\"continuousWidth\": 400, \"continuousHeight\": 300}}, \"data\": {\"name\": \"data-e4ff3c464fbff379d81f517c87ba3206\"}, \"mark\": {\"type\": \"area\", \"color\": \"lightblue\", \"interpolate\": \"step-after\", \"line\": true}, \"encoding\": {\"x\": {\"axis\": {\"labelOpacity\": 0}, \"field\": \"doy\", \"title\": \"Jour de l'ann\\u00e9e\", \"type\": \"nominal\"}, \"y\": {\"field\": \"cumul\", \"title\": \"Pluie cumul\\u00e9e depuis le d\\u00e9but de l'ann\\u00e9e\", \"type\": \"quantitative\"}}, \"width\": 600, \"$schema\": \"https://vega.github.io/schema/vega-lite/v4.17.0.json\", \"datasets\": {\"data-e4ff3c464fbff379d81f517c87ba3206\": [{\"doy\": \"01-01\", \"month\": 1, \"mm\": 0.0, \"cumul\": 0.0}, {\"doy\": \"01-02\", \"month\": 1, \"mm\": 0.0, \"cumul\": 0.0}, {\"doy\": \"01-03\", \"month\": 1, \"mm\": 0.0, \"cumul\": 0.0}, {\"doy\": \"01-04\", \"month\": 1, \"mm\": 0.0, \"cumul\": 0.0}, {\"doy\": \"01-05\", \"month\": 1, \"mm\": 0.0, \"cumul\": 0.0}, {\"doy\": \"01-06\", \"month\": 1, \"mm\": 0.0, \"cumul\": 0.0}, {\"doy\": \"01-07\", \"month\": 1, \"mm\": 0.0, \"cumul\": 0.0}, {\"doy\": \"01-08\", \"month\": 1, \"mm\": 0.0, \"cumul\": 0.0}, {\"doy\": \"01-09\", \"month\": 1, \"mm\": 0.0, \"cumul\": 0.0}, {\"doy\": \"01-10\", \"month\": 1, \"mm\": 4.43, \"cumul\": 4.43}, {\"doy\": \"01-11\", \"month\": 1, \"mm\": 4.43, \"cumul\": 8.86}, {\"doy\": \"01-12\", \"month\": 1, \"mm\": 0.0, \"cumul\": 8.86}, {\"doy\": \"01-13\", \"month\": 1, \"mm\": 4.43, \"cumul\": 13.29}, {\"doy\": \"01-14\", \"month\": 1, \"mm\": 4.43, \"cumul\": 17.72}, {\"doy\": \"01-15\", \"month\": 1, \"mm\": 0.0, \"cumul\": 17.72}, {\"doy\": \"01-16\", \"month\": 1, \"mm\": 0.0, \"cumul\": 17.72}, {\"doy\": \"01-17\", \"month\": 1, \"mm\": 4.43, \"cumul\": 22.15}, {\"doy\": \"01-18\", \"month\": 1, \"mm\": 0.0, \"cumul\": 22.15}, {\"doy\": \"01-19\", \"month\": 1, \"mm\": 0.0, \"cumul\": 22.15}, {\"doy\": \"01-20\", \"month\": 1, \"mm\": 0.0, \"cumul\": 22.15}, {\"doy\": \"01-21\", \"month\": 1, \"mm\": 0.0, \"cumul\": 22.15}, {\"doy\": \"01-22\", \"month\": 1, \"mm\": 0.0, \"cumul\": 22.15}, {\"doy\": \"01-23\", \"month\": 1, \"mm\": 0.0, \"cumul\": 22.15}, {\"doy\": \"01-24\", \"month\": 1, \"mm\": 0.0, \"cumul\": 22.15}, {\"doy\": \"01-25\", \"month\": 1, \"mm\": 0.0, \"cumul\": 22.15}, {\"doy\": \"01-26\", \"month\": 1, \"mm\": 4.43, \"cumul\": 26.58}, {\"doy\": \"01-27\", \"month\": 1, \"mm\": 0.0, \"cumul\": 26.58}, {\"doy\": \"01-28\", \"month\": 1, \"mm\": 0.0, \"cumul\": 26.58}, {\"doy\": \"01-29\", \"month\": 1, \"mm\": 0.0, \"cumul\": 26.58}, {\"doy\": \"01-30\", \"month\": 1, \"mm\": 0.0, \"cumul\": 26.58}, {\"doy\": \"01-31\", \"month\": 1, \"mm\": 0.0, \"cumul\": 26.58}, {\"doy\": \"02-01\", \"month\": 2, \"mm\": 0.0, \"cumul\": 26.58}, {\"doy\": \"02-02\", \"month\": 2, \"mm\": 0.0, \"cumul\": 26.58}, {\"doy\": \"02-03\", \"month\": 2, \"mm\": 0.0, \"cumul\": 26.58}, {\"doy\": \"02-04\", \"month\": 2, \"mm\": 0.0, \"cumul\": 26.58}, {\"doy\": \"02-05\", \"month\": 2, \"mm\": 0.0, \"cumul\": 26.58}, {\"doy\": \"02-06\", \"month\": 2, \"mm\": 0.0, \"cumul\": 26.58}, {\"doy\": \"02-07\", \"month\": 2, \"mm\": 0.0, \"cumul\": 26.58}, {\"doy\": \"02-08\", \"month\": 2, \"mm\": 0.0, \"cumul\": 26.58}, {\"doy\": \"02-09\", \"month\": 2, \"mm\": 0.0, \"cumul\": 26.58}, {\"doy\": \"02-10\", \"month\": 2, \"mm\": 0.0, \"cumul\": 26.58}, {\"doy\": \"02-11\", \"month\": 2, \"mm\": 0.0, \"cumul\": 26.58}, {\"doy\": \"02-12\", \"month\": 2, \"mm\": 5.0, \"cumul\": 31.58}, {\"doy\": \"02-13\", \"month\": 2, \"mm\": 0.0, \"cumul\": 31.58}, {\"doy\": \"02-14\", \"month\": 2, \"mm\": 0.0, \"cumul\": 31.58}, {\"doy\": \"02-15\", \"month\": 2, \"mm\": 0.0, \"cumul\": 31.58}, {\"doy\": \"02-16\", \"month\": 2, \"mm\": 5.0, \"cumul\": 36.58}, {\"doy\": \"02-17\", \"month\": 2, \"mm\": 5.0, \"cumul\": 41.58}, {\"doy\": \"02-18\", \"month\": 2, \"mm\": 0.0, \"cumul\": 41.58}, {\"doy\": \"02-19\", \"month\": 2, \"mm\": 0.0, \"cumul\": 41.58}, {\"doy\": \"02-20\", \"month\": 2, \"mm\": 0.0, \"cumul\": 41.58}, {\"doy\": \"02-21\", \"month\": 2, \"mm\": 0.0, \"cumul\": 41.58}, {\"doy\": \"02-22\", \"month\": 2, \"mm\": 0.0, \"cumul\": 41.58}, {\"doy\": \"02-23\", \"month\": 2, \"mm\": 0.0, \"cumul\": 41.58}, {\"doy\": \"02-24\", \"month\": 2, \"mm\": 0.0, \"cumul\": 41.58}, {\"doy\": \"02-25\", \"month\": 2, \"mm\": 0.0, \"cumul\": 41.58}, {\"doy\": \"02-26\", \"month\": 2, \"mm\": 0.0, \"cumul\": 41.58}, {\"doy\": \"02-27\", \"month\": 2, \"mm\": 5.0, \"cumul\": 46.58}, {\"doy\": \"02-28\", \"month\": 2, \"mm\": 5.0, \"cumul\": 51.58}, {\"doy\": \"03-01\", \"month\": 3, \"mm\": 0.0, \"cumul\": 51.58}, {\"doy\": \"03-02\", \"month\": 3, \"mm\": 0.0, \"cumul\": 51.58}, {\"doy\": \"03-03\", \"month\": 3, \"mm\": 0.0, \"cumul\": 51.58}, {\"doy\": \"03-04\", \"month\": 3, \"mm\": 4.0, \"cumul\": 55.58}, {\"doy\": \"03-05\", \"month\": 3, \"mm\": 0.0, \"cumul\": 55.58}, {\"doy\": \"03-06\", \"month\": 3, \"mm\": 0.0, \"cumul\": 55.58}, {\"doy\": \"03-07\", \"month\": 3, \"mm\": 0.0, \"cumul\": 55.58}, {\"doy\": \"03-08\", \"month\": 3, \"mm\": 4.0, \"cumul\": 59.58}, {\"doy\": \"03-09\", \"month\": 3, \"mm\": 0.0, \"cumul\": 59.58}, {\"doy\": \"03-10\", \"month\": 3, \"mm\": 0.0, \"cumul\": 59.58}, {\"doy\": \"03-11\", \"month\": 3, \"mm\": 0.0, \"cumul\": 59.58}, {\"doy\": \"03-12\", \"month\": 3, \"mm\": 0.0, \"cumul\": 59.58}, {\"doy\": \"03-13\", \"month\": 3, \"mm\": 0.0, \"cumul\": 59.58}, {\"doy\": \"03-14\", \"month\": 3, \"mm\": 0.0, \"cumul\": 59.58}, {\"doy\": \"03-15\", \"month\": 3, \"mm\": 0.0, \"cumul\": 59.58}, {\"doy\": \"03-16\", \"month\": 3, \"mm\": 4.0, \"cumul\": 63.58}, {\"doy\": \"03-17\", \"month\": 3, \"mm\": 4.0, \"cumul\": 67.58}, {\"doy\": \"03-18\", \"month\": 3, \"mm\": 0.0, \"cumul\": 67.58}, {\"doy\": \"03-19\", \"month\": 3, \"mm\": 0.0, \"cumul\": 67.58}, {\"doy\": \"03-20\", \"month\": 3, \"mm\": 8.0, \"cumul\": 75.58}, {\"doy\": \"03-21\", \"month\": 3, \"mm\": 0.0, \"cumul\": 75.58}, {\"doy\": \"03-22\", \"month\": 3, \"mm\": 0.0, \"cumul\": 75.58}, {\"doy\": \"03-23\", \"month\": 3, \"mm\": 0.0, \"cumul\": 75.58}, {\"doy\": \"03-24\", \"month\": 3, \"mm\": 0.0, \"cumul\": 75.58}, {\"doy\": \"03-25\", \"month\": 3, \"mm\": 4.0, \"cumul\": 79.58}, {\"doy\": \"03-26\", \"month\": 3, \"mm\": 0.0, \"cumul\": 79.58}, {\"doy\": \"03-27\", \"month\": 3, \"mm\": 0.0, \"cumul\": 79.58}, {\"doy\": \"03-28\", \"month\": 3, \"mm\": 0.0, \"cumul\": 79.58}, {\"doy\": \"03-29\", \"month\": 3, \"mm\": 0.0, \"cumul\": 79.58}, {\"doy\": \"03-30\", \"month\": 3, \"mm\": 0.0, \"cumul\": 79.58}, {\"doy\": \"03-31\", \"month\": 3, \"mm\": 0.0, \"cumul\": 79.58}, {\"doy\": \"04-01\", \"month\": 4, \"mm\": 6.0, \"cumul\": 85.58}, {\"doy\": \"04-02\", \"month\": 4, \"mm\": 0.0, \"cumul\": 85.58}, {\"doy\": \"04-03\", \"month\": 4, \"mm\": 0.0, \"cumul\": 85.58}, {\"doy\": \"04-04\", \"month\": 4, \"mm\": 6.0, \"cumul\": 91.58}, {\"doy\": \"04-05\", \"month\": 4, \"mm\": 0.0, \"cumul\": 91.58}, {\"doy\": \"04-06\", \"month\": 4, \"mm\": 6.0, \"cumul\": 97.58}, {\"doy\": \"04-07\", \"month\": 4, \"mm\": 6.0, \"cumul\": 103.58}, {\"doy\": \"04-08\", \"month\": 4, \"mm\": 0.0, \"cumul\": 103.58}, {\"doy\": \"04-09\", \"month\": 4, \"mm\": 0.0, \"cumul\": 103.58}, {\"doy\": \"04-10\", \"month\": 4, \"mm\": 0.0, \"cumul\": 103.58}, {\"doy\": \"04-11\", \"month\": 4, \"mm\": 0.0, \"cumul\": 103.58}, {\"doy\": \"04-12\", \"month\": 4, \"mm\": 12.0, \"cumul\": 115.58}, {\"doy\": \"04-13\", \"month\": 4, \"mm\": 0.0, \"cumul\": 115.58}, {\"doy\": \"04-14\", \"month\": 4, \"mm\": 0.0, \"cumul\": 115.58}, {\"doy\": \"04-15\", \"month\": 4, \"mm\": 0.0, \"cumul\": 115.58}, {\"doy\": \"04-16\", \"month\": 4, \"mm\": 0.0, \"cumul\": 115.58}, {\"doy\": \"04-17\", \"month\": 4, \"mm\": 0.0, \"cumul\": 115.58}, {\"doy\": \"04-18\", \"month\": 4, \"mm\": 0.0, \"cumul\": 115.58}, {\"doy\": \"04-19\", \"month\": 4, \"mm\": 0.0, \"cumul\": 115.58}, {\"doy\": \"04-20\", \"month\": 4, \"mm\": 0.0, \"cumul\": 115.58}, {\"doy\": \"04-21\", \"month\": 4, \"mm\": 0.0, \"cumul\": 115.58}, {\"doy\": \"04-22\", \"month\": 4, \"mm\": 0.0, \"cumul\": 115.58}, {\"doy\": \"04-23\", \"month\": 4, \"mm\": 0.0, \"cumul\": 115.58}, {\"doy\": \"04-24\", \"month\": 4, \"mm\": 6.0, \"cumul\": 121.58}, {\"doy\": \"04-25\", \"month\": 4, \"mm\": 6.0, \"cumul\": 127.58}, {\"doy\": \"04-26\", \"month\": 4, \"mm\": 0.0, \"cumul\": 127.58}, {\"doy\": \"04-27\", \"month\": 4, \"mm\": 0.0, \"cumul\": 127.58}, {\"doy\": \"04-28\", \"month\": 4, \"mm\": 0.0, \"cumul\": 127.58}, {\"doy\": \"04-29\", \"month\": 4, \"mm\": 0.0, \"cumul\": 127.58}, {\"doy\": \"04-30\", \"month\": 4, \"mm\": 0.0, \"cumul\": 127.58}, {\"doy\": \"05-01\", \"month\": 5, \"mm\": 0.0, \"cumul\": 127.58}, {\"doy\": \"05-02\", \"month\": 5, \"mm\": 7.0, \"cumul\": 134.57999999999998}, {\"doy\": \"05-03\", \"month\": 5, \"mm\": 0.0, \"cumul\": 134.57999999999998}, {\"doy\": \"05-04\", \"month\": 5, \"mm\": 14.0, \"cumul\": 148.57999999999998}, {\"doy\": \"05-05\", \"month\": 5, \"mm\": 0.0, \"cumul\": 148.57999999999998}, {\"doy\": \"05-06\", \"month\": 5, \"mm\": 0.0, \"cumul\": 148.57999999999998}, {\"doy\": \"05-07\", \"month\": 5, \"mm\": 0.0, \"cumul\": 148.57999999999998}, {\"doy\": \"05-08\", \"month\": 5, \"mm\": 7.0, \"cumul\": 155.57999999999998}, {\"doy\": \"05-09\", \"month\": 5, \"mm\": 0.0, \"cumul\": 155.57999999999998}, {\"doy\": \"05-10\", \"month\": 5, \"mm\": 0.0, \"cumul\": 155.57999999999998}, {\"doy\": \"05-11\", \"month\": 5, \"mm\": 7.0, \"cumul\": 162.57999999999998}, {\"doy\": \"05-12\", \"month\": 5, \"mm\": 0.0, \"cumul\": 162.57999999999998}, {\"doy\": \"05-13\", \"month\": 5, \"mm\": 0.0, \"cumul\": 162.57999999999998}, {\"doy\": \"05-14\", \"month\": 5, \"mm\": 0.0, \"cumul\": 162.57999999999998}, {\"doy\": \"05-15\", \"month\": 5, \"mm\": 7.0, \"cumul\": 169.57999999999998}, {\"doy\": \"05-16\", \"month\": 5, \"mm\": 0.0, \"cumul\": 169.57999999999998}, {\"doy\": \"05-17\", \"month\": 5, \"mm\": 0.0, \"cumul\": 169.57999999999998}, {\"doy\": \"05-18\", \"month\": 5, \"mm\": 0.0, \"cumul\": 169.57999999999998}, {\"doy\": \"05-19\", \"month\": 5, \"mm\": 0.0, \"cumul\": 169.57999999999998}, {\"doy\": \"05-20\", \"month\": 5, \"mm\": 7.0, \"cumul\": 176.57999999999998}, {\"doy\": \"05-21\", \"month\": 5, \"mm\": 0.0, \"cumul\": 176.57999999999998}, {\"doy\": \"05-22\", \"month\": 5, \"mm\": 7.0, \"cumul\": 183.57999999999998}, {\"doy\": \"05-23\", \"month\": 5, \"mm\": 0.0, \"cumul\": 183.57999999999998}, {\"doy\": \"05-24\", \"month\": 5, \"mm\": 0.0, \"cumul\": 183.57999999999998}, {\"doy\": \"05-25\", \"month\": 5, \"mm\": 0.0, \"cumul\": 183.57999999999998}, {\"doy\": \"05-26\", \"month\": 5, \"mm\": 0.0, \"cumul\": 183.57999999999998}, {\"doy\": \"05-27\", \"month\": 5, \"mm\": 7.0, \"cumul\": 190.57999999999998}, {\"doy\": \"05-28\", \"month\": 5, \"mm\": 7.0, \"cumul\": 197.57999999999998}, {\"doy\": \"05-29\", \"month\": 5, \"mm\": 0.0, \"cumul\": 197.57999999999998}, {\"doy\": \"05-30\", \"month\": 5, \"mm\": 0.0, \"cumul\": 197.57999999999998}, {\"doy\": \"05-31\", \"month\": 5, \"mm\": 0.0, \"cumul\": 197.57999999999998}, {\"doy\": \"06-01\", \"month\": 6, \"mm\": 0.0, \"cumul\": 197.57999999999998}, {\"doy\": \"06-02\", \"month\": 6, \"mm\": 8.0, \"cumul\": 205.57999999999998}, {\"doy\": \"06-03\", \"month\": 6, \"mm\": 0.0, \"cumul\": 205.57999999999998}, {\"doy\": \"06-04\", \"month\": 6, \"mm\": 0.0, \"cumul\": 205.57999999999998}, {\"doy\": \"06-05\", \"month\": 6, \"mm\": 0.0, \"cumul\": 205.57999999999998}, {\"doy\": \"06-06\", \"month\": 6, \"mm\": 0.0, \"cumul\": 205.57999999999998}, {\"doy\": \"06-07\", \"month\": 6, \"mm\": 8.0, \"cumul\": 213.57999999999998}, {\"doy\": \"06-08\", \"month\": 6, \"mm\": 8.0, \"cumul\": 221.57999999999998}, {\"doy\": \"06-09\", \"month\": 6, \"mm\": 0.0, \"cumul\": 221.57999999999998}, {\"doy\": \"06-10\", \"month\": 6, \"mm\": 0.0, \"cumul\": 221.57999999999998}, {\"doy\": \"06-11\", \"month\": 6, \"mm\": 0.0, \"cumul\": 221.57999999999998}, {\"doy\": \"06-12\", \"month\": 6, \"mm\": 8.0, \"cumul\": 229.57999999999998}, {\"doy\": \"06-13\", \"month\": 6, \"mm\": 8.0, \"cumul\": 237.57999999999998}, {\"doy\": \"06-14\", \"month\": 6, \"mm\": 8.0, \"cumul\": 245.57999999999998}, {\"doy\": \"06-15\", \"month\": 6, \"mm\": 0.0, \"cumul\": 245.57999999999998}, {\"doy\": \"06-16\", \"month\": 6, \"mm\": 0.0, \"cumul\": 245.57999999999998}, {\"doy\": \"06-17\", \"month\": 6, \"mm\": 0.0, \"cumul\": 245.57999999999998}, {\"doy\": \"06-18\", \"month\": 6, \"mm\": 0.0, \"cumul\": 245.57999999999998}, {\"doy\": \"06-19\", \"month\": 6, \"mm\": 0.0, \"cumul\": 245.57999999999998}, {\"doy\": \"06-20\", \"month\": 6, \"mm\": 0.0, \"cumul\": 245.57999999999998}, {\"doy\": \"06-21\", \"month\": 6, \"mm\": 0.0, \"cumul\": 245.57999999999998}, {\"doy\": \"06-22\", \"month\": 6, \"mm\": 0.0, \"cumul\": 245.57999999999998}, {\"doy\": \"06-23\", \"month\": 6, \"mm\": 8.0, \"cumul\": 253.57999999999998}, {\"doy\": \"06-24\", \"month\": 6, \"mm\": 0.0, \"cumul\": 253.57999999999998}, {\"doy\": \"06-25\", \"month\": 6, \"mm\": 0.0, \"cumul\": 253.57999999999998}, {\"doy\": \"06-26\", \"month\": 6, \"mm\": 0.0, \"cumul\": 253.57999999999998}, {\"doy\": \"06-27\", \"month\": 6, \"mm\": 8.0, \"cumul\": 261.58}, {\"doy\": \"06-28\", \"month\": 6, \"mm\": 0.0, \"cumul\": 261.58}, {\"doy\": \"06-29\", \"month\": 6, \"mm\": 0.0, \"cumul\": 261.58}, {\"doy\": \"06-30\", \"month\": 6, \"mm\": 0.0, \"cumul\": 261.58}, {\"doy\": \"07-01\", \"month\": 7, \"mm\": 0.0, \"cumul\": 261.58}, {\"doy\": \"07-02\", \"month\": 7, \"mm\": 0.0, \"cumul\": 261.58}, {\"doy\": \"07-03\", \"month\": 7, \"mm\": 7.0, \"cumul\": 268.58}, {\"doy\": \"07-04\", \"month\": 7, \"mm\": 0.0, \"cumul\": 268.58}, {\"doy\": \"07-05\", \"month\": 7, \"mm\": 0.0, \"cumul\": 268.58}, {\"doy\": \"07-06\", \"month\": 7, \"mm\": 0.0, \"cumul\": 268.58}, {\"doy\": \"07-07\", \"month\": 7, \"mm\": 7.0, \"cumul\": 275.58}, {\"doy\": \"07-08\", \"month\": 7, \"mm\": 7.0, \"cumul\": 282.58}, {\"doy\": \"07-09\", \"month\": 7, \"mm\": 7.0, \"cumul\": 289.58}, {\"doy\": \"07-10\", \"month\": 7, \"mm\": 0.0, \"cumul\": 289.58}, {\"doy\": \"07-11\", \"month\": 7, \"mm\": 0.0, \"cumul\": 289.58}, {\"doy\": \"07-12\", \"month\": 7, \"mm\": 0.0, \"cumul\": 289.58}, {\"doy\": \"07-13\", \"month\": 7, \"mm\": 0.0, \"cumul\": 289.58}, {\"doy\": \"07-14\", \"month\": 7, \"mm\": 0.0, \"cumul\": 289.58}, {\"doy\": \"07-15\", \"month\": 7, \"mm\": 0.0, \"cumul\": 289.58}, {\"doy\": \"07-16\", \"month\": 7, \"mm\": 0.0, \"cumul\": 289.58}, {\"doy\": \"07-17\", \"month\": 7, \"mm\": 0.0, \"cumul\": 289.58}, {\"doy\": \"07-18\", \"month\": 7, \"mm\": 7.0, \"cumul\": 296.58}, {\"doy\": \"07-19\", \"month\": 7, \"mm\": 0.0, \"cumul\": 296.58}, {\"doy\": \"07-20\", \"month\": 7, \"mm\": 0.0, \"cumul\": 296.58}, {\"doy\": \"07-21\", \"month\": 7, \"mm\": 7.0, \"cumul\": 303.58}, {\"doy\": \"07-22\", \"month\": 7, \"mm\": 7.0, \"cumul\": 310.58}, {\"doy\": \"07-23\", \"month\": 7, \"mm\": 0.0, \"cumul\": 310.58}, {\"doy\": \"07-24\", \"month\": 7, \"mm\": 0.0, \"cumul\": 310.58}, {\"doy\": \"07-25\", \"month\": 7, \"mm\": 0.0, \"cumul\": 310.58}, {\"doy\": \"07-26\", \"month\": 7, \"mm\": 0.0, \"cumul\": 310.58}, {\"doy\": \"07-27\", \"month\": 7, \"mm\": 7.0, \"cumul\": 317.58}, {\"doy\": \"07-28\", \"month\": 7, \"mm\": 0.0, \"cumul\": 317.58}, {\"doy\": \"07-29\", \"month\": 7, \"mm\": 0.0, \"cumul\": 317.58}, {\"doy\": \"07-30\", \"month\": 7, \"mm\": 7.0, \"cumul\": 324.58}, {\"doy\": \"07-31\", \"month\": 7, \"mm\": 0.0, \"cumul\": 324.58}, {\"doy\": \"08-01\", \"month\": 8, \"mm\": 0.0, \"cumul\": 324.58}, {\"doy\": \"08-02\", \"month\": 8, \"mm\": 0.0, \"cumul\": 324.58}, {\"doy\": \"08-03\", \"month\": 8, \"mm\": 8.0, \"cumul\": 332.58}, {\"doy\": \"08-04\", \"month\": 8, \"mm\": 0.0, \"cumul\": 332.58}, {\"doy\": \"08-05\", \"month\": 8, \"mm\": 0.0, \"cumul\": 332.58}, {\"doy\": \"08-06\", \"month\": 8, \"mm\": 0.0, \"cumul\": 332.58}, {\"doy\": \"08-07\", \"month\": 8, \"mm\": 0.0, \"cumul\": 332.58}, {\"doy\": \"08-08\", \"month\": 8, \"mm\": 8.0, \"cumul\": 340.58}, {\"doy\": \"08-09\", \"month\": 8, \"mm\": 8.0, \"cumul\": 348.58}, {\"doy\": \"08-10\", \"month\": 8, \"mm\": 0.0, \"cumul\": 348.58}, {\"doy\": \"08-11\", \"month\": 8, \"mm\": 0.0, \"cumul\": 348.58}, {\"doy\": \"08-12\", \"month\": 8, \"mm\": 0.0, \"cumul\": 348.58}, {\"doy\": \"08-13\", \"month\": 8, \"mm\": 0.0, \"cumul\": 348.58}, {\"doy\": \"08-14\", \"month\": 8, \"mm\": 0.0, \"cumul\": 348.58}, {\"doy\": \"08-15\", \"month\": 8, \"mm\": 16.0, \"cumul\": 364.58}, {\"doy\": \"08-16\", \"month\": 8, \"mm\": 0.0, \"cumul\": 364.58}, {\"doy\": \"08-17\", \"month\": 8, \"mm\": 0.0, \"cumul\": 364.58}, {\"doy\": \"08-18\", \"month\": 8, \"mm\": 0.0, \"cumul\": 364.58}, {\"doy\": \"08-19\", \"month\": 8, \"mm\": 0.0, \"cumul\": 364.58}, {\"doy\": \"08-20\", \"month\": 8, \"mm\": 0.0, \"cumul\": 364.58}, {\"doy\": \"08-21\", \"month\": 8, \"mm\": 8.0, \"cumul\": 372.58}, {\"doy\": \"08-22\", \"month\": 8, \"mm\": 8.0, \"cumul\": 380.58}, {\"doy\": \"08-23\", \"month\": 8, \"mm\": 0.0, \"cumul\": 380.58}, {\"doy\": \"08-24\", \"month\": 8, \"mm\": 0.0, \"cumul\": 380.58}, {\"doy\": \"08-25\", \"month\": 8, \"mm\": 8.0, \"cumul\": 388.58}, {\"doy\": \"08-26\", \"month\": 8, \"mm\": 0.0, \"cumul\": 388.58}, {\"doy\": \"08-27\", \"month\": 8, \"mm\": 0.0, \"cumul\": 388.58}, {\"doy\": \"08-28\", \"month\": 8, \"mm\": 0.0, \"cumul\": 388.58}, {\"doy\": \"08-29\", \"month\": 8, \"mm\": 0.0, \"cumul\": 388.58}, {\"doy\": \"08-30\", \"month\": 8, \"mm\": 0.0, \"cumul\": 388.58}, {\"doy\": \"08-31\", \"month\": 8, \"mm\": 0.0, \"cumul\": 388.58}, {\"doy\": \"09-01\", \"month\": 9, \"mm\": 0.0, \"cumul\": 388.58}, {\"doy\": \"09-02\", \"month\": 9, \"mm\": 0.0, \"cumul\": 388.58}, {\"doy\": \"09-03\", \"month\": 9, \"mm\": 8.0, \"cumul\": 396.58}, {\"doy\": \"09-04\", \"month\": 9, \"mm\": 0.0, \"cumul\": 396.58}, {\"doy\": \"09-05\", \"month\": 9, \"mm\": 0.0, \"cumul\": 396.58}, {\"doy\": \"09-06\", \"month\": 9, \"mm\": 0.0, \"cumul\": 396.58}, {\"doy\": \"09-07\", \"month\": 9, \"mm\": 0.0, \"cumul\": 396.58}, {\"doy\": \"09-08\", \"month\": 9, \"mm\": 0.0, \"cumul\": 396.58}, {\"doy\": \"09-09\", \"month\": 9, \"mm\": 0.0, \"cumul\": 396.58}, {\"doy\": \"09-10\", \"month\": 9, \"mm\": 0.0, \"cumul\": 396.58}, {\"doy\": \"09-11\", \"month\": 9, \"mm\": 8.0, \"cumul\": 404.58}, {\"doy\": \"09-12\", \"month\": 9, \"mm\": 8.0, \"cumul\": 412.58}, {\"doy\": \"09-13\", \"month\": 9, \"mm\": 0.0, \"cumul\": 412.58}, {\"doy\": \"09-14\", \"month\": 9, \"mm\": 0.0, \"cumul\": 412.58}, {\"doy\": \"09-15\", \"month\": 9, \"mm\": 0.0, \"cumul\": 412.58}, {\"doy\": \"09-16\", \"month\": 9, \"mm\": 0.0, \"cumul\": 412.58}, {\"doy\": \"09-17\", \"month\": 9, \"mm\": 0.0, \"cumul\": 412.58}, {\"doy\": \"09-18\", \"month\": 9, \"mm\": 0.0, \"cumul\": 412.58}, {\"doy\": \"09-19\", \"month\": 9, \"mm\": 8.0, \"cumul\": 420.58}, {\"doy\": \"09-20\", \"month\": 9, \"mm\": 8.0, \"cumul\": 428.58}, {\"doy\": \"09-21\", \"month\": 9, \"mm\": 16.0, \"cumul\": 444.58}, {\"doy\": \"09-22\", \"month\": 9, \"mm\": 0.0, \"cumul\": 444.58}, {\"doy\": \"09-23\", \"month\": 9, \"mm\": 0.0, \"cumul\": 444.58}, {\"doy\": \"09-24\", \"month\": 9, \"mm\": 0.0, \"cumul\": 444.58}, {\"doy\": \"09-25\", \"month\": 9, \"mm\": 8.0, \"cumul\": 452.58}, {\"doy\": \"09-26\", \"month\": 9, \"mm\": 0.0, \"cumul\": 452.58}, {\"doy\": \"09-27\", \"month\": 9, \"mm\": 0.0, \"cumul\": 452.58}, {\"doy\": \"09-28\", \"month\": 9, \"mm\": 0.0, \"cumul\": 452.58}, {\"doy\": \"09-29\", \"month\": 9, \"mm\": 0.0, \"cumul\": 452.58}, {\"doy\": \"09-30\", \"month\": 9, \"mm\": 0.0, \"cumul\": 452.58}, {\"doy\": \"10-01\", \"month\": 10, \"mm\": 0.0, \"cumul\": 452.58}, {\"doy\": \"10-02\", \"month\": 10, \"mm\": 0.0, \"cumul\": 452.58}, {\"doy\": \"10-03\", \"month\": 10, \"mm\": 0.0, \"cumul\": 452.58}, {\"doy\": \"10-04\", \"month\": 10, \"mm\": 6.0, \"cumul\": 458.58}, {\"doy\": \"10-05\", \"month\": 10, \"mm\": 0.0, \"cumul\": 458.58}, {\"doy\": \"10-06\", \"month\": 10, \"mm\": 0.0, \"cumul\": 458.58}, {\"doy\": \"10-07\", \"month\": 10, \"mm\": 0.0, \"cumul\": 458.58}, {\"doy\": \"10-08\", \"month\": 10, \"mm\": 0.0, \"cumul\": 458.58}, {\"doy\": \"10-09\", \"month\": 10, \"mm\": 6.0, \"cumul\": 464.58}, {\"doy\": \"10-10\", \"month\": 10, \"mm\": 6.0, \"cumul\": 470.58}, {\"doy\": \"10-11\", \"month\": 10, \"mm\": 0.0, \"cumul\": 470.58}, {\"doy\": \"10-12\", \"month\": 10, \"mm\": 0.0, \"cumul\": 470.58}, {\"doy\": \"10-13\", \"month\": 10, \"mm\": 0.0, \"cumul\": 470.58}, {\"doy\": \"10-14\", \"month\": 10, \"mm\": 0.0, \"cumul\": 470.58}, {\"doy\": \"10-15\", \"month\": 10, \"mm\": 0.0, \"cumul\": 470.58}, {\"doy\": \"10-16\", \"month\": 10, \"mm\": 6.0, \"cumul\": 476.58}, {\"doy\": \"10-17\", \"month\": 10, \"mm\": 0.0, \"cumul\": 476.58}, {\"doy\": \"10-18\", \"month\": 10, \"mm\": 0.0, \"cumul\": 476.58}, {\"doy\": \"10-19\", \"month\": 10, \"mm\": 0.0, \"cumul\": 476.58}, {\"doy\": \"10-20\", \"month\": 10, \"mm\": 0.0, \"cumul\": 476.58}, {\"doy\": \"10-21\", \"month\": 10, \"mm\": 6.0, \"cumul\": 482.58}, {\"doy\": \"10-22\", \"month\": 10, \"mm\": 0.0, \"cumul\": 482.58}, {\"doy\": \"10-23\", \"month\": 10, \"mm\": 0.0, \"cumul\": 482.58}, {\"doy\": \"10-24\", \"month\": 10, \"mm\": 0.0, \"cumul\": 482.58}, {\"doy\": \"10-25\", \"month\": 10, \"mm\": 6.0, \"cumul\": 488.58}, {\"doy\": \"10-26\", \"month\": 10, \"mm\": 6.0, \"cumul\": 494.58}, {\"doy\": \"10-27\", \"month\": 10, \"mm\": 0.0, \"cumul\": 494.58}, {\"doy\": \"10-28\", \"month\": 10, \"mm\": 6.0, \"cumul\": 500.58}, {\"doy\": \"10-29\", \"month\": 10, \"mm\": 0.0, \"cumul\": 500.58}, {\"doy\": \"10-30\", \"month\": 10, \"mm\": 0.0, \"cumul\": 500.58}, {\"doy\": \"10-31\", \"month\": 10, \"mm\": 0.0, \"cumul\": 500.58}, {\"doy\": \"11-01\", \"month\": 11, \"mm\": 0.0, \"cumul\": 500.58}, {\"doy\": \"11-02\", \"month\": 11, \"mm\": 6.0, \"cumul\": 506.58}, {\"doy\": \"11-03\", \"month\": 11, \"mm\": 6.0, \"cumul\": 512.5799999999999}, {\"doy\": \"11-04\", \"month\": 11, \"mm\": 0.0, \"cumul\": 512.5799999999999}, {\"doy\": \"11-05\", \"month\": 11, \"mm\": 0.0, \"cumul\": 512.5799999999999}, {\"doy\": \"11-06\", \"month\": 11, \"mm\": 0.0, \"cumul\": 512.5799999999999}, {\"doy\": \"11-07\", \"month\": 11, \"mm\": 6.0, \"cumul\": 518.5799999999999}, {\"doy\": \"11-08\", \"month\": 11, \"mm\": 6.0, \"cumul\": 524.5799999999999}, {\"doy\": \"11-09\", \"month\": 11, \"mm\": 0.0, \"cumul\": 524.5799999999999}, {\"doy\": \"11-10\", \"month\": 11, \"mm\": 0.0, \"cumul\": 524.5799999999999}, {\"doy\": \"11-11\", \"month\": 11, \"mm\": 0.0, \"cumul\": 524.5799999999999}, {\"doy\": \"11-12\", \"month\": 11, \"mm\": 0.0, \"cumul\": 524.5799999999999}, {\"doy\": \"11-13\", \"month\": 11, \"mm\": 0.0, \"cumul\": 524.5799999999999}, {\"doy\": \"11-14\", \"month\": 11, \"mm\": 6.0, \"cumul\": 530.5799999999999}, {\"doy\": \"11-15\", \"month\": 11, \"mm\": 0.0, \"cumul\": 530.5799999999999}, {\"doy\": \"11-16\", \"month\": 11, \"mm\": 0.0, \"cumul\": 530.5799999999999}, {\"doy\": \"11-17\", \"month\": 11, \"mm\": 0.0, \"cumul\": 530.5799999999999}, {\"doy\": \"11-18\", \"month\": 11, \"mm\": 6.0, \"cumul\": 536.5799999999999}, {\"doy\": \"11-19\", \"month\": 11, \"mm\": 0.0, \"cumul\": 536.5799999999999}, {\"doy\": \"11-20\", \"month\": 11, \"mm\": 0.0, \"cumul\": 536.5799999999999}, {\"doy\": \"11-21\", \"month\": 11, \"mm\": 0.0, \"cumul\": 536.5799999999999}, {\"doy\": \"11-22\", \"month\": 11, \"mm\": 0.0, \"cumul\": 536.5799999999999}, {\"doy\": \"11-23\", \"month\": 11, \"mm\": 0.0, \"cumul\": 536.5799999999999}, {\"doy\": \"11-24\", \"month\": 11, \"mm\": 6.0, \"cumul\": 542.5799999999999}, {\"doy\": \"11-25\", \"month\": 11, \"mm\": 6.0, \"cumul\": 548.5799999999999}, {\"doy\": \"11-26\", \"month\": 11, \"mm\": 0.0, \"cumul\": 548.5799999999999}, {\"doy\": \"11-27\", \"month\": 11, \"mm\": 0.0, \"cumul\": 548.5799999999999}, {\"doy\": \"11-28\", \"month\": 11, \"mm\": 0.0, \"cumul\": 548.5799999999999}, {\"doy\": \"11-29\", \"month\": 11, \"mm\": 0.0, \"cumul\": 548.5799999999999}, {\"doy\": \"11-30\", \"month\": 11, \"mm\": 0.0, \"cumul\": 548.5799999999999}, {\"doy\": \"12-01\", \"month\": 12, \"mm\": 0.0, \"cumul\": 548.5799999999999}, {\"doy\": \"12-02\", \"month\": 12, \"mm\": 0.0, \"cumul\": 548.5799999999999}, {\"doy\": \"12-03\", \"month\": 12, \"mm\": 5.0, \"cumul\": 553.5799999999999}, {\"doy\": \"12-04\", \"month\": 12, \"mm\": 0.0, \"cumul\": 553.5799999999999}, {\"doy\": \"12-05\", \"month\": 12, \"mm\": 0.0, \"cumul\": 553.5799999999999}, {\"doy\": \"12-06\", \"month\": 12, \"mm\": 0.0, \"cumul\": 553.5799999999999}, {\"doy\": \"12-07\", \"month\": 12, \"mm\": 5.0, \"cumul\": 558.5799999999999}, {\"doy\": \"12-08\", \"month\": 12, \"mm\": 0.0, \"cumul\": 558.5799999999999}, {\"doy\": \"12-09\", \"month\": 12, \"mm\": 0.0, \"cumul\": 558.5799999999999}, {\"doy\": \"12-10\", \"month\": 12, \"mm\": 0.0, \"cumul\": 558.5799999999999}, {\"doy\": \"12-11\", \"month\": 12, \"mm\": 5.0, \"cumul\": 563.5799999999999}, {\"doy\": \"12-12\", \"month\": 12, \"mm\": 0.0, \"cumul\": 563.5799999999999}, {\"doy\": \"12-13\", \"month\": 12, \"mm\": 0.0, \"cumul\": 563.5799999999999}, {\"doy\": \"12-14\", \"month\": 12, \"mm\": 0.0, \"cumul\": 563.5799999999999}, {\"doy\": \"12-15\", \"month\": 12, \"mm\": 0.0, \"cumul\": 563.5799999999999}, {\"doy\": \"12-16\", \"month\": 12, \"mm\": 0.0, \"cumul\": 563.5799999999999}, {\"doy\": \"12-17\", \"month\": 12, \"mm\": 0.0, \"cumul\": 563.5799999999999}, {\"doy\": \"12-18\", \"month\": 12, \"mm\": 0.0, \"cumul\": 563.5799999999999}, {\"doy\": \"12-19\", \"month\": 12, \"mm\": 0.0, \"cumul\": 563.5799999999999}, {\"doy\": \"12-20\", \"month\": 12, \"mm\": 5.0, \"cumul\": 568.5799999999999}, {\"doy\": \"12-21\", \"month\": 12, \"mm\": 5.0, \"cumul\": 573.5799999999999}, {\"doy\": \"12-22\", \"month\": 12, \"mm\": 0.0, \"cumul\": 573.5799999999999}, {\"doy\": \"12-23\", \"month\": 12, \"mm\": 0.0, \"cumul\": 573.5799999999999}, {\"doy\": \"12-24\", \"month\": 12, \"mm\": 0.0, \"cumul\": 573.5799999999999}, {\"doy\": \"12-25\", \"month\": 12, \"mm\": 0.0, \"cumul\": 573.5799999999999}, {\"doy\": \"12-26\", \"month\": 12, \"mm\": 0.0, \"cumul\": 573.5799999999999}, {\"doy\": \"12-27\", \"month\": 12, \"mm\": 0.0, \"cumul\": 573.5799999999999}, {\"doy\": \"12-28\", \"month\": 12, \"mm\": 0.0, \"cumul\": 573.5799999999999}, {\"doy\": \"12-29\", \"month\": 12, \"mm\": 0.0, \"cumul\": 573.5799999999999}, {\"doy\": \"12-30\", \"month\": 12, \"mm\": 0.0, \"cumul\": 573.5799999999999}, {\"doy\": \"12-31\", \"month\": 12, \"mm\": 0.0, \"cumul\": 573.5799999999999}]}}, {\"mode\": \"vega-lite\"});\n",
       "</script>"
      ],
      "text/plain": [
       "alt.Chart(...)"
      ]
     },
     "execution_count": 89,
     "metadata": {},
     "output_type": "execute_result"
    }
   ],
   "source": [
    "precipitations['cumul']=np.cumsum(precipitations.mm)\n",
    "alt.Chart(precipitations).mark_area(\n",
    "    color=\"lightblue\",\n",
    "    interpolate='step-after',\n",
    "    line=True\n",
    ").encode(\n",
    "    x=alt.X('doy', title = \"Jour de l'année\", axis = alt.Axis(labelOpacity=0)),\n",
    "    y=alt.Y('cumul', title = \"Pluie cumulée depuis le début de l'année\")\n",
    ").properties(width=600)"
   ]
  },
  {
   "attachments": {},
   "cell_type": "markdown",
   "metadata": {},
   "source": [
    "Et maintenant regardons les besoins."
   ]
  },
  {
   "cell_type": "code",
   "execution_count": null,
   "metadata": {},
   "outputs": [],
   "source": [
    "besoins = pd.read_csv('../../../data/consommation_potager.csv', sep=',')"
   ]
  },
  {
   "attachments": {},
   "cell_type": "markdown",
   "metadata": {},
   "source": [
    "Quels sont les besoins totaux ? "
   ]
  },
  {
   "cell_type": "code",
   "execution_count": null,
   "metadata": {},
   "outputs": [
    {
     "name": "stdout",
     "output_type": "stream",
     "text": [
      "81677.0\n"
     ]
    }
   ],
   "source": [
    "print(np.sum(besoins['conso_potager']*100)) \n"
   ]
  },
  {
   "attachments": {},
   "cell_type": "markdown",
   "metadata": {},
   "source": [
    "Le potager a donc besoin, en tout, de 82 $m^3$ au cours d'une année. \n",
    "Mais une partie de ces besoins est fournie par la pluie, lorsqu'elle tombe. \n",
    "\n",
    "En première approximation, considérons qu'à chaque fois qu'il pleut les besoins sont nuls pour la journée, sans influer sur ceux du lendemain. \n"
   ]
  },
  {
   "cell_type": "code",
   "execution_count": null,
   "metadata": {},
   "outputs": [
    {
     "data": {
      "text/html": [
       "<div>\n",
       "<style scoped>\n",
       "    .dataframe tbody tr th:only-of-type {\n",
       "        vertical-align: middle;\n",
       "    }\n",
       "\n",
       "    .dataframe tbody tr th {\n",
       "        vertical-align: top;\n",
       "    }\n",
       "\n",
       "    .dataframe thead th {\n",
       "        text-align: right;\n",
       "    }\n",
       "</style>\n",
       "<table border=\"1\" class=\"dataframe\">\n",
       "  <thead>\n",
       "    <tr style=\"text-align: right;\">\n",
       "      <th></th>\n",
       "      <th>doy</th>\n",
       "      <th>month</th>\n",
       "      <th>mm</th>\n",
       "      <th>cumul</th>\n",
       "      <th>julianDay</th>\n",
       "      <th>conso_potager</th>\n",
       "      <th>conso_paillage</th>\n",
       "    </tr>\n",
       "  </thead>\n",
       "  <tbody>\n",
       "    <tr>\n",
       "      <th>0</th>\n",
       "      <td>01-01</td>\n",
       "      <td>1</td>\n",
       "      <td>0.0</td>\n",
       "      <td>0.0</td>\n",
       "      <td>1</td>\n",
       "      <td>0.0</td>\n",
       "      <td>0.0</td>\n",
       "    </tr>\n",
       "    <tr>\n",
       "      <th>1</th>\n",
       "      <td>01-02</td>\n",
       "      <td>1</td>\n",
       "      <td>0.0</td>\n",
       "      <td>0.0</td>\n",
       "      <td>2</td>\n",
       "      <td>0.0</td>\n",
       "      <td>0.0</td>\n",
       "    </tr>\n",
       "    <tr>\n",
       "      <th>2</th>\n",
       "      <td>01-03</td>\n",
       "      <td>1</td>\n",
       "      <td>0.0</td>\n",
       "      <td>0.0</td>\n",
       "      <td>3</td>\n",
       "      <td>0.0</td>\n",
       "      <td>0.0</td>\n",
       "    </tr>\n",
       "    <tr>\n",
       "      <th>3</th>\n",
       "      <td>01-04</td>\n",
       "      <td>1</td>\n",
       "      <td>0.0</td>\n",
       "      <td>0.0</td>\n",
       "      <td>4</td>\n",
       "      <td>0.0</td>\n",
       "      <td>0.0</td>\n",
       "    </tr>\n",
       "    <tr>\n",
       "      <th>4</th>\n",
       "      <td>01-05</td>\n",
       "      <td>1</td>\n",
       "      <td>0.0</td>\n",
       "      <td>0.0</td>\n",
       "      <td>5</td>\n",
       "      <td>0.0</td>\n",
       "      <td>0.0</td>\n",
       "    </tr>\n",
       "  </tbody>\n",
       "</table>\n",
       "</div>"
      ],
      "text/plain": [
       "     doy  month   mm  cumul  julianDay  conso_potager  conso_paillage\n",
       "0  01-01      1  0.0    0.0          1            0.0             0.0\n",
       "1  01-02      1  0.0    0.0          2            0.0             0.0\n",
       "2  01-03      1  0.0    0.0          3            0.0             0.0\n",
       "3  01-04      1  0.0    0.0          4            0.0             0.0\n",
       "4  01-05      1  0.0    0.0          5            0.0             0.0"
      ]
     },
     "execution_count": 92,
     "metadata": {},
     "output_type": "execute_result"
    }
   ],
   "source": [
    "df = pd.merge(precipitations, besoins, on='doy')\n",
    "df.head()"
   ]
  },
  {
   "cell_type": "code",
   "execution_count": null,
   "metadata": {},
   "outputs": [
    {
     "name": "stderr",
     "output_type": "stream",
     "text": [
      "/var/folders/x9/h8vwd75d3352d6ngzx4sqgj00000gn/T/ipykernel_838/2816986552.py:2: SettingWithCopyWarning: \n",
      "A value is trying to be set on a copy of a slice from a DataFrame\n",
      "\n",
      "See the caveats in the documentation: https://pandas.pydata.org/pandas-docs/stable/user_guide/indexing.html#returning-a-view-versus-a-copy\n",
      "  df.irrigationSurfacique[df['irrigationSurfacique']<0]=0\n"
     ]
    }
   ],
   "source": [
    "df['irrigationSurfacique'] = df.conso_potager - df.mm\n",
    "df.irrigationSurfacique[df['irrigationSurfacique']<0]=0"
   ]
  },
  {
   "cell_type": "code",
   "execution_count": null,
   "metadata": {},
   "outputs": [
    {
     "data": {
      "text/html": [
       "\n",
       "<div id=\"altair-viz-c0ff3a55c2934315aeb31c79af89c245\"></div>\n",
       "<script type=\"text/javascript\">\n",
       "  var VEGA_DEBUG = (typeof VEGA_DEBUG == \"undefined\") ? {} : VEGA_DEBUG;\n",
       "  (function(spec, embedOpt){\n",
       "    let outputDiv = document.currentScript.previousElementSibling;\n",
       "    if (outputDiv.id !== \"altair-viz-c0ff3a55c2934315aeb31c79af89c245\") {\n",
       "      outputDiv = document.getElementById(\"altair-viz-c0ff3a55c2934315aeb31c79af89c245\");\n",
       "    }\n",
       "    const paths = {\n",
       "      \"vega\": \"https://cdn.jsdelivr.net/npm//vega@5?noext\",\n",
       "      \"vega-lib\": \"https://cdn.jsdelivr.net/npm//vega-lib?noext\",\n",
       "      \"vega-lite\": \"https://cdn.jsdelivr.net/npm//vega-lite@4.17.0?noext\",\n",
       "      \"vega-embed\": \"https://cdn.jsdelivr.net/npm//vega-embed@6?noext\",\n",
       "    };\n",
       "\n",
       "    function maybeLoadScript(lib, version) {\n",
       "      var key = `${lib.replace(\"-\", \"\")}_version`;\n",
       "      return (VEGA_DEBUG[key] == version) ?\n",
       "        Promise.resolve(paths[lib]) :\n",
       "        new Promise(function(resolve, reject) {\n",
       "          var s = document.createElement('script');\n",
       "          document.getElementsByTagName(\"head\")[0].appendChild(s);\n",
       "          s.async = true;\n",
       "          s.onload = () => {\n",
       "            VEGA_DEBUG[key] = version;\n",
       "            return resolve(paths[lib]);\n",
       "          };\n",
       "          s.onerror = () => reject(`Error loading script: ${paths[lib]}`);\n",
       "          s.src = paths[lib];\n",
       "        });\n",
       "    }\n",
       "\n",
       "    function showError(err) {\n",
       "      outputDiv.innerHTML = `<div class=\"error\" style=\"color:red;\">${err}</div>`;\n",
       "      throw err;\n",
       "    }\n",
       "\n",
       "    function displayChart(vegaEmbed) {\n",
       "      vegaEmbed(outputDiv, spec, embedOpt)\n",
       "        .catch(err => showError(`Javascript Error: ${err.message}<br>This usually means there's a typo in your chart specification. See the javascript console for the full traceback.`));\n",
       "    }\n",
       "\n",
       "    if(typeof define === \"function\" && define.amd) {\n",
       "      requirejs.config({paths});\n",
       "      require([\"vega-embed\"], displayChart, err => showError(`Error loading script: ${err.message}`));\n",
       "    } else {\n",
       "      maybeLoadScript(\"vega\", \"5\")\n",
       "        .then(() => maybeLoadScript(\"vega-lite\", \"4.17.0\"))\n",
       "        .then(() => maybeLoadScript(\"vega-embed\", \"6\"))\n",
       "        .catch(showError)\n",
       "        .then(() => displayChart(vegaEmbed));\n",
       "    }\n",
       "  })({\"config\": {\"view\": {\"continuousWidth\": 400, \"continuousHeight\": 300}}, \"data\": {\"name\": \"data-e6ec409f55dcb8716e87a99fbc93c0c4\"}, \"mark\": \"line\", \"encoding\": {\"x\": {\"axis\": {\"labelOpacity\": 0}, \"field\": \"doy\", \"title\": \"Jour de l'ann\\u00e9e\", \"type\": \"nominal\"}, \"y\": {\"field\": \"irrigationSurfacique\", \"title\": \"Besoins en irrigation\", \"type\": \"quantitative\"}}, \"selection\": {\"selector004\": {\"type\": \"interval\", \"bind\": \"scales\", \"encodings\": [\"x\", \"y\"]}}, \"width\": 450, \"$schema\": \"https://vega.github.io/schema/vega-lite/v4.17.0.json\", \"datasets\": {\"data-e6ec409f55dcb8716e87a99fbc93c0c4\": [{\"doy\": \"01-01\", \"month\": 1, \"mm\": 0.0, \"cumul\": 0.0, \"julianDay\": 1, \"conso_potager\": 0.0, \"conso_paillage\": 0.0, \"irrigationSurfacique\": 0.0}, {\"doy\": \"01-02\", \"month\": 1, \"mm\": 0.0, \"cumul\": 0.0, \"julianDay\": 2, \"conso_potager\": 0.0, \"conso_paillage\": 0.0, \"irrigationSurfacique\": 0.0}, {\"doy\": \"01-03\", \"month\": 1, \"mm\": 0.0, \"cumul\": 0.0, \"julianDay\": 3, \"conso_potager\": 0.0, \"conso_paillage\": 0.0, \"irrigationSurfacique\": 0.0}, {\"doy\": \"01-04\", \"month\": 1, \"mm\": 0.0, \"cumul\": 0.0, \"julianDay\": 4, \"conso_potager\": 0.0, \"conso_paillage\": 0.0, \"irrigationSurfacique\": 0.0}, {\"doy\": \"01-05\", \"month\": 1, \"mm\": 0.0, \"cumul\": 0.0, \"julianDay\": 5, \"conso_potager\": 0.0, \"conso_paillage\": 0.0, \"irrigationSurfacique\": 0.0}, {\"doy\": \"01-06\", \"month\": 1, \"mm\": 0.0, \"cumul\": 0.0, \"julianDay\": 6, \"conso_potager\": 0.0, \"conso_paillage\": 0.0, \"irrigationSurfacique\": 0.0}, {\"doy\": \"01-07\", \"month\": 1, \"mm\": 0.0, \"cumul\": 0.0, \"julianDay\": 7, \"conso_potager\": 0.0, \"conso_paillage\": 0.0, \"irrigationSurfacique\": 0.0}, {\"doy\": \"01-08\", \"month\": 1, \"mm\": 0.0, \"cumul\": 0.0, \"julianDay\": 8, \"conso_potager\": 0.0, \"conso_paillage\": 0.0, \"irrigationSurfacique\": 0.0}, {\"doy\": \"01-09\", \"month\": 1, \"mm\": 0.0, \"cumul\": 0.0, \"julianDay\": 9, \"conso_potager\": 0.0, \"conso_paillage\": 0.0, \"irrigationSurfacique\": 0.0}, {\"doy\": \"01-10\", \"month\": 1, \"mm\": 4.43, \"cumul\": 4.43, \"julianDay\": 10, \"conso_potager\": 0.0, \"conso_paillage\": 0.0, \"irrigationSurfacique\": 0.0}, {\"doy\": \"01-11\", \"month\": 1, \"mm\": 4.43, \"cumul\": 8.86, \"julianDay\": 11, \"conso_potager\": 0.0, \"conso_paillage\": 0.0, \"irrigationSurfacique\": 0.0}, {\"doy\": \"01-12\", \"month\": 1, \"mm\": 0.0, \"cumul\": 8.86, \"julianDay\": 12, \"conso_potager\": 0.0, \"conso_paillage\": 0.0, \"irrigationSurfacique\": 0.0}, {\"doy\": \"01-13\", \"month\": 1, \"mm\": 4.43, \"cumul\": 13.29, \"julianDay\": 13, \"conso_potager\": 0.0, \"conso_paillage\": 0.0, \"irrigationSurfacique\": 0.0}, {\"doy\": \"01-14\", \"month\": 1, \"mm\": 4.43, \"cumul\": 17.72, \"julianDay\": 14, \"conso_potager\": 0.0, \"conso_paillage\": 0.0, \"irrigationSurfacique\": 0.0}, {\"doy\": \"01-15\", \"month\": 1, \"mm\": 0.0, \"cumul\": 17.72, \"julianDay\": 15, \"conso_potager\": 0.0, \"conso_paillage\": 0.0, \"irrigationSurfacique\": 0.0}, {\"doy\": \"01-16\", \"month\": 1, \"mm\": 0.0, \"cumul\": 17.72, \"julianDay\": 16, \"conso_potager\": 0.0, \"conso_paillage\": 0.0, \"irrigationSurfacique\": 0.0}, {\"doy\": \"01-17\", \"month\": 1, \"mm\": 4.43, \"cumul\": 22.15, \"julianDay\": 17, \"conso_potager\": 0.0, \"conso_paillage\": 0.0, \"irrigationSurfacique\": 0.0}, {\"doy\": \"01-18\", \"month\": 1, \"mm\": 0.0, \"cumul\": 22.15, \"julianDay\": 18, \"conso_potager\": 0.0, \"conso_paillage\": 0.0, \"irrigationSurfacique\": 0.0}, {\"doy\": \"01-19\", \"month\": 1, \"mm\": 0.0, \"cumul\": 22.15, \"julianDay\": 19, \"conso_potager\": 0.0, \"conso_paillage\": 0.0, \"irrigationSurfacique\": 0.0}, {\"doy\": \"01-20\", \"month\": 1, \"mm\": 0.0, \"cumul\": 22.15, \"julianDay\": 20, \"conso_potager\": 0.0, \"conso_paillage\": 0.0, \"irrigationSurfacique\": 0.0}, {\"doy\": \"01-21\", \"month\": 1, \"mm\": 0.0, \"cumul\": 22.15, \"julianDay\": 21, \"conso_potager\": 0.0, \"conso_paillage\": 0.0, \"irrigationSurfacique\": 0.0}, {\"doy\": \"01-22\", \"month\": 1, \"mm\": 0.0, \"cumul\": 22.15, \"julianDay\": 22, \"conso_potager\": 0.0, \"conso_paillage\": 0.0, \"irrigationSurfacique\": 0.0}, {\"doy\": \"01-23\", \"month\": 1, \"mm\": 0.0, \"cumul\": 22.15, \"julianDay\": 23, \"conso_potager\": 0.0, \"conso_paillage\": 0.0, \"irrigationSurfacique\": 0.0}, {\"doy\": \"01-24\", \"month\": 1, \"mm\": 0.0, \"cumul\": 22.15, \"julianDay\": 24, \"conso_potager\": 0.0, \"conso_paillage\": 0.0, \"irrigationSurfacique\": 0.0}, {\"doy\": \"01-25\", \"month\": 1, \"mm\": 0.0, \"cumul\": 22.15, \"julianDay\": 25, \"conso_potager\": 0.0, \"conso_paillage\": 0.0, \"irrigationSurfacique\": 0.0}, {\"doy\": \"01-26\", \"month\": 1, \"mm\": 4.43, \"cumul\": 26.58, \"julianDay\": 26, \"conso_potager\": 0.0, \"conso_paillage\": 0.0, \"irrigationSurfacique\": 0.0}, {\"doy\": \"01-27\", \"month\": 1, \"mm\": 0.0, \"cumul\": 26.58, \"julianDay\": 27, \"conso_potager\": 0.0, \"conso_paillage\": 0.0, \"irrigationSurfacique\": 0.0}, {\"doy\": \"01-28\", \"month\": 1, \"mm\": 0.0, \"cumul\": 26.58, \"julianDay\": 28, \"conso_potager\": 0.0, \"conso_paillage\": 0.0, \"irrigationSurfacique\": 0.0}, {\"doy\": \"01-29\", \"month\": 1, \"mm\": 0.0, \"cumul\": 26.58, \"julianDay\": 29, \"conso_potager\": 0.0, \"conso_paillage\": 0.0, \"irrigationSurfacique\": 0.0}, {\"doy\": \"01-30\", \"month\": 1, \"mm\": 0.0, \"cumul\": 26.58, \"julianDay\": 30, \"conso_potager\": 0.0, \"conso_paillage\": 0.0, \"irrigationSurfacique\": 0.0}, {\"doy\": \"01-31\", \"month\": 1, \"mm\": 0.0, \"cumul\": 26.58, \"julianDay\": 31, \"conso_potager\": 0.0, \"conso_paillage\": 0.0, \"irrigationSurfacique\": 0.0}, {\"doy\": \"02-01\", \"month\": 2, \"mm\": 0.0, \"cumul\": 26.58, \"julianDay\": 32, \"conso_potager\": 0.0, \"conso_paillage\": 0.0, \"irrigationSurfacique\": 0.0}, {\"doy\": \"02-02\", \"month\": 2, \"mm\": 0.0, \"cumul\": 26.58, \"julianDay\": 33, \"conso_potager\": 0.0, \"conso_paillage\": 0.0, \"irrigationSurfacique\": 0.0}, {\"doy\": \"02-03\", \"month\": 2, \"mm\": 0.0, \"cumul\": 26.58, \"julianDay\": 34, \"conso_potager\": 0.0, \"conso_paillage\": 0.0, \"irrigationSurfacique\": 0.0}, {\"doy\": \"02-04\", \"month\": 2, \"mm\": 0.0, \"cumul\": 26.58, \"julianDay\": 35, \"conso_potager\": 0.0, \"conso_paillage\": 0.0, \"irrigationSurfacique\": 0.0}, {\"doy\": \"02-05\", \"month\": 2, \"mm\": 0.0, \"cumul\": 26.58, \"julianDay\": 36, \"conso_potager\": 0.0, \"conso_paillage\": 0.0, \"irrigationSurfacique\": 0.0}, {\"doy\": \"02-06\", \"month\": 2, \"mm\": 0.0, \"cumul\": 26.58, \"julianDay\": 37, \"conso_potager\": 0.0, \"conso_paillage\": 0.0, \"irrigationSurfacique\": 0.0}, {\"doy\": \"02-07\", \"month\": 2, \"mm\": 0.0, \"cumul\": 26.58, \"julianDay\": 38, \"conso_potager\": 0.0, \"conso_paillage\": 0.0, \"irrigationSurfacique\": 0.0}, {\"doy\": \"02-08\", \"month\": 2, \"mm\": 0.0, \"cumul\": 26.58, \"julianDay\": 39, \"conso_potager\": 0.0, \"conso_paillage\": 0.0, \"irrigationSurfacique\": 0.0}, {\"doy\": \"02-09\", \"month\": 2, \"mm\": 0.0, \"cumul\": 26.58, \"julianDay\": 40, \"conso_potager\": 0.0, \"conso_paillage\": 0.0, \"irrigationSurfacique\": 0.0}, {\"doy\": \"02-10\", \"month\": 2, \"mm\": 0.0, \"cumul\": 26.58, \"julianDay\": 41, \"conso_potager\": 0.0, \"conso_paillage\": 0.0, \"irrigationSurfacique\": 0.0}, {\"doy\": \"02-11\", \"month\": 2, \"mm\": 0.0, \"cumul\": 26.58, \"julianDay\": 42, \"conso_potager\": 0.0, \"conso_paillage\": 0.0, \"irrigationSurfacique\": 0.0}, {\"doy\": \"02-12\", \"month\": 2, \"mm\": 5.0, \"cumul\": 31.58, \"julianDay\": 43, \"conso_potager\": 0.0, \"conso_paillage\": 0.0, \"irrigationSurfacique\": 0.0}, {\"doy\": \"02-13\", \"month\": 2, \"mm\": 0.0, \"cumul\": 31.58, \"julianDay\": 44, \"conso_potager\": 0.0, \"conso_paillage\": 0.0, \"irrigationSurfacique\": 0.0}, {\"doy\": \"02-14\", \"month\": 2, \"mm\": 0.0, \"cumul\": 31.58, \"julianDay\": 45, \"conso_potager\": 0.0, \"conso_paillage\": 0.0, \"irrigationSurfacique\": 0.0}, {\"doy\": \"02-15\", \"month\": 2, \"mm\": 0.0, \"cumul\": 31.58, \"julianDay\": 46, \"conso_potager\": 0.0, \"conso_paillage\": 0.0, \"irrigationSurfacique\": 0.0}, {\"doy\": \"02-16\", \"month\": 2, \"mm\": 5.0, \"cumul\": 36.58, \"julianDay\": 47, \"conso_potager\": 0.0, \"conso_paillage\": 0.0, \"irrigationSurfacique\": 0.0}, {\"doy\": \"02-17\", \"month\": 2, \"mm\": 5.0, \"cumul\": 41.58, \"julianDay\": 48, \"conso_potager\": 0.0, \"conso_paillage\": 0.0, \"irrigationSurfacique\": 0.0}, {\"doy\": \"02-18\", \"month\": 2, \"mm\": 0.0, \"cumul\": 41.58, \"julianDay\": 49, \"conso_potager\": 0.0, \"conso_paillage\": 0.0, \"irrigationSurfacique\": 0.0}, {\"doy\": \"02-19\", \"month\": 2, \"mm\": 0.0, \"cumul\": 41.58, \"julianDay\": 50, \"conso_potager\": 0.0, \"conso_paillage\": 0.0, \"irrigationSurfacique\": 0.0}, {\"doy\": \"02-20\", \"month\": 2, \"mm\": 0.0, \"cumul\": 41.58, \"julianDay\": 51, \"conso_potager\": 0.0, \"conso_paillage\": 0.0, \"irrigationSurfacique\": 0.0}, {\"doy\": \"02-21\", \"month\": 2, \"mm\": 0.0, \"cumul\": 41.58, \"julianDay\": 52, \"conso_potager\": 0.0, \"conso_paillage\": 0.0, \"irrigationSurfacique\": 0.0}, {\"doy\": \"02-22\", \"month\": 2, \"mm\": 0.0, \"cumul\": 41.58, \"julianDay\": 53, \"conso_potager\": 0.0, \"conso_paillage\": 0.0, \"irrigationSurfacique\": 0.0}, {\"doy\": \"02-23\", \"month\": 2, \"mm\": 0.0, \"cumul\": 41.58, \"julianDay\": 54, \"conso_potager\": 0.0, \"conso_paillage\": 0.0, \"irrigationSurfacique\": 0.0}, {\"doy\": \"02-24\", \"month\": 2, \"mm\": 0.0, \"cumul\": 41.58, \"julianDay\": 55, \"conso_potager\": 0.0, \"conso_paillage\": 0.0, \"irrigationSurfacique\": 0.0}, {\"doy\": \"02-25\", \"month\": 2, \"mm\": 0.0, \"cumul\": 41.58, \"julianDay\": 56, \"conso_potager\": 0.0, \"conso_paillage\": 0.0, \"irrigationSurfacique\": 0.0}, {\"doy\": \"02-26\", \"month\": 2, \"mm\": 0.0, \"cumul\": 41.58, \"julianDay\": 57, \"conso_potager\": 0.0, \"conso_paillage\": 0.0, \"irrigationSurfacique\": 0.0}, {\"doy\": \"02-27\", \"month\": 2, \"mm\": 5.0, \"cumul\": 46.58, \"julianDay\": 58, \"conso_potager\": 0.0, \"conso_paillage\": 0.0, \"irrigationSurfacique\": 0.0}, {\"doy\": \"02-28\", \"month\": 2, \"mm\": 5.0, \"cumul\": 51.58, \"julianDay\": 59, \"conso_potager\": 0.0, \"conso_paillage\": 0.0, \"irrigationSurfacique\": 0.0}, {\"doy\": \"03-01\", \"month\": 3, \"mm\": 0.0, \"cumul\": 51.58, \"julianDay\": 60, \"conso_potager\": 0.0, \"conso_paillage\": 0.0, \"irrigationSurfacique\": 0.0}, {\"doy\": \"03-02\", \"month\": 3, \"mm\": 0.0, \"cumul\": 51.58, \"julianDay\": 61, \"conso_potager\": 0.0, \"conso_paillage\": 0.0, \"irrigationSurfacique\": 0.0}, {\"doy\": \"03-03\", \"month\": 3, \"mm\": 0.0, \"cumul\": 51.58, \"julianDay\": 62, \"conso_potager\": 0.0, \"conso_paillage\": 0.0, \"irrigationSurfacique\": 0.0}, {\"doy\": \"03-04\", \"month\": 3, \"mm\": 4.0, \"cumul\": 55.58, \"julianDay\": 63, \"conso_potager\": 0.0, \"conso_paillage\": 0.0, \"irrigationSurfacique\": 0.0}, {\"doy\": \"03-05\", \"month\": 3, \"mm\": 0.0, \"cumul\": 55.58, \"julianDay\": 64, \"conso_potager\": 0.0, \"conso_paillage\": 0.0, \"irrigationSurfacique\": 0.0}, {\"doy\": \"03-06\", \"month\": 3, \"mm\": 0.0, \"cumul\": 55.58, \"julianDay\": 65, \"conso_potager\": 0.0, \"conso_paillage\": 0.0, \"irrigationSurfacique\": 0.0}, {\"doy\": \"03-07\", \"month\": 3, \"mm\": 0.0, \"cumul\": 55.58, \"julianDay\": 66, \"conso_potager\": 0.0, \"conso_paillage\": 0.0, \"irrigationSurfacique\": 0.0}, {\"doy\": \"03-08\", \"month\": 3, \"mm\": 4.0, \"cumul\": 59.58, \"julianDay\": 67, \"conso_potager\": 0.0, \"conso_paillage\": 0.0, \"irrigationSurfacique\": 0.0}, {\"doy\": \"03-09\", \"month\": 3, \"mm\": 0.0, \"cumul\": 59.58, \"julianDay\": 68, \"conso_potager\": 0.0, \"conso_paillage\": 0.0, \"irrigationSurfacique\": 0.0}, {\"doy\": \"03-10\", \"month\": 3, \"mm\": 0.0, \"cumul\": 59.58, \"julianDay\": 69, \"conso_potager\": 0.0, \"conso_paillage\": 0.0, \"irrigationSurfacique\": 0.0}, {\"doy\": \"03-11\", \"month\": 3, \"mm\": 0.0, \"cumul\": 59.58, \"julianDay\": 70, \"conso_potager\": 0.0, \"conso_paillage\": 0.0, \"irrigationSurfacique\": 0.0}, {\"doy\": \"03-12\", \"month\": 3, \"mm\": 0.0, \"cumul\": 59.58, \"julianDay\": 71, \"conso_potager\": 0.0, \"conso_paillage\": 0.0, \"irrigationSurfacique\": 0.0}, {\"doy\": \"03-13\", \"month\": 3, \"mm\": 0.0, \"cumul\": 59.58, \"julianDay\": 72, \"conso_potager\": 0.0, \"conso_paillage\": 0.0, \"irrigationSurfacique\": 0.0}, {\"doy\": \"03-14\", \"month\": 3, \"mm\": 0.0, \"cumul\": 59.58, \"julianDay\": 73, \"conso_potager\": 0.0, \"conso_paillage\": 0.0, \"irrigationSurfacique\": 0.0}, {\"doy\": \"03-15\", \"month\": 3, \"mm\": 0.0, \"cumul\": 59.58, \"julianDay\": 74, \"conso_potager\": 0.0, \"conso_paillage\": 0.0, \"irrigationSurfacique\": 0.0}, {\"doy\": \"03-16\", \"month\": 3, \"mm\": 4.0, \"cumul\": 63.58, \"julianDay\": 75, \"conso_potager\": 0.0, \"conso_paillage\": 0.0, \"irrigationSurfacique\": 0.0}, {\"doy\": \"03-17\", \"month\": 3, \"mm\": 4.0, \"cumul\": 67.58, \"julianDay\": 76, \"conso_potager\": 0.0, \"conso_paillage\": 0.0, \"irrigationSurfacique\": 0.0}, {\"doy\": \"03-18\", \"month\": 3, \"mm\": 0.0, \"cumul\": 67.58, \"julianDay\": 77, \"conso_potager\": 0.0, \"conso_paillage\": 0.0, \"irrigationSurfacique\": 0.0}, {\"doy\": \"03-19\", \"month\": 3, \"mm\": 0.0, \"cumul\": 67.58, \"julianDay\": 78, \"conso_potager\": 0.0, \"conso_paillage\": 0.0, \"irrigationSurfacique\": 0.0}, {\"doy\": \"03-20\", \"month\": 3, \"mm\": 8.0, \"cumul\": 75.58, \"julianDay\": 79, \"conso_potager\": 0.0, \"conso_paillage\": 0.0, \"irrigationSurfacique\": 0.0}, {\"doy\": \"03-21\", \"month\": 3, \"mm\": 0.0, \"cumul\": 75.58, \"julianDay\": 80, \"conso_potager\": 0.0, \"conso_paillage\": 0.0, \"irrigationSurfacique\": 0.0}, {\"doy\": \"03-22\", \"month\": 3, \"mm\": 0.0, \"cumul\": 75.58, \"julianDay\": 81, \"conso_potager\": 0.0, \"conso_paillage\": 0.0, \"irrigationSurfacique\": 0.0}, {\"doy\": \"03-23\", \"month\": 3, \"mm\": 0.0, \"cumul\": 75.58, \"julianDay\": 82, \"conso_potager\": 0.0, \"conso_paillage\": 0.0, \"irrigationSurfacique\": 0.0}, {\"doy\": \"03-24\", \"month\": 3, \"mm\": 0.0, \"cumul\": 75.58, \"julianDay\": 83, \"conso_potager\": 0.0, \"conso_paillage\": 0.0, \"irrigationSurfacique\": 0.0}, {\"doy\": \"03-25\", \"month\": 3, \"mm\": 4.0, \"cumul\": 79.58, \"julianDay\": 84, \"conso_potager\": 0.0, \"conso_paillage\": 0.0, \"irrigationSurfacique\": 0.0}, {\"doy\": \"03-26\", \"month\": 3, \"mm\": 0.0, \"cumul\": 79.58, \"julianDay\": 85, \"conso_potager\": 0.0, \"conso_paillage\": 0.0, \"irrigationSurfacique\": 0.0}, {\"doy\": \"03-27\", \"month\": 3, \"mm\": 0.0, \"cumul\": 79.58, \"julianDay\": 86, \"conso_potager\": 0.0, \"conso_paillage\": 0.0, \"irrigationSurfacique\": 0.0}, {\"doy\": \"03-28\", \"month\": 3, \"mm\": 0.0, \"cumul\": 79.58, \"julianDay\": 87, \"conso_potager\": 0.0, \"conso_paillage\": 0.0, \"irrigationSurfacique\": 0.0}, {\"doy\": \"03-29\", \"month\": 3, \"mm\": 0.0, \"cumul\": 79.58, \"julianDay\": 88, \"conso_potager\": 0.0, \"conso_paillage\": 0.0, \"irrigationSurfacique\": 0.0}, {\"doy\": \"03-30\", \"month\": 3, \"mm\": 0.0, \"cumul\": 79.58, \"julianDay\": 89, \"conso_potager\": 0.0, \"conso_paillage\": 0.0, \"irrigationSurfacique\": 0.0}, {\"doy\": \"03-31\", \"month\": 3, \"mm\": 0.0, \"cumul\": 79.58, \"julianDay\": 90, \"conso_potager\": 0.0, \"conso_paillage\": 0.0, \"irrigationSurfacique\": 0.0}, {\"doy\": \"04-01\", \"month\": 4, \"mm\": 6.0, \"cumul\": 85.58, \"julianDay\": 91, \"conso_potager\": 0.0, \"conso_paillage\": 0.0, \"irrigationSurfacique\": 0.0}, {\"doy\": \"04-02\", \"month\": 4, \"mm\": 0.0, \"cumul\": 85.58, \"julianDay\": 92, \"conso_potager\": 0.0, \"conso_paillage\": 0.0, \"irrigationSurfacique\": 0.0}, {\"doy\": \"04-03\", \"month\": 4, \"mm\": 0.0, \"cumul\": 85.58, \"julianDay\": 93, \"conso_potager\": 0.0, \"conso_paillage\": 0.0, \"irrigationSurfacique\": 0.0}, {\"doy\": \"04-04\", \"month\": 4, \"mm\": 6.0, \"cumul\": 91.58, \"julianDay\": 94, \"conso_potager\": 0.0, \"conso_paillage\": 0.0, \"irrigationSurfacique\": 0.0}, {\"doy\": \"04-05\", \"month\": 4, \"mm\": 0.0, \"cumul\": 91.58, \"julianDay\": 95, \"conso_potager\": 0.0, \"conso_paillage\": 0.0, \"irrigationSurfacique\": 0.0}, {\"doy\": \"04-06\", \"month\": 4, \"mm\": 6.0, \"cumul\": 97.58, \"julianDay\": 96, \"conso_potager\": 0.0, \"conso_paillage\": 0.0, \"irrigationSurfacique\": 0.0}, {\"doy\": \"04-07\", \"month\": 4, \"mm\": 6.0, \"cumul\": 103.58, \"julianDay\": 97, \"conso_potager\": 0.0, \"conso_paillage\": 0.0, \"irrigationSurfacique\": 0.0}, {\"doy\": \"04-08\", \"month\": 4, \"mm\": 0.0, \"cumul\": 103.58, \"julianDay\": 98, \"conso_potager\": 0.0, \"conso_paillage\": 0.0, \"irrigationSurfacique\": 0.0}, {\"doy\": \"04-09\", \"month\": 4, \"mm\": 0.0, \"cumul\": 103.58, \"julianDay\": 99, \"conso_potager\": 0.0, \"conso_paillage\": 0.0, \"irrigationSurfacique\": 0.0}, {\"doy\": \"04-10\", \"month\": 4, \"mm\": 0.0, \"cumul\": 103.58, \"julianDay\": 100, \"conso_potager\": 0.0, \"conso_paillage\": 0.0, \"irrigationSurfacique\": 0.0}, {\"doy\": \"04-11\", \"month\": 4, \"mm\": 0.0, \"cumul\": 103.58, \"julianDay\": 101, \"conso_potager\": 0.0, \"conso_paillage\": 0.0, \"irrigationSurfacique\": 0.0}, {\"doy\": \"04-12\", \"month\": 4, \"mm\": 12.0, \"cumul\": 115.58, \"julianDay\": 102, \"conso_potager\": 0.0, \"conso_paillage\": 0.0, \"irrigationSurfacique\": 0.0}, {\"doy\": \"04-13\", \"month\": 4, \"mm\": 0.0, \"cumul\": 115.58, \"julianDay\": 103, \"conso_potager\": 0.0, \"conso_paillage\": 0.0, \"irrigationSurfacique\": 0.0}, {\"doy\": \"04-14\", \"month\": 4, \"mm\": 0.0, \"cumul\": 115.58, \"julianDay\": 104, \"conso_potager\": 0.0, \"conso_paillage\": 0.0, \"irrigationSurfacique\": 0.0}, {\"doy\": \"04-15\", \"month\": 4, \"mm\": 0.0, \"cumul\": 115.58, \"julianDay\": 105, \"conso_potager\": 0.0, \"conso_paillage\": 0.0, \"irrigationSurfacique\": 0.0}, {\"doy\": \"04-16\", \"month\": 4, \"mm\": 0.0, \"cumul\": 115.58, \"julianDay\": 106, \"conso_potager\": 0.0, \"conso_paillage\": 0.0, \"irrigationSurfacique\": 0.0}, {\"doy\": \"04-17\", \"month\": 4, \"mm\": 0.0, \"cumul\": 115.58, \"julianDay\": 107, \"conso_potager\": 0.0, \"conso_paillage\": 0.0, \"irrigationSurfacique\": 0.0}, {\"doy\": \"04-18\", \"month\": 4, \"mm\": 0.0, \"cumul\": 115.58, \"julianDay\": 108, \"conso_potager\": 0.0, \"conso_paillage\": 0.0, \"irrigationSurfacique\": 0.0}, {\"doy\": \"04-19\", \"month\": 4, \"mm\": 0.0, \"cumul\": 115.58, \"julianDay\": 109, \"conso_potager\": 0.0, \"conso_paillage\": 0.0, \"irrigationSurfacique\": 0.0}, {\"doy\": \"04-20\", \"month\": 4, \"mm\": 0.0, \"cumul\": 115.58, \"julianDay\": 110, \"conso_potager\": 0.0, \"conso_paillage\": 0.0, \"irrigationSurfacique\": 0.0}, {\"doy\": \"04-21\", \"month\": 4, \"mm\": 0.0, \"cumul\": 115.58, \"julianDay\": 111, \"conso_potager\": 0.0, \"conso_paillage\": 0.0, \"irrigationSurfacique\": 0.0}, {\"doy\": \"04-22\", \"month\": 4, \"mm\": 0.0, \"cumul\": 115.58, \"julianDay\": 112, \"conso_potager\": 0.0, \"conso_paillage\": 0.0, \"irrigationSurfacique\": 0.0}, {\"doy\": \"04-23\", \"month\": 4, \"mm\": 0.0, \"cumul\": 115.58, \"julianDay\": 113, \"conso_potager\": 0.0, \"conso_paillage\": 0.0, \"irrigationSurfacique\": 0.0}, {\"doy\": \"04-24\", \"month\": 4, \"mm\": 6.0, \"cumul\": 121.58, \"julianDay\": 114, \"conso_potager\": 0.0, \"conso_paillage\": 0.0, \"irrigationSurfacique\": 0.0}, {\"doy\": \"04-25\", \"month\": 4, \"mm\": 6.0, \"cumul\": 127.58, \"julianDay\": 115, \"conso_potager\": 0.0, \"conso_paillage\": 0.0, \"irrigationSurfacique\": 0.0}, {\"doy\": \"04-26\", \"month\": 4, \"mm\": 0.0, \"cumul\": 127.58, \"julianDay\": 116, \"conso_potager\": 0.0, \"conso_paillage\": 0.0, \"irrigationSurfacique\": 0.0}, {\"doy\": \"04-27\", \"month\": 4, \"mm\": 0.0, \"cumul\": 127.58, \"julianDay\": 117, \"conso_potager\": 0.0, \"conso_paillage\": 0.0, \"irrigationSurfacique\": 0.0}, {\"doy\": \"04-28\", \"month\": 4, \"mm\": 0.0, \"cumul\": 127.58, \"julianDay\": 118, \"conso_potager\": 0.0, \"conso_paillage\": 0.0, \"irrigationSurfacique\": 0.0}, {\"doy\": \"04-29\", \"month\": 4, \"mm\": 0.0, \"cumul\": 127.58, \"julianDay\": 119, \"conso_potager\": 0.0, \"conso_paillage\": 0.0, \"irrigationSurfacique\": 0.0}, {\"doy\": \"04-30\", \"month\": 4, \"mm\": 0.0, \"cumul\": 127.58, \"julianDay\": 120, \"conso_potager\": 0.0, \"conso_paillage\": 0.0, \"irrigationSurfacique\": 0.0}, {\"doy\": \"05-01\", \"month\": 5, \"mm\": 0.0, \"cumul\": 127.58, \"julianDay\": 121, \"conso_potager\": 3.33, \"conso_paillage\": 0.8333333333, \"irrigationSurfacique\": 3.33}, {\"doy\": \"05-02\", \"month\": 5, \"mm\": 7.0, \"cumul\": 134.57999999999998, \"julianDay\": 122, \"conso_potager\": 3.33, \"conso_paillage\": 0.8333333333, \"irrigationSurfacique\": 0.0}, {\"doy\": \"05-03\", \"month\": 5, \"mm\": 0.0, \"cumul\": 134.57999999999998, \"julianDay\": 123, \"conso_potager\": 3.33, \"conso_paillage\": 0.8333333333, \"irrigationSurfacique\": 3.33}, {\"doy\": \"05-04\", \"month\": 5, \"mm\": 14.0, \"cumul\": 148.57999999999998, \"julianDay\": 124, \"conso_potager\": 3.33, \"conso_paillage\": 0.8333333333, \"irrigationSurfacique\": 0.0}, {\"doy\": \"05-05\", \"month\": 5, \"mm\": 0.0, \"cumul\": 148.57999999999998, \"julianDay\": 125, \"conso_potager\": 3.33, \"conso_paillage\": 0.8333333333, \"irrigationSurfacique\": 3.33}, {\"doy\": \"05-06\", \"month\": 5, \"mm\": 0.0, \"cumul\": 148.57999999999998, \"julianDay\": 126, \"conso_potager\": 3.33, \"conso_paillage\": 0.8333333333, \"irrigationSurfacique\": 3.33}, {\"doy\": \"05-07\", \"month\": 5, \"mm\": 0.0, \"cumul\": 148.57999999999998, \"julianDay\": 127, \"conso_potager\": 3.33, \"conso_paillage\": 0.8333333333, \"irrigationSurfacique\": 3.33}, {\"doy\": \"05-08\", \"month\": 5, \"mm\": 7.0, \"cumul\": 155.57999999999998, \"julianDay\": 128, \"conso_potager\": 3.33, \"conso_paillage\": 0.8333333333, \"irrigationSurfacique\": 0.0}, {\"doy\": \"05-09\", \"month\": 5, \"mm\": 0.0, \"cumul\": 155.57999999999998, \"julianDay\": 129, \"conso_potager\": 3.33, \"conso_paillage\": 0.8333333333, \"irrigationSurfacique\": 3.33}, {\"doy\": \"05-10\", \"month\": 5, \"mm\": 0.0, \"cumul\": 155.57999999999998, \"julianDay\": 130, \"conso_potager\": 3.33, \"conso_paillage\": 0.8333333333, \"irrigationSurfacique\": 3.33}, {\"doy\": \"05-11\", \"month\": 5, \"mm\": 7.0, \"cumul\": 162.57999999999998, \"julianDay\": 131, \"conso_potager\": 3.33, \"conso_paillage\": 0.8333333333, \"irrigationSurfacique\": 0.0}, {\"doy\": \"05-12\", \"month\": 5, \"mm\": 0.0, \"cumul\": 162.57999999999998, \"julianDay\": 132, \"conso_potager\": 3.33, \"conso_paillage\": 0.8333333333, \"irrigationSurfacique\": 3.33}, {\"doy\": \"05-13\", \"month\": 5, \"mm\": 0.0, \"cumul\": 162.57999999999998, \"julianDay\": 133, \"conso_potager\": 3.33, \"conso_paillage\": 0.8333333333, \"irrigationSurfacique\": 3.33}, {\"doy\": \"05-14\", \"month\": 5, \"mm\": 0.0, \"cumul\": 162.57999999999998, \"julianDay\": 134, \"conso_potager\": 3.33, \"conso_paillage\": 0.8333333333, \"irrigationSurfacique\": 3.33}, {\"doy\": \"05-15\", \"month\": 5, \"mm\": 7.0, \"cumul\": 169.57999999999998, \"julianDay\": 135, \"conso_potager\": 3.33, \"conso_paillage\": 0.8333333333, \"irrigationSurfacique\": 0.0}, {\"doy\": \"05-16\", \"month\": 5, \"mm\": 0.0, \"cumul\": 169.57999999999998, \"julianDay\": 136, \"conso_potager\": 3.33, \"conso_paillage\": 0.8333333333, \"irrigationSurfacique\": 3.33}, {\"doy\": \"05-17\", \"month\": 5, \"mm\": 0.0, \"cumul\": 169.57999999999998, \"julianDay\": 137, \"conso_potager\": 3.33, \"conso_paillage\": 0.8333333333, \"irrigationSurfacique\": 3.33}, {\"doy\": \"05-18\", \"month\": 5, \"mm\": 0.0, \"cumul\": 169.57999999999998, \"julianDay\": 138, \"conso_potager\": 3.33, \"conso_paillage\": 0.8333333333, \"irrigationSurfacique\": 3.33}, {\"doy\": \"05-19\", \"month\": 5, \"mm\": 0.0, \"cumul\": 169.57999999999998, \"julianDay\": 139, \"conso_potager\": 3.33, \"conso_paillage\": 0.8333333333, \"irrigationSurfacique\": 3.33}, {\"doy\": \"05-20\", \"month\": 5, \"mm\": 7.0, \"cumul\": 176.57999999999998, \"julianDay\": 140, \"conso_potager\": 3.33, \"conso_paillage\": 0.8333333333, \"irrigationSurfacique\": 0.0}, {\"doy\": \"05-21\", \"month\": 5, \"mm\": 0.0, \"cumul\": 176.57999999999998, \"julianDay\": 141, \"conso_potager\": 3.33, \"conso_paillage\": 0.8333333333, \"irrigationSurfacique\": 3.33}, {\"doy\": \"05-22\", \"month\": 5, \"mm\": 7.0, \"cumul\": 183.57999999999998, \"julianDay\": 142, \"conso_potager\": 3.33, \"conso_paillage\": 0.8333333333, \"irrigationSurfacique\": 0.0}, {\"doy\": \"05-23\", \"month\": 5, \"mm\": 0.0, \"cumul\": 183.57999999999998, \"julianDay\": 143, \"conso_potager\": 3.33, \"conso_paillage\": 0.8333333333, \"irrigationSurfacique\": 3.33}, {\"doy\": \"05-24\", \"month\": 5, \"mm\": 0.0, \"cumul\": 183.57999999999998, \"julianDay\": 144, \"conso_potager\": 3.33, \"conso_paillage\": 0.8333333333, \"irrigationSurfacique\": 3.33}, {\"doy\": \"05-25\", \"month\": 5, \"mm\": 0.0, \"cumul\": 183.57999999999998, \"julianDay\": 145, \"conso_potager\": 3.33, \"conso_paillage\": 0.8333333333, \"irrigationSurfacique\": 3.33}, {\"doy\": \"05-26\", \"month\": 5, \"mm\": 0.0, \"cumul\": 183.57999999999998, \"julianDay\": 146, \"conso_potager\": 3.33, \"conso_paillage\": 0.8333333333, \"irrigationSurfacique\": 3.33}, {\"doy\": \"05-27\", \"month\": 5, \"mm\": 7.0, \"cumul\": 190.57999999999998, \"julianDay\": 147, \"conso_potager\": 3.33, \"conso_paillage\": 0.8333333333, \"irrigationSurfacique\": 0.0}, {\"doy\": \"05-28\", \"month\": 5, \"mm\": 7.0, \"cumul\": 197.57999999999998, \"julianDay\": 148, \"conso_potager\": 3.33, \"conso_paillage\": 0.8333333333, \"irrigationSurfacique\": 0.0}, {\"doy\": \"05-29\", \"month\": 5, \"mm\": 0.0, \"cumul\": 197.57999999999998, \"julianDay\": 149, \"conso_potager\": 3.33, \"conso_paillage\": 0.8333333333, \"irrigationSurfacique\": 3.33}, {\"doy\": \"05-30\", \"month\": 5, \"mm\": 0.0, \"cumul\": 197.57999999999998, \"julianDay\": 150, \"conso_potager\": 3.33, \"conso_paillage\": 0.8333333333, \"irrigationSurfacique\": 3.33}, {\"doy\": \"05-31\", \"month\": 5, \"mm\": 0.0, \"cumul\": 197.57999999999998, \"julianDay\": 151, \"conso_potager\": 3.33, \"conso_paillage\": 0.8333333333, \"irrigationSurfacique\": 3.33}, {\"doy\": \"06-01\", \"month\": 6, \"mm\": 0.0, \"cumul\": 197.57999999999998, \"julianDay\": 152, \"conso_potager\": 6.67, \"conso_paillage\": 1.666666667, \"irrigationSurfacique\": 6.67}, {\"doy\": \"06-02\", \"month\": 6, \"mm\": 8.0, \"cumul\": 205.57999999999998, \"julianDay\": 153, \"conso_potager\": 6.67, \"conso_paillage\": 1.666666667, \"irrigationSurfacique\": 0.0}, {\"doy\": \"06-03\", \"month\": 6, \"mm\": 0.0, \"cumul\": 205.57999999999998, \"julianDay\": 154, \"conso_potager\": 6.67, \"conso_paillage\": 1.666666667, \"irrigationSurfacique\": 6.67}, {\"doy\": \"06-04\", \"month\": 6, \"mm\": 0.0, \"cumul\": 205.57999999999998, \"julianDay\": 155, \"conso_potager\": 6.67, \"conso_paillage\": 1.666666667, \"irrigationSurfacique\": 6.67}, {\"doy\": \"06-05\", \"month\": 6, \"mm\": 0.0, \"cumul\": 205.57999999999998, \"julianDay\": 156, \"conso_potager\": 6.67, \"conso_paillage\": 1.666666667, \"irrigationSurfacique\": 6.67}, {\"doy\": \"06-06\", \"month\": 6, \"mm\": 0.0, \"cumul\": 205.57999999999998, \"julianDay\": 157, \"conso_potager\": 6.67, \"conso_paillage\": 1.666666667, \"irrigationSurfacique\": 6.67}, {\"doy\": \"06-07\", \"month\": 6, \"mm\": 8.0, \"cumul\": 213.57999999999998, \"julianDay\": 158, \"conso_potager\": 6.67, \"conso_paillage\": 1.666666667, \"irrigationSurfacique\": 0.0}, {\"doy\": \"06-08\", \"month\": 6, \"mm\": 8.0, \"cumul\": 221.57999999999998, \"julianDay\": 159, \"conso_potager\": 6.67, \"conso_paillage\": 1.666666667, \"irrigationSurfacique\": 0.0}, {\"doy\": \"06-09\", \"month\": 6, \"mm\": 0.0, \"cumul\": 221.57999999999998, \"julianDay\": 160, \"conso_potager\": 6.67, \"conso_paillage\": 1.666666667, \"irrigationSurfacique\": 6.67}, {\"doy\": \"06-10\", \"month\": 6, \"mm\": 0.0, \"cumul\": 221.57999999999998, \"julianDay\": 161, \"conso_potager\": 6.67, \"conso_paillage\": 1.666666667, \"irrigationSurfacique\": 6.67}, {\"doy\": \"06-11\", \"month\": 6, \"mm\": 0.0, \"cumul\": 221.57999999999998, \"julianDay\": 162, \"conso_potager\": 6.67, \"conso_paillage\": 1.666666667, \"irrigationSurfacique\": 6.67}, {\"doy\": \"06-12\", \"month\": 6, \"mm\": 8.0, \"cumul\": 229.57999999999998, \"julianDay\": 163, \"conso_potager\": 6.67, \"conso_paillage\": 1.666666667, \"irrigationSurfacique\": 0.0}, {\"doy\": \"06-13\", \"month\": 6, \"mm\": 8.0, \"cumul\": 237.57999999999998, \"julianDay\": 164, \"conso_potager\": 6.67, \"conso_paillage\": 1.666666667, \"irrigationSurfacique\": 0.0}, {\"doy\": \"06-14\", \"month\": 6, \"mm\": 8.0, \"cumul\": 245.57999999999998, \"julianDay\": 165, \"conso_potager\": 6.67, \"conso_paillage\": 1.666666667, \"irrigationSurfacique\": 0.0}, {\"doy\": \"06-15\", \"month\": 6, \"mm\": 0.0, \"cumul\": 245.57999999999998, \"julianDay\": 166, \"conso_potager\": 6.67, \"conso_paillage\": 1.666666667, \"irrigationSurfacique\": 6.67}, {\"doy\": \"06-16\", \"month\": 6, \"mm\": 0.0, \"cumul\": 245.57999999999998, \"julianDay\": 167, \"conso_potager\": 6.67, \"conso_paillage\": 1.666666667, \"irrigationSurfacique\": 6.67}, {\"doy\": \"06-17\", \"month\": 6, \"mm\": 0.0, \"cumul\": 245.57999999999998, \"julianDay\": 168, \"conso_potager\": 6.67, \"conso_paillage\": 1.666666667, \"irrigationSurfacique\": 6.67}, {\"doy\": \"06-18\", \"month\": 6, \"mm\": 0.0, \"cumul\": 245.57999999999998, \"julianDay\": 169, \"conso_potager\": 6.67, \"conso_paillage\": 1.666666667, \"irrigationSurfacique\": 6.67}, {\"doy\": \"06-19\", \"month\": 6, \"mm\": 0.0, \"cumul\": 245.57999999999998, \"julianDay\": 170, \"conso_potager\": 6.67, \"conso_paillage\": 1.666666667, \"irrigationSurfacique\": 6.67}, {\"doy\": \"06-20\", \"month\": 6, \"mm\": 0.0, \"cumul\": 245.57999999999998, \"julianDay\": 171, \"conso_potager\": 6.67, \"conso_paillage\": 1.666666667, \"irrigationSurfacique\": 6.67}, {\"doy\": \"06-21\", \"month\": 6, \"mm\": 0.0, \"cumul\": 245.57999999999998, \"julianDay\": 172, \"conso_potager\": 6.67, \"conso_paillage\": 1.666666667, \"irrigationSurfacique\": 6.67}, {\"doy\": \"06-22\", \"month\": 6, \"mm\": 0.0, \"cumul\": 245.57999999999998, \"julianDay\": 173, \"conso_potager\": 6.67, \"conso_paillage\": 1.666666667, \"irrigationSurfacique\": 6.67}, {\"doy\": \"06-23\", \"month\": 6, \"mm\": 8.0, \"cumul\": 253.57999999999998, \"julianDay\": 174, \"conso_potager\": 6.67, \"conso_paillage\": 1.666666667, \"irrigationSurfacique\": 0.0}, {\"doy\": \"06-24\", \"month\": 6, \"mm\": 0.0, \"cumul\": 253.57999999999998, \"julianDay\": 175, \"conso_potager\": 6.67, \"conso_paillage\": 1.666666667, \"irrigationSurfacique\": 6.67}, {\"doy\": \"06-25\", \"month\": 6, \"mm\": 0.0, \"cumul\": 253.57999999999998, \"julianDay\": 176, \"conso_potager\": 6.67, \"conso_paillage\": 1.666666667, \"irrigationSurfacique\": 6.67}, {\"doy\": \"06-26\", \"month\": 6, \"mm\": 0.0, \"cumul\": 253.57999999999998, \"julianDay\": 177, \"conso_potager\": 6.67, \"conso_paillage\": 1.666666667, \"irrigationSurfacique\": 6.67}, {\"doy\": \"06-27\", \"month\": 6, \"mm\": 8.0, \"cumul\": 261.58, \"julianDay\": 178, \"conso_potager\": 6.67, \"conso_paillage\": 1.666666667, \"irrigationSurfacique\": 0.0}, {\"doy\": \"06-28\", \"month\": 6, \"mm\": 0.0, \"cumul\": 261.58, \"julianDay\": 179, \"conso_potager\": 6.67, \"conso_paillage\": 1.666666667, \"irrigationSurfacique\": 6.67}, {\"doy\": \"06-29\", \"month\": 6, \"mm\": 0.0, \"cumul\": 261.58, \"julianDay\": 180, \"conso_potager\": 6.67, \"conso_paillage\": 1.666666667, \"irrigationSurfacique\": 6.67}, {\"doy\": \"06-30\", \"month\": 6, \"mm\": 0.0, \"cumul\": 261.58, \"julianDay\": 181, \"conso_potager\": 6.67, \"conso_paillage\": 1.666666667, \"irrigationSurfacique\": 6.67}, {\"doy\": \"07-01\", \"month\": 7, \"mm\": 0.0, \"cumul\": 261.58, \"julianDay\": 182, \"conso_potager\": 6.67, \"conso_paillage\": 1.666666667, \"irrigationSurfacique\": 6.67}, {\"doy\": \"07-02\", \"month\": 7, \"mm\": 0.0, \"cumul\": 261.58, \"julianDay\": 183, \"conso_potager\": 6.67, \"conso_paillage\": 1.666666667, \"irrigationSurfacique\": 6.67}, {\"doy\": \"07-03\", \"month\": 7, \"mm\": 7.0, \"cumul\": 268.58, \"julianDay\": 184, \"conso_potager\": 6.67, \"conso_paillage\": 1.666666667, \"irrigationSurfacique\": 0.0}, {\"doy\": \"07-04\", \"month\": 7, \"mm\": 0.0, \"cumul\": 268.58, \"julianDay\": 185, \"conso_potager\": 6.67, \"conso_paillage\": 1.666666667, \"irrigationSurfacique\": 6.67}, {\"doy\": \"07-05\", \"month\": 7, \"mm\": 0.0, \"cumul\": 268.58, \"julianDay\": 186, \"conso_potager\": 6.67, \"conso_paillage\": 1.666666667, \"irrigationSurfacique\": 6.67}, {\"doy\": \"07-06\", \"month\": 7, \"mm\": 0.0, \"cumul\": 268.58, \"julianDay\": 187, \"conso_potager\": 6.67, \"conso_paillage\": 1.666666667, \"irrigationSurfacique\": 6.67}, {\"doy\": \"07-07\", \"month\": 7, \"mm\": 7.0, \"cumul\": 275.58, \"julianDay\": 188, \"conso_potager\": 6.67, \"conso_paillage\": 1.666666667, \"irrigationSurfacique\": 0.0}, {\"doy\": \"07-08\", \"month\": 7, \"mm\": 7.0, \"cumul\": 282.58, \"julianDay\": 189, \"conso_potager\": 6.67, \"conso_paillage\": 1.666666667, \"irrigationSurfacique\": 0.0}, {\"doy\": \"07-09\", \"month\": 7, \"mm\": 7.0, \"cumul\": 289.58, \"julianDay\": 190, \"conso_potager\": 6.67, \"conso_paillage\": 1.666666667, \"irrigationSurfacique\": 0.0}, {\"doy\": \"07-10\", \"month\": 7, \"mm\": 0.0, \"cumul\": 289.58, \"julianDay\": 191, \"conso_potager\": 6.67, \"conso_paillage\": 1.666666667, \"irrigationSurfacique\": 6.67}, {\"doy\": \"07-11\", \"month\": 7, \"mm\": 0.0, \"cumul\": 289.58, \"julianDay\": 192, \"conso_potager\": 6.67, \"conso_paillage\": 1.666666667, \"irrigationSurfacique\": 6.67}, {\"doy\": \"07-12\", \"month\": 7, \"mm\": 0.0, \"cumul\": 289.58, \"julianDay\": 193, \"conso_potager\": 6.67, \"conso_paillage\": 1.666666667, \"irrigationSurfacique\": 6.67}, {\"doy\": \"07-13\", \"month\": 7, \"mm\": 0.0, \"cumul\": 289.58, \"julianDay\": 194, \"conso_potager\": 6.67, \"conso_paillage\": 1.666666667, \"irrigationSurfacique\": 6.67}, {\"doy\": \"07-14\", \"month\": 7, \"mm\": 0.0, \"cumul\": 289.58, \"julianDay\": 195, \"conso_potager\": 6.67, \"conso_paillage\": 1.666666667, \"irrigationSurfacique\": 6.67}, {\"doy\": \"07-15\", \"month\": 7, \"mm\": 0.0, \"cumul\": 289.58, \"julianDay\": 196, \"conso_potager\": 6.67, \"conso_paillage\": 1.666666667, \"irrigationSurfacique\": 6.67}, {\"doy\": \"07-16\", \"month\": 7, \"mm\": 0.0, \"cumul\": 289.58, \"julianDay\": 197, \"conso_potager\": 6.67, \"conso_paillage\": 1.666666667, \"irrigationSurfacique\": 6.67}, {\"doy\": \"07-17\", \"month\": 7, \"mm\": 0.0, \"cumul\": 289.58, \"julianDay\": 198, \"conso_potager\": 6.67, \"conso_paillage\": 1.666666667, \"irrigationSurfacique\": 6.67}, {\"doy\": \"07-18\", \"month\": 7, \"mm\": 7.0, \"cumul\": 296.58, \"julianDay\": 199, \"conso_potager\": 6.67, \"conso_paillage\": 1.666666667, \"irrigationSurfacique\": 0.0}, {\"doy\": \"07-19\", \"month\": 7, \"mm\": 0.0, \"cumul\": 296.58, \"julianDay\": 200, \"conso_potager\": 6.67, \"conso_paillage\": 1.666666667, \"irrigationSurfacique\": 6.67}, {\"doy\": \"07-20\", \"month\": 7, \"mm\": 0.0, \"cumul\": 296.58, \"julianDay\": 201, \"conso_potager\": 6.67, \"conso_paillage\": 1.666666667, \"irrigationSurfacique\": 6.67}, {\"doy\": \"07-21\", \"month\": 7, \"mm\": 7.0, \"cumul\": 303.58, \"julianDay\": 202, \"conso_potager\": 6.67, \"conso_paillage\": 1.666666667, \"irrigationSurfacique\": 0.0}, {\"doy\": \"07-22\", \"month\": 7, \"mm\": 7.0, \"cumul\": 310.58, \"julianDay\": 203, \"conso_potager\": 6.67, \"conso_paillage\": 1.666666667, \"irrigationSurfacique\": 0.0}, {\"doy\": \"07-23\", \"month\": 7, \"mm\": 0.0, \"cumul\": 310.58, \"julianDay\": 204, \"conso_potager\": 6.67, \"conso_paillage\": 1.666666667, \"irrigationSurfacique\": 6.67}, {\"doy\": \"07-24\", \"month\": 7, \"mm\": 0.0, \"cumul\": 310.58, \"julianDay\": 205, \"conso_potager\": 6.67, \"conso_paillage\": 1.666666667, \"irrigationSurfacique\": 6.67}, {\"doy\": \"07-25\", \"month\": 7, \"mm\": 0.0, \"cumul\": 310.58, \"julianDay\": 206, \"conso_potager\": 6.67, \"conso_paillage\": 1.666666667, \"irrigationSurfacique\": 6.67}, {\"doy\": \"07-26\", \"month\": 7, \"mm\": 0.0, \"cumul\": 310.58, \"julianDay\": 207, \"conso_potager\": 6.67, \"conso_paillage\": 1.666666667, \"irrigationSurfacique\": 6.67}, {\"doy\": \"07-27\", \"month\": 7, \"mm\": 7.0, \"cumul\": 317.58, \"julianDay\": 208, \"conso_potager\": 6.67, \"conso_paillage\": 1.666666667, \"irrigationSurfacique\": 0.0}, {\"doy\": \"07-28\", \"month\": 7, \"mm\": 0.0, \"cumul\": 317.58, \"julianDay\": 209, \"conso_potager\": 6.67, \"conso_paillage\": 1.666666667, \"irrigationSurfacique\": 6.67}, {\"doy\": \"07-29\", \"month\": 7, \"mm\": 0.0, \"cumul\": 317.58, \"julianDay\": 210, \"conso_potager\": 6.67, \"conso_paillage\": 1.666666667, \"irrigationSurfacique\": 6.67}, {\"doy\": \"07-30\", \"month\": 7, \"mm\": 7.0, \"cumul\": 324.58, \"julianDay\": 211, \"conso_potager\": 6.67, \"conso_paillage\": 1.666666667, \"irrigationSurfacique\": 0.0}, {\"doy\": \"07-31\", \"month\": 7, \"mm\": 0.0, \"cumul\": 324.58, \"julianDay\": 212, \"conso_potager\": 6.67, \"conso_paillage\": 1.666666667, \"irrigationSurfacique\": 6.67}, {\"doy\": \"08-01\", \"month\": 8, \"mm\": 0.0, \"cumul\": 324.58, \"julianDay\": 213, \"conso_potager\": 6.67, \"conso_paillage\": 1.666666667, \"irrigationSurfacique\": 6.67}, {\"doy\": \"08-02\", \"month\": 8, \"mm\": 0.0, \"cumul\": 324.58, \"julianDay\": 214, \"conso_potager\": 6.67, \"conso_paillage\": 1.666666667, \"irrigationSurfacique\": 6.67}, {\"doy\": \"08-03\", \"month\": 8, \"mm\": 8.0, \"cumul\": 332.58, \"julianDay\": 215, \"conso_potager\": 6.67, \"conso_paillage\": 1.666666667, \"irrigationSurfacique\": 0.0}, {\"doy\": \"08-04\", \"month\": 8, \"mm\": 0.0, \"cumul\": 332.58, \"julianDay\": 216, \"conso_potager\": 6.67, \"conso_paillage\": 1.666666667, \"irrigationSurfacique\": 6.67}, {\"doy\": \"08-05\", \"month\": 8, \"mm\": 0.0, \"cumul\": 332.58, \"julianDay\": 217, \"conso_potager\": 6.67, \"conso_paillage\": 1.666666667, \"irrigationSurfacique\": 6.67}, {\"doy\": \"08-06\", \"month\": 8, \"mm\": 0.0, \"cumul\": 332.58, \"julianDay\": 218, \"conso_potager\": 6.67, \"conso_paillage\": 1.666666667, \"irrigationSurfacique\": 6.67}, {\"doy\": \"08-07\", \"month\": 8, \"mm\": 0.0, \"cumul\": 332.58, \"julianDay\": 219, \"conso_potager\": 6.67, \"conso_paillage\": 1.666666667, \"irrigationSurfacique\": 6.67}, {\"doy\": \"08-08\", \"month\": 8, \"mm\": 8.0, \"cumul\": 340.58, \"julianDay\": 220, \"conso_potager\": 6.67, \"conso_paillage\": 1.666666667, \"irrigationSurfacique\": 0.0}, {\"doy\": \"08-09\", \"month\": 8, \"mm\": 8.0, \"cumul\": 348.58, \"julianDay\": 221, \"conso_potager\": 6.67, \"conso_paillage\": 1.666666667, \"irrigationSurfacique\": 0.0}, {\"doy\": \"08-10\", \"month\": 8, \"mm\": 0.0, \"cumul\": 348.58, \"julianDay\": 222, \"conso_potager\": 6.67, \"conso_paillage\": 1.666666667, \"irrigationSurfacique\": 6.67}, {\"doy\": \"08-11\", \"month\": 8, \"mm\": 0.0, \"cumul\": 348.58, \"julianDay\": 223, \"conso_potager\": 6.67, \"conso_paillage\": 1.666666667, \"irrigationSurfacique\": 6.67}, {\"doy\": \"08-12\", \"month\": 8, \"mm\": 0.0, \"cumul\": 348.58, \"julianDay\": 224, \"conso_potager\": 6.67, \"conso_paillage\": 1.666666667, \"irrigationSurfacique\": 6.67}, {\"doy\": \"08-13\", \"month\": 8, \"mm\": 0.0, \"cumul\": 348.58, \"julianDay\": 225, \"conso_potager\": 6.67, \"conso_paillage\": 1.666666667, \"irrigationSurfacique\": 6.67}, {\"doy\": \"08-14\", \"month\": 8, \"mm\": 0.0, \"cumul\": 348.58, \"julianDay\": 226, \"conso_potager\": 6.67, \"conso_paillage\": 1.666666667, \"irrigationSurfacique\": 6.67}, {\"doy\": \"08-15\", \"month\": 8, \"mm\": 16.0, \"cumul\": 364.58, \"julianDay\": 227, \"conso_potager\": 6.67, \"conso_paillage\": 1.666666667, \"irrigationSurfacique\": 0.0}, {\"doy\": \"08-16\", \"month\": 8, \"mm\": 0.0, \"cumul\": 364.58, \"julianDay\": 228, \"conso_potager\": 6.67, \"conso_paillage\": 1.666666667, \"irrigationSurfacique\": 6.67}, {\"doy\": \"08-17\", \"month\": 8, \"mm\": 0.0, \"cumul\": 364.58, \"julianDay\": 229, \"conso_potager\": 6.67, \"conso_paillage\": 1.666666667, \"irrigationSurfacique\": 6.67}, {\"doy\": \"08-18\", \"month\": 8, \"mm\": 0.0, \"cumul\": 364.58, \"julianDay\": 230, \"conso_potager\": 6.67, \"conso_paillage\": 1.666666667, \"irrigationSurfacique\": 6.67}, {\"doy\": \"08-19\", \"month\": 8, \"mm\": 0.0, \"cumul\": 364.58, \"julianDay\": 231, \"conso_potager\": 6.67, \"conso_paillage\": 1.666666667, \"irrigationSurfacique\": 6.67}, {\"doy\": \"08-20\", \"month\": 8, \"mm\": 0.0, \"cumul\": 364.58, \"julianDay\": 232, \"conso_potager\": 6.67, \"conso_paillage\": 1.666666667, \"irrigationSurfacique\": 6.67}, {\"doy\": \"08-21\", \"month\": 8, \"mm\": 8.0, \"cumul\": 372.58, \"julianDay\": 233, \"conso_potager\": 6.67, \"conso_paillage\": 1.666666667, \"irrigationSurfacique\": 0.0}, {\"doy\": \"08-22\", \"month\": 8, \"mm\": 8.0, \"cumul\": 380.58, \"julianDay\": 234, \"conso_potager\": 6.67, \"conso_paillage\": 1.666666667, \"irrigationSurfacique\": 0.0}, {\"doy\": \"08-23\", \"month\": 8, \"mm\": 0.0, \"cumul\": 380.58, \"julianDay\": 235, \"conso_potager\": 6.67, \"conso_paillage\": 1.666666667, \"irrigationSurfacique\": 6.67}, {\"doy\": \"08-24\", \"month\": 8, \"mm\": 0.0, \"cumul\": 380.58, \"julianDay\": 236, \"conso_potager\": 6.67, \"conso_paillage\": 1.666666667, \"irrigationSurfacique\": 6.67}, {\"doy\": \"08-25\", \"month\": 8, \"mm\": 8.0, \"cumul\": 388.58, \"julianDay\": 237, \"conso_potager\": 6.67, \"conso_paillage\": 1.666666667, \"irrigationSurfacique\": 0.0}, {\"doy\": \"08-26\", \"month\": 8, \"mm\": 0.0, \"cumul\": 388.58, \"julianDay\": 238, \"conso_potager\": 6.67, \"conso_paillage\": 1.666666667, \"irrigationSurfacique\": 6.67}, {\"doy\": \"08-27\", \"month\": 8, \"mm\": 0.0, \"cumul\": 388.58, \"julianDay\": 239, \"conso_potager\": 6.67, \"conso_paillage\": 1.666666667, \"irrigationSurfacique\": 6.67}, {\"doy\": \"08-28\", \"month\": 8, \"mm\": 0.0, \"cumul\": 388.58, \"julianDay\": 240, \"conso_potager\": 6.67, \"conso_paillage\": 1.666666667, \"irrigationSurfacique\": 6.67}, {\"doy\": \"08-29\", \"month\": 8, \"mm\": 0.0, \"cumul\": 388.58, \"julianDay\": 241, \"conso_potager\": 6.67, \"conso_paillage\": 1.666666667, \"irrigationSurfacique\": 6.67}, {\"doy\": \"08-30\", \"month\": 8, \"mm\": 0.0, \"cumul\": 388.58, \"julianDay\": 242, \"conso_potager\": 6.67, \"conso_paillage\": 1.666666667, \"irrigationSurfacique\": 6.67}, {\"doy\": \"08-31\", \"month\": 8, \"mm\": 0.0, \"cumul\": 388.58, \"julianDay\": 243, \"conso_potager\": 6.67, \"conso_paillage\": 1.666666667, \"irrigationSurfacique\": 6.67}, {\"doy\": \"09-01\", \"month\": 9, \"mm\": 0.0, \"cumul\": 388.58, \"julianDay\": 244, \"conso_potager\": 3.33, \"conso_paillage\": 0.8333333333, \"irrigationSurfacique\": 3.33}, {\"doy\": \"09-02\", \"month\": 9, \"mm\": 0.0, \"cumul\": 388.58, \"julianDay\": 245, \"conso_potager\": 3.33, \"conso_paillage\": 0.8333333333, \"irrigationSurfacique\": 3.33}, {\"doy\": \"09-03\", \"month\": 9, \"mm\": 8.0, \"cumul\": 396.58, \"julianDay\": 246, \"conso_potager\": 3.33, \"conso_paillage\": 0.8333333333, \"irrigationSurfacique\": 0.0}, {\"doy\": \"09-04\", \"month\": 9, \"mm\": 0.0, \"cumul\": 396.58, \"julianDay\": 247, \"conso_potager\": 3.33, \"conso_paillage\": 0.8333333333, \"irrigationSurfacique\": 3.33}, {\"doy\": \"09-05\", \"month\": 9, \"mm\": 0.0, \"cumul\": 396.58, \"julianDay\": 248, \"conso_potager\": 3.33, \"conso_paillage\": 0.8333333333, \"irrigationSurfacique\": 3.33}, {\"doy\": \"09-06\", \"month\": 9, \"mm\": 0.0, \"cumul\": 396.58, \"julianDay\": 249, \"conso_potager\": 3.33, \"conso_paillage\": 0.8333333333, \"irrigationSurfacique\": 3.33}, {\"doy\": \"09-07\", \"month\": 9, \"mm\": 0.0, \"cumul\": 396.58, \"julianDay\": 250, \"conso_potager\": 3.33, \"conso_paillage\": 0.8333333333, \"irrigationSurfacique\": 3.33}, {\"doy\": \"09-08\", \"month\": 9, \"mm\": 0.0, \"cumul\": 396.58, \"julianDay\": 251, \"conso_potager\": 3.33, \"conso_paillage\": 0.8333333333, \"irrigationSurfacique\": 3.33}, {\"doy\": \"09-09\", \"month\": 9, \"mm\": 0.0, \"cumul\": 396.58, \"julianDay\": 252, \"conso_potager\": 3.33, \"conso_paillage\": 0.8333333333, \"irrigationSurfacique\": 3.33}, {\"doy\": \"09-10\", \"month\": 9, \"mm\": 0.0, \"cumul\": 396.58, \"julianDay\": 253, \"conso_potager\": 3.33, \"conso_paillage\": 0.8333333333, \"irrigationSurfacique\": 3.33}, {\"doy\": \"09-11\", \"month\": 9, \"mm\": 8.0, \"cumul\": 404.58, \"julianDay\": 254, \"conso_potager\": 3.33, \"conso_paillage\": 0.8333333333, \"irrigationSurfacique\": 0.0}, {\"doy\": \"09-12\", \"month\": 9, \"mm\": 8.0, \"cumul\": 412.58, \"julianDay\": 255, \"conso_potager\": 3.33, \"conso_paillage\": 0.8333333333, \"irrigationSurfacique\": 0.0}, {\"doy\": \"09-13\", \"month\": 9, \"mm\": 0.0, \"cumul\": 412.58, \"julianDay\": 256, \"conso_potager\": 3.33, \"conso_paillage\": 0.8333333333, \"irrigationSurfacique\": 3.33}, {\"doy\": \"09-14\", \"month\": 9, \"mm\": 0.0, \"cumul\": 412.58, \"julianDay\": 257, \"conso_potager\": 3.33, \"conso_paillage\": 0.8333333333, \"irrigationSurfacique\": 3.33}, {\"doy\": \"09-15\", \"month\": 9, \"mm\": 0.0, \"cumul\": 412.58, \"julianDay\": 258, \"conso_potager\": 3.33, \"conso_paillage\": 0.8333333333, \"irrigationSurfacique\": 3.33}, {\"doy\": \"09-16\", \"month\": 9, \"mm\": 0.0, \"cumul\": 412.58, \"julianDay\": 259, \"conso_potager\": 3.33, \"conso_paillage\": 0.8333333333, \"irrigationSurfacique\": 3.33}, {\"doy\": \"09-17\", \"month\": 9, \"mm\": 0.0, \"cumul\": 412.58, \"julianDay\": 260, \"conso_potager\": 3.33, \"conso_paillage\": 0.8333333333, \"irrigationSurfacique\": 3.33}, {\"doy\": \"09-18\", \"month\": 9, \"mm\": 0.0, \"cumul\": 412.58, \"julianDay\": 261, \"conso_potager\": 3.33, \"conso_paillage\": 0.8333333333, \"irrigationSurfacique\": 3.33}, {\"doy\": \"09-19\", \"month\": 9, \"mm\": 8.0, \"cumul\": 420.58, \"julianDay\": 262, \"conso_potager\": 3.33, \"conso_paillage\": 0.8333333333, \"irrigationSurfacique\": 0.0}, {\"doy\": \"09-20\", \"month\": 9, \"mm\": 8.0, \"cumul\": 428.58, \"julianDay\": 263, \"conso_potager\": 3.33, \"conso_paillage\": 0.8333333333, \"irrigationSurfacique\": 0.0}, {\"doy\": \"09-21\", \"month\": 9, \"mm\": 16.0, \"cumul\": 444.58, \"julianDay\": 264, \"conso_potager\": 3.33, \"conso_paillage\": 0.8333333333, \"irrigationSurfacique\": 0.0}, {\"doy\": \"09-22\", \"month\": 9, \"mm\": 0.0, \"cumul\": 444.58, \"julianDay\": 265, \"conso_potager\": 3.33, \"conso_paillage\": 0.8333333333, \"irrigationSurfacique\": 3.33}, {\"doy\": \"09-23\", \"month\": 9, \"mm\": 0.0, \"cumul\": 444.58, \"julianDay\": 266, \"conso_potager\": 3.33, \"conso_paillage\": 0.8333333333, \"irrigationSurfacique\": 3.33}, {\"doy\": \"09-24\", \"month\": 9, \"mm\": 0.0, \"cumul\": 444.58, \"julianDay\": 267, \"conso_potager\": 3.33, \"conso_paillage\": 0.8333333333, \"irrigationSurfacique\": 3.33}, {\"doy\": \"09-25\", \"month\": 9, \"mm\": 8.0, \"cumul\": 452.58, \"julianDay\": 268, \"conso_potager\": 3.33, \"conso_paillage\": 0.8333333333, \"irrigationSurfacique\": 0.0}, {\"doy\": \"09-26\", \"month\": 9, \"mm\": 0.0, \"cumul\": 452.58, \"julianDay\": 269, \"conso_potager\": 3.33, \"conso_paillage\": 0.8333333333, \"irrigationSurfacique\": 3.33}, {\"doy\": \"09-27\", \"month\": 9, \"mm\": 0.0, \"cumul\": 452.58, \"julianDay\": 270, \"conso_potager\": 3.33, \"conso_paillage\": 0.8333333333, \"irrigationSurfacique\": 3.33}, {\"doy\": \"09-28\", \"month\": 9, \"mm\": 0.0, \"cumul\": 452.58, \"julianDay\": 271, \"conso_potager\": 3.33, \"conso_paillage\": 0.8333333333, \"irrigationSurfacique\": 3.33}, {\"doy\": \"09-29\", \"month\": 9, \"mm\": 0.0, \"cumul\": 452.58, \"julianDay\": 272, \"conso_potager\": 3.33, \"conso_paillage\": 0.8333333333, \"irrigationSurfacique\": 3.33}, {\"doy\": \"09-30\", \"month\": 9, \"mm\": 0.0, \"cumul\": 452.58, \"julianDay\": 273, \"conso_potager\": 3.33, \"conso_paillage\": 0.8333333333, \"irrigationSurfacique\": 3.33}, {\"doy\": \"10-01\", \"month\": 10, \"mm\": 0.0, \"cumul\": 452.58, \"julianDay\": 274, \"conso_potager\": 0.0, \"conso_paillage\": 0.0, \"irrigationSurfacique\": 0.0}, {\"doy\": \"10-02\", \"month\": 10, \"mm\": 0.0, \"cumul\": 452.58, \"julianDay\": 275, \"conso_potager\": 0.0, \"conso_paillage\": 0.0, \"irrigationSurfacique\": 0.0}, {\"doy\": \"10-03\", \"month\": 10, \"mm\": 0.0, \"cumul\": 452.58, \"julianDay\": 276, \"conso_potager\": 0.0, \"conso_paillage\": 0.0, \"irrigationSurfacique\": 0.0}, {\"doy\": \"10-04\", \"month\": 10, \"mm\": 6.0, \"cumul\": 458.58, \"julianDay\": 277, \"conso_potager\": 0.0, \"conso_paillage\": 0.0, \"irrigationSurfacique\": 0.0}, {\"doy\": \"10-05\", \"month\": 10, \"mm\": 0.0, \"cumul\": 458.58, \"julianDay\": 278, \"conso_potager\": 0.0, \"conso_paillage\": 0.0, \"irrigationSurfacique\": 0.0}, {\"doy\": \"10-06\", \"month\": 10, \"mm\": 0.0, \"cumul\": 458.58, \"julianDay\": 279, \"conso_potager\": 0.0, \"conso_paillage\": 0.0, \"irrigationSurfacique\": 0.0}, {\"doy\": \"10-07\", \"month\": 10, \"mm\": 0.0, \"cumul\": 458.58, \"julianDay\": 280, \"conso_potager\": 0.0, \"conso_paillage\": 0.0, \"irrigationSurfacique\": 0.0}, {\"doy\": \"10-08\", \"month\": 10, \"mm\": 0.0, \"cumul\": 458.58, \"julianDay\": 281, \"conso_potager\": 0.0, \"conso_paillage\": 0.0, \"irrigationSurfacique\": 0.0}, {\"doy\": \"10-09\", \"month\": 10, \"mm\": 6.0, \"cumul\": 464.58, \"julianDay\": 282, \"conso_potager\": 0.0, \"conso_paillage\": 0.0, \"irrigationSurfacique\": 0.0}, {\"doy\": \"10-10\", \"month\": 10, \"mm\": 6.0, \"cumul\": 470.58, \"julianDay\": 283, \"conso_potager\": 0.0, \"conso_paillage\": 0.0, \"irrigationSurfacique\": 0.0}, {\"doy\": \"10-11\", \"month\": 10, \"mm\": 0.0, \"cumul\": 470.58, \"julianDay\": 284, \"conso_potager\": 0.0, \"conso_paillage\": 0.0, \"irrigationSurfacique\": 0.0}, {\"doy\": \"10-12\", \"month\": 10, \"mm\": 0.0, \"cumul\": 470.58, \"julianDay\": 285, \"conso_potager\": 0.0, \"conso_paillage\": 0.0, \"irrigationSurfacique\": 0.0}, {\"doy\": \"10-13\", \"month\": 10, \"mm\": 0.0, \"cumul\": 470.58, \"julianDay\": 286, \"conso_potager\": 0.0, \"conso_paillage\": 0.0, \"irrigationSurfacique\": 0.0}, {\"doy\": \"10-14\", \"month\": 10, \"mm\": 0.0, \"cumul\": 470.58, \"julianDay\": 287, \"conso_potager\": 0.0, \"conso_paillage\": 0.0, \"irrigationSurfacique\": 0.0}, {\"doy\": \"10-15\", \"month\": 10, \"mm\": 0.0, \"cumul\": 470.58, \"julianDay\": 288, \"conso_potager\": 0.0, \"conso_paillage\": 0.0, \"irrigationSurfacique\": 0.0}, {\"doy\": \"10-16\", \"month\": 10, \"mm\": 6.0, \"cumul\": 476.58, \"julianDay\": 289, \"conso_potager\": 0.0, \"conso_paillage\": 0.0, \"irrigationSurfacique\": 0.0}, {\"doy\": \"10-17\", \"month\": 10, \"mm\": 0.0, \"cumul\": 476.58, \"julianDay\": 290, \"conso_potager\": 0.0, \"conso_paillage\": 0.0, \"irrigationSurfacique\": 0.0}, {\"doy\": \"10-18\", \"month\": 10, \"mm\": 0.0, \"cumul\": 476.58, \"julianDay\": 291, \"conso_potager\": 0.0, \"conso_paillage\": 0.0, \"irrigationSurfacique\": 0.0}, {\"doy\": \"10-19\", \"month\": 10, \"mm\": 0.0, \"cumul\": 476.58, \"julianDay\": 292, \"conso_potager\": 0.0, \"conso_paillage\": 0.0, \"irrigationSurfacique\": 0.0}, {\"doy\": \"10-20\", \"month\": 10, \"mm\": 0.0, \"cumul\": 476.58, \"julianDay\": 293, \"conso_potager\": 0.0, \"conso_paillage\": 0.0, \"irrigationSurfacique\": 0.0}, {\"doy\": \"10-21\", \"month\": 10, \"mm\": 6.0, \"cumul\": 482.58, \"julianDay\": 294, \"conso_potager\": 0.0, \"conso_paillage\": 0.0, \"irrigationSurfacique\": 0.0}, {\"doy\": \"10-22\", \"month\": 10, \"mm\": 0.0, \"cumul\": 482.58, \"julianDay\": 295, \"conso_potager\": 0.0, \"conso_paillage\": 0.0, \"irrigationSurfacique\": 0.0}, {\"doy\": \"10-23\", \"month\": 10, \"mm\": 0.0, \"cumul\": 482.58, \"julianDay\": 296, \"conso_potager\": 0.0, \"conso_paillage\": 0.0, \"irrigationSurfacique\": 0.0}, {\"doy\": \"10-24\", \"month\": 10, \"mm\": 0.0, \"cumul\": 482.58, \"julianDay\": 297, \"conso_potager\": 0.0, \"conso_paillage\": 0.0, \"irrigationSurfacique\": 0.0}, {\"doy\": \"10-25\", \"month\": 10, \"mm\": 6.0, \"cumul\": 488.58, \"julianDay\": 298, \"conso_potager\": 0.0, \"conso_paillage\": 0.0, \"irrigationSurfacique\": 0.0}, {\"doy\": \"10-26\", \"month\": 10, \"mm\": 6.0, \"cumul\": 494.58, \"julianDay\": 299, \"conso_potager\": 0.0, \"conso_paillage\": 0.0, \"irrigationSurfacique\": 0.0}, {\"doy\": \"10-27\", \"month\": 10, \"mm\": 0.0, \"cumul\": 494.58, \"julianDay\": 300, \"conso_potager\": 0.0, \"conso_paillage\": 0.0, \"irrigationSurfacique\": 0.0}, {\"doy\": \"10-28\", \"month\": 10, \"mm\": 6.0, \"cumul\": 500.58, \"julianDay\": 301, \"conso_potager\": 0.0, \"conso_paillage\": 0.0, \"irrigationSurfacique\": 0.0}, {\"doy\": \"10-29\", \"month\": 10, \"mm\": 0.0, \"cumul\": 500.58, \"julianDay\": 302, \"conso_potager\": 0.0, \"conso_paillage\": 0.0, \"irrigationSurfacique\": 0.0}, {\"doy\": \"10-30\", \"month\": 10, \"mm\": 0.0, \"cumul\": 500.58, \"julianDay\": 303, \"conso_potager\": 0.0, \"conso_paillage\": 0.0, \"irrigationSurfacique\": 0.0}, {\"doy\": \"10-31\", \"month\": 10, \"mm\": 0.0, \"cumul\": 500.58, \"julianDay\": 304, \"conso_potager\": 0.0, \"conso_paillage\": 0.0, \"irrigationSurfacique\": 0.0}, {\"doy\": \"11-01\", \"month\": 11, \"mm\": 0.0, \"cumul\": 500.58, \"julianDay\": 305, \"conso_potager\": 0.0, \"conso_paillage\": 0.0, \"irrigationSurfacique\": 0.0}, {\"doy\": \"11-02\", \"month\": 11, \"mm\": 6.0, \"cumul\": 506.58, \"julianDay\": 306, \"conso_potager\": 0.0, \"conso_paillage\": 0.0, \"irrigationSurfacique\": 0.0}, {\"doy\": \"11-03\", \"month\": 11, \"mm\": 6.0, \"cumul\": 512.5799999999999, \"julianDay\": 307, \"conso_potager\": 0.0, \"conso_paillage\": 0.0, \"irrigationSurfacique\": 0.0}, {\"doy\": \"11-04\", \"month\": 11, \"mm\": 0.0, \"cumul\": 512.5799999999999, \"julianDay\": 308, \"conso_potager\": 0.0, \"conso_paillage\": 0.0, \"irrigationSurfacique\": 0.0}, {\"doy\": \"11-05\", \"month\": 11, \"mm\": 0.0, \"cumul\": 512.5799999999999, \"julianDay\": 309, \"conso_potager\": 0.0, \"conso_paillage\": 0.0, \"irrigationSurfacique\": 0.0}, {\"doy\": \"11-06\", \"month\": 11, \"mm\": 0.0, \"cumul\": 512.5799999999999, \"julianDay\": 310, \"conso_potager\": 0.0, \"conso_paillage\": 0.0, \"irrigationSurfacique\": 0.0}, {\"doy\": \"11-07\", \"month\": 11, \"mm\": 6.0, \"cumul\": 518.5799999999999, \"julianDay\": 311, \"conso_potager\": 0.0, \"conso_paillage\": 0.0, \"irrigationSurfacique\": 0.0}, {\"doy\": \"11-08\", \"month\": 11, \"mm\": 6.0, \"cumul\": 524.5799999999999, \"julianDay\": 312, \"conso_potager\": 0.0, \"conso_paillage\": 0.0, \"irrigationSurfacique\": 0.0}, {\"doy\": \"11-09\", \"month\": 11, \"mm\": 0.0, \"cumul\": 524.5799999999999, \"julianDay\": 313, \"conso_potager\": 0.0, \"conso_paillage\": 0.0, \"irrigationSurfacique\": 0.0}, {\"doy\": \"11-10\", \"month\": 11, \"mm\": 0.0, \"cumul\": 524.5799999999999, \"julianDay\": 314, \"conso_potager\": 0.0, \"conso_paillage\": 0.0, \"irrigationSurfacique\": 0.0}, {\"doy\": \"11-11\", \"month\": 11, \"mm\": 0.0, \"cumul\": 524.5799999999999, \"julianDay\": 315, \"conso_potager\": 0.0, \"conso_paillage\": 0.0, \"irrigationSurfacique\": 0.0}, {\"doy\": \"11-12\", \"month\": 11, \"mm\": 0.0, \"cumul\": 524.5799999999999, \"julianDay\": 316, \"conso_potager\": 0.0, \"conso_paillage\": 0.0, \"irrigationSurfacique\": 0.0}, {\"doy\": \"11-13\", \"month\": 11, \"mm\": 0.0, \"cumul\": 524.5799999999999, \"julianDay\": 317, \"conso_potager\": 0.0, \"conso_paillage\": 0.0, \"irrigationSurfacique\": 0.0}, {\"doy\": \"11-14\", \"month\": 11, \"mm\": 6.0, \"cumul\": 530.5799999999999, \"julianDay\": 318, \"conso_potager\": 0.0, \"conso_paillage\": 0.0, \"irrigationSurfacique\": 0.0}, {\"doy\": \"11-15\", \"month\": 11, \"mm\": 0.0, \"cumul\": 530.5799999999999, \"julianDay\": 319, \"conso_potager\": 0.0, \"conso_paillage\": 0.0, \"irrigationSurfacique\": 0.0}, {\"doy\": \"11-16\", \"month\": 11, \"mm\": 0.0, \"cumul\": 530.5799999999999, \"julianDay\": 320, \"conso_potager\": 0.0, \"conso_paillage\": 0.0, \"irrigationSurfacique\": 0.0}, {\"doy\": \"11-17\", \"month\": 11, \"mm\": 0.0, \"cumul\": 530.5799999999999, \"julianDay\": 321, \"conso_potager\": 0.0, \"conso_paillage\": 0.0, \"irrigationSurfacique\": 0.0}, {\"doy\": \"11-18\", \"month\": 11, \"mm\": 6.0, \"cumul\": 536.5799999999999, \"julianDay\": 322, \"conso_potager\": 0.0, \"conso_paillage\": 0.0, \"irrigationSurfacique\": 0.0}, {\"doy\": \"11-19\", \"month\": 11, \"mm\": 0.0, \"cumul\": 536.5799999999999, \"julianDay\": 323, \"conso_potager\": 0.0, \"conso_paillage\": 0.0, \"irrigationSurfacique\": 0.0}, {\"doy\": \"11-20\", \"month\": 11, \"mm\": 0.0, \"cumul\": 536.5799999999999, \"julianDay\": 324, \"conso_potager\": 0.0, \"conso_paillage\": 0.0, \"irrigationSurfacique\": 0.0}, {\"doy\": \"11-21\", \"month\": 11, \"mm\": 0.0, \"cumul\": 536.5799999999999, \"julianDay\": 325, \"conso_potager\": 0.0, \"conso_paillage\": 0.0, \"irrigationSurfacique\": 0.0}, {\"doy\": \"11-22\", \"month\": 11, \"mm\": 0.0, \"cumul\": 536.5799999999999, \"julianDay\": 326, \"conso_potager\": 0.0, \"conso_paillage\": 0.0, \"irrigationSurfacique\": 0.0}, {\"doy\": \"11-23\", \"month\": 11, \"mm\": 0.0, \"cumul\": 536.5799999999999, \"julianDay\": 327, \"conso_potager\": 0.0, \"conso_paillage\": 0.0, \"irrigationSurfacique\": 0.0}, {\"doy\": \"11-24\", \"month\": 11, \"mm\": 6.0, \"cumul\": 542.5799999999999, \"julianDay\": 328, \"conso_potager\": 0.0, \"conso_paillage\": 0.0, \"irrigationSurfacique\": 0.0}, {\"doy\": \"11-25\", \"month\": 11, \"mm\": 6.0, \"cumul\": 548.5799999999999, \"julianDay\": 329, \"conso_potager\": 0.0, \"conso_paillage\": 0.0, \"irrigationSurfacique\": 0.0}, {\"doy\": \"11-26\", \"month\": 11, \"mm\": 0.0, \"cumul\": 548.5799999999999, \"julianDay\": 330, \"conso_potager\": 0.0, \"conso_paillage\": 0.0, \"irrigationSurfacique\": 0.0}, {\"doy\": \"11-27\", \"month\": 11, \"mm\": 0.0, \"cumul\": 548.5799999999999, \"julianDay\": 331, \"conso_potager\": 0.0, \"conso_paillage\": 0.0, \"irrigationSurfacique\": 0.0}, {\"doy\": \"11-28\", \"month\": 11, \"mm\": 0.0, \"cumul\": 548.5799999999999, \"julianDay\": 332, \"conso_potager\": 0.0, \"conso_paillage\": 0.0, \"irrigationSurfacique\": 0.0}, {\"doy\": \"11-29\", \"month\": 11, \"mm\": 0.0, \"cumul\": 548.5799999999999, \"julianDay\": 333, \"conso_potager\": 0.0, \"conso_paillage\": 0.0, \"irrigationSurfacique\": 0.0}, {\"doy\": \"11-30\", \"month\": 11, \"mm\": 0.0, \"cumul\": 548.5799999999999, \"julianDay\": 334, \"conso_potager\": 0.0, \"conso_paillage\": 0.0, \"irrigationSurfacique\": 0.0}, {\"doy\": \"12-01\", \"month\": 12, \"mm\": 0.0, \"cumul\": 548.5799999999999, \"julianDay\": 335, \"conso_potager\": 0.0, \"conso_paillage\": 0.0, \"irrigationSurfacique\": 0.0}, {\"doy\": \"12-02\", \"month\": 12, \"mm\": 0.0, \"cumul\": 548.5799999999999, \"julianDay\": 336, \"conso_potager\": 0.0, \"conso_paillage\": 0.0, \"irrigationSurfacique\": 0.0}, {\"doy\": \"12-03\", \"month\": 12, \"mm\": 5.0, \"cumul\": 553.5799999999999, \"julianDay\": 337, \"conso_potager\": 0.0, \"conso_paillage\": 0.0, \"irrigationSurfacique\": 0.0}, {\"doy\": \"12-04\", \"month\": 12, \"mm\": 0.0, \"cumul\": 553.5799999999999, \"julianDay\": 338, \"conso_potager\": 0.0, \"conso_paillage\": 0.0, \"irrigationSurfacique\": 0.0}, {\"doy\": \"12-05\", \"month\": 12, \"mm\": 0.0, \"cumul\": 553.5799999999999, \"julianDay\": 339, \"conso_potager\": 0.0, \"conso_paillage\": 0.0, \"irrigationSurfacique\": 0.0}, {\"doy\": \"12-06\", \"month\": 12, \"mm\": 0.0, \"cumul\": 553.5799999999999, \"julianDay\": 340, \"conso_potager\": 0.0, \"conso_paillage\": 0.0, \"irrigationSurfacique\": 0.0}, {\"doy\": \"12-07\", \"month\": 12, \"mm\": 5.0, \"cumul\": 558.5799999999999, \"julianDay\": 341, \"conso_potager\": 0.0, \"conso_paillage\": 0.0, \"irrigationSurfacique\": 0.0}, {\"doy\": \"12-08\", \"month\": 12, \"mm\": 0.0, \"cumul\": 558.5799999999999, \"julianDay\": 342, \"conso_potager\": 0.0, \"conso_paillage\": 0.0, \"irrigationSurfacique\": 0.0}, {\"doy\": \"12-09\", \"month\": 12, \"mm\": 0.0, \"cumul\": 558.5799999999999, \"julianDay\": 343, \"conso_potager\": 0.0, \"conso_paillage\": 0.0, \"irrigationSurfacique\": 0.0}, {\"doy\": \"12-10\", \"month\": 12, \"mm\": 0.0, \"cumul\": 558.5799999999999, \"julianDay\": 344, \"conso_potager\": 0.0, \"conso_paillage\": 0.0, \"irrigationSurfacique\": 0.0}, {\"doy\": \"12-11\", \"month\": 12, \"mm\": 5.0, \"cumul\": 563.5799999999999, \"julianDay\": 345, \"conso_potager\": 0.0, \"conso_paillage\": 0.0, \"irrigationSurfacique\": 0.0}, {\"doy\": \"12-12\", \"month\": 12, \"mm\": 0.0, \"cumul\": 563.5799999999999, \"julianDay\": 346, \"conso_potager\": 0.0, \"conso_paillage\": 0.0, \"irrigationSurfacique\": 0.0}, {\"doy\": \"12-13\", \"month\": 12, \"mm\": 0.0, \"cumul\": 563.5799999999999, \"julianDay\": 347, \"conso_potager\": 0.0, \"conso_paillage\": 0.0, \"irrigationSurfacique\": 0.0}, {\"doy\": \"12-14\", \"month\": 12, \"mm\": 0.0, \"cumul\": 563.5799999999999, \"julianDay\": 348, \"conso_potager\": 0.0, \"conso_paillage\": 0.0, \"irrigationSurfacique\": 0.0}, {\"doy\": \"12-15\", \"month\": 12, \"mm\": 0.0, \"cumul\": 563.5799999999999, \"julianDay\": 349, \"conso_potager\": 0.0, \"conso_paillage\": 0.0, \"irrigationSurfacique\": 0.0}, {\"doy\": \"12-16\", \"month\": 12, \"mm\": 0.0, \"cumul\": 563.5799999999999, \"julianDay\": 350, \"conso_potager\": 0.0, \"conso_paillage\": 0.0, \"irrigationSurfacique\": 0.0}, {\"doy\": \"12-17\", \"month\": 12, \"mm\": 0.0, \"cumul\": 563.5799999999999, \"julianDay\": 351, \"conso_potager\": 0.0, \"conso_paillage\": 0.0, \"irrigationSurfacique\": 0.0}, {\"doy\": \"12-18\", \"month\": 12, \"mm\": 0.0, \"cumul\": 563.5799999999999, \"julianDay\": 352, \"conso_potager\": 0.0, \"conso_paillage\": 0.0, \"irrigationSurfacique\": 0.0}, {\"doy\": \"12-19\", \"month\": 12, \"mm\": 0.0, \"cumul\": 563.5799999999999, \"julianDay\": 353, \"conso_potager\": 0.0, \"conso_paillage\": 0.0, \"irrigationSurfacique\": 0.0}, {\"doy\": \"12-20\", \"month\": 12, \"mm\": 5.0, \"cumul\": 568.5799999999999, \"julianDay\": 354, \"conso_potager\": 0.0, \"conso_paillage\": 0.0, \"irrigationSurfacique\": 0.0}, {\"doy\": \"12-21\", \"month\": 12, \"mm\": 5.0, \"cumul\": 573.5799999999999, \"julianDay\": 355, \"conso_potager\": 0.0, \"conso_paillage\": 0.0, \"irrigationSurfacique\": 0.0}, {\"doy\": \"12-22\", \"month\": 12, \"mm\": 0.0, \"cumul\": 573.5799999999999, \"julianDay\": 356, \"conso_potager\": 0.0, \"conso_paillage\": 0.0, \"irrigationSurfacique\": 0.0}, {\"doy\": \"12-23\", \"month\": 12, \"mm\": 0.0, \"cumul\": 573.5799999999999, \"julianDay\": 357, \"conso_potager\": 0.0, \"conso_paillage\": 0.0, \"irrigationSurfacique\": 0.0}, {\"doy\": \"12-24\", \"month\": 12, \"mm\": 0.0, \"cumul\": 573.5799999999999, \"julianDay\": 358, \"conso_potager\": 0.0, \"conso_paillage\": 0.0, \"irrigationSurfacique\": 0.0}, {\"doy\": \"12-25\", \"month\": 12, \"mm\": 0.0, \"cumul\": 573.5799999999999, \"julianDay\": 359, \"conso_potager\": 0.0, \"conso_paillage\": 0.0, \"irrigationSurfacique\": 0.0}, {\"doy\": \"12-26\", \"month\": 12, \"mm\": 0.0, \"cumul\": 573.5799999999999, \"julianDay\": 360, \"conso_potager\": 0.0, \"conso_paillage\": 0.0, \"irrigationSurfacique\": 0.0}, {\"doy\": \"12-27\", \"month\": 12, \"mm\": 0.0, \"cumul\": 573.5799999999999, \"julianDay\": 361, \"conso_potager\": 0.0, \"conso_paillage\": 0.0, \"irrigationSurfacique\": 0.0}, {\"doy\": \"12-28\", \"month\": 12, \"mm\": 0.0, \"cumul\": 573.5799999999999, \"julianDay\": 362, \"conso_potager\": 0.0, \"conso_paillage\": 0.0, \"irrigationSurfacique\": 0.0}, {\"doy\": \"12-29\", \"month\": 12, \"mm\": 0.0, \"cumul\": 573.5799999999999, \"julianDay\": 363, \"conso_potager\": 0.0, \"conso_paillage\": 0.0, \"irrigationSurfacique\": 0.0}, {\"doy\": \"12-30\", \"month\": 12, \"mm\": 0.0, \"cumul\": 573.5799999999999, \"julianDay\": 364, \"conso_potager\": 0.0, \"conso_paillage\": 0.0, \"irrigationSurfacique\": 0.0}, {\"doy\": \"12-31\", \"month\": 12, \"mm\": 0.0, \"cumul\": 573.5799999999999, \"julianDay\": 365, \"conso_potager\": 0.0, \"conso_paillage\": 0.0, \"irrigationSurfacique\": 0.0}]}}, {\"mode\": \"vega-lite\"});\n",
       "</script>"
      ],
      "text/plain": [
       "alt.Chart(...)"
      ]
     },
     "execution_count": 94,
     "metadata": {},
     "output_type": "execute_result"
    }
   ],
   "source": [
    "alt.Chart(df).mark_line().encode(\n",
    "    x = alt.X('doy', title=\"Jour de l'année\", axis=alt.Axis(labelOpacity=0)),\n",
    "    y = alt.Y('irrigationSurfacique', title=\"Besoins en irrigation\")\n",
    ").properties(width=450).interactive()"
   ]
  },
  {
   "cell_type": "code",
   "execution_count": null,
   "metadata": {},
   "outputs": [],
   "source": [
    "df['besoinsTotaux'] = df.irrigationSurfacique * 100\n",
    "df['apportsTotaux'] = df.mm*200\n",
    "# besoins totaux donne la totalité du besoin pour le potager, soit sur 100 m2"
   ]
  },
  {
   "attachments": {},
   "cell_type": "markdown",
   "metadata": {},
   "source": [
    "On accède donc, via la surface du potager et celle du toit, à l'ensemble des besoins et l'ensemble des apports quotidiens. "
   ]
  },
  {
   "attachments": {},
   "cell_type": "markdown",
   "metadata": {},
   "source": [
    "\n",
    "### Enfin, la cuve"
   ]
  },
  {
   "cell_type": "code",
   "execution_count": null,
   "metadata": {},
   "outputs": [
    {
     "name": "stdout",
     "output_type": "stream",
     "text": [
      "cuve  0 , min =  0 , max =  29186.0\n",
      "****\n",
      "diff =  29186.0\n",
      "****\n",
      "cuve  1000 , min =  1000 , max =  30186.0\n",
      "****\n",
      "diff =  29186.0\n",
      "****\n",
      "cuve  3000 , min =  3000 , max =  32186.0\n",
      "****\n",
      "diff =  29186.0\n",
      "****\n",
      "cuve  20000 , min =  20000 , max =  49186.0\n",
      "****\n",
      "diff =  29186.0\n",
      "****\n",
      "cuve  0 , min =  0 , max =  29186.0\n",
      "****\n",
      "diff =  29186.0\n",
      "****\n"
     ]
    }
   ],
   "source": [
    "cuve = [0]\n",
    "for p in [0, 1000, 3000, 20000, 0]:\n",
    "    cuve = [p]\n",
    "    for index in range(len(df)):\n",
    "        cuve.append(cuve[index-1] + df['apportsTotaux'].iloc[index] - df['besoinsTotaux'].iloc[index])\n",
    "    print('cuve ', p, ', min = ', min(cuve), ', max = ', max(cuve))\n",
    "    print('****')\n",
    "    print('diff = ', abs(min(cuve)-max(cuve)))\n",
    "    print('****')\n",
    "\n",
    "    "
   ]
  },
  {
   "cell_type": "code",
   "execution_count": null,
   "metadata": {},
   "outputs": [
    {
     "name": "stdout",
     "output_type": "stream",
     "text": [
      "remplissage cuve au premier mai : 12258.0\n",
      "remplissage au premier octobre : 18919.0\n"
     ]
    }
   ],
   "source": [
    "print('remplissage cuve au premier mai :', cuve[120])\n",
    "print('remplissage au premier octobre :', cuve[270] )"
   ]
  },
  {
   "attachments": {},
   "cell_type": "markdown",
   "metadata": {},
   "source": [
    "On a visiblement besoin de la dérivée. "
   ]
  },
  {
   "cell_type": "code",
   "execution_count": null,
   "metadata": {},
   "outputs": [],
   "source": [
    "dcuve =[[],[]]\n",
    "for index in range(len(cuve)):\n",
    "    dcuve.append([cuve[index], 0])\n"
   ]
  },
  {
   "cell_type": "code",
   "execution_count": null,
   "metadata": {},
   "outputs": [],
   "source": [
    "dcuve = pd.DataFrame(list(zip(range(len(cuve)), cuve)), \n",
    "                     index = range(len(cuve)),\n",
    "                     columns=['doy', 'volume'])"
   ]
  },
  {
   "cell_type": "code",
   "execution_count": null,
   "metadata": {},
   "outputs": [
    {
     "data": {
      "text/html": [
       "\n",
       "<div id=\"altair-viz-2de2cb66ef0e474596042b60188e6acd\"></div>\n",
       "<script type=\"text/javascript\">\n",
       "  var VEGA_DEBUG = (typeof VEGA_DEBUG == \"undefined\") ? {} : VEGA_DEBUG;\n",
       "  (function(spec, embedOpt){\n",
       "    let outputDiv = document.currentScript.previousElementSibling;\n",
       "    if (outputDiv.id !== \"altair-viz-2de2cb66ef0e474596042b60188e6acd\") {\n",
       "      outputDiv = document.getElementById(\"altair-viz-2de2cb66ef0e474596042b60188e6acd\");\n",
       "    }\n",
       "    const paths = {\n",
       "      \"vega\": \"https://cdn.jsdelivr.net/npm//vega@5?noext\",\n",
       "      \"vega-lib\": \"https://cdn.jsdelivr.net/npm//vega-lib?noext\",\n",
       "      \"vega-lite\": \"https://cdn.jsdelivr.net/npm//vega-lite@4.17.0?noext\",\n",
       "      \"vega-embed\": \"https://cdn.jsdelivr.net/npm//vega-embed@6?noext\",\n",
       "    };\n",
       "\n",
       "    function maybeLoadScript(lib, version) {\n",
       "      var key = `${lib.replace(\"-\", \"\")}_version`;\n",
       "      return (VEGA_DEBUG[key] == version) ?\n",
       "        Promise.resolve(paths[lib]) :\n",
       "        new Promise(function(resolve, reject) {\n",
       "          var s = document.createElement('script');\n",
       "          document.getElementsByTagName(\"head\")[0].appendChild(s);\n",
       "          s.async = true;\n",
       "          s.onload = () => {\n",
       "            VEGA_DEBUG[key] = version;\n",
       "            return resolve(paths[lib]);\n",
       "          };\n",
       "          s.onerror = () => reject(`Error loading script: ${paths[lib]}`);\n",
       "          s.src = paths[lib];\n",
       "        });\n",
       "    }\n",
       "\n",
       "    function showError(err) {\n",
       "      outputDiv.innerHTML = `<div class=\"error\" style=\"color:red;\">${err}</div>`;\n",
       "      throw err;\n",
       "    }\n",
       "\n",
       "    function displayChart(vegaEmbed) {\n",
       "      vegaEmbed(outputDiv, spec, embedOpt)\n",
       "        .catch(err => showError(`Javascript Error: ${err.message}<br>This usually means there's a typo in your chart specification. See the javascript console for the full traceback.`));\n",
       "    }\n",
       "\n",
       "    if(typeof define === \"function\" && define.amd) {\n",
       "      requirejs.config({paths});\n",
       "      require([\"vega-embed\"], displayChart, err => showError(`Error loading script: ${err.message}`));\n",
       "    } else {\n",
       "      maybeLoadScript(\"vega\", \"5\")\n",
       "        .then(() => maybeLoadScript(\"vega-lite\", \"4.17.0\"))\n",
       "        .then(() => maybeLoadScript(\"vega-embed\", \"6\"))\n",
       "        .catch(showError)\n",
       "        .then(() => displayChart(vegaEmbed));\n",
       "    }\n",
       "  })({\"config\": {\"view\": {\"continuousWidth\": 400, \"continuousHeight\": 300}}, \"data\": {\"name\": \"data-16d6431c60cf62110cb9e52149faeda6\"}, \"mark\": \"line\", \"encoding\": {\"x\": {\"field\": \"doy\", \"type\": \"quantitative\"}, \"y\": {\"field\": \"volume\", \"type\": \"quantitative\"}}, \"selection\": {\"selector005\": {\"type\": \"interval\", \"bind\": \"scales\", \"encodings\": [\"x\", \"y\"]}}, \"$schema\": \"https://vega.github.io/schema/vega-lite/v4.17.0.json\", \"datasets\": {\"data-16d6431c60cf62110cb9e52149faeda6\": [{\"doy\": 0, \"volume\": 0.0}, {\"doy\": 1, \"volume\": 0.0}, {\"doy\": 2, \"volume\": 0.0}, {\"doy\": 3, \"volume\": 0.0}, {\"doy\": 4, \"volume\": 0.0}, {\"doy\": 5, \"volume\": 0.0}, {\"doy\": 6, \"volume\": 0.0}, {\"doy\": 7, \"volume\": 0.0}, {\"doy\": 8, \"volume\": 0.0}, {\"doy\": 9, \"volume\": 0.0}, {\"doy\": 10, \"volume\": 886.0}, {\"doy\": 11, \"volume\": 886.0}, {\"doy\": 12, \"volume\": 886.0}, {\"doy\": 13, \"volume\": 1772.0}, {\"doy\": 14, \"volume\": 1772.0}, {\"doy\": 15, \"volume\": 1772.0}, {\"doy\": 16, \"volume\": 1772.0}, {\"doy\": 17, \"volume\": 2658.0}, {\"doy\": 18, \"volume\": 1772.0}, {\"doy\": 19, \"volume\": 2658.0}, {\"doy\": 20, \"volume\": 1772.0}, {\"doy\": 21, \"volume\": 2658.0}, {\"doy\": 22, \"volume\": 1772.0}, {\"doy\": 23, \"volume\": 2658.0}, {\"doy\": 24, \"volume\": 1772.0}, {\"doy\": 25, \"volume\": 2658.0}, {\"doy\": 26, \"volume\": 2658.0}, {\"doy\": 27, \"volume\": 2658.0}, {\"doy\": 28, \"volume\": 2658.0}, {\"doy\": 29, \"volume\": 2658.0}, {\"doy\": 30, \"volume\": 2658.0}, {\"doy\": 31, \"volume\": 2658.0}, {\"doy\": 32, \"volume\": 2658.0}, {\"doy\": 33, \"volume\": 2658.0}, {\"doy\": 34, \"volume\": 2658.0}, {\"doy\": 35, \"volume\": 2658.0}, {\"doy\": 36, \"volume\": 2658.0}, {\"doy\": 37, \"volume\": 2658.0}, {\"doy\": 38, \"volume\": 2658.0}, {\"doy\": 39, \"volume\": 2658.0}, {\"doy\": 40, \"volume\": 2658.0}, {\"doy\": 41, \"volume\": 2658.0}, {\"doy\": 42, \"volume\": 2658.0}, {\"doy\": 43, \"volume\": 3658.0}, {\"doy\": 44, \"volume\": 2658.0}, {\"doy\": 45, \"volume\": 3658.0}, {\"doy\": 46, \"volume\": 2658.0}, {\"doy\": 47, \"volume\": 4658.0}, {\"doy\": 48, \"volume\": 3658.0}, {\"doy\": 49, \"volume\": 4658.0}, {\"doy\": 50, \"volume\": 3658.0}, {\"doy\": 51, \"volume\": 4658.0}, {\"doy\": 52, \"volume\": 3658.0}, {\"doy\": 53, \"volume\": 4658.0}, {\"doy\": 54, \"volume\": 3658.0}, {\"doy\": 55, \"volume\": 4658.0}, {\"doy\": 56, \"volume\": 3658.0}, {\"doy\": 57, \"volume\": 4658.0}, {\"doy\": 58, \"volume\": 4658.0}, {\"doy\": 59, \"volume\": 5658.0}, {\"doy\": 60, \"volume\": 4658.0}, {\"doy\": 61, \"volume\": 5658.0}, {\"doy\": 62, \"volume\": 4658.0}, {\"doy\": 63, \"volume\": 6458.0}, {\"doy\": 64, \"volume\": 4658.0}, {\"doy\": 65, \"volume\": 6458.0}, {\"doy\": 66, \"volume\": 4658.0}, {\"doy\": 67, \"volume\": 7258.0}, {\"doy\": 68, \"volume\": 4658.0}, {\"doy\": 69, \"volume\": 7258.0}, {\"doy\": 70, \"volume\": 4658.0}, {\"doy\": 71, \"volume\": 7258.0}, {\"doy\": 72, \"volume\": 4658.0}, {\"doy\": 73, \"volume\": 7258.0}, {\"doy\": 74, \"volume\": 4658.0}, {\"doy\": 75, \"volume\": 8058.0}, {\"doy\": 76, \"volume\": 5458.0}, {\"doy\": 77, \"volume\": 8058.0}, {\"doy\": 78, \"volume\": 5458.0}, {\"doy\": 79, \"volume\": 9658.0}, {\"doy\": 80, \"volume\": 5458.0}, {\"doy\": 81, \"volume\": 9658.0}, {\"doy\": 82, \"volume\": 5458.0}, {\"doy\": 83, \"volume\": 9658.0}, {\"doy\": 84, \"volume\": 6258.0}, {\"doy\": 85, \"volume\": 9658.0}, {\"doy\": 86, \"volume\": 6258.0}, {\"doy\": 87, \"volume\": 9658.0}, {\"doy\": 88, \"volume\": 6258.0}, {\"doy\": 89, \"volume\": 9658.0}, {\"doy\": 90, \"volume\": 6258.0}, {\"doy\": 91, \"volume\": 10858.0}, {\"doy\": 92, \"volume\": 6258.0}, {\"doy\": 93, \"volume\": 10858.0}, {\"doy\": 94, \"volume\": 7458.0}, {\"doy\": 95, \"volume\": 10858.0}, {\"doy\": 96, \"volume\": 8658.0}, {\"doy\": 97, \"volume\": 12058.0}, {\"doy\": 98, \"volume\": 8658.0}, {\"doy\": 99, \"volume\": 12058.0}, {\"doy\": 100, \"volume\": 8658.0}, {\"doy\": 101, \"volume\": 12058.0}, {\"doy\": 102, \"volume\": 11058.0}, {\"doy\": 103, \"volume\": 12058.0}, {\"doy\": 104, \"volume\": 11058.0}, {\"doy\": 105, \"volume\": 12058.0}, {\"doy\": 106, \"volume\": 11058.0}, {\"doy\": 107, \"volume\": 12058.0}, {\"doy\": 108, \"volume\": 11058.0}, {\"doy\": 109, \"volume\": 12058.0}, {\"doy\": 110, \"volume\": 11058.0}, {\"doy\": 111, \"volume\": 12058.0}, {\"doy\": 112, \"volume\": 11058.0}, {\"doy\": 113, \"volume\": 12058.0}, {\"doy\": 114, \"volume\": 12258.0}, {\"doy\": 115, \"volume\": 13258.0}, {\"doy\": 116, \"volume\": 12258.0}, {\"doy\": 117, \"volume\": 13258.0}, {\"doy\": 118, \"volume\": 12258.0}, {\"doy\": 119, \"volume\": 13258.0}, {\"doy\": 120, \"volume\": 12258.0}, {\"doy\": 121, \"volume\": 12925.0}, {\"doy\": 122, \"volume\": 13658.0}, {\"doy\": 123, \"volume\": 12592.0}, {\"doy\": 124, \"volume\": 16458.0}, {\"doy\": 125, \"volume\": 12259.0}, {\"doy\": 126, \"volume\": 16125.0}, {\"doy\": 127, \"volume\": 11926.0}, {\"doy\": 128, \"volume\": 17525.0}, {\"doy\": 129, \"volume\": 11593.0}, {\"doy\": 130, \"volume\": 17192.0}, {\"doy\": 131, \"volume\": 12993.0}, {\"doy\": 132, \"volume\": 16859.0}, {\"doy\": 133, \"volume\": 12660.0}, {\"doy\": 134, \"volume\": 16526.0}, {\"doy\": 135, \"volume\": 14060.0}, {\"doy\": 136, \"volume\": 16193.0}, {\"doy\": 137, \"volume\": 13727.0}, {\"doy\": 138, \"volume\": 15860.0}, {\"doy\": 139, \"volume\": 13394.0}, {\"doy\": 140, \"volume\": 17260.0}, {\"doy\": 141, \"volume\": 13061.0}, {\"doy\": 142, \"volume\": 18660.0}, {\"doy\": 143, \"volume\": 12728.0}, {\"doy\": 144, \"volume\": 18327.0}, {\"doy\": 145, \"volume\": 12395.0}, {\"doy\": 146, \"volume\": 17994.0}, {\"doy\": 147, \"volume\": 13795.0}, {\"doy\": 148, \"volume\": 19394.0}, {\"doy\": 149, \"volume\": 13462.0}, {\"doy\": 150, \"volume\": 19061.0}, {\"doy\": 151, \"volume\": 13129.0}, {\"doy\": 152, \"volume\": 18394.0}, {\"doy\": 153, \"volume\": 14729.0}, {\"doy\": 154, \"volume\": 17727.0}, {\"doy\": 155, \"volume\": 14062.0}, {\"doy\": 156, \"volume\": 17060.0}, {\"doy\": 157, \"volume\": 13395.0}, {\"doy\": 158, \"volume\": 18660.0}, {\"doy\": 159, \"volume\": 14995.0}, {\"doy\": 160, \"volume\": 17993.0}, {\"doy\": 161, \"volume\": 14328.0}, {\"doy\": 162, \"volume\": 17326.0}, {\"doy\": 163, \"volume\": 15928.0}, {\"doy\": 164, \"volume\": 18926.0}, {\"doy\": 165, \"volume\": 17528.0}, {\"doy\": 166, \"volume\": 18259.0}, {\"doy\": 167, \"volume\": 16861.0}, {\"doy\": 168, \"volume\": 17592.0}, {\"doy\": 169, \"volume\": 16194.0}, {\"doy\": 170, \"volume\": 16925.0}, {\"doy\": 171, \"volume\": 15527.0}, {\"doy\": 172, \"volume\": 16258.0}, {\"doy\": 173, \"volume\": 14860.0}, {\"doy\": 174, \"volume\": 17858.0}, {\"doy\": 175, \"volume\": 14193.0}, {\"doy\": 176, \"volume\": 17191.0}, {\"doy\": 177, \"volume\": 13526.0}, {\"doy\": 178, \"volume\": 18791.0}, {\"doy\": 179, \"volume\": 12859.0}, {\"doy\": 180, \"volume\": 18124.0}, {\"doy\": 181, \"volume\": 12192.0}, {\"doy\": 182, \"volume\": 17457.0}, {\"doy\": 183, \"volume\": 11525.0}, {\"doy\": 184, \"volume\": 18857.0}, {\"doy\": 185, \"volume\": 10858.0}, {\"doy\": 186, \"volume\": 18190.0}, {\"doy\": 187, \"volume\": 10191.0}, {\"doy\": 188, \"volume\": 19590.0}, {\"doy\": 189, \"volume\": 11591.0}, {\"doy\": 190, \"volume\": 20990.0}, {\"doy\": 191, \"volume\": 10924.0}, {\"doy\": 192, \"volume\": 20323.0}, {\"doy\": 193, \"volume\": 10257.0}, {\"doy\": 194, \"volume\": 19656.0}, {\"doy\": 195, \"volume\": 9590.0}, {\"doy\": 196, \"volume\": 18989.0}, {\"doy\": 197, \"volume\": 8923.0}, {\"doy\": 198, \"volume\": 18322.0}, {\"doy\": 199, \"volume\": 10323.0}, {\"doy\": 200, \"volume\": 17655.0}, {\"doy\": 201, \"volume\": 9656.0}, {\"doy\": 202, \"volume\": 19055.0}, {\"doy\": 203, \"volume\": 11056.0}, {\"doy\": 204, \"volume\": 18388.0}, {\"doy\": 205, \"volume\": 10389.0}, {\"doy\": 206, \"volume\": 17721.0}, {\"doy\": 207, \"volume\": 9722.0}, {\"doy\": 208, \"volume\": 19121.0}, {\"doy\": 209, \"volume\": 9055.0}, {\"doy\": 210, \"volume\": 18454.0}, {\"doy\": 211, \"volume\": 10455.0}, {\"doy\": 212, \"volume\": 17787.0}, {\"doy\": 213, \"volume\": 9788.0}, {\"doy\": 214, \"volume\": 17120.0}, {\"doy\": 215, \"volume\": 11388.0}, {\"doy\": 216, \"volume\": 16453.0}, {\"doy\": 217, \"volume\": 10721.0}, {\"doy\": 218, \"volume\": 15786.0}, {\"doy\": 219, \"volume\": 10054.0}, {\"doy\": 220, \"volume\": 17386.0}, {\"doy\": 221, \"volume\": 11654.0}, {\"doy\": 222, \"volume\": 16719.0}, {\"doy\": 223, \"volume\": 10987.0}, {\"doy\": 224, \"volume\": 16052.0}, {\"doy\": 225, \"volume\": 10320.0}, {\"doy\": 226, \"volume\": 15385.0}, {\"doy\": 227, \"volume\": 13520.0}, {\"doy\": 228, \"volume\": 14718.0}, {\"doy\": 229, \"volume\": 12853.0}, {\"doy\": 230, \"volume\": 14051.0}, {\"doy\": 231, \"volume\": 12186.0}, {\"doy\": 232, \"volume\": 13384.0}, {\"doy\": 233, \"volume\": 13786.0}, {\"doy\": 234, \"volume\": 14984.0}, {\"doy\": 235, \"volume\": 13119.0}, {\"doy\": 236, \"volume\": 14317.0}, {\"doy\": 237, \"volume\": 14719.0}, {\"doy\": 238, \"volume\": 13650.0}, {\"doy\": 239, \"volume\": 14052.0}, {\"doy\": 240, \"volume\": 12983.0}, {\"doy\": 241, \"volume\": 13385.0}, {\"doy\": 242, \"volume\": 12316.0}, {\"doy\": 243, \"volume\": 12718.0}, {\"doy\": 244, \"volume\": 11983.0}, {\"doy\": 245, \"volume\": 12385.0}, {\"doy\": 246, \"volume\": 13583.0}, {\"doy\": 247, \"volume\": 12052.0}, {\"doy\": 248, \"volume\": 13250.0}, {\"doy\": 249, \"volume\": 11719.0}, {\"doy\": 250, \"volume\": 12917.0}, {\"doy\": 251, \"volume\": 11386.0}, {\"doy\": 252, \"volume\": 12584.0}, {\"doy\": 253, \"volume\": 11053.0}, {\"doy\": 254, \"volume\": 14184.0}, {\"doy\": 255, \"volume\": 12653.0}, {\"doy\": 256, \"volume\": 13851.0}, {\"doy\": 257, \"volume\": 12320.0}, {\"doy\": 258, \"volume\": 13518.0}, {\"doy\": 259, \"volume\": 11987.0}, {\"doy\": 260, \"volume\": 13185.0}, {\"doy\": 261, \"volume\": 11654.0}, {\"doy\": 262, \"volume\": 14785.0}, {\"doy\": 263, \"volume\": 13254.0}, {\"doy\": 264, \"volume\": 17985.0}, {\"doy\": 265, \"volume\": 12921.0}, {\"doy\": 266, \"volume\": 17652.0}, {\"doy\": 267, \"volume\": 12588.0}, {\"doy\": 268, \"volume\": 19252.0}, {\"doy\": 269, \"volume\": 12255.0}, {\"doy\": 270, \"volume\": 18919.0}, {\"doy\": 271, \"volume\": 11922.0}, {\"doy\": 272, \"volume\": 18586.0}, {\"doy\": 273, \"volume\": 11589.0}, {\"doy\": 274, \"volume\": 18586.0}, {\"doy\": 275, \"volume\": 11589.0}, {\"doy\": 276, \"volume\": 18586.0}, {\"doy\": 277, \"volume\": 12789.0}, {\"doy\": 278, \"volume\": 18586.0}, {\"doy\": 279, \"volume\": 12789.0}, {\"doy\": 280, \"volume\": 18586.0}, {\"doy\": 281, \"volume\": 12789.0}, {\"doy\": 282, \"volume\": 19786.0}, {\"doy\": 283, \"volume\": 13989.0}, {\"doy\": 284, \"volume\": 19786.0}, {\"doy\": 285, \"volume\": 13989.0}, {\"doy\": 286, \"volume\": 19786.0}, {\"doy\": 287, \"volume\": 13989.0}, {\"doy\": 288, \"volume\": 19786.0}, {\"doy\": 289, \"volume\": 15189.0}, {\"doy\": 290, \"volume\": 19786.0}, {\"doy\": 291, \"volume\": 15189.0}, {\"doy\": 292, \"volume\": 19786.0}, {\"doy\": 293, \"volume\": 15189.0}, {\"doy\": 294, \"volume\": 20986.0}, {\"doy\": 295, \"volume\": 15189.0}, {\"doy\": 296, \"volume\": 20986.0}, {\"doy\": 297, \"volume\": 15189.0}, {\"doy\": 298, \"volume\": 22186.0}, {\"doy\": 299, \"volume\": 16389.0}, {\"doy\": 300, \"volume\": 22186.0}, {\"doy\": 301, \"volume\": 17589.0}, {\"doy\": 302, \"volume\": 22186.0}, {\"doy\": 303, \"volume\": 17589.0}, {\"doy\": 304, \"volume\": 22186.0}, {\"doy\": 305, \"volume\": 17589.0}, {\"doy\": 306, \"volume\": 23386.0}, {\"doy\": 307, \"volume\": 18789.0}, {\"doy\": 308, \"volume\": 23386.0}, {\"doy\": 309, \"volume\": 18789.0}, {\"doy\": 310, \"volume\": 23386.0}, {\"doy\": 311, \"volume\": 19989.0}, {\"doy\": 312, \"volume\": 24586.0}, {\"doy\": 313, \"volume\": 19989.0}, {\"doy\": 314, \"volume\": 24586.0}, {\"doy\": 315, \"volume\": 19989.0}, {\"doy\": 316, \"volume\": 24586.0}, {\"doy\": 317, \"volume\": 19989.0}, {\"doy\": 318, \"volume\": 25786.0}, {\"doy\": 319, \"volume\": 19989.0}, {\"doy\": 320, \"volume\": 25786.0}, {\"doy\": 321, \"volume\": 19989.0}, {\"doy\": 322, \"volume\": 26986.0}, {\"doy\": 323, \"volume\": 19989.0}, {\"doy\": 324, \"volume\": 26986.0}, {\"doy\": 325, \"volume\": 19989.0}, {\"doy\": 326, \"volume\": 26986.0}, {\"doy\": 327, \"volume\": 19989.0}, {\"doy\": 328, \"volume\": 28186.0}, {\"doy\": 329, \"volume\": 21189.0}, {\"doy\": 330, \"volume\": 28186.0}, {\"doy\": 331, \"volume\": 21189.0}, {\"doy\": 332, \"volume\": 28186.0}, {\"doy\": 333, \"volume\": 21189.0}, {\"doy\": 334, \"volume\": 28186.0}, {\"doy\": 335, \"volume\": 21189.0}, {\"doy\": 336, \"volume\": 28186.0}, {\"doy\": 337, \"volume\": 22189.0}, {\"doy\": 338, \"volume\": 28186.0}, {\"doy\": 339, \"volume\": 22189.0}, {\"doy\": 340, \"volume\": 28186.0}, {\"doy\": 341, \"volume\": 23189.0}, {\"doy\": 342, \"volume\": 28186.0}, {\"doy\": 343, \"volume\": 23189.0}, {\"doy\": 344, \"volume\": 28186.0}, {\"doy\": 345, \"volume\": 24189.0}, {\"doy\": 346, \"volume\": 28186.0}, {\"doy\": 347, \"volume\": 24189.0}, {\"doy\": 348, \"volume\": 28186.0}, {\"doy\": 349, \"volume\": 24189.0}, {\"doy\": 350, \"volume\": 28186.0}, {\"doy\": 351, \"volume\": 24189.0}, {\"doy\": 352, \"volume\": 28186.0}, {\"doy\": 353, \"volume\": 24189.0}, {\"doy\": 354, \"volume\": 29186.0}, {\"doy\": 355, \"volume\": 25189.0}, {\"doy\": 356, \"volume\": 29186.0}, {\"doy\": 357, \"volume\": 25189.0}, {\"doy\": 358, \"volume\": 29186.0}, {\"doy\": 359, \"volume\": 25189.0}, {\"doy\": 360, \"volume\": 29186.0}, {\"doy\": 361, \"volume\": 25189.0}, {\"doy\": 362, \"volume\": 29186.0}, {\"doy\": 363, \"volume\": 25189.0}, {\"doy\": 364, \"volume\": 29186.0}, {\"doy\": 365, \"volume\": 25189.0}]}}, {\"mode\": \"vega-lite\"});\n",
       "</script>"
      ],
      "text/plain": [
       "alt.Chart(...)"
      ]
     },
     "execution_count": 101,
     "metadata": {},
     "output_type": "execute_result"
    }
   ],
   "source": [
    "alt.Chart(dcuve).mark_line().encode(\n",
    "    x='doy',\n",
    "    y='volume'\n",
    ").interactive()"
   ]
  },
  {
   "attachments": {},
   "cell_type": "markdown",
   "metadata": {},
   "source": [
    "On peut donc calculer, à partir de ces valeurs, le volume minimal de la cuve, c'est à dire celui qui permet de faire face à la plus forte diminution de volume pendant la saison de végétation. \n",
    " "
   ]
  },
  {
   "cell_type": "code",
   "execution_count": null,
   "metadata": {},
   "outputs": [
    {
     "data": {
      "text/plain": [
       "12067.0"
      ]
     },
     "execution_count": 102,
     "metadata": {},
     "output_type": "execute_result"
    }
   ],
   "source": [
    "max(dcuve.loc[dcuve['doy'].isin(range(120,270)), \"volume\"])-min(dcuve.loc[dcuve['doy'].isin(range(120,270)), \"volume\"])"
   ]
  },
  {
   "attachments": {},
   "cell_type": "markdown",
   "metadata": {},
   "source": [
    "On arrive à la valeur de 12 mètres cubes. \n",
    "\n",
    "Montrons l'évolution du volume d'une cuve de 12 m3"
   ]
  },
  {
   "cell_type": "code",
   "execution_count": null,
   "metadata": {},
   "outputs": [
    {
     "data": {
      "text/html": [
       "\n",
       "<div id=\"altair-viz-c5dc14c5b4594957a10788a563f256c5\"></div>\n",
       "<script type=\"text/javascript\">\n",
       "  var VEGA_DEBUG = (typeof VEGA_DEBUG == \"undefined\") ? {} : VEGA_DEBUG;\n",
       "  (function(spec, embedOpt){\n",
       "    let outputDiv = document.currentScript.previousElementSibling;\n",
       "    if (outputDiv.id !== \"altair-viz-c5dc14c5b4594957a10788a563f256c5\") {\n",
       "      outputDiv = document.getElementById(\"altair-viz-c5dc14c5b4594957a10788a563f256c5\");\n",
       "    }\n",
       "    const paths = {\n",
       "      \"vega\": \"https://cdn.jsdelivr.net/npm//vega@5?noext\",\n",
       "      \"vega-lib\": \"https://cdn.jsdelivr.net/npm//vega-lib?noext\",\n",
       "      \"vega-lite\": \"https://cdn.jsdelivr.net/npm//vega-lite@4.17.0?noext\",\n",
       "      \"vega-embed\": \"https://cdn.jsdelivr.net/npm//vega-embed@6?noext\",\n",
       "    };\n",
       "\n",
       "    function maybeLoadScript(lib, version) {\n",
       "      var key = `${lib.replace(\"-\", \"\")}_version`;\n",
       "      return (VEGA_DEBUG[key] == version) ?\n",
       "        Promise.resolve(paths[lib]) :\n",
       "        new Promise(function(resolve, reject) {\n",
       "          var s = document.createElement('script');\n",
       "          document.getElementsByTagName(\"head\")[0].appendChild(s);\n",
       "          s.async = true;\n",
       "          s.onload = () => {\n",
       "            VEGA_DEBUG[key] = version;\n",
       "            return resolve(paths[lib]);\n",
       "          };\n",
       "          s.onerror = () => reject(`Error loading script: ${paths[lib]}`);\n",
       "          s.src = paths[lib];\n",
       "        });\n",
       "    }\n",
       "\n",
       "    function showError(err) {\n",
       "      outputDiv.innerHTML = `<div class=\"error\" style=\"color:red;\">${err}</div>`;\n",
       "      throw err;\n",
       "    }\n",
       "\n",
       "    function displayChart(vegaEmbed) {\n",
       "      vegaEmbed(outputDiv, spec, embedOpt)\n",
       "        .catch(err => showError(`Javascript Error: ${err.message}<br>This usually means there's a typo in your chart specification. See the javascript console for the full traceback.`));\n",
       "    }\n",
       "\n",
       "    if(typeof define === \"function\" && define.amd) {\n",
       "      requirejs.config({paths});\n",
       "      require([\"vega-embed\"], displayChart, err => showError(`Error loading script: ${err.message}`));\n",
       "    } else {\n",
       "      maybeLoadScript(\"vega\", \"5\")\n",
       "        .then(() => maybeLoadScript(\"vega-lite\", \"4.17.0\"))\n",
       "        .then(() => maybeLoadScript(\"vega-embed\", \"6\"))\n",
       "        .catch(showError)\n",
       "        .then(() => displayChart(vegaEmbed));\n",
       "    }\n",
       "  })({\"config\": {\"view\": {\"continuousWidth\": 400, \"continuousHeight\": 300}}, \"data\": {\"name\": \"data-d8f2954805dad5d42d3095cf1004522e\"}, \"mark\": \"line\", \"encoding\": {\"x\": {\"field\": \"doy\", \"type\": \"quantitative\"}, \"y\": {\"field\": \"volume\", \"type\": \"quantitative\"}}, \"$schema\": \"https://vega.github.io/schema/vega-lite/v4.17.0.json\", \"datasets\": {\"data-d8f2954805dad5d42d3095cf1004522e\": [{\"doy\": 0, \"volume\": 0.0}, {\"doy\": 1, \"volume\": 0.0}, {\"doy\": 2, \"volume\": 0.0}, {\"doy\": 3, \"volume\": 0.0}, {\"doy\": 4, \"volume\": 0.0}, {\"doy\": 5, \"volume\": 0.0}, {\"doy\": 6, \"volume\": 0.0}, {\"doy\": 7, \"volume\": 0.0}, {\"doy\": 8, \"volume\": 0.0}, {\"doy\": 9, \"volume\": 0.0}, {\"doy\": 10, \"volume\": 886.0}, {\"doy\": 11, \"volume\": 886.0}, {\"doy\": 12, \"volume\": 886.0}, {\"doy\": 13, \"volume\": 1772.0}, {\"doy\": 14, \"volume\": 1772.0}, {\"doy\": 15, \"volume\": 1772.0}, {\"doy\": 16, \"volume\": 1772.0}, {\"doy\": 17, \"volume\": 2658.0}, {\"doy\": 18, \"volume\": 1772.0}, {\"doy\": 19, \"volume\": 2658.0}, {\"doy\": 20, \"volume\": 1772.0}, {\"doy\": 21, \"volume\": 2658.0}, {\"doy\": 22, \"volume\": 1772.0}, {\"doy\": 23, \"volume\": 2658.0}, {\"doy\": 24, \"volume\": 1772.0}, {\"doy\": 25, \"volume\": 2658.0}, {\"doy\": 26, \"volume\": 2658.0}, {\"doy\": 27, \"volume\": 2658.0}, {\"doy\": 28, \"volume\": 2658.0}, {\"doy\": 29, \"volume\": 2658.0}, {\"doy\": 30, \"volume\": 2658.0}, {\"doy\": 31, \"volume\": 2658.0}, {\"doy\": 32, \"volume\": 2658.0}, {\"doy\": 33, \"volume\": 2658.0}, {\"doy\": 34, \"volume\": 2658.0}, {\"doy\": 35, \"volume\": 2658.0}, {\"doy\": 36, \"volume\": 2658.0}, {\"doy\": 37, \"volume\": 2658.0}, {\"doy\": 38, \"volume\": 2658.0}, {\"doy\": 39, \"volume\": 2658.0}, {\"doy\": 40, \"volume\": 2658.0}, {\"doy\": 41, \"volume\": 2658.0}, {\"doy\": 42, \"volume\": 2658.0}, {\"doy\": 43, \"volume\": 3658.0}, {\"doy\": 44, \"volume\": 2658.0}, {\"doy\": 45, \"volume\": 3658.0}, {\"doy\": 46, \"volume\": 2658.0}, {\"doy\": 47, \"volume\": 4658.0}, {\"doy\": 48, \"volume\": 3658.0}, {\"doy\": 49, \"volume\": 4658.0}, {\"doy\": 50, \"volume\": 3658.0}, {\"doy\": 51, \"volume\": 4658.0}, {\"doy\": 52, \"volume\": 3658.0}, {\"doy\": 53, \"volume\": 4658.0}, {\"doy\": 54, \"volume\": 3658.0}, {\"doy\": 55, \"volume\": 4658.0}, {\"doy\": 56, \"volume\": 3658.0}, {\"doy\": 57, \"volume\": 4658.0}, {\"doy\": 58, \"volume\": 4658.0}, {\"doy\": 59, \"volume\": 5658.0}, {\"doy\": 60, \"volume\": 4658.0}, {\"doy\": 61, \"volume\": 5658.0}, {\"doy\": 62, \"volume\": 4658.0}, {\"doy\": 63, \"volume\": 6458.0}, {\"doy\": 64, \"volume\": 4658.0}, {\"doy\": 65, \"volume\": 6458.0}, {\"doy\": 66, \"volume\": 4658.0}, {\"doy\": 67, \"volume\": 7258.0}, {\"doy\": 68, \"volume\": 4658.0}, {\"doy\": 69, \"volume\": 7258.0}, {\"doy\": 70, \"volume\": 4658.0}, {\"doy\": 71, \"volume\": 7258.0}, {\"doy\": 72, \"volume\": 4658.0}, {\"doy\": 73, \"volume\": 7258.0}, {\"doy\": 74, \"volume\": 4658.0}, {\"doy\": 75, \"volume\": 8058.0}, {\"doy\": 76, \"volume\": 5458.0}, {\"doy\": 77, \"volume\": 8058.0}, {\"doy\": 78, \"volume\": 5458.0}, {\"doy\": 79, \"volume\": 9000.0}, {\"doy\": 80, \"volume\": 5458.0}, {\"doy\": 81, \"volume\": 9000.0}, {\"doy\": 82, \"volume\": 5458.0}, {\"doy\": 83, \"volume\": 9000.0}, {\"doy\": 84, \"volume\": 6258.0}, {\"doy\": 85, \"volume\": 9000.0}, {\"doy\": 86, \"volume\": 6258.0}, {\"doy\": 87, \"volume\": 9000.0}, {\"doy\": 88, \"volume\": 6258.0}, {\"doy\": 89, \"volume\": 9000.0}, {\"doy\": 90, \"volume\": 6258.0}, {\"doy\": 91, \"volume\": 9000.0}, {\"doy\": 92, \"volume\": 6258.0}, {\"doy\": 93, \"volume\": 9000.0}, {\"doy\": 94, \"volume\": 7458.0}, {\"doy\": 95, \"volume\": 9000.0}, {\"doy\": 96, \"volume\": 8658.0}, {\"doy\": 97, \"volume\": 9000.0}, {\"doy\": 98, \"volume\": 8658.0}, {\"doy\": 99, \"volume\": 9000.0}, {\"doy\": 100, \"volume\": 8658.0}, {\"doy\": 101, \"volume\": 9000.0}, {\"doy\": 102, \"volume\": 9000.0}, {\"doy\": 103, \"volume\": 9000.0}, {\"doy\": 104, \"volume\": 9000.0}, {\"doy\": 105, \"volume\": 9000.0}, {\"doy\": 106, \"volume\": 9000.0}, {\"doy\": 107, \"volume\": 9000.0}, {\"doy\": 108, \"volume\": 9000.0}, {\"doy\": 109, \"volume\": 9000.0}, {\"doy\": 110, \"volume\": 9000.0}, {\"doy\": 111, \"volume\": 9000.0}, {\"doy\": 112, \"volume\": 9000.0}, {\"doy\": 113, \"volume\": 9000.0}, {\"doy\": 114, \"volume\": 9000.0}, {\"doy\": 115, \"volume\": 9000.0}, {\"doy\": 116, \"volume\": 9000.0}, {\"doy\": 117, \"volume\": 9000.0}, {\"doy\": 118, \"volume\": 9000.0}, {\"doy\": 119, \"volume\": 9000.0}, {\"doy\": 120, \"volume\": 9000.0}, {\"doy\": 121, \"volume\": 8667.0}, {\"doy\": 122, \"volume\": 9000.0}, {\"doy\": 123, \"volume\": 8334.0}, {\"doy\": 124, \"volume\": 9000.0}, {\"doy\": 125, \"volume\": 8001.0}, {\"doy\": 126, \"volume\": 8667.0}, {\"doy\": 127, \"volume\": 7668.0}, {\"doy\": 128, \"volume\": 9000.0}, {\"doy\": 129, \"volume\": 7335.0}, {\"doy\": 130, \"volume\": 8667.0}, {\"doy\": 131, \"volume\": 8735.0}, {\"doy\": 132, \"volume\": 8334.0}, {\"doy\": 133, \"volume\": 8402.0}, {\"doy\": 134, \"volume\": 8001.0}, {\"doy\": 135, \"volume\": 9000.0}, {\"doy\": 136, \"volume\": 7668.0}, {\"doy\": 137, \"volume\": 8667.0}, {\"doy\": 138, \"volume\": 7335.0}, {\"doy\": 139, \"volume\": 8334.0}, {\"doy\": 140, \"volume\": 8735.0}, {\"doy\": 141, \"volume\": 8001.0}, {\"doy\": 142, \"volume\": 9000.0}, {\"doy\": 143, \"volume\": 7668.0}, {\"doy\": 144, \"volume\": 8667.0}, {\"doy\": 145, \"volume\": 7335.0}, {\"doy\": 146, \"volume\": 8334.0}, {\"doy\": 147, \"volume\": 8735.0}, {\"doy\": 148, \"volume\": 9000.0}, {\"doy\": 149, \"volume\": 8402.0}, {\"doy\": 150, \"volume\": 8667.0}, {\"doy\": 151, \"volume\": 8069.0}, {\"doy\": 152, \"volume\": 8000.0}, {\"doy\": 153, \"volume\": 9000.0}, {\"doy\": 154, \"volume\": 7333.0}, {\"doy\": 155, \"volume\": 8333.0}, {\"doy\": 156, \"volume\": 6666.0}, {\"doy\": 157, \"volume\": 7666.0}, {\"doy\": 158, \"volume\": 8266.0}, {\"doy\": 159, \"volume\": 9000.0}, {\"doy\": 160, \"volume\": 7599.0}, {\"doy\": 161, \"volume\": 8333.0}, {\"doy\": 162, \"volume\": 6932.0}, {\"doy\": 163, \"volume\": 9000.0}, {\"doy\": 164, \"volume\": 8532.0}, {\"doy\": 165, \"volume\": 9000.0}, {\"doy\": 166, \"volume\": 7865.0}, {\"doy\": 167, \"volume\": 8333.0}, {\"doy\": 168, \"volume\": 7198.0}, {\"doy\": 169, \"volume\": 7666.0}, {\"doy\": 170, \"volume\": 6531.0}, {\"doy\": 171, \"volume\": 6999.0}, {\"doy\": 172, \"volume\": 5864.0}, {\"doy\": 173, \"volume\": 6332.0}, {\"doy\": 174, \"volume\": 7464.0}, {\"doy\": 175, \"volume\": 5665.0}, {\"doy\": 176, \"volume\": 6797.0}, {\"doy\": 177, \"volume\": 4998.0}, {\"doy\": 178, \"volume\": 8397.0}, {\"doy\": 179, \"volume\": 4331.0}, {\"doy\": 180, \"volume\": 7730.0}, {\"doy\": 181, \"volume\": 3664.0}, {\"doy\": 182, \"volume\": 7063.0}, {\"doy\": 183, \"volume\": 2997.0}, {\"doy\": 184, \"volume\": 8463.0}, {\"doy\": 185, \"volume\": 2330.0}, {\"doy\": 186, \"volume\": 7796.0}, {\"doy\": 187, \"volume\": 1663.0}, {\"doy\": 188, \"volume\": 9000.0}, {\"doy\": 189, \"volume\": 3063.0}, {\"doy\": 190, \"volume\": 9000.0}, {\"doy\": 191, \"volume\": 2396.0}, {\"doy\": 192, \"volume\": 8333.0}, {\"doy\": 193, \"volume\": 1729.0}, {\"doy\": 194, \"volume\": 7666.0}, {\"doy\": 195, \"volume\": 1062.0}, {\"doy\": 196, \"volume\": 6999.0}, {\"doy\": 197, \"volume\": 395.0}, {\"doy\": 198, \"volume\": 6332.0}, {\"doy\": 199, \"volume\": 1795.0}, {\"doy\": 200, \"volume\": 5665.0}, {\"doy\": 201, \"volume\": 1128.0}, {\"doy\": 202, \"volume\": 7065.0}, {\"doy\": 203, \"volume\": 2528.0}, {\"doy\": 204, \"volume\": 6398.0}, {\"doy\": 205, \"volume\": 1861.0}, {\"doy\": 206, \"volume\": 5731.0}, {\"doy\": 207, \"volume\": 1194.0}, {\"doy\": 208, \"volume\": 7131.0}, {\"doy\": 209, \"volume\": 527.0}, {\"doy\": 210, \"volume\": 6464.0}, {\"doy\": 211, \"volume\": 1927.0}, {\"doy\": 212, \"volume\": 5797.0}, {\"doy\": 213, \"volume\": 1260.0}, {\"doy\": 214, \"volume\": 5130.0}, {\"doy\": 215, \"volume\": 2860.0}, {\"doy\": 216, \"volume\": 4463.0}, {\"doy\": 217, \"volume\": 2193.0}, {\"doy\": 218, \"volume\": 3796.0}, {\"doy\": 219, \"volume\": 1526.0}, {\"doy\": 220, \"volume\": 5396.0}, {\"doy\": 221, \"volume\": 3126.0}, {\"doy\": 222, \"volume\": 4729.0}, {\"doy\": 223, \"volume\": 2459.0}, {\"doy\": 224, \"volume\": 4062.0}, {\"doy\": 225, \"volume\": 1792.0}, {\"doy\": 226, \"volume\": 3395.0}, {\"doy\": 227, \"volume\": 4992.0}, {\"doy\": 228, \"volume\": 2728.0}, {\"doy\": 229, \"volume\": 4325.0}, {\"doy\": 230, \"volume\": 2061.0}, {\"doy\": 231, \"volume\": 3658.0}, {\"doy\": 232, \"volume\": 1394.0}, {\"doy\": 233, \"volume\": 5258.0}, {\"doy\": 234, \"volume\": 2994.0}, {\"doy\": 235, \"volume\": 4591.0}, {\"doy\": 236, \"volume\": 2327.0}, {\"doy\": 237, \"volume\": 6191.0}, {\"doy\": 238, \"volume\": 1660.0}, {\"doy\": 239, \"volume\": 5524.0}, {\"doy\": 240, \"volume\": 993.0}, {\"doy\": 241, \"volume\": 4857.0}, {\"doy\": 242, \"volume\": 326.0}, {\"doy\": 243, \"volume\": 4190.0}, {\"doy\": 244, \"volume\": -7.0}, {\"doy\": 245, \"volume\": 3857.0}, {\"doy\": 246, \"volume\": 1593.0}, {\"doy\": 247, \"volume\": 3524.0}, {\"doy\": 248, \"volume\": 1260.0}, {\"doy\": 249, \"volume\": 3191.0}, {\"doy\": 250, \"volume\": 927.0}, {\"doy\": 251, \"volume\": 2858.0}, {\"doy\": 252, \"volume\": 594.0}, {\"doy\": 253, \"volume\": 2525.0}, {\"doy\": 254, \"volume\": 2194.0}, {\"doy\": 255, \"volume\": 4125.0}, {\"doy\": 256, \"volume\": 1861.0}, {\"doy\": 257, \"volume\": 3792.0}, {\"doy\": 258, \"volume\": 1528.0}, {\"doy\": 259, \"volume\": 3459.0}, {\"doy\": 260, \"volume\": 1195.0}, {\"doy\": 261, \"volume\": 3126.0}, {\"doy\": 262, \"volume\": 2795.0}, {\"doy\": 263, \"volume\": 4726.0}, {\"doy\": 264, \"volume\": 5995.0}, {\"doy\": 265, \"volume\": 4393.0}, {\"doy\": 266, \"volume\": 5662.0}, {\"doy\": 267, \"volume\": 4060.0}, {\"doy\": 268, \"volume\": 7262.0}, {\"doy\": 269, \"volume\": 3727.0}, {\"doy\": 270, \"volume\": 6929.0}, {\"doy\": 271, \"volume\": 3394.0}, {\"doy\": 272, \"volume\": 6596.0}, {\"doy\": 273, \"volume\": 3061.0}, {\"doy\": 274, \"volume\": 6596.0}, {\"doy\": 275, \"volume\": 3061.0}, {\"doy\": 276, \"volume\": 6596.0}, {\"doy\": 277, \"volume\": 4261.0}, {\"doy\": 278, \"volume\": 6596.0}, {\"doy\": 279, \"volume\": 4261.0}, {\"doy\": 280, \"volume\": 6596.0}, {\"doy\": 281, \"volume\": 4261.0}, {\"doy\": 282, \"volume\": 7796.0}, {\"doy\": 283, \"volume\": 5461.0}, {\"doy\": 284, \"volume\": 7796.0}, {\"doy\": 285, \"volume\": 5461.0}, {\"doy\": 286, \"volume\": 7796.0}, {\"doy\": 287, \"volume\": 5461.0}, {\"doy\": 288, \"volume\": 7796.0}, {\"doy\": 289, \"volume\": 6661.0}, {\"doy\": 290, \"volume\": 7796.0}, {\"doy\": 291, \"volume\": 6661.0}, {\"doy\": 292, \"volume\": 7796.0}, {\"doy\": 293, \"volume\": 6661.0}, {\"doy\": 294, \"volume\": 8996.0}, {\"doy\": 295, \"volume\": 6661.0}, {\"doy\": 296, \"volume\": 8996.0}, {\"doy\": 297, \"volume\": 6661.0}, {\"doy\": 298, \"volume\": 9000.0}, {\"doy\": 299, \"volume\": 7861.0}, {\"doy\": 300, \"volume\": 9000.0}, {\"doy\": 301, \"volume\": 9000.0}, {\"doy\": 302, \"volume\": 9000.0}, {\"doy\": 303, \"volume\": 9000.0}, {\"doy\": 304, \"volume\": 9000.0}, {\"doy\": 305, \"volume\": 9000.0}, {\"doy\": 306, \"volume\": 9000.0}, {\"doy\": 307, \"volume\": 9000.0}, {\"doy\": 308, \"volume\": 9000.0}, {\"doy\": 309, \"volume\": 9000.0}, {\"doy\": 310, \"volume\": 9000.0}, {\"doy\": 311, \"volume\": 9000.0}, {\"doy\": 312, \"volume\": 9000.0}, {\"doy\": 313, \"volume\": 9000.0}, {\"doy\": 314, \"volume\": 9000.0}, {\"doy\": 315, \"volume\": 9000.0}, {\"doy\": 316, \"volume\": 9000.0}, {\"doy\": 317, \"volume\": 9000.0}, {\"doy\": 318, \"volume\": 9000.0}, {\"doy\": 319, \"volume\": 9000.0}, {\"doy\": 320, \"volume\": 9000.0}, {\"doy\": 321, \"volume\": 9000.0}, {\"doy\": 322, \"volume\": 9000.0}, {\"doy\": 323, \"volume\": 9000.0}, {\"doy\": 324, \"volume\": 9000.0}, {\"doy\": 325, \"volume\": 9000.0}, {\"doy\": 326, \"volume\": 9000.0}, {\"doy\": 327, \"volume\": 9000.0}, {\"doy\": 328, \"volume\": 9000.0}, {\"doy\": 329, \"volume\": 9000.0}, {\"doy\": 330, \"volume\": 9000.0}, {\"doy\": 331, \"volume\": 9000.0}, {\"doy\": 332, \"volume\": 9000.0}, {\"doy\": 333, \"volume\": 9000.0}, {\"doy\": 334, \"volume\": 9000.0}, {\"doy\": 335, \"volume\": 9000.0}, {\"doy\": 336, \"volume\": 9000.0}, {\"doy\": 337, \"volume\": 9000.0}, {\"doy\": 338, \"volume\": 9000.0}, {\"doy\": 339, \"volume\": 9000.0}, {\"doy\": 340, \"volume\": 9000.0}, {\"doy\": 341, \"volume\": 9000.0}, {\"doy\": 342, \"volume\": 9000.0}, {\"doy\": 343, \"volume\": 9000.0}, {\"doy\": 344, \"volume\": 9000.0}, {\"doy\": 345, \"volume\": 9000.0}, {\"doy\": 346, \"volume\": 9000.0}, {\"doy\": 347, \"volume\": 9000.0}, {\"doy\": 348, \"volume\": 9000.0}, {\"doy\": 349, \"volume\": 9000.0}, {\"doy\": 350, \"volume\": 9000.0}, {\"doy\": 351, \"volume\": 9000.0}, {\"doy\": 352, \"volume\": 9000.0}, {\"doy\": 353, \"volume\": 9000.0}, {\"doy\": 354, \"volume\": 9000.0}, {\"doy\": 355, \"volume\": 9000.0}, {\"doy\": 356, \"volume\": 9000.0}, {\"doy\": 357, \"volume\": 9000.0}, {\"doy\": 358, \"volume\": 9000.0}, {\"doy\": 359, \"volume\": 9000.0}, {\"doy\": 360, \"volume\": 9000.0}, {\"doy\": 361, \"volume\": 9000.0}, {\"doy\": 362, \"volume\": 9000.0}, {\"doy\": 363, \"volume\": 9000.0}, {\"doy\": 364, \"volume\": 9000.0}, {\"doy\": 365, \"volume\": 9000.0}]}}, {\"mode\": \"vega-lite\"});\n",
       "</script>"
      ],
      "text/plain": [
       "alt.Chart(...)"
      ]
     },
     "execution_count": 108,
     "metadata": {},
     "output_type": "execute_result"
    }
   ],
   "source": [
    "cuve=[0]\n",
    "vmax = 9000\n",
    "for index in range(len(df)):\n",
    "        cuve.append(cuve[index-1] + df['apportsTotaux'].iloc[index] - df['besoinsTotaux'].iloc[index])\n",
    "        if cuve[index] > vmax:\n",
    "                cuve[index] = vmax\n",
    "\n",
    "dcuve = pd.DataFrame(list(zip(range(len(cuve)), cuve)), \n",
    "                     index = range(len(cuve)),\n",
    "                     columns=['doy', 'volume'])\n",
    "\n",
    "alt.Chart(dcuve).mark_line().encode(\n",
    "        x='doy',\n",
    "        y='volume'\n",
    ")"
   ]
  },
  {
   "attachments": {},
   "cell_type": "markdown",
   "metadata": {},
   "source": [
    "Avec paillage : \n",
    "Les besoins sont bien inférieurs. \n"
   ]
  }
 ],
 "metadata": {
  "kernelspec": {
   "display_name": ".venv",
   "language": "python",
   "name": "python3"
  },
  "language_info": {
   "codemirror_mode": {
    "name": "ipython",
    "version": 3
   },
   "file_extension": ".py",
   "mimetype": "text/x-python",
   "name": "python",
   "nbconvert_exporter": "python",
   "pygments_lexer": "ipython3",
   "version": "3.11.2"
  },
  "orig_nbformat": 4,
  "vscode": {
   "interpreter": {
    "hash": "e90112cafb4d1c901daea2540376a25af3d49cb7f6758657662eedef0022234f"
   }
  }
 },
 "nbformat": 4,
 "nbformat_minor": 2
}
