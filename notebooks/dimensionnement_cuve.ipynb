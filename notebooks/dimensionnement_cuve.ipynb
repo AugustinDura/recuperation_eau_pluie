{
 "cells": [
  {
   "attachments": {},
   "cell_type": "markdown",
   "metadata": {},
   "source": [
    "# Dimensionnement d'une cuve"
   ]
  },
  {
   "cell_type": "code",
   "execution_count": 102,
   "metadata": {},
   "outputs": [],
   "source": [
    "import numpy as np\n",
    "import pandas as pd\n",
    "import altair as alt"
   ]
  },
  {
   "attachments": {},
   "cell_type": "markdown",
   "metadata": {},
   "source": [
    "## Méthode\n",
    "\n",
    "On utilise un modèle de pluviométrie statique : on sait exactement, et à l'avance, quand la pluie tombera et en quelle quantité. \n",
    "Par ailleurs la consommation est également prédictible jour par jour. \n",
    "\n",
    "Pour construire le modèle nous utilisons la fiche climatique de Clermont-Ferrand qui donne, pour chaque mois, la hauteur cumulée tombée, et le nombre de jours où il a plu. \n",
    "\n",
    "Comme on ne sait pas quel jour il a plu, on distribue aléatoirement les jours de pluie dans le mois, et on considère qu'il tombe toujours la même quantité. "
   ]
  },
  {
   "attachments": {},
   "cell_type": "markdown",
   "metadata": {},
   "source": [
    "## Modèle de pluviométrie\n",
    "\n",
    "### Pluviométrie locale\n",
    "\n",
    "Considérons la fiche climatique de Clermont-Ferrand. "
   ]
  },
  {
   "cell_type": "code",
   "execution_count": 103,
   "metadata": {},
   "outputs": [
    {
     "data": {
      "text/html": [
       "<div>\n",
       "<style scoped>\n",
       "    .dataframe tbody tr th:only-of-type {\n",
       "        vertical-align: middle;\n",
       "    }\n",
       "\n",
       "    .dataframe tbody tr th {\n",
       "        vertical-align: top;\n",
       "    }\n",
       "\n",
       "    .dataframe thead th {\n",
       "        text-align: right;\n",
       "    }\n",
       "</style>\n",
       "<table border=\"1\" class=\"dataframe\">\n",
       "  <thead>\n",
       "    <tr style=\"text-align: right;\">\n",
       "      <th></th>\n",
       "      <th>mois</th>\n",
       "      <th>hauteur</th>\n",
       "      <th>nb_jours</th>\n",
       "    </tr>\n",
       "  </thead>\n",
       "  <tbody>\n",
       "    <tr>\n",
       "      <th>0</th>\n",
       "      <td>janvier</td>\n",
       "      <td>26.6</td>\n",
       "      <td>6.4</td>\n",
       "    </tr>\n",
       "    <tr>\n",
       "      <th>1</th>\n",
       "      <td>fevrier</td>\n",
       "      <td>18.7</td>\n",
       "      <td>5.0</td>\n",
       "    </tr>\n",
       "    <tr>\n",
       "      <th>2</th>\n",
       "      <td>mars</td>\n",
       "      <td>26.1</td>\n",
       "      <td>6.5</td>\n",
       "    </tr>\n",
       "    <tr>\n",
       "      <th>3</th>\n",
       "      <td>avril</td>\n",
       "      <td>51.1</td>\n",
       "      <td>8.3</td>\n",
       "    </tr>\n",
       "    <tr>\n",
       "      <th>4</th>\n",
       "      <td>mai</td>\n",
       "      <td>66.5</td>\n",
       "      <td>9.4</td>\n",
       "    </tr>\n",
       "  </tbody>\n",
       "</table>\n",
       "</div>"
      ],
      "text/plain": [
       "      mois  hauteur  nb_jours\n",
       "0  janvier     26.6       6.4\n",
       "1  fevrier     18.7       5.0\n",
       "2     mars     26.1       6.5\n",
       "3    avril     51.1       8.3\n",
       "4      mai     66.5       9.4"
      ]
     },
     "execution_count": 103,
     "metadata": {},
     "output_type": "execute_result"
    }
   ],
   "source": [
    "moyenne_clermont = pd.read_csv('../data/fiche_climat_clermont.csv', sep=',', )\n",
    "precipitations = pd.read_csv('../data/daily_rain_clermont.csv',\n",
    "                              sep=',').replace(np.nan, 0)\n",
    "moyenne_clermont.head()"
   ]
  },
  {
   "attachments": {},
   "cell_type": "markdown",
   "metadata": {},
   "source": [
    "Et visualisons-la :"
   ]
  },
  {
   "cell_type": "code",
   "execution_count": 104,
   "metadata": {},
   "outputs": [
    {
     "data": {
      "text/html": [
       "\n",
       "<div id=\"altair-viz-e77896079e794800a71f351c9eba2ebf\"></div>\n",
       "<script type=\"text/javascript\">\n",
       "  var VEGA_DEBUG = (typeof VEGA_DEBUG == \"undefined\") ? {} : VEGA_DEBUG;\n",
       "  (function(spec, embedOpt){\n",
       "    let outputDiv = document.currentScript.previousElementSibling;\n",
       "    if (outputDiv.id !== \"altair-viz-e77896079e794800a71f351c9eba2ebf\") {\n",
       "      outputDiv = document.getElementById(\"altair-viz-e77896079e794800a71f351c9eba2ebf\");\n",
       "    }\n",
       "    const paths = {\n",
       "      \"vega\": \"https://cdn.jsdelivr.net/npm//vega@5?noext\",\n",
       "      \"vega-lib\": \"https://cdn.jsdelivr.net/npm//vega-lib?noext\",\n",
       "      \"vega-lite\": \"https://cdn.jsdelivr.net/npm//vega-lite@4.17.0?noext\",\n",
       "      \"vega-embed\": \"https://cdn.jsdelivr.net/npm//vega-embed@6?noext\",\n",
       "    };\n",
       "\n",
       "    function maybeLoadScript(lib, version) {\n",
       "      var key = `${lib.replace(\"-\", \"\")}_version`;\n",
       "      return (VEGA_DEBUG[key] == version) ?\n",
       "        Promise.resolve(paths[lib]) :\n",
       "        new Promise(function(resolve, reject) {\n",
       "          var s = document.createElement('script');\n",
       "          document.getElementsByTagName(\"head\")[0].appendChild(s);\n",
       "          s.async = true;\n",
       "          s.onload = () => {\n",
       "            VEGA_DEBUG[key] = version;\n",
       "            return resolve(paths[lib]);\n",
       "          };\n",
       "          s.onerror = () => reject(`Error loading script: ${paths[lib]}`);\n",
       "          s.src = paths[lib];\n",
       "        });\n",
       "    }\n",
       "\n",
       "    function showError(err) {\n",
       "      outputDiv.innerHTML = `<div class=\"error\" style=\"color:red;\">${err}</div>`;\n",
       "      throw err;\n",
       "    }\n",
       "\n",
       "    function displayChart(vegaEmbed) {\n",
       "      vegaEmbed(outputDiv, spec, embedOpt)\n",
       "        .catch(err => showError(`Javascript Error: ${err.message}<br>This usually means there's a typo in your chart specification. See the javascript console for the full traceback.`));\n",
       "    }\n",
       "\n",
       "    if(typeof define === \"function\" && define.amd) {\n",
       "      requirejs.config({paths});\n",
       "      require([\"vega-embed\"], displayChart, err => showError(`Error loading script: ${err.message}`));\n",
       "    } else {\n",
       "      maybeLoadScript(\"vega\", \"5\")\n",
       "        .then(() => maybeLoadScript(\"vega-lite\", \"4.17.0\"))\n",
       "        .then(() => maybeLoadScript(\"vega-embed\", \"6\"))\n",
       "        .catch(showError)\n",
       "        .then(() => displayChart(vegaEmbed));\n",
       "    }\n",
       "  })({\"config\": {\"view\": {\"continuousWidth\": 400, \"continuousHeight\": 300}}, \"hconcat\": [{\"mark\": \"bar\", \"encoding\": {\"tooltip\": [{\"field\": \"mois\", \"type\": \"nominal\"}, {\"field\": \"hauteur\", \"type\": \"quantitative\"}], \"x\": {\"field\": \"mois\", \"sort\": [\"janvier\", \"fevrier\", \"mars\", \"avril\", \"mai\", \"juin\", \"juillet\", \"aout\", \"septembre\", \"octobre\", \"novembre\", \"decembre\"], \"title\": \"Mois\", \"type\": \"nominal\"}, \"y\": {\"field\": \"hauteur\", \"title\": \"Hauteur\", \"type\": \"quantitative\"}}}, {\"mark\": {\"type\": \"bar\", \"color\": \"orange\"}, \"encoding\": {\"tooltip\": [{\"field\": \"mois\", \"type\": \"nominal\"}, {\"field\": \"nb_jours\", \"type\": \"quantitative\"}], \"x\": {\"field\": \"mois\", \"sort\": [\"janvier\", \"fevrier\", \"mars\", \"avril\", \"mai\", \"juin\", \"juillet\", \"aout\", \"septembre\", \"octobre\", \"novembre\", \"decembre\"], \"title\": \"Mois\", \"type\": \"nominal\"}, \"y\": {\"field\": \"nb_jours\", \"title\": \"Nombre de jours de pluie\", \"type\": \"quantitative\"}}}], \"data\": {\"name\": \"data-102e7b0c4e9324ebb0bac5aefa419dc9\"}, \"$schema\": \"https://vega.github.io/schema/vega-lite/v4.17.0.json\", \"datasets\": {\"data-102e7b0c4e9324ebb0bac5aefa419dc9\": [{\"mois\": \"janvier\", \"hauteur\": 26.6, \"nb_jours\": 6.4}, {\"mois\": \"fevrier\", \"hauteur\": 18.7, \"nb_jours\": 5.0}, {\"mois\": \"mars\", \"hauteur\": 26.1, \"nb_jours\": 6.5}, {\"mois\": \"avril\", \"hauteur\": 51.1, \"nb_jours\": 8.3}, {\"mois\": \"mai\", \"hauteur\": 66.5, \"nb_jours\": 9.4}, {\"mois\": \"juin\", \"hauteur\": 67.5, \"nb_jours\": 8.0}, {\"mois\": \"juillet\", \"hauteur\": 63.3, \"nb_jours\": 7.4}, {\"mois\": \"aout\", \"hauteur\": 62.0, \"nb_jours\": 7.5}, {\"mois\": \"septembre\", \"hauteur\": 57.5, \"nb_jours\": 6.7}, {\"mois\": \"octobre\", \"hauteur\": 48.8, \"nb_jours\": 7.8}, {\"mois\": \"novembre\", \"hauteur\": 46.2, \"nb_jours\": 7.8}, {\"mois\": \"decembre\", \"hauteur\": 29.1, \"nb_jours\": 6.4}]}}, {\"mode\": \"vega-lite\"});\n",
       "</script>"
      ],
      "text/plain": [
       "alt.HConcatChart(...)"
      ]
     },
     "execution_count": 104,
     "metadata": {},
     "output_type": "execute_result"
    }
   ],
   "source": [
    "mois = ['janvier', 'fevrier', 'mars', 'avril', 'mai', 'juin', 'juillet', 'aout', 'septembre', 'octobre', 'novembre', 'decembre']\n",
    "alt.Chart(moyenne_clermont).mark_bar().encode(\n",
    "    alt.X('mois:N', title='Mois', sort=mois),\n",
    "    alt.Y('hauteur', title='Hauteur'),\n",
    "    tooltip=['mois', 'hauteur']\n",
    ") | alt.Chart(moyenne_clermont).mark_bar(color='orange').encode(\n",
    "    alt.X('mois:N', title='Mois', sort=mois),\n",
    "    alt.Y('nb_jours', title='Nombre de jours de pluie'),\n",
    "    tooltip=['mois', 'nb_jours']\n",
    ")\n"
   ]
  },
  {
   "attachments": {},
   "cell_type": "markdown",
   "metadata": {},
   "source": [
    "A partir de ces données, on simule une année de pluviométrie avec les réserves indiquées plus haut. \n",
    "Le résultat est donné ci-dessous"
   ]
  },
  {
   "cell_type": "code",
   "execution_count": 105,
   "metadata": {},
   "outputs": [
    {
     "data": {
      "text/html": [
       "\n",
       "<div id=\"altair-viz-89d2ac09558041d39768126afacfa96a\"></div>\n",
       "<script type=\"text/javascript\">\n",
       "  var VEGA_DEBUG = (typeof VEGA_DEBUG == \"undefined\") ? {} : VEGA_DEBUG;\n",
       "  (function(spec, embedOpt){\n",
       "    let outputDiv = document.currentScript.previousElementSibling;\n",
       "    if (outputDiv.id !== \"altair-viz-89d2ac09558041d39768126afacfa96a\") {\n",
       "      outputDiv = document.getElementById(\"altair-viz-89d2ac09558041d39768126afacfa96a\");\n",
       "    }\n",
       "    const paths = {\n",
       "      \"vega\": \"https://cdn.jsdelivr.net/npm//vega@5?noext\",\n",
       "      \"vega-lib\": \"https://cdn.jsdelivr.net/npm//vega-lib?noext\",\n",
       "      \"vega-lite\": \"https://cdn.jsdelivr.net/npm//vega-lite@4.17.0?noext\",\n",
       "      \"vega-embed\": \"https://cdn.jsdelivr.net/npm//vega-embed@6?noext\",\n",
       "    };\n",
       "\n",
       "    function maybeLoadScript(lib, version) {\n",
       "      var key = `${lib.replace(\"-\", \"\")}_version`;\n",
       "      return (VEGA_DEBUG[key] == version) ?\n",
       "        Promise.resolve(paths[lib]) :\n",
       "        new Promise(function(resolve, reject) {\n",
       "          var s = document.createElement('script');\n",
       "          document.getElementsByTagName(\"head\")[0].appendChild(s);\n",
       "          s.async = true;\n",
       "          s.onload = () => {\n",
       "            VEGA_DEBUG[key] = version;\n",
       "            return resolve(paths[lib]);\n",
       "          };\n",
       "          s.onerror = () => reject(`Error loading script: ${paths[lib]}`);\n",
       "          s.src = paths[lib];\n",
       "        });\n",
       "    }\n",
       "\n",
       "    function showError(err) {\n",
       "      outputDiv.innerHTML = `<div class=\"error\" style=\"color:red;\">${err}</div>`;\n",
       "      throw err;\n",
       "    }\n",
       "\n",
       "    function displayChart(vegaEmbed) {\n",
       "      vegaEmbed(outputDiv, spec, embedOpt)\n",
       "        .catch(err => showError(`Javascript Error: ${err.message}<br>This usually means there's a typo in your chart specification. See the javascript console for the full traceback.`));\n",
       "    }\n",
       "\n",
       "    if(typeof define === \"function\" && define.amd) {\n",
       "      requirejs.config({paths});\n",
       "      require([\"vega-embed\"], displayChart, err => showError(`Error loading script: ${err.message}`));\n",
       "    } else {\n",
       "      maybeLoadScript(\"vega\", \"5\")\n",
       "        .then(() => maybeLoadScript(\"vega-lite\", \"4.17.0\"))\n",
       "        .then(() => maybeLoadScript(\"vega-embed\", \"6\"))\n",
       "        .catch(showError)\n",
       "        .then(() => displayChart(vegaEmbed));\n",
       "    }\n",
       "  })({\"config\": {\"view\": {\"continuousWidth\": 400, \"continuousHeight\": 300}}, \"data\": {\"name\": \"data-3e82f293a68c8fd65539e912dc41398d\"}, \"mark\": \"point\", \"encoding\": {\"x\": {\"field\": \"doy\", \"title\": \"Jour de l'annee\", \"type\": \"temporal\"}, \"y\": {\"field\": \"mm\", \"title\": \"Hauteur des pr\\u00e9cipitations\", \"type\": \"quantitative\"}}, \"selection\": {\"selector012\": {\"type\": \"interval\", \"bind\": \"scales\", \"encodings\": [\"x\", \"y\"]}}, \"width\": 450, \"$schema\": \"https://vega.github.io/schema/vega-lite/v4.17.0.json\", \"datasets\": {\"data-3e82f293a68c8fd65539e912dc41398d\": [{\"doy\": \"01-01\", \"mm\": 0.0}, {\"doy\": \"01-02\", \"mm\": 0.0}, {\"doy\": \"01-03\", \"mm\": 0.0}, {\"doy\": \"01-04\", \"mm\": 0.0}, {\"doy\": \"01-05\", \"mm\": 0.0}, {\"doy\": \"01-06\", \"mm\": 0.0}, {\"doy\": \"01-07\", \"mm\": 0.0}, {\"doy\": \"01-08\", \"mm\": 0.0}, {\"doy\": \"01-09\", \"mm\": 0.0}, {\"doy\": \"01-10\", \"mm\": 4.43}, {\"doy\": \"01-11\", \"mm\": 4.43}, {\"doy\": \"01-12\", \"mm\": 0.0}, {\"doy\": \"01-13\", \"mm\": 4.43}, {\"doy\": \"01-14\", \"mm\": 4.43}, {\"doy\": \"01-15\", \"mm\": 0.0}, {\"doy\": \"01-16\", \"mm\": 0.0}, {\"doy\": \"01-17\", \"mm\": 4.43}, {\"doy\": \"01-18\", \"mm\": 0.0}, {\"doy\": \"01-19\", \"mm\": 0.0}, {\"doy\": \"01-20\", \"mm\": 0.0}, {\"doy\": \"01-21\", \"mm\": 0.0}, {\"doy\": \"01-22\", \"mm\": 0.0}, {\"doy\": \"01-23\", \"mm\": 0.0}, {\"doy\": \"01-24\", \"mm\": 0.0}, {\"doy\": \"01-25\", \"mm\": 0.0}, {\"doy\": \"01-26\", \"mm\": 4.43}, {\"doy\": \"01-27\", \"mm\": 0.0}, {\"doy\": \"01-28\", \"mm\": 0.0}, {\"doy\": \"01-29\", \"mm\": 0.0}, {\"doy\": \"01-30\", \"mm\": 0.0}, {\"doy\": \"01-31\", \"mm\": 0.0}, {\"doy\": \"02-01\", \"mm\": 0.0}, {\"doy\": \"02-02\", \"mm\": 0.0}, {\"doy\": \"02-03\", \"mm\": 0.0}, {\"doy\": \"02-04\", \"mm\": 0.0}, {\"doy\": \"02-05\", \"mm\": 0.0}, {\"doy\": \"02-06\", \"mm\": 0.0}, {\"doy\": \"02-07\", \"mm\": 0.0}, {\"doy\": \"02-08\", \"mm\": 0.0}, {\"doy\": \"02-09\", \"mm\": 0.0}, {\"doy\": \"02-10\", \"mm\": 0.0}, {\"doy\": \"02-11\", \"mm\": 0.0}, {\"doy\": \"02-12\", \"mm\": 5.0}, {\"doy\": \"02-13\", \"mm\": 0.0}, {\"doy\": \"02-14\", \"mm\": 0.0}, {\"doy\": \"02-15\", \"mm\": 0.0}, {\"doy\": \"02-16\", \"mm\": 5.0}, {\"doy\": \"02-17\", \"mm\": 5.0}, {\"doy\": \"02-18\", \"mm\": 0.0}, {\"doy\": \"02-19\", \"mm\": 0.0}, {\"doy\": \"02-20\", \"mm\": 0.0}, {\"doy\": \"02-21\", \"mm\": 0.0}, {\"doy\": \"02-22\", \"mm\": 0.0}, {\"doy\": \"02-23\", \"mm\": 0.0}, {\"doy\": \"02-24\", \"mm\": 0.0}, {\"doy\": \"02-25\", \"mm\": 0.0}, {\"doy\": \"02-26\", \"mm\": 0.0}, {\"doy\": \"02-27\", \"mm\": 5.0}, {\"doy\": \"02-28\", \"mm\": 5.0}, {\"doy\": \"03-01\", \"mm\": 0.0}, {\"doy\": \"03-02\", \"mm\": 0.0}, {\"doy\": \"03-03\", \"mm\": 0.0}, {\"doy\": \"03-04\", \"mm\": 4.0}, {\"doy\": \"03-05\", \"mm\": 0.0}, {\"doy\": \"03-06\", \"mm\": 0.0}, {\"doy\": \"03-07\", \"mm\": 0.0}, {\"doy\": \"03-08\", \"mm\": 4.0}, {\"doy\": \"03-09\", \"mm\": 0.0}, {\"doy\": \"03-10\", \"mm\": 0.0}, {\"doy\": \"03-11\", \"mm\": 0.0}, {\"doy\": \"03-12\", \"mm\": 0.0}, {\"doy\": \"03-13\", \"mm\": 0.0}, {\"doy\": \"03-14\", \"mm\": 0.0}, {\"doy\": \"03-15\", \"mm\": 0.0}, {\"doy\": \"03-16\", \"mm\": 4.0}, {\"doy\": \"03-17\", \"mm\": 4.0}, {\"doy\": \"03-18\", \"mm\": 0.0}, {\"doy\": \"03-19\", \"mm\": 0.0}, {\"doy\": \"03-20\", \"mm\": 8.0}, {\"doy\": \"03-21\", \"mm\": 0.0}, {\"doy\": \"03-22\", \"mm\": 0.0}, {\"doy\": \"03-23\", \"mm\": 0.0}, {\"doy\": \"03-24\", \"mm\": 0.0}, {\"doy\": \"03-25\", \"mm\": 4.0}, {\"doy\": \"03-26\", \"mm\": 0.0}, {\"doy\": \"03-27\", \"mm\": 0.0}, {\"doy\": \"03-28\", \"mm\": 0.0}, {\"doy\": \"03-29\", \"mm\": 0.0}, {\"doy\": \"03-30\", \"mm\": 0.0}, {\"doy\": \"03-31\", \"mm\": 0.0}, {\"doy\": \"04-01\", \"mm\": 6.0}, {\"doy\": \"04-02\", \"mm\": 0.0}, {\"doy\": \"04-03\", \"mm\": 0.0}, {\"doy\": \"04-04\", \"mm\": 6.0}, {\"doy\": \"04-05\", \"mm\": 0.0}, {\"doy\": \"04-06\", \"mm\": 6.0}, {\"doy\": \"04-07\", \"mm\": 6.0}, {\"doy\": \"04-08\", \"mm\": 0.0}, {\"doy\": \"04-09\", \"mm\": 0.0}, {\"doy\": \"04-10\", \"mm\": 0.0}, {\"doy\": \"04-11\", \"mm\": 0.0}, {\"doy\": \"04-12\", \"mm\": 12.0}, {\"doy\": \"04-13\", \"mm\": 0.0}, {\"doy\": \"04-14\", \"mm\": 0.0}, {\"doy\": \"04-15\", \"mm\": 0.0}, {\"doy\": \"04-16\", \"mm\": 0.0}, {\"doy\": \"04-17\", \"mm\": 0.0}, {\"doy\": \"04-18\", \"mm\": 0.0}, {\"doy\": \"04-19\", \"mm\": 0.0}, {\"doy\": \"04-20\", \"mm\": 0.0}, {\"doy\": \"04-21\", \"mm\": 0.0}, {\"doy\": \"04-22\", \"mm\": 0.0}, {\"doy\": \"04-23\", \"mm\": 0.0}, {\"doy\": \"04-24\", \"mm\": 6.0}, {\"doy\": \"04-25\", \"mm\": 6.0}, {\"doy\": \"04-26\", \"mm\": 0.0}, {\"doy\": \"04-27\", \"mm\": 0.0}, {\"doy\": \"04-28\", \"mm\": 0.0}, {\"doy\": \"04-29\", \"mm\": 0.0}, {\"doy\": \"04-30\", \"mm\": 0.0}, {\"doy\": \"05-01\", \"mm\": 0.0}, {\"doy\": \"05-02\", \"mm\": 7.0}, {\"doy\": \"05-03\", \"mm\": 0.0}, {\"doy\": \"05-04\", \"mm\": 14.0}, {\"doy\": \"05-05\", \"mm\": 0.0}, {\"doy\": \"05-06\", \"mm\": 0.0}, {\"doy\": \"05-07\", \"mm\": 0.0}, {\"doy\": \"05-08\", \"mm\": 7.0}, {\"doy\": \"05-09\", \"mm\": 0.0}, {\"doy\": \"05-10\", \"mm\": 0.0}, {\"doy\": \"05-11\", \"mm\": 7.0}, {\"doy\": \"05-12\", \"mm\": 0.0}, {\"doy\": \"05-13\", \"mm\": 0.0}, {\"doy\": \"05-14\", \"mm\": 0.0}, {\"doy\": \"05-15\", \"mm\": 7.0}, {\"doy\": \"05-16\", \"mm\": 0.0}, {\"doy\": \"05-17\", \"mm\": 0.0}, {\"doy\": \"05-18\", \"mm\": 0.0}, {\"doy\": \"05-19\", \"mm\": 0.0}, {\"doy\": \"05-20\", \"mm\": 7.0}, {\"doy\": \"05-21\", \"mm\": 0.0}, {\"doy\": \"05-22\", \"mm\": 7.0}, {\"doy\": \"05-23\", \"mm\": 0.0}, {\"doy\": \"05-24\", \"mm\": 0.0}, {\"doy\": \"05-25\", \"mm\": 0.0}, {\"doy\": \"05-26\", \"mm\": 0.0}, {\"doy\": \"05-27\", \"mm\": 7.0}, {\"doy\": \"05-28\", \"mm\": 7.0}, {\"doy\": \"05-29\", \"mm\": 0.0}, {\"doy\": \"05-30\", \"mm\": 0.0}, {\"doy\": \"05-31\", \"mm\": 0.0}, {\"doy\": \"06-01\", \"mm\": 0.0}, {\"doy\": \"06-02\", \"mm\": 8.0}, {\"doy\": \"06-03\", \"mm\": 0.0}, {\"doy\": \"06-04\", \"mm\": 0.0}, {\"doy\": \"06-05\", \"mm\": 0.0}, {\"doy\": \"06-06\", \"mm\": 0.0}, {\"doy\": \"06-07\", \"mm\": 8.0}, {\"doy\": \"06-08\", \"mm\": 8.0}, {\"doy\": \"06-09\", \"mm\": 0.0}, {\"doy\": \"06-10\", \"mm\": 0.0}, {\"doy\": \"06-11\", \"mm\": 0.0}, {\"doy\": \"06-12\", \"mm\": 8.0}, {\"doy\": \"06-13\", \"mm\": 8.0}, {\"doy\": \"06-14\", \"mm\": 8.0}, {\"doy\": \"06-15\", \"mm\": 0.0}, {\"doy\": \"06-16\", \"mm\": 0.0}, {\"doy\": \"06-17\", \"mm\": 0.0}, {\"doy\": \"06-18\", \"mm\": 0.0}, {\"doy\": \"06-19\", \"mm\": 0.0}, {\"doy\": \"06-20\", \"mm\": 0.0}, {\"doy\": \"06-21\", \"mm\": 0.0}, {\"doy\": \"06-22\", \"mm\": 0.0}, {\"doy\": \"06-23\", \"mm\": 8.0}, {\"doy\": \"06-24\", \"mm\": 0.0}, {\"doy\": \"06-25\", \"mm\": 0.0}, {\"doy\": \"06-26\", \"mm\": 0.0}, {\"doy\": \"06-27\", \"mm\": 8.0}, {\"doy\": \"06-28\", \"mm\": 0.0}, {\"doy\": \"06-29\", \"mm\": 0.0}, {\"doy\": \"06-30\", \"mm\": 0.0}, {\"doy\": \"07-01\", \"mm\": 0.0}, {\"doy\": \"07-02\", \"mm\": 0.0}, {\"doy\": \"07-03\", \"mm\": 7.0}, {\"doy\": \"07-04\", \"mm\": 0.0}, {\"doy\": \"07-05\", \"mm\": 0.0}, {\"doy\": \"07-06\", \"mm\": 0.0}, {\"doy\": \"07-07\", \"mm\": 7.0}, {\"doy\": \"07-08\", \"mm\": 7.0}, {\"doy\": \"07-09\", \"mm\": 7.0}, {\"doy\": \"07-10\", \"mm\": 0.0}, {\"doy\": \"07-11\", \"mm\": 0.0}, {\"doy\": \"07-12\", \"mm\": 0.0}, {\"doy\": \"07-13\", \"mm\": 0.0}, {\"doy\": \"07-14\", \"mm\": 0.0}, {\"doy\": \"07-15\", \"mm\": 0.0}, {\"doy\": \"07-16\", \"mm\": 0.0}, {\"doy\": \"07-17\", \"mm\": 0.0}, {\"doy\": \"07-18\", \"mm\": 7.0}, {\"doy\": \"07-19\", \"mm\": 0.0}, {\"doy\": \"07-20\", \"mm\": 0.0}, {\"doy\": \"07-21\", \"mm\": 7.0}, {\"doy\": \"07-22\", \"mm\": 7.0}, {\"doy\": \"07-23\", \"mm\": 0.0}, {\"doy\": \"07-24\", \"mm\": 0.0}, {\"doy\": \"07-25\", \"mm\": 0.0}, {\"doy\": \"07-26\", \"mm\": 0.0}, {\"doy\": \"07-27\", \"mm\": 7.0}, {\"doy\": \"07-28\", \"mm\": 0.0}, {\"doy\": \"07-29\", \"mm\": 0.0}, {\"doy\": \"07-30\", \"mm\": 7.0}, {\"doy\": \"07-31\", \"mm\": 0.0}, {\"doy\": \"08-01\", \"mm\": 0.0}, {\"doy\": \"08-02\", \"mm\": 0.0}, {\"doy\": \"08-03\", \"mm\": 8.0}, {\"doy\": \"08-04\", \"mm\": 0.0}, {\"doy\": \"08-05\", \"mm\": 0.0}, {\"doy\": \"08-06\", \"mm\": 0.0}, {\"doy\": \"08-07\", \"mm\": 0.0}, {\"doy\": \"08-08\", \"mm\": 8.0}, {\"doy\": \"08-09\", \"mm\": 8.0}, {\"doy\": \"08-10\", \"mm\": 0.0}, {\"doy\": \"08-11\", \"mm\": 0.0}, {\"doy\": \"08-12\", \"mm\": 0.0}, {\"doy\": \"08-13\", \"mm\": 0.0}, {\"doy\": \"08-14\", \"mm\": 0.0}, {\"doy\": \"08-15\", \"mm\": 16.0}, {\"doy\": \"08-16\", \"mm\": 0.0}, {\"doy\": \"08-17\", \"mm\": 0.0}, {\"doy\": \"08-18\", \"mm\": 0.0}, {\"doy\": \"08-19\", \"mm\": 0.0}, {\"doy\": \"08-20\", \"mm\": 0.0}, {\"doy\": \"08-21\", \"mm\": 8.0}, {\"doy\": \"08-22\", \"mm\": 8.0}, {\"doy\": \"08-23\", \"mm\": 0.0}, {\"doy\": \"08-24\", \"mm\": 0.0}, {\"doy\": \"08-25\", \"mm\": 8.0}, {\"doy\": \"08-26\", \"mm\": 0.0}, {\"doy\": \"08-27\", \"mm\": 0.0}, {\"doy\": \"08-28\", \"mm\": 0.0}, {\"doy\": \"08-29\", \"mm\": 0.0}, {\"doy\": \"08-30\", \"mm\": 0.0}, {\"doy\": \"08-31\", \"mm\": 0.0}, {\"doy\": \"09-01\", \"mm\": 0.0}, {\"doy\": \"09-02\", \"mm\": 0.0}, {\"doy\": \"09-03\", \"mm\": 8.0}, {\"doy\": \"09-04\", \"mm\": 0.0}, {\"doy\": \"09-05\", \"mm\": 0.0}, {\"doy\": \"09-06\", \"mm\": 0.0}, {\"doy\": \"09-07\", \"mm\": 0.0}, {\"doy\": \"09-08\", \"mm\": 0.0}, {\"doy\": \"09-09\", \"mm\": 0.0}, {\"doy\": \"09-10\", \"mm\": 0.0}, {\"doy\": \"09-11\", \"mm\": 8.0}, {\"doy\": \"09-12\", \"mm\": 8.0}, {\"doy\": \"09-13\", \"mm\": 0.0}, {\"doy\": \"09-14\", \"mm\": 0.0}, {\"doy\": \"09-15\", \"mm\": 0.0}, {\"doy\": \"09-16\", \"mm\": 0.0}, {\"doy\": \"09-17\", \"mm\": 0.0}, {\"doy\": \"09-18\", \"mm\": 0.0}, {\"doy\": \"09-19\", \"mm\": 8.0}, {\"doy\": \"09-20\", \"mm\": 8.0}, {\"doy\": \"09-21\", \"mm\": 16.0}, {\"doy\": \"09-22\", \"mm\": 0.0}, {\"doy\": \"09-23\", \"mm\": 0.0}, {\"doy\": \"09-24\", \"mm\": 0.0}, {\"doy\": \"09-25\", \"mm\": 8.0}, {\"doy\": \"09-26\", \"mm\": 0.0}, {\"doy\": \"09-27\", \"mm\": 0.0}, {\"doy\": \"09-28\", \"mm\": 0.0}, {\"doy\": \"09-29\", \"mm\": 0.0}, {\"doy\": \"09-30\", \"mm\": 0.0}, {\"doy\": \"10-01\", \"mm\": 0.0}, {\"doy\": \"10-02\", \"mm\": 0.0}, {\"doy\": \"10-03\", \"mm\": 0.0}, {\"doy\": \"10-04\", \"mm\": 6.0}, {\"doy\": \"10-05\", \"mm\": 0.0}, {\"doy\": \"10-06\", \"mm\": 0.0}, {\"doy\": \"10-07\", \"mm\": 0.0}, {\"doy\": \"10-08\", \"mm\": 0.0}, {\"doy\": \"10-09\", \"mm\": 6.0}, {\"doy\": \"10-10\", \"mm\": 6.0}, {\"doy\": \"10-11\", \"mm\": 0.0}, {\"doy\": \"10-12\", \"mm\": 0.0}, {\"doy\": \"10-13\", \"mm\": 0.0}, {\"doy\": \"10-14\", \"mm\": 0.0}, {\"doy\": \"10-15\", \"mm\": 0.0}, {\"doy\": \"10-16\", \"mm\": 6.0}, {\"doy\": \"10-17\", \"mm\": 0.0}, {\"doy\": \"10-18\", \"mm\": 0.0}, {\"doy\": \"10-19\", \"mm\": 0.0}, {\"doy\": \"10-20\", \"mm\": 0.0}, {\"doy\": \"10-21\", \"mm\": 6.0}, {\"doy\": \"10-22\", \"mm\": 0.0}, {\"doy\": \"10-23\", \"mm\": 0.0}, {\"doy\": \"10-24\", \"mm\": 0.0}, {\"doy\": \"10-25\", \"mm\": 6.0}, {\"doy\": \"10-26\", \"mm\": 6.0}, {\"doy\": \"10-27\", \"mm\": 0.0}, {\"doy\": \"10-28\", \"mm\": 6.0}, {\"doy\": \"10-29\", \"mm\": 0.0}, {\"doy\": \"10-30\", \"mm\": 0.0}, {\"doy\": \"10-31\", \"mm\": 0.0}, {\"doy\": \"11-01\", \"mm\": 0.0}, {\"doy\": \"11-02\", \"mm\": 6.0}, {\"doy\": \"11-03\", \"mm\": 6.0}, {\"doy\": \"11-04\", \"mm\": 0.0}, {\"doy\": \"11-05\", \"mm\": 0.0}, {\"doy\": \"11-06\", \"mm\": 0.0}, {\"doy\": \"11-07\", \"mm\": 6.0}, {\"doy\": \"11-08\", \"mm\": 6.0}, {\"doy\": \"11-09\", \"mm\": 0.0}, {\"doy\": \"11-10\", \"mm\": 0.0}, {\"doy\": \"11-11\", \"mm\": 0.0}, {\"doy\": \"11-12\", \"mm\": 0.0}, {\"doy\": \"11-13\", \"mm\": 0.0}, {\"doy\": \"11-14\", \"mm\": 6.0}, {\"doy\": \"11-15\", \"mm\": 0.0}, {\"doy\": \"11-16\", \"mm\": 0.0}, {\"doy\": \"11-17\", \"mm\": 0.0}, {\"doy\": \"11-18\", \"mm\": 6.0}, {\"doy\": \"11-19\", \"mm\": 0.0}, {\"doy\": \"11-20\", \"mm\": 0.0}, {\"doy\": \"11-21\", \"mm\": 0.0}, {\"doy\": \"11-22\", \"mm\": 0.0}, {\"doy\": \"11-23\", \"mm\": 0.0}, {\"doy\": \"11-24\", \"mm\": 6.0}, {\"doy\": \"11-25\", \"mm\": 6.0}, {\"doy\": \"11-26\", \"mm\": 0.0}, {\"doy\": \"11-27\", \"mm\": 0.0}, {\"doy\": \"11-28\", \"mm\": 0.0}, {\"doy\": \"11-29\", \"mm\": 0.0}, {\"doy\": \"11-30\", \"mm\": 0.0}, {\"doy\": \"12-01\", \"mm\": 0.0}, {\"doy\": \"12-02\", \"mm\": 0.0}, {\"doy\": \"12-03\", \"mm\": 5.0}, {\"doy\": \"12-04\", \"mm\": 0.0}, {\"doy\": \"12-05\", \"mm\": 0.0}, {\"doy\": \"12-06\", \"mm\": 0.0}, {\"doy\": \"12-07\", \"mm\": 5.0}, {\"doy\": \"12-08\", \"mm\": 0.0}, {\"doy\": \"12-09\", \"mm\": 0.0}, {\"doy\": \"12-10\", \"mm\": 0.0}, {\"doy\": \"12-11\", \"mm\": 5.0}, {\"doy\": \"12-12\", \"mm\": 0.0}, {\"doy\": \"12-13\", \"mm\": 0.0}, {\"doy\": \"12-14\", \"mm\": 0.0}, {\"doy\": \"12-15\", \"mm\": 0.0}, {\"doy\": \"12-16\", \"mm\": 0.0}, {\"doy\": \"12-17\", \"mm\": 0.0}, {\"doy\": \"12-18\", \"mm\": 0.0}, {\"doy\": \"12-19\", \"mm\": 0.0}, {\"doy\": \"12-20\", \"mm\": 5.0}, {\"doy\": \"12-21\", \"mm\": 5.0}, {\"doy\": \"12-22\", \"mm\": 0.0}, {\"doy\": \"12-23\", \"mm\": 0.0}, {\"doy\": \"12-24\", \"mm\": 0.0}, {\"doy\": \"12-25\", \"mm\": 0.0}, {\"doy\": \"12-26\", \"mm\": 0.0}, {\"doy\": \"12-27\", \"mm\": 0.0}, {\"doy\": \"12-28\", \"mm\": 0.0}, {\"doy\": \"12-29\", \"mm\": 0.0}, {\"doy\": \"12-30\", \"mm\": 0.0}, {\"doy\": \"12-31\", \"mm\": 0.0}]}}, {\"mode\": \"vega-lite\"});\n",
       "</script>"
      ],
      "text/plain": [
       "alt.Chart(...)"
      ]
     },
     "execution_count": 105,
     "metadata": {},
     "output_type": "execute_result"
    }
   ],
   "source": [
    "\n",
    "alt.Chart(precipitations).mark_point().encode(\n",
    "    x=alt.X('doy:T', \n",
    "            title = 'Jour de l\\'annee'),\n",
    "    y=alt.Y('mm:Q', title = 'Hauteur des précipitations')\n",
    ").properties(width=450).interactive()\n",
    "\n",
    "# NB : Altair infere le mois de l'annee en Anglais"
   ]
  },
  {
   "attachments": {},
   "cell_type": "markdown",
   "metadata": {},
   "source": [
    "Comme prévu, ce modèle n'est pas représentatif de la réalité, car les pluies sont bien trop homogènes en hauteur. \n",
    "On en tire immédiatement l'eau disponible à chaque pluie grâce à la surface du toit. "
   ]
  },
  {
   "attachments": {},
   "cell_type": "markdown",
   "metadata": {},
   "source": [
    "## Consommation\n",
    "\n",
    "### Typologie des consommations\n",
    "\n",
    "On distingue ici trois sortes de besoins : \n",
    "\n",
    "* irrigation (potager)\n",
    "* agricole (machines)\n",
    "* domestiques\n",
    "\n",
    "Dans un premier temps, nous ne considérerons que les besoins d'irrigation. \n",
    "\n",
    "### Besoins potager\n",
    "\n",
    "Le potager à irriguer a une surface de $100 m^2$ . \n",
    "\n",
    "Pour simplifier les calculs, on ne prendra que trois valeurs de besoins en eau du potager : \n",
    "\n",
    "* D'octobre à avril il n'y a pas besoin d'irrigation.\n",
    "* Entre juin et août : irrigation maximale.\n",
    "* En mai et septembre, irrigation modérée. \n",
    "\n",
    "Pour simplifier, on considérera que l'irrigation est de $20L/m^2$ tous les trois jours *sans paillage* au plus fort de l'été. \n",
    "\n"
   ]
  },
  {
   "cell_type": "code",
   "execution_count": 106,
   "metadata": {},
   "outputs": [
    {
     "data": {
      "text/html": [
       "<div>\n",
       "<style scoped>\n",
       "    .dataframe tbody tr th:only-of-type {\n",
       "        vertical-align: middle;\n",
       "    }\n",
       "\n",
       "    .dataframe tbody tr th {\n",
       "        vertical-align: top;\n",
       "    }\n",
       "\n",
       "    .dataframe thead th {\n",
       "        text-align: right;\n",
       "    }\n",
       "</style>\n",
       "<table border=\"1\" class=\"dataframe\">\n",
       "  <thead>\n",
       "    <tr style=\"text-align: right;\">\n",
       "      <th></th>\n",
       "      <th>doy</th>\n",
       "      <th>julianDay</th>\n",
       "      <th>conso_potager</th>\n",
       "      <th>conso_paillage</th>\n",
       "    </tr>\n",
       "  </thead>\n",
       "  <tbody>\n",
       "    <tr>\n",
       "      <th>0</th>\n",
       "      <td>01-01</td>\n",
       "      <td>1</td>\n",
       "      <td>0.0</td>\n",
       "      <td>0.0</td>\n",
       "    </tr>\n",
       "    <tr>\n",
       "      <th>1</th>\n",
       "      <td>01-02</td>\n",
       "      <td>2</td>\n",
       "      <td>0.0</td>\n",
       "      <td>0.0</td>\n",
       "    </tr>\n",
       "    <tr>\n",
       "      <th>2</th>\n",
       "      <td>01-03</td>\n",
       "      <td>3</td>\n",
       "      <td>0.0</td>\n",
       "      <td>0.0</td>\n",
       "    </tr>\n",
       "    <tr>\n",
       "      <th>3</th>\n",
       "      <td>01-04</td>\n",
       "      <td>4</td>\n",
       "      <td>0.0</td>\n",
       "      <td>0.0</td>\n",
       "    </tr>\n",
       "    <tr>\n",
       "      <th>4</th>\n",
       "      <td>01-05</td>\n",
       "      <td>5</td>\n",
       "      <td>0.0</td>\n",
       "      <td>0.0</td>\n",
       "    </tr>\n",
       "  </tbody>\n",
       "</table>\n",
       "</div>"
      ],
      "text/plain": [
       "     doy  julianDay  conso_potager  conso_paillage\n",
       "0  01-01          1            0.0             0.0\n",
       "1  01-02          2            0.0             0.0\n",
       "2  01-03          3            0.0             0.0\n",
       "3  01-04          4            0.0             0.0\n",
       "4  01-05          5            0.0             0.0"
      ]
     },
     "execution_count": 106,
     "metadata": {},
     "output_type": "execute_result"
    }
   ],
   "source": [
    "besoins = pd.read_csv('../data/consommation_potager.csv', sep=',')\n",
    "besoins.head()"
   ]
  },
  {
   "cell_type": "code",
   "execution_count": 107,
   "metadata": {},
   "outputs": [
    {
     "data": {
      "text/html": [
       "\n",
       "<div id=\"altair-viz-b639bf3f004f4b85b48727c77a252335\"></div>\n",
       "<script type=\"text/javascript\">\n",
       "  var VEGA_DEBUG = (typeof VEGA_DEBUG == \"undefined\") ? {} : VEGA_DEBUG;\n",
       "  (function(spec, embedOpt){\n",
       "    let outputDiv = document.currentScript.previousElementSibling;\n",
       "    if (outputDiv.id !== \"altair-viz-b639bf3f004f4b85b48727c77a252335\") {\n",
       "      outputDiv = document.getElementById(\"altair-viz-b639bf3f004f4b85b48727c77a252335\");\n",
       "    }\n",
       "    const paths = {\n",
       "      \"vega\": \"https://cdn.jsdelivr.net/npm//vega@5?noext\",\n",
       "      \"vega-lib\": \"https://cdn.jsdelivr.net/npm//vega-lib?noext\",\n",
       "      \"vega-lite\": \"https://cdn.jsdelivr.net/npm//vega-lite@4.17.0?noext\",\n",
       "      \"vega-embed\": \"https://cdn.jsdelivr.net/npm//vega-embed@6?noext\",\n",
       "    };\n",
       "\n",
       "    function maybeLoadScript(lib, version) {\n",
       "      var key = `${lib.replace(\"-\", \"\")}_version`;\n",
       "      return (VEGA_DEBUG[key] == version) ?\n",
       "        Promise.resolve(paths[lib]) :\n",
       "        new Promise(function(resolve, reject) {\n",
       "          var s = document.createElement('script');\n",
       "          document.getElementsByTagName(\"head\")[0].appendChild(s);\n",
       "          s.async = true;\n",
       "          s.onload = () => {\n",
       "            VEGA_DEBUG[key] = version;\n",
       "            return resolve(paths[lib]);\n",
       "          };\n",
       "          s.onerror = () => reject(`Error loading script: ${paths[lib]}`);\n",
       "          s.src = paths[lib];\n",
       "        });\n",
       "    }\n",
       "\n",
       "    function showError(err) {\n",
       "      outputDiv.innerHTML = `<div class=\"error\" style=\"color:red;\">${err}</div>`;\n",
       "      throw err;\n",
       "    }\n",
       "\n",
       "    function displayChart(vegaEmbed) {\n",
       "      vegaEmbed(outputDiv, spec, embedOpt)\n",
       "        .catch(err => showError(`Javascript Error: ${err.message}<br>This usually means there's a typo in your chart specification. See the javascript console for the full traceback.`));\n",
       "    }\n",
       "\n",
       "    if(typeof define === \"function\" && define.amd) {\n",
       "      requirejs.config({paths});\n",
       "      require([\"vega-embed\"], displayChart, err => showError(`Error loading script: ${err.message}`));\n",
       "    } else {\n",
       "      maybeLoadScript(\"vega\", \"5\")\n",
       "        .then(() => maybeLoadScript(\"vega-lite\", \"4.17.0\"))\n",
       "        .then(() => maybeLoadScript(\"vega-embed\", \"6\"))\n",
       "        .catch(showError)\n",
       "        .then(() => displayChart(vegaEmbed));\n",
       "    }\n",
       "  })({\"config\": {\"view\": {\"continuousWidth\": 400, \"continuousHeight\": 300}}, \"data\": {\"name\": \"data-d10792b7846c162e13e175dbcdffbaf9\"}, \"mark\": \"line\", \"encoding\": {\"tooltip\": [{\"field\": \"conso_potager\", \"type\": \"quantitative\"}], \"x\": {\"field\": \"doy\", \"timeUnit\": \"monthdate\", \"title\": \"Jour de l'ann\\u00e9e\", \"type\": \"temporal\"}, \"y\": {\"field\": \"conso_potager\", \"title\": \"Consommation (L/m2)\", \"type\": \"quantitative\"}}, \"width\": 600, \"$schema\": \"https://vega.github.io/schema/vega-lite/v4.17.0.json\", \"datasets\": {\"data-d10792b7846c162e13e175dbcdffbaf9\": [{\"doy\": \"01-01\", \"julianDay\": 1, \"conso_potager\": 0.0, \"conso_paillage\": 0.0}, {\"doy\": \"01-02\", \"julianDay\": 2, \"conso_potager\": 0.0, \"conso_paillage\": 0.0}, {\"doy\": \"01-03\", \"julianDay\": 3, \"conso_potager\": 0.0, \"conso_paillage\": 0.0}, {\"doy\": \"01-04\", \"julianDay\": 4, \"conso_potager\": 0.0, \"conso_paillage\": 0.0}, {\"doy\": \"01-05\", \"julianDay\": 5, \"conso_potager\": 0.0, \"conso_paillage\": 0.0}, {\"doy\": \"01-06\", \"julianDay\": 6, \"conso_potager\": 0.0, \"conso_paillage\": 0.0}, {\"doy\": \"01-07\", \"julianDay\": 7, \"conso_potager\": 0.0, \"conso_paillage\": 0.0}, {\"doy\": \"01-08\", \"julianDay\": 8, \"conso_potager\": 0.0, \"conso_paillage\": 0.0}, {\"doy\": \"01-09\", \"julianDay\": 9, \"conso_potager\": 0.0, \"conso_paillage\": 0.0}, {\"doy\": \"01-10\", \"julianDay\": 10, \"conso_potager\": 0.0, \"conso_paillage\": 0.0}, {\"doy\": \"01-11\", \"julianDay\": 11, \"conso_potager\": 0.0, \"conso_paillage\": 0.0}, {\"doy\": \"01-12\", \"julianDay\": 12, \"conso_potager\": 0.0, \"conso_paillage\": 0.0}, {\"doy\": \"01-13\", \"julianDay\": 13, \"conso_potager\": 0.0, \"conso_paillage\": 0.0}, {\"doy\": \"01-14\", \"julianDay\": 14, \"conso_potager\": 0.0, \"conso_paillage\": 0.0}, {\"doy\": \"01-15\", \"julianDay\": 15, \"conso_potager\": 0.0, \"conso_paillage\": 0.0}, {\"doy\": \"01-16\", \"julianDay\": 16, \"conso_potager\": 0.0, \"conso_paillage\": 0.0}, {\"doy\": \"01-17\", \"julianDay\": 17, \"conso_potager\": 0.0, \"conso_paillage\": 0.0}, {\"doy\": \"01-18\", \"julianDay\": 18, \"conso_potager\": 0.0, \"conso_paillage\": 0.0}, {\"doy\": \"01-19\", \"julianDay\": 19, \"conso_potager\": 0.0, \"conso_paillage\": 0.0}, {\"doy\": \"01-20\", \"julianDay\": 20, \"conso_potager\": 0.0, \"conso_paillage\": 0.0}, {\"doy\": \"01-21\", \"julianDay\": 21, \"conso_potager\": 0.0, \"conso_paillage\": 0.0}, {\"doy\": \"01-22\", \"julianDay\": 22, \"conso_potager\": 0.0, \"conso_paillage\": 0.0}, {\"doy\": \"01-23\", \"julianDay\": 23, \"conso_potager\": 0.0, \"conso_paillage\": 0.0}, {\"doy\": \"01-24\", \"julianDay\": 24, \"conso_potager\": 0.0, \"conso_paillage\": 0.0}, {\"doy\": \"01-25\", \"julianDay\": 25, \"conso_potager\": 0.0, \"conso_paillage\": 0.0}, {\"doy\": \"01-26\", \"julianDay\": 26, \"conso_potager\": 0.0, \"conso_paillage\": 0.0}, {\"doy\": \"01-27\", \"julianDay\": 27, \"conso_potager\": 0.0, \"conso_paillage\": 0.0}, {\"doy\": \"01-28\", \"julianDay\": 28, \"conso_potager\": 0.0, \"conso_paillage\": 0.0}, {\"doy\": \"01-29\", \"julianDay\": 29, \"conso_potager\": 0.0, \"conso_paillage\": 0.0}, {\"doy\": \"01-30\", \"julianDay\": 30, \"conso_potager\": 0.0, \"conso_paillage\": 0.0}, {\"doy\": \"01-31\", \"julianDay\": 31, \"conso_potager\": 0.0, \"conso_paillage\": 0.0}, {\"doy\": \"02-01\", \"julianDay\": 32, \"conso_potager\": 0.0, \"conso_paillage\": 0.0}, {\"doy\": \"02-02\", \"julianDay\": 33, \"conso_potager\": 0.0, \"conso_paillage\": 0.0}, {\"doy\": \"02-03\", \"julianDay\": 34, \"conso_potager\": 0.0, \"conso_paillage\": 0.0}, {\"doy\": \"02-04\", \"julianDay\": 35, \"conso_potager\": 0.0, \"conso_paillage\": 0.0}, {\"doy\": \"02-05\", \"julianDay\": 36, \"conso_potager\": 0.0, \"conso_paillage\": 0.0}, {\"doy\": \"02-06\", \"julianDay\": 37, \"conso_potager\": 0.0, \"conso_paillage\": 0.0}, {\"doy\": \"02-07\", \"julianDay\": 38, \"conso_potager\": 0.0, \"conso_paillage\": 0.0}, {\"doy\": \"02-08\", \"julianDay\": 39, \"conso_potager\": 0.0, \"conso_paillage\": 0.0}, {\"doy\": \"02-09\", \"julianDay\": 40, \"conso_potager\": 0.0, \"conso_paillage\": 0.0}, {\"doy\": \"02-10\", \"julianDay\": 41, \"conso_potager\": 0.0, \"conso_paillage\": 0.0}, {\"doy\": \"02-11\", \"julianDay\": 42, \"conso_potager\": 0.0, \"conso_paillage\": 0.0}, {\"doy\": \"02-12\", \"julianDay\": 43, \"conso_potager\": 0.0, \"conso_paillage\": 0.0}, {\"doy\": \"02-13\", \"julianDay\": 44, \"conso_potager\": 0.0, \"conso_paillage\": 0.0}, {\"doy\": \"02-14\", \"julianDay\": 45, \"conso_potager\": 0.0, \"conso_paillage\": 0.0}, {\"doy\": \"02-15\", \"julianDay\": 46, \"conso_potager\": 0.0, \"conso_paillage\": 0.0}, {\"doy\": \"02-16\", \"julianDay\": 47, \"conso_potager\": 0.0, \"conso_paillage\": 0.0}, {\"doy\": \"02-17\", \"julianDay\": 48, \"conso_potager\": 0.0, \"conso_paillage\": 0.0}, {\"doy\": \"02-18\", \"julianDay\": 49, \"conso_potager\": 0.0, \"conso_paillage\": 0.0}, {\"doy\": \"02-19\", \"julianDay\": 50, \"conso_potager\": 0.0, \"conso_paillage\": 0.0}, {\"doy\": \"02-20\", \"julianDay\": 51, \"conso_potager\": 0.0, \"conso_paillage\": 0.0}, {\"doy\": \"02-21\", \"julianDay\": 52, \"conso_potager\": 0.0, \"conso_paillage\": 0.0}, {\"doy\": \"02-22\", \"julianDay\": 53, \"conso_potager\": 0.0, \"conso_paillage\": 0.0}, {\"doy\": \"02-23\", \"julianDay\": 54, \"conso_potager\": 0.0, \"conso_paillage\": 0.0}, {\"doy\": \"02-24\", \"julianDay\": 55, \"conso_potager\": 0.0, \"conso_paillage\": 0.0}, {\"doy\": \"02-25\", \"julianDay\": 56, \"conso_potager\": 0.0, \"conso_paillage\": 0.0}, {\"doy\": \"02-26\", \"julianDay\": 57, \"conso_potager\": 0.0, \"conso_paillage\": 0.0}, {\"doy\": \"02-27\", \"julianDay\": 58, \"conso_potager\": 0.0, \"conso_paillage\": 0.0}, {\"doy\": \"02-28\", \"julianDay\": 59, \"conso_potager\": 0.0, \"conso_paillage\": 0.0}, {\"doy\": \"03-01\", \"julianDay\": 60, \"conso_potager\": 0.0, \"conso_paillage\": 0.0}, {\"doy\": \"03-02\", \"julianDay\": 61, \"conso_potager\": 0.0, \"conso_paillage\": 0.0}, {\"doy\": \"03-03\", \"julianDay\": 62, \"conso_potager\": 0.0, \"conso_paillage\": 0.0}, {\"doy\": \"03-04\", \"julianDay\": 63, \"conso_potager\": 0.0, \"conso_paillage\": 0.0}, {\"doy\": \"03-05\", \"julianDay\": 64, \"conso_potager\": 0.0, \"conso_paillage\": 0.0}, {\"doy\": \"03-06\", \"julianDay\": 65, \"conso_potager\": 0.0, \"conso_paillage\": 0.0}, {\"doy\": \"03-07\", \"julianDay\": 66, \"conso_potager\": 0.0, \"conso_paillage\": 0.0}, {\"doy\": \"03-08\", \"julianDay\": 67, \"conso_potager\": 0.0, \"conso_paillage\": 0.0}, {\"doy\": \"03-09\", \"julianDay\": 68, \"conso_potager\": 0.0, \"conso_paillage\": 0.0}, {\"doy\": \"03-10\", \"julianDay\": 69, \"conso_potager\": 0.0, \"conso_paillage\": 0.0}, {\"doy\": \"03-11\", \"julianDay\": 70, \"conso_potager\": 0.0, \"conso_paillage\": 0.0}, {\"doy\": \"03-12\", \"julianDay\": 71, \"conso_potager\": 0.0, \"conso_paillage\": 0.0}, {\"doy\": \"03-13\", \"julianDay\": 72, \"conso_potager\": 0.0, \"conso_paillage\": 0.0}, {\"doy\": \"03-14\", \"julianDay\": 73, \"conso_potager\": 0.0, \"conso_paillage\": 0.0}, {\"doy\": \"03-15\", \"julianDay\": 74, \"conso_potager\": 0.0, \"conso_paillage\": 0.0}, {\"doy\": \"03-16\", \"julianDay\": 75, \"conso_potager\": 0.0, \"conso_paillage\": 0.0}, {\"doy\": \"03-17\", \"julianDay\": 76, \"conso_potager\": 0.0, \"conso_paillage\": 0.0}, {\"doy\": \"03-18\", \"julianDay\": 77, \"conso_potager\": 0.0, \"conso_paillage\": 0.0}, {\"doy\": \"03-19\", \"julianDay\": 78, \"conso_potager\": 0.0, \"conso_paillage\": 0.0}, {\"doy\": \"03-20\", \"julianDay\": 79, \"conso_potager\": 0.0, \"conso_paillage\": 0.0}, {\"doy\": \"03-21\", \"julianDay\": 80, \"conso_potager\": 0.0, \"conso_paillage\": 0.0}, {\"doy\": \"03-22\", \"julianDay\": 81, \"conso_potager\": 0.0, \"conso_paillage\": 0.0}, {\"doy\": \"03-23\", \"julianDay\": 82, \"conso_potager\": 0.0, \"conso_paillage\": 0.0}, {\"doy\": \"03-24\", \"julianDay\": 83, \"conso_potager\": 0.0, \"conso_paillage\": 0.0}, {\"doy\": \"03-25\", \"julianDay\": 84, \"conso_potager\": 0.0, \"conso_paillage\": 0.0}, {\"doy\": \"03-26\", \"julianDay\": 85, \"conso_potager\": 0.0, \"conso_paillage\": 0.0}, {\"doy\": \"03-27\", \"julianDay\": 86, \"conso_potager\": 0.0, \"conso_paillage\": 0.0}, {\"doy\": \"03-28\", \"julianDay\": 87, \"conso_potager\": 0.0, \"conso_paillage\": 0.0}, {\"doy\": \"03-29\", \"julianDay\": 88, \"conso_potager\": 0.0, \"conso_paillage\": 0.0}, {\"doy\": \"03-30\", \"julianDay\": 89, \"conso_potager\": 0.0, \"conso_paillage\": 0.0}, {\"doy\": \"03-31\", \"julianDay\": 90, \"conso_potager\": 0.0, \"conso_paillage\": 0.0}, {\"doy\": \"04-01\", \"julianDay\": 91, \"conso_potager\": 0.0, \"conso_paillage\": 0.0}, {\"doy\": \"04-02\", \"julianDay\": 92, \"conso_potager\": 0.0, \"conso_paillage\": 0.0}, {\"doy\": \"04-03\", \"julianDay\": 93, \"conso_potager\": 0.0, \"conso_paillage\": 0.0}, {\"doy\": \"04-04\", \"julianDay\": 94, \"conso_potager\": 0.0, \"conso_paillage\": 0.0}, {\"doy\": \"04-05\", \"julianDay\": 95, \"conso_potager\": 0.0, \"conso_paillage\": 0.0}, {\"doy\": \"04-06\", \"julianDay\": 96, \"conso_potager\": 0.0, \"conso_paillage\": 0.0}, {\"doy\": \"04-07\", \"julianDay\": 97, \"conso_potager\": 0.0, \"conso_paillage\": 0.0}, {\"doy\": \"04-08\", \"julianDay\": 98, \"conso_potager\": 0.0, \"conso_paillage\": 0.0}, {\"doy\": \"04-09\", \"julianDay\": 99, \"conso_potager\": 0.0, \"conso_paillage\": 0.0}, {\"doy\": \"04-10\", \"julianDay\": 100, \"conso_potager\": 0.0, \"conso_paillage\": 0.0}, {\"doy\": \"04-11\", \"julianDay\": 101, \"conso_potager\": 0.0, \"conso_paillage\": 0.0}, {\"doy\": \"04-12\", \"julianDay\": 102, \"conso_potager\": 0.0, \"conso_paillage\": 0.0}, {\"doy\": \"04-13\", \"julianDay\": 103, \"conso_potager\": 0.0, \"conso_paillage\": 0.0}, {\"doy\": \"04-14\", \"julianDay\": 104, \"conso_potager\": 0.0, \"conso_paillage\": 0.0}, {\"doy\": \"04-15\", \"julianDay\": 105, \"conso_potager\": 0.0, \"conso_paillage\": 0.0}, {\"doy\": \"04-16\", \"julianDay\": 106, \"conso_potager\": 0.0, \"conso_paillage\": 0.0}, {\"doy\": \"04-17\", \"julianDay\": 107, \"conso_potager\": 0.0, \"conso_paillage\": 0.0}, {\"doy\": \"04-18\", \"julianDay\": 108, \"conso_potager\": 0.0, \"conso_paillage\": 0.0}, {\"doy\": \"04-19\", \"julianDay\": 109, \"conso_potager\": 0.0, \"conso_paillage\": 0.0}, {\"doy\": \"04-20\", \"julianDay\": 110, \"conso_potager\": 0.0, \"conso_paillage\": 0.0}, {\"doy\": \"04-21\", \"julianDay\": 111, \"conso_potager\": 0.0, \"conso_paillage\": 0.0}, {\"doy\": \"04-22\", \"julianDay\": 112, \"conso_potager\": 0.0, \"conso_paillage\": 0.0}, {\"doy\": \"04-23\", \"julianDay\": 113, \"conso_potager\": 0.0, \"conso_paillage\": 0.0}, {\"doy\": \"04-24\", \"julianDay\": 114, \"conso_potager\": 0.0, \"conso_paillage\": 0.0}, {\"doy\": \"04-25\", \"julianDay\": 115, \"conso_potager\": 0.0, \"conso_paillage\": 0.0}, {\"doy\": \"04-26\", \"julianDay\": 116, \"conso_potager\": 0.0, \"conso_paillage\": 0.0}, {\"doy\": \"04-27\", \"julianDay\": 117, \"conso_potager\": 0.0, \"conso_paillage\": 0.0}, {\"doy\": \"04-28\", \"julianDay\": 118, \"conso_potager\": 0.0, \"conso_paillage\": 0.0}, {\"doy\": \"04-29\", \"julianDay\": 119, \"conso_potager\": 0.0, \"conso_paillage\": 0.0}, {\"doy\": \"04-30\", \"julianDay\": 120, \"conso_potager\": 0.0, \"conso_paillage\": 0.0}, {\"doy\": \"05-01\", \"julianDay\": 121, \"conso_potager\": 3.33, \"conso_paillage\": 0.8333333333}, {\"doy\": \"05-02\", \"julianDay\": 122, \"conso_potager\": 3.33, \"conso_paillage\": 0.8333333333}, {\"doy\": \"05-03\", \"julianDay\": 123, \"conso_potager\": 3.33, \"conso_paillage\": 0.8333333333}, {\"doy\": \"05-04\", \"julianDay\": 124, \"conso_potager\": 3.33, \"conso_paillage\": 0.8333333333}, {\"doy\": \"05-05\", \"julianDay\": 125, \"conso_potager\": 3.33, \"conso_paillage\": 0.8333333333}, {\"doy\": \"05-06\", \"julianDay\": 126, \"conso_potager\": 3.33, \"conso_paillage\": 0.8333333333}, {\"doy\": \"05-07\", \"julianDay\": 127, \"conso_potager\": 3.33, \"conso_paillage\": 0.8333333333}, {\"doy\": \"05-08\", \"julianDay\": 128, \"conso_potager\": 3.33, \"conso_paillage\": 0.8333333333}, {\"doy\": \"05-09\", \"julianDay\": 129, \"conso_potager\": 3.33, \"conso_paillage\": 0.8333333333}, {\"doy\": \"05-10\", \"julianDay\": 130, \"conso_potager\": 3.33, \"conso_paillage\": 0.8333333333}, {\"doy\": \"05-11\", \"julianDay\": 131, \"conso_potager\": 3.33, \"conso_paillage\": 0.8333333333}, {\"doy\": \"05-12\", \"julianDay\": 132, \"conso_potager\": 3.33, \"conso_paillage\": 0.8333333333}, {\"doy\": \"05-13\", \"julianDay\": 133, \"conso_potager\": 3.33, \"conso_paillage\": 0.8333333333}, {\"doy\": \"05-14\", \"julianDay\": 134, \"conso_potager\": 3.33, \"conso_paillage\": 0.8333333333}, {\"doy\": \"05-15\", \"julianDay\": 135, \"conso_potager\": 3.33, \"conso_paillage\": 0.8333333333}, {\"doy\": \"05-16\", \"julianDay\": 136, \"conso_potager\": 3.33, \"conso_paillage\": 0.8333333333}, {\"doy\": \"05-17\", \"julianDay\": 137, \"conso_potager\": 3.33, \"conso_paillage\": 0.8333333333}, {\"doy\": \"05-18\", \"julianDay\": 138, \"conso_potager\": 3.33, \"conso_paillage\": 0.8333333333}, {\"doy\": \"05-19\", \"julianDay\": 139, \"conso_potager\": 3.33, \"conso_paillage\": 0.8333333333}, {\"doy\": \"05-20\", \"julianDay\": 140, \"conso_potager\": 3.33, \"conso_paillage\": 0.8333333333}, {\"doy\": \"05-21\", \"julianDay\": 141, \"conso_potager\": 3.33, \"conso_paillage\": 0.8333333333}, {\"doy\": \"05-22\", \"julianDay\": 142, \"conso_potager\": 3.33, \"conso_paillage\": 0.8333333333}, {\"doy\": \"05-23\", \"julianDay\": 143, \"conso_potager\": 3.33, \"conso_paillage\": 0.8333333333}, {\"doy\": \"05-24\", \"julianDay\": 144, \"conso_potager\": 3.33, \"conso_paillage\": 0.8333333333}, {\"doy\": \"05-25\", \"julianDay\": 145, \"conso_potager\": 3.33, \"conso_paillage\": 0.8333333333}, {\"doy\": \"05-26\", \"julianDay\": 146, \"conso_potager\": 3.33, \"conso_paillage\": 0.8333333333}, {\"doy\": \"05-27\", \"julianDay\": 147, \"conso_potager\": 3.33, \"conso_paillage\": 0.8333333333}, {\"doy\": \"05-28\", \"julianDay\": 148, \"conso_potager\": 3.33, \"conso_paillage\": 0.8333333333}, {\"doy\": \"05-29\", \"julianDay\": 149, \"conso_potager\": 3.33, \"conso_paillage\": 0.8333333333}, {\"doy\": \"05-30\", \"julianDay\": 150, \"conso_potager\": 3.33, \"conso_paillage\": 0.8333333333}, {\"doy\": \"05-31\", \"julianDay\": 151, \"conso_potager\": 3.33, \"conso_paillage\": 0.8333333333}, {\"doy\": \"06-01\", \"julianDay\": 152, \"conso_potager\": 6.67, \"conso_paillage\": 1.666666667}, {\"doy\": \"06-02\", \"julianDay\": 153, \"conso_potager\": 6.67, \"conso_paillage\": 1.666666667}, {\"doy\": \"06-03\", \"julianDay\": 154, \"conso_potager\": 6.67, \"conso_paillage\": 1.666666667}, {\"doy\": \"06-04\", \"julianDay\": 155, \"conso_potager\": 6.67, \"conso_paillage\": 1.666666667}, {\"doy\": \"06-05\", \"julianDay\": 156, \"conso_potager\": 6.67, \"conso_paillage\": 1.666666667}, {\"doy\": \"06-06\", \"julianDay\": 157, \"conso_potager\": 6.67, \"conso_paillage\": 1.666666667}, {\"doy\": \"06-07\", \"julianDay\": 158, \"conso_potager\": 6.67, \"conso_paillage\": 1.666666667}, {\"doy\": \"06-08\", \"julianDay\": 159, \"conso_potager\": 6.67, \"conso_paillage\": 1.666666667}, {\"doy\": \"06-09\", \"julianDay\": 160, \"conso_potager\": 6.67, \"conso_paillage\": 1.666666667}, {\"doy\": \"06-10\", \"julianDay\": 161, \"conso_potager\": 6.67, \"conso_paillage\": 1.666666667}, {\"doy\": \"06-11\", \"julianDay\": 162, \"conso_potager\": 6.67, \"conso_paillage\": 1.666666667}, {\"doy\": \"06-12\", \"julianDay\": 163, \"conso_potager\": 6.67, \"conso_paillage\": 1.666666667}, {\"doy\": \"06-13\", \"julianDay\": 164, \"conso_potager\": 6.67, \"conso_paillage\": 1.666666667}, {\"doy\": \"06-14\", \"julianDay\": 165, \"conso_potager\": 6.67, \"conso_paillage\": 1.666666667}, {\"doy\": \"06-15\", \"julianDay\": 166, \"conso_potager\": 6.67, \"conso_paillage\": 1.666666667}, {\"doy\": \"06-16\", \"julianDay\": 167, \"conso_potager\": 6.67, \"conso_paillage\": 1.666666667}, {\"doy\": \"06-17\", \"julianDay\": 168, \"conso_potager\": 6.67, \"conso_paillage\": 1.666666667}, {\"doy\": \"06-18\", \"julianDay\": 169, \"conso_potager\": 6.67, \"conso_paillage\": 1.666666667}, {\"doy\": \"06-19\", \"julianDay\": 170, \"conso_potager\": 6.67, \"conso_paillage\": 1.666666667}, {\"doy\": \"06-20\", \"julianDay\": 171, \"conso_potager\": 6.67, \"conso_paillage\": 1.666666667}, {\"doy\": \"06-21\", \"julianDay\": 172, \"conso_potager\": 6.67, \"conso_paillage\": 1.666666667}, {\"doy\": \"06-22\", \"julianDay\": 173, \"conso_potager\": 6.67, \"conso_paillage\": 1.666666667}, {\"doy\": \"06-23\", \"julianDay\": 174, \"conso_potager\": 6.67, \"conso_paillage\": 1.666666667}, {\"doy\": \"06-24\", \"julianDay\": 175, \"conso_potager\": 6.67, \"conso_paillage\": 1.666666667}, {\"doy\": \"06-25\", \"julianDay\": 176, \"conso_potager\": 6.67, \"conso_paillage\": 1.666666667}, {\"doy\": \"06-26\", \"julianDay\": 177, \"conso_potager\": 6.67, \"conso_paillage\": 1.666666667}, {\"doy\": \"06-27\", \"julianDay\": 178, \"conso_potager\": 6.67, \"conso_paillage\": 1.666666667}, {\"doy\": \"06-28\", \"julianDay\": 179, \"conso_potager\": 6.67, \"conso_paillage\": 1.666666667}, {\"doy\": \"06-29\", \"julianDay\": 180, \"conso_potager\": 6.67, \"conso_paillage\": 1.666666667}, {\"doy\": \"06-30\", \"julianDay\": 181, \"conso_potager\": 6.67, \"conso_paillage\": 1.666666667}, {\"doy\": \"07-01\", \"julianDay\": 182, \"conso_potager\": 6.67, \"conso_paillage\": 1.666666667}, {\"doy\": \"07-02\", \"julianDay\": 183, \"conso_potager\": 6.67, \"conso_paillage\": 1.666666667}, {\"doy\": \"07-03\", \"julianDay\": 184, \"conso_potager\": 6.67, \"conso_paillage\": 1.666666667}, {\"doy\": \"07-04\", \"julianDay\": 185, \"conso_potager\": 6.67, \"conso_paillage\": 1.666666667}, {\"doy\": \"07-05\", \"julianDay\": 186, \"conso_potager\": 6.67, \"conso_paillage\": 1.666666667}, {\"doy\": \"07-06\", \"julianDay\": 187, \"conso_potager\": 6.67, \"conso_paillage\": 1.666666667}, {\"doy\": \"07-07\", \"julianDay\": 188, \"conso_potager\": 6.67, \"conso_paillage\": 1.666666667}, {\"doy\": \"07-08\", \"julianDay\": 189, \"conso_potager\": 6.67, \"conso_paillage\": 1.666666667}, {\"doy\": \"07-09\", \"julianDay\": 190, \"conso_potager\": 6.67, \"conso_paillage\": 1.666666667}, {\"doy\": \"07-10\", \"julianDay\": 191, \"conso_potager\": 6.67, \"conso_paillage\": 1.666666667}, {\"doy\": \"07-11\", \"julianDay\": 192, \"conso_potager\": 6.67, \"conso_paillage\": 1.666666667}, {\"doy\": \"07-12\", \"julianDay\": 193, \"conso_potager\": 6.67, \"conso_paillage\": 1.666666667}, {\"doy\": \"07-13\", \"julianDay\": 194, \"conso_potager\": 6.67, \"conso_paillage\": 1.666666667}, {\"doy\": \"07-14\", \"julianDay\": 195, \"conso_potager\": 6.67, \"conso_paillage\": 1.666666667}, {\"doy\": \"07-15\", \"julianDay\": 196, \"conso_potager\": 6.67, \"conso_paillage\": 1.666666667}, {\"doy\": \"07-16\", \"julianDay\": 197, \"conso_potager\": 6.67, \"conso_paillage\": 1.666666667}, {\"doy\": \"07-17\", \"julianDay\": 198, \"conso_potager\": 6.67, \"conso_paillage\": 1.666666667}, {\"doy\": \"07-18\", \"julianDay\": 199, \"conso_potager\": 6.67, \"conso_paillage\": 1.666666667}, {\"doy\": \"07-19\", \"julianDay\": 200, \"conso_potager\": 6.67, \"conso_paillage\": 1.666666667}, {\"doy\": \"07-20\", \"julianDay\": 201, \"conso_potager\": 6.67, \"conso_paillage\": 1.666666667}, {\"doy\": \"07-21\", \"julianDay\": 202, \"conso_potager\": 6.67, \"conso_paillage\": 1.666666667}, {\"doy\": \"07-22\", \"julianDay\": 203, \"conso_potager\": 6.67, \"conso_paillage\": 1.666666667}, {\"doy\": \"07-23\", \"julianDay\": 204, \"conso_potager\": 6.67, \"conso_paillage\": 1.666666667}, {\"doy\": \"07-24\", \"julianDay\": 205, \"conso_potager\": 6.67, \"conso_paillage\": 1.666666667}, {\"doy\": \"07-25\", \"julianDay\": 206, \"conso_potager\": 6.67, \"conso_paillage\": 1.666666667}, {\"doy\": \"07-26\", \"julianDay\": 207, \"conso_potager\": 6.67, \"conso_paillage\": 1.666666667}, {\"doy\": \"07-27\", \"julianDay\": 208, \"conso_potager\": 6.67, \"conso_paillage\": 1.666666667}, {\"doy\": \"07-28\", \"julianDay\": 209, \"conso_potager\": 6.67, \"conso_paillage\": 1.666666667}, {\"doy\": \"07-29\", \"julianDay\": 210, \"conso_potager\": 6.67, \"conso_paillage\": 1.666666667}, {\"doy\": \"07-30\", \"julianDay\": 211, \"conso_potager\": 6.67, \"conso_paillage\": 1.666666667}, {\"doy\": \"07-31\", \"julianDay\": 212, \"conso_potager\": 6.67, \"conso_paillage\": 1.666666667}, {\"doy\": \"08-01\", \"julianDay\": 213, \"conso_potager\": 6.67, \"conso_paillage\": 1.666666667}, {\"doy\": \"08-02\", \"julianDay\": 214, \"conso_potager\": 6.67, \"conso_paillage\": 1.666666667}, {\"doy\": \"08-03\", \"julianDay\": 215, \"conso_potager\": 6.67, \"conso_paillage\": 1.666666667}, {\"doy\": \"08-04\", \"julianDay\": 216, \"conso_potager\": 6.67, \"conso_paillage\": 1.666666667}, {\"doy\": \"08-05\", \"julianDay\": 217, \"conso_potager\": 6.67, \"conso_paillage\": 1.666666667}, {\"doy\": \"08-06\", \"julianDay\": 218, \"conso_potager\": 6.67, \"conso_paillage\": 1.666666667}, {\"doy\": \"08-07\", \"julianDay\": 219, \"conso_potager\": 6.67, \"conso_paillage\": 1.666666667}, {\"doy\": \"08-08\", \"julianDay\": 220, \"conso_potager\": 6.67, \"conso_paillage\": 1.666666667}, {\"doy\": \"08-09\", \"julianDay\": 221, \"conso_potager\": 6.67, \"conso_paillage\": 1.666666667}, {\"doy\": \"08-10\", \"julianDay\": 222, \"conso_potager\": 6.67, \"conso_paillage\": 1.666666667}, {\"doy\": \"08-11\", \"julianDay\": 223, \"conso_potager\": 6.67, \"conso_paillage\": 1.666666667}, {\"doy\": \"08-12\", \"julianDay\": 224, \"conso_potager\": 6.67, \"conso_paillage\": 1.666666667}, {\"doy\": \"08-13\", \"julianDay\": 225, \"conso_potager\": 6.67, \"conso_paillage\": 1.666666667}, {\"doy\": \"08-14\", \"julianDay\": 226, \"conso_potager\": 6.67, \"conso_paillage\": 1.666666667}, {\"doy\": \"08-15\", \"julianDay\": 227, \"conso_potager\": 6.67, \"conso_paillage\": 1.666666667}, {\"doy\": \"08-16\", \"julianDay\": 228, \"conso_potager\": 6.67, \"conso_paillage\": 1.666666667}, {\"doy\": \"08-17\", \"julianDay\": 229, \"conso_potager\": 6.67, \"conso_paillage\": 1.666666667}, {\"doy\": \"08-18\", \"julianDay\": 230, \"conso_potager\": 6.67, \"conso_paillage\": 1.666666667}, {\"doy\": \"08-19\", \"julianDay\": 231, \"conso_potager\": 6.67, \"conso_paillage\": 1.666666667}, {\"doy\": \"08-20\", \"julianDay\": 232, \"conso_potager\": 6.67, \"conso_paillage\": 1.666666667}, {\"doy\": \"08-21\", \"julianDay\": 233, \"conso_potager\": 6.67, \"conso_paillage\": 1.666666667}, {\"doy\": \"08-22\", \"julianDay\": 234, \"conso_potager\": 6.67, \"conso_paillage\": 1.666666667}, {\"doy\": \"08-23\", \"julianDay\": 235, \"conso_potager\": 6.67, \"conso_paillage\": 1.666666667}, {\"doy\": \"08-24\", \"julianDay\": 236, \"conso_potager\": 6.67, \"conso_paillage\": 1.666666667}, {\"doy\": \"08-25\", \"julianDay\": 237, \"conso_potager\": 6.67, \"conso_paillage\": 1.666666667}, {\"doy\": \"08-26\", \"julianDay\": 238, \"conso_potager\": 6.67, \"conso_paillage\": 1.666666667}, {\"doy\": \"08-27\", \"julianDay\": 239, \"conso_potager\": 6.67, \"conso_paillage\": 1.666666667}, {\"doy\": \"08-28\", \"julianDay\": 240, \"conso_potager\": 6.67, \"conso_paillage\": 1.666666667}, {\"doy\": \"08-29\", \"julianDay\": 241, \"conso_potager\": 6.67, \"conso_paillage\": 1.666666667}, {\"doy\": \"08-30\", \"julianDay\": 242, \"conso_potager\": 6.67, \"conso_paillage\": 1.666666667}, {\"doy\": \"08-31\", \"julianDay\": 243, \"conso_potager\": 6.67, \"conso_paillage\": 1.666666667}, {\"doy\": \"09-01\", \"julianDay\": 244, \"conso_potager\": 3.33, \"conso_paillage\": 0.8333333333}, {\"doy\": \"09-02\", \"julianDay\": 245, \"conso_potager\": 3.33, \"conso_paillage\": 0.8333333333}, {\"doy\": \"09-03\", \"julianDay\": 246, \"conso_potager\": 3.33, \"conso_paillage\": 0.8333333333}, {\"doy\": \"09-04\", \"julianDay\": 247, \"conso_potager\": 3.33, \"conso_paillage\": 0.8333333333}, {\"doy\": \"09-05\", \"julianDay\": 248, \"conso_potager\": 3.33, \"conso_paillage\": 0.8333333333}, {\"doy\": \"09-06\", \"julianDay\": 249, \"conso_potager\": 3.33, \"conso_paillage\": 0.8333333333}, {\"doy\": \"09-07\", \"julianDay\": 250, \"conso_potager\": 3.33, \"conso_paillage\": 0.8333333333}, {\"doy\": \"09-08\", \"julianDay\": 251, \"conso_potager\": 3.33, \"conso_paillage\": 0.8333333333}, {\"doy\": \"09-09\", \"julianDay\": 252, \"conso_potager\": 3.33, \"conso_paillage\": 0.8333333333}, {\"doy\": \"09-10\", \"julianDay\": 253, \"conso_potager\": 3.33, \"conso_paillage\": 0.8333333333}, {\"doy\": \"09-11\", \"julianDay\": 254, \"conso_potager\": 3.33, \"conso_paillage\": 0.8333333333}, {\"doy\": \"09-12\", \"julianDay\": 255, \"conso_potager\": 3.33, \"conso_paillage\": 0.8333333333}, {\"doy\": \"09-13\", \"julianDay\": 256, \"conso_potager\": 3.33, \"conso_paillage\": 0.8333333333}, {\"doy\": \"09-14\", \"julianDay\": 257, \"conso_potager\": 3.33, \"conso_paillage\": 0.8333333333}, {\"doy\": \"09-15\", \"julianDay\": 258, \"conso_potager\": 3.33, \"conso_paillage\": 0.8333333333}, {\"doy\": \"09-16\", \"julianDay\": 259, \"conso_potager\": 3.33, \"conso_paillage\": 0.8333333333}, {\"doy\": \"09-17\", \"julianDay\": 260, \"conso_potager\": 3.33, \"conso_paillage\": 0.8333333333}, {\"doy\": \"09-18\", \"julianDay\": 261, \"conso_potager\": 3.33, \"conso_paillage\": 0.8333333333}, {\"doy\": \"09-19\", \"julianDay\": 262, \"conso_potager\": 3.33, \"conso_paillage\": 0.8333333333}, {\"doy\": \"09-20\", \"julianDay\": 263, \"conso_potager\": 3.33, \"conso_paillage\": 0.8333333333}, {\"doy\": \"09-21\", \"julianDay\": 264, \"conso_potager\": 3.33, \"conso_paillage\": 0.8333333333}, {\"doy\": \"09-22\", \"julianDay\": 265, \"conso_potager\": 3.33, \"conso_paillage\": 0.8333333333}, {\"doy\": \"09-23\", \"julianDay\": 266, \"conso_potager\": 3.33, \"conso_paillage\": 0.8333333333}, {\"doy\": \"09-24\", \"julianDay\": 267, \"conso_potager\": 3.33, \"conso_paillage\": 0.8333333333}, {\"doy\": \"09-25\", \"julianDay\": 268, \"conso_potager\": 3.33, \"conso_paillage\": 0.8333333333}, {\"doy\": \"09-26\", \"julianDay\": 269, \"conso_potager\": 3.33, \"conso_paillage\": 0.8333333333}, {\"doy\": \"09-27\", \"julianDay\": 270, \"conso_potager\": 3.33, \"conso_paillage\": 0.8333333333}, {\"doy\": \"09-28\", \"julianDay\": 271, \"conso_potager\": 3.33, \"conso_paillage\": 0.8333333333}, {\"doy\": \"09-29\", \"julianDay\": 272, \"conso_potager\": 3.33, \"conso_paillage\": 0.8333333333}, {\"doy\": \"09-30\", \"julianDay\": 273, \"conso_potager\": 3.33, \"conso_paillage\": 0.8333333333}, {\"doy\": \"10-01\", \"julianDay\": 274, \"conso_potager\": 0.0, \"conso_paillage\": 0.0}, {\"doy\": \"10-02\", \"julianDay\": 275, \"conso_potager\": 0.0, \"conso_paillage\": 0.0}, {\"doy\": \"10-03\", \"julianDay\": 276, \"conso_potager\": 0.0, \"conso_paillage\": 0.0}, {\"doy\": \"10-04\", \"julianDay\": 277, \"conso_potager\": 0.0, \"conso_paillage\": 0.0}, {\"doy\": \"10-05\", \"julianDay\": 278, \"conso_potager\": 0.0, \"conso_paillage\": 0.0}, {\"doy\": \"10-06\", \"julianDay\": 279, \"conso_potager\": 0.0, \"conso_paillage\": 0.0}, {\"doy\": \"10-07\", \"julianDay\": 280, \"conso_potager\": 0.0, \"conso_paillage\": 0.0}, {\"doy\": \"10-08\", \"julianDay\": 281, \"conso_potager\": 0.0, \"conso_paillage\": 0.0}, {\"doy\": \"10-09\", \"julianDay\": 282, \"conso_potager\": 0.0, \"conso_paillage\": 0.0}, {\"doy\": \"10-10\", \"julianDay\": 283, \"conso_potager\": 0.0, \"conso_paillage\": 0.0}, {\"doy\": \"10-11\", \"julianDay\": 284, \"conso_potager\": 0.0, \"conso_paillage\": 0.0}, {\"doy\": \"10-12\", \"julianDay\": 285, \"conso_potager\": 0.0, \"conso_paillage\": 0.0}, {\"doy\": \"10-13\", \"julianDay\": 286, \"conso_potager\": 0.0, \"conso_paillage\": 0.0}, {\"doy\": \"10-14\", \"julianDay\": 287, \"conso_potager\": 0.0, \"conso_paillage\": 0.0}, {\"doy\": \"10-15\", \"julianDay\": 288, \"conso_potager\": 0.0, \"conso_paillage\": 0.0}, {\"doy\": \"10-16\", \"julianDay\": 289, \"conso_potager\": 0.0, \"conso_paillage\": 0.0}, {\"doy\": \"10-17\", \"julianDay\": 290, \"conso_potager\": 0.0, \"conso_paillage\": 0.0}, {\"doy\": \"10-18\", \"julianDay\": 291, \"conso_potager\": 0.0, \"conso_paillage\": 0.0}, {\"doy\": \"10-19\", \"julianDay\": 292, \"conso_potager\": 0.0, \"conso_paillage\": 0.0}, {\"doy\": \"10-20\", \"julianDay\": 293, \"conso_potager\": 0.0, \"conso_paillage\": 0.0}, {\"doy\": \"10-21\", \"julianDay\": 294, \"conso_potager\": 0.0, \"conso_paillage\": 0.0}, {\"doy\": \"10-22\", \"julianDay\": 295, \"conso_potager\": 0.0, \"conso_paillage\": 0.0}, {\"doy\": \"10-23\", \"julianDay\": 296, \"conso_potager\": 0.0, \"conso_paillage\": 0.0}, {\"doy\": \"10-24\", \"julianDay\": 297, \"conso_potager\": 0.0, \"conso_paillage\": 0.0}, {\"doy\": \"10-25\", \"julianDay\": 298, \"conso_potager\": 0.0, \"conso_paillage\": 0.0}, {\"doy\": \"10-26\", \"julianDay\": 299, \"conso_potager\": 0.0, \"conso_paillage\": 0.0}, {\"doy\": \"10-27\", \"julianDay\": 300, \"conso_potager\": 0.0, \"conso_paillage\": 0.0}, {\"doy\": \"10-28\", \"julianDay\": 301, \"conso_potager\": 0.0, \"conso_paillage\": 0.0}, {\"doy\": \"10-29\", \"julianDay\": 302, \"conso_potager\": 0.0, \"conso_paillage\": 0.0}, {\"doy\": \"10-30\", \"julianDay\": 303, \"conso_potager\": 0.0, \"conso_paillage\": 0.0}, {\"doy\": \"10-31\", \"julianDay\": 304, \"conso_potager\": 0.0, \"conso_paillage\": 0.0}, {\"doy\": \"11-01\", \"julianDay\": 305, \"conso_potager\": 0.0, \"conso_paillage\": 0.0}, {\"doy\": \"11-02\", \"julianDay\": 306, \"conso_potager\": 0.0, \"conso_paillage\": 0.0}, {\"doy\": \"11-03\", \"julianDay\": 307, \"conso_potager\": 0.0, \"conso_paillage\": 0.0}, {\"doy\": \"11-04\", \"julianDay\": 308, \"conso_potager\": 0.0, \"conso_paillage\": 0.0}, {\"doy\": \"11-05\", \"julianDay\": 309, \"conso_potager\": 0.0, \"conso_paillage\": 0.0}, {\"doy\": \"11-06\", \"julianDay\": 310, \"conso_potager\": 0.0, \"conso_paillage\": 0.0}, {\"doy\": \"11-07\", \"julianDay\": 311, \"conso_potager\": 0.0, \"conso_paillage\": 0.0}, {\"doy\": \"11-08\", \"julianDay\": 312, \"conso_potager\": 0.0, \"conso_paillage\": 0.0}, {\"doy\": \"11-09\", \"julianDay\": 313, \"conso_potager\": 0.0, \"conso_paillage\": 0.0}, {\"doy\": \"11-10\", \"julianDay\": 314, \"conso_potager\": 0.0, \"conso_paillage\": 0.0}, {\"doy\": \"11-11\", \"julianDay\": 315, \"conso_potager\": 0.0, \"conso_paillage\": 0.0}, {\"doy\": \"11-12\", \"julianDay\": 316, \"conso_potager\": 0.0, \"conso_paillage\": 0.0}, {\"doy\": \"11-13\", \"julianDay\": 317, \"conso_potager\": 0.0, \"conso_paillage\": 0.0}, {\"doy\": \"11-14\", \"julianDay\": 318, \"conso_potager\": 0.0, \"conso_paillage\": 0.0}, {\"doy\": \"11-15\", \"julianDay\": 319, \"conso_potager\": 0.0, \"conso_paillage\": 0.0}, {\"doy\": \"11-16\", \"julianDay\": 320, \"conso_potager\": 0.0, \"conso_paillage\": 0.0}, {\"doy\": \"11-17\", \"julianDay\": 321, \"conso_potager\": 0.0, \"conso_paillage\": 0.0}, {\"doy\": \"11-18\", \"julianDay\": 322, \"conso_potager\": 0.0, \"conso_paillage\": 0.0}, {\"doy\": \"11-19\", \"julianDay\": 323, \"conso_potager\": 0.0, \"conso_paillage\": 0.0}, {\"doy\": \"11-20\", \"julianDay\": 324, \"conso_potager\": 0.0, \"conso_paillage\": 0.0}, {\"doy\": \"11-21\", \"julianDay\": 325, \"conso_potager\": 0.0, \"conso_paillage\": 0.0}, {\"doy\": \"11-22\", \"julianDay\": 326, \"conso_potager\": 0.0, \"conso_paillage\": 0.0}, {\"doy\": \"11-23\", \"julianDay\": 327, \"conso_potager\": 0.0, \"conso_paillage\": 0.0}, {\"doy\": \"11-24\", \"julianDay\": 328, \"conso_potager\": 0.0, \"conso_paillage\": 0.0}, {\"doy\": \"11-25\", \"julianDay\": 329, \"conso_potager\": 0.0, \"conso_paillage\": 0.0}, {\"doy\": \"11-26\", \"julianDay\": 330, \"conso_potager\": 0.0, \"conso_paillage\": 0.0}, {\"doy\": \"11-27\", \"julianDay\": 331, \"conso_potager\": 0.0, \"conso_paillage\": 0.0}, {\"doy\": \"11-28\", \"julianDay\": 332, \"conso_potager\": 0.0, \"conso_paillage\": 0.0}, {\"doy\": \"11-29\", \"julianDay\": 333, \"conso_potager\": 0.0, \"conso_paillage\": 0.0}, {\"doy\": \"11-30\", \"julianDay\": 334, \"conso_potager\": 0.0, \"conso_paillage\": 0.0}, {\"doy\": \"12-01\", \"julianDay\": 335, \"conso_potager\": 0.0, \"conso_paillage\": 0.0}, {\"doy\": \"12-02\", \"julianDay\": 336, \"conso_potager\": 0.0, \"conso_paillage\": 0.0}, {\"doy\": \"12-03\", \"julianDay\": 337, \"conso_potager\": 0.0, \"conso_paillage\": 0.0}, {\"doy\": \"12-04\", \"julianDay\": 338, \"conso_potager\": 0.0, \"conso_paillage\": 0.0}, {\"doy\": \"12-05\", \"julianDay\": 339, \"conso_potager\": 0.0, \"conso_paillage\": 0.0}, {\"doy\": \"12-06\", \"julianDay\": 340, \"conso_potager\": 0.0, \"conso_paillage\": 0.0}, {\"doy\": \"12-07\", \"julianDay\": 341, \"conso_potager\": 0.0, \"conso_paillage\": 0.0}, {\"doy\": \"12-08\", \"julianDay\": 342, \"conso_potager\": 0.0, \"conso_paillage\": 0.0}, {\"doy\": \"12-09\", \"julianDay\": 343, \"conso_potager\": 0.0, \"conso_paillage\": 0.0}, {\"doy\": \"12-10\", \"julianDay\": 344, \"conso_potager\": 0.0, \"conso_paillage\": 0.0}, {\"doy\": \"12-11\", \"julianDay\": 345, \"conso_potager\": 0.0, \"conso_paillage\": 0.0}, {\"doy\": \"12-12\", \"julianDay\": 346, \"conso_potager\": 0.0, \"conso_paillage\": 0.0}, {\"doy\": \"12-13\", \"julianDay\": 347, \"conso_potager\": 0.0, \"conso_paillage\": 0.0}, {\"doy\": \"12-14\", \"julianDay\": 348, \"conso_potager\": 0.0, \"conso_paillage\": 0.0}, {\"doy\": \"12-15\", \"julianDay\": 349, \"conso_potager\": 0.0, \"conso_paillage\": 0.0}, {\"doy\": \"12-16\", \"julianDay\": 350, \"conso_potager\": 0.0, \"conso_paillage\": 0.0}, {\"doy\": \"12-17\", \"julianDay\": 351, \"conso_potager\": 0.0, \"conso_paillage\": 0.0}, {\"doy\": \"12-18\", \"julianDay\": 352, \"conso_potager\": 0.0, \"conso_paillage\": 0.0}, {\"doy\": \"12-19\", \"julianDay\": 353, \"conso_potager\": 0.0, \"conso_paillage\": 0.0}, {\"doy\": \"12-20\", \"julianDay\": 354, \"conso_potager\": 0.0, \"conso_paillage\": 0.0}, {\"doy\": \"12-21\", \"julianDay\": 355, \"conso_potager\": 0.0, \"conso_paillage\": 0.0}, {\"doy\": \"12-22\", \"julianDay\": 356, \"conso_potager\": 0.0, \"conso_paillage\": 0.0}, {\"doy\": \"12-23\", \"julianDay\": 357, \"conso_potager\": 0.0, \"conso_paillage\": 0.0}, {\"doy\": \"12-24\", \"julianDay\": 358, \"conso_potager\": 0.0, \"conso_paillage\": 0.0}, {\"doy\": \"12-25\", \"julianDay\": 359, \"conso_potager\": 0.0, \"conso_paillage\": 0.0}, {\"doy\": \"12-26\", \"julianDay\": 360, \"conso_potager\": 0.0, \"conso_paillage\": 0.0}, {\"doy\": \"12-27\", \"julianDay\": 361, \"conso_potager\": 0.0, \"conso_paillage\": 0.0}, {\"doy\": \"12-28\", \"julianDay\": 362, \"conso_potager\": 0.0, \"conso_paillage\": 0.0}, {\"doy\": \"12-29\", \"julianDay\": 363, \"conso_potager\": 0.0, \"conso_paillage\": 0.0}, {\"doy\": \"12-30\", \"julianDay\": 364, \"conso_potager\": 0.0, \"conso_paillage\": 0.0}, {\"doy\": \"12-31\", \"julianDay\": 365, \"conso_potager\": 0.0, \"conso_paillage\": 0.0}]}}, {\"mode\": \"vega-lite\"});\n",
       "</script>"
      ],
      "text/plain": [
       "alt.Chart(...)"
      ]
     },
     "execution_count": 107,
     "metadata": {},
     "output_type": "execute_result"
    }
   ],
   "source": [
    "alt.Chart(besoins).mark_line().encode(\n",
    "    x=alt.X('monthdate(doy):T', title=\"Jour de l'année\"),\n",
    "    y=alt.Y('conso_potager:Q', title='Consommation (L/m2)'),\n",
    "    tooltip=[alt.Tooltip(\"conso_potager:Q\")]\n",
    ").properties(width=600)"
   ]
  },
  {
   "attachments": {},
   "cell_type": "markdown",
   "metadata": {},
   "source": [
    "## Dimension minimale de la cuve\n",
    "\n",
    "Quels sont les besoins totaux ? "
   ]
  },
  {
   "cell_type": "code",
   "execution_count": 108,
   "metadata": {},
   "outputs": [
    {
     "name": "stdout",
     "output_type": "stream",
     "text": [
      "81677.0\n"
     ]
    }
   ],
   "source": [
    "print(np.sum(besoins['conso_potager']*100)) \n"
   ]
  },
  {
   "attachments": {},
   "cell_type": "markdown",
   "metadata": {},
   "source": [
    "Le potager a donc besoin, en tout, de 82 $m^3$ au cours d'une année. \n",
    "Mais une partie de ces besoins est fournie par la pluie, lorsqu'elle tombe. \n",
    "\n",
    "En première approximation, considérons qu'à chaque fois qu'il pleut les besoins sont nuls pour la journée, sans influer sur ceux du lendemain. \n"
   ]
  },
  {
   "cell_type": "code",
   "execution_count": 109,
   "metadata": {},
   "outputs": [
    {
     "data": {
      "text/html": [
       "<div>\n",
       "<style scoped>\n",
       "    .dataframe tbody tr th:only-of-type {\n",
       "        vertical-align: middle;\n",
       "    }\n",
       "\n",
       "    .dataframe tbody tr th {\n",
       "        vertical-align: top;\n",
       "    }\n",
       "\n",
       "    .dataframe thead th {\n",
       "        text-align: right;\n",
       "    }\n",
       "</style>\n",
       "<table border=\"1\" class=\"dataframe\">\n",
       "  <thead>\n",
       "    <tr style=\"text-align: right;\">\n",
       "      <th></th>\n",
       "      <th>doy</th>\n",
       "      <th>mm</th>\n",
       "      <th>julianDay</th>\n",
       "      <th>conso_potager</th>\n",
       "      <th>conso_paillage</th>\n",
       "    </tr>\n",
       "  </thead>\n",
       "  <tbody>\n",
       "    <tr>\n",
       "      <th>0</th>\n",
       "      <td>01-01</td>\n",
       "      <td>0.0</td>\n",
       "      <td>1</td>\n",
       "      <td>0.0</td>\n",
       "      <td>0.0</td>\n",
       "    </tr>\n",
       "    <tr>\n",
       "      <th>1</th>\n",
       "      <td>01-02</td>\n",
       "      <td>0.0</td>\n",
       "      <td>2</td>\n",
       "      <td>0.0</td>\n",
       "      <td>0.0</td>\n",
       "    </tr>\n",
       "    <tr>\n",
       "      <th>2</th>\n",
       "      <td>01-03</td>\n",
       "      <td>0.0</td>\n",
       "      <td>3</td>\n",
       "      <td>0.0</td>\n",
       "      <td>0.0</td>\n",
       "    </tr>\n",
       "    <tr>\n",
       "      <th>3</th>\n",
       "      <td>01-04</td>\n",
       "      <td>0.0</td>\n",
       "      <td>4</td>\n",
       "      <td>0.0</td>\n",
       "      <td>0.0</td>\n",
       "    </tr>\n",
       "    <tr>\n",
       "      <th>4</th>\n",
       "      <td>01-05</td>\n",
       "      <td>0.0</td>\n",
       "      <td>5</td>\n",
       "      <td>0.0</td>\n",
       "      <td>0.0</td>\n",
       "    </tr>\n",
       "  </tbody>\n",
       "</table>\n",
       "</div>"
      ],
      "text/plain": [
       "     doy   mm  julianDay  conso_potager  conso_paillage\n",
       "0  01-01  0.0          1            0.0             0.0\n",
       "1  01-02  0.0          2            0.0             0.0\n",
       "2  01-03  0.0          3            0.0             0.0\n",
       "3  01-04  0.0          4            0.0             0.0\n",
       "4  01-05  0.0          5            0.0             0.0"
      ]
     },
     "execution_count": 109,
     "metadata": {},
     "output_type": "execute_result"
    }
   ],
   "source": [
    "df = pd.merge(precipitations, besoins, on='doy')\n",
    "df.head()"
   ]
  },
  {
   "cell_type": "code",
   "execution_count": 110,
   "metadata": {},
   "outputs": [
    {
     "name": "stderr",
     "output_type": "stream",
     "text": [
      "/var/folders/fj/3hr2gzvj10z18jrd95l4p4xw0000gn/T/ipykernel_1565/2816986552.py:2: SettingWithCopyWarning: \n",
      "A value is trying to be set on a copy of a slice from a DataFrame\n",
      "\n",
      "See the caveats in the documentation: https://pandas.pydata.org/pandas-docs/stable/user_guide/indexing.html#returning-a-view-versus-a-copy\n",
      "  df.irrigationSurfacique[df['irrigationSurfacique']<0]=0\n"
     ]
    }
   ],
   "source": [
    "df['irrigationSurfacique'] = df.conso_potager - df.mm\n",
    "df.irrigationSurfacique[df['irrigationSurfacique']<0]=0"
   ]
  },
  {
   "cell_type": "code",
   "execution_count": 111,
   "metadata": {},
   "outputs": [
    {
     "data": {
      "text/html": [
       "\n",
       "<div id=\"altair-viz-aeeecc92eaa0411081b2d606ec89b47e\"></div>\n",
       "<script type=\"text/javascript\">\n",
       "  var VEGA_DEBUG = (typeof VEGA_DEBUG == \"undefined\") ? {} : VEGA_DEBUG;\n",
       "  (function(spec, embedOpt){\n",
       "    let outputDiv = document.currentScript.previousElementSibling;\n",
       "    if (outputDiv.id !== \"altair-viz-aeeecc92eaa0411081b2d606ec89b47e\") {\n",
       "      outputDiv = document.getElementById(\"altair-viz-aeeecc92eaa0411081b2d606ec89b47e\");\n",
       "    }\n",
       "    const paths = {\n",
       "      \"vega\": \"https://cdn.jsdelivr.net/npm//vega@5?noext\",\n",
       "      \"vega-lib\": \"https://cdn.jsdelivr.net/npm//vega-lib?noext\",\n",
       "      \"vega-lite\": \"https://cdn.jsdelivr.net/npm//vega-lite@4.17.0?noext\",\n",
       "      \"vega-embed\": \"https://cdn.jsdelivr.net/npm//vega-embed@6?noext\",\n",
       "    };\n",
       "\n",
       "    function maybeLoadScript(lib, version) {\n",
       "      var key = `${lib.replace(\"-\", \"\")}_version`;\n",
       "      return (VEGA_DEBUG[key] == version) ?\n",
       "        Promise.resolve(paths[lib]) :\n",
       "        new Promise(function(resolve, reject) {\n",
       "          var s = document.createElement('script');\n",
       "          document.getElementsByTagName(\"head\")[0].appendChild(s);\n",
       "          s.async = true;\n",
       "          s.onload = () => {\n",
       "            VEGA_DEBUG[key] = version;\n",
       "            return resolve(paths[lib]);\n",
       "          };\n",
       "          s.onerror = () => reject(`Error loading script: ${paths[lib]}`);\n",
       "          s.src = paths[lib];\n",
       "        });\n",
       "    }\n",
       "\n",
       "    function showError(err) {\n",
       "      outputDiv.innerHTML = `<div class=\"error\" style=\"color:red;\">${err}</div>`;\n",
       "      throw err;\n",
       "    }\n",
       "\n",
       "    function displayChart(vegaEmbed) {\n",
       "      vegaEmbed(outputDiv, spec, embedOpt)\n",
       "        .catch(err => showError(`Javascript Error: ${err.message}<br>This usually means there's a typo in your chart specification. See the javascript console for the full traceback.`));\n",
       "    }\n",
       "\n",
       "    if(typeof define === \"function\" && define.amd) {\n",
       "      requirejs.config({paths});\n",
       "      require([\"vega-embed\"], displayChart, err => showError(`Error loading script: ${err.message}`));\n",
       "    } else {\n",
       "      maybeLoadScript(\"vega\", \"5\")\n",
       "        .then(() => maybeLoadScript(\"vega-lite\", \"4.17.0\"))\n",
       "        .then(() => maybeLoadScript(\"vega-embed\", \"6\"))\n",
       "        .catch(showError)\n",
       "        .then(() => displayChart(vegaEmbed));\n",
       "    }\n",
       "  })({\"config\": {\"view\": {\"continuousWidth\": 400, \"continuousHeight\": 300}}, \"data\": {\"name\": \"data-818ee23c72680f681452c5587ef7c0c8\"}, \"mark\": \"line\", \"encoding\": {\"x\": {\"field\": \"doy\", \"timeUnit\": \"monthdate\", \"title\": \"Jour de l'ann\\u00e9e\", \"type\": \"temporal\"}, \"y\": {\"field\": \"conso_paillage\", \"title\": \"Besoins en irrigation\", \"type\": \"quantitative\"}}, \"selection\": {\"selector013\": {\"type\": \"interval\", \"bind\": \"scales\", \"encodings\": [\"x\", \"y\"]}}, \"width\": 450, \"$schema\": \"https://vega.github.io/schema/vega-lite/v4.17.0.json\", \"datasets\": {\"data-818ee23c72680f681452c5587ef7c0c8\": [{\"doy\": \"01-01\", \"mm\": 0.0, \"julianDay\": 1, \"conso_potager\": 0.0, \"conso_paillage\": 0.0, \"irrigationSurfacique\": 0.0}, {\"doy\": \"01-02\", \"mm\": 0.0, \"julianDay\": 2, \"conso_potager\": 0.0, \"conso_paillage\": 0.0, \"irrigationSurfacique\": 0.0}, {\"doy\": \"01-03\", \"mm\": 0.0, \"julianDay\": 3, \"conso_potager\": 0.0, \"conso_paillage\": 0.0, \"irrigationSurfacique\": 0.0}, {\"doy\": \"01-04\", \"mm\": 0.0, \"julianDay\": 4, \"conso_potager\": 0.0, \"conso_paillage\": 0.0, \"irrigationSurfacique\": 0.0}, {\"doy\": \"01-05\", \"mm\": 0.0, \"julianDay\": 5, \"conso_potager\": 0.0, \"conso_paillage\": 0.0, \"irrigationSurfacique\": 0.0}, {\"doy\": \"01-06\", \"mm\": 0.0, \"julianDay\": 6, \"conso_potager\": 0.0, \"conso_paillage\": 0.0, \"irrigationSurfacique\": 0.0}, {\"doy\": \"01-07\", \"mm\": 0.0, \"julianDay\": 7, \"conso_potager\": 0.0, \"conso_paillage\": 0.0, \"irrigationSurfacique\": 0.0}, {\"doy\": \"01-08\", \"mm\": 0.0, \"julianDay\": 8, \"conso_potager\": 0.0, \"conso_paillage\": 0.0, \"irrigationSurfacique\": 0.0}, {\"doy\": \"01-09\", \"mm\": 0.0, \"julianDay\": 9, \"conso_potager\": 0.0, \"conso_paillage\": 0.0, \"irrigationSurfacique\": 0.0}, {\"doy\": \"01-10\", \"mm\": 4.43, \"julianDay\": 10, \"conso_potager\": 0.0, \"conso_paillage\": 0.0, \"irrigationSurfacique\": 0.0}, {\"doy\": \"01-11\", \"mm\": 4.43, \"julianDay\": 11, \"conso_potager\": 0.0, \"conso_paillage\": 0.0, \"irrigationSurfacique\": 0.0}, {\"doy\": \"01-12\", \"mm\": 0.0, \"julianDay\": 12, \"conso_potager\": 0.0, \"conso_paillage\": 0.0, \"irrigationSurfacique\": 0.0}, {\"doy\": \"01-13\", \"mm\": 4.43, \"julianDay\": 13, \"conso_potager\": 0.0, \"conso_paillage\": 0.0, \"irrigationSurfacique\": 0.0}, {\"doy\": \"01-14\", \"mm\": 4.43, \"julianDay\": 14, \"conso_potager\": 0.0, \"conso_paillage\": 0.0, \"irrigationSurfacique\": 0.0}, {\"doy\": \"01-15\", \"mm\": 0.0, \"julianDay\": 15, \"conso_potager\": 0.0, \"conso_paillage\": 0.0, \"irrigationSurfacique\": 0.0}, {\"doy\": \"01-16\", \"mm\": 0.0, \"julianDay\": 16, \"conso_potager\": 0.0, \"conso_paillage\": 0.0, \"irrigationSurfacique\": 0.0}, {\"doy\": \"01-17\", \"mm\": 4.43, \"julianDay\": 17, \"conso_potager\": 0.0, \"conso_paillage\": 0.0, \"irrigationSurfacique\": 0.0}, {\"doy\": \"01-18\", \"mm\": 0.0, \"julianDay\": 18, \"conso_potager\": 0.0, \"conso_paillage\": 0.0, \"irrigationSurfacique\": 0.0}, {\"doy\": \"01-19\", \"mm\": 0.0, \"julianDay\": 19, \"conso_potager\": 0.0, \"conso_paillage\": 0.0, \"irrigationSurfacique\": 0.0}, {\"doy\": \"01-20\", \"mm\": 0.0, \"julianDay\": 20, \"conso_potager\": 0.0, \"conso_paillage\": 0.0, \"irrigationSurfacique\": 0.0}, {\"doy\": \"01-21\", \"mm\": 0.0, \"julianDay\": 21, \"conso_potager\": 0.0, \"conso_paillage\": 0.0, \"irrigationSurfacique\": 0.0}, {\"doy\": \"01-22\", \"mm\": 0.0, \"julianDay\": 22, \"conso_potager\": 0.0, \"conso_paillage\": 0.0, \"irrigationSurfacique\": 0.0}, {\"doy\": \"01-23\", \"mm\": 0.0, \"julianDay\": 23, \"conso_potager\": 0.0, \"conso_paillage\": 0.0, \"irrigationSurfacique\": 0.0}, {\"doy\": \"01-24\", \"mm\": 0.0, \"julianDay\": 24, \"conso_potager\": 0.0, \"conso_paillage\": 0.0, \"irrigationSurfacique\": 0.0}, {\"doy\": \"01-25\", \"mm\": 0.0, \"julianDay\": 25, \"conso_potager\": 0.0, \"conso_paillage\": 0.0, \"irrigationSurfacique\": 0.0}, {\"doy\": \"01-26\", \"mm\": 4.43, \"julianDay\": 26, \"conso_potager\": 0.0, \"conso_paillage\": 0.0, \"irrigationSurfacique\": 0.0}, {\"doy\": \"01-27\", \"mm\": 0.0, \"julianDay\": 27, \"conso_potager\": 0.0, \"conso_paillage\": 0.0, \"irrigationSurfacique\": 0.0}, {\"doy\": \"01-28\", \"mm\": 0.0, \"julianDay\": 28, \"conso_potager\": 0.0, \"conso_paillage\": 0.0, \"irrigationSurfacique\": 0.0}, {\"doy\": \"01-29\", \"mm\": 0.0, \"julianDay\": 29, \"conso_potager\": 0.0, \"conso_paillage\": 0.0, \"irrigationSurfacique\": 0.0}, {\"doy\": \"01-30\", \"mm\": 0.0, \"julianDay\": 30, \"conso_potager\": 0.0, \"conso_paillage\": 0.0, \"irrigationSurfacique\": 0.0}, {\"doy\": \"01-31\", \"mm\": 0.0, \"julianDay\": 31, \"conso_potager\": 0.0, \"conso_paillage\": 0.0, \"irrigationSurfacique\": 0.0}, {\"doy\": \"02-01\", \"mm\": 0.0, \"julianDay\": 32, \"conso_potager\": 0.0, \"conso_paillage\": 0.0, \"irrigationSurfacique\": 0.0}, {\"doy\": \"02-02\", \"mm\": 0.0, \"julianDay\": 33, \"conso_potager\": 0.0, \"conso_paillage\": 0.0, \"irrigationSurfacique\": 0.0}, {\"doy\": \"02-03\", \"mm\": 0.0, \"julianDay\": 34, \"conso_potager\": 0.0, \"conso_paillage\": 0.0, \"irrigationSurfacique\": 0.0}, {\"doy\": \"02-04\", \"mm\": 0.0, \"julianDay\": 35, \"conso_potager\": 0.0, \"conso_paillage\": 0.0, \"irrigationSurfacique\": 0.0}, {\"doy\": \"02-05\", \"mm\": 0.0, \"julianDay\": 36, \"conso_potager\": 0.0, \"conso_paillage\": 0.0, \"irrigationSurfacique\": 0.0}, {\"doy\": \"02-06\", \"mm\": 0.0, \"julianDay\": 37, \"conso_potager\": 0.0, \"conso_paillage\": 0.0, \"irrigationSurfacique\": 0.0}, {\"doy\": \"02-07\", \"mm\": 0.0, \"julianDay\": 38, \"conso_potager\": 0.0, \"conso_paillage\": 0.0, \"irrigationSurfacique\": 0.0}, {\"doy\": \"02-08\", \"mm\": 0.0, \"julianDay\": 39, \"conso_potager\": 0.0, \"conso_paillage\": 0.0, \"irrigationSurfacique\": 0.0}, {\"doy\": \"02-09\", \"mm\": 0.0, \"julianDay\": 40, \"conso_potager\": 0.0, \"conso_paillage\": 0.0, \"irrigationSurfacique\": 0.0}, {\"doy\": \"02-10\", \"mm\": 0.0, \"julianDay\": 41, \"conso_potager\": 0.0, \"conso_paillage\": 0.0, \"irrigationSurfacique\": 0.0}, {\"doy\": \"02-11\", \"mm\": 0.0, \"julianDay\": 42, \"conso_potager\": 0.0, \"conso_paillage\": 0.0, \"irrigationSurfacique\": 0.0}, {\"doy\": \"02-12\", \"mm\": 5.0, \"julianDay\": 43, \"conso_potager\": 0.0, \"conso_paillage\": 0.0, \"irrigationSurfacique\": 0.0}, {\"doy\": \"02-13\", \"mm\": 0.0, \"julianDay\": 44, \"conso_potager\": 0.0, \"conso_paillage\": 0.0, \"irrigationSurfacique\": 0.0}, {\"doy\": \"02-14\", \"mm\": 0.0, \"julianDay\": 45, \"conso_potager\": 0.0, \"conso_paillage\": 0.0, \"irrigationSurfacique\": 0.0}, {\"doy\": \"02-15\", \"mm\": 0.0, \"julianDay\": 46, \"conso_potager\": 0.0, \"conso_paillage\": 0.0, \"irrigationSurfacique\": 0.0}, {\"doy\": \"02-16\", \"mm\": 5.0, \"julianDay\": 47, \"conso_potager\": 0.0, \"conso_paillage\": 0.0, \"irrigationSurfacique\": 0.0}, {\"doy\": \"02-17\", \"mm\": 5.0, \"julianDay\": 48, \"conso_potager\": 0.0, \"conso_paillage\": 0.0, \"irrigationSurfacique\": 0.0}, {\"doy\": \"02-18\", \"mm\": 0.0, \"julianDay\": 49, \"conso_potager\": 0.0, \"conso_paillage\": 0.0, \"irrigationSurfacique\": 0.0}, {\"doy\": \"02-19\", \"mm\": 0.0, \"julianDay\": 50, \"conso_potager\": 0.0, \"conso_paillage\": 0.0, \"irrigationSurfacique\": 0.0}, {\"doy\": \"02-20\", \"mm\": 0.0, \"julianDay\": 51, \"conso_potager\": 0.0, \"conso_paillage\": 0.0, \"irrigationSurfacique\": 0.0}, {\"doy\": \"02-21\", \"mm\": 0.0, \"julianDay\": 52, \"conso_potager\": 0.0, \"conso_paillage\": 0.0, \"irrigationSurfacique\": 0.0}, {\"doy\": \"02-22\", \"mm\": 0.0, \"julianDay\": 53, \"conso_potager\": 0.0, \"conso_paillage\": 0.0, \"irrigationSurfacique\": 0.0}, {\"doy\": \"02-23\", \"mm\": 0.0, \"julianDay\": 54, \"conso_potager\": 0.0, \"conso_paillage\": 0.0, \"irrigationSurfacique\": 0.0}, {\"doy\": \"02-24\", \"mm\": 0.0, \"julianDay\": 55, \"conso_potager\": 0.0, \"conso_paillage\": 0.0, \"irrigationSurfacique\": 0.0}, {\"doy\": \"02-25\", \"mm\": 0.0, \"julianDay\": 56, \"conso_potager\": 0.0, \"conso_paillage\": 0.0, \"irrigationSurfacique\": 0.0}, {\"doy\": \"02-26\", \"mm\": 0.0, \"julianDay\": 57, \"conso_potager\": 0.0, \"conso_paillage\": 0.0, \"irrigationSurfacique\": 0.0}, {\"doy\": \"02-27\", \"mm\": 5.0, \"julianDay\": 58, \"conso_potager\": 0.0, \"conso_paillage\": 0.0, \"irrigationSurfacique\": 0.0}, {\"doy\": \"02-28\", \"mm\": 5.0, \"julianDay\": 59, \"conso_potager\": 0.0, \"conso_paillage\": 0.0, \"irrigationSurfacique\": 0.0}, {\"doy\": \"03-01\", \"mm\": 0.0, \"julianDay\": 60, \"conso_potager\": 0.0, \"conso_paillage\": 0.0, \"irrigationSurfacique\": 0.0}, {\"doy\": \"03-02\", \"mm\": 0.0, \"julianDay\": 61, \"conso_potager\": 0.0, \"conso_paillage\": 0.0, \"irrigationSurfacique\": 0.0}, {\"doy\": \"03-03\", \"mm\": 0.0, \"julianDay\": 62, \"conso_potager\": 0.0, \"conso_paillage\": 0.0, \"irrigationSurfacique\": 0.0}, {\"doy\": \"03-04\", \"mm\": 4.0, \"julianDay\": 63, \"conso_potager\": 0.0, \"conso_paillage\": 0.0, \"irrigationSurfacique\": 0.0}, {\"doy\": \"03-05\", \"mm\": 0.0, \"julianDay\": 64, \"conso_potager\": 0.0, \"conso_paillage\": 0.0, \"irrigationSurfacique\": 0.0}, {\"doy\": \"03-06\", \"mm\": 0.0, \"julianDay\": 65, \"conso_potager\": 0.0, \"conso_paillage\": 0.0, \"irrigationSurfacique\": 0.0}, {\"doy\": \"03-07\", \"mm\": 0.0, \"julianDay\": 66, \"conso_potager\": 0.0, \"conso_paillage\": 0.0, \"irrigationSurfacique\": 0.0}, {\"doy\": \"03-08\", \"mm\": 4.0, \"julianDay\": 67, \"conso_potager\": 0.0, \"conso_paillage\": 0.0, \"irrigationSurfacique\": 0.0}, {\"doy\": \"03-09\", \"mm\": 0.0, \"julianDay\": 68, \"conso_potager\": 0.0, \"conso_paillage\": 0.0, \"irrigationSurfacique\": 0.0}, {\"doy\": \"03-10\", \"mm\": 0.0, \"julianDay\": 69, \"conso_potager\": 0.0, \"conso_paillage\": 0.0, \"irrigationSurfacique\": 0.0}, {\"doy\": \"03-11\", \"mm\": 0.0, \"julianDay\": 70, \"conso_potager\": 0.0, \"conso_paillage\": 0.0, \"irrigationSurfacique\": 0.0}, {\"doy\": \"03-12\", \"mm\": 0.0, \"julianDay\": 71, \"conso_potager\": 0.0, \"conso_paillage\": 0.0, \"irrigationSurfacique\": 0.0}, {\"doy\": \"03-13\", \"mm\": 0.0, \"julianDay\": 72, \"conso_potager\": 0.0, \"conso_paillage\": 0.0, \"irrigationSurfacique\": 0.0}, {\"doy\": \"03-14\", \"mm\": 0.0, \"julianDay\": 73, \"conso_potager\": 0.0, \"conso_paillage\": 0.0, \"irrigationSurfacique\": 0.0}, {\"doy\": \"03-15\", \"mm\": 0.0, \"julianDay\": 74, \"conso_potager\": 0.0, \"conso_paillage\": 0.0, \"irrigationSurfacique\": 0.0}, {\"doy\": \"03-16\", \"mm\": 4.0, \"julianDay\": 75, \"conso_potager\": 0.0, \"conso_paillage\": 0.0, \"irrigationSurfacique\": 0.0}, {\"doy\": \"03-17\", \"mm\": 4.0, \"julianDay\": 76, \"conso_potager\": 0.0, \"conso_paillage\": 0.0, \"irrigationSurfacique\": 0.0}, {\"doy\": \"03-18\", \"mm\": 0.0, \"julianDay\": 77, \"conso_potager\": 0.0, \"conso_paillage\": 0.0, \"irrigationSurfacique\": 0.0}, {\"doy\": \"03-19\", \"mm\": 0.0, \"julianDay\": 78, \"conso_potager\": 0.0, \"conso_paillage\": 0.0, \"irrigationSurfacique\": 0.0}, {\"doy\": \"03-20\", \"mm\": 8.0, \"julianDay\": 79, \"conso_potager\": 0.0, \"conso_paillage\": 0.0, \"irrigationSurfacique\": 0.0}, {\"doy\": \"03-21\", \"mm\": 0.0, \"julianDay\": 80, \"conso_potager\": 0.0, \"conso_paillage\": 0.0, \"irrigationSurfacique\": 0.0}, {\"doy\": \"03-22\", \"mm\": 0.0, \"julianDay\": 81, \"conso_potager\": 0.0, \"conso_paillage\": 0.0, \"irrigationSurfacique\": 0.0}, {\"doy\": \"03-23\", \"mm\": 0.0, \"julianDay\": 82, \"conso_potager\": 0.0, \"conso_paillage\": 0.0, \"irrigationSurfacique\": 0.0}, {\"doy\": \"03-24\", \"mm\": 0.0, \"julianDay\": 83, \"conso_potager\": 0.0, \"conso_paillage\": 0.0, \"irrigationSurfacique\": 0.0}, {\"doy\": \"03-25\", \"mm\": 4.0, \"julianDay\": 84, \"conso_potager\": 0.0, \"conso_paillage\": 0.0, \"irrigationSurfacique\": 0.0}, {\"doy\": \"03-26\", \"mm\": 0.0, \"julianDay\": 85, \"conso_potager\": 0.0, \"conso_paillage\": 0.0, \"irrigationSurfacique\": 0.0}, {\"doy\": \"03-27\", \"mm\": 0.0, \"julianDay\": 86, \"conso_potager\": 0.0, \"conso_paillage\": 0.0, \"irrigationSurfacique\": 0.0}, {\"doy\": \"03-28\", \"mm\": 0.0, \"julianDay\": 87, \"conso_potager\": 0.0, \"conso_paillage\": 0.0, \"irrigationSurfacique\": 0.0}, {\"doy\": \"03-29\", \"mm\": 0.0, \"julianDay\": 88, \"conso_potager\": 0.0, \"conso_paillage\": 0.0, \"irrigationSurfacique\": 0.0}, {\"doy\": \"03-30\", \"mm\": 0.0, \"julianDay\": 89, \"conso_potager\": 0.0, \"conso_paillage\": 0.0, \"irrigationSurfacique\": 0.0}, {\"doy\": \"03-31\", \"mm\": 0.0, \"julianDay\": 90, \"conso_potager\": 0.0, \"conso_paillage\": 0.0, \"irrigationSurfacique\": 0.0}, {\"doy\": \"04-01\", \"mm\": 6.0, \"julianDay\": 91, \"conso_potager\": 0.0, \"conso_paillage\": 0.0, \"irrigationSurfacique\": 0.0}, {\"doy\": \"04-02\", \"mm\": 0.0, \"julianDay\": 92, \"conso_potager\": 0.0, \"conso_paillage\": 0.0, \"irrigationSurfacique\": 0.0}, {\"doy\": \"04-03\", \"mm\": 0.0, \"julianDay\": 93, \"conso_potager\": 0.0, \"conso_paillage\": 0.0, \"irrigationSurfacique\": 0.0}, {\"doy\": \"04-04\", \"mm\": 6.0, \"julianDay\": 94, \"conso_potager\": 0.0, \"conso_paillage\": 0.0, \"irrigationSurfacique\": 0.0}, {\"doy\": \"04-05\", \"mm\": 0.0, \"julianDay\": 95, \"conso_potager\": 0.0, \"conso_paillage\": 0.0, \"irrigationSurfacique\": 0.0}, {\"doy\": \"04-06\", \"mm\": 6.0, \"julianDay\": 96, \"conso_potager\": 0.0, \"conso_paillage\": 0.0, \"irrigationSurfacique\": 0.0}, {\"doy\": \"04-07\", \"mm\": 6.0, \"julianDay\": 97, \"conso_potager\": 0.0, \"conso_paillage\": 0.0, \"irrigationSurfacique\": 0.0}, {\"doy\": \"04-08\", \"mm\": 0.0, \"julianDay\": 98, \"conso_potager\": 0.0, \"conso_paillage\": 0.0, \"irrigationSurfacique\": 0.0}, {\"doy\": \"04-09\", \"mm\": 0.0, \"julianDay\": 99, \"conso_potager\": 0.0, \"conso_paillage\": 0.0, \"irrigationSurfacique\": 0.0}, {\"doy\": \"04-10\", \"mm\": 0.0, \"julianDay\": 100, \"conso_potager\": 0.0, \"conso_paillage\": 0.0, \"irrigationSurfacique\": 0.0}, {\"doy\": \"04-11\", \"mm\": 0.0, \"julianDay\": 101, \"conso_potager\": 0.0, \"conso_paillage\": 0.0, \"irrigationSurfacique\": 0.0}, {\"doy\": \"04-12\", \"mm\": 12.0, \"julianDay\": 102, \"conso_potager\": 0.0, \"conso_paillage\": 0.0, \"irrigationSurfacique\": 0.0}, {\"doy\": \"04-13\", \"mm\": 0.0, \"julianDay\": 103, \"conso_potager\": 0.0, \"conso_paillage\": 0.0, \"irrigationSurfacique\": 0.0}, {\"doy\": \"04-14\", \"mm\": 0.0, \"julianDay\": 104, \"conso_potager\": 0.0, \"conso_paillage\": 0.0, \"irrigationSurfacique\": 0.0}, {\"doy\": \"04-15\", \"mm\": 0.0, \"julianDay\": 105, \"conso_potager\": 0.0, \"conso_paillage\": 0.0, \"irrigationSurfacique\": 0.0}, {\"doy\": \"04-16\", \"mm\": 0.0, \"julianDay\": 106, \"conso_potager\": 0.0, \"conso_paillage\": 0.0, \"irrigationSurfacique\": 0.0}, {\"doy\": \"04-17\", \"mm\": 0.0, \"julianDay\": 107, \"conso_potager\": 0.0, \"conso_paillage\": 0.0, \"irrigationSurfacique\": 0.0}, {\"doy\": \"04-18\", \"mm\": 0.0, \"julianDay\": 108, \"conso_potager\": 0.0, \"conso_paillage\": 0.0, \"irrigationSurfacique\": 0.0}, {\"doy\": \"04-19\", \"mm\": 0.0, \"julianDay\": 109, \"conso_potager\": 0.0, \"conso_paillage\": 0.0, \"irrigationSurfacique\": 0.0}, {\"doy\": \"04-20\", \"mm\": 0.0, \"julianDay\": 110, \"conso_potager\": 0.0, \"conso_paillage\": 0.0, \"irrigationSurfacique\": 0.0}, {\"doy\": \"04-21\", \"mm\": 0.0, \"julianDay\": 111, \"conso_potager\": 0.0, \"conso_paillage\": 0.0, \"irrigationSurfacique\": 0.0}, {\"doy\": \"04-22\", \"mm\": 0.0, \"julianDay\": 112, \"conso_potager\": 0.0, \"conso_paillage\": 0.0, \"irrigationSurfacique\": 0.0}, {\"doy\": \"04-23\", \"mm\": 0.0, \"julianDay\": 113, \"conso_potager\": 0.0, \"conso_paillage\": 0.0, \"irrigationSurfacique\": 0.0}, {\"doy\": \"04-24\", \"mm\": 6.0, \"julianDay\": 114, \"conso_potager\": 0.0, \"conso_paillage\": 0.0, \"irrigationSurfacique\": 0.0}, {\"doy\": \"04-25\", \"mm\": 6.0, \"julianDay\": 115, \"conso_potager\": 0.0, \"conso_paillage\": 0.0, \"irrigationSurfacique\": 0.0}, {\"doy\": \"04-26\", \"mm\": 0.0, \"julianDay\": 116, \"conso_potager\": 0.0, \"conso_paillage\": 0.0, \"irrigationSurfacique\": 0.0}, {\"doy\": \"04-27\", \"mm\": 0.0, \"julianDay\": 117, \"conso_potager\": 0.0, \"conso_paillage\": 0.0, \"irrigationSurfacique\": 0.0}, {\"doy\": \"04-28\", \"mm\": 0.0, \"julianDay\": 118, \"conso_potager\": 0.0, \"conso_paillage\": 0.0, \"irrigationSurfacique\": 0.0}, {\"doy\": \"04-29\", \"mm\": 0.0, \"julianDay\": 119, \"conso_potager\": 0.0, \"conso_paillage\": 0.0, \"irrigationSurfacique\": 0.0}, {\"doy\": \"04-30\", \"mm\": 0.0, \"julianDay\": 120, \"conso_potager\": 0.0, \"conso_paillage\": 0.0, \"irrigationSurfacique\": 0.0}, {\"doy\": \"05-01\", \"mm\": 0.0, \"julianDay\": 121, \"conso_potager\": 3.33, \"conso_paillage\": 0.8333333333, \"irrigationSurfacique\": 3.33}, {\"doy\": \"05-02\", \"mm\": 7.0, \"julianDay\": 122, \"conso_potager\": 3.33, \"conso_paillage\": 0.8333333333, \"irrigationSurfacique\": 0.0}, {\"doy\": \"05-03\", \"mm\": 0.0, \"julianDay\": 123, \"conso_potager\": 3.33, \"conso_paillage\": 0.8333333333, \"irrigationSurfacique\": 3.33}, {\"doy\": \"05-04\", \"mm\": 14.0, \"julianDay\": 124, \"conso_potager\": 3.33, \"conso_paillage\": 0.8333333333, \"irrigationSurfacique\": 0.0}, {\"doy\": \"05-05\", \"mm\": 0.0, \"julianDay\": 125, \"conso_potager\": 3.33, \"conso_paillage\": 0.8333333333, \"irrigationSurfacique\": 3.33}, {\"doy\": \"05-06\", \"mm\": 0.0, \"julianDay\": 126, \"conso_potager\": 3.33, \"conso_paillage\": 0.8333333333, \"irrigationSurfacique\": 3.33}, {\"doy\": \"05-07\", \"mm\": 0.0, \"julianDay\": 127, \"conso_potager\": 3.33, \"conso_paillage\": 0.8333333333, \"irrigationSurfacique\": 3.33}, {\"doy\": \"05-08\", \"mm\": 7.0, \"julianDay\": 128, \"conso_potager\": 3.33, \"conso_paillage\": 0.8333333333, \"irrigationSurfacique\": 0.0}, {\"doy\": \"05-09\", \"mm\": 0.0, \"julianDay\": 129, \"conso_potager\": 3.33, \"conso_paillage\": 0.8333333333, \"irrigationSurfacique\": 3.33}, {\"doy\": \"05-10\", \"mm\": 0.0, \"julianDay\": 130, \"conso_potager\": 3.33, \"conso_paillage\": 0.8333333333, \"irrigationSurfacique\": 3.33}, {\"doy\": \"05-11\", \"mm\": 7.0, \"julianDay\": 131, \"conso_potager\": 3.33, \"conso_paillage\": 0.8333333333, \"irrigationSurfacique\": 0.0}, {\"doy\": \"05-12\", \"mm\": 0.0, \"julianDay\": 132, \"conso_potager\": 3.33, \"conso_paillage\": 0.8333333333, \"irrigationSurfacique\": 3.33}, {\"doy\": \"05-13\", \"mm\": 0.0, \"julianDay\": 133, \"conso_potager\": 3.33, \"conso_paillage\": 0.8333333333, \"irrigationSurfacique\": 3.33}, {\"doy\": \"05-14\", \"mm\": 0.0, \"julianDay\": 134, \"conso_potager\": 3.33, \"conso_paillage\": 0.8333333333, \"irrigationSurfacique\": 3.33}, {\"doy\": \"05-15\", \"mm\": 7.0, \"julianDay\": 135, \"conso_potager\": 3.33, \"conso_paillage\": 0.8333333333, \"irrigationSurfacique\": 0.0}, {\"doy\": \"05-16\", \"mm\": 0.0, \"julianDay\": 136, \"conso_potager\": 3.33, \"conso_paillage\": 0.8333333333, \"irrigationSurfacique\": 3.33}, {\"doy\": \"05-17\", \"mm\": 0.0, \"julianDay\": 137, \"conso_potager\": 3.33, \"conso_paillage\": 0.8333333333, \"irrigationSurfacique\": 3.33}, {\"doy\": \"05-18\", \"mm\": 0.0, \"julianDay\": 138, \"conso_potager\": 3.33, \"conso_paillage\": 0.8333333333, \"irrigationSurfacique\": 3.33}, {\"doy\": \"05-19\", \"mm\": 0.0, \"julianDay\": 139, \"conso_potager\": 3.33, \"conso_paillage\": 0.8333333333, \"irrigationSurfacique\": 3.33}, {\"doy\": \"05-20\", \"mm\": 7.0, \"julianDay\": 140, \"conso_potager\": 3.33, \"conso_paillage\": 0.8333333333, \"irrigationSurfacique\": 0.0}, {\"doy\": \"05-21\", \"mm\": 0.0, \"julianDay\": 141, \"conso_potager\": 3.33, \"conso_paillage\": 0.8333333333, \"irrigationSurfacique\": 3.33}, {\"doy\": \"05-22\", \"mm\": 7.0, \"julianDay\": 142, \"conso_potager\": 3.33, \"conso_paillage\": 0.8333333333, \"irrigationSurfacique\": 0.0}, {\"doy\": \"05-23\", \"mm\": 0.0, \"julianDay\": 143, \"conso_potager\": 3.33, \"conso_paillage\": 0.8333333333, \"irrigationSurfacique\": 3.33}, {\"doy\": \"05-24\", \"mm\": 0.0, \"julianDay\": 144, \"conso_potager\": 3.33, \"conso_paillage\": 0.8333333333, \"irrigationSurfacique\": 3.33}, {\"doy\": \"05-25\", \"mm\": 0.0, \"julianDay\": 145, \"conso_potager\": 3.33, \"conso_paillage\": 0.8333333333, \"irrigationSurfacique\": 3.33}, {\"doy\": \"05-26\", \"mm\": 0.0, \"julianDay\": 146, \"conso_potager\": 3.33, \"conso_paillage\": 0.8333333333, \"irrigationSurfacique\": 3.33}, {\"doy\": \"05-27\", \"mm\": 7.0, \"julianDay\": 147, \"conso_potager\": 3.33, \"conso_paillage\": 0.8333333333, \"irrigationSurfacique\": 0.0}, {\"doy\": \"05-28\", \"mm\": 7.0, \"julianDay\": 148, \"conso_potager\": 3.33, \"conso_paillage\": 0.8333333333, \"irrigationSurfacique\": 0.0}, {\"doy\": \"05-29\", \"mm\": 0.0, \"julianDay\": 149, \"conso_potager\": 3.33, \"conso_paillage\": 0.8333333333, \"irrigationSurfacique\": 3.33}, {\"doy\": \"05-30\", \"mm\": 0.0, \"julianDay\": 150, \"conso_potager\": 3.33, \"conso_paillage\": 0.8333333333, \"irrigationSurfacique\": 3.33}, {\"doy\": \"05-31\", \"mm\": 0.0, \"julianDay\": 151, \"conso_potager\": 3.33, \"conso_paillage\": 0.8333333333, \"irrigationSurfacique\": 3.33}, {\"doy\": \"06-01\", \"mm\": 0.0, \"julianDay\": 152, \"conso_potager\": 6.67, \"conso_paillage\": 1.666666667, \"irrigationSurfacique\": 6.67}, {\"doy\": \"06-02\", \"mm\": 8.0, \"julianDay\": 153, \"conso_potager\": 6.67, \"conso_paillage\": 1.666666667, \"irrigationSurfacique\": 0.0}, {\"doy\": \"06-03\", \"mm\": 0.0, \"julianDay\": 154, \"conso_potager\": 6.67, \"conso_paillage\": 1.666666667, \"irrigationSurfacique\": 6.67}, {\"doy\": \"06-04\", \"mm\": 0.0, \"julianDay\": 155, \"conso_potager\": 6.67, \"conso_paillage\": 1.666666667, \"irrigationSurfacique\": 6.67}, {\"doy\": \"06-05\", \"mm\": 0.0, \"julianDay\": 156, \"conso_potager\": 6.67, \"conso_paillage\": 1.666666667, \"irrigationSurfacique\": 6.67}, {\"doy\": \"06-06\", \"mm\": 0.0, \"julianDay\": 157, \"conso_potager\": 6.67, \"conso_paillage\": 1.666666667, \"irrigationSurfacique\": 6.67}, {\"doy\": \"06-07\", \"mm\": 8.0, \"julianDay\": 158, \"conso_potager\": 6.67, \"conso_paillage\": 1.666666667, \"irrigationSurfacique\": 0.0}, {\"doy\": \"06-08\", \"mm\": 8.0, \"julianDay\": 159, \"conso_potager\": 6.67, \"conso_paillage\": 1.666666667, \"irrigationSurfacique\": 0.0}, {\"doy\": \"06-09\", \"mm\": 0.0, \"julianDay\": 160, \"conso_potager\": 6.67, \"conso_paillage\": 1.666666667, \"irrigationSurfacique\": 6.67}, {\"doy\": \"06-10\", \"mm\": 0.0, \"julianDay\": 161, \"conso_potager\": 6.67, \"conso_paillage\": 1.666666667, \"irrigationSurfacique\": 6.67}, {\"doy\": \"06-11\", \"mm\": 0.0, \"julianDay\": 162, \"conso_potager\": 6.67, \"conso_paillage\": 1.666666667, \"irrigationSurfacique\": 6.67}, {\"doy\": \"06-12\", \"mm\": 8.0, \"julianDay\": 163, \"conso_potager\": 6.67, \"conso_paillage\": 1.666666667, \"irrigationSurfacique\": 0.0}, {\"doy\": \"06-13\", \"mm\": 8.0, \"julianDay\": 164, \"conso_potager\": 6.67, \"conso_paillage\": 1.666666667, \"irrigationSurfacique\": 0.0}, {\"doy\": \"06-14\", \"mm\": 8.0, \"julianDay\": 165, \"conso_potager\": 6.67, \"conso_paillage\": 1.666666667, \"irrigationSurfacique\": 0.0}, {\"doy\": \"06-15\", \"mm\": 0.0, \"julianDay\": 166, \"conso_potager\": 6.67, \"conso_paillage\": 1.666666667, \"irrigationSurfacique\": 6.67}, {\"doy\": \"06-16\", \"mm\": 0.0, \"julianDay\": 167, \"conso_potager\": 6.67, \"conso_paillage\": 1.666666667, \"irrigationSurfacique\": 6.67}, {\"doy\": \"06-17\", \"mm\": 0.0, \"julianDay\": 168, \"conso_potager\": 6.67, \"conso_paillage\": 1.666666667, \"irrigationSurfacique\": 6.67}, {\"doy\": \"06-18\", \"mm\": 0.0, \"julianDay\": 169, \"conso_potager\": 6.67, \"conso_paillage\": 1.666666667, \"irrigationSurfacique\": 6.67}, {\"doy\": \"06-19\", \"mm\": 0.0, \"julianDay\": 170, \"conso_potager\": 6.67, \"conso_paillage\": 1.666666667, \"irrigationSurfacique\": 6.67}, {\"doy\": \"06-20\", \"mm\": 0.0, \"julianDay\": 171, \"conso_potager\": 6.67, \"conso_paillage\": 1.666666667, \"irrigationSurfacique\": 6.67}, {\"doy\": \"06-21\", \"mm\": 0.0, \"julianDay\": 172, \"conso_potager\": 6.67, \"conso_paillage\": 1.666666667, \"irrigationSurfacique\": 6.67}, {\"doy\": \"06-22\", \"mm\": 0.0, \"julianDay\": 173, \"conso_potager\": 6.67, \"conso_paillage\": 1.666666667, \"irrigationSurfacique\": 6.67}, {\"doy\": \"06-23\", \"mm\": 8.0, \"julianDay\": 174, \"conso_potager\": 6.67, \"conso_paillage\": 1.666666667, \"irrigationSurfacique\": 0.0}, {\"doy\": \"06-24\", \"mm\": 0.0, \"julianDay\": 175, \"conso_potager\": 6.67, \"conso_paillage\": 1.666666667, \"irrigationSurfacique\": 6.67}, {\"doy\": \"06-25\", \"mm\": 0.0, \"julianDay\": 176, \"conso_potager\": 6.67, \"conso_paillage\": 1.666666667, \"irrigationSurfacique\": 6.67}, {\"doy\": \"06-26\", \"mm\": 0.0, \"julianDay\": 177, \"conso_potager\": 6.67, \"conso_paillage\": 1.666666667, \"irrigationSurfacique\": 6.67}, {\"doy\": \"06-27\", \"mm\": 8.0, \"julianDay\": 178, \"conso_potager\": 6.67, \"conso_paillage\": 1.666666667, \"irrigationSurfacique\": 0.0}, {\"doy\": \"06-28\", \"mm\": 0.0, \"julianDay\": 179, \"conso_potager\": 6.67, \"conso_paillage\": 1.666666667, \"irrigationSurfacique\": 6.67}, {\"doy\": \"06-29\", \"mm\": 0.0, \"julianDay\": 180, \"conso_potager\": 6.67, \"conso_paillage\": 1.666666667, \"irrigationSurfacique\": 6.67}, {\"doy\": \"06-30\", \"mm\": 0.0, \"julianDay\": 181, \"conso_potager\": 6.67, \"conso_paillage\": 1.666666667, \"irrigationSurfacique\": 6.67}, {\"doy\": \"07-01\", \"mm\": 0.0, \"julianDay\": 182, \"conso_potager\": 6.67, \"conso_paillage\": 1.666666667, \"irrigationSurfacique\": 6.67}, {\"doy\": \"07-02\", \"mm\": 0.0, \"julianDay\": 183, \"conso_potager\": 6.67, \"conso_paillage\": 1.666666667, \"irrigationSurfacique\": 6.67}, {\"doy\": \"07-03\", \"mm\": 7.0, \"julianDay\": 184, \"conso_potager\": 6.67, \"conso_paillage\": 1.666666667, \"irrigationSurfacique\": 0.0}, {\"doy\": \"07-04\", \"mm\": 0.0, \"julianDay\": 185, \"conso_potager\": 6.67, \"conso_paillage\": 1.666666667, \"irrigationSurfacique\": 6.67}, {\"doy\": \"07-05\", \"mm\": 0.0, \"julianDay\": 186, \"conso_potager\": 6.67, \"conso_paillage\": 1.666666667, \"irrigationSurfacique\": 6.67}, {\"doy\": \"07-06\", \"mm\": 0.0, \"julianDay\": 187, \"conso_potager\": 6.67, \"conso_paillage\": 1.666666667, \"irrigationSurfacique\": 6.67}, {\"doy\": \"07-07\", \"mm\": 7.0, \"julianDay\": 188, \"conso_potager\": 6.67, \"conso_paillage\": 1.666666667, \"irrigationSurfacique\": 0.0}, {\"doy\": \"07-08\", \"mm\": 7.0, \"julianDay\": 189, \"conso_potager\": 6.67, \"conso_paillage\": 1.666666667, \"irrigationSurfacique\": 0.0}, {\"doy\": \"07-09\", \"mm\": 7.0, \"julianDay\": 190, \"conso_potager\": 6.67, \"conso_paillage\": 1.666666667, \"irrigationSurfacique\": 0.0}, {\"doy\": \"07-10\", \"mm\": 0.0, \"julianDay\": 191, \"conso_potager\": 6.67, \"conso_paillage\": 1.666666667, \"irrigationSurfacique\": 6.67}, {\"doy\": \"07-11\", \"mm\": 0.0, \"julianDay\": 192, \"conso_potager\": 6.67, \"conso_paillage\": 1.666666667, \"irrigationSurfacique\": 6.67}, {\"doy\": \"07-12\", \"mm\": 0.0, \"julianDay\": 193, \"conso_potager\": 6.67, \"conso_paillage\": 1.666666667, \"irrigationSurfacique\": 6.67}, {\"doy\": \"07-13\", \"mm\": 0.0, \"julianDay\": 194, \"conso_potager\": 6.67, \"conso_paillage\": 1.666666667, \"irrigationSurfacique\": 6.67}, {\"doy\": \"07-14\", \"mm\": 0.0, \"julianDay\": 195, \"conso_potager\": 6.67, \"conso_paillage\": 1.666666667, \"irrigationSurfacique\": 6.67}, {\"doy\": \"07-15\", \"mm\": 0.0, \"julianDay\": 196, \"conso_potager\": 6.67, \"conso_paillage\": 1.666666667, \"irrigationSurfacique\": 6.67}, {\"doy\": \"07-16\", \"mm\": 0.0, \"julianDay\": 197, \"conso_potager\": 6.67, \"conso_paillage\": 1.666666667, \"irrigationSurfacique\": 6.67}, {\"doy\": \"07-17\", \"mm\": 0.0, \"julianDay\": 198, \"conso_potager\": 6.67, \"conso_paillage\": 1.666666667, \"irrigationSurfacique\": 6.67}, {\"doy\": \"07-18\", \"mm\": 7.0, \"julianDay\": 199, \"conso_potager\": 6.67, \"conso_paillage\": 1.666666667, \"irrigationSurfacique\": 0.0}, {\"doy\": \"07-19\", \"mm\": 0.0, \"julianDay\": 200, \"conso_potager\": 6.67, \"conso_paillage\": 1.666666667, \"irrigationSurfacique\": 6.67}, {\"doy\": \"07-20\", \"mm\": 0.0, \"julianDay\": 201, \"conso_potager\": 6.67, \"conso_paillage\": 1.666666667, \"irrigationSurfacique\": 6.67}, {\"doy\": \"07-21\", \"mm\": 7.0, \"julianDay\": 202, \"conso_potager\": 6.67, \"conso_paillage\": 1.666666667, \"irrigationSurfacique\": 0.0}, {\"doy\": \"07-22\", \"mm\": 7.0, \"julianDay\": 203, \"conso_potager\": 6.67, \"conso_paillage\": 1.666666667, \"irrigationSurfacique\": 0.0}, {\"doy\": \"07-23\", \"mm\": 0.0, \"julianDay\": 204, \"conso_potager\": 6.67, \"conso_paillage\": 1.666666667, \"irrigationSurfacique\": 6.67}, {\"doy\": \"07-24\", \"mm\": 0.0, \"julianDay\": 205, \"conso_potager\": 6.67, \"conso_paillage\": 1.666666667, \"irrigationSurfacique\": 6.67}, {\"doy\": \"07-25\", \"mm\": 0.0, \"julianDay\": 206, \"conso_potager\": 6.67, \"conso_paillage\": 1.666666667, \"irrigationSurfacique\": 6.67}, {\"doy\": \"07-26\", \"mm\": 0.0, \"julianDay\": 207, \"conso_potager\": 6.67, \"conso_paillage\": 1.666666667, \"irrigationSurfacique\": 6.67}, {\"doy\": \"07-27\", \"mm\": 7.0, \"julianDay\": 208, \"conso_potager\": 6.67, \"conso_paillage\": 1.666666667, \"irrigationSurfacique\": 0.0}, {\"doy\": \"07-28\", \"mm\": 0.0, \"julianDay\": 209, \"conso_potager\": 6.67, \"conso_paillage\": 1.666666667, \"irrigationSurfacique\": 6.67}, {\"doy\": \"07-29\", \"mm\": 0.0, \"julianDay\": 210, \"conso_potager\": 6.67, \"conso_paillage\": 1.666666667, \"irrigationSurfacique\": 6.67}, {\"doy\": \"07-30\", \"mm\": 7.0, \"julianDay\": 211, \"conso_potager\": 6.67, \"conso_paillage\": 1.666666667, \"irrigationSurfacique\": 0.0}, {\"doy\": \"07-31\", \"mm\": 0.0, \"julianDay\": 212, \"conso_potager\": 6.67, \"conso_paillage\": 1.666666667, \"irrigationSurfacique\": 6.67}, {\"doy\": \"08-01\", \"mm\": 0.0, \"julianDay\": 213, \"conso_potager\": 6.67, \"conso_paillage\": 1.666666667, \"irrigationSurfacique\": 6.67}, {\"doy\": \"08-02\", \"mm\": 0.0, \"julianDay\": 214, \"conso_potager\": 6.67, \"conso_paillage\": 1.666666667, \"irrigationSurfacique\": 6.67}, {\"doy\": \"08-03\", \"mm\": 8.0, \"julianDay\": 215, \"conso_potager\": 6.67, \"conso_paillage\": 1.666666667, \"irrigationSurfacique\": 0.0}, {\"doy\": \"08-04\", \"mm\": 0.0, \"julianDay\": 216, \"conso_potager\": 6.67, \"conso_paillage\": 1.666666667, \"irrigationSurfacique\": 6.67}, {\"doy\": \"08-05\", \"mm\": 0.0, \"julianDay\": 217, \"conso_potager\": 6.67, \"conso_paillage\": 1.666666667, \"irrigationSurfacique\": 6.67}, {\"doy\": \"08-06\", \"mm\": 0.0, \"julianDay\": 218, \"conso_potager\": 6.67, \"conso_paillage\": 1.666666667, \"irrigationSurfacique\": 6.67}, {\"doy\": \"08-07\", \"mm\": 0.0, \"julianDay\": 219, \"conso_potager\": 6.67, \"conso_paillage\": 1.666666667, \"irrigationSurfacique\": 6.67}, {\"doy\": \"08-08\", \"mm\": 8.0, \"julianDay\": 220, \"conso_potager\": 6.67, \"conso_paillage\": 1.666666667, \"irrigationSurfacique\": 0.0}, {\"doy\": \"08-09\", \"mm\": 8.0, \"julianDay\": 221, \"conso_potager\": 6.67, \"conso_paillage\": 1.666666667, \"irrigationSurfacique\": 0.0}, {\"doy\": \"08-10\", \"mm\": 0.0, \"julianDay\": 222, \"conso_potager\": 6.67, \"conso_paillage\": 1.666666667, \"irrigationSurfacique\": 6.67}, {\"doy\": \"08-11\", \"mm\": 0.0, \"julianDay\": 223, \"conso_potager\": 6.67, \"conso_paillage\": 1.666666667, \"irrigationSurfacique\": 6.67}, {\"doy\": \"08-12\", \"mm\": 0.0, \"julianDay\": 224, \"conso_potager\": 6.67, \"conso_paillage\": 1.666666667, \"irrigationSurfacique\": 6.67}, {\"doy\": \"08-13\", \"mm\": 0.0, \"julianDay\": 225, \"conso_potager\": 6.67, \"conso_paillage\": 1.666666667, \"irrigationSurfacique\": 6.67}, {\"doy\": \"08-14\", \"mm\": 0.0, \"julianDay\": 226, \"conso_potager\": 6.67, \"conso_paillage\": 1.666666667, \"irrigationSurfacique\": 6.67}, {\"doy\": \"08-15\", \"mm\": 16.0, \"julianDay\": 227, \"conso_potager\": 6.67, \"conso_paillage\": 1.666666667, \"irrigationSurfacique\": 0.0}, {\"doy\": \"08-16\", \"mm\": 0.0, \"julianDay\": 228, \"conso_potager\": 6.67, \"conso_paillage\": 1.666666667, \"irrigationSurfacique\": 6.67}, {\"doy\": \"08-17\", \"mm\": 0.0, \"julianDay\": 229, \"conso_potager\": 6.67, \"conso_paillage\": 1.666666667, \"irrigationSurfacique\": 6.67}, {\"doy\": \"08-18\", \"mm\": 0.0, \"julianDay\": 230, \"conso_potager\": 6.67, \"conso_paillage\": 1.666666667, \"irrigationSurfacique\": 6.67}, {\"doy\": \"08-19\", \"mm\": 0.0, \"julianDay\": 231, \"conso_potager\": 6.67, \"conso_paillage\": 1.666666667, \"irrigationSurfacique\": 6.67}, {\"doy\": \"08-20\", \"mm\": 0.0, \"julianDay\": 232, \"conso_potager\": 6.67, \"conso_paillage\": 1.666666667, \"irrigationSurfacique\": 6.67}, {\"doy\": \"08-21\", \"mm\": 8.0, \"julianDay\": 233, \"conso_potager\": 6.67, \"conso_paillage\": 1.666666667, \"irrigationSurfacique\": 0.0}, {\"doy\": \"08-22\", \"mm\": 8.0, \"julianDay\": 234, \"conso_potager\": 6.67, \"conso_paillage\": 1.666666667, \"irrigationSurfacique\": 0.0}, {\"doy\": \"08-23\", \"mm\": 0.0, \"julianDay\": 235, \"conso_potager\": 6.67, \"conso_paillage\": 1.666666667, \"irrigationSurfacique\": 6.67}, {\"doy\": \"08-24\", \"mm\": 0.0, \"julianDay\": 236, \"conso_potager\": 6.67, \"conso_paillage\": 1.666666667, \"irrigationSurfacique\": 6.67}, {\"doy\": \"08-25\", \"mm\": 8.0, \"julianDay\": 237, \"conso_potager\": 6.67, \"conso_paillage\": 1.666666667, \"irrigationSurfacique\": 0.0}, {\"doy\": \"08-26\", \"mm\": 0.0, \"julianDay\": 238, \"conso_potager\": 6.67, \"conso_paillage\": 1.666666667, \"irrigationSurfacique\": 6.67}, {\"doy\": \"08-27\", \"mm\": 0.0, \"julianDay\": 239, \"conso_potager\": 6.67, \"conso_paillage\": 1.666666667, \"irrigationSurfacique\": 6.67}, {\"doy\": \"08-28\", \"mm\": 0.0, \"julianDay\": 240, \"conso_potager\": 6.67, \"conso_paillage\": 1.666666667, \"irrigationSurfacique\": 6.67}, {\"doy\": \"08-29\", \"mm\": 0.0, \"julianDay\": 241, \"conso_potager\": 6.67, \"conso_paillage\": 1.666666667, \"irrigationSurfacique\": 6.67}, {\"doy\": \"08-30\", \"mm\": 0.0, \"julianDay\": 242, \"conso_potager\": 6.67, \"conso_paillage\": 1.666666667, \"irrigationSurfacique\": 6.67}, {\"doy\": \"08-31\", \"mm\": 0.0, \"julianDay\": 243, \"conso_potager\": 6.67, \"conso_paillage\": 1.666666667, \"irrigationSurfacique\": 6.67}, {\"doy\": \"09-01\", \"mm\": 0.0, \"julianDay\": 244, \"conso_potager\": 3.33, \"conso_paillage\": 0.8333333333, \"irrigationSurfacique\": 3.33}, {\"doy\": \"09-02\", \"mm\": 0.0, \"julianDay\": 245, \"conso_potager\": 3.33, \"conso_paillage\": 0.8333333333, \"irrigationSurfacique\": 3.33}, {\"doy\": \"09-03\", \"mm\": 8.0, \"julianDay\": 246, \"conso_potager\": 3.33, \"conso_paillage\": 0.8333333333, \"irrigationSurfacique\": 0.0}, {\"doy\": \"09-04\", \"mm\": 0.0, \"julianDay\": 247, \"conso_potager\": 3.33, \"conso_paillage\": 0.8333333333, \"irrigationSurfacique\": 3.33}, {\"doy\": \"09-05\", \"mm\": 0.0, \"julianDay\": 248, \"conso_potager\": 3.33, \"conso_paillage\": 0.8333333333, \"irrigationSurfacique\": 3.33}, {\"doy\": \"09-06\", \"mm\": 0.0, \"julianDay\": 249, \"conso_potager\": 3.33, \"conso_paillage\": 0.8333333333, \"irrigationSurfacique\": 3.33}, {\"doy\": \"09-07\", \"mm\": 0.0, \"julianDay\": 250, \"conso_potager\": 3.33, \"conso_paillage\": 0.8333333333, \"irrigationSurfacique\": 3.33}, {\"doy\": \"09-08\", \"mm\": 0.0, \"julianDay\": 251, \"conso_potager\": 3.33, \"conso_paillage\": 0.8333333333, \"irrigationSurfacique\": 3.33}, {\"doy\": \"09-09\", \"mm\": 0.0, \"julianDay\": 252, \"conso_potager\": 3.33, \"conso_paillage\": 0.8333333333, \"irrigationSurfacique\": 3.33}, {\"doy\": \"09-10\", \"mm\": 0.0, \"julianDay\": 253, \"conso_potager\": 3.33, \"conso_paillage\": 0.8333333333, \"irrigationSurfacique\": 3.33}, {\"doy\": \"09-11\", \"mm\": 8.0, \"julianDay\": 254, \"conso_potager\": 3.33, \"conso_paillage\": 0.8333333333, \"irrigationSurfacique\": 0.0}, {\"doy\": \"09-12\", \"mm\": 8.0, \"julianDay\": 255, \"conso_potager\": 3.33, \"conso_paillage\": 0.8333333333, \"irrigationSurfacique\": 0.0}, {\"doy\": \"09-13\", \"mm\": 0.0, \"julianDay\": 256, \"conso_potager\": 3.33, \"conso_paillage\": 0.8333333333, \"irrigationSurfacique\": 3.33}, {\"doy\": \"09-14\", \"mm\": 0.0, \"julianDay\": 257, \"conso_potager\": 3.33, \"conso_paillage\": 0.8333333333, \"irrigationSurfacique\": 3.33}, {\"doy\": \"09-15\", \"mm\": 0.0, \"julianDay\": 258, \"conso_potager\": 3.33, \"conso_paillage\": 0.8333333333, \"irrigationSurfacique\": 3.33}, {\"doy\": \"09-16\", \"mm\": 0.0, \"julianDay\": 259, \"conso_potager\": 3.33, \"conso_paillage\": 0.8333333333, \"irrigationSurfacique\": 3.33}, {\"doy\": \"09-17\", \"mm\": 0.0, \"julianDay\": 260, \"conso_potager\": 3.33, \"conso_paillage\": 0.8333333333, \"irrigationSurfacique\": 3.33}, {\"doy\": \"09-18\", \"mm\": 0.0, \"julianDay\": 261, \"conso_potager\": 3.33, \"conso_paillage\": 0.8333333333, \"irrigationSurfacique\": 3.33}, {\"doy\": \"09-19\", \"mm\": 8.0, \"julianDay\": 262, \"conso_potager\": 3.33, \"conso_paillage\": 0.8333333333, \"irrigationSurfacique\": 0.0}, {\"doy\": \"09-20\", \"mm\": 8.0, \"julianDay\": 263, \"conso_potager\": 3.33, \"conso_paillage\": 0.8333333333, \"irrigationSurfacique\": 0.0}, {\"doy\": \"09-21\", \"mm\": 16.0, \"julianDay\": 264, \"conso_potager\": 3.33, \"conso_paillage\": 0.8333333333, \"irrigationSurfacique\": 0.0}, {\"doy\": \"09-22\", \"mm\": 0.0, \"julianDay\": 265, \"conso_potager\": 3.33, \"conso_paillage\": 0.8333333333, \"irrigationSurfacique\": 3.33}, {\"doy\": \"09-23\", \"mm\": 0.0, \"julianDay\": 266, \"conso_potager\": 3.33, \"conso_paillage\": 0.8333333333, \"irrigationSurfacique\": 3.33}, {\"doy\": \"09-24\", \"mm\": 0.0, \"julianDay\": 267, \"conso_potager\": 3.33, \"conso_paillage\": 0.8333333333, \"irrigationSurfacique\": 3.33}, {\"doy\": \"09-25\", \"mm\": 8.0, \"julianDay\": 268, \"conso_potager\": 3.33, \"conso_paillage\": 0.8333333333, \"irrigationSurfacique\": 0.0}, {\"doy\": \"09-26\", \"mm\": 0.0, \"julianDay\": 269, \"conso_potager\": 3.33, \"conso_paillage\": 0.8333333333, \"irrigationSurfacique\": 3.33}, {\"doy\": \"09-27\", \"mm\": 0.0, \"julianDay\": 270, \"conso_potager\": 3.33, \"conso_paillage\": 0.8333333333, \"irrigationSurfacique\": 3.33}, {\"doy\": \"09-28\", \"mm\": 0.0, \"julianDay\": 271, \"conso_potager\": 3.33, \"conso_paillage\": 0.8333333333, \"irrigationSurfacique\": 3.33}, {\"doy\": \"09-29\", \"mm\": 0.0, \"julianDay\": 272, \"conso_potager\": 3.33, \"conso_paillage\": 0.8333333333, \"irrigationSurfacique\": 3.33}, {\"doy\": \"09-30\", \"mm\": 0.0, \"julianDay\": 273, \"conso_potager\": 3.33, \"conso_paillage\": 0.8333333333, \"irrigationSurfacique\": 3.33}, {\"doy\": \"10-01\", \"mm\": 0.0, \"julianDay\": 274, \"conso_potager\": 0.0, \"conso_paillage\": 0.0, \"irrigationSurfacique\": 0.0}, {\"doy\": \"10-02\", \"mm\": 0.0, \"julianDay\": 275, \"conso_potager\": 0.0, \"conso_paillage\": 0.0, \"irrigationSurfacique\": 0.0}, {\"doy\": \"10-03\", \"mm\": 0.0, \"julianDay\": 276, \"conso_potager\": 0.0, \"conso_paillage\": 0.0, \"irrigationSurfacique\": 0.0}, {\"doy\": \"10-04\", \"mm\": 6.0, \"julianDay\": 277, \"conso_potager\": 0.0, \"conso_paillage\": 0.0, \"irrigationSurfacique\": 0.0}, {\"doy\": \"10-05\", \"mm\": 0.0, \"julianDay\": 278, \"conso_potager\": 0.0, \"conso_paillage\": 0.0, \"irrigationSurfacique\": 0.0}, {\"doy\": \"10-06\", \"mm\": 0.0, \"julianDay\": 279, \"conso_potager\": 0.0, \"conso_paillage\": 0.0, \"irrigationSurfacique\": 0.0}, {\"doy\": \"10-07\", \"mm\": 0.0, \"julianDay\": 280, \"conso_potager\": 0.0, \"conso_paillage\": 0.0, \"irrigationSurfacique\": 0.0}, {\"doy\": \"10-08\", \"mm\": 0.0, \"julianDay\": 281, \"conso_potager\": 0.0, \"conso_paillage\": 0.0, \"irrigationSurfacique\": 0.0}, {\"doy\": \"10-09\", \"mm\": 6.0, \"julianDay\": 282, \"conso_potager\": 0.0, \"conso_paillage\": 0.0, \"irrigationSurfacique\": 0.0}, {\"doy\": \"10-10\", \"mm\": 6.0, \"julianDay\": 283, \"conso_potager\": 0.0, \"conso_paillage\": 0.0, \"irrigationSurfacique\": 0.0}, {\"doy\": \"10-11\", \"mm\": 0.0, \"julianDay\": 284, \"conso_potager\": 0.0, \"conso_paillage\": 0.0, \"irrigationSurfacique\": 0.0}, {\"doy\": \"10-12\", \"mm\": 0.0, \"julianDay\": 285, \"conso_potager\": 0.0, \"conso_paillage\": 0.0, \"irrigationSurfacique\": 0.0}, {\"doy\": \"10-13\", \"mm\": 0.0, \"julianDay\": 286, \"conso_potager\": 0.0, \"conso_paillage\": 0.0, \"irrigationSurfacique\": 0.0}, {\"doy\": \"10-14\", \"mm\": 0.0, \"julianDay\": 287, \"conso_potager\": 0.0, \"conso_paillage\": 0.0, \"irrigationSurfacique\": 0.0}, {\"doy\": \"10-15\", \"mm\": 0.0, \"julianDay\": 288, \"conso_potager\": 0.0, \"conso_paillage\": 0.0, \"irrigationSurfacique\": 0.0}, {\"doy\": \"10-16\", \"mm\": 6.0, \"julianDay\": 289, \"conso_potager\": 0.0, \"conso_paillage\": 0.0, \"irrigationSurfacique\": 0.0}, {\"doy\": \"10-17\", \"mm\": 0.0, \"julianDay\": 290, \"conso_potager\": 0.0, \"conso_paillage\": 0.0, \"irrigationSurfacique\": 0.0}, {\"doy\": \"10-18\", \"mm\": 0.0, \"julianDay\": 291, \"conso_potager\": 0.0, \"conso_paillage\": 0.0, \"irrigationSurfacique\": 0.0}, {\"doy\": \"10-19\", \"mm\": 0.0, \"julianDay\": 292, \"conso_potager\": 0.0, \"conso_paillage\": 0.0, \"irrigationSurfacique\": 0.0}, {\"doy\": \"10-20\", \"mm\": 0.0, \"julianDay\": 293, \"conso_potager\": 0.0, \"conso_paillage\": 0.0, \"irrigationSurfacique\": 0.0}, {\"doy\": \"10-21\", \"mm\": 6.0, \"julianDay\": 294, \"conso_potager\": 0.0, \"conso_paillage\": 0.0, \"irrigationSurfacique\": 0.0}, {\"doy\": \"10-22\", \"mm\": 0.0, \"julianDay\": 295, \"conso_potager\": 0.0, \"conso_paillage\": 0.0, \"irrigationSurfacique\": 0.0}, {\"doy\": \"10-23\", \"mm\": 0.0, \"julianDay\": 296, \"conso_potager\": 0.0, \"conso_paillage\": 0.0, \"irrigationSurfacique\": 0.0}, {\"doy\": \"10-24\", \"mm\": 0.0, \"julianDay\": 297, \"conso_potager\": 0.0, \"conso_paillage\": 0.0, \"irrigationSurfacique\": 0.0}, {\"doy\": \"10-25\", \"mm\": 6.0, \"julianDay\": 298, \"conso_potager\": 0.0, \"conso_paillage\": 0.0, \"irrigationSurfacique\": 0.0}, {\"doy\": \"10-26\", \"mm\": 6.0, \"julianDay\": 299, \"conso_potager\": 0.0, \"conso_paillage\": 0.0, \"irrigationSurfacique\": 0.0}, {\"doy\": \"10-27\", \"mm\": 0.0, \"julianDay\": 300, \"conso_potager\": 0.0, \"conso_paillage\": 0.0, \"irrigationSurfacique\": 0.0}, {\"doy\": \"10-28\", \"mm\": 6.0, \"julianDay\": 301, \"conso_potager\": 0.0, \"conso_paillage\": 0.0, \"irrigationSurfacique\": 0.0}, {\"doy\": \"10-29\", \"mm\": 0.0, \"julianDay\": 302, \"conso_potager\": 0.0, \"conso_paillage\": 0.0, \"irrigationSurfacique\": 0.0}, {\"doy\": \"10-30\", \"mm\": 0.0, \"julianDay\": 303, \"conso_potager\": 0.0, \"conso_paillage\": 0.0, \"irrigationSurfacique\": 0.0}, {\"doy\": \"10-31\", \"mm\": 0.0, \"julianDay\": 304, \"conso_potager\": 0.0, \"conso_paillage\": 0.0, \"irrigationSurfacique\": 0.0}, {\"doy\": \"11-01\", \"mm\": 0.0, \"julianDay\": 305, \"conso_potager\": 0.0, \"conso_paillage\": 0.0, \"irrigationSurfacique\": 0.0}, {\"doy\": \"11-02\", \"mm\": 6.0, \"julianDay\": 306, \"conso_potager\": 0.0, \"conso_paillage\": 0.0, \"irrigationSurfacique\": 0.0}, {\"doy\": \"11-03\", \"mm\": 6.0, \"julianDay\": 307, \"conso_potager\": 0.0, \"conso_paillage\": 0.0, \"irrigationSurfacique\": 0.0}, {\"doy\": \"11-04\", \"mm\": 0.0, \"julianDay\": 308, \"conso_potager\": 0.0, \"conso_paillage\": 0.0, \"irrigationSurfacique\": 0.0}, {\"doy\": \"11-05\", \"mm\": 0.0, \"julianDay\": 309, \"conso_potager\": 0.0, \"conso_paillage\": 0.0, \"irrigationSurfacique\": 0.0}, {\"doy\": \"11-06\", \"mm\": 0.0, \"julianDay\": 310, \"conso_potager\": 0.0, \"conso_paillage\": 0.0, \"irrigationSurfacique\": 0.0}, {\"doy\": \"11-07\", \"mm\": 6.0, \"julianDay\": 311, \"conso_potager\": 0.0, \"conso_paillage\": 0.0, \"irrigationSurfacique\": 0.0}, {\"doy\": \"11-08\", \"mm\": 6.0, \"julianDay\": 312, \"conso_potager\": 0.0, \"conso_paillage\": 0.0, \"irrigationSurfacique\": 0.0}, {\"doy\": \"11-09\", \"mm\": 0.0, \"julianDay\": 313, \"conso_potager\": 0.0, \"conso_paillage\": 0.0, \"irrigationSurfacique\": 0.0}, {\"doy\": \"11-10\", \"mm\": 0.0, \"julianDay\": 314, \"conso_potager\": 0.0, \"conso_paillage\": 0.0, \"irrigationSurfacique\": 0.0}, {\"doy\": \"11-11\", \"mm\": 0.0, \"julianDay\": 315, \"conso_potager\": 0.0, \"conso_paillage\": 0.0, \"irrigationSurfacique\": 0.0}, {\"doy\": \"11-12\", \"mm\": 0.0, \"julianDay\": 316, \"conso_potager\": 0.0, \"conso_paillage\": 0.0, \"irrigationSurfacique\": 0.0}, {\"doy\": \"11-13\", \"mm\": 0.0, \"julianDay\": 317, \"conso_potager\": 0.0, \"conso_paillage\": 0.0, \"irrigationSurfacique\": 0.0}, {\"doy\": \"11-14\", \"mm\": 6.0, \"julianDay\": 318, \"conso_potager\": 0.0, \"conso_paillage\": 0.0, \"irrigationSurfacique\": 0.0}, {\"doy\": \"11-15\", \"mm\": 0.0, \"julianDay\": 319, \"conso_potager\": 0.0, \"conso_paillage\": 0.0, \"irrigationSurfacique\": 0.0}, {\"doy\": \"11-16\", \"mm\": 0.0, \"julianDay\": 320, \"conso_potager\": 0.0, \"conso_paillage\": 0.0, \"irrigationSurfacique\": 0.0}, {\"doy\": \"11-17\", \"mm\": 0.0, \"julianDay\": 321, \"conso_potager\": 0.0, \"conso_paillage\": 0.0, \"irrigationSurfacique\": 0.0}, {\"doy\": \"11-18\", \"mm\": 6.0, \"julianDay\": 322, \"conso_potager\": 0.0, \"conso_paillage\": 0.0, \"irrigationSurfacique\": 0.0}, {\"doy\": \"11-19\", \"mm\": 0.0, \"julianDay\": 323, \"conso_potager\": 0.0, \"conso_paillage\": 0.0, \"irrigationSurfacique\": 0.0}, {\"doy\": \"11-20\", \"mm\": 0.0, \"julianDay\": 324, \"conso_potager\": 0.0, \"conso_paillage\": 0.0, \"irrigationSurfacique\": 0.0}, {\"doy\": \"11-21\", \"mm\": 0.0, \"julianDay\": 325, \"conso_potager\": 0.0, \"conso_paillage\": 0.0, \"irrigationSurfacique\": 0.0}, {\"doy\": \"11-22\", \"mm\": 0.0, \"julianDay\": 326, \"conso_potager\": 0.0, \"conso_paillage\": 0.0, \"irrigationSurfacique\": 0.0}, {\"doy\": \"11-23\", \"mm\": 0.0, \"julianDay\": 327, \"conso_potager\": 0.0, \"conso_paillage\": 0.0, \"irrigationSurfacique\": 0.0}, {\"doy\": \"11-24\", \"mm\": 6.0, \"julianDay\": 328, \"conso_potager\": 0.0, \"conso_paillage\": 0.0, \"irrigationSurfacique\": 0.0}, {\"doy\": \"11-25\", \"mm\": 6.0, \"julianDay\": 329, \"conso_potager\": 0.0, \"conso_paillage\": 0.0, \"irrigationSurfacique\": 0.0}, {\"doy\": \"11-26\", \"mm\": 0.0, \"julianDay\": 330, \"conso_potager\": 0.0, \"conso_paillage\": 0.0, \"irrigationSurfacique\": 0.0}, {\"doy\": \"11-27\", \"mm\": 0.0, \"julianDay\": 331, \"conso_potager\": 0.0, \"conso_paillage\": 0.0, \"irrigationSurfacique\": 0.0}, {\"doy\": \"11-28\", \"mm\": 0.0, \"julianDay\": 332, \"conso_potager\": 0.0, \"conso_paillage\": 0.0, \"irrigationSurfacique\": 0.0}, {\"doy\": \"11-29\", \"mm\": 0.0, \"julianDay\": 333, \"conso_potager\": 0.0, \"conso_paillage\": 0.0, \"irrigationSurfacique\": 0.0}, {\"doy\": \"11-30\", \"mm\": 0.0, \"julianDay\": 334, \"conso_potager\": 0.0, \"conso_paillage\": 0.0, \"irrigationSurfacique\": 0.0}, {\"doy\": \"12-01\", \"mm\": 0.0, \"julianDay\": 335, \"conso_potager\": 0.0, \"conso_paillage\": 0.0, \"irrigationSurfacique\": 0.0}, {\"doy\": \"12-02\", \"mm\": 0.0, \"julianDay\": 336, \"conso_potager\": 0.0, \"conso_paillage\": 0.0, \"irrigationSurfacique\": 0.0}, {\"doy\": \"12-03\", \"mm\": 5.0, \"julianDay\": 337, \"conso_potager\": 0.0, \"conso_paillage\": 0.0, \"irrigationSurfacique\": 0.0}, {\"doy\": \"12-04\", \"mm\": 0.0, \"julianDay\": 338, \"conso_potager\": 0.0, \"conso_paillage\": 0.0, \"irrigationSurfacique\": 0.0}, {\"doy\": \"12-05\", \"mm\": 0.0, \"julianDay\": 339, \"conso_potager\": 0.0, \"conso_paillage\": 0.0, \"irrigationSurfacique\": 0.0}, {\"doy\": \"12-06\", \"mm\": 0.0, \"julianDay\": 340, \"conso_potager\": 0.0, \"conso_paillage\": 0.0, \"irrigationSurfacique\": 0.0}, {\"doy\": \"12-07\", \"mm\": 5.0, \"julianDay\": 341, \"conso_potager\": 0.0, \"conso_paillage\": 0.0, \"irrigationSurfacique\": 0.0}, {\"doy\": \"12-08\", \"mm\": 0.0, \"julianDay\": 342, \"conso_potager\": 0.0, \"conso_paillage\": 0.0, \"irrigationSurfacique\": 0.0}, {\"doy\": \"12-09\", \"mm\": 0.0, \"julianDay\": 343, \"conso_potager\": 0.0, \"conso_paillage\": 0.0, \"irrigationSurfacique\": 0.0}, {\"doy\": \"12-10\", \"mm\": 0.0, \"julianDay\": 344, \"conso_potager\": 0.0, \"conso_paillage\": 0.0, \"irrigationSurfacique\": 0.0}, {\"doy\": \"12-11\", \"mm\": 5.0, \"julianDay\": 345, \"conso_potager\": 0.0, \"conso_paillage\": 0.0, \"irrigationSurfacique\": 0.0}, {\"doy\": \"12-12\", \"mm\": 0.0, \"julianDay\": 346, \"conso_potager\": 0.0, \"conso_paillage\": 0.0, \"irrigationSurfacique\": 0.0}, {\"doy\": \"12-13\", \"mm\": 0.0, \"julianDay\": 347, \"conso_potager\": 0.0, \"conso_paillage\": 0.0, \"irrigationSurfacique\": 0.0}, {\"doy\": \"12-14\", \"mm\": 0.0, \"julianDay\": 348, \"conso_potager\": 0.0, \"conso_paillage\": 0.0, \"irrigationSurfacique\": 0.0}, {\"doy\": \"12-15\", \"mm\": 0.0, \"julianDay\": 349, \"conso_potager\": 0.0, \"conso_paillage\": 0.0, \"irrigationSurfacique\": 0.0}, {\"doy\": \"12-16\", \"mm\": 0.0, \"julianDay\": 350, \"conso_potager\": 0.0, \"conso_paillage\": 0.0, \"irrigationSurfacique\": 0.0}, {\"doy\": \"12-17\", \"mm\": 0.0, \"julianDay\": 351, \"conso_potager\": 0.0, \"conso_paillage\": 0.0, \"irrigationSurfacique\": 0.0}, {\"doy\": \"12-18\", \"mm\": 0.0, \"julianDay\": 352, \"conso_potager\": 0.0, \"conso_paillage\": 0.0, \"irrigationSurfacique\": 0.0}, {\"doy\": \"12-19\", \"mm\": 0.0, \"julianDay\": 353, \"conso_potager\": 0.0, \"conso_paillage\": 0.0, \"irrigationSurfacique\": 0.0}, {\"doy\": \"12-20\", \"mm\": 5.0, \"julianDay\": 354, \"conso_potager\": 0.0, \"conso_paillage\": 0.0, \"irrigationSurfacique\": 0.0}, {\"doy\": \"12-21\", \"mm\": 5.0, \"julianDay\": 355, \"conso_potager\": 0.0, \"conso_paillage\": 0.0, \"irrigationSurfacique\": 0.0}, {\"doy\": \"12-22\", \"mm\": 0.0, \"julianDay\": 356, \"conso_potager\": 0.0, \"conso_paillage\": 0.0, \"irrigationSurfacique\": 0.0}, {\"doy\": \"12-23\", \"mm\": 0.0, \"julianDay\": 357, \"conso_potager\": 0.0, \"conso_paillage\": 0.0, \"irrigationSurfacique\": 0.0}, {\"doy\": \"12-24\", \"mm\": 0.0, \"julianDay\": 358, \"conso_potager\": 0.0, \"conso_paillage\": 0.0, \"irrigationSurfacique\": 0.0}, {\"doy\": \"12-25\", \"mm\": 0.0, \"julianDay\": 359, \"conso_potager\": 0.0, \"conso_paillage\": 0.0, \"irrigationSurfacique\": 0.0}, {\"doy\": \"12-26\", \"mm\": 0.0, \"julianDay\": 360, \"conso_potager\": 0.0, \"conso_paillage\": 0.0, \"irrigationSurfacique\": 0.0}, {\"doy\": \"12-27\", \"mm\": 0.0, \"julianDay\": 361, \"conso_potager\": 0.0, \"conso_paillage\": 0.0, \"irrigationSurfacique\": 0.0}, {\"doy\": \"12-28\", \"mm\": 0.0, \"julianDay\": 362, \"conso_potager\": 0.0, \"conso_paillage\": 0.0, \"irrigationSurfacique\": 0.0}, {\"doy\": \"12-29\", \"mm\": 0.0, \"julianDay\": 363, \"conso_potager\": 0.0, \"conso_paillage\": 0.0, \"irrigationSurfacique\": 0.0}, {\"doy\": \"12-30\", \"mm\": 0.0, \"julianDay\": 364, \"conso_potager\": 0.0, \"conso_paillage\": 0.0, \"irrigationSurfacique\": 0.0}, {\"doy\": \"12-31\", \"mm\": 0.0, \"julianDay\": 365, \"conso_potager\": 0.0, \"conso_paillage\": 0.0, \"irrigationSurfacique\": 0.0}]}}, {\"mode\": \"vega-lite\"});\n",
       "</script>"
      ],
      "text/plain": [
       "alt.Chart(...)"
      ]
     },
     "execution_count": 111,
     "metadata": {},
     "output_type": "execute_result"
    }
   ],
   "source": [
    "alt.Chart(df).mark_line().encode(\n",
    "    x = alt.X('monthdate(doy)', title=\"Jour de l'année\"),\n",
    "    y = alt.Y('conso_paillage', title=\"Besoins en irrigation\")\n",
    ").properties(width=450).interactive()"
   ]
  },
  {
   "cell_type": "code",
   "execution_count": 112,
   "metadata": {},
   "outputs": [],
   "source": [
    "# A partir des besoins et consommations par unité de surface,\n",
    "# On obtient les besoins et consommations pour l'ensemble du potager. \n",
    "\n",
    "df['besoinsTotaux'] = df.irrigationSurfacique * 100\n",
    "df['apportsTotaux'] = df.mm*200\n",
    "# besoins totaux donne la totalité du besoin pour le potager, soit sur 100 m2"
   ]
  },
  {
   "attachments": {},
   "cell_type": "markdown",
   "metadata": {},
   "source": [
    "On accède donc, via la surface du potager et celle du toit, à l'ensemble des besoins et l'ensemble des apports quotidiens. "
   ]
  },
  {
   "attachments": {},
   "cell_type": "markdown",
   "metadata": {},
   "source": [
    "\n",
    "### Dimension de la cuve"
   ]
  },
  {
   "attachments": {},
   "cell_type": "markdown",
   "metadata": {},
   "source": [
    "Simulons une cuve de volume infini, qui se remplit avec les précipitations et se vide via les utilisations, et suivons son volume. "
   ]
  },
  {
   "cell_type": "code",
   "execution_count": 113,
   "metadata": {},
   "outputs": [],
   "source": [
    "#initialisation \n",
    "cuve = [0]\n",
    "# remplissage au cours de l'annee\n",
    "for index in range(len(df)-1):\n",
    "    cuve.append(cuve[index] + df['apportsTotaux'].iloc[index] - df['besoinsTotaux'].iloc[index])\n",
    "#conversion en df\n",
    "cuve = pd.DataFrame(cuve)\n",
    "cuve = pd.concat([df['doy'], cuve], axis=1)\n",
    "cuve = cuve.set_axis(['doy', 'vol'], axis=1, copy=False)"
   ]
  },
  {
   "cell_type": "code",
   "execution_count": 114,
   "metadata": {},
   "outputs": [
    {
     "data": {
      "text/html": [
       "\n",
       "<div id=\"altair-viz-fdb45a7538b543279862f8e67a9426a2\"></div>\n",
       "<script type=\"text/javascript\">\n",
       "  var VEGA_DEBUG = (typeof VEGA_DEBUG == \"undefined\") ? {} : VEGA_DEBUG;\n",
       "  (function(spec, embedOpt){\n",
       "    let outputDiv = document.currentScript.previousElementSibling;\n",
       "    if (outputDiv.id !== \"altair-viz-fdb45a7538b543279862f8e67a9426a2\") {\n",
       "      outputDiv = document.getElementById(\"altair-viz-fdb45a7538b543279862f8e67a9426a2\");\n",
       "    }\n",
       "    const paths = {\n",
       "      \"vega\": \"https://cdn.jsdelivr.net/npm//vega@5?noext\",\n",
       "      \"vega-lib\": \"https://cdn.jsdelivr.net/npm//vega-lib?noext\",\n",
       "      \"vega-lite\": \"https://cdn.jsdelivr.net/npm//vega-lite@4.17.0?noext\",\n",
       "      \"vega-embed\": \"https://cdn.jsdelivr.net/npm//vega-embed@6?noext\",\n",
       "    };\n",
       "\n",
       "    function maybeLoadScript(lib, version) {\n",
       "      var key = `${lib.replace(\"-\", \"\")}_version`;\n",
       "      return (VEGA_DEBUG[key] == version) ?\n",
       "        Promise.resolve(paths[lib]) :\n",
       "        new Promise(function(resolve, reject) {\n",
       "          var s = document.createElement('script');\n",
       "          document.getElementsByTagName(\"head\")[0].appendChild(s);\n",
       "          s.async = true;\n",
       "          s.onload = () => {\n",
       "            VEGA_DEBUG[key] = version;\n",
       "            return resolve(paths[lib]);\n",
       "          };\n",
       "          s.onerror = () => reject(`Error loading script: ${paths[lib]}`);\n",
       "          s.src = paths[lib];\n",
       "        });\n",
       "    }\n",
       "\n",
       "    function showError(err) {\n",
       "      outputDiv.innerHTML = `<div class=\"error\" style=\"color:red;\">${err}</div>`;\n",
       "      throw err;\n",
       "    }\n",
       "\n",
       "    function displayChart(vegaEmbed) {\n",
       "      vegaEmbed(outputDiv, spec, embedOpt)\n",
       "        .catch(err => showError(`Javascript Error: ${err.message}<br>This usually means there's a typo in your chart specification. See the javascript console for the full traceback.`));\n",
       "    }\n",
       "\n",
       "    if(typeof define === \"function\" && define.amd) {\n",
       "      requirejs.config({paths});\n",
       "      require([\"vega-embed\"], displayChart, err => showError(`Error loading script: ${err.message}`));\n",
       "    } else {\n",
       "      maybeLoadScript(\"vega\", \"5\")\n",
       "        .then(() => maybeLoadScript(\"vega-lite\", \"4.17.0\"))\n",
       "        .then(() => maybeLoadScript(\"vega-embed\", \"6\"))\n",
       "        .catch(showError)\n",
       "        .then(() => displayChart(vegaEmbed));\n",
       "    }\n",
       "  })({\"config\": {\"view\": {\"continuousWidth\": 400, \"continuousHeight\": 300}}, \"data\": {\"name\": \"data-305cd3166e97940ea2762fd57ee4815e\"}, \"mark\": \"line\", \"encoding\": {\"tooltip\": [{\"field\": \"vol\", \"type\": \"quantitative\"}, {\"field\": \"doy\", \"type\": \"nominal\"}], \"x\": {\"field\": \"doy\", \"title\": \"Jour de l'ann\\u00e9e\", \"type\": \"temporal\"}, \"y\": {\"field\": \"vol\", \"title\": \"Volume de la cuve\", \"type\": \"quantitative\"}}, \"selection\": {\"selector014\": {\"type\": \"interval\", \"bind\": \"scales\", \"encodings\": [\"x\", \"y\"]}}, \"width\": 400, \"$schema\": \"https://vega.github.io/schema/vega-lite/v4.17.0.json\", \"datasets\": {\"data-305cd3166e97940ea2762fd57ee4815e\": [{\"doy\": \"01-01\", \"vol\": 0.0}, {\"doy\": \"01-02\", \"vol\": 0.0}, {\"doy\": \"01-03\", \"vol\": 0.0}, {\"doy\": \"01-04\", \"vol\": 0.0}, {\"doy\": \"01-05\", \"vol\": 0.0}, {\"doy\": \"01-06\", \"vol\": 0.0}, {\"doy\": \"01-07\", \"vol\": 0.0}, {\"doy\": \"01-08\", \"vol\": 0.0}, {\"doy\": \"01-09\", \"vol\": 0.0}, {\"doy\": \"01-10\", \"vol\": 0.0}, {\"doy\": \"01-11\", \"vol\": 886.0}, {\"doy\": \"01-12\", \"vol\": 1772.0}, {\"doy\": \"01-13\", \"vol\": 1772.0}, {\"doy\": \"01-14\", \"vol\": 2658.0}, {\"doy\": \"01-15\", \"vol\": 3544.0}, {\"doy\": \"01-16\", \"vol\": 3544.0}, {\"doy\": \"01-17\", \"vol\": 3544.0}, {\"doy\": \"01-18\", \"vol\": 4430.0}, {\"doy\": \"01-19\", \"vol\": 4430.0}, {\"doy\": \"01-20\", \"vol\": 4430.0}, {\"doy\": \"01-21\", \"vol\": 4430.0}, {\"doy\": \"01-22\", \"vol\": 4430.0}, {\"doy\": \"01-23\", \"vol\": 4430.0}, {\"doy\": \"01-24\", \"vol\": 4430.0}, {\"doy\": \"01-25\", \"vol\": 4430.0}, {\"doy\": \"01-26\", \"vol\": 4430.0}, {\"doy\": \"01-27\", \"vol\": 5316.0}, {\"doy\": \"01-28\", \"vol\": 5316.0}, {\"doy\": \"01-29\", \"vol\": 5316.0}, {\"doy\": \"01-30\", \"vol\": 5316.0}, {\"doy\": \"01-31\", \"vol\": 5316.0}, {\"doy\": \"02-01\", \"vol\": 5316.0}, {\"doy\": \"02-02\", \"vol\": 5316.0}, {\"doy\": \"02-03\", \"vol\": 5316.0}, {\"doy\": \"02-04\", \"vol\": 5316.0}, {\"doy\": \"02-05\", \"vol\": 5316.0}, {\"doy\": \"02-06\", \"vol\": 5316.0}, {\"doy\": \"02-07\", \"vol\": 5316.0}, {\"doy\": \"02-08\", \"vol\": 5316.0}, {\"doy\": \"02-09\", \"vol\": 5316.0}, {\"doy\": \"02-10\", \"vol\": 5316.0}, {\"doy\": \"02-11\", \"vol\": 5316.0}, {\"doy\": \"02-12\", \"vol\": 5316.0}, {\"doy\": \"02-13\", \"vol\": 6316.0}, {\"doy\": \"02-14\", \"vol\": 6316.0}, {\"doy\": \"02-15\", \"vol\": 6316.0}, {\"doy\": \"02-16\", \"vol\": 6316.0}, {\"doy\": \"02-17\", \"vol\": 7316.0}, {\"doy\": \"02-18\", \"vol\": 8316.0}, {\"doy\": \"02-19\", \"vol\": 8316.0}, {\"doy\": \"02-20\", \"vol\": 8316.0}, {\"doy\": \"02-21\", \"vol\": 8316.0}, {\"doy\": \"02-22\", \"vol\": 8316.0}, {\"doy\": \"02-23\", \"vol\": 8316.0}, {\"doy\": \"02-24\", \"vol\": 8316.0}, {\"doy\": \"02-25\", \"vol\": 8316.0}, {\"doy\": \"02-26\", \"vol\": 8316.0}, {\"doy\": \"02-27\", \"vol\": 8316.0}, {\"doy\": \"02-28\", \"vol\": 9316.0}, {\"doy\": \"03-01\", \"vol\": 10316.0}, {\"doy\": \"03-02\", \"vol\": 10316.0}, {\"doy\": \"03-03\", \"vol\": 10316.0}, {\"doy\": \"03-04\", \"vol\": 10316.0}, {\"doy\": \"03-05\", \"vol\": 11116.0}, {\"doy\": \"03-06\", \"vol\": 11116.0}, {\"doy\": \"03-07\", \"vol\": 11116.0}, {\"doy\": \"03-08\", \"vol\": 11116.0}, {\"doy\": \"03-09\", \"vol\": 11916.0}, {\"doy\": \"03-10\", \"vol\": 11916.0}, {\"doy\": \"03-11\", \"vol\": 11916.0}, {\"doy\": \"03-12\", \"vol\": 11916.0}, {\"doy\": \"03-13\", \"vol\": 11916.0}, {\"doy\": \"03-14\", \"vol\": 11916.0}, {\"doy\": \"03-15\", \"vol\": 11916.0}, {\"doy\": \"03-16\", \"vol\": 11916.0}, {\"doy\": \"03-17\", \"vol\": 12716.0}, {\"doy\": \"03-18\", \"vol\": 13516.0}, {\"doy\": \"03-19\", \"vol\": 13516.0}, {\"doy\": \"03-20\", \"vol\": 13516.0}, {\"doy\": \"03-21\", \"vol\": 15116.0}, {\"doy\": \"03-22\", \"vol\": 15116.0}, {\"doy\": \"03-23\", \"vol\": 15116.0}, {\"doy\": \"03-24\", \"vol\": 15116.0}, {\"doy\": \"03-25\", \"vol\": 15116.0}, {\"doy\": \"03-26\", \"vol\": 15916.0}, {\"doy\": \"03-27\", \"vol\": 15916.0}, {\"doy\": \"03-28\", \"vol\": 15916.0}, {\"doy\": \"03-29\", \"vol\": 15916.0}, {\"doy\": \"03-30\", \"vol\": 15916.0}, {\"doy\": \"03-31\", \"vol\": 15916.0}, {\"doy\": \"04-01\", \"vol\": 15916.0}, {\"doy\": \"04-02\", \"vol\": 17116.0}, {\"doy\": \"04-03\", \"vol\": 17116.0}, {\"doy\": \"04-04\", \"vol\": 17116.0}, {\"doy\": \"04-05\", \"vol\": 18316.0}, {\"doy\": \"04-06\", \"vol\": 18316.0}, {\"doy\": \"04-07\", \"vol\": 19516.0}, {\"doy\": \"04-08\", \"vol\": 20716.0}, {\"doy\": \"04-09\", \"vol\": 20716.0}, {\"doy\": \"04-10\", \"vol\": 20716.0}, {\"doy\": \"04-11\", \"vol\": 20716.0}, {\"doy\": \"04-12\", \"vol\": 20716.0}, {\"doy\": \"04-13\", \"vol\": 23116.0}, {\"doy\": \"04-14\", \"vol\": 23116.0}, {\"doy\": \"04-15\", \"vol\": 23116.0}, {\"doy\": \"04-16\", \"vol\": 23116.0}, {\"doy\": \"04-17\", \"vol\": 23116.0}, {\"doy\": \"04-18\", \"vol\": 23116.0}, {\"doy\": \"04-19\", \"vol\": 23116.0}, {\"doy\": \"04-20\", \"vol\": 23116.0}, {\"doy\": \"04-21\", \"vol\": 23116.0}, {\"doy\": \"04-22\", \"vol\": 23116.0}, {\"doy\": \"04-23\", \"vol\": 23116.0}, {\"doy\": \"04-24\", \"vol\": 23116.0}, {\"doy\": \"04-25\", \"vol\": 24316.0}, {\"doy\": \"04-26\", \"vol\": 25516.0}, {\"doy\": \"04-27\", \"vol\": 25516.0}, {\"doy\": \"04-28\", \"vol\": 25516.0}, {\"doy\": \"04-29\", \"vol\": 25516.0}, {\"doy\": \"04-30\", \"vol\": 25516.0}, {\"doy\": \"05-01\", \"vol\": 25516.0}, {\"doy\": \"05-02\", \"vol\": 25183.0}, {\"doy\": \"05-03\", \"vol\": 26583.0}, {\"doy\": \"05-04\", \"vol\": 26250.0}, {\"doy\": \"05-05\", \"vol\": 29050.0}, {\"doy\": \"05-06\", \"vol\": 28717.0}, {\"doy\": \"05-07\", \"vol\": 28384.0}, {\"doy\": \"05-08\", \"vol\": 28051.0}, {\"doy\": \"05-09\", \"vol\": 29451.0}, {\"doy\": \"05-10\", \"vol\": 29118.0}, {\"doy\": \"05-11\", \"vol\": 28785.0}, {\"doy\": \"05-12\", \"vol\": 30185.0}, {\"doy\": \"05-13\", \"vol\": 29852.0}, {\"doy\": \"05-14\", \"vol\": 29519.0}, {\"doy\": \"05-15\", \"vol\": 29186.0}, {\"doy\": \"05-16\", \"vol\": 30586.0}, {\"doy\": \"05-17\", \"vol\": 30253.0}, {\"doy\": \"05-18\", \"vol\": 29920.0}, {\"doy\": \"05-19\", \"vol\": 29587.0}, {\"doy\": \"05-20\", \"vol\": 29254.0}, {\"doy\": \"05-21\", \"vol\": 30654.0}, {\"doy\": \"05-22\", \"vol\": 30321.0}, {\"doy\": \"05-23\", \"vol\": 31721.0}, {\"doy\": \"05-24\", \"vol\": 31388.0}, {\"doy\": \"05-25\", \"vol\": 31055.0}, {\"doy\": \"05-26\", \"vol\": 30722.0}, {\"doy\": \"05-27\", \"vol\": 30389.0}, {\"doy\": \"05-28\", \"vol\": 31789.0}, {\"doy\": \"05-29\", \"vol\": 33189.0}, {\"doy\": \"05-30\", \"vol\": 32856.0}, {\"doy\": \"05-31\", \"vol\": 32523.0}, {\"doy\": \"06-01\", \"vol\": 32190.0}, {\"doy\": \"06-02\", \"vol\": 31523.0}, {\"doy\": \"06-03\", \"vol\": 33123.0}, {\"doy\": \"06-04\", \"vol\": 32456.0}, {\"doy\": \"06-05\", \"vol\": 31789.0}, {\"doy\": \"06-06\", \"vol\": 31122.0}, {\"doy\": \"06-07\", \"vol\": 30455.0}, {\"doy\": \"06-08\", \"vol\": 32055.0}, {\"doy\": \"06-09\", \"vol\": 33655.0}, {\"doy\": \"06-10\", \"vol\": 32988.0}, {\"doy\": \"06-11\", \"vol\": 32321.0}, {\"doy\": \"06-12\", \"vol\": 31654.0}, {\"doy\": \"06-13\", \"vol\": 33254.0}, {\"doy\": \"06-14\", \"vol\": 34854.0}, {\"doy\": \"06-15\", \"vol\": 36454.0}, {\"doy\": \"06-16\", \"vol\": 35787.0}, {\"doy\": \"06-17\", \"vol\": 35120.0}, {\"doy\": \"06-18\", \"vol\": 34453.0}, {\"doy\": \"06-19\", \"vol\": 33786.0}, {\"doy\": \"06-20\", \"vol\": 33119.0}, {\"doy\": \"06-21\", \"vol\": 32452.0}, {\"doy\": \"06-22\", \"vol\": 31785.0}, {\"doy\": \"06-23\", \"vol\": 31118.0}, {\"doy\": \"06-24\", \"vol\": 32718.0}, {\"doy\": \"06-25\", \"vol\": 32051.0}, {\"doy\": \"06-26\", \"vol\": 31384.0}, {\"doy\": \"06-27\", \"vol\": 30717.0}, {\"doy\": \"06-28\", \"vol\": 32317.0}, {\"doy\": \"06-29\", \"vol\": 31650.0}, {\"doy\": \"06-30\", \"vol\": 30983.0}, {\"doy\": \"07-01\", \"vol\": 30316.0}, {\"doy\": \"07-02\", \"vol\": 29649.0}, {\"doy\": \"07-03\", \"vol\": 28982.0}, {\"doy\": \"07-04\", \"vol\": 30382.0}, {\"doy\": \"07-05\", \"vol\": 29715.0}, {\"doy\": \"07-06\", \"vol\": 29048.0}, {\"doy\": \"07-07\", \"vol\": 28381.0}, {\"doy\": \"07-08\", \"vol\": 29781.0}, {\"doy\": \"07-09\", \"vol\": 31181.0}, {\"doy\": \"07-10\", \"vol\": 32581.0}, {\"doy\": \"07-11\", \"vol\": 31914.0}, {\"doy\": \"07-12\", \"vol\": 31247.0}, {\"doy\": \"07-13\", \"vol\": 30580.0}, {\"doy\": \"07-14\", \"vol\": 29913.0}, {\"doy\": \"07-15\", \"vol\": 29246.0}, {\"doy\": \"07-16\", \"vol\": 28579.0}, {\"doy\": \"07-17\", \"vol\": 27912.0}, {\"doy\": \"07-18\", \"vol\": 27245.0}, {\"doy\": \"07-19\", \"vol\": 28645.0}, {\"doy\": \"07-20\", \"vol\": 27978.0}, {\"doy\": \"07-21\", \"vol\": 27311.0}, {\"doy\": \"07-22\", \"vol\": 28711.0}, {\"doy\": \"07-23\", \"vol\": 30111.0}, {\"doy\": \"07-24\", \"vol\": 29444.0}, {\"doy\": \"07-25\", \"vol\": 28777.0}, {\"doy\": \"07-26\", \"vol\": 28110.0}, {\"doy\": \"07-27\", \"vol\": 27443.0}, {\"doy\": \"07-28\", \"vol\": 28843.0}, {\"doy\": \"07-29\", \"vol\": 28176.0}, {\"doy\": \"07-30\", \"vol\": 27509.0}, {\"doy\": \"07-31\", \"vol\": 28909.0}, {\"doy\": \"08-01\", \"vol\": 28242.0}, {\"doy\": \"08-02\", \"vol\": 27575.0}, {\"doy\": \"08-03\", \"vol\": 26908.0}, {\"doy\": \"08-04\", \"vol\": 28508.0}, {\"doy\": \"08-05\", \"vol\": 27841.0}, {\"doy\": \"08-06\", \"vol\": 27174.0}, {\"doy\": \"08-07\", \"vol\": 26507.0}, {\"doy\": \"08-08\", \"vol\": 25840.0}, {\"doy\": \"08-09\", \"vol\": 27440.0}, {\"doy\": \"08-10\", \"vol\": 29040.0}, {\"doy\": \"08-11\", \"vol\": 28373.0}, {\"doy\": \"08-12\", \"vol\": 27706.0}, {\"doy\": \"08-13\", \"vol\": 27039.0}, {\"doy\": \"08-14\", \"vol\": 26372.0}, {\"doy\": \"08-15\", \"vol\": 25705.0}, {\"doy\": \"08-16\", \"vol\": 28905.0}, {\"doy\": \"08-17\", \"vol\": 28238.0}, {\"doy\": \"08-18\", \"vol\": 27571.0}, {\"doy\": \"08-19\", \"vol\": 26904.0}, {\"doy\": \"08-20\", \"vol\": 26237.0}, {\"doy\": \"08-21\", \"vol\": 25570.0}, {\"doy\": \"08-22\", \"vol\": 27170.0}, {\"doy\": \"08-23\", \"vol\": 28770.0}, {\"doy\": \"08-24\", \"vol\": 28103.0}, {\"doy\": \"08-25\", \"vol\": 27436.0}, {\"doy\": \"08-26\", \"vol\": 29036.0}, {\"doy\": \"08-27\", \"vol\": 28369.0}, {\"doy\": \"08-28\", \"vol\": 27702.0}, {\"doy\": \"08-29\", \"vol\": 27035.0}, {\"doy\": \"08-30\", \"vol\": 26368.0}, {\"doy\": \"08-31\", \"vol\": 25701.0}, {\"doy\": \"09-01\", \"vol\": 25034.0}, {\"doy\": \"09-02\", \"vol\": 24701.0}, {\"doy\": \"09-03\", \"vol\": 24368.0}, {\"doy\": \"09-04\", \"vol\": 25968.0}, {\"doy\": \"09-05\", \"vol\": 25635.0}, {\"doy\": \"09-06\", \"vol\": 25302.0}, {\"doy\": \"09-07\", \"vol\": 24969.0}, {\"doy\": \"09-08\", \"vol\": 24636.0}, {\"doy\": \"09-09\", \"vol\": 24303.0}, {\"doy\": \"09-10\", \"vol\": 23970.0}, {\"doy\": \"09-11\", \"vol\": 23637.0}, {\"doy\": \"09-12\", \"vol\": 25237.0}, {\"doy\": \"09-13\", \"vol\": 26837.0}, {\"doy\": \"09-14\", \"vol\": 26504.0}, {\"doy\": \"09-15\", \"vol\": 26171.0}, {\"doy\": \"09-16\", \"vol\": 25838.0}, {\"doy\": \"09-17\", \"vol\": 25505.0}, {\"doy\": \"09-18\", \"vol\": 25172.0}, {\"doy\": \"09-19\", \"vol\": 24839.0}, {\"doy\": \"09-20\", \"vol\": 26439.0}, {\"doy\": \"09-21\", \"vol\": 28039.0}, {\"doy\": \"09-22\", \"vol\": 31239.0}, {\"doy\": \"09-23\", \"vol\": 30906.0}, {\"doy\": \"09-24\", \"vol\": 30573.0}, {\"doy\": \"09-25\", \"vol\": 30240.0}, {\"doy\": \"09-26\", \"vol\": 31840.0}, {\"doy\": \"09-27\", \"vol\": 31507.0}, {\"doy\": \"09-28\", \"vol\": 31174.0}, {\"doy\": \"09-29\", \"vol\": 30841.0}, {\"doy\": \"09-30\", \"vol\": 30508.0}, {\"doy\": \"10-01\", \"vol\": 30175.0}, {\"doy\": \"10-02\", \"vol\": 30175.0}, {\"doy\": \"10-03\", \"vol\": 30175.0}, {\"doy\": \"10-04\", \"vol\": 30175.0}, {\"doy\": \"10-05\", \"vol\": 31375.0}, {\"doy\": \"10-06\", \"vol\": 31375.0}, {\"doy\": \"10-07\", \"vol\": 31375.0}, {\"doy\": \"10-08\", \"vol\": 31375.0}, {\"doy\": \"10-09\", \"vol\": 31375.0}, {\"doy\": \"10-10\", \"vol\": 32575.0}, {\"doy\": \"10-11\", \"vol\": 33775.0}, {\"doy\": \"10-12\", \"vol\": 33775.0}, {\"doy\": \"10-13\", \"vol\": 33775.0}, {\"doy\": \"10-14\", \"vol\": 33775.0}, {\"doy\": \"10-15\", \"vol\": 33775.0}, {\"doy\": \"10-16\", \"vol\": 33775.0}, {\"doy\": \"10-17\", \"vol\": 34975.0}, {\"doy\": \"10-18\", \"vol\": 34975.0}, {\"doy\": \"10-19\", \"vol\": 34975.0}, {\"doy\": \"10-20\", \"vol\": 34975.0}, {\"doy\": \"10-21\", \"vol\": 34975.0}, {\"doy\": \"10-22\", \"vol\": 36175.0}, {\"doy\": \"10-23\", \"vol\": 36175.0}, {\"doy\": \"10-24\", \"vol\": 36175.0}, {\"doy\": \"10-25\", \"vol\": 36175.0}, {\"doy\": \"10-26\", \"vol\": 37375.0}, {\"doy\": \"10-27\", \"vol\": 38575.0}, {\"doy\": \"10-28\", \"vol\": 38575.0}, {\"doy\": \"10-29\", \"vol\": 39775.0}, {\"doy\": \"10-30\", \"vol\": 39775.0}, {\"doy\": \"10-31\", \"vol\": 39775.0}, {\"doy\": \"11-01\", \"vol\": 39775.0}, {\"doy\": \"11-02\", \"vol\": 39775.0}, {\"doy\": \"11-03\", \"vol\": 40975.0}, {\"doy\": \"11-04\", \"vol\": 42175.0}, {\"doy\": \"11-05\", \"vol\": 42175.0}, {\"doy\": \"11-06\", \"vol\": 42175.0}, {\"doy\": \"11-07\", \"vol\": 42175.0}, {\"doy\": \"11-08\", \"vol\": 43375.0}, {\"doy\": \"11-09\", \"vol\": 44575.0}, {\"doy\": \"11-10\", \"vol\": 44575.0}, {\"doy\": \"11-11\", \"vol\": 44575.0}, {\"doy\": \"11-12\", \"vol\": 44575.0}, {\"doy\": \"11-13\", \"vol\": 44575.0}, {\"doy\": \"11-14\", \"vol\": 44575.0}, {\"doy\": \"11-15\", \"vol\": 45775.0}, {\"doy\": \"11-16\", \"vol\": 45775.0}, {\"doy\": \"11-17\", \"vol\": 45775.0}, {\"doy\": \"11-18\", \"vol\": 45775.0}, {\"doy\": \"11-19\", \"vol\": 46975.0}, {\"doy\": \"11-20\", \"vol\": 46975.0}, {\"doy\": \"11-21\", \"vol\": 46975.0}, {\"doy\": \"11-22\", \"vol\": 46975.0}, {\"doy\": \"11-23\", \"vol\": 46975.0}, {\"doy\": \"11-24\", \"vol\": 46975.0}, {\"doy\": \"11-25\", \"vol\": 48175.0}, {\"doy\": \"11-26\", \"vol\": 49375.0}, {\"doy\": \"11-27\", \"vol\": 49375.0}, {\"doy\": \"11-28\", \"vol\": 49375.0}, {\"doy\": \"11-29\", \"vol\": 49375.0}, {\"doy\": \"11-30\", \"vol\": 49375.0}, {\"doy\": \"12-01\", \"vol\": 49375.0}, {\"doy\": \"12-02\", \"vol\": 49375.0}, {\"doy\": \"12-03\", \"vol\": 49375.0}, {\"doy\": \"12-04\", \"vol\": 50375.0}, {\"doy\": \"12-05\", \"vol\": 50375.0}, {\"doy\": \"12-06\", \"vol\": 50375.0}, {\"doy\": \"12-07\", \"vol\": 50375.0}, {\"doy\": \"12-08\", \"vol\": 51375.0}, {\"doy\": \"12-09\", \"vol\": 51375.0}, {\"doy\": \"12-10\", \"vol\": 51375.0}, {\"doy\": \"12-11\", \"vol\": 51375.0}, {\"doy\": \"12-12\", \"vol\": 52375.0}, {\"doy\": \"12-13\", \"vol\": 52375.0}, {\"doy\": \"12-14\", \"vol\": 52375.0}, {\"doy\": \"12-15\", \"vol\": 52375.0}, {\"doy\": \"12-16\", \"vol\": 52375.0}, {\"doy\": \"12-17\", \"vol\": 52375.0}, {\"doy\": \"12-18\", \"vol\": 52375.0}, {\"doy\": \"12-19\", \"vol\": 52375.0}, {\"doy\": \"12-20\", \"vol\": 52375.0}, {\"doy\": \"12-21\", \"vol\": 53375.0}, {\"doy\": \"12-22\", \"vol\": 54375.0}, {\"doy\": \"12-23\", \"vol\": 54375.0}, {\"doy\": \"12-24\", \"vol\": 54375.0}, {\"doy\": \"12-25\", \"vol\": 54375.0}, {\"doy\": \"12-26\", \"vol\": 54375.0}, {\"doy\": \"12-27\", \"vol\": 54375.0}, {\"doy\": \"12-28\", \"vol\": 54375.0}, {\"doy\": \"12-29\", \"vol\": 54375.0}, {\"doy\": \"12-30\", \"vol\": 54375.0}, {\"doy\": \"12-31\", \"vol\": 54375.0}]}}, {\"mode\": \"vega-lite\"});\n",
       "</script>"
      ],
      "text/plain": [
       "alt.Chart(...)"
      ]
     },
     "execution_count": 114,
     "metadata": {},
     "output_type": "execute_result"
    }
   ],
   "source": [
    "# Visualisation graphique\n",
    "alt.Chart(cuve).mark_line().encode(\n",
    "    x=alt.X('doy:T',title=\"Jour de l'année\"),\n",
    "    y=alt.Y('vol',title=\"Volume de la cuve\"),\n",
    "    tooltip=['vol', 'doy']\n",
    ").properties(\n",
    "    width = 400\n",
    ").interactive()"
   ]
  },
  {
   "attachments": {},
   "cell_type": "markdown",
   "metadata": {},
   "source": [
    "La cuve, initialement vide, se remplit pendant les mois d'hiver. \n",
    "Intuitivement sur la partie 01 mai - 31 oct, il suffit de prendre le maximum et le minimum locaux pour en déduire la réserve qui doit être atteinte. "
   ]
  },
  {
   "cell_type": "code",
   "execution_count": 115,
   "metadata": {},
   "outputs": [
    {
     "name": "stdout",
     "output_type": "stream",
     "text": [
      "Volume max :  36454.0\n",
      "Volume min :  23637.0\n",
      "Volume nécessaire :  12817.0\n"
     ]
    }
   ],
   "source": [
    "dcuve = cuve.loc[120:270]\n",
    "print(\"Volume max : \", np.max(dcuve['vol']))\n",
    "print(\"Volume min : \", np.min(dcuve['vol']))\n",
    "print('Volume nécessaire : ', (np.max(dcuve['vol'])-np.min(dcuve['vol'])))"
   ]
  },
  {
   "attachments": {},
   "cell_type": "markdown",
   "metadata": {},
   "source": [
    "On a donc besoin d'une cuve de 12 817 L. \n",
    "Vérifions le comportement d'une telle cuve. "
   ]
  },
  {
   "cell_type": "code",
   "execution_count": 116,
   "metadata": {},
   "outputs": [
    {
     "name": "stderr",
     "output_type": "stream",
     "text": [
      "/var/folders/fj/3hr2gzvj10z18jrd95l4p4xw0000gn/T/ipykernel_1565/2298151465.py:5: SettingWithCopyWarning: \n",
      "A value is trying to be set on a copy of a slice from a DataFrame\n",
      "\n",
      "See the caveats in the documentation: https://pandas.pydata.org/pandas-docs/stable/user_guide/indexing.html#returning-a-view-versus-a-copy\n",
      "  dcuve['vol'].iloc[index+1] = dcuve['vol'].iloc[index] + df['apportsTotaux'].iloc[index] - df['besoinsTotaux'].iloc[index]\n",
      "/var/folders/fj/3hr2gzvj10z18jrd95l4p4xw0000gn/T/ipykernel_1565/2298151465.py:6: SettingWithCopyWarning: \n",
      "A value is trying to be set on a copy of a slice from a DataFrame\n",
      "\n",
      "See the caveats in the documentation: https://pandas.pydata.org/pandas-docs/stable/user_guide/indexing.html#returning-a-view-versus-a-copy\n",
      "  dcuve['vol'].iloc[index+1] = min(dcuve['vol'][index+1], volmax)\n"
     ]
    }
   ],
   "source": [
    "dcuve = cuve\n",
    "dcuve['vol'] = 0\n",
    "volmax = 13000\n",
    "for index in (range(len(dcuve['vol'])-1)):\n",
    "    dcuve['vol'].iloc[index+1] = dcuve['vol'].iloc[index] + df['apportsTotaux'].iloc[index] - df['besoinsTotaux'].iloc[index]\n",
    "    dcuve['vol'].iloc[index+1] = min(dcuve['vol'][index+1], volmax)\n"
   ]
  },
  {
   "cell_type": "code",
   "execution_count": 117,
   "metadata": {},
   "outputs": [
    {
     "data": {
      "text/html": [
       "\n",
       "<div id=\"altair-viz-28c6f2296ca54efe9c07949a8706dd8e\"></div>\n",
       "<script type=\"text/javascript\">\n",
       "  var VEGA_DEBUG = (typeof VEGA_DEBUG == \"undefined\") ? {} : VEGA_DEBUG;\n",
       "  (function(spec, embedOpt){\n",
       "    let outputDiv = document.currentScript.previousElementSibling;\n",
       "    if (outputDiv.id !== \"altair-viz-28c6f2296ca54efe9c07949a8706dd8e\") {\n",
       "      outputDiv = document.getElementById(\"altair-viz-28c6f2296ca54efe9c07949a8706dd8e\");\n",
       "    }\n",
       "    const paths = {\n",
       "      \"vega\": \"https://cdn.jsdelivr.net/npm//vega@5?noext\",\n",
       "      \"vega-lib\": \"https://cdn.jsdelivr.net/npm//vega-lib?noext\",\n",
       "      \"vega-lite\": \"https://cdn.jsdelivr.net/npm//vega-lite@4.17.0?noext\",\n",
       "      \"vega-embed\": \"https://cdn.jsdelivr.net/npm//vega-embed@6?noext\",\n",
       "    };\n",
       "\n",
       "    function maybeLoadScript(lib, version) {\n",
       "      var key = `${lib.replace(\"-\", \"\")}_version`;\n",
       "      return (VEGA_DEBUG[key] == version) ?\n",
       "        Promise.resolve(paths[lib]) :\n",
       "        new Promise(function(resolve, reject) {\n",
       "          var s = document.createElement('script');\n",
       "          document.getElementsByTagName(\"head\")[0].appendChild(s);\n",
       "          s.async = true;\n",
       "          s.onload = () => {\n",
       "            VEGA_DEBUG[key] = version;\n",
       "            return resolve(paths[lib]);\n",
       "          };\n",
       "          s.onerror = () => reject(`Error loading script: ${paths[lib]}`);\n",
       "          s.src = paths[lib];\n",
       "        });\n",
       "    }\n",
       "\n",
       "    function showError(err) {\n",
       "      outputDiv.innerHTML = `<div class=\"error\" style=\"color:red;\">${err}</div>`;\n",
       "      throw err;\n",
       "    }\n",
       "\n",
       "    function displayChart(vegaEmbed) {\n",
       "      vegaEmbed(outputDiv, spec, embedOpt)\n",
       "        .catch(err => showError(`Javascript Error: ${err.message}<br>This usually means there's a typo in your chart specification. See the javascript console for the full traceback.`));\n",
       "    }\n",
       "\n",
       "    if(typeof define === \"function\" && define.amd) {\n",
       "      requirejs.config({paths});\n",
       "      require([\"vega-embed\"], displayChart, err => showError(`Error loading script: ${err.message}`));\n",
       "    } else {\n",
       "      maybeLoadScript(\"vega\", \"5\")\n",
       "        .then(() => maybeLoadScript(\"vega-lite\", \"4.17.0\"))\n",
       "        .then(() => maybeLoadScript(\"vega-embed\", \"6\"))\n",
       "        .catch(showError)\n",
       "        .then(() => displayChart(vegaEmbed));\n",
       "    }\n",
       "  })({\"config\": {\"view\": {\"continuousWidth\": 400, \"continuousHeight\": 300}}, \"data\": {\"name\": \"data-47c0f5fd5291bf4180e588f71767c8d8\"}, \"mark\": \"line\", \"encoding\": {\"x\": {\"field\": \"doy\", \"type\": \"temporal\"}, \"y\": {\"field\": \"vol\", \"type\": \"quantitative\"}}, \"selection\": {\"selector015\": {\"type\": \"interval\", \"bind\": \"scales\", \"encodings\": [\"x\", \"y\"]}}, \"width\": 500, \"$schema\": \"https://vega.github.io/schema/vega-lite/v4.17.0.json\", \"datasets\": {\"data-47c0f5fd5291bf4180e588f71767c8d8\": [{\"doy\": \"01-01\", \"vol\": 0}, {\"doy\": \"01-02\", \"vol\": 0}, {\"doy\": \"01-03\", \"vol\": 0}, {\"doy\": \"01-04\", \"vol\": 0}, {\"doy\": \"01-05\", \"vol\": 0}, {\"doy\": \"01-06\", \"vol\": 0}, {\"doy\": \"01-07\", \"vol\": 0}, {\"doy\": \"01-08\", \"vol\": 0}, {\"doy\": \"01-09\", \"vol\": 0}, {\"doy\": \"01-10\", \"vol\": 0}, {\"doy\": \"01-11\", \"vol\": 886}, {\"doy\": \"01-12\", \"vol\": 1772}, {\"doy\": \"01-13\", \"vol\": 1772}, {\"doy\": \"01-14\", \"vol\": 2658}, {\"doy\": \"01-15\", \"vol\": 3544}, {\"doy\": \"01-16\", \"vol\": 3544}, {\"doy\": \"01-17\", \"vol\": 3544}, {\"doy\": \"01-18\", \"vol\": 4430}, {\"doy\": \"01-19\", \"vol\": 4430}, {\"doy\": \"01-20\", \"vol\": 4430}, {\"doy\": \"01-21\", \"vol\": 4430}, {\"doy\": \"01-22\", \"vol\": 4430}, {\"doy\": \"01-23\", \"vol\": 4430}, {\"doy\": \"01-24\", \"vol\": 4430}, {\"doy\": \"01-25\", \"vol\": 4430}, {\"doy\": \"01-26\", \"vol\": 4430}, {\"doy\": \"01-27\", \"vol\": 5316}, {\"doy\": \"01-28\", \"vol\": 5316}, {\"doy\": \"01-29\", \"vol\": 5316}, {\"doy\": \"01-30\", \"vol\": 5316}, {\"doy\": \"01-31\", \"vol\": 5316}, {\"doy\": \"02-01\", \"vol\": 5316}, {\"doy\": \"02-02\", \"vol\": 5316}, {\"doy\": \"02-03\", \"vol\": 5316}, {\"doy\": \"02-04\", \"vol\": 5316}, {\"doy\": \"02-05\", \"vol\": 5316}, {\"doy\": \"02-06\", \"vol\": 5316}, {\"doy\": \"02-07\", \"vol\": 5316}, {\"doy\": \"02-08\", \"vol\": 5316}, {\"doy\": \"02-09\", \"vol\": 5316}, {\"doy\": \"02-10\", \"vol\": 5316}, {\"doy\": \"02-11\", \"vol\": 5316}, {\"doy\": \"02-12\", \"vol\": 5316}, {\"doy\": \"02-13\", \"vol\": 6316}, {\"doy\": \"02-14\", \"vol\": 6316}, {\"doy\": \"02-15\", \"vol\": 6316}, {\"doy\": \"02-16\", \"vol\": 6316}, {\"doy\": \"02-17\", \"vol\": 7316}, {\"doy\": \"02-18\", \"vol\": 8316}, {\"doy\": \"02-19\", \"vol\": 8316}, {\"doy\": \"02-20\", \"vol\": 8316}, {\"doy\": \"02-21\", \"vol\": 8316}, {\"doy\": \"02-22\", \"vol\": 8316}, {\"doy\": \"02-23\", \"vol\": 8316}, {\"doy\": \"02-24\", \"vol\": 8316}, {\"doy\": \"02-25\", \"vol\": 8316}, {\"doy\": \"02-26\", \"vol\": 8316}, {\"doy\": \"02-27\", \"vol\": 8316}, {\"doy\": \"02-28\", \"vol\": 9316}, {\"doy\": \"03-01\", \"vol\": 10316}, {\"doy\": \"03-02\", \"vol\": 10316}, {\"doy\": \"03-03\", \"vol\": 10316}, {\"doy\": \"03-04\", \"vol\": 10316}, {\"doy\": \"03-05\", \"vol\": 11116}, {\"doy\": \"03-06\", \"vol\": 11116}, {\"doy\": \"03-07\", \"vol\": 11116}, {\"doy\": \"03-08\", \"vol\": 11116}, {\"doy\": \"03-09\", \"vol\": 11916}, {\"doy\": \"03-10\", \"vol\": 11916}, {\"doy\": \"03-11\", \"vol\": 11916}, {\"doy\": \"03-12\", \"vol\": 11916}, {\"doy\": \"03-13\", \"vol\": 11916}, {\"doy\": \"03-14\", \"vol\": 11916}, {\"doy\": \"03-15\", \"vol\": 11916}, {\"doy\": \"03-16\", \"vol\": 11916}, {\"doy\": \"03-17\", \"vol\": 12716}, {\"doy\": \"03-18\", \"vol\": 13000}, {\"doy\": \"03-19\", \"vol\": 13000}, {\"doy\": \"03-20\", \"vol\": 13000}, {\"doy\": \"03-21\", \"vol\": 13000}, {\"doy\": \"03-22\", \"vol\": 13000}, {\"doy\": \"03-23\", \"vol\": 13000}, {\"doy\": \"03-24\", \"vol\": 13000}, {\"doy\": \"03-25\", \"vol\": 13000}, {\"doy\": \"03-26\", \"vol\": 13000}, {\"doy\": \"03-27\", \"vol\": 13000}, {\"doy\": \"03-28\", \"vol\": 13000}, {\"doy\": \"03-29\", \"vol\": 13000}, {\"doy\": \"03-30\", \"vol\": 13000}, {\"doy\": \"03-31\", \"vol\": 13000}, {\"doy\": \"04-01\", \"vol\": 13000}, {\"doy\": \"04-02\", \"vol\": 13000}, {\"doy\": \"04-03\", \"vol\": 13000}, {\"doy\": \"04-04\", \"vol\": 13000}, {\"doy\": \"04-05\", \"vol\": 13000}, {\"doy\": \"04-06\", \"vol\": 13000}, {\"doy\": \"04-07\", \"vol\": 13000}, {\"doy\": \"04-08\", \"vol\": 13000}, {\"doy\": \"04-09\", \"vol\": 13000}, {\"doy\": \"04-10\", \"vol\": 13000}, {\"doy\": \"04-11\", \"vol\": 13000}, {\"doy\": \"04-12\", \"vol\": 13000}, {\"doy\": \"04-13\", \"vol\": 13000}, {\"doy\": \"04-14\", \"vol\": 13000}, {\"doy\": \"04-15\", \"vol\": 13000}, {\"doy\": \"04-16\", \"vol\": 13000}, {\"doy\": \"04-17\", \"vol\": 13000}, {\"doy\": \"04-18\", \"vol\": 13000}, {\"doy\": \"04-19\", \"vol\": 13000}, {\"doy\": \"04-20\", \"vol\": 13000}, {\"doy\": \"04-21\", \"vol\": 13000}, {\"doy\": \"04-22\", \"vol\": 13000}, {\"doy\": \"04-23\", \"vol\": 13000}, {\"doy\": \"04-24\", \"vol\": 13000}, {\"doy\": \"04-25\", \"vol\": 13000}, {\"doy\": \"04-26\", \"vol\": 13000}, {\"doy\": \"04-27\", \"vol\": 13000}, {\"doy\": \"04-28\", \"vol\": 13000}, {\"doy\": \"04-29\", \"vol\": 13000}, {\"doy\": \"04-30\", \"vol\": 13000}, {\"doy\": \"05-01\", \"vol\": 13000}, {\"doy\": \"05-02\", \"vol\": 12667}, {\"doy\": \"05-03\", \"vol\": 13000}, {\"doy\": \"05-04\", \"vol\": 12667}, {\"doy\": \"05-05\", \"vol\": 13000}, {\"doy\": \"05-06\", \"vol\": 12667}, {\"doy\": \"05-07\", \"vol\": 12334}, {\"doy\": \"05-08\", \"vol\": 12001}, {\"doy\": \"05-09\", \"vol\": 13000}, {\"doy\": \"05-10\", \"vol\": 12667}, {\"doy\": \"05-11\", \"vol\": 12334}, {\"doy\": \"05-12\", \"vol\": 13000}, {\"doy\": \"05-13\", \"vol\": 12667}, {\"doy\": \"05-14\", \"vol\": 12334}, {\"doy\": \"05-15\", \"vol\": 12001}, {\"doy\": \"05-16\", \"vol\": 13000}, {\"doy\": \"05-17\", \"vol\": 12667}, {\"doy\": \"05-18\", \"vol\": 12334}, {\"doy\": \"05-19\", \"vol\": 12001}, {\"doy\": \"05-20\", \"vol\": 11668}, {\"doy\": \"05-21\", \"vol\": 13000}, {\"doy\": \"05-22\", \"vol\": 12667}, {\"doy\": \"05-23\", \"vol\": 13000}, {\"doy\": \"05-24\", \"vol\": 12667}, {\"doy\": \"05-25\", \"vol\": 12334}, {\"doy\": \"05-26\", \"vol\": 12001}, {\"doy\": \"05-27\", \"vol\": 11668}, {\"doy\": \"05-28\", \"vol\": 13000}, {\"doy\": \"05-29\", \"vol\": 13000}, {\"doy\": \"05-30\", \"vol\": 12667}, {\"doy\": \"05-31\", \"vol\": 12334}, {\"doy\": \"06-01\", \"vol\": 12001}, {\"doy\": \"06-02\", \"vol\": 11334}, {\"doy\": \"06-03\", \"vol\": 12934}, {\"doy\": \"06-04\", \"vol\": 12267}, {\"doy\": \"06-05\", \"vol\": 11600}, {\"doy\": \"06-06\", \"vol\": 10933}, {\"doy\": \"06-07\", \"vol\": 10266}, {\"doy\": \"06-08\", \"vol\": 11866}, {\"doy\": \"06-09\", \"vol\": 13000}, {\"doy\": \"06-10\", \"vol\": 12333}, {\"doy\": \"06-11\", \"vol\": 11666}, {\"doy\": \"06-12\", \"vol\": 10999}, {\"doy\": \"06-13\", \"vol\": 12599}, {\"doy\": \"06-14\", \"vol\": 13000}, {\"doy\": \"06-15\", \"vol\": 13000}, {\"doy\": \"06-16\", \"vol\": 12333}, {\"doy\": \"06-17\", \"vol\": 11666}, {\"doy\": \"06-18\", \"vol\": 10999}, {\"doy\": \"06-19\", \"vol\": 10332}, {\"doy\": \"06-20\", \"vol\": 9665}, {\"doy\": \"06-21\", \"vol\": 8998}, {\"doy\": \"06-22\", \"vol\": 8331}, {\"doy\": \"06-23\", \"vol\": 7664}, {\"doy\": \"06-24\", \"vol\": 9264}, {\"doy\": \"06-25\", \"vol\": 8597}, {\"doy\": \"06-26\", \"vol\": 7930}, {\"doy\": \"06-27\", \"vol\": 7263}, {\"doy\": \"06-28\", \"vol\": 8863}, {\"doy\": \"06-29\", \"vol\": 8196}, {\"doy\": \"06-30\", \"vol\": 7529}, {\"doy\": \"07-01\", \"vol\": 6862}, {\"doy\": \"07-02\", \"vol\": 6195}, {\"doy\": \"07-03\", \"vol\": 5528}, {\"doy\": \"07-04\", \"vol\": 6928}, {\"doy\": \"07-05\", \"vol\": 6261}, {\"doy\": \"07-06\", \"vol\": 5594}, {\"doy\": \"07-07\", \"vol\": 4927}, {\"doy\": \"07-08\", \"vol\": 6327}, {\"doy\": \"07-09\", \"vol\": 7727}, {\"doy\": \"07-10\", \"vol\": 9127}, {\"doy\": \"07-11\", \"vol\": 8460}, {\"doy\": \"07-12\", \"vol\": 7793}, {\"doy\": \"07-13\", \"vol\": 7126}, {\"doy\": \"07-14\", \"vol\": 6459}, {\"doy\": \"07-15\", \"vol\": 5792}, {\"doy\": \"07-16\", \"vol\": 5125}, {\"doy\": \"07-17\", \"vol\": 4458}, {\"doy\": \"07-18\", \"vol\": 3791}, {\"doy\": \"07-19\", \"vol\": 5191}, {\"doy\": \"07-20\", \"vol\": 4524}, {\"doy\": \"07-21\", \"vol\": 3857}, {\"doy\": \"07-22\", \"vol\": 5257}, {\"doy\": \"07-23\", \"vol\": 6657}, {\"doy\": \"07-24\", \"vol\": 5990}, {\"doy\": \"07-25\", \"vol\": 5323}, {\"doy\": \"07-26\", \"vol\": 4656}, {\"doy\": \"07-27\", \"vol\": 3989}, {\"doy\": \"07-28\", \"vol\": 5389}, {\"doy\": \"07-29\", \"vol\": 4722}, {\"doy\": \"07-30\", \"vol\": 4055}, {\"doy\": \"07-31\", \"vol\": 5455}, {\"doy\": \"08-01\", \"vol\": 4788}, {\"doy\": \"08-02\", \"vol\": 4121}, {\"doy\": \"08-03\", \"vol\": 3454}, {\"doy\": \"08-04\", \"vol\": 5054}, {\"doy\": \"08-05\", \"vol\": 4387}, {\"doy\": \"08-06\", \"vol\": 3720}, {\"doy\": \"08-07\", \"vol\": 3053}, {\"doy\": \"08-08\", \"vol\": 2386}, {\"doy\": \"08-09\", \"vol\": 3986}, {\"doy\": \"08-10\", \"vol\": 5586}, {\"doy\": \"08-11\", \"vol\": 4919}, {\"doy\": \"08-12\", \"vol\": 4252}, {\"doy\": \"08-13\", \"vol\": 3585}, {\"doy\": \"08-14\", \"vol\": 2918}, {\"doy\": \"08-15\", \"vol\": 2251}, {\"doy\": \"08-16\", \"vol\": 5451}, {\"doy\": \"08-17\", \"vol\": 4784}, {\"doy\": \"08-18\", \"vol\": 4117}, {\"doy\": \"08-19\", \"vol\": 3450}, {\"doy\": \"08-20\", \"vol\": 2783}, {\"doy\": \"08-21\", \"vol\": 2116}, {\"doy\": \"08-22\", \"vol\": 3716}, {\"doy\": \"08-23\", \"vol\": 5316}, {\"doy\": \"08-24\", \"vol\": 4649}, {\"doy\": \"08-25\", \"vol\": 3982}, {\"doy\": \"08-26\", \"vol\": 5582}, {\"doy\": \"08-27\", \"vol\": 4915}, {\"doy\": \"08-28\", \"vol\": 4248}, {\"doy\": \"08-29\", \"vol\": 3581}, {\"doy\": \"08-30\", \"vol\": 2914}, {\"doy\": \"08-31\", \"vol\": 2247}, {\"doy\": \"09-01\", \"vol\": 1580}, {\"doy\": \"09-02\", \"vol\": 1247}, {\"doy\": \"09-03\", \"vol\": 914}, {\"doy\": \"09-04\", \"vol\": 2514}, {\"doy\": \"09-05\", \"vol\": 2181}, {\"doy\": \"09-06\", \"vol\": 1848}, {\"doy\": \"09-07\", \"vol\": 1515}, {\"doy\": \"09-08\", \"vol\": 1182}, {\"doy\": \"09-09\", \"vol\": 849}, {\"doy\": \"09-10\", \"vol\": 516}, {\"doy\": \"09-11\", \"vol\": 183}, {\"doy\": \"09-12\", \"vol\": 1783}, {\"doy\": \"09-13\", \"vol\": 3383}, {\"doy\": \"09-14\", \"vol\": 3050}, {\"doy\": \"09-15\", \"vol\": 2717}, {\"doy\": \"09-16\", \"vol\": 2384}, {\"doy\": \"09-17\", \"vol\": 2051}, {\"doy\": \"09-18\", \"vol\": 1718}, {\"doy\": \"09-19\", \"vol\": 1385}, {\"doy\": \"09-20\", \"vol\": 2985}, {\"doy\": \"09-21\", \"vol\": 4585}, {\"doy\": \"09-22\", \"vol\": 7785}, {\"doy\": \"09-23\", \"vol\": 7452}, {\"doy\": \"09-24\", \"vol\": 7119}, {\"doy\": \"09-25\", \"vol\": 6786}, {\"doy\": \"09-26\", \"vol\": 8386}, {\"doy\": \"09-27\", \"vol\": 8053}, {\"doy\": \"09-28\", \"vol\": 7720}, {\"doy\": \"09-29\", \"vol\": 7387}, {\"doy\": \"09-30\", \"vol\": 7054}, {\"doy\": \"10-01\", \"vol\": 6721}, {\"doy\": \"10-02\", \"vol\": 6721}, {\"doy\": \"10-03\", \"vol\": 6721}, {\"doy\": \"10-04\", \"vol\": 6721}, {\"doy\": \"10-05\", \"vol\": 7921}, {\"doy\": \"10-06\", \"vol\": 7921}, {\"doy\": \"10-07\", \"vol\": 7921}, {\"doy\": \"10-08\", \"vol\": 7921}, {\"doy\": \"10-09\", \"vol\": 7921}, {\"doy\": \"10-10\", \"vol\": 9121}, {\"doy\": \"10-11\", \"vol\": 10321}, {\"doy\": \"10-12\", \"vol\": 10321}, {\"doy\": \"10-13\", \"vol\": 10321}, {\"doy\": \"10-14\", \"vol\": 10321}, {\"doy\": \"10-15\", \"vol\": 10321}, {\"doy\": \"10-16\", \"vol\": 10321}, {\"doy\": \"10-17\", \"vol\": 11521}, {\"doy\": \"10-18\", \"vol\": 11521}, {\"doy\": \"10-19\", \"vol\": 11521}, {\"doy\": \"10-20\", \"vol\": 11521}, {\"doy\": \"10-21\", \"vol\": 11521}, {\"doy\": \"10-22\", \"vol\": 12721}, {\"doy\": \"10-23\", \"vol\": 12721}, {\"doy\": \"10-24\", \"vol\": 12721}, {\"doy\": \"10-25\", \"vol\": 12721}, {\"doy\": \"10-26\", \"vol\": 13000}, {\"doy\": \"10-27\", \"vol\": 13000}, {\"doy\": \"10-28\", \"vol\": 13000}, {\"doy\": \"10-29\", \"vol\": 13000}, {\"doy\": \"10-30\", \"vol\": 13000}, {\"doy\": \"10-31\", \"vol\": 13000}, {\"doy\": \"11-01\", \"vol\": 13000}, {\"doy\": \"11-02\", \"vol\": 13000}, {\"doy\": \"11-03\", \"vol\": 13000}, {\"doy\": \"11-04\", \"vol\": 13000}, {\"doy\": \"11-05\", \"vol\": 13000}, {\"doy\": \"11-06\", \"vol\": 13000}, {\"doy\": \"11-07\", \"vol\": 13000}, {\"doy\": \"11-08\", \"vol\": 13000}, {\"doy\": \"11-09\", \"vol\": 13000}, {\"doy\": \"11-10\", \"vol\": 13000}, {\"doy\": \"11-11\", \"vol\": 13000}, {\"doy\": \"11-12\", \"vol\": 13000}, {\"doy\": \"11-13\", \"vol\": 13000}, {\"doy\": \"11-14\", \"vol\": 13000}, {\"doy\": \"11-15\", \"vol\": 13000}, {\"doy\": \"11-16\", \"vol\": 13000}, {\"doy\": \"11-17\", \"vol\": 13000}, {\"doy\": \"11-18\", \"vol\": 13000}, {\"doy\": \"11-19\", \"vol\": 13000}, {\"doy\": \"11-20\", \"vol\": 13000}, {\"doy\": \"11-21\", \"vol\": 13000}, {\"doy\": \"11-22\", \"vol\": 13000}, {\"doy\": \"11-23\", \"vol\": 13000}, {\"doy\": \"11-24\", \"vol\": 13000}, {\"doy\": \"11-25\", \"vol\": 13000}, {\"doy\": \"11-26\", \"vol\": 13000}, {\"doy\": \"11-27\", \"vol\": 13000}, {\"doy\": \"11-28\", \"vol\": 13000}, {\"doy\": \"11-29\", \"vol\": 13000}, {\"doy\": \"11-30\", \"vol\": 13000}, {\"doy\": \"12-01\", \"vol\": 13000}, {\"doy\": \"12-02\", \"vol\": 13000}, {\"doy\": \"12-03\", \"vol\": 13000}, {\"doy\": \"12-04\", \"vol\": 13000}, {\"doy\": \"12-05\", \"vol\": 13000}, {\"doy\": \"12-06\", \"vol\": 13000}, {\"doy\": \"12-07\", \"vol\": 13000}, {\"doy\": \"12-08\", \"vol\": 13000}, {\"doy\": \"12-09\", \"vol\": 13000}, {\"doy\": \"12-10\", \"vol\": 13000}, {\"doy\": \"12-11\", \"vol\": 13000}, {\"doy\": \"12-12\", \"vol\": 13000}, {\"doy\": \"12-13\", \"vol\": 13000}, {\"doy\": \"12-14\", \"vol\": 13000}, {\"doy\": \"12-15\", \"vol\": 13000}, {\"doy\": \"12-16\", \"vol\": 13000}, {\"doy\": \"12-17\", \"vol\": 13000}, {\"doy\": \"12-18\", \"vol\": 13000}, {\"doy\": \"12-19\", \"vol\": 13000}, {\"doy\": \"12-20\", \"vol\": 13000}, {\"doy\": \"12-21\", \"vol\": 13000}, {\"doy\": \"12-22\", \"vol\": 13000}, {\"doy\": \"12-23\", \"vol\": 13000}, {\"doy\": \"12-24\", \"vol\": 13000}, {\"doy\": \"12-25\", \"vol\": 13000}, {\"doy\": \"12-26\", \"vol\": 13000}, {\"doy\": \"12-27\", \"vol\": 13000}, {\"doy\": \"12-28\", \"vol\": 13000}, {\"doy\": \"12-29\", \"vol\": 13000}, {\"doy\": \"12-30\", \"vol\": 13000}, {\"doy\": \"12-31\", \"vol\": 13000}]}}, {\"mode\": \"vega-lite\"});\n",
       "</script>"
      ],
      "text/plain": [
       "alt.Chart(...)"
      ]
     },
     "execution_count": 117,
     "metadata": {},
     "output_type": "execute_result"
    }
   ],
   "source": [
    "alt.Chart(dcuve).mark_line().encode(\n",
    "    x='doy:T',\n",
    "    y='vol'\n",
    ").properties(\n",
    "    width=500\n",
    ").interactive()"
   ]
  },
  {
   "attachments": {},
   "cell_type": "markdown",
   "metadata": {},
   "source": [
    "## Dimensions d'une cuve pour un potager avec paillage\n",
    "\n",
    "Le paillage diminue les besoins en eau du potager de 66%. \n",
    "Qu'en est-il du volume nécessaire de la cuve ? \n",
    "Pour répondre à cette question nous reproduisons la manipulation faite plus haut. "
   ]
  },
  {
   "cell_type": "code",
   "execution_count": 118,
   "metadata": {},
   "outputs": [
    {
     "name": "stderr",
     "output_type": "stream",
     "text": [
      "/var/folders/fj/3hr2gzvj10z18jrd95l4p4xw0000gn/T/ipykernel_1565/4036609774.py:3: SettingWithCopyWarning: \n",
      "A value is trying to be set on a copy of a slice from a DataFrame\n",
      "\n",
      "See the caveats in the documentation: https://pandas.pydata.org/pandas-docs/stable/user_guide/indexing.html#returning-a-view-versus-a-copy\n",
      "  df.irrigationSurfacique[df['irrigationPaillage']<0]=0\n"
     ]
    },
    {
     "data": {
      "text/html": [
       "\n",
       "<div id=\"altair-viz-2138175c81654ae981df5a3e0bffe471\"></div>\n",
       "<script type=\"text/javascript\">\n",
       "  var VEGA_DEBUG = (typeof VEGA_DEBUG == \"undefined\") ? {} : VEGA_DEBUG;\n",
       "  (function(spec, embedOpt){\n",
       "    let outputDiv = document.currentScript.previousElementSibling;\n",
       "    if (outputDiv.id !== \"altair-viz-2138175c81654ae981df5a3e0bffe471\") {\n",
       "      outputDiv = document.getElementById(\"altair-viz-2138175c81654ae981df5a3e0bffe471\");\n",
       "    }\n",
       "    const paths = {\n",
       "      \"vega\": \"https://cdn.jsdelivr.net/npm//vega@5?noext\",\n",
       "      \"vega-lib\": \"https://cdn.jsdelivr.net/npm//vega-lib?noext\",\n",
       "      \"vega-lite\": \"https://cdn.jsdelivr.net/npm//vega-lite@4.17.0?noext\",\n",
       "      \"vega-embed\": \"https://cdn.jsdelivr.net/npm//vega-embed@6?noext\",\n",
       "    };\n",
       "\n",
       "    function maybeLoadScript(lib, version) {\n",
       "      var key = `${lib.replace(\"-\", \"\")}_version`;\n",
       "      return (VEGA_DEBUG[key] == version) ?\n",
       "        Promise.resolve(paths[lib]) :\n",
       "        new Promise(function(resolve, reject) {\n",
       "          var s = document.createElement('script');\n",
       "          document.getElementsByTagName(\"head\")[0].appendChild(s);\n",
       "          s.async = true;\n",
       "          s.onload = () => {\n",
       "            VEGA_DEBUG[key] = version;\n",
       "            return resolve(paths[lib]);\n",
       "          };\n",
       "          s.onerror = () => reject(`Error loading script: ${paths[lib]}`);\n",
       "          s.src = paths[lib];\n",
       "        });\n",
       "    }\n",
       "\n",
       "    function showError(err) {\n",
       "      outputDiv.innerHTML = `<div class=\"error\" style=\"color:red;\">${err}</div>`;\n",
       "      throw err;\n",
       "    }\n",
       "\n",
       "    function displayChart(vegaEmbed) {\n",
       "      vegaEmbed(outputDiv, spec, embedOpt)\n",
       "        .catch(err => showError(`Javascript Error: ${err.message}<br>This usually means there's a typo in your chart specification. See the javascript console for the full traceback.`));\n",
       "    }\n",
       "\n",
       "    if(typeof define === \"function\" && define.amd) {\n",
       "      requirejs.config({paths});\n",
       "      require([\"vega-embed\"], displayChart, err => showError(`Error loading script: ${err.message}`));\n",
       "    } else {\n",
       "      maybeLoadScript(\"vega\", \"5\")\n",
       "        .then(() => maybeLoadScript(\"vega-lite\", \"4.17.0\"))\n",
       "        .then(() => maybeLoadScript(\"vega-embed\", \"6\"))\n",
       "        .catch(showError)\n",
       "        .then(() => displayChart(vegaEmbed));\n",
       "    }\n",
       "  })({\"config\": {\"view\": {\"continuousWidth\": 400, \"continuousHeight\": 300}}, \"data\": {\"name\": \"data-cfb50409ef1e7c6287c8c6c0f8f8bc77\"}, \"mark\": \"line\", \"encoding\": {\"tooltip\": [{\"field\": \"vol\", \"type\": \"quantitative\"}, {\"field\": \"doy\", \"type\": \"nominal\"}], \"x\": {\"field\": \"doy\", \"title\": \"Jour de l'ann\\u00e9e\", \"type\": \"temporal\"}, \"y\": {\"field\": \"vol\", \"title\": \"Volume de la cuve\", \"type\": \"quantitative\"}}, \"selection\": {\"selector016\": {\"type\": \"interval\", \"bind\": \"scales\", \"encodings\": [\"x\", \"y\"]}}, \"width\": 400, \"$schema\": \"https://vega.github.io/schema/vega-lite/v4.17.0.json\", \"datasets\": {\"data-cfb50409ef1e7c6287c8c6c0f8f8bc77\": [{\"doy\": \"01-01\", \"vol\": 0.0}, {\"doy\": \"01-02\", \"vol\": 0.0}, {\"doy\": \"01-03\", \"vol\": 0.0}, {\"doy\": \"01-04\", \"vol\": 0.0}, {\"doy\": \"01-05\", \"vol\": 0.0}, {\"doy\": \"01-06\", \"vol\": 0.0}, {\"doy\": \"01-07\", \"vol\": 0.0}, {\"doy\": \"01-08\", \"vol\": 0.0}, {\"doy\": \"01-09\", \"vol\": 0.0}, {\"doy\": \"01-10\", \"vol\": 0.0}, {\"doy\": \"01-11\", \"vol\": 1329.0}, {\"doy\": \"01-12\", \"vol\": 2658.0}, {\"doy\": \"01-13\", \"vol\": 2658.0}, {\"doy\": \"01-14\", \"vol\": 3987.0}, {\"doy\": \"01-15\", \"vol\": 5316.0}, {\"doy\": \"01-16\", \"vol\": 5316.0}, {\"doy\": \"01-17\", \"vol\": 5316.0}, {\"doy\": \"01-18\", \"vol\": 6645.0}, {\"doy\": \"01-19\", \"vol\": 6645.0}, {\"doy\": \"01-20\", \"vol\": 6645.0}, {\"doy\": \"01-21\", \"vol\": 6645.0}, {\"doy\": \"01-22\", \"vol\": 6645.0}, {\"doy\": \"01-23\", \"vol\": 6645.0}, {\"doy\": \"01-24\", \"vol\": 6645.0}, {\"doy\": \"01-25\", \"vol\": 6645.0}, {\"doy\": \"01-26\", \"vol\": 6645.0}, {\"doy\": \"01-27\", \"vol\": 7974.0}, {\"doy\": \"01-28\", \"vol\": 7974.0}, {\"doy\": \"01-29\", \"vol\": 7974.0}, {\"doy\": \"01-30\", \"vol\": 7974.0}, {\"doy\": \"01-31\", \"vol\": 7974.0}, {\"doy\": \"02-01\", \"vol\": 7974.0}, {\"doy\": \"02-02\", \"vol\": 7974.0}, {\"doy\": \"02-03\", \"vol\": 7974.0}, {\"doy\": \"02-04\", \"vol\": 7974.0}, {\"doy\": \"02-05\", \"vol\": 7974.0}, {\"doy\": \"02-06\", \"vol\": 7974.0}, {\"doy\": \"02-07\", \"vol\": 7974.0}, {\"doy\": \"02-08\", \"vol\": 7974.0}, {\"doy\": \"02-09\", \"vol\": 7974.0}, {\"doy\": \"02-10\", \"vol\": 7974.0}, {\"doy\": \"02-11\", \"vol\": 7974.0}, {\"doy\": \"02-12\", \"vol\": 7974.0}, {\"doy\": \"02-13\", \"vol\": 9474.0}, {\"doy\": \"02-14\", \"vol\": 9474.0}, {\"doy\": \"02-15\", \"vol\": 9474.0}, {\"doy\": \"02-16\", \"vol\": 9474.0}, {\"doy\": \"02-17\", \"vol\": 10974.0}, {\"doy\": \"02-18\", \"vol\": 12474.0}, {\"doy\": \"02-19\", \"vol\": 12474.0}, {\"doy\": \"02-20\", \"vol\": 12474.0}, {\"doy\": \"02-21\", \"vol\": 12474.0}, {\"doy\": \"02-22\", \"vol\": 12474.0}, {\"doy\": \"02-23\", \"vol\": 12474.0}, {\"doy\": \"02-24\", \"vol\": 12474.0}, {\"doy\": \"02-25\", \"vol\": 12474.0}, {\"doy\": \"02-26\", \"vol\": 12474.0}, {\"doy\": \"02-27\", \"vol\": 12474.0}, {\"doy\": \"02-28\", \"vol\": 13974.0}, {\"doy\": \"03-01\", \"vol\": 15474.0}, {\"doy\": \"03-02\", \"vol\": 15474.0}, {\"doy\": \"03-03\", \"vol\": 15474.0}, {\"doy\": \"03-04\", \"vol\": 15474.0}, {\"doy\": \"03-05\", \"vol\": 16674.0}, {\"doy\": \"03-06\", \"vol\": 16674.0}, {\"doy\": \"03-07\", \"vol\": 16674.0}, {\"doy\": \"03-08\", \"vol\": 16674.0}, {\"doy\": \"03-09\", \"vol\": 17874.0}, {\"doy\": \"03-10\", \"vol\": 17874.0}, {\"doy\": \"03-11\", \"vol\": 17874.0}, {\"doy\": \"03-12\", \"vol\": 17874.0}, {\"doy\": \"03-13\", \"vol\": 17874.0}, {\"doy\": \"03-14\", \"vol\": 17874.0}, {\"doy\": \"03-15\", \"vol\": 17874.0}, {\"doy\": \"03-16\", \"vol\": 17874.0}, {\"doy\": \"03-17\", \"vol\": 19074.0}, {\"doy\": \"03-18\", \"vol\": 20274.0}, {\"doy\": \"03-19\", \"vol\": 20274.0}, {\"doy\": \"03-20\", \"vol\": 20274.0}, {\"doy\": \"03-21\", \"vol\": 22674.0}, {\"doy\": \"03-22\", \"vol\": 22674.0}, {\"doy\": \"03-23\", \"vol\": 22674.0}, {\"doy\": \"03-24\", \"vol\": 22674.0}, {\"doy\": \"03-25\", \"vol\": 22674.0}, {\"doy\": \"03-26\", \"vol\": 23874.0}, {\"doy\": \"03-27\", \"vol\": 23874.0}, {\"doy\": \"03-28\", \"vol\": 23874.0}, {\"doy\": \"03-29\", \"vol\": 23874.0}, {\"doy\": \"03-30\", \"vol\": 23874.0}, {\"doy\": \"03-31\", \"vol\": 23874.0}, {\"doy\": \"04-01\", \"vol\": 23874.0}, {\"doy\": \"04-02\", \"vol\": 25674.0}, {\"doy\": \"04-03\", \"vol\": 25674.0}, {\"doy\": \"04-04\", \"vol\": 25674.0}, {\"doy\": \"04-05\", \"vol\": 27474.0}, {\"doy\": \"04-06\", \"vol\": 27474.0}, {\"doy\": \"04-07\", \"vol\": 29274.0}, {\"doy\": \"04-08\", \"vol\": 31074.0}, {\"doy\": \"04-09\", \"vol\": 31074.0}, {\"doy\": \"04-10\", \"vol\": 31074.0}, {\"doy\": \"04-11\", \"vol\": 31074.0}, {\"doy\": \"04-12\", \"vol\": 31074.0}, {\"doy\": \"04-13\", \"vol\": 34674.0}, {\"doy\": \"04-14\", \"vol\": 34674.0}, {\"doy\": \"04-15\", \"vol\": 34674.0}, {\"doy\": \"04-16\", \"vol\": 34674.0}, {\"doy\": \"04-17\", \"vol\": 34674.0}, {\"doy\": \"04-18\", \"vol\": 34674.0}, {\"doy\": \"04-19\", \"vol\": 34674.0}, {\"doy\": \"04-20\", \"vol\": 34674.0}, {\"doy\": \"04-21\", \"vol\": 34674.0}, {\"doy\": \"04-22\", \"vol\": 34674.0}, {\"doy\": \"04-23\", \"vol\": 34674.0}, {\"doy\": \"04-24\", \"vol\": 34674.0}, {\"doy\": \"04-25\", \"vol\": 36474.0}, {\"doy\": \"04-26\", \"vol\": 38274.0}, {\"doy\": \"04-27\", \"vol\": 38274.0}, {\"doy\": \"04-28\", \"vol\": 38274.0}, {\"doy\": \"04-29\", \"vol\": 38274.0}, {\"doy\": \"04-30\", \"vol\": 38274.0}, {\"doy\": \"05-01\", \"vol\": 38274.0}, {\"doy\": \"05-02\", \"vol\": 37941.0}, {\"doy\": \"05-03\", \"vol\": 39708.0}, {\"doy\": \"05-04\", \"vol\": 39375.0}, {\"doy\": \"05-05\", \"vol\": 43242.0}, {\"doy\": \"05-06\", \"vol\": 42909.0}, {\"doy\": \"05-07\", \"vol\": 42576.0}, {\"doy\": \"05-08\", \"vol\": 42243.0}, {\"doy\": \"05-09\", \"vol\": 44010.0}, {\"doy\": \"05-10\", \"vol\": 43677.0}, {\"doy\": \"05-11\", \"vol\": 43344.0}, {\"doy\": \"05-12\", \"vol\": 45111.0}, {\"doy\": \"05-13\", \"vol\": 44778.0}, {\"doy\": \"05-14\", \"vol\": 44445.0}, {\"doy\": \"05-15\", \"vol\": 44112.0}, {\"doy\": \"05-16\", \"vol\": 45879.0}, {\"doy\": \"05-17\", \"vol\": 45546.0}, {\"doy\": \"05-18\", \"vol\": 45213.0}, {\"doy\": \"05-19\", \"vol\": 44880.0}, {\"doy\": \"05-20\", \"vol\": 44547.0}, {\"doy\": \"05-21\", \"vol\": 46314.0}, {\"doy\": \"05-22\", \"vol\": 45981.0}, {\"doy\": \"05-23\", \"vol\": 47748.0}, {\"doy\": \"05-24\", \"vol\": 47415.0}, {\"doy\": \"05-25\", \"vol\": 47082.0}, {\"doy\": \"05-26\", \"vol\": 46749.0}, {\"doy\": \"05-27\", \"vol\": 46416.0}, {\"doy\": \"05-28\", \"vol\": 48183.0}, {\"doy\": \"05-29\", \"vol\": 49950.0}, {\"doy\": \"05-30\", \"vol\": 49617.0}, {\"doy\": \"05-31\", \"vol\": 49284.0}, {\"doy\": \"06-01\", \"vol\": 48951.0}, {\"doy\": \"06-02\", \"vol\": 48284.0}, {\"doy\": \"06-03\", \"vol\": 50017.0}, {\"doy\": \"06-04\", \"vol\": 49350.0}, {\"doy\": \"06-05\", \"vol\": 48683.0}, {\"doy\": \"06-06\", \"vol\": 48016.0}, {\"doy\": \"06-07\", \"vol\": 47349.0}, {\"doy\": \"06-08\", \"vol\": 49082.0}, {\"doy\": \"06-09\", \"vol\": 50815.0}, {\"doy\": \"06-10\", \"vol\": 50148.0}, {\"doy\": \"06-11\", \"vol\": 49481.0}, {\"doy\": \"06-12\", \"vol\": 48814.0}, {\"doy\": \"06-13\", \"vol\": 50547.0}, {\"doy\": \"06-14\", \"vol\": 52280.0}, {\"doy\": \"06-15\", \"vol\": 54013.0}, {\"doy\": \"06-16\", \"vol\": 53346.0}, {\"doy\": \"06-17\", \"vol\": 52679.0}, {\"doy\": \"06-18\", \"vol\": 52012.0}, {\"doy\": \"06-19\", \"vol\": 51345.0}, {\"doy\": \"06-20\", \"vol\": 50678.0}, {\"doy\": \"06-21\", \"vol\": 50011.0}, {\"doy\": \"06-22\", \"vol\": 49344.0}, {\"doy\": \"06-23\", \"vol\": 48677.0}, {\"doy\": \"06-24\", \"vol\": 50410.0}, {\"doy\": \"06-25\", \"vol\": 49743.0}, {\"doy\": \"06-26\", \"vol\": 49076.0}, {\"doy\": \"06-27\", \"vol\": 48409.0}, {\"doy\": \"06-28\", \"vol\": 50142.0}, {\"doy\": \"06-29\", \"vol\": 49475.0}, {\"doy\": \"06-30\", \"vol\": 48808.0}, {\"doy\": \"07-01\", \"vol\": 48141.0}, {\"doy\": \"07-02\", \"vol\": 47474.0}, {\"doy\": \"07-03\", \"vol\": 46807.0}, {\"doy\": \"07-04\", \"vol\": 48240.0}, {\"doy\": \"07-05\", \"vol\": 47573.0}, {\"doy\": \"07-06\", \"vol\": 46906.0}, {\"doy\": \"07-07\", \"vol\": 46239.0}, {\"doy\": \"07-08\", \"vol\": 47672.0}, {\"doy\": \"07-09\", \"vol\": 49105.0}, {\"doy\": \"07-10\", \"vol\": 50538.0}, {\"doy\": \"07-11\", \"vol\": 49871.0}, {\"doy\": \"07-12\", \"vol\": 49204.0}, {\"doy\": \"07-13\", \"vol\": 48537.0}, {\"doy\": \"07-14\", \"vol\": 47870.0}, {\"doy\": \"07-15\", \"vol\": 47203.0}, {\"doy\": \"07-16\", \"vol\": 46536.0}, {\"doy\": \"07-17\", \"vol\": 45869.0}, {\"doy\": \"07-18\", \"vol\": 45202.0}, {\"doy\": \"07-19\", \"vol\": 46635.0}, {\"doy\": \"07-20\", \"vol\": 45968.0}, {\"doy\": \"07-21\", \"vol\": 45301.0}, {\"doy\": \"07-22\", \"vol\": 46734.0}, {\"doy\": \"07-23\", \"vol\": 48167.0}, {\"doy\": \"07-24\", \"vol\": 47500.0}, {\"doy\": \"07-25\", \"vol\": 46833.0}, {\"doy\": \"07-26\", \"vol\": 46166.0}, {\"doy\": \"07-27\", \"vol\": 45499.0}, {\"doy\": \"07-28\", \"vol\": 46932.0}, {\"doy\": \"07-29\", \"vol\": 46265.0}, {\"doy\": \"07-30\", \"vol\": 45598.0}, {\"doy\": \"07-31\", \"vol\": 47031.0}, {\"doy\": \"08-01\", \"vol\": 46364.0}, {\"doy\": \"08-02\", \"vol\": 45697.0}, {\"doy\": \"08-03\", \"vol\": 45030.0}, {\"doy\": \"08-04\", \"vol\": 46763.0}, {\"doy\": \"08-05\", \"vol\": 46096.0}, {\"doy\": \"08-06\", \"vol\": 45429.0}, {\"doy\": \"08-07\", \"vol\": 44762.0}, {\"doy\": \"08-08\", \"vol\": 44095.0}, {\"doy\": \"08-09\", \"vol\": 45828.0}, {\"doy\": \"08-10\", \"vol\": 47561.0}, {\"doy\": \"08-11\", \"vol\": 46894.0}, {\"doy\": \"08-12\", \"vol\": 46227.0}, {\"doy\": \"08-13\", \"vol\": 45560.0}, {\"doy\": \"08-14\", \"vol\": 44893.0}, {\"doy\": \"08-15\", \"vol\": 44226.0}, {\"doy\": \"08-16\", \"vol\": 48359.0}, {\"doy\": \"08-17\", \"vol\": 47692.0}, {\"doy\": \"08-18\", \"vol\": 47025.0}, {\"doy\": \"08-19\", \"vol\": 46358.0}, {\"doy\": \"08-20\", \"vol\": 45691.0}, {\"doy\": \"08-21\", \"vol\": 45024.0}, {\"doy\": \"08-22\", \"vol\": 46757.0}, {\"doy\": \"08-23\", \"vol\": 48490.0}, {\"doy\": \"08-24\", \"vol\": 47823.0}, {\"doy\": \"08-25\", \"vol\": 47156.0}, {\"doy\": \"08-26\", \"vol\": 48889.0}, {\"doy\": \"08-27\", \"vol\": 48222.0}, {\"doy\": \"08-28\", \"vol\": 47555.0}, {\"doy\": \"08-29\", \"vol\": 46888.0}, {\"doy\": \"08-30\", \"vol\": 46221.0}, {\"doy\": \"08-31\", \"vol\": 45554.0}, {\"doy\": \"09-01\", \"vol\": 44887.0}, {\"doy\": \"09-02\", \"vol\": 44554.0}, {\"doy\": \"09-03\", \"vol\": 44221.0}, {\"doy\": \"09-04\", \"vol\": 46288.0}, {\"doy\": \"09-05\", \"vol\": 45955.0}, {\"doy\": \"09-06\", \"vol\": 45622.0}, {\"doy\": \"09-07\", \"vol\": 45289.0}, {\"doy\": \"09-08\", \"vol\": 44956.0}, {\"doy\": \"09-09\", \"vol\": 44623.0}, {\"doy\": \"09-10\", \"vol\": 44290.0}, {\"doy\": \"09-11\", \"vol\": 43957.0}, {\"doy\": \"09-12\", \"vol\": 46024.0}, {\"doy\": \"09-13\", \"vol\": 48091.0}, {\"doy\": \"09-14\", \"vol\": 47758.0}, {\"doy\": \"09-15\", \"vol\": 47425.0}, {\"doy\": \"09-16\", \"vol\": 47092.0}, {\"doy\": \"09-17\", \"vol\": 46759.0}, {\"doy\": \"09-18\", \"vol\": 46426.0}, {\"doy\": \"09-19\", \"vol\": 46093.0}, {\"doy\": \"09-20\", \"vol\": 48160.0}, {\"doy\": \"09-21\", \"vol\": 50227.0}, {\"doy\": \"09-22\", \"vol\": 54694.0}, {\"doy\": \"09-23\", \"vol\": 54361.0}, {\"doy\": \"09-24\", \"vol\": 54028.0}, {\"doy\": \"09-25\", \"vol\": 53695.0}, {\"doy\": \"09-26\", \"vol\": 55762.0}, {\"doy\": \"09-27\", \"vol\": 55429.0}, {\"doy\": \"09-28\", \"vol\": 55096.0}, {\"doy\": \"09-29\", \"vol\": 54763.0}, {\"doy\": \"09-30\", \"vol\": 54430.0}, {\"doy\": \"10-01\", \"vol\": 54097.0}, {\"doy\": \"10-02\", \"vol\": 54097.0}, {\"doy\": \"10-03\", \"vol\": 54097.0}, {\"doy\": \"10-04\", \"vol\": 54097.0}, {\"doy\": \"10-05\", \"vol\": 55897.0}, {\"doy\": \"10-06\", \"vol\": 55897.0}, {\"doy\": \"10-07\", \"vol\": 55897.0}, {\"doy\": \"10-08\", \"vol\": 55897.0}, {\"doy\": \"10-09\", \"vol\": 55897.0}, {\"doy\": \"10-10\", \"vol\": 57697.0}, {\"doy\": \"10-11\", \"vol\": 59497.0}, {\"doy\": \"10-12\", \"vol\": 59497.0}, {\"doy\": \"10-13\", \"vol\": 59497.0}, {\"doy\": \"10-14\", \"vol\": 59497.0}, {\"doy\": \"10-15\", \"vol\": 59497.0}, {\"doy\": \"10-16\", \"vol\": 59497.0}, {\"doy\": \"10-17\", \"vol\": 61297.0}, {\"doy\": \"10-18\", \"vol\": 61297.0}, {\"doy\": \"10-19\", \"vol\": 61297.0}, {\"doy\": \"10-20\", \"vol\": 61297.0}, {\"doy\": \"10-21\", \"vol\": 61297.0}, {\"doy\": \"10-22\", \"vol\": 63097.0}, {\"doy\": \"10-23\", \"vol\": 63097.0}, {\"doy\": \"10-24\", \"vol\": 63097.0}, {\"doy\": \"10-25\", \"vol\": 63097.0}, {\"doy\": \"10-26\", \"vol\": 64897.0}, {\"doy\": \"10-27\", \"vol\": 66697.0}, {\"doy\": \"10-28\", \"vol\": 66697.0}, {\"doy\": \"10-29\", \"vol\": 68497.0}, {\"doy\": \"10-30\", \"vol\": 68497.0}, {\"doy\": \"10-31\", \"vol\": 68497.0}, {\"doy\": \"11-01\", \"vol\": 68497.0}, {\"doy\": \"11-02\", \"vol\": 68497.0}, {\"doy\": \"11-03\", \"vol\": 70297.0}, {\"doy\": \"11-04\", \"vol\": 72097.0}, {\"doy\": \"11-05\", \"vol\": 72097.0}, {\"doy\": \"11-06\", \"vol\": 72097.0}, {\"doy\": \"11-07\", \"vol\": 72097.0}, {\"doy\": \"11-08\", \"vol\": 73897.0}, {\"doy\": \"11-09\", \"vol\": 75697.0}, {\"doy\": \"11-10\", \"vol\": 75697.0}, {\"doy\": \"11-11\", \"vol\": 75697.0}, {\"doy\": \"11-12\", \"vol\": 75697.0}, {\"doy\": \"11-13\", \"vol\": 75697.0}, {\"doy\": \"11-14\", \"vol\": 75697.0}, {\"doy\": \"11-15\", \"vol\": 77497.0}, {\"doy\": \"11-16\", \"vol\": 77497.0}, {\"doy\": \"11-17\", \"vol\": 77497.0}, {\"doy\": \"11-18\", \"vol\": 77497.0}, {\"doy\": \"11-19\", \"vol\": 79297.0}, {\"doy\": \"11-20\", \"vol\": 79297.0}, {\"doy\": \"11-21\", \"vol\": 79297.0}, {\"doy\": \"11-22\", \"vol\": 79297.0}, {\"doy\": \"11-23\", \"vol\": 79297.0}, {\"doy\": \"11-24\", \"vol\": 79297.0}, {\"doy\": \"11-25\", \"vol\": 81097.0}, {\"doy\": \"11-26\", \"vol\": 82897.0}, {\"doy\": \"11-27\", \"vol\": 82897.0}, {\"doy\": \"11-28\", \"vol\": 82897.0}, {\"doy\": \"11-29\", \"vol\": 82897.0}, {\"doy\": \"11-30\", \"vol\": 82897.0}, {\"doy\": \"12-01\", \"vol\": 82897.0}, {\"doy\": \"12-02\", \"vol\": 82897.0}, {\"doy\": \"12-03\", \"vol\": 82897.0}, {\"doy\": \"12-04\", \"vol\": 84397.0}, {\"doy\": \"12-05\", \"vol\": 84397.0}, {\"doy\": \"12-06\", \"vol\": 84397.0}, {\"doy\": \"12-07\", \"vol\": 84397.0}, {\"doy\": \"12-08\", \"vol\": 85897.0}, {\"doy\": \"12-09\", \"vol\": 85897.0}, {\"doy\": \"12-10\", \"vol\": 85897.0}, {\"doy\": \"12-11\", \"vol\": 85897.0}, {\"doy\": \"12-12\", \"vol\": 87397.0}, {\"doy\": \"12-13\", \"vol\": 87397.0}, {\"doy\": \"12-14\", \"vol\": 87397.0}, {\"doy\": \"12-15\", \"vol\": 87397.0}, {\"doy\": \"12-16\", \"vol\": 87397.0}, {\"doy\": \"12-17\", \"vol\": 87397.0}, {\"doy\": \"12-18\", \"vol\": 87397.0}, {\"doy\": \"12-19\", \"vol\": 87397.0}, {\"doy\": \"12-20\", \"vol\": 87397.0}, {\"doy\": \"12-21\", \"vol\": 88897.0}, {\"doy\": \"12-22\", \"vol\": 90397.0}, {\"doy\": \"12-23\", \"vol\": 90397.0}, {\"doy\": \"12-24\", \"vol\": 90397.0}, {\"doy\": \"12-25\", \"vol\": 90397.0}, {\"doy\": \"12-26\", \"vol\": 90397.0}, {\"doy\": \"12-27\", \"vol\": 90397.0}, {\"doy\": \"12-28\", \"vol\": 90397.0}, {\"doy\": \"12-29\", \"vol\": 90397.0}, {\"doy\": \"12-30\", \"vol\": 90397.0}, {\"doy\": \"12-31\", \"vol\": 90397.0}]}}, {\"mode\": \"vega-lite\"});\n",
       "</script>"
      ],
      "text/plain": [
       "alt.Chart(...)"
      ]
     },
     "execution_count": 118,
     "metadata": {},
     "output_type": "execute_result"
    }
   ],
   "source": [
    "# Ajout de besoins en irrigation avec paillage\n",
    "df['irrigationPaillage'] = df.conso_potager - df.mm\n",
    "df.irrigationSurfacique[df['irrigationPaillage']<0]=0\n",
    "df['besoinsPaillage'] = df.irrigationPaillage * 100\n",
    "# df.apportsTotaux reste le meme. \n",
    "\n",
    "# Creation de la seconde cuve\n",
    "#initialisation \n",
    "cuvePaillage = [0]\n",
    "# remplissage au cours de l'annee\n",
    "for index in range(len(df)-1):\n",
    "    cuvePaillage.append(cuvePaillage[index] + df['apportsTotaux'].iloc[index] - df['besoinsPaillage'].iloc[index])\n",
    "#conversion en df\n",
    "cuvePaillage = pd.DataFrame(cuvePaillage)\n",
    "cuvePaillage = pd.concat([df['doy'], cuvePaillage], axis=1)\n",
    "cuvePaillage = cuvePaillage.set_axis(['doy', 'vol'], axis=1, copy=False)\n",
    "\n",
    "\n",
    "# Visualisation graphique\n",
    "alt.Chart(cuvePaillage).mark_line().encode(\n",
    "    x=alt.X('doy:T',title=\"Jour de l'année\"),\n",
    "    y=alt.Y('vol',title=\"Volume de la cuve\"),\n",
    "    tooltip=['vol', 'doy']\n",
    ").properties(\n",
    "    width = 400\n",
    ").interactive()\n"
   ]
  },
  {
   "cell_type": "code",
   "execution_count": 119,
   "metadata": {},
   "outputs": [
    {
     "name": "stdout",
     "output_type": "stream",
     "text": [
      "Volume max :  55762.0\n",
      "Volume min :  43957.0\n",
      "Volume nécessaire :  11805.0\n"
     ]
    }
   ],
   "source": [
    "#Nouveaux besoins \n",
    "dcuve = cuvePaillage.loc[170:270]\n",
    "print(\"Volume max : \", np.max(dcuve['vol']))\n",
    "print(\"Volume min : \", np.min(dcuve['vol']))\n",
    "print('Volume nécessaire : ', (np.max(dcuve['vol'])-np.min(dcuve['vol'])))"
   ]
  },
  {
   "cell_type": "code",
   "execution_count": 120,
   "metadata": {},
   "outputs": [
    {
     "name": "stderr",
     "output_type": "stream",
     "text": [
      "/var/folders/fj/3hr2gzvj10z18jrd95l4p4xw0000gn/T/ipykernel_1565/2194624315.py:5: SettingWithCopyWarning: \n",
      "A value is trying to be set on a copy of a slice from a DataFrame\n",
      "\n",
      "See the caveats in the documentation: https://pandas.pydata.org/pandas-docs/stable/user_guide/indexing.html#returning-a-view-versus-a-copy\n",
      "  dcuve['vol'].iloc[index+1] = dcuve['vol'].iloc[index] + df['apportsTotaux'].iloc[index] - df['besoinsPaillage'].iloc[index]\n",
      "/var/folders/fj/3hr2gzvj10z18jrd95l4p4xw0000gn/T/ipykernel_1565/2194624315.py:6: SettingWithCopyWarning: \n",
      "A value is trying to be set on a copy of a slice from a DataFrame\n",
      "\n",
      "See the caveats in the documentation: https://pandas.pydata.org/pandas-docs/stable/user_guide/indexing.html#returning-a-view-versus-a-copy\n",
      "  dcuve['vol'].iloc[index+1] = min(dcuve['vol'][index+1], volmax)\n"
     ]
    },
    {
     "data": {
      "text/html": [
       "\n",
       "<div id=\"altair-viz-8046b7f57b8c4ca5b2a55f9293593157\"></div>\n",
       "<script type=\"text/javascript\">\n",
       "  var VEGA_DEBUG = (typeof VEGA_DEBUG == \"undefined\") ? {} : VEGA_DEBUG;\n",
       "  (function(spec, embedOpt){\n",
       "    let outputDiv = document.currentScript.previousElementSibling;\n",
       "    if (outputDiv.id !== \"altair-viz-8046b7f57b8c4ca5b2a55f9293593157\") {\n",
       "      outputDiv = document.getElementById(\"altair-viz-8046b7f57b8c4ca5b2a55f9293593157\");\n",
       "    }\n",
       "    const paths = {\n",
       "      \"vega\": \"https://cdn.jsdelivr.net/npm//vega@5?noext\",\n",
       "      \"vega-lib\": \"https://cdn.jsdelivr.net/npm//vega-lib?noext\",\n",
       "      \"vega-lite\": \"https://cdn.jsdelivr.net/npm//vega-lite@4.17.0?noext\",\n",
       "      \"vega-embed\": \"https://cdn.jsdelivr.net/npm//vega-embed@6?noext\",\n",
       "    };\n",
       "\n",
       "    function maybeLoadScript(lib, version) {\n",
       "      var key = `${lib.replace(\"-\", \"\")}_version`;\n",
       "      return (VEGA_DEBUG[key] == version) ?\n",
       "        Promise.resolve(paths[lib]) :\n",
       "        new Promise(function(resolve, reject) {\n",
       "          var s = document.createElement('script');\n",
       "          document.getElementsByTagName(\"head\")[0].appendChild(s);\n",
       "          s.async = true;\n",
       "          s.onload = () => {\n",
       "            VEGA_DEBUG[key] = version;\n",
       "            return resolve(paths[lib]);\n",
       "          };\n",
       "          s.onerror = () => reject(`Error loading script: ${paths[lib]}`);\n",
       "          s.src = paths[lib];\n",
       "        });\n",
       "    }\n",
       "\n",
       "    function showError(err) {\n",
       "      outputDiv.innerHTML = `<div class=\"error\" style=\"color:red;\">${err}</div>`;\n",
       "      throw err;\n",
       "    }\n",
       "\n",
       "    function displayChart(vegaEmbed) {\n",
       "      vegaEmbed(outputDiv, spec, embedOpt)\n",
       "        .catch(err => showError(`Javascript Error: ${err.message}<br>This usually means there's a typo in your chart specification. See the javascript console for the full traceback.`));\n",
       "    }\n",
       "\n",
       "    if(typeof define === \"function\" && define.amd) {\n",
       "      requirejs.config({paths});\n",
       "      require([\"vega-embed\"], displayChart, err => showError(`Error loading script: ${err.message}`));\n",
       "    } else {\n",
       "      maybeLoadScript(\"vega\", \"5\")\n",
       "        .then(() => maybeLoadScript(\"vega-lite\", \"4.17.0\"))\n",
       "        .then(() => maybeLoadScript(\"vega-embed\", \"6\"))\n",
       "        .catch(showError)\n",
       "        .then(() => displayChart(vegaEmbed));\n",
       "    }\n",
       "  })({\"config\": {\"view\": {\"continuousWidth\": 400, \"continuousHeight\": 300}}, \"data\": {\"name\": \"data-45241a236619b2ff927d87cb1edb6b9c\"}, \"mark\": \"line\", \"encoding\": {\"x\": {\"field\": \"doy\", \"type\": \"temporal\"}, \"y\": {\"field\": \"vol\", \"type\": \"quantitative\"}}, \"selection\": {\"selector017\": {\"type\": \"interval\", \"bind\": \"scales\", \"encodings\": [\"x\", \"y\"]}}, \"width\": 500, \"$schema\": \"https://vega.github.io/schema/vega-lite/v4.17.0.json\", \"datasets\": {\"data-45241a236619b2ff927d87cb1edb6b9c\": [{\"doy\": \"01-01\", \"vol\": 0}, {\"doy\": \"01-02\", \"vol\": 0}, {\"doy\": \"01-03\", \"vol\": 0}, {\"doy\": \"01-04\", \"vol\": 0}, {\"doy\": \"01-05\", \"vol\": 0}, {\"doy\": \"01-06\", \"vol\": 0}, {\"doy\": \"01-07\", \"vol\": 0}, {\"doy\": \"01-08\", \"vol\": 0}, {\"doy\": \"01-09\", \"vol\": 0}, {\"doy\": \"01-10\", \"vol\": 0}, {\"doy\": \"01-11\", \"vol\": 1329}, {\"doy\": \"01-12\", \"vol\": 2658}, {\"doy\": \"01-13\", \"vol\": 2658}, {\"doy\": \"01-14\", \"vol\": 3987}, {\"doy\": \"01-15\", \"vol\": 5316}, {\"doy\": \"01-16\", \"vol\": 5316}, {\"doy\": \"01-17\", \"vol\": 5316}, {\"doy\": \"01-18\", \"vol\": 6645}, {\"doy\": \"01-19\", \"vol\": 6645}, {\"doy\": \"01-20\", \"vol\": 6645}, {\"doy\": \"01-21\", \"vol\": 6645}, {\"doy\": \"01-22\", \"vol\": 6645}, {\"doy\": \"01-23\", \"vol\": 6645}, {\"doy\": \"01-24\", \"vol\": 6645}, {\"doy\": \"01-25\", \"vol\": 6645}, {\"doy\": \"01-26\", \"vol\": 6645}, {\"doy\": \"01-27\", \"vol\": 7974}, {\"doy\": \"01-28\", \"vol\": 7974}, {\"doy\": \"01-29\", \"vol\": 7974}, {\"doy\": \"01-30\", \"vol\": 7974}, {\"doy\": \"01-31\", \"vol\": 7974}, {\"doy\": \"02-01\", \"vol\": 7974}, {\"doy\": \"02-02\", \"vol\": 7974}, {\"doy\": \"02-03\", \"vol\": 7974}, {\"doy\": \"02-04\", \"vol\": 7974}, {\"doy\": \"02-05\", \"vol\": 7974}, {\"doy\": \"02-06\", \"vol\": 7974}, {\"doy\": \"02-07\", \"vol\": 7974}, {\"doy\": \"02-08\", \"vol\": 7974}, {\"doy\": \"02-09\", \"vol\": 7974}, {\"doy\": \"02-10\", \"vol\": 7974}, {\"doy\": \"02-11\", \"vol\": 7974}, {\"doy\": \"02-12\", \"vol\": 7974}, {\"doy\": \"02-13\", \"vol\": 9474}, {\"doy\": \"02-14\", \"vol\": 9474}, {\"doy\": \"02-15\", \"vol\": 9474}, {\"doy\": \"02-16\", \"vol\": 9474}, {\"doy\": \"02-17\", \"vol\": 10056}, {\"doy\": \"02-18\", \"vol\": 10056}, {\"doy\": \"02-19\", \"vol\": 10056}, {\"doy\": \"02-20\", \"vol\": 10056}, {\"doy\": \"02-21\", \"vol\": 10056}, {\"doy\": \"02-22\", \"vol\": 10056}, {\"doy\": \"02-23\", \"vol\": 10056}, {\"doy\": \"02-24\", \"vol\": 10056}, {\"doy\": \"02-25\", \"vol\": 10056}, {\"doy\": \"02-26\", \"vol\": 10056}, {\"doy\": \"02-27\", \"vol\": 10056}, {\"doy\": \"02-28\", \"vol\": 10056}, {\"doy\": \"03-01\", \"vol\": 10056}, {\"doy\": \"03-02\", \"vol\": 10056}, {\"doy\": \"03-03\", \"vol\": 10056}, {\"doy\": \"03-04\", \"vol\": 10056}, {\"doy\": \"03-05\", \"vol\": 10056}, {\"doy\": \"03-06\", \"vol\": 10056}, {\"doy\": \"03-07\", \"vol\": 10056}, {\"doy\": \"03-08\", \"vol\": 10056}, {\"doy\": \"03-09\", \"vol\": 10056}, {\"doy\": \"03-10\", \"vol\": 10056}, {\"doy\": \"03-11\", \"vol\": 10056}, {\"doy\": \"03-12\", \"vol\": 10056}, {\"doy\": \"03-13\", \"vol\": 10056}, {\"doy\": \"03-14\", \"vol\": 10056}, {\"doy\": \"03-15\", \"vol\": 10056}, {\"doy\": \"03-16\", \"vol\": 10056}, {\"doy\": \"03-17\", \"vol\": 10056}, {\"doy\": \"03-18\", \"vol\": 10056}, {\"doy\": \"03-19\", \"vol\": 10056}, {\"doy\": \"03-20\", \"vol\": 10056}, {\"doy\": \"03-21\", \"vol\": 10056}, {\"doy\": \"03-22\", \"vol\": 10056}, {\"doy\": \"03-23\", \"vol\": 10056}, {\"doy\": \"03-24\", \"vol\": 10056}, {\"doy\": \"03-25\", \"vol\": 10056}, {\"doy\": \"03-26\", \"vol\": 10056}, {\"doy\": \"03-27\", \"vol\": 10056}, {\"doy\": \"03-28\", \"vol\": 10056}, {\"doy\": \"03-29\", \"vol\": 10056}, {\"doy\": \"03-30\", \"vol\": 10056}, {\"doy\": \"03-31\", \"vol\": 10056}, {\"doy\": \"04-01\", \"vol\": 10056}, {\"doy\": \"04-02\", \"vol\": 10056}, {\"doy\": \"04-03\", \"vol\": 10056}, {\"doy\": \"04-04\", \"vol\": 10056}, {\"doy\": \"04-05\", \"vol\": 10056}, {\"doy\": \"04-06\", \"vol\": 10056}, {\"doy\": \"04-07\", \"vol\": 10056}, {\"doy\": \"04-08\", \"vol\": 10056}, {\"doy\": \"04-09\", \"vol\": 10056}, {\"doy\": \"04-10\", \"vol\": 10056}, {\"doy\": \"04-11\", \"vol\": 10056}, {\"doy\": \"04-12\", \"vol\": 10056}, {\"doy\": \"04-13\", \"vol\": 10056}, {\"doy\": \"04-14\", \"vol\": 10056}, {\"doy\": \"04-15\", \"vol\": 10056}, {\"doy\": \"04-16\", \"vol\": 10056}, {\"doy\": \"04-17\", \"vol\": 10056}, {\"doy\": \"04-18\", \"vol\": 10056}, {\"doy\": \"04-19\", \"vol\": 10056}, {\"doy\": \"04-20\", \"vol\": 10056}, {\"doy\": \"04-21\", \"vol\": 10056}, {\"doy\": \"04-22\", \"vol\": 10056}, {\"doy\": \"04-23\", \"vol\": 10056}, {\"doy\": \"04-24\", \"vol\": 10056}, {\"doy\": \"04-25\", \"vol\": 10056}, {\"doy\": \"04-26\", \"vol\": 10056}, {\"doy\": \"04-27\", \"vol\": 10056}, {\"doy\": \"04-28\", \"vol\": 10056}, {\"doy\": \"04-29\", \"vol\": 10056}, {\"doy\": \"04-30\", \"vol\": 10056}, {\"doy\": \"05-01\", \"vol\": 10056}, {\"doy\": \"05-02\", \"vol\": 9723}, {\"doy\": \"05-03\", \"vol\": 10056}, {\"doy\": \"05-04\", \"vol\": 9723}, {\"doy\": \"05-05\", \"vol\": 10056}, {\"doy\": \"05-06\", \"vol\": 9723}, {\"doy\": \"05-07\", \"vol\": 9390}, {\"doy\": \"05-08\", \"vol\": 9057}, {\"doy\": \"05-09\", \"vol\": 10056}, {\"doy\": \"05-10\", \"vol\": 9723}, {\"doy\": \"05-11\", \"vol\": 9390}, {\"doy\": \"05-12\", \"vol\": 10056}, {\"doy\": \"05-13\", \"vol\": 9723}, {\"doy\": \"05-14\", \"vol\": 9390}, {\"doy\": \"05-15\", \"vol\": 9057}, {\"doy\": \"05-16\", \"vol\": 10056}, {\"doy\": \"05-17\", \"vol\": 9723}, {\"doy\": \"05-18\", \"vol\": 9390}, {\"doy\": \"05-19\", \"vol\": 9057}, {\"doy\": \"05-20\", \"vol\": 8724}, {\"doy\": \"05-21\", \"vol\": 10056}, {\"doy\": \"05-22\", \"vol\": 9723}, {\"doy\": \"05-23\", \"vol\": 10056}, {\"doy\": \"05-24\", \"vol\": 9723}, {\"doy\": \"05-25\", \"vol\": 9390}, {\"doy\": \"05-26\", \"vol\": 9057}, {\"doy\": \"05-27\", \"vol\": 8724}, {\"doy\": \"05-28\", \"vol\": 10056}, {\"doy\": \"05-29\", \"vol\": 10056}, {\"doy\": \"05-30\", \"vol\": 9723}, {\"doy\": \"05-31\", \"vol\": 9390}, {\"doy\": \"06-01\", \"vol\": 9057}, {\"doy\": \"06-02\", \"vol\": 8390}, {\"doy\": \"06-03\", \"vol\": 10056}, {\"doy\": \"06-04\", \"vol\": 9389}, {\"doy\": \"06-05\", \"vol\": 8722}, {\"doy\": \"06-06\", \"vol\": 8055}, {\"doy\": \"06-07\", \"vol\": 7388}, {\"doy\": \"06-08\", \"vol\": 9121}, {\"doy\": \"06-09\", \"vol\": 10056}, {\"doy\": \"06-10\", \"vol\": 9389}, {\"doy\": \"06-11\", \"vol\": 8722}, {\"doy\": \"06-12\", \"vol\": 8055}, {\"doy\": \"06-13\", \"vol\": 9788}, {\"doy\": \"06-14\", \"vol\": 10056}, {\"doy\": \"06-15\", \"vol\": 10056}, {\"doy\": \"06-16\", \"vol\": 9389}, {\"doy\": \"06-17\", \"vol\": 8722}, {\"doy\": \"06-18\", \"vol\": 8055}, {\"doy\": \"06-19\", \"vol\": 7388}, {\"doy\": \"06-20\", \"vol\": 6721}, {\"doy\": \"06-21\", \"vol\": 6054}, {\"doy\": \"06-22\", \"vol\": 5387}, {\"doy\": \"06-23\", \"vol\": 4720}, {\"doy\": \"06-24\", \"vol\": 6453}, {\"doy\": \"06-25\", \"vol\": 5786}, {\"doy\": \"06-26\", \"vol\": 5119}, {\"doy\": \"06-27\", \"vol\": 4452}, {\"doy\": \"06-28\", \"vol\": 6185}, {\"doy\": \"06-29\", \"vol\": 5518}, {\"doy\": \"06-30\", \"vol\": 4851}, {\"doy\": \"07-01\", \"vol\": 4184}, {\"doy\": \"07-02\", \"vol\": 3517}, {\"doy\": \"07-03\", \"vol\": 2850}, {\"doy\": \"07-04\", \"vol\": 4283}, {\"doy\": \"07-05\", \"vol\": 3616}, {\"doy\": \"07-06\", \"vol\": 2949}, {\"doy\": \"07-07\", \"vol\": 2282}, {\"doy\": \"07-08\", \"vol\": 3715}, {\"doy\": \"07-09\", \"vol\": 5148}, {\"doy\": \"07-10\", \"vol\": 6581}, {\"doy\": \"07-11\", \"vol\": 5914}, {\"doy\": \"07-12\", \"vol\": 5247}, {\"doy\": \"07-13\", \"vol\": 4580}, {\"doy\": \"07-14\", \"vol\": 3913}, {\"doy\": \"07-15\", \"vol\": 3246}, {\"doy\": \"07-16\", \"vol\": 2579}, {\"doy\": \"07-17\", \"vol\": 1912}, {\"doy\": \"07-18\", \"vol\": 1245}, {\"doy\": \"07-19\", \"vol\": 2678}, {\"doy\": \"07-20\", \"vol\": 2011}, {\"doy\": \"07-21\", \"vol\": 1344}, {\"doy\": \"07-22\", \"vol\": 2777}, {\"doy\": \"07-23\", \"vol\": 4210}, {\"doy\": \"07-24\", \"vol\": 3543}, {\"doy\": \"07-25\", \"vol\": 2876}, {\"doy\": \"07-26\", \"vol\": 2209}, {\"doy\": \"07-27\", \"vol\": 1542}, {\"doy\": \"07-28\", \"vol\": 2975}, {\"doy\": \"07-29\", \"vol\": 2308}, {\"doy\": \"07-30\", \"vol\": 1641}, {\"doy\": \"07-31\", \"vol\": 3074}, {\"doy\": \"08-01\", \"vol\": 2407}, {\"doy\": \"08-02\", \"vol\": 1740}, {\"doy\": \"08-03\", \"vol\": 1073}, {\"doy\": \"08-04\", \"vol\": 2806}, {\"doy\": \"08-05\", \"vol\": 2139}, {\"doy\": \"08-06\", \"vol\": 1472}, {\"doy\": \"08-07\", \"vol\": 805}, {\"doy\": \"08-08\", \"vol\": 138}, {\"doy\": \"08-09\", \"vol\": 1871}, {\"doy\": \"08-10\", \"vol\": 3604}, {\"doy\": \"08-11\", \"vol\": 2937}, {\"doy\": \"08-12\", \"vol\": 2270}, {\"doy\": \"08-13\", \"vol\": 1603}, {\"doy\": \"08-14\", \"vol\": 936}, {\"doy\": \"08-15\", \"vol\": 269}, {\"doy\": \"08-16\", \"vol\": 4402}, {\"doy\": \"08-17\", \"vol\": 3735}, {\"doy\": \"08-18\", \"vol\": 3068}, {\"doy\": \"08-19\", \"vol\": 2401}, {\"doy\": \"08-20\", \"vol\": 1734}, {\"doy\": \"08-21\", \"vol\": 1067}, {\"doy\": \"08-22\", \"vol\": 2800}, {\"doy\": \"08-23\", \"vol\": 4533}, {\"doy\": \"08-24\", \"vol\": 3866}, {\"doy\": \"08-25\", \"vol\": 3199}, {\"doy\": \"08-26\", \"vol\": 4932}, {\"doy\": \"08-27\", \"vol\": 4265}, {\"doy\": \"08-28\", \"vol\": 3598}, {\"doy\": \"08-29\", \"vol\": 2931}, {\"doy\": \"08-30\", \"vol\": 2264}, {\"doy\": \"08-31\", \"vol\": 1597}, {\"doy\": \"09-01\", \"vol\": 930}, {\"doy\": \"09-02\", \"vol\": 597}, {\"doy\": \"09-03\", \"vol\": 264}, {\"doy\": \"09-04\", \"vol\": 2331}, {\"doy\": \"09-05\", \"vol\": 1998}, {\"doy\": \"09-06\", \"vol\": 1665}, {\"doy\": \"09-07\", \"vol\": 1332}, {\"doy\": \"09-08\", \"vol\": 999}, {\"doy\": \"09-09\", \"vol\": 666}, {\"doy\": \"09-10\", \"vol\": 333}, {\"doy\": \"09-11\", \"vol\": 0}, {\"doy\": \"09-12\", \"vol\": 2067}, {\"doy\": \"09-13\", \"vol\": 4134}, {\"doy\": \"09-14\", \"vol\": 3801}, {\"doy\": \"09-15\", \"vol\": 3468}, {\"doy\": \"09-16\", \"vol\": 3135}, {\"doy\": \"09-17\", \"vol\": 2802}, {\"doy\": \"09-18\", \"vol\": 2469}, {\"doy\": \"09-19\", \"vol\": 2136}, {\"doy\": \"09-20\", \"vol\": 4203}, {\"doy\": \"09-21\", \"vol\": 6270}, {\"doy\": \"09-22\", \"vol\": 10056}, {\"doy\": \"09-23\", \"vol\": 9723}, {\"doy\": \"09-24\", \"vol\": 9390}, {\"doy\": \"09-25\", \"vol\": 9057}, {\"doy\": \"09-26\", \"vol\": 10056}, {\"doy\": \"09-27\", \"vol\": 9723}, {\"doy\": \"09-28\", \"vol\": 9390}, {\"doy\": \"09-29\", \"vol\": 9057}, {\"doy\": \"09-30\", \"vol\": 8724}, {\"doy\": \"10-01\", \"vol\": 8391}, {\"doy\": \"10-02\", \"vol\": 8391}, {\"doy\": \"10-03\", \"vol\": 8391}, {\"doy\": \"10-04\", \"vol\": 8391}, {\"doy\": \"10-05\", \"vol\": 10056}, {\"doy\": \"10-06\", \"vol\": 10056}, {\"doy\": \"10-07\", \"vol\": 10056}, {\"doy\": \"10-08\", \"vol\": 10056}, {\"doy\": \"10-09\", \"vol\": 10056}, {\"doy\": \"10-10\", \"vol\": 10056}, {\"doy\": \"10-11\", \"vol\": 10056}, {\"doy\": \"10-12\", \"vol\": 10056}, {\"doy\": \"10-13\", \"vol\": 10056}, {\"doy\": \"10-14\", \"vol\": 10056}, {\"doy\": \"10-15\", \"vol\": 10056}, {\"doy\": \"10-16\", \"vol\": 10056}, {\"doy\": \"10-17\", \"vol\": 10056}, {\"doy\": \"10-18\", \"vol\": 10056}, {\"doy\": \"10-19\", \"vol\": 10056}, {\"doy\": \"10-20\", \"vol\": 10056}, {\"doy\": \"10-21\", \"vol\": 10056}, {\"doy\": \"10-22\", \"vol\": 10056}, {\"doy\": \"10-23\", \"vol\": 10056}, {\"doy\": \"10-24\", \"vol\": 10056}, {\"doy\": \"10-25\", \"vol\": 10056}, {\"doy\": \"10-26\", \"vol\": 10056}, {\"doy\": \"10-27\", \"vol\": 10056}, {\"doy\": \"10-28\", \"vol\": 10056}, {\"doy\": \"10-29\", \"vol\": 10056}, {\"doy\": \"10-30\", \"vol\": 10056}, {\"doy\": \"10-31\", \"vol\": 10056}, {\"doy\": \"11-01\", \"vol\": 10056}, {\"doy\": \"11-02\", \"vol\": 10056}, {\"doy\": \"11-03\", \"vol\": 10056}, {\"doy\": \"11-04\", \"vol\": 10056}, {\"doy\": \"11-05\", \"vol\": 10056}, {\"doy\": \"11-06\", \"vol\": 10056}, {\"doy\": \"11-07\", \"vol\": 10056}, {\"doy\": \"11-08\", \"vol\": 10056}, {\"doy\": \"11-09\", \"vol\": 10056}, {\"doy\": \"11-10\", \"vol\": 10056}, {\"doy\": \"11-11\", \"vol\": 10056}, {\"doy\": \"11-12\", \"vol\": 10056}, {\"doy\": \"11-13\", \"vol\": 10056}, {\"doy\": \"11-14\", \"vol\": 10056}, {\"doy\": \"11-15\", \"vol\": 10056}, {\"doy\": \"11-16\", \"vol\": 10056}, {\"doy\": \"11-17\", \"vol\": 10056}, {\"doy\": \"11-18\", \"vol\": 10056}, {\"doy\": \"11-19\", \"vol\": 10056}, {\"doy\": \"11-20\", \"vol\": 10056}, {\"doy\": \"11-21\", \"vol\": 10056}, {\"doy\": \"11-22\", \"vol\": 10056}, {\"doy\": \"11-23\", \"vol\": 10056}, {\"doy\": \"11-24\", \"vol\": 10056}, {\"doy\": \"11-25\", \"vol\": 10056}, {\"doy\": \"11-26\", \"vol\": 10056}, {\"doy\": \"11-27\", \"vol\": 10056}, {\"doy\": \"11-28\", \"vol\": 10056}, {\"doy\": \"11-29\", \"vol\": 10056}, {\"doy\": \"11-30\", \"vol\": 10056}, {\"doy\": \"12-01\", \"vol\": 10056}, {\"doy\": \"12-02\", \"vol\": 10056}, {\"doy\": \"12-03\", \"vol\": 10056}, {\"doy\": \"12-04\", \"vol\": 10056}, {\"doy\": \"12-05\", \"vol\": 10056}, {\"doy\": \"12-06\", \"vol\": 10056}, {\"doy\": \"12-07\", \"vol\": 10056}, {\"doy\": \"12-08\", \"vol\": 10056}, {\"doy\": \"12-09\", \"vol\": 10056}, {\"doy\": \"12-10\", \"vol\": 10056}, {\"doy\": \"12-11\", \"vol\": 10056}, {\"doy\": \"12-12\", \"vol\": 10056}, {\"doy\": \"12-13\", \"vol\": 10056}, {\"doy\": \"12-14\", \"vol\": 10056}, {\"doy\": \"12-15\", \"vol\": 10056}, {\"doy\": \"12-16\", \"vol\": 10056}, {\"doy\": \"12-17\", \"vol\": 10056}, {\"doy\": \"12-18\", \"vol\": 10056}, {\"doy\": \"12-19\", \"vol\": 10056}, {\"doy\": \"12-20\", \"vol\": 10056}, {\"doy\": \"12-21\", \"vol\": 10056}, {\"doy\": \"12-22\", \"vol\": 10056}, {\"doy\": \"12-23\", \"vol\": 10056}, {\"doy\": \"12-24\", \"vol\": 10056}, {\"doy\": \"12-25\", \"vol\": 10056}, {\"doy\": \"12-26\", \"vol\": 10056}, {\"doy\": \"12-27\", \"vol\": 10056}, {\"doy\": \"12-28\", \"vol\": 10056}, {\"doy\": \"12-29\", \"vol\": 10056}, {\"doy\": \"12-30\", \"vol\": 10056}, {\"doy\": \"12-31\", \"vol\": 10056}]}}, {\"mode\": \"vega-lite\"});\n",
       "</script>"
      ],
      "text/plain": [
       "alt.Chart(...)"
      ]
     },
     "execution_count": 120,
     "metadata": {},
     "output_type": "execute_result"
    }
   ],
   "source": [
    "# Ce n'est pas une copie, on a maintenant deux références à la même variable\n",
    "# donc mutation sur dcuve <=> mutation sur cuvePaillage\n",
    "# donc aucun intérêt de renommer\n",
    "dcuve = cuvePaillage\n",
    "dcuve['vol'] = 0\n",
    "volmax = 10056\n",
    "for index in (range(len(dcuve['vol'])-1)):\n",
    "    dcuve['vol'].iloc[index+1] = dcuve['vol'].iloc[index] + df['apportsTotaux'].iloc[index] - df['besoinsPaillage'].iloc[index]\n",
    "    dcuve['vol'].iloc[index+1] = min(dcuve['vol'][index+1], volmax)\n",
    "alt.Chart(dcuve).mark_line().encode(\n",
    "    x='doy:T',\n",
    "    y='vol'\n",
    ").properties(\n",
    "    width=500\n",
    ").interactive()\n"
   ]
  },
  {
   "attachments": {},
   "cell_type": "markdown",
   "metadata": {},
   "source": [
    "On voit ici qu'on est parvenu à réduire les besoins de seulement deux mètres cubes, ce qui n'est pas intuitif : en effet, on a divisé les besoins par trois. \n",
    "La raison est sans doute dans l'hypothèse qu'une pluie réduit les besoins à zéro seulement pour le jour où il pleut. Or une pluie de 30mm en juillet permet d'éviter d'arroser pendant plusieurs jours. \n"
   ]
  },
  {
   "attachments": {},
   "cell_type": "markdown",
   "metadata": {},
   "source": [
    "## PLUS ULTRA\n",
    "\n",
    "Bouts de code à retirer et problèmes"
   ]
  },
  {
   "attachments": {},
   "cell_type": "markdown",
   "metadata": {},
   "source": [
    "### tentative d'appel de fonction dans un dossier parent\n"
   ]
  },
  {
   "attachments": {},
   "cell_type": "markdown",
   "metadata": {},
   "source": [
    "La prochaine étape pour se débarrasser du fichier .csv de pluviométrie quotidienne est de créer une fonction qui le fait à partir de la fiche climatique. "
   ]
  },
  {
   "cell_type": "code",
   "execution_count": 121,
   "metadata": {},
   "outputs": [],
   "source": [
    "# Il faut que tu importes depuis un endroit connu\n",
    "# Ton projet définit la _library_ `recuperation_eau_pluie`,\n",
    "# et l'installe automatiquement de façon éditable\n",
    "# (on en discute à l'occasion si ça t'intéresse)\n",
    "from recuperation_eau_pluie import test_function"
   ]
  },
  {
   "cell_type": "code",
   "execution_count": 122,
   "metadata": {},
   "outputs": [
    {
     "name": "stdout",
     "output_type": "stream",
     "text": [
      "hello world !\n"
     ]
    }
   ],
   "source": [
    "test_function(0)"
   ]
  },
  {
   "cell_type": "code",
   "execution_count": 123,
   "metadata": {},
   "outputs": [],
   "source": [
    "# Pandas ne sait pas de quelle année on parle, il ne va pas l'inventer... (année bissextile?)\n",
    "dcuve['doy'] = pd.to_datetime(dcuve['doy'].apply(lambda d: f\"2020-{d}\"))"
   ]
  },
  {
   "cell_type": "code",
   "execution_count": 125,
   "metadata": {},
   "outputs": [
    {
     "data": {
      "text/html": [
       "<div>\n",
       "<style scoped>\n",
       "    .dataframe tbody tr th:only-of-type {\n",
       "        vertical-align: middle;\n",
       "    }\n",
       "\n",
       "    .dataframe tbody tr th {\n",
       "        vertical-align: top;\n",
       "    }\n",
       "\n",
       "    .dataframe thead th {\n",
       "        text-align: right;\n",
       "    }\n",
       "</style>\n",
       "<table border=\"1\" class=\"dataframe\">\n",
       "  <thead>\n",
       "    <tr style=\"text-align: right;\">\n",
       "      <th></th>\n",
       "      <th>doy</th>\n",
       "      <th>vol</th>\n",
       "    </tr>\n",
       "  </thead>\n",
       "  <tbody>\n",
       "    <tr>\n",
       "      <th>0</th>\n",
       "      <td>2020-01-01</td>\n",
       "      <td>0</td>\n",
       "    </tr>\n",
       "    <tr>\n",
       "      <th>1</th>\n",
       "      <td>2020-01-02</td>\n",
       "      <td>0</td>\n",
       "    </tr>\n",
       "    <tr>\n",
       "      <th>2</th>\n",
       "      <td>2020-01-03</td>\n",
       "      <td>0</td>\n",
       "    </tr>\n",
       "    <tr>\n",
       "      <th>3</th>\n",
       "      <td>2020-01-04</td>\n",
       "      <td>0</td>\n",
       "    </tr>\n",
       "    <tr>\n",
       "      <th>4</th>\n",
       "      <td>2020-01-05</td>\n",
       "      <td>0</td>\n",
       "    </tr>\n",
       "    <tr>\n",
       "      <th>5</th>\n",
       "      <td>2020-01-06</td>\n",
       "      <td>0</td>\n",
       "    </tr>\n",
       "    <tr>\n",
       "      <th>6</th>\n",
       "      <td>2020-01-07</td>\n",
       "      <td>0</td>\n",
       "    </tr>\n",
       "    <tr>\n",
       "      <th>7</th>\n",
       "      <td>2020-01-08</td>\n",
       "      <td>0</td>\n",
       "    </tr>\n",
       "    <tr>\n",
       "      <th>8</th>\n",
       "      <td>2020-01-09</td>\n",
       "      <td>0</td>\n",
       "    </tr>\n",
       "    <tr>\n",
       "      <th>9</th>\n",
       "      <td>2020-01-10</td>\n",
       "      <td>0</td>\n",
       "    </tr>\n",
       "    <tr>\n",
       "      <th>10</th>\n",
       "      <td>2020-01-11</td>\n",
       "      <td>1329</td>\n",
       "    </tr>\n",
       "    <tr>\n",
       "      <th>11</th>\n",
       "      <td>2020-01-12</td>\n",
       "      <td>2658</td>\n",
       "    </tr>\n",
       "    <tr>\n",
       "      <th>12</th>\n",
       "      <td>2020-01-13</td>\n",
       "      <td>2658</td>\n",
       "    </tr>\n",
       "    <tr>\n",
       "      <th>13</th>\n",
       "      <td>2020-01-14</td>\n",
       "      <td>3987</td>\n",
       "    </tr>\n",
       "    <tr>\n",
       "      <th>14</th>\n",
       "      <td>2020-01-15</td>\n",
       "      <td>5316</td>\n",
       "    </tr>\n",
       "    <tr>\n",
       "      <th>15</th>\n",
       "      <td>2020-01-16</td>\n",
       "      <td>5316</td>\n",
       "    </tr>\n",
       "    <tr>\n",
       "      <th>16</th>\n",
       "      <td>2020-01-17</td>\n",
       "      <td>5316</td>\n",
       "    </tr>\n",
       "    <tr>\n",
       "      <th>17</th>\n",
       "      <td>2020-01-18</td>\n",
       "      <td>6645</td>\n",
       "    </tr>\n",
       "    <tr>\n",
       "      <th>18</th>\n",
       "      <td>2020-01-19</td>\n",
       "      <td>6645</td>\n",
       "    </tr>\n",
       "    <tr>\n",
       "      <th>19</th>\n",
       "      <td>2020-01-20</td>\n",
       "      <td>6645</td>\n",
       "    </tr>\n",
       "    <tr>\n",
       "      <th>20</th>\n",
       "      <td>2020-01-21</td>\n",
       "      <td>6645</td>\n",
       "    </tr>\n",
       "    <tr>\n",
       "      <th>21</th>\n",
       "      <td>2020-01-22</td>\n",
       "      <td>6645</td>\n",
       "    </tr>\n",
       "    <tr>\n",
       "      <th>22</th>\n",
       "      <td>2020-01-23</td>\n",
       "      <td>6645</td>\n",
       "    </tr>\n",
       "    <tr>\n",
       "      <th>23</th>\n",
       "      <td>2020-01-24</td>\n",
       "      <td>6645</td>\n",
       "    </tr>\n",
       "    <tr>\n",
       "      <th>24</th>\n",
       "      <td>2020-01-25</td>\n",
       "      <td>6645</td>\n",
       "    </tr>\n",
       "    <tr>\n",
       "      <th>25</th>\n",
       "      <td>2020-01-26</td>\n",
       "      <td>6645</td>\n",
       "    </tr>\n",
       "    <tr>\n",
       "      <th>26</th>\n",
       "      <td>2020-01-27</td>\n",
       "      <td>7974</td>\n",
       "    </tr>\n",
       "    <tr>\n",
       "      <th>27</th>\n",
       "      <td>2020-01-28</td>\n",
       "      <td>7974</td>\n",
       "    </tr>\n",
       "    <tr>\n",
       "      <th>28</th>\n",
       "      <td>2020-01-29</td>\n",
       "      <td>7974</td>\n",
       "    </tr>\n",
       "    <tr>\n",
       "      <th>29</th>\n",
       "      <td>2020-01-30</td>\n",
       "      <td>7974</td>\n",
       "    </tr>\n",
       "    <tr>\n",
       "      <th>30</th>\n",
       "      <td>2020-01-31</td>\n",
       "      <td>7974</td>\n",
       "    </tr>\n",
       "  </tbody>\n",
       "</table>\n",
       "</div>"
      ],
      "text/plain": [
       "          doy   vol\n",
       "0  2020-01-01     0\n",
       "1  2020-01-02     0\n",
       "2  2020-01-03     0\n",
       "3  2020-01-04     0\n",
       "4  2020-01-05     0\n",
       "5  2020-01-06     0\n",
       "6  2020-01-07     0\n",
       "7  2020-01-08     0\n",
       "8  2020-01-09     0\n",
       "9  2020-01-10     0\n",
       "10 2020-01-11  1329\n",
       "11 2020-01-12  2658\n",
       "12 2020-01-13  2658\n",
       "13 2020-01-14  3987\n",
       "14 2020-01-15  5316\n",
       "15 2020-01-16  5316\n",
       "16 2020-01-17  5316\n",
       "17 2020-01-18  6645\n",
       "18 2020-01-19  6645\n",
       "19 2020-01-20  6645\n",
       "20 2020-01-21  6645\n",
       "21 2020-01-22  6645\n",
       "22 2020-01-23  6645\n",
       "23 2020-01-24  6645\n",
       "24 2020-01-25  6645\n",
       "25 2020-01-26  6645\n",
       "26 2020-01-27  7974\n",
       "27 2020-01-28  7974\n",
       "28 2020-01-29  7974\n",
       "29 2020-01-30  7974\n",
       "30 2020-01-31  7974"
      ]
     },
     "execution_count": 125,
     "metadata": {},
     "output_type": "execute_result"
    }
   ],
   "source": [
    "# dt.month est un entier\n",
    "dcuve.loc[dcuve['doy'].dt.month == 1]"
   ]
  },
  {
   "cell_type": "code",
   "execution_count": 126,
   "metadata": {},
   "outputs": [],
   "source": [
    "pluvio = [[], []]\n",
    "# NB : moyenne_clermont est le resultat de pd.read_csv\n",
    "for index in range(len(moyenne_clermont['mois'])):\n",
    "    # Nombre de jours ou il pleut, loi normale\n",
    "    mu_freq = moyenne_clermont['nb_jours'][index]\n",
    "    sigma_freq = mu_freq/2\n",
    "\n",
    "    #exemple : cuve\n",
    "\n",
    "    \n",
    "    # Définition\n",
    "    mu_p = moyenne_clermont['hauteur'][index]\n",
    "    sigma_p = mu_p/10\n",
    "    # "
   ]
  },
  {
   "cell_type": "code",
   "execution_count": 128,
   "metadata": {},
   "outputs": [],
   "source": [
    "# Évite de mettre des cellules qui modifient la donnée et d'autres qui l'affiche\n",
    "# Sinon affichage => modification en effet indésirable\n",
    "precipitations['cumul']=np.cumsum(precipitations.mm)"
   ]
  },
  {
   "cell_type": "code",
   "execution_count": 132,
   "metadata": {},
   "outputs": [
    {
     "data": {
      "text/html": [
       "\n",
       "<div id=\"altair-viz-ecdb8118bd04451ebda25a26d2f123b3\"></div>\n",
       "<script type=\"text/javascript\">\n",
       "  var VEGA_DEBUG = (typeof VEGA_DEBUG == \"undefined\") ? {} : VEGA_DEBUG;\n",
       "  (function(spec, embedOpt){\n",
       "    let outputDiv = document.currentScript.previousElementSibling;\n",
       "    if (outputDiv.id !== \"altair-viz-ecdb8118bd04451ebda25a26d2f123b3\") {\n",
       "      outputDiv = document.getElementById(\"altair-viz-ecdb8118bd04451ebda25a26d2f123b3\");\n",
       "    }\n",
       "    const paths = {\n",
       "      \"vega\": \"https://cdn.jsdelivr.net/npm//vega@5?noext\",\n",
       "      \"vega-lib\": \"https://cdn.jsdelivr.net/npm//vega-lib?noext\",\n",
       "      \"vega-lite\": \"https://cdn.jsdelivr.net/npm//vega-lite@4.17.0?noext\",\n",
       "      \"vega-embed\": \"https://cdn.jsdelivr.net/npm//vega-embed@6?noext\",\n",
       "    };\n",
       "\n",
       "    function maybeLoadScript(lib, version) {\n",
       "      var key = `${lib.replace(\"-\", \"\")}_version`;\n",
       "      return (VEGA_DEBUG[key] == version) ?\n",
       "        Promise.resolve(paths[lib]) :\n",
       "        new Promise(function(resolve, reject) {\n",
       "          var s = document.createElement('script');\n",
       "          document.getElementsByTagName(\"head\")[0].appendChild(s);\n",
       "          s.async = true;\n",
       "          s.onload = () => {\n",
       "            VEGA_DEBUG[key] = version;\n",
       "            return resolve(paths[lib]);\n",
       "          };\n",
       "          s.onerror = () => reject(`Error loading script: ${paths[lib]}`);\n",
       "          s.src = paths[lib];\n",
       "        });\n",
       "    }\n",
       "\n",
       "    function showError(err) {\n",
       "      outputDiv.innerHTML = `<div class=\"error\" style=\"color:red;\">${err}</div>`;\n",
       "      throw err;\n",
       "    }\n",
       "\n",
       "    function displayChart(vegaEmbed) {\n",
       "      vegaEmbed(outputDiv, spec, embedOpt)\n",
       "        .catch(err => showError(`Javascript Error: ${err.message}<br>This usually means there's a typo in your chart specification. See the javascript console for the full traceback.`));\n",
       "    }\n",
       "\n",
       "    if(typeof define === \"function\" && define.amd) {\n",
       "      requirejs.config({paths});\n",
       "      require([\"vega-embed\"], displayChart, err => showError(`Error loading script: ${err.message}`));\n",
       "    } else {\n",
       "      maybeLoadScript(\"vega\", \"5\")\n",
       "        .then(() => maybeLoadScript(\"vega-lite\", \"4.17.0\"))\n",
       "        .then(() => maybeLoadScript(\"vega-embed\", \"6\"))\n",
       "        .catch(showError)\n",
       "        .then(() => displayChart(vegaEmbed));\n",
       "    }\n",
       "  })({\"config\": {\"view\": {\"continuousWidth\": 400, \"continuousHeight\": 300}}, \"data\": {\"name\": \"data-efc8fcb926be0b05254ff3400f407265\"}, \"mark\": {\"type\": \"area\", \"color\": \"lightblue\", \"interpolate\": \"step-after\", \"line\": true}, \"encoding\": {\"x\": {\"field\": \"doy\", \"timeUnit\": \"monthdate\", \"title\": \"Jour de l'ann\\u00e9e\", \"type\": \"temporal\"}, \"y\": {\"field\": \"cumul\", \"title\": \"Pluie cumul\\u00e9e depuis le d\\u00e9but de l'ann\\u00e9e\", \"type\": \"quantitative\"}}, \"width\": 600, \"$schema\": \"https://vega.github.io/schema/vega-lite/v4.17.0.json\", \"datasets\": {\"data-efc8fcb926be0b05254ff3400f407265\": [{\"doy\": \"01-01\", \"mm\": 0.0, \"cumul\": 0.0}, {\"doy\": \"01-02\", \"mm\": 0.0, \"cumul\": 0.0}, {\"doy\": \"01-03\", \"mm\": 0.0, \"cumul\": 0.0}, {\"doy\": \"01-04\", \"mm\": 0.0, \"cumul\": 0.0}, {\"doy\": \"01-05\", \"mm\": 0.0, \"cumul\": 0.0}, {\"doy\": \"01-06\", \"mm\": 0.0, \"cumul\": 0.0}, {\"doy\": \"01-07\", \"mm\": 0.0, \"cumul\": 0.0}, {\"doy\": \"01-08\", \"mm\": 0.0, \"cumul\": 0.0}, {\"doy\": \"01-09\", \"mm\": 0.0, \"cumul\": 0.0}, {\"doy\": \"01-10\", \"mm\": 4.43, \"cumul\": 4.43}, {\"doy\": \"01-11\", \"mm\": 4.43, \"cumul\": 8.86}, {\"doy\": \"01-12\", \"mm\": 0.0, \"cumul\": 8.86}, {\"doy\": \"01-13\", \"mm\": 4.43, \"cumul\": 13.29}, {\"doy\": \"01-14\", \"mm\": 4.43, \"cumul\": 17.72}, {\"doy\": \"01-15\", \"mm\": 0.0, \"cumul\": 17.72}, {\"doy\": \"01-16\", \"mm\": 0.0, \"cumul\": 17.72}, {\"doy\": \"01-17\", \"mm\": 4.43, \"cumul\": 22.15}, {\"doy\": \"01-18\", \"mm\": 0.0, \"cumul\": 22.15}, {\"doy\": \"01-19\", \"mm\": 0.0, \"cumul\": 22.15}, {\"doy\": \"01-20\", \"mm\": 0.0, \"cumul\": 22.15}, {\"doy\": \"01-21\", \"mm\": 0.0, \"cumul\": 22.15}, {\"doy\": \"01-22\", \"mm\": 0.0, \"cumul\": 22.15}, {\"doy\": \"01-23\", \"mm\": 0.0, \"cumul\": 22.15}, {\"doy\": \"01-24\", \"mm\": 0.0, \"cumul\": 22.15}, {\"doy\": \"01-25\", \"mm\": 0.0, \"cumul\": 22.15}, {\"doy\": \"01-26\", \"mm\": 4.43, \"cumul\": 26.58}, {\"doy\": \"01-27\", \"mm\": 0.0, \"cumul\": 26.58}, {\"doy\": \"01-28\", \"mm\": 0.0, \"cumul\": 26.58}, {\"doy\": \"01-29\", \"mm\": 0.0, \"cumul\": 26.58}, {\"doy\": \"01-30\", \"mm\": 0.0, \"cumul\": 26.58}, {\"doy\": \"01-31\", \"mm\": 0.0, \"cumul\": 26.58}, {\"doy\": \"02-01\", \"mm\": 0.0, \"cumul\": 26.58}, {\"doy\": \"02-02\", \"mm\": 0.0, \"cumul\": 26.58}, {\"doy\": \"02-03\", \"mm\": 0.0, \"cumul\": 26.58}, {\"doy\": \"02-04\", \"mm\": 0.0, \"cumul\": 26.58}, {\"doy\": \"02-05\", \"mm\": 0.0, \"cumul\": 26.58}, {\"doy\": \"02-06\", \"mm\": 0.0, \"cumul\": 26.58}, {\"doy\": \"02-07\", \"mm\": 0.0, \"cumul\": 26.58}, {\"doy\": \"02-08\", \"mm\": 0.0, \"cumul\": 26.58}, {\"doy\": \"02-09\", \"mm\": 0.0, \"cumul\": 26.58}, {\"doy\": \"02-10\", \"mm\": 0.0, \"cumul\": 26.58}, {\"doy\": \"02-11\", \"mm\": 0.0, \"cumul\": 26.58}, {\"doy\": \"02-12\", \"mm\": 5.0, \"cumul\": 31.58}, {\"doy\": \"02-13\", \"mm\": 0.0, \"cumul\": 31.58}, {\"doy\": \"02-14\", \"mm\": 0.0, \"cumul\": 31.58}, {\"doy\": \"02-15\", \"mm\": 0.0, \"cumul\": 31.58}, {\"doy\": \"02-16\", \"mm\": 5.0, \"cumul\": 36.58}, {\"doy\": \"02-17\", \"mm\": 5.0, \"cumul\": 41.58}, {\"doy\": \"02-18\", \"mm\": 0.0, \"cumul\": 41.58}, {\"doy\": \"02-19\", \"mm\": 0.0, \"cumul\": 41.58}, {\"doy\": \"02-20\", \"mm\": 0.0, \"cumul\": 41.58}, {\"doy\": \"02-21\", \"mm\": 0.0, \"cumul\": 41.58}, {\"doy\": \"02-22\", \"mm\": 0.0, \"cumul\": 41.58}, {\"doy\": \"02-23\", \"mm\": 0.0, \"cumul\": 41.58}, {\"doy\": \"02-24\", \"mm\": 0.0, \"cumul\": 41.58}, {\"doy\": \"02-25\", \"mm\": 0.0, \"cumul\": 41.58}, {\"doy\": \"02-26\", \"mm\": 0.0, \"cumul\": 41.58}, {\"doy\": \"02-27\", \"mm\": 5.0, \"cumul\": 46.58}, {\"doy\": \"02-28\", \"mm\": 5.0, \"cumul\": 51.58}, {\"doy\": \"03-01\", \"mm\": 0.0, \"cumul\": 51.58}, {\"doy\": \"03-02\", \"mm\": 0.0, \"cumul\": 51.58}, {\"doy\": \"03-03\", \"mm\": 0.0, \"cumul\": 51.58}, {\"doy\": \"03-04\", \"mm\": 4.0, \"cumul\": 55.58}, {\"doy\": \"03-05\", \"mm\": 0.0, \"cumul\": 55.58}, {\"doy\": \"03-06\", \"mm\": 0.0, \"cumul\": 55.58}, {\"doy\": \"03-07\", \"mm\": 0.0, \"cumul\": 55.58}, {\"doy\": \"03-08\", \"mm\": 4.0, \"cumul\": 59.58}, {\"doy\": \"03-09\", \"mm\": 0.0, \"cumul\": 59.58}, {\"doy\": \"03-10\", \"mm\": 0.0, \"cumul\": 59.58}, {\"doy\": \"03-11\", \"mm\": 0.0, \"cumul\": 59.58}, {\"doy\": \"03-12\", \"mm\": 0.0, \"cumul\": 59.58}, {\"doy\": \"03-13\", \"mm\": 0.0, \"cumul\": 59.58}, {\"doy\": \"03-14\", \"mm\": 0.0, \"cumul\": 59.58}, {\"doy\": \"03-15\", \"mm\": 0.0, \"cumul\": 59.58}, {\"doy\": \"03-16\", \"mm\": 4.0, \"cumul\": 63.58}, {\"doy\": \"03-17\", \"mm\": 4.0, \"cumul\": 67.58}, {\"doy\": \"03-18\", \"mm\": 0.0, \"cumul\": 67.58}, {\"doy\": \"03-19\", \"mm\": 0.0, \"cumul\": 67.58}, {\"doy\": \"03-20\", \"mm\": 8.0, \"cumul\": 75.58}, {\"doy\": \"03-21\", \"mm\": 0.0, \"cumul\": 75.58}, {\"doy\": \"03-22\", \"mm\": 0.0, \"cumul\": 75.58}, {\"doy\": \"03-23\", \"mm\": 0.0, \"cumul\": 75.58}, {\"doy\": \"03-24\", \"mm\": 0.0, \"cumul\": 75.58}, {\"doy\": \"03-25\", \"mm\": 4.0, \"cumul\": 79.58}, {\"doy\": \"03-26\", \"mm\": 0.0, \"cumul\": 79.58}, {\"doy\": \"03-27\", \"mm\": 0.0, \"cumul\": 79.58}, {\"doy\": \"03-28\", \"mm\": 0.0, \"cumul\": 79.58}, {\"doy\": \"03-29\", \"mm\": 0.0, \"cumul\": 79.58}, {\"doy\": \"03-30\", \"mm\": 0.0, \"cumul\": 79.58}, {\"doy\": \"03-31\", \"mm\": 0.0, \"cumul\": 79.58}, {\"doy\": \"04-01\", \"mm\": 6.0, \"cumul\": 85.58}, {\"doy\": \"04-02\", \"mm\": 0.0, \"cumul\": 85.58}, {\"doy\": \"04-03\", \"mm\": 0.0, \"cumul\": 85.58}, {\"doy\": \"04-04\", \"mm\": 6.0, \"cumul\": 91.58}, {\"doy\": \"04-05\", \"mm\": 0.0, \"cumul\": 91.58}, {\"doy\": \"04-06\", \"mm\": 6.0, \"cumul\": 97.58}, {\"doy\": \"04-07\", \"mm\": 6.0, \"cumul\": 103.58}, {\"doy\": \"04-08\", \"mm\": 0.0, \"cumul\": 103.58}, {\"doy\": \"04-09\", \"mm\": 0.0, \"cumul\": 103.58}, {\"doy\": \"04-10\", \"mm\": 0.0, \"cumul\": 103.58}, {\"doy\": \"04-11\", \"mm\": 0.0, \"cumul\": 103.58}, {\"doy\": \"04-12\", \"mm\": 12.0, \"cumul\": 115.58}, {\"doy\": \"04-13\", \"mm\": 0.0, \"cumul\": 115.58}, {\"doy\": \"04-14\", \"mm\": 0.0, \"cumul\": 115.58}, {\"doy\": \"04-15\", \"mm\": 0.0, \"cumul\": 115.58}, {\"doy\": \"04-16\", \"mm\": 0.0, \"cumul\": 115.58}, {\"doy\": \"04-17\", \"mm\": 0.0, \"cumul\": 115.58}, {\"doy\": \"04-18\", \"mm\": 0.0, \"cumul\": 115.58}, {\"doy\": \"04-19\", \"mm\": 0.0, \"cumul\": 115.58}, {\"doy\": \"04-20\", \"mm\": 0.0, \"cumul\": 115.58}, {\"doy\": \"04-21\", \"mm\": 0.0, \"cumul\": 115.58}, {\"doy\": \"04-22\", \"mm\": 0.0, \"cumul\": 115.58}, {\"doy\": \"04-23\", \"mm\": 0.0, \"cumul\": 115.58}, {\"doy\": \"04-24\", \"mm\": 6.0, \"cumul\": 121.58}, {\"doy\": \"04-25\", \"mm\": 6.0, \"cumul\": 127.58}, {\"doy\": \"04-26\", \"mm\": 0.0, \"cumul\": 127.58}, {\"doy\": \"04-27\", \"mm\": 0.0, \"cumul\": 127.58}, {\"doy\": \"04-28\", \"mm\": 0.0, \"cumul\": 127.58}, {\"doy\": \"04-29\", \"mm\": 0.0, \"cumul\": 127.58}, {\"doy\": \"04-30\", \"mm\": 0.0, \"cumul\": 127.58}, {\"doy\": \"05-01\", \"mm\": 0.0, \"cumul\": 127.58}, {\"doy\": \"05-02\", \"mm\": 7.0, \"cumul\": 134.57999999999998}, {\"doy\": \"05-03\", \"mm\": 0.0, \"cumul\": 134.57999999999998}, {\"doy\": \"05-04\", \"mm\": 14.0, \"cumul\": 148.57999999999998}, {\"doy\": \"05-05\", \"mm\": 0.0, \"cumul\": 148.57999999999998}, {\"doy\": \"05-06\", \"mm\": 0.0, \"cumul\": 148.57999999999998}, {\"doy\": \"05-07\", \"mm\": 0.0, \"cumul\": 148.57999999999998}, {\"doy\": \"05-08\", \"mm\": 7.0, \"cumul\": 155.57999999999998}, {\"doy\": \"05-09\", \"mm\": 0.0, \"cumul\": 155.57999999999998}, {\"doy\": \"05-10\", \"mm\": 0.0, \"cumul\": 155.57999999999998}, {\"doy\": \"05-11\", \"mm\": 7.0, \"cumul\": 162.57999999999998}, {\"doy\": \"05-12\", \"mm\": 0.0, \"cumul\": 162.57999999999998}, {\"doy\": \"05-13\", \"mm\": 0.0, \"cumul\": 162.57999999999998}, {\"doy\": \"05-14\", \"mm\": 0.0, \"cumul\": 162.57999999999998}, {\"doy\": \"05-15\", \"mm\": 7.0, \"cumul\": 169.57999999999998}, {\"doy\": \"05-16\", \"mm\": 0.0, \"cumul\": 169.57999999999998}, {\"doy\": \"05-17\", \"mm\": 0.0, \"cumul\": 169.57999999999998}, {\"doy\": \"05-18\", \"mm\": 0.0, \"cumul\": 169.57999999999998}, {\"doy\": \"05-19\", \"mm\": 0.0, \"cumul\": 169.57999999999998}, {\"doy\": \"05-20\", \"mm\": 7.0, \"cumul\": 176.57999999999998}, {\"doy\": \"05-21\", \"mm\": 0.0, \"cumul\": 176.57999999999998}, {\"doy\": \"05-22\", \"mm\": 7.0, \"cumul\": 183.57999999999998}, {\"doy\": \"05-23\", \"mm\": 0.0, \"cumul\": 183.57999999999998}, {\"doy\": \"05-24\", \"mm\": 0.0, \"cumul\": 183.57999999999998}, {\"doy\": \"05-25\", \"mm\": 0.0, \"cumul\": 183.57999999999998}, {\"doy\": \"05-26\", \"mm\": 0.0, \"cumul\": 183.57999999999998}, {\"doy\": \"05-27\", \"mm\": 7.0, \"cumul\": 190.57999999999998}, {\"doy\": \"05-28\", \"mm\": 7.0, \"cumul\": 197.57999999999998}, {\"doy\": \"05-29\", \"mm\": 0.0, \"cumul\": 197.57999999999998}, {\"doy\": \"05-30\", \"mm\": 0.0, \"cumul\": 197.57999999999998}, {\"doy\": \"05-31\", \"mm\": 0.0, \"cumul\": 197.57999999999998}, {\"doy\": \"06-01\", \"mm\": 0.0, \"cumul\": 197.57999999999998}, {\"doy\": \"06-02\", \"mm\": 8.0, \"cumul\": 205.57999999999998}, {\"doy\": \"06-03\", \"mm\": 0.0, \"cumul\": 205.57999999999998}, {\"doy\": \"06-04\", \"mm\": 0.0, \"cumul\": 205.57999999999998}, {\"doy\": \"06-05\", \"mm\": 0.0, \"cumul\": 205.57999999999998}, {\"doy\": \"06-06\", \"mm\": 0.0, \"cumul\": 205.57999999999998}, {\"doy\": \"06-07\", \"mm\": 8.0, \"cumul\": 213.57999999999998}, {\"doy\": \"06-08\", \"mm\": 8.0, \"cumul\": 221.57999999999998}, {\"doy\": \"06-09\", \"mm\": 0.0, \"cumul\": 221.57999999999998}, {\"doy\": \"06-10\", \"mm\": 0.0, \"cumul\": 221.57999999999998}, {\"doy\": \"06-11\", \"mm\": 0.0, \"cumul\": 221.57999999999998}, {\"doy\": \"06-12\", \"mm\": 8.0, \"cumul\": 229.57999999999998}, {\"doy\": \"06-13\", \"mm\": 8.0, \"cumul\": 237.57999999999998}, {\"doy\": \"06-14\", \"mm\": 8.0, \"cumul\": 245.57999999999998}, {\"doy\": \"06-15\", \"mm\": 0.0, \"cumul\": 245.57999999999998}, {\"doy\": \"06-16\", \"mm\": 0.0, \"cumul\": 245.57999999999998}, {\"doy\": \"06-17\", \"mm\": 0.0, \"cumul\": 245.57999999999998}, {\"doy\": \"06-18\", \"mm\": 0.0, \"cumul\": 245.57999999999998}, {\"doy\": \"06-19\", \"mm\": 0.0, \"cumul\": 245.57999999999998}, {\"doy\": \"06-20\", \"mm\": 0.0, \"cumul\": 245.57999999999998}, {\"doy\": \"06-21\", \"mm\": 0.0, \"cumul\": 245.57999999999998}, {\"doy\": \"06-22\", \"mm\": 0.0, \"cumul\": 245.57999999999998}, {\"doy\": \"06-23\", \"mm\": 8.0, \"cumul\": 253.57999999999998}, {\"doy\": \"06-24\", \"mm\": 0.0, \"cumul\": 253.57999999999998}, {\"doy\": \"06-25\", \"mm\": 0.0, \"cumul\": 253.57999999999998}, {\"doy\": \"06-26\", \"mm\": 0.0, \"cumul\": 253.57999999999998}, {\"doy\": \"06-27\", \"mm\": 8.0, \"cumul\": 261.58}, {\"doy\": \"06-28\", \"mm\": 0.0, \"cumul\": 261.58}, {\"doy\": \"06-29\", \"mm\": 0.0, \"cumul\": 261.58}, {\"doy\": \"06-30\", \"mm\": 0.0, \"cumul\": 261.58}, {\"doy\": \"07-01\", \"mm\": 0.0, \"cumul\": 261.58}, {\"doy\": \"07-02\", \"mm\": 0.0, \"cumul\": 261.58}, {\"doy\": \"07-03\", \"mm\": 7.0, \"cumul\": 268.58}, {\"doy\": \"07-04\", \"mm\": 0.0, \"cumul\": 268.58}, {\"doy\": \"07-05\", \"mm\": 0.0, \"cumul\": 268.58}, {\"doy\": \"07-06\", \"mm\": 0.0, \"cumul\": 268.58}, {\"doy\": \"07-07\", \"mm\": 7.0, \"cumul\": 275.58}, {\"doy\": \"07-08\", \"mm\": 7.0, \"cumul\": 282.58}, {\"doy\": \"07-09\", \"mm\": 7.0, \"cumul\": 289.58}, {\"doy\": \"07-10\", \"mm\": 0.0, \"cumul\": 289.58}, {\"doy\": \"07-11\", \"mm\": 0.0, \"cumul\": 289.58}, {\"doy\": \"07-12\", \"mm\": 0.0, \"cumul\": 289.58}, {\"doy\": \"07-13\", \"mm\": 0.0, \"cumul\": 289.58}, {\"doy\": \"07-14\", \"mm\": 0.0, \"cumul\": 289.58}, {\"doy\": \"07-15\", \"mm\": 0.0, \"cumul\": 289.58}, {\"doy\": \"07-16\", \"mm\": 0.0, \"cumul\": 289.58}, {\"doy\": \"07-17\", \"mm\": 0.0, \"cumul\": 289.58}, {\"doy\": \"07-18\", \"mm\": 7.0, \"cumul\": 296.58}, {\"doy\": \"07-19\", \"mm\": 0.0, \"cumul\": 296.58}, {\"doy\": \"07-20\", \"mm\": 0.0, \"cumul\": 296.58}, {\"doy\": \"07-21\", \"mm\": 7.0, \"cumul\": 303.58}, {\"doy\": \"07-22\", \"mm\": 7.0, \"cumul\": 310.58}, {\"doy\": \"07-23\", \"mm\": 0.0, \"cumul\": 310.58}, {\"doy\": \"07-24\", \"mm\": 0.0, \"cumul\": 310.58}, {\"doy\": \"07-25\", \"mm\": 0.0, \"cumul\": 310.58}, {\"doy\": \"07-26\", \"mm\": 0.0, \"cumul\": 310.58}, {\"doy\": \"07-27\", \"mm\": 7.0, \"cumul\": 317.58}, {\"doy\": \"07-28\", \"mm\": 0.0, \"cumul\": 317.58}, {\"doy\": \"07-29\", \"mm\": 0.0, \"cumul\": 317.58}, {\"doy\": \"07-30\", \"mm\": 7.0, \"cumul\": 324.58}, {\"doy\": \"07-31\", \"mm\": 0.0, \"cumul\": 324.58}, {\"doy\": \"08-01\", \"mm\": 0.0, \"cumul\": 324.58}, {\"doy\": \"08-02\", \"mm\": 0.0, \"cumul\": 324.58}, {\"doy\": \"08-03\", \"mm\": 8.0, \"cumul\": 332.58}, {\"doy\": \"08-04\", \"mm\": 0.0, \"cumul\": 332.58}, {\"doy\": \"08-05\", \"mm\": 0.0, \"cumul\": 332.58}, {\"doy\": \"08-06\", \"mm\": 0.0, \"cumul\": 332.58}, {\"doy\": \"08-07\", \"mm\": 0.0, \"cumul\": 332.58}, {\"doy\": \"08-08\", \"mm\": 8.0, \"cumul\": 340.58}, {\"doy\": \"08-09\", \"mm\": 8.0, \"cumul\": 348.58}, {\"doy\": \"08-10\", \"mm\": 0.0, \"cumul\": 348.58}, {\"doy\": \"08-11\", \"mm\": 0.0, \"cumul\": 348.58}, {\"doy\": \"08-12\", \"mm\": 0.0, \"cumul\": 348.58}, {\"doy\": \"08-13\", \"mm\": 0.0, \"cumul\": 348.58}, {\"doy\": \"08-14\", \"mm\": 0.0, \"cumul\": 348.58}, {\"doy\": \"08-15\", \"mm\": 16.0, \"cumul\": 364.58}, {\"doy\": \"08-16\", \"mm\": 0.0, \"cumul\": 364.58}, {\"doy\": \"08-17\", \"mm\": 0.0, \"cumul\": 364.58}, {\"doy\": \"08-18\", \"mm\": 0.0, \"cumul\": 364.58}, {\"doy\": \"08-19\", \"mm\": 0.0, \"cumul\": 364.58}, {\"doy\": \"08-20\", \"mm\": 0.0, \"cumul\": 364.58}, {\"doy\": \"08-21\", \"mm\": 8.0, \"cumul\": 372.58}, {\"doy\": \"08-22\", \"mm\": 8.0, \"cumul\": 380.58}, {\"doy\": \"08-23\", \"mm\": 0.0, \"cumul\": 380.58}, {\"doy\": \"08-24\", \"mm\": 0.0, \"cumul\": 380.58}, {\"doy\": \"08-25\", \"mm\": 8.0, \"cumul\": 388.58}, {\"doy\": \"08-26\", \"mm\": 0.0, \"cumul\": 388.58}, {\"doy\": \"08-27\", \"mm\": 0.0, \"cumul\": 388.58}, {\"doy\": \"08-28\", \"mm\": 0.0, \"cumul\": 388.58}, {\"doy\": \"08-29\", \"mm\": 0.0, \"cumul\": 388.58}, {\"doy\": \"08-30\", \"mm\": 0.0, \"cumul\": 388.58}, {\"doy\": \"08-31\", \"mm\": 0.0, \"cumul\": 388.58}, {\"doy\": \"09-01\", \"mm\": 0.0, \"cumul\": 388.58}, {\"doy\": \"09-02\", \"mm\": 0.0, \"cumul\": 388.58}, {\"doy\": \"09-03\", \"mm\": 8.0, \"cumul\": 396.58}, {\"doy\": \"09-04\", \"mm\": 0.0, \"cumul\": 396.58}, {\"doy\": \"09-05\", \"mm\": 0.0, \"cumul\": 396.58}, {\"doy\": \"09-06\", \"mm\": 0.0, \"cumul\": 396.58}, {\"doy\": \"09-07\", \"mm\": 0.0, \"cumul\": 396.58}, {\"doy\": \"09-08\", \"mm\": 0.0, \"cumul\": 396.58}, {\"doy\": \"09-09\", \"mm\": 0.0, \"cumul\": 396.58}, {\"doy\": \"09-10\", \"mm\": 0.0, \"cumul\": 396.58}, {\"doy\": \"09-11\", \"mm\": 8.0, \"cumul\": 404.58}, {\"doy\": \"09-12\", \"mm\": 8.0, \"cumul\": 412.58}, {\"doy\": \"09-13\", \"mm\": 0.0, \"cumul\": 412.58}, {\"doy\": \"09-14\", \"mm\": 0.0, \"cumul\": 412.58}, {\"doy\": \"09-15\", \"mm\": 0.0, \"cumul\": 412.58}, {\"doy\": \"09-16\", \"mm\": 0.0, \"cumul\": 412.58}, {\"doy\": \"09-17\", \"mm\": 0.0, \"cumul\": 412.58}, {\"doy\": \"09-18\", \"mm\": 0.0, \"cumul\": 412.58}, {\"doy\": \"09-19\", \"mm\": 8.0, \"cumul\": 420.58}, {\"doy\": \"09-20\", \"mm\": 8.0, \"cumul\": 428.58}, {\"doy\": \"09-21\", \"mm\": 16.0, \"cumul\": 444.58}, {\"doy\": \"09-22\", \"mm\": 0.0, \"cumul\": 444.58}, {\"doy\": \"09-23\", \"mm\": 0.0, \"cumul\": 444.58}, {\"doy\": \"09-24\", \"mm\": 0.0, \"cumul\": 444.58}, {\"doy\": \"09-25\", \"mm\": 8.0, \"cumul\": 452.58}, {\"doy\": \"09-26\", \"mm\": 0.0, \"cumul\": 452.58}, {\"doy\": \"09-27\", \"mm\": 0.0, \"cumul\": 452.58}, {\"doy\": \"09-28\", \"mm\": 0.0, \"cumul\": 452.58}, {\"doy\": \"09-29\", \"mm\": 0.0, \"cumul\": 452.58}, {\"doy\": \"09-30\", \"mm\": 0.0, \"cumul\": 452.58}, {\"doy\": \"10-01\", \"mm\": 0.0, \"cumul\": 452.58}, {\"doy\": \"10-02\", \"mm\": 0.0, \"cumul\": 452.58}, {\"doy\": \"10-03\", \"mm\": 0.0, \"cumul\": 452.58}, {\"doy\": \"10-04\", \"mm\": 6.0, \"cumul\": 458.58}, {\"doy\": \"10-05\", \"mm\": 0.0, \"cumul\": 458.58}, {\"doy\": \"10-06\", \"mm\": 0.0, \"cumul\": 458.58}, {\"doy\": \"10-07\", \"mm\": 0.0, \"cumul\": 458.58}, {\"doy\": \"10-08\", \"mm\": 0.0, \"cumul\": 458.58}, {\"doy\": \"10-09\", \"mm\": 6.0, \"cumul\": 464.58}, {\"doy\": \"10-10\", \"mm\": 6.0, \"cumul\": 470.58}, {\"doy\": \"10-11\", \"mm\": 0.0, \"cumul\": 470.58}, {\"doy\": \"10-12\", \"mm\": 0.0, \"cumul\": 470.58}, {\"doy\": \"10-13\", \"mm\": 0.0, \"cumul\": 470.58}, {\"doy\": \"10-14\", \"mm\": 0.0, \"cumul\": 470.58}, {\"doy\": \"10-15\", \"mm\": 0.0, \"cumul\": 470.58}, {\"doy\": \"10-16\", \"mm\": 6.0, \"cumul\": 476.58}, {\"doy\": \"10-17\", \"mm\": 0.0, \"cumul\": 476.58}, {\"doy\": \"10-18\", \"mm\": 0.0, \"cumul\": 476.58}, {\"doy\": \"10-19\", \"mm\": 0.0, \"cumul\": 476.58}, {\"doy\": \"10-20\", \"mm\": 0.0, \"cumul\": 476.58}, {\"doy\": \"10-21\", \"mm\": 6.0, \"cumul\": 482.58}, {\"doy\": \"10-22\", \"mm\": 0.0, \"cumul\": 482.58}, {\"doy\": \"10-23\", \"mm\": 0.0, \"cumul\": 482.58}, {\"doy\": \"10-24\", \"mm\": 0.0, \"cumul\": 482.58}, {\"doy\": \"10-25\", \"mm\": 6.0, \"cumul\": 488.58}, {\"doy\": \"10-26\", \"mm\": 6.0, \"cumul\": 494.58}, {\"doy\": \"10-27\", \"mm\": 0.0, \"cumul\": 494.58}, {\"doy\": \"10-28\", \"mm\": 6.0, \"cumul\": 500.58}, {\"doy\": \"10-29\", \"mm\": 0.0, \"cumul\": 500.58}, {\"doy\": \"10-30\", \"mm\": 0.0, \"cumul\": 500.58}, {\"doy\": \"10-31\", \"mm\": 0.0, \"cumul\": 500.58}, {\"doy\": \"11-01\", \"mm\": 0.0, \"cumul\": 500.58}, {\"doy\": \"11-02\", \"mm\": 6.0, \"cumul\": 506.58}, {\"doy\": \"11-03\", \"mm\": 6.0, \"cumul\": 512.5799999999999}, {\"doy\": \"11-04\", \"mm\": 0.0, \"cumul\": 512.5799999999999}, {\"doy\": \"11-05\", \"mm\": 0.0, \"cumul\": 512.5799999999999}, {\"doy\": \"11-06\", \"mm\": 0.0, \"cumul\": 512.5799999999999}, {\"doy\": \"11-07\", \"mm\": 6.0, \"cumul\": 518.5799999999999}, {\"doy\": \"11-08\", \"mm\": 6.0, \"cumul\": 524.5799999999999}, {\"doy\": \"11-09\", \"mm\": 0.0, \"cumul\": 524.5799999999999}, {\"doy\": \"11-10\", \"mm\": 0.0, \"cumul\": 524.5799999999999}, {\"doy\": \"11-11\", \"mm\": 0.0, \"cumul\": 524.5799999999999}, {\"doy\": \"11-12\", \"mm\": 0.0, \"cumul\": 524.5799999999999}, {\"doy\": \"11-13\", \"mm\": 0.0, \"cumul\": 524.5799999999999}, {\"doy\": \"11-14\", \"mm\": 6.0, \"cumul\": 530.5799999999999}, {\"doy\": \"11-15\", \"mm\": 0.0, \"cumul\": 530.5799999999999}, {\"doy\": \"11-16\", \"mm\": 0.0, \"cumul\": 530.5799999999999}, {\"doy\": \"11-17\", \"mm\": 0.0, \"cumul\": 530.5799999999999}, {\"doy\": \"11-18\", \"mm\": 6.0, \"cumul\": 536.5799999999999}, {\"doy\": \"11-19\", \"mm\": 0.0, \"cumul\": 536.5799999999999}, {\"doy\": \"11-20\", \"mm\": 0.0, \"cumul\": 536.5799999999999}, {\"doy\": \"11-21\", \"mm\": 0.0, \"cumul\": 536.5799999999999}, {\"doy\": \"11-22\", \"mm\": 0.0, \"cumul\": 536.5799999999999}, {\"doy\": \"11-23\", \"mm\": 0.0, \"cumul\": 536.5799999999999}, {\"doy\": \"11-24\", \"mm\": 6.0, \"cumul\": 542.5799999999999}, {\"doy\": \"11-25\", \"mm\": 6.0, \"cumul\": 548.5799999999999}, {\"doy\": \"11-26\", \"mm\": 0.0, \"cumul\": 548.5799999999999}, {\"doy\": \"11-27\", \"mm\": 0.0, \"cumul\": 548.5799999999999}, {\"doy\": \"11-28\", \"mm\": 0.0, \"cumul\": 548.5799999999999}, {\"doy\": \"11-29\", \"mm\": 0.0, \"cumul\": 548.5799999999999}, {\"doy\": \"11-30\", \"mm\": 0.0, \"cumul\": 548.5799999999999}, {\"doy\": \"12-01\", \"mm\": 0.0, \"cumul\": 548.5799999999999}, {\"doy\": \"12-02\", \"mm\": 0.0, \"cumul\": 548.5799999999999}, {\"doy\": \"12-03\", \"mm\": 5.0, \"cumul\": 553.5799999999999}, {\"doy\": \"12-04\", \"mm\": 0.0, \"cumul\": 553.5799999999999}, {\"doy\": \"12-05\", \"mm\": 0.0, \"cumul\": 553.5799999999999}, {\"doy\": \"12-06\", \"mm\": 0.0, \"cumul\": 553.5799999999999}, {\"doy\": \"12-07\", \"mm\": 5.0, \"cumul\": 558.5799999999999}, {\"doy\": \"12-08\", \"mm\": 0.0, \"cumul\": 558.5799999999999}, {\"doy\": \"12-09\", \"mm\": 0.0, \"cumul\": 558.5799999999999}, {\"doy\": \"12-10\", \"mm\": 0.0, \"cumul\": 558.5799999999999}, {\"doy\": \"12-11\", \"mm\": 5.0, \"cumul\": 563.5799999999999}, {\"doy\": \"12-12\", \"mm\": 0.0, \"cumul\": 563.5799999999999}, {\"doy\": \"12-13\", \"mm\": 0.0, \"cumul\": 563.5799999999999}, {\"doy\": \"12-14\", \"mm\": 0.0, \"cumul\": 563.5799999999999}, {\"doy\": \"12-15\", \"mm\": 0.0, \"cumul\": 563.5799999999999}, {\"doy\": \"12-16\", \"mm\": 0.0, \"cumul\": 563.5799999999999}, {\"doy\": \"12-17\", \"mm\": 0.0, \"cumul\": 563.5799999999999}, {\"doy\": \"12-18\", \"mm\": 0.0, \"cumul\": 563.5799999999999}, {\"doy\": \"12-19\", \"mm\": 0.0, \"cumul\": 563.5799999999999}, {\"doy\": \"12-20\", \"mm\": 5.0, \"cumul\": 568.5799999999999}, {\"doy\": \"12-21\", \"mm\": 5.0, \"cumul\": 573.5799999999999}, {\"doy\": \"12-22\", \"mm\": 0.0, \"cumul\": 573.5799999999999}, {\"doy\": \"12-23\", \"mm\": 0.0, \"cumul\": 573.5799999999999}, {\"doy\": \"12-24\", \"mm\": 0.0, \"cumul\": 573.5799999999999}, {\"doy\": \"12-25\", \"mm\": 0.0, \"cumul\": 573.5799999999999}, {\"doy\": \"12-26\", \"mm\": 0.0, \"cumul\": 573.5799999999999}, {\"doy\": \"12-27\", \"mm\": 0.0, \"cumul\": 573.5799999999999}, {\"doy\": \"12-28\", \"mm\": 0.0, \"cumul\": 573.5799999999999}, {\"doy\": \"12-29\", \"mm\": 0.0, \"cumul\": 573.5799999999999}, {\"doy\": \"12-30\", \"mm\": 0.0, \"cumul\": 573.5799999999999}, {\"doy\": \"12-31\", \"mm\": 0.0, \"cumul\": 573.5799999999999}]}}, {\"mode\": \"vega-lite\"});\n",
       "</script>"
      ],
      "text/plain": [
       "alt.Chart(...)"
      ]
     },
     "execution_count": 132,
     "metadata": {},
     "output_type": "execute_result"
    }
   ],
   "source": [
    "alt.Chart(precipitations).mark_area(\n",
    "    color=\"lightblue\",\n",
    "    interpolate='step-after',\n",
    "    line=True\n",
    ").encode(\n",
    "    x=alt.X('monthdate(doy):T', title = \"Jour de l'année\"),\n",
    "    y=alt.Y('cumul', title = \"Pluie cumulée depuis le début de l'année\")\n",
    ").properties(width=600)"
   ]
  },
  {
   "cell_type": "code",
   "execution_count": 135,
   "metadata": {},
   "outputs": [
    {
     "name": "stdout",
     "output_type": "stream",
     "text": [
      "cuve  0 , min =  0 , max =  29186.0\n",
      "****\n",
      "diff =  29186.0\n",
      "****\n",
      "cuve  1000 , min =  1000 , max =  30186.0\n",
      "****\n",
      "diff =  29186.0\n",
      "****\n",
      "cuve  3000 , min =  3000 , max =  32186.0\n",
      "****\n",
      "diff =  29186.0\n",
      "****\n",
      "cuve  20000 , min =  20000 , max =  49186.0\n",
      "****\n",
      "diff =  29186.0\n",
      "****\n",
      "cuve  0 , min =  0 , max =  29186.0\n",
      "****\n",
      "diff =  29186.0\n",
      "****\n"
     ]
    }
   ],
   "source": [
    "# Calcul du volume d'eau contenu dans la cuve\n",
    "\n",
    "# Là on en reparle mais c'est pas du tout optimal.\n",
    "# En Python les boucles sont etrêmement lentes. Il aurait fallut faire ça avec Pandas directement.\n",
    "\n",
    "cuve = [0]\n",
    "for p in [0, 1000, 3000, 20000, 0]:\n",
    "    cuve = [p]\n",
    "    for index in range(len(df)):\n",
    "        cuve.append(cuve[index-1] + df['apportsTotaux'].iloc[index] - df['besoinsTotaux'].iloc[index])\n",
    "    print('cuve ', p, ', min = ', min(cuve), ', max = ', max(cuve))\n",
    "    print('****')\n",
    "    print('diff = ', abs(min(cuve)-max(cuve)))\n",
    "    print('****')\n",
    "\n",
    "    "
   ]
  },
  {
   "cell_type": "code",
   "execution_count": 136,
   "metadata": {},
   "outputs": [],
   "source": [
    "cuve = [0]\n",
    "\n",
    "for index in range(len(df)):\n",
    "    cuve.append(cuve[index-1] + df['apportsTotaux'].iloc[index] - df['besoinsTotaux'].iloc[index])\n",
    "\n",
    "cuve=pd.DataFrame(list(zip(cuve, range(len(cuve)))), \n",
    "                  columns=['vol', 'doy'])"
   ]
  },
  {
   "cell_type": "code",
   "execution_count": 137,
   "metadata": {},
   "outputs": [
    {
     "data": {
      "text/html": [
       "<div>\n",
       "<style scoped>\n",
       "    .dataframe tbody tr th:only-of-type {\n",
       "        vertical-align: middle;\n",
       "    }\n",
       "\n",
       "    .dataframe tbody tr th {\n",
       "        vertical-align: top;\n",
       "    }\n",
       "\n",
       "    .dataframe thead th {\n",
       "        text-align: right;\n",
       "    }\n",
       "</style>\n",
       "<table border=\"1\" class=\"dataframe\">\n",
       "  <thead>\n",
       "    <tr style=\"text-align: right;\">\n",
       "      <th></th>\n",
       "      <th>vol</th>\n",
       "      <th>doy</th>\n",
       "    </tr>\n",
       "  </thead>\n",
       "  <tbody>\n",
       "    <tr>\n",
       "      <th>0</th>\n",
       "      <td>0.0</td>\n",
       "      <td>0</td>\n",
       "    </tr>\n",
       "    <tr>\n",
       "      <th>1</th>\n",
       "      <td>0.0</td>\n",
       "      <td>1</td>\n",
       "    </tr>\n",
       "    <tr>\n",
       "      <th>2</th>\n",
       "      <td>0.0</td>\n",
       "      <td>2</td>\n",
       "    </tr>\n",
       "    <tr>\n",
       "      <th>3</th>\n",
       "      <td>0.0</td>\n",
       "      <td>3</td>\n",
       "    </tr>\n",
       "    <tr>\n",
       "      <th>4</th>\n",
       "      <td>0.0</td>\n",
       "      <td>4</td>\n",
       "    </tr>\n",
       "    <tr>\n",
       "      <th>...</th>\n",
       "      <td>...</td>\n",
       "      <td>...</td>\n",
       "    </tr>\n",
       "    <tr>\n",
       "      <th>361</th>\n",
       "      <td>25189.0</td>\n",
       "      <td>361</td>\n",
       "    </tr>\n",
       "    <tr>\n",
       "      <th>362</th>\n",
       "      <td>29186.0</td>\n",
       "      <td>362</td>\n",
       "    </tr>\n",
       "    <tr>\n",
       "      <th>363</th>\n",
       "      <td>25189.0</td>\n",
       "      <td>363</td>\n",
       "    </tr>\n",
       "    <tr>\n",
       "      <th>364</th>\n",
       "      <td>29186.0</td>\n",
       "      <td>364</td>\n",
       "    </tr>\n",
       "    <tr>\n",
       "      <th>365</th>\n",
       "      <td>25189.0</td>\n",
       "      <td>365</td>\n",
       "    </tr>\n",
       "  </tbody>\n",
       "</table>\n",
       "<p>366 rows × 2 columns</p>\n",
       "</div>"
      ],
      "text/plain": [
       "         vol  doy\n",
       "0        0.0    0\n",
       "1        0.0    1\n",
       "2        0.0    2\n",
       "3        0.0    3\n",
       "4        0.0    4\n",
       "..       ...  ...\n",
       "361  25189.0  361\n",
       "362  29186.0  362\n",
       "363  25189.0  363\n",
       "364  29186.0  364\n",
       "365  25189.0  365\n",
       "\n",
       "[366 rows x 2 columns]"
      ]
     },
     "execution_count": 137,
     "metadata": {},
     "output_type": "execute_result"
    }
   ],
   "source": [
    "cuve"
   ]
  },
  {
   "cell_type": "code",
   "execution_count": null,
   "metadata": {},
   "outputs": [],
   "source": []
  }
 ],
 "metadata": {
  "kernelspec": {
   "display_name": ".venv",
   "language": "python",
   "name": "python3"
  },
  "language_info": {
   "codemirror_mode": {
    "name": "ipython",
    "version": 3
   },
   "file_extension": ".py",
   "mimetype": "text/x-python",
   "name": "python",
   "nbconvert_exporter": "python",
   "pygments_lexer": "ipython3",
   "version": "3.11.2"
  },
  "orig_nbformat": 4,
  "vscode": {
   "interpreter": {
    "hash": "e90112cafb4d1c901daea2540376a25af3d49cb7f6758657662eedef0022234f"
   }
  }
 },
 "nbformat": 4,
 "nbformat_minor": 2
}
