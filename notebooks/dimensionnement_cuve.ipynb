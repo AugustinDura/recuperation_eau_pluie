{
 "cells": [
  {
   "attachments": {},
   "cell_type": "markdown",
   "metadata": {},
   "source": [
    "# Dimensionnement d'une cuve"
   ]
  },
  {
   "cell_type": "code",
   "execution_count": 1,
   "metadata": {},
   "outputs": [],
   "source": [
    "import numpy as np\n",
    "import pandas as pd\n",
    "import altair as alt\n",
    "import tomli\n"
   ]
  },
  {
   "attachments": {},
   "cell_type": "markdown",
   "metadata": {},
   "source": [
    "## Objectif\n",
    "\n",
    "On cherche ici à déterminer les dimensions d'une cuve de récupération d'eau de pluie telles que celle-ci puisse couvrir les besoins d'une habitation.\n",
    "On dispose des données suivantes : \n",
    "- pluviométrie mensuelle moyenne ;\n",
    "- consommation quotidienne moyenne."
   ]
  },
  {
   "cell_type": "markdown",
   "metadata": {},
   "source": [
    "## Méthode\n",
    "\n",
    "On travail avec un pas de temps quotidien. \n",
    "Dans un premier temps on simule une pluviométrie quotidienne à partir des moyennes mensuelles.\n",
    "Puis on considère une cuve de volume infini, qui chaque jour se remplit avec la pluie et se vide avec les consommations.\n",
    "On en déduit enfin le volume minimal de la cuve pour absorber tous les besoins. \n",
    "\n",
    "On répète cette opération $n$ fois pour s'assurer que la cuve est suffisante en cas d'année sèche. \n"
   ]
  },
  {
   "attachments": {},
   "cell_type": "markdown",
   "metadata": {},
   "source": [
    "## Modèle de pluviométrie\n",
    "\n",
    "### Pluviométrie moyenne\n",
    "\n",
    "Considérons la fiche climatique de Clermont-Ferrand. "
   ]
  },
  {
   "cell_type": "code",
   "execution_count": 2,
   "metadata": {},
   "outputs": [
    {
     "data": {
      "text/html": [
       "<div>\n",
       "<style scoped>\n",
       "    .dataframe tbody tr th:only-of-type {\n",
       "        vertical-align: middle;\n",
       "    }\n",
       "\n",
       "    .dataframe tbody tr th {\n",
       "        vertical-align: top;\n",
       "    }\n",
       "\n",
       "    .dataframe thead th {\n",
       "        text-align: right;\n",
       "    }\n",
       "</style>\n",
       "<table border=\"1\" class=\"dataframe\">\n",
       "  <thead>\n",
       "    <tr style=\"text-align: right;\">\n",
       "      <th></th>\n",
       "      <th>mois</th>\n",
       "      <th>hauteur</th>\n",
       "      <th>nb_jours</th>\n",
       "      <th>monthnum</th>\n",
       "    </tr>\n",
       "  </thead>\n",
       "  <tbody>\n",
       "    <tr>\n",
       "      <th>0</th>\n",
       "      <td>janvier</td>\n",
       "      <td>26.6</td>\n",
       "      <td>6.4</td>\n",
       "      <td>1</td>\n",
       "    </tr>\n",
       "    <tr>\n",
       "      <th>1</th>\n",
       "      <td>fevrier</td>\n",
       "      <td>18.7</td>\n",
       "      <td>5.0</td>\n",
       "      <td>2</td>\n",
       "    </tr>\n",
       "    <tr>\n",
       "      <th>2</th>\n",
       "      <td>mars</td>\n",
       "      <td>26.1</td>\n",
       "      <td>6.5</td>\n",
       "      <td>3</td>\n",
       "    </tr>\n",
       "    <tr>\n",
       "      <th>3</th>\n",
       "      <td>avril</td>\n",
       "      <td>51.1</td>\n",
       "      <td>8.3</td>\n",
       "      <td>4</td>\n",
       "    </tr>\n",
       "    <tr>\n",
       "      <th>4</th>\n",
       "      <td>mai</td>\n",
       "      <td>66.5</td>\n",
       "      <td>9.4</td>\n",
       "      <td>5</td>\n",
       "    </tr>\n",
       "    <tr>\n",
       "      <th>5</th>\n",
       "      <td>juin</td>\n",
       "      <td>67.5</td>\n",
       "      <td>8.0</td>\n",
       "      <td>6</td>\n",
       "    </tr>\n",
       "    <tr>\n",
       "      <th>6</th>\n",
       "      <td>juillet</td>\n",
       "      <td>63.3</td>\n",
       "      <td>7.4</td>\n",
       "      <td>7</td>\n",
       "    </tr>\n",
       "    <tr>\n",
       "      <th>7</th>\n",
       "      <td>aout</td>\n",
       "      <td>62.0</td>\n",
       "      <td>7.5</td>\n",
       "      <td>8</td>\n",
       "    </tr>\n",
       "    <tr>\n",
       "      <th>8</th>\n",
       "      <td>septembre</td>\n",
       "      <td>57.5</td>\n",
       "      <td>6.7</td>\n",
       "      <td>9</td>\n",
       "    </tr>\n",
       "    <tr>\n",
       "      <th>9</th>\n",
       "      <td>octobre</td>\n",
       "      <td>48.8</td>\n",
       "      <td>7.8</td>\n",
       "      <td>10</td>\n",
       "    </tr>\n",
       "    <tr>\n",
       "      <th>10</th>\n",
       "      <td>novembre</td>\n",
       "      <td>46.2</td>\n",
       "      <td>7.8</td>\n",
       "      <td>11</td>\n",
       "    </tr>\n",
       "    <tr>\n",
       "      <th>11</th>\n",
       "      <td>decembre</td>\n",
       "      <td>29.1</td>\n",
       "      <td>6.4</td>\n",
       "      <td>12</td>\n",
       "    </tr>\n",
       "  </tbody>\n",
       "</table>\n",
       "</div>"
      ],
      "text/plain": [
       "         mois  hauteur  nb_jours   monthnum\n",
       "0     janvier     26.6       6.4          1\n",
       "1     fevrier     18.7       5.0          2\n",
       "2        mars     26.1       6.5          3\n",
       "3       avril     51.1       8.3          4\n",
       "4         mai     66.5       9.4          5\n",
       "5        juin     67.5       8.0          6\n",
       "6     juillet     63.3       7.4          7\n",
       "7        aout     62.0       7.5          8\n",
       "8   septembre     57.5       6.7          9\n",
       "9     octobre     48.8       7.8         10\n",
       "10   novembre     46.2       7.8         11\n",
       "11   decembre     29.1       6.4         12"
      ]
     },
     "execution_count": 2,
     "metadata": {},
     "output_type": "execute_result"
    }
   ],
   "source": [
    "#Donnees\n",
    "moyenne_clermont = pd.read_csv('../data/fiche_climat_clermont.csv')\n",
    "#donnees = pd.read_csv('../data/donnees.csv', sep=',', index_col=\"name\")\n",
    "moyenne_clermont"
   ]
  },
  {
   "attachments": {},
   "cell_type": "markdown",
   "metadata": {},
   "source": [
    "Et visualisons-la :"
   ]
  },
  {
   "cell_type": "code",
   "execution_count": 3,
   "metadata": {},
   "outputs": [
    {
     "data": {
      "text/html": [
       "\n",
       "<div id=\"altair-viz-9120322f96a54fe7a69feca626ba058f\"></div>\n",
       "<script type=\"text/javascript\">\n",
       "  var VEGA_DEBUG = (typeof VEGA_DEBUG == \"undefined\") ? {} : VEGA_DEBUG;\n",
       "  (function(spec, embedOpt){\n",
       "    let outputDiv = document.currentScript.previousElementSibling;\n",
       "    if (outputDiv.id !== \"altair-viz-9120322f96a54fe7a69feca626ba058f\") {\n",
       "      outputDiv = document.getElementById(\"altair-viz-9120322f96a54fe7a69feca626ba058f\");\n",
       "    }\n",
       "    const paths = {\n",
       "      \"vega\": \"https://cdn.jsdelivr.net/npm//vega@5?noext\",\n",
       "      \"vega-lib\": \"https://cdn.jsdelivr.net/npm//vega-lib?noext\",\n",
       "      \"vega-lite\": \"https://cdn.jsdelivr.net/npm//vega-lite@4.17.0?noext\",\n",
       "      \"vega-embed\": \"https://cdn.jsdelivr.net/npm//vega-embed@6?noext\",\n",
       "    };\n",
       "\n",
       "    function maybeLoadScript(lib, version) {\n",
       "      var key = `${lib.replace(\"-\", \"\")}_version`;\n",
       "      return (VEGA_DEBUG[key] == version) ?\n",
       "        Promise.resolve(paths[lib]) :\n",
       "        new Promise(function(resolve, reject) {\n",
       "          var s = document.createElement('script');\n",
       "          document.getElementsByTagName(\"head\")[0].appendChild(s);\n",
       "          s.async = true;\n",
       "          s.onload = () => {\n",
       "            VEGA_DEBUG[key] = version;\n",
       "            return resolve(paths[lib]);\n",
       "          };\n",
       "          s.onerror = () => reject(`Error loading script: ${paths[lib]}`);\n",
       "          s.src = paths[lib];\n",
       "        });\n",
       "    }\n",
       "\n",
       "    function showError(err) {\n",
       "      outputDiv.innerHTML = `<div class=\"error\" style=\"color:red;\">${err}</div>`;\n",
       "      throw err;\n",
       "    }\n",
       "\n",
       "    function displayChart(vegaEmbed) {\n",
       "      vegaEmbed(outputDiv, spec, embedOpt)\n",
       "        .catch(err => showError(`Javascript Error: ${err.message}<br>This usually means there's a typo in your chart specification. See the javascript console for the full traceback.`));\n",
       "    }\n",
       "\n",
       "    if(typeof define === \"function\" && define.amd) {\n",
       "      requirejs.config({paths});\n",
       "      require([\"vega-embed\"], displayChart, err => showError(`Error loading script: ${err.message}`));\n",
       "    } else {\n",
       "      maybeLoadScript(\"vega\", \"5\")\n",
       "        .then(() => maybeLoadScript(\"vega-lite\", \"4.17.0\"))\n",
       "        .then(() => maybeLoadScript(\"vega-embed\", \"6\"))\n",
       "        .catch(showError)\n",
       "        .then(() => displayChart(vegaEmbed));\n",
       "    }\n",
       "  })({\"config\": {\"view\": {\"continuousWidth\": 400, \"continuousHeight\": 300}}, \"hconcat\": [{\"data\": {\"name\": \"data-40ffcc1c6d0a55b7024b3c0048fab682\"}, \"mark\": \"bar\", \"encoding\": {\"tooltip\": [{\"field\": \"month\", \"type\": \"ordinal\"}, {\"field\": \"hauteur\", \"type\": \"quantitative\"}], \"x\": {\"field\": \"monthnum\", \"title\": \"mois\", \"type\": \"temporal\"}, \"y\": {\"field\": \"hauteur\", \"title\": \"Hauteur\", \"type\": \"quantitative\"}}}, {\"data\": {\"name\": \"data-40ffcc1c6d0a55b7024b3c0048fab682\"}, \"mark\": {\"type\": \"bar\", \"color\": \"orange\"}, \"encoding\": {\"tooltip\": [{\"field\": \"mois\", \"type\": \"nominal\"}, {\"field\": \"nb_jours\", \"type\": \"quantitative\"}], \"x\": {\"field\": \"month\", \"timeUnit\": \"month\", \"title\": \"Mois\", \"type\": \"nominal\"}, \"y\": {\"field\": \"nb_jours\", \"title\": \"Nombre de jours de pluie\", \"type\": \"quantitative\"}}}], \"$schema\": \"https://vega.github.io/schema/vega-lite/v4.17.0.json\", \"datasets\": {\"data-40ffcc1c6d0a55b7024b3c0048fab682\": [{\"index\": 0, \"mois\": \"janvier\", \"hauteur\": 26.6, \"nb_jours\": 6.4, \" monthnum\": 1}, {\"index\": 1, \"mois\": \"fevrier\", \"hauteur\": 18.7, \"nb_jours\": 5.0, \" monthnum\": 2}, {\"index\": 2, \"mois\": \"mars\", \"hauteur\": 26.1, \"nb_jours\": 6.5, \" monthnum\": 3}, {\"index\": 3, \"mois\": \"avril\", \"hauteur\": 51.1, \"nb_jours\": 8.3, \" monthnum\": 4}, {\"index\": 4, \"mois\": \"mai\", \"hauteur\": 66.5, \"nb_jours\": 9.4, \" monthnum\": 5}, {\"index\": 5, \"mois\": \"juin\", \"hauteur\": 67.5, \"nb_jours\": 8.0, \" monthnum\": 6}, {\"index\": 6, \"mois\": \"juillet\", \"hauteur\": 63.3, \"nb_jours\": 7.4, \" monthnum\": 7}, {\"index\": 7, \"mois\": \"aout\", \"hauteur\": 62.0, \"nb_jours\": 7.5, \" monthnum\": 8}, {\"index\": 8, \"mois\": \"septembre\", \"hauteur\": 57.5, \"nb_jours\": 6.7, \" monthnum\": 9}, {\"index\": 9, \"mois\": \"octobre\", \"hauteur\": 48.8, \"nb_jours\": 7.8, \" monthnum\": 10}, {\"index\": 10, \"mois\": \"novembre\", \"hauteur\": 46.2, \"nb_jours\": 7.8, \" monthnum\": 11}, {\"index\": 11, \"mois\": \"decembre\", \"hauteur\": 29.1, \"nb_jours\": 6.4, \" monthnum\": 12}]}}, {\"mode\": \"vega-lite\"});\n",
       "</script>"
      ],
      "text/plain": [
       "alt.HConcatChart(...)"
      ]
     },
     "execution_count": 3,
     "metadata": {},
     "output_type": "execute_result"
    }
   ],
   "source": [
    "alt.Chart(moyenne_clermont.reset_index()).mark_bar().encode(\n",
    "    x = alt.X('monthnum:T', title='mois'),\n",
    "    y = alt.Y('hauteur', title='Hauteur'),\n",
    "    tooltip=['month:O', 'hauteur']\n",
    ") | alt.Chart(moyenne_clermont.reset_index()).mark_bar(color='orange').encode(\n",
    "    x = alt.X('month(month):N', title='Mois'), # , sort='mois')\n",
    "    y = alt.Y('nb_jours', title='Nombre de jours de pluie'),\n",
    "    tooltip=['mois', 'nb_jours']\n",
    ")\n"
   ]
  },
  {
   "cell_type": "code",
   "execution_count": 4,
   "metadata": {},
   "outputs": [],
   "source": [
    "# Extraction des données\n",
    "with open(\"../data/conf.toml\", \"rb\") as f:\n",
    "    toml_dict = tomli.load(f)\n",
    "n_inhabitants = toml_dict['inhabitants']\n",
    "surface_garden = toml_dict['surface_garden']\n",
    "surface_roof = toml_dict['surface_roof']\n"
   ]
  },
  {
   "attachments": {},
   "cell_type": "markdown",
   "metadata": {},
   "source": [
    "A partir de ces données, on simule une année de pluviométrie.\n",
    "\n",
    "### Pluviométrie simulée\n",
    "\n",
    "On simule les pluies quotidiennes à partir des données mensuelles observées. \n",
    "\n",
    "Le nombre de jours de pluie dans le mois suit une loi normale centrée autour du nombre moyen observé.\n",
    "A partir du nombre de jours de pluie simulé et la pluviométrie moyenne observée on calcule une pluviométrie moyenne pour chaque jour de pluie simulé. La pluviométrie simulée suit une loi normale centrée autour de cette valeur. "
   ]
  },
  {
   "cell_type": "code",
   "execution_count": 5,
   "metadata": {},
   "outputs": [],
   "source": [
    "from recuperation_eau_pluie import simulation\n"
   ]
  },
  {
   "cell_type": "code",
   "execution_count": 6,
   "metadata": {},
   "outputs": [
    {
     "data": {
      "text/html": [
       "\n",
       "<div id=\"altair-viz-76405b164b6c4c13aaf990c1ada03ee8\"></div>\n",
       "<script type=\"text/javascript\">\n",
       "  var VEGA_DEBUG = (typeof VEGA_DEBUG == \"undefined\") ? {} : VEGA_DEBUG;\n",
       "  (function(spec, embedOpt){\n",
       "    let outputDiv = document.currentScript.previousElementSibling;\n",
       "    if (outputDiv.id !== \"altair-viz-76405b164b6c4c13aaf990c1ada03ee8\") {\n",
       "      outputDiv = document.getElementById(\"altair-viz-76405b164b6c4c13aaf990c1ada03ee8\");\n",
       "    }\n",
       "    const paths = {\n",
       "      \"vega\": \"https://cdn.jsdelivr.net/npm//vega@5?noext\",\n",
       "      \"vega-lib\": \"https://cdn.jsdelivr.net/npm//vega-lib?noext\",\n",
       "      \"vega-lite\": \"https://cdn.jsdelivr.net/npm//vega-lite@4.17.0?noext\",\n",
       "      \"vega-embed\": \"https://cdn.jsdelivr.net/npm//vega-embed@6?noext\",\n",
       "    };\n",
       "\n",
       "    function maybeLoadScript(lib, version) {\n",
       "      var key = `${lib.replace(\"-\", \"\")}_version`;\n",
       "      return (VEGA_DEBUG[key] == version) ?\n",
       "        Promise.resolve(paths[lib]) :\n",
       "        new Promise(function(resolve, reject) {\n",
       "          var s = document.createElement('script');\n",
       "          document.getElementsByTagName(\"head\")[0].appendChild(s);\n",
       "          s.async = true;\n",
       "          s.onload = () => {\n",
       "            VEGA_DEBUG[key] = version;\n",
       "            return resolve(paths[lib]);\n",
       "          };\n",
       "          s.onerror = () => reject(`Error loading script: ${paths[lib]}`);\n",
       "          s.src = paths[lib];\n",
       "        });\n",
       "    }\n",
       "\n",
       "    function showError(err) {\n",
       "      outputDiv.innerHTML = `<div class=\"error\" style=\"color:red;\">${err}</div>`;\n",
       "      throw err;\n",
       "    }\n",
       "\n",
       "    function displayChart(vegaEmbed) {\n",
       "      vegaEmbed(outputDiv, spec, embedOpt)\n",
       "        .catch(err => showError(`Javascript Error: ${err.message}<br>This usually means there's a typo in your chart specification. See the javascript console for the full traceback.`));\n",
       "    }\n",
       "\n",
       "    if(typeof define === \"function\" && define.amd) {\n",
       "      requirejs.config({paths});\n",
       "      require([\"vega-embed\"], displayChart, err => showError(`Error loading script: ${err.message}`));\n",
       "    } else {\n",
       "      maybeLoadScript(\"vega\", \"5\")\n",
       "        .then(() => maybeLoadScript(\"vega-lite\", \"4.17.0\"))\n",
       "        .then(() => maybeLoadScript(\"vega-embed\", \"6\"))\n",
       "        .catch(showError)\n",
       "        .then(() => displayChart(vegaEmbed));\n",
       "    }\n",
       "  })({\"config\": {\"view\": {\"continuousWidth\": 400, \"continuousHeight\": 300}}, \"data\": {\"name\": \"data-339f0e5c137257910a96512ae6f70e3c\"}, \"mark\": \"bar\", \"encoding\": {\"tooltip\": [{\"field\": \"precipitations\", \"type\": \"quantitative\"}], \"x\": {\"field\": \"index\", \"title\": \"Jour de l'ann\\u00e9e\", \"type\": \"temporal\"}, \"y\": {\"field\": \"precipitations\", \"title\": \"precipitations\", \"type\": \"quantitative\"}}, \"selection\": {\"selector001\": {\"type\": \"interval\", \"bind\": \"scales\", \"encodings\": [\"x\", \"y\"]}}, \"width\": 600, \"$schema\": \"https://vega.github.io/schema/vega-lite/v4.17.0.json\", \"datasets\": {\"data-339f0e5c137257910a96512ae6f70e3c\": [{\"index\": \"2023-01-01T00:00:00\", \"precipitations\": 0.0}, {\"index\": \"2023-01-02T00:00:00\", \"precipitations\": 0.0}, {\"index\": \"2023-01-03T00:00:00\", \"precipitations\": 0.0}, {\"index\": \"2023-01-04T00:00:00\", \"precipitations\": 0.0}, {\"index\": \"2023-01-05T00:00:00\", \"precipitations\": 0.0}, {\"index\": \"2023-01-06T00:00:00\", \"precipitations\": 5.2}, {\"index\": \"2023-01-07T00:00:00\", \"precipitations\": 0.0}, {\"index\": \"2023-01-08T00:00:00\", \"precipitations\": 0.0}, {\"index\": \"2023-01-09T00:00:00\", \"precipitations\": 0.0}, {\"index\": \"2023-01-10T00:00:00\", \"precipitations\": 0.0}, {\"index\": \"2023-01-11T00:00:00\", \"precipitations\": 3.7}, {\"index\": \"2023-01-12T00:00:00\", \"precipitations\": 0.0}, {\"index\": \"2023-01-13T00:00:00\", \"precipitations\": 0.0}, {\"index\": \"2023-01-14T00:00:00\", \"precipitations\": 0.0}, {\"index\": \"2023-01-15T00:00:00\", \"precipitations\": 0.0}, {\"index\": \"2023-01-16T00:00:00\", \"precipitations\": 0.0}, {\"index\": \"2023-01-17T00:00:00\", \"precipitations\": 0.0}, {\"index\": \"2023-01-18T00:00:00\", \"precipitations\": 0.0}, {\"index\": \"2023-01-19T00:00:00\", \"precipitations\": 0.0}, {\"index\": \"2023-01-20T00:00:00\", \"precipitations\": 0.0}, {\"index\": \"2023-01-21T00:00:00\", \"precipitations\": 0.0}, {\"index\": \"2023-01-22T00:00:00\", \"precipitations\": 5.1}, {\"index\": \"2023-01-23T00:00:00\", \"precipitations\": 0.0}, {\"index\": \"2023-01-24T00:00:00\", \"precipitations\": 7.1}, {\"index\": \"2023-01-25T00:00:00\", \"precipitations\": 0.0}, {\"index\": \"2023-01-26T00:00:00\", \"precipitations\": 0.0}, {\"index\": \"2023-01-27T00:00:00\", \"precipitations\": 0.0}, {\"index\": \"2023-01-28T00:00:00\", \"precipitations\": 0.0}, {\"index\": \"2023-01-29T00:00:00\", \"precipitations\": 3.0}, {\"index\": \"2023-01-30T00:00:00\", \"precipitations\": 0.0}, {\"index\": \"2023-01-31T00:00:00\", \"precipitations\": 0.0}, {\"index\": \"2023-02-01T00:00:00\", \"precipitations\": 0.0}, {\"index\": \"2023-02-02T00:00:00\", \"precipitations\": 0.0}, {\"index\": \"2023-02-03T00:00:00\", \"precipitations\": 0.0}, {\"index\": \"2023-02-04T00:00:00\", \"precipitations\": 0.0}, {\"index\": \"2023-02-05T00:00:00\", \"precipitations\": 0.0}, {\"index\": \"2023-02-06T00:00:00\", \"precipitations\": 3.1}, {\"index\": \"2023-02-07T00:00:00\", \"precipitations\": 4.2}, {\"index\": \"2023-02-08T00:00:00\", \"precipitations\": 0.0}, {\"index\": \"2023-02-09T00:00:00\", \"precipitations\": 0.0}, {\"index\": \"2023-02-10T00:00:00\", \"precipitations\": 0.0}, {\"index\": \"2023-02-11T00:00:00\", \"precipitations\": 0.0}, {\"index\": \"2023-02-12T00:00:00\", \"precipitations\": 0.0}, {\"index\": \"2023-02-13T00:00:00\", \"precipitations\": 0.0}, {\"index\": \"2023-02-14T00:00:00\", \"precipitations\": 0.0}, {\"index\": \"2023-02-15T00:00:00\", \"precipitations\": 0.0}, {\"index\": \"2023-02-16T00:00:00\", \"precipitations\": 0.0}, {\"index\": \"2023-02-17T00:00:00\", \"precipitations\": 0.0}, {\"index\": \"2023-02-18T00:00:00\", \"precipitations\": 0.0}, {\"index\": \"2023-02-19T00:00:00\", \"precipitations\": 0.0}, {\"index\": \"2023-02-20T00:00:00\", \"precipitations\": 4.4}, {\"index\": \"2023-02-21T00:00:00\", \"precipitations\": 0.0}, {\"index\": \"2023-02-22T00:00:00\", \"precipitations\": 0.0}, {\"index\": \"2023-02-23T00:00:00\", \"precipitations\": 0.0}, {\"index\": \"2023-02-24T00:00:00\", \"precipitations\": 0.0}, {\"index\": \"2023-02-25T00:00:00\", \"precipitations\": 0.0}, {\"index\": \"2023-02-26T00:00:00\", \"precipitations\": 3.3}, {\"index\": \"2023-02-27T00:00:00\", \"precipitations\": 0.0}, {\"index\": \"2023-02-28T00:00:00\", \"precipitations\": 4.8}, {\"index\": \"2023-03-01T00:00:00\", \"precipitations\": 0.0}, {\"index\": \"2023-03-02T00:00:00\", \"precipitations\": 0.0}, {\"index\": \"2023-03-03T00:00:00\", \"precipitations\": 4.4}, {\"index\": \"2023-03-04T00:00:00\", \"precipitations\": 0.0}, {\"index\": \"2023-03-05T00:00:00\", \"precipitations\": 0.0}, {\"index\": \"2023-03-06T00:00:00\", \"precipitations\": 0.0}, {\"index\": \"2023-03-07T00:00:00\", \"precipitations\": 0.0}, {\"index\": \"2023-03-08T00:00:00\", \"precipitations\": 0.0}, {\"index\": \"2023-03-09T00:00:00\", \"precipitations\": 0.0}, {\"index\": \"2023-03-10T00:00:00\", \"precipitations\": 0.0}, {\"index\": \"2023-03-11T00:00:00\", \"precipitations\": 0.0}, {\"index\": \"2023-03-12T00:00:00\", \"precipitations\": 0.0}, {\"index\": \"2023-03-13T00:00:00\", \"precipitations\": 4.2}, {\"index\": \"2023-03-14T00:00:00\", \"precipitations\": 0.0}, {\"index\": \"2023-03-15T00:00:00\", \"precipitations\": 2.8}, {\"index\": \"2023-03-16T00:00:00\", \"precipitations\": 0.0}, {\"index\": \"2023-03-17T00:00:00\", \"precipitations\": 4.1}, {\"index\": \"2023-03-18T00:00:00\", \"precipitations\": 0.0}, {\"index\": \"2023-03-19T00:00:00\", \"precipitations\": 0.0}, {\"index\": \"2023-03-20T00:00:00\", \"precipitations\": 0.0}, {\"index\": \"2023-03-21T00:00:00\", \"precipitations\": 4.7}, {\"index\": \"2023-03-22T00:00:00\", \"precipitations\": 3.1}, {\"index\": \"2023-03-23T00:00:00\", \"precipitations\": 0.0}, {\"index\": \"2023-03-24T00:00:00\", \"precipitations\": 0.0}, {\"index\": \"2023-03-25T00:00:00\", \"precipitations\": 0.0}, {\"index\": \"2023-03-26T00:00:00\", \"precipitations\": 0.0}, {\"index\": \"2023-03-27T00:00:00\", \"precipitations\": 0.0}, {\"index\": \"2023-03-28T00:00:00\", \"precipitations\": 0.0}, {\"index\": \"2023-03-29T00:00:00\", \"precipitations\": 3.1}, {\"index\": \"2023-03-30T00:00:00\", \"precipitations\": 0.0}, {\"index\": \"2023-03-31T00:00:00\", \"precipitations\": 0.0}, {\"index\": \"2023-04-01T00:00:00\", \"precipitations\": 0.0}, {\"index\": \"2023-04-02T00:00:00\", \"precipitations\": 0.0}, {\"index\": \"2023-04-03T00:00:00\", \"precipitations\": 0.0}, {\"index\": \"2023-04-04T00:00:00\", \"precipitations\": 14.7}, {\"index\": \"2023-04-05T00:00:00\", \"precipitations\": 0.0}, {\"index\": \"2023-04-06T00:00:00\", \"precipitations\": 0.0}, {\"index\": \"2023-04-07T00:00:00\", \"precipitations\": 0.0}, {\"index\": \"2023-04-08T00:00:00\", \"precipitations\": 0.0}, {\"index\": \"2023-04-09T00:00:00\", \"precipitations\": 0.0}, {\"index\": \"2023-04-10T00:00:00\", \"precipitations\": 0.0}, {\"index\": \"2023-04-11T00:00:00\", \"precipitations\": 0.0}, {\"index\": \"2023-04-12T00:00:00\", \"precipitations\": 0.0}, {\"index\": \"2023-04-13T00:00:00\", \"precipitations\": 0.0}, {\"index\": \"2023-04-14T00:00:00\", \"precipitations\": 0.0}, {\"index\": \"2023-04-15T00:00:00\", \"precipitations\": 0.0}, {\"index\": \"2023-04-16T00:00:00\", \"precipitations\": 0.0}, {\"index\": \"2023-04-17T00:00:00\", \"precipitations\": 0.0}, {\"index\": \"2023-04-18T00:00:00\", \"precipitations\": 8.3}, {\"index\": \"2023-04-19T00:00:00\", \"precipitations\": 0.0}, {\"index\": \"2023-04-20T00:00:00\", \"precipitations\": 0.0}, {\"index\": \"2023-04-21T00:00:00\", \"precipitations\": 0.0}, {\"index\": \"2023-04-22T00:00:00\", \"precipitations\": 0.0}, {\"index\": \"2023-04-23T00:00:00\", \"precipitations\": 13.3}, {\"index\": \"2023-04-24T00:00:00\", \"precipitations\": 0.0}, {\"index\": \"2023-04-25T00:00:00\", \"precipitations\": 0.0}, {\"index\": \"2023-04-26T00:00:00\", \"precipitations\": 0.0}, {\"index\": \"2023-04-27T00:00:00\", \"precipitations\": 0.0}, {\"index\": \"2023-04-28T00:00:00\", \"precipitations\": 13.5}, {\"index\": \"2023-04-29T00:00:00\", \"precipitations\": 11.0}, {\"index\": \"2023-04-30T00:00:00\", \"precipitations\": 0.0}, {\"index\": \"2023-05-01T00:00:00\", \"precipitations\": 0.0}, {\"index\": \"2023-05-02T00:00:00\", \"precipitations\": 0.0}, {\"index\": \"2023-05-03T00:00:00\", \"precipitations\": 0.0}, {\"index\": \"2023-05-04T00:00:00\", \"precipitations\": 0.0}, {\"index\": \"2023-05-05T00:00:00\", \"precipitations\": 0.0}, {\"index\": \"2023-05-06T00:00:00\", \"precipitations\": 0.0}, {\"index\": \"2023-05-07T00:00:00\", \"precipitations\": 0.0}, {\"index\": \"2023-05-08T00:00:00\", \"precipitations\": 0.0}, {\"index\": \"2023-05-09T00:00:00\", \"precipitations\": 10.6}, {\"index\": \"2023-05-10T00:00:00\", \"precipitations\": 0.0}, {\"index\": \"2023-05-11T00:00:00\", \"precipitations\": 8.1}, {\"index\": \"2023-05-12T00:00:00\", \"precipitations\": 0.0}, {\"index\": \"2023-05-13T00:00:00\", \"precipitations\": 0.0}, {\"index\": \"2023-05-14T00:00:00\", \"precipitations\": 0.0}, {\"index\": \"2023-05-15T00:00:00\", \"precipitations\": 0.0}, {\"index\": \"2023-05-16T00:00:00\", \"precipitations\": 0.0}, {\"index\": \"2023-05-17T00:00:00\", \"precipitations\": 13.0}, {\"index\": \"2023-05-18T00:00:00\", \"precipitations\": 11.9}, {\"index\": \"2023-05-19T00:00:00\", \"precipitations\": 0.0}, {\"index\": \"2023-05-20T00:00:00\", \"precipitations\": 0.0}, {\"index\": \"2023-05-21T00:00:00\", \"precipitations\": 0.0}, {\"index\": \"2023-05-22T00:00:00\", \"precipitations\": 9.6}, {\"index\": \"2023-05-23T00:00:00\", \"precipitations\": 0.0}, {\"index\": \"2023-05-24T00:00:00\", \"precipitations\": 0.0}, {\"index\": \"2023-05-25T00:00:00\", \"precipitations\": 0.0}, {\"index\": \"2023-05-26T00:00:00\", \"precipitations\": 0.0}, {\"index\": \"2023-05-27T00:00:00\", \"precipitations\": 0.0}, {\"index\": \"2023-05-28T00:00:00\", \"precipitations\": 0.0}, {\"index\": \"2023-05-29T00:00:00\", \"precipitations\": 0.0}, {\"index\": \"2023-05-30T00:00:00\", \"precipitations\": 0.0}, {\"index\": \"2023-05-31T00:00:00\", \"precipitations\": 0.0}, {\"index\": \"2023-06-01T00:00:00\", \"precipitations\": 0.0}, {\"index\": \"2023-06-02T00:00:00\", \"precipitations\": 0.0}, {\"index\": \"2023-06-03T00:00:00\", \"precipitations\": 0.0}, {\"index\": \"2023-06-04T00:00:00\", \"precipitations\": 3.7}, {\"index\": \"2023-06-05T00:00:00\", \"precipitations\": 6.5}, {\"index\": \"2023-06-06T00:00:00\", \"precipitations\": 6.1}, {\"index\": \"2023-06-07T00:00:00\", \"precipitations\": 0.0}, {\"index\": \"2023-06-08T00:00:00\", \"precipitations\": 0.0}, {\"index\": \"2023-06-09T00:00:00\", \"precipitations\": 0.0}, {\"index\": \"2023-06-10T00:00:00\", \"precipitations\": 4.3}, {\"index\": \"2023-06-11T00:00:00\", \"precipitations\": 0.0}, {\"index\": \"2023-06-12T00:00:00\", \"precipitations\": 6.4}, {\"index\": \"2023-06-13T00:00:00\", \"precipitations\": 0.0}, {\"index\": \"2023-06-14T00:00:00\", \"precipitations\": 0.0}, {\"index\": \"2023-06-15T00:00:00\", \"precipitations\": 6.4}, {\"index\": \"2023-06-16T00:00:00\", \"precipitations\": 0.0}, {\"index\": \"2023-06-17T00:00:00\", \"precipitations\": 5.3}, {\"index\": \"2023-06-18T00:00:00\", \"precipitations\": 0.0}, {\"index\": \"2023-06-19T00:00:00\", \"precipitations\": 6.4}, {\"index\": \"2023-06-20T00:00:00\", \"precipitations\": 0.0}, {\"index\": \"2023-06-21T00:00:00\", \"precipitations\": 0.0}, {\"index\": \"2023-06-22T00:00:00\", \"precipitations\": 3.6}, {\"index\": \"2023-06-23T00:00:00\", \"precipitations\": 0.0}, {\"index\": \"2023-06-24T00:00:00\", \"precipitations\": 0.0}, {\"index\": \"2023-06-25T00:00:00\", \"precipitations\": 0.0}, {\"index\": \"2023-06-26T00:00:00\", \"precipitations\": 2.9}, {\"index\": \"2023-06-27T00:00:00\", \"precipitations\": 0.0}, {\"index\": \"2023-06-28T00:00:00\", \"precipitations\": 10.4}, {\"index\": \"2023-06-29T00:00:00\", \"precipitations\": 0.0}, {\"index\": \"2023-06-30T00:00:00\", \"precipitations\": 0.0}, {\"index\": \"2023-07-01T00:00:00\", \"precipitations\": 5.8}, {\"index\": \"2023-07-02T00:00:00\", \"precipitations\": 13.3}, {\"index\": \"2023-07-03T00:00:00\", \"precipitations\": 0.0}, {\"index\": \"2023-07-04T00:00:00\", \"precipitations\": 0.0}, {\"index\": \"2023-07-05T00:00:00\", \"precipitations\": 0.0}, {\"index\": \"2023-07-06T00:00:00\", \"precipitations\": 0.0}, {\"index\": \"2023-07-07T00:00:00\", \"precipitations\": 0.0}, {\"index\": \"2023-07-08T00:00:00\", \"precipitations\": 0.0}, {\"index\": \"2023-07-09T00:00:00\", \"precipitations\": 0.0}, {\"index\": \"2023-07-10T00:00:00\", \"precipitations\": 0.0}, {\"index\": \"2023-07-11T00:00:00\", \"precipitations\": 14.7}, {\"index\": \"2023-07-12T00:00:00\", \"precipitations\": 0.0}, {\"index\": \"2023-07-13T00:00:00\", \"precipitations\": 15.8}, {\"index\": \"2023-07-14T00:00:00\", \"precipitations\": 0.0}, {\"index\": \"2023-07-15T00:00:00\", \"precipitations\": 0.0}, {\"index\": \"2023-07-16T00:00:00\", \"precipitations\": 0.0}, {\"index\": \"2023-07-17T00:00:00\", \"precipitations\": 0.0}, {\"index\": \"2023-07-18T00:00:00\", \"precipitations\": 0.0}, {\"index\": \"2023-07-19T00:00:00\", \"precipitations\": 0.0}, {\"index\": \"2023-07-20T00:00:00\", \"precipitations\": 0.0}, {\"index\": \"2023-07-21T00:00:00\", \"precipitations\": 9.2}, {\"index\": \"2023-07-22T00:00:00\", \"precipitations\": 0.0}, {\"index\": \"2023-07-23T00:00:00\", \"precipitations\": 11.1}, {\"index\": \"2023-07-24T00:00:00\", \"precipitations\": 0.0}, {\"index\": \"2023-07-25T00:00:00\", \"precipitations\": 0.0}, {\"index\": \"2023-07-26T00:00:00\", \"precipitations\": 0.0}, {\"index\": \"2023-07-27T00:00:00\", \"precipitations\": 0.0}, {\"index\": \"2023-07-28T00:00:00\", \"precipitations\": 0.0}, {\"index\": \"2023-07-29T00:00:00\", \"precipitations\": 0.0}, {\"index\": \"2023-07-30T00:00:00\", \"precipitations\": 0.0}, {\"index\": \"2023-07-31T00:00:00\", \"precipitations\": 0.0}, {\"index\": \"2023-08-01T00:00:00\", \"precipitations\": 0.0}, {\"index\": \"2023-08-02T00:00:00\", \"precipitations\": 0.0}, {\"index\": \"2023-08-03T00:00:00\", \"precipitations\": 0.0}, {\"index\": \"2023-08-04T00:00:00\", \"precipitations\": 16.6}, {\"index\": \"2023-08-05T00:00:00\", \"precipitations\": 0.0}, {\"index\": \"2023-08-06T00:00:00\", \"precipitations\": 0.0}, {\"index\": \"2023-08-07T00:00:00\", \"precipitations\": 0.0}, {\"index\": \"2023-08-08T00:00:00\", \"precipitations\": 0.0}, {\"index\": \"2023-08-09T00:00:00\", \"precipitations\": 0.0}, {\"index\": \"2023-08-10T00:00:00\", \"precipitations\": 0.0}, {\"index\": \"2023-08-11T00:00:00\", \"precipitations\": 0.0}, {\"index\": \"2023-08-12T00:00:00\", \"precipitations\": 5.1}, {\"index\": \"2023-08-13T00:00:00\", \"precipitations\": 0.0}, {\"index\": \"2023-08-14T00:00:00\", \"precipitations\": 13.9}, {\"index\": \"2023-08-15T00:00:00\", \"precipitations\": 0.0}, {\"index\": \"2023-08-16T00:00:00\", \"precipitations\": 0.0}, {\"index\": \"2023-08-17T00:00:00\", \"precipitations\": 0.0}, {\"index\": \"2023-08-18T00:00:00\", \"precipitations\": 0.0}, {\"index\": \"2023-08-19T00:00:00\", \"precipitations\": 0.0}, {\"index\": \"2023-08-20T00:00:00\", \"precipitations\": 0.0}, {\"index\": \"2023-08-21T00:00:00\", \"precipitations\": 0.0}, {\"index\": \"2023-08-22T00:00:00\", \"precipitations\": 0.0}, {\"index\": \"2023-08-23T00:00:00\", \"precipitations\": 0.0}, {\"index\": \"2023-08-24T00:00:00\", \"precipitations\": 0.0}, {\"index\": \"2023-08-25T00:00:00\", \"precipitations\": 0.0}, {\"index\": \"2023-08-26T00:00:00\", \"precipitations\": 11.3}, {\"index\": \"2023-08-27T00:00:00\", \"precipitations\": 0.0}, {\"index\": \"2023-08-28T00:00:00\", \"precipitations\": 0.0}, {\"index\": \"2023-08-29T00:00:00\", \"precipitations\": 0.0}, {\"index\": \"2023-08-30T00:00:00\", \"precipitations\": 0.0}, {\"index\": \"2023-08-31T00:00:00\", \"precipitations\": 0.0}, {\"index\": \"2023-09-01T00:00:00\", \"precipitations\": 0.0}, {\"index\": \"2023-09-02T00:00:00\", \"precipitations\": 0.0}, {\"index\": \"2023-09-03T00:00:00\", \"precipitations\": 0.0}, {\"index\": \"2023-09-04T00:00:00\", \"precipitations\": 0.0}, {\"index\": \"2023-09-05T00:00:00\", \"precipitations\": 0.0}, {\"index\": \"2023-09-06T00:00:00\", \"precipitations\": 0.0}, {\"index\": \"2023-09-07T00:00:00\", \"precipitations\": 0.0}, {\"index\": \"2023-09-08T00:00:00\", \"precipitations\": 0.0}, {\"index\": \"2023-09-09T00:00:00\", \"precipitations\": 6.5}, {\"index\": \"2023-09-10T00:00:00\", \"precipitations\": 0.0}, {\"index\": \"2023-09-11T00:00:00\", \"precipitations\": 6.2}, {\"index\": \"2023-09-12T00:00:00\", \"precipitations\": 0.0}, {\"index\": \"2023-09-13T00:00:00\", \"precipitations\": 0.0}, {\"index\": \"2023-09-14T00:00:00\", \"precipitations\": 0.0}, {\"index\": \"2023-09-15T00:00:00\", \"precipitations\": 5.7}, {\"index\": \"2023-09-16T00:00:00\", \"precipitations\": 0.0}, {\"index\": \"2023-09-17T00:00:00\", \"precipitations\": 8.4}, {\"index\": \"2023-09-18T00:00:00\", \"precipitations\": 8.6}, {\"index\": \"2023-09-19T00:00:00\", \"precipitations\": 3.5}, {\"index\": \"2023-09-20T00:00:00\", \"precipitations\": 0.0}, {\"index\": \"2023-09-21T00:00:00\", \"precipitations\": 0.0}, {\"index\": \"2023-09-22T00:00:00\", \"precipitations\": 0.0}, {\"index\": \"2023-09-23T00:00:00\", \"precipitations\": 7.4}, {\"index\": \"2023-09-24T00:00:00\", \"precipitations\": 0.0}, {\"index\": \"2023-09-25T00:00:00\", \"precipitations\": 0.0}, {\"index\": \"2023-09-26T00:00:00\", \"precipitations\": 0.0}, {\"index\": \"2023-09-27T00:00:00\", \"precipitations\": 8.7}, {\"index\": \"2023-09-28T00:00:00\", \"precipitations\": 0.0}, {\"index\": \"2023-09-29T00:00:00\", \"precipitations\": 6.4}, {\"index\": \"2023-09-30T00:00:00\", \"precipitations\": 0.0}, {\"index\": \"2023-10-01T00:00:00\", \"precipitations\": 10.5}, {\"index\": \"2023-10-02T00:00:00\", \"precipitations\": 0.0}, {\"index\": \"2023-10-03T00:00:00\", \"precipitations\": 0.0}, {\"index\": \"2023-10-04T00:00:00\", \"precipitations\": 0.0}, {\"index\": \"2023-10-05T00:00:00\", \"precipitations\": 0.0}, {\"index\": \"2023-10-06T00:00:00\", \"precipitations\": 0.0}, {\"index\": \"2023-10-07T00:00:00\", \"precipitations\": 0.0}, {\"index\": \"2023-10-08T00:00:00\", \"precipitations\": 0.0}, {\"index\": \"2023-10-09T00:00:00\", \"precipitations\": 0.0}, {\"index\": \"2023-10-10T00:00:00\", \"precipitations\": 0.0}, {\"index\": \"2023-10-11T00:00:00\", \"precipitations\": 0.0}, {\"index\": \"2023-10-12T00:00:00\", \"precipitations\": 0.0}, {\"index\": \"2023-10-13T00:00:00\", \"precipitations\": 0.0}, {\"index\": \"2023-10-14T00:00:00\", \"precipitations\": 0.0}, {\"index\": \"2023-10-15T00:00:00\", \"precipitations\": 0.0}, {\"index\": \"2023-10-16T00:00:00\", \"precipitations\": 0.0}, {\"index\": \"2023-10-17T00:00:00\", \"precipitations\": 0.0}, {\"index\": \"2023-10-18T00:00:00\", \"precipitations\": 3.9}, {\"index\": \"2023-10-19T00:00:00\", \"precipitations\": 7.3}, {\"index\": \"2023-10-20T00:00:00\", \"precipitations\": 9.5}, {\"index\": \"2023-10-21T00:00:00\", \"precipitations\": 0.0}, {\"index\": \"2023-10-22T00:00:00\", \"precipitations\": 0.0}, {\"index\": \"2023-10-23T00:00:00\", \"precipitations\": 0.0}, {\"index\": \"2023-10-24T00:00:00\", \"precipitations\": 0.0}, {\"index\": \"2023-10-25T00:00:00\", \"precipitations\": 6.2}, {\"index\": \"2023-10-26T00:00:00\", \"precipitations\": 0.0}, {\"index\": \"2023-10-27T00:00:00\", \"precipitations\": 0.0}, {\"index\": \"2023-10-28T00:00:00\", \"precipitations\": 0.0}, {\"index\": \"2023-10-29T00:00:00\", \"precipitations\": 0.0}, {\"index\": \"2023-10-30T00:00:00\", \"precipitations\": 13.2}, {\"index\": \"2023-10-31T00:00:00\", \"precipitations\": 0.0}, {\"index\": \"2023-11-01T00:00:00\", \"precipitations\": 0.0}, {\"index\": \"2023-11-02T00:00:00\", \"precipitations\": 0.0}, {\"index\": \"2023-11-03T00:00:00\", \"precipitations\": 6.6}, {\"index\": \"2023-11-04T00:00:00\", \"precipitations\": 0.0}, {\"index\": \"2023-11-05T00:00:00\", \"precipitations\": 0.0}, {\"index\": \"2023-11-06T00:00:00\", \"precipitations\": 9.6}, {\"index\": \"2023-11-07T00:00:00\", \"precipitations\": 0.0}, {\"index\": \"2023-11-08T00:00:00\", \"precipitations\": 0.0}, {\"index\": \"2023-11-09T00:00:00\", \"precipitations\": 0.0}, {\"index\": \"2023-11-10T00:00:00\", \"precipitations\": 0.0}, {\"index\": \"2023-11-11T00:00:00\", \"precipitations\": 0.0}, {\"index\": \"2023-11-12T00:00:00\", \"precipitations\": 0.0}, {\"index\": \"2023-11-13T00:00:00\", \"precipitations\": 4.8}, {\"index\": \"2023-11-14T00:00:00\", \"precipitations\": 0.0}, {\"index\": \"2023-11-15T00:00:00\", \"precipitations\": 4.7}, {\"index\": \"2023-11-16T00:00:00\", \"precipitations\": 0.0}, {\"index\": \"2023-11-17T00:00:00\", \"precipitations\": 0.0}, {\"index\": \"2023-11-18T00:00:00\", \"precipitations\": 4.5}, {\"index\": \"2023-11-19T00:00:00\", \"precipitations\": 0.0}, {\"index\": \"2023-11-20T00:00:00\", \"precipitations\": 0.0}, {\"index\": \"2023-11-21T00:00:00\", \"precipitations\": 5.7}, {\"index\": \"2023-11-22T00:00:00\", \"precipitations\": 0.0}, {\"index\": \"2023-11-23T00:00:00\", \"precipitations\": 0.0}, {\"index\": \"2023-11-24T00:00:00\", \"precipitations\": 0.0}, {\"index\": \"2023-11-25T00:00:00\", \"precipitations\": 4.0}, {\"index\": \"2023-11-26T00:00:00\", \"precipitations\": 0.0}, {\"index\": \"2023-11-27T00:00:00\", \"precipitations\": 0.0}, {\"index\": \"2023-11-28T00:00:00\", \"precipitations\": 0.0}, {\"index\": \"2023-11-29T00:00:00\", \"precipitations\": 6.7}, {\"index\": \"2023-11-30T00:00:00\", \"precipitations\": 0.0}, {\"index\": \"2023-12-01T00:00:00\", \"precipitations\": 0.0}, {\"index\": \"2023-12-02T00:00:00\", \"precipitations\": 0.0}, {\"index\": \"2023-12-03T00:00:00\", \"precipitations\": 0.0}, {\"index\": \"2023-12-04T00:00:00\", \"precipitations\": 0.0}, {\"index\": \"2023-12-05T00:00:00\", \"precipitations\": 0.0}, {\"index\": \"2023-12-06T00:00:00\", \"precipitations\": 0.0}, {\"index\": \"2023-12-07T00:00:00\", \"precipitations\": 0.0}, {\"index\": \"2023-12-08T00:00:00\", \"precipitations\": 0.0}, {\"index\": \"2023-12-09T00:00:00\", \"precipitations\": 0.0}, {\"index\": \"2023-12-10T00:00:00\", \"precipitations\": 0.0}, {\"index\": \"2023-12-11T00:00:00\", \"precipitations\": 0.0}, {\"index\": \"2023-12-12T00:00:00\", \"precipitations\": 0.0}, {\"index\": \"2023-12-13T00:00:00\", \"precipitations\": 0.0}, {\"index\": \"2023-12-14T00:00:00\", \"precipitations\": 0.0}, {\"index\": \"2023-12-15T00:00:00\", \"precipitations\": 0.0}, {\"index\": \"2023-12-16T00:00:00\", \"precipitations\": 0.0}, {\"index\": \"2023-12-17T00:00:00\", \"precipitations\": 0.0}, {\"index\": \"2023-12-18T00:00:00\", \"precipitations\": 0.0}, {\"index\": \"2023-12-19T00:00:00\", \"precipitations\": 0.0}, {\"index\": \"2023-12-20T00:00:00\", \"precipitations\": 0.0}, {\"index\": \"2023-12-21T00:00:00\", \"precipitations\": 0.0}, {\"index\": \"2023-12-22T00:00:00\", \"precipitations\": 0.0}, {\"index\": \"2023-12-23T00:00:00\", \"precipitations\": 0.0}, {\"index\": \"2023-12-24T00:00:00\", \"precipitations\": 0.0}, {\"index\": \"2023-12-25T00:00:00\", \"precipitations\": 0.0}, {\"index\": \"2023-12-26T00:00:00\", \"precipitations\": 15.8}, {\"index\": \"2023-12-27T00:00:00\", \"precipitations\": 0.0}, {\"index\": \"2023-12-28T00:00:00\", \"precipitations\": 0.0}, {\"index\": \"2023-12-29T00:00:00\", \"precipitations\": 0.0}, {\"index\": \"2023-12-30T00:00:00\", \"precipitations\": 0.0}, {\"index\": \"2023-12-31T00:00:00\", \"precipitations\": 15.0}]}}, {\"mode\": \"vega-lite\"});\n",
       "</script>"
      ],
      "text/plain": [
       "alt.Chart(...)"
      ]
     },
     "execution_count": 6,
     "metadata": {},
     "output_type": "execute_result"
    }
   ],
   "source": [
    "#initialisation\n",
    "pluviometrie = pd.DataFrame({\"precipitations\" : np.zeros(365)}, index=pd.date_range(\"20230101\", periods=365))\n",
    "\n",
    "for month in range(len(moyenne_clermont['mois'])):\n",
    "    #nombre de jours ou il pleut\n",
    "    avg_days_obs = round(moyenne_clermont.loc[moyenne_clermont.index[month], 'nb_jours']) \n",
    "    avg_days = round(np.random.normal(avg_days_obs, avg_days_obs/4))\n",
    "    \n",
    "    # choix des jours\n",
    "    start_date = pluviometrie.loc[pluviometrie.index.month == month+1].index.min()\n",
    "    end_date =pluviometrie.loc[pluviometrie.index.month == month+1].index.max()\n",
    "    rainy_days = simulation.generate_random_dates(start_date, end_date, avg_days)\n",
    "\n",
    "    #hauteur tombee\n",
    "    avg_rain = moyenne_clermont.loc[moyenne_clermont.index[month], 'hauteur']/avg_days\n",
    "    obs_rain = simulation.generate_random_rain(avg_rain, avg_rain/4, avg_days)\n",
    "    \n",
    "    #remplacement des valeurs\n",
    "    pluviometrie.loc[pluviometrie.index.isin(rainy_days), \"precipitations\"] = obs_rain\n",
    "\n",
    "alt.Chart(pluviometrie.reset_index()).mark_bar().encode(\n",
    "    x=alt.X('index:T', title=\"Jour de l'année\"),\n",
    "    y=alt.Y('precipitations:Q', title=\"precipitations\"),\n",
    "    tooltip=[alt.Tooltip(\"precipitations:Q\")]\n",
    ").properties(width=600).interactive()\n",
    "\n"
   ]
  },
  {
   "cell_type": "code",
   "execution_count": 7,
   "metadata": {},
   "outputs": [],
   "source": [
    "##### Definition des fonctions\n",
    "\n",
    "## Generer k dates aléatoires distinctes entre deux bornes\n",
    "def generate_random_dates(start_date, end_date, k):\n",
    "   date_range = (end_date - start_date).days + 1\n",
    "   random_days = np.random.choice(date_range, size=k, replace=False)\n",
    "   random_dates = pd.to_datetime(start_date) + pd.to_timedelta(random_days, unit='d')\n",
    "   return random_dates\n",
    "\n",
    "## Generer k hauteurs de pluie (loi normale autour d'une hauteur moyenne)\n",
    "def generate_random_rain(mean_rain:float, sigma_rain:float, k:int):\n",
    "   random_rain = np.random.normal(mean_rain, sigma_rain, size=k).round(1)\n",
    "   return random_rain\n"
   ]
  },
  {
   "cell_type": "code",
   "execution_count": 8,
   "metadata": {},
   "outputs": [
    {
     "data": {
      "text/html": [
       "\n",
       "<div id=\"altair-viz-819304a1bcd44be783389a44b7b33401\"></div>\n",
       "<script type=\"text/javascript\">\n",
       "  var VEGA_DEBUG = (typeof VEGA_DEBUG == \"undefined\") ? {} : VEGA_DEBUG;\n",
       "  (function(spec, embedOpt){\n",
       "    let outputDiv = document.currentScript.previousElementSibling;\n",
       "    if (outputDiv.id !== \"altair-viz-819304a1bcd44be783389a44b7b33401\") {\n",
       "      outputDiv = document.getElementById(\"altair-viz-819304a1bcd44be783389a44b7b33401\");\n",
       "    }\n",
       "    const paths = {\n",
       "      \"vega\": \"https://cdn.jsdelivr.net/npm//vega@5?noext\",\n",
       "      \"vega-lib\": \"https://cdn.jsdelivr.net/npm//vega-lib?noext\",\n",
       "      \"vega-lite\": \"https://cdn.jsdelivr.net/npm//vega-lite@4.17.0?noext\",\n",
       "      \"vega-embed\": \"https://cdn.jsdelivr.net/npm//vega-embed@6?noext\",\n",
       "    };\n",
       "\n",
       "    function maybeLoadScript(lib, version) {\n",
       "      var key = `${lib.replace(\"-\", \"\")}_version`;\n",
       "      return (VEGA_DEBUG[key] == version) ?\n",
       "        Promise.resolve(paths[lib]) :\n",
       "        new Promise(function(resolve, reject) {\n",
       "          var s = document.createElement('script');\n",
       "          document.getElementsByTagName(\"head\")[0].appendChild(s);\n",
       "          s.async = true;\n",
       "          s.onload = () => {\n",
       "            VEGA_DEBUG[key] = version;\n",
       "            return resolve(paths[lib]);\n",
       "          };\n",
       "          s.onerror = () => reject(`Error loading script: ${paths[lib]}`);\n",
       "          s.src = paths[lib];\n",
       "        });\n",
       "    }\n",
       "\n",
       "    function showError(err) {\n",
       "      outputDiv.innerHTML = `<div class=\"error\" style=\"color:red;\">${err}</div>`;\n",
       "      throw err;\n",
       "    }\n",
       "\n",
       "    function displayChart(vegaEmbed) {\n",
       "      vegaEmbed(outputDiv, spec, embedOpt)\n",
       "        .catch(err => showError(`Javascript Error: ${err.message}<br>This usually means there's a typo in your chart specification. See the javascript console for the full traceback.`));\n",
       "    }\n",
       "\n",
       "    if(typeof define === \"function\" && define.amd) {\n",
       "      requirejs.config({paths});\n",
       "      require([\"vega-embed\"], displayChart, err => showError(`Error loading script: ${err.message}`));\n",
       "    } else {\n",
       "      maybeLoadScript(\"vega\", \"5\")\n",
       "        .then(() => maybeLoadScript(\"vega-lite\", \"4.17.0\"))\n",
       "        .then(() => maybeLoadScript(\"vega-embed\", \"6\"))\n",
       "        .catch(showError)\n",
       "        .then(() => displayChart(vegaEmbed));\n",
       "    }\n",
       "  })({\"config\": {\"view\": {\"continuousWidth\": 400, \"continuousHeight\": 300}}, \"data\": {\"name\": \"data-80797f5c013e1fc8f6f403e1550527cb\"}, \"mark\": \"bar\", \"encoding\": {\"tooltip\": [{\"field\": \"precipitations\", \"type\": \"quantitative\"}], \"x\": {\"field\": \"index\", \"title\": \"Jour de l'ann\\u00e9e\", \"type\": \"temporal\"}, \"y\": {\"field\": \"precipitations\", \"title\": \"precipitations\", \"type\": \"quantitative\"}}, \"selection\": {\"selector002\": {\"type\": \"interval\", \"bind\": \"scales\", \"encodings\": [\"x\", \"y\"]}}, \"width\": 600, \"$schema\": \"https://vega.github.io/schema/vega-lite/v4.17.0.json\", \"datasets\": {\"data-80797f5c013e1fc8f6f403e1550527cb\": [{\"index\": \"2023-01-01T00:00:00\", \"precipitations\": 0.0}, {\"index\": \"2023-01-02T00:00:00\", \"precipitations\": 0.0}, {\"index\": \"2023-01-03T00:00:00\", \"precipitations\": 2.9}, {\"index\": \"2023-01-04T00:00:00\", \"precipitations\": 0.0}, {\"index\": \"2023-01-05T00:00:00\", \"precipitations\": 0.0}, {\"index\": \"2023-01-06T00:00:00\", \"precipitations\": 2.6}, {\"index\": \"2023-01-07T00:00:00\", \"precipitations\": 0.0}, {\"index\": \"2023-01-08T00:00:00\", \"precipitations\": 0.0}, {\"index\": \"2023-01-09T00:00:00\", \"precipitations\": 0.0}, {\"index\": \"2023-01-10T00:00:00\", \"precipitations\": 0.0}, {\"index\": \"2023-01-11T00:00:00\", \"precipitations\": 2.2}, {\"index\": \"2023-01-12T00:00:00\", \"precipitations\": 0.0}, {\"index\": \"2023-01-13T00:00:00\", \"precipitations\": 0.0}, {\"index\": \"2023-01-14T00:00:00\", \"precipitations\": 0.0}, {\"index\": \"2023-01-15T00:00:00\", \"precipitations\": 0.0}, {\"index\": \"2023-01-16T00:00:00\", \"precipitations\": 0.0}, {\"index\": \"2023-01-17T00:00:00\", \"precipitations\": 4.7}, {\"index\": \"2023-01-18T00:00:00\", \"precipitations\": 0.0}, {\"index\": \"2023-01-19T00:00:00\", \"precipitations\": 4.1}, {\"index\": \"2023-01-20T00:00:00\", \"precipitations\": 0.0}, {\"index\": \"2023-01-21T00:00:00\", \"precipitations\": 0.0}, {\"index\": \"2023-01-22T00:00:00\", \"precipitations\": 0.0}, {\"index\": \"2023-01-23T00:00:00\", \"precipitations\": 4.2}, {\"index\": \"2023-01-24T00:00:00\", \"precipitations\": 0.0}, {\"index\": \"2023-01-25T00:00:00\", \"precipitations\": 0.0}, {\"index\": \"2023-01-26T00:00:00\", \"precipitations\": 0.0}, {\"index\": \"2023-01-27T00:00:00\", \"precipitations\": 0.0}, {\"index\": \"2023-01-28T00:00:00\", \"precipitations\": 4.0}, {\"index\": \"2023-01-29T00:00:00\", \"precipitations\": 0.0}, {\"index\": \"2023-01-30T00:00:00\", \"precipitations\": 1.0}, {\"index\": \"2023-01-31T00:00:00\", \"precipitations\": 0.0}, {\"index\": \"2023-02-01T00:00:00\", \"precipitations\": 0.0}, {\"index\": \"2023-02-02T00:00:00\", \"precipitations\": 0.0}, {\"index\": \"2023-02-03T00:00:00\", \"precipitations\": 0.0}, {\"index\": \"2023-02-04T00:00:00\", \"precipitations\": 0.0}, {\"index\": \"2023-02-05T00:00:00\", \"precipitations\": 0.0}, {\"index\": \"2023-02-06T00:00:00\", \"precipitations\": 0.0}, {\"index\": \"2023-02-07T00:00:00\", \"precipitations\": 0.0}, {\"index\": \"2023-02-08T00:00:00\", \"precipitations\": 0.0}, {\"index\": \"2023-02-09T00:00:00\", \"precipitations\": 0.0}, {\"index\": \"2023-02-10T00:00:00\", \"precipitations\": 2.2}, {\"index\": \"2023-02-11T00:00:00\", \"precipitations\": 0.0}, {\"index\": \"2023-02-12T00:00:00\", \"precipitations\": 0.0}, {\"index\": \"2023-02-13T00:00:00\", \"precipitations\": 0.0}, {\"index\": \"2023-02-14T00:00:00\", \"precipitations\": 0.0}, {\"index\": \"2023-02-15T00:00:00\", \"precipitations\": 0.0}, {\"index\": \"2023-02-16T00:00:00\", \"precipitations\": 2.8}, {\"index\": \"2023-02-17T00:00:00\", \"precipitations\": 0.0}, {\"index\": \"2023-02-18T00:00:00\", \"precipitations\": 0.0}, {\"index\": \"2023-02-19T00:00:00\", \"precipitations\": 0.0}, {\"index\": \"2023-02-20T00:00:00\", \"precipitations\": 0.0}, {\"index\": \"2023-02-21T00:00:00\", \"precipitations\": 5.3}, {\"index\": \"2023-02-22T00:00:00\", \"precipitations\": 3.0}, {\"index\": \"2023-02-23T00:00:00\", \"precipitations\": 0.0}, {\"index\": \"2023-02-24T00:00:00\", \"precipitations\": 0.0}, {\"index\": \"2023-02-25T00:00:00\", \"precipitations\": 0.0}, {\"index\": \"2023-02-26T00:00:00\", \"precipitations\": 3.5}, {\"index\": \"2023-02-27T00:00:00\", \"precipitations\": 0.0}, {\"index\": \"2023-02-28T00:00:00\", \"precipitations\": 0.0}, {\"index\": \"2023-03-01T00:00:00\", \"precipitations\": 0.0}, {\"index\": \"2023-03-02T00:00:00\", \"precipitations\": 0.0}, {\"index\": \"2023-03-03T00:00:00\", \"precipitations\": 6.4}, {\"index\": \"2023-03-04T00:00:00\", \"precipitations\": 6.0}, {\"index\": \"2023-03-05T00:00:00\", \"precipitations\": 0.0}, {\"index\": \"2023-03-06T00:00:00\", \"precipitations\": 3.2}, {\"index\": \"2023-03-07T00:00:00\", \"precipitations\": 0.0}, {\"index\": \"2023-03-08T00:00:00\", \"precipitations\": 0.0}, {\"index\": \"2023-03-09T00:00:00\", \"precipitations\": 0.0}, {\"index\": \"2023-03-10T00:00:00\", \"precipitations\": 0.0}, {\"index\": \"2023-03-11T00:00:00\", \"precipitations\": 0.0}, {\"index\": \"2023-03-12T00:00:00\", \"precipitations\": 4.5}, {\"index\": \"2023-03-13T00:00:00\", \"precipitations\": 0.0}, {\"index\": \"2023-03-14T00:00:00\", \"precipitations\": 0.0}, {\"index\": \"2023-03-15T00:00:00\", \"precipitations\": 0.0}, {\"index\": \"2023-03-16T00:00:00\", \"precipitations\": 0.0}, {\"index\": \"2023-03-17T00:00:00\", \"precipitations\": 5.5}, {\"index\": \"2023-03-18T00:00:00\", \"precipitations\": 0.0}, {\"index\": \"2023-03-19T00:00:00\", \"precipitations\": 0.0}, {\"index\": \"2023-03-20T00:00:00\", \"precipitations\": 3.5}, {\"index\": \"2023-03-21T00:00:00\", \"precipitations\": 0.0}, {\"index\": \"2023-03-22T00:00:00\", \"precipitations\": 0.0}, {\"index\": \"2023-03-23T00:00:00\", \"precipitations\": 0.0}, {\"index\": \"2023-03-24T00:00:00\", \"precipitations\": 0.0}, {\"index\": \"2023-03-25T00:00:00\", \"precipitations\": 0.0}, {\"index\": \"2023-03-26T00:00:00\", \"precipitations\": 0.0}, {\"index\": \"2023-03-27T00:00:00\", \"precipitations\": 0.0}, {\"index\": \"2023-03-28T00:00:00\", \"precipitations\": 0.0}, {\"index\": \"2023-03-29T00:00:00\", \"precipitations\": 0.0}, {\"index\": \"2023-03-30T00:00:00\", \"precipitations\": 0.0}, {\"index\": \"2023-03-31T00:00:00\", \"precipitations\": 0.0}, {\"index\": \"2023-04-01T00:00:00\", \"precipitations\": 0.0}, {\"index\": \"2023-04-02T00:00:00\", \"precipitations\": 0.0}, {\"index\": \"2023-04-03T00:00:00\", \"precipitations\": 0.0}, {\"index\": \"2023-04-04T00:00:00\", \"precipitations\": 0.0}, {\"index\": \"2023-04-05T00:00:00\", \"precipitations\": 7.2}, {\"index\": \"2023-04-06T00:00:00\", \"precipitations\": 0.0}, {\"index\": \"2023-04-07T00:00:00\", \"precipitations\": 0.0}, {\"index\": \"2023-04-08T00:00:00\", \"precipitations\": 0.0}, {\"index\": \"2023-04-09T00:00:00\", \"precipitations\": 0.0}, {\"index\": \"2023-04-10T00:00:00\", \"precipitations\": 0.0}, {\"index\": \"2023-04-11T00:00:00\", \"precipitations\": 13.4}, {\"index\": \"2023-04-12T00:00:00\", \"precipitations\": 0.0}, {\"index\": \"2023-04-13T00:00:00\", \"precipitations\": 0.0}, {\"index\": \"2023-04-14T00:00:00\", \"precipitations\": 0.0}, {\"index\": \"2023-04-15T00:00:00\", \"precipitations\": 15.3}, {\"index\": \"2023-04-16T00:00:00\", \"precipitations\": 0.0}, {\"index\": \"2023-04-17T00:00:00\", \"precipitations\": 0.0}, {\"index\": \"2023-04-18T00:00:00\", \"precipitations\": 0.0}, {\"index\": \"2023-04-19T00:00:00\", \"precipitations\": 0.0}, {\"index\": \"2023-04-20T00:00:00\", \"precipitations\": 0.0}, {\"index\": \"2023-04-21T00:00:00\", \"precipitations\": 0.0}, {\"index\": \"2023-04-22T00:00:00\", \"precipitations\": 11.7}, {\"index\": \"2023-04-23T00:00:00\", \"precipitations\": 0.0}, {\"index\": \"2023-04-24T00:00:00\", \"precipitations\": 0.0}, {\"index\": \"2023-04-25T00:00:00\", \"precipitations\": 0.0}, {\"index\": \"2023-04-26T00:00:00\", \"precipitations\": 0.0}, {\"index\": \"2023-04-27T00:00:00\", \"precipitations\": 0.0}, {\"index\": \"2023-04-28T00:00:00\", \"precipitations\": 0.0}, {\"index\": \"2023-04-29T00:00:00\", \"precipitations\": 0.0}, {\"index\": \"2023-04-30T00:00:00\", \"precipitations\": 0.0}, {\"index\": \"2023-05-01T00:00:00\", \"precipitations\": 0.0}, {\"index\": \"2023-05-02T00:00:00\", \"precipitations\": 5.6}, {\"index\": \"2023-05-03T00:00:00\", \"precipitations\": 8.2}, {\"index\": \"2023-05-04T00:00:00\", \"precipitations\": 0.0}, {\"index\": \"2023-05-05T00:00:00\", \"precipitations\": 0.0}, {\"index\": \"2023-05-06T00:00:00\", \"precipitations\": 7.8}, {\"index\": \"2023-05-07T00:00:00\", \"precipitations\": 0.0}, {\"index\": \"2023-05-08T00:00:00\", \"precipitations\": 0.0}, {\"index\": \"2023-05-09T00:00:00\", \"precipitations\": 7.6}, {\"index\": \"2023-05-10T00:00:00\", \"precipitations\": 0.0}, {\"index\": \"2023-05-11T00:00:00\", \"precipitations\": 0.0}, {\"index\": \"2023-05-12T00:00:00\", \"precipitations\": 0.0}, {\"index\": \"2023-05-13T00:00:00\", \"precipitations\": 0.0}, {\"index\": \"2023-05-14T00:00:00\", \"precipitations\": 0.0}, {\"index\": \"2023-05-15T00:00:00\", \"precipitations\": 0.0}, {\"index\": \"2023-05-16T00:00:00\", \"precipitations\": 8.9}, {\"index\": \"2023-05-17T00:00:00\", \"precipitations\": 0.0}, {\"index\": \"2023-05-18T00:00:00\", \"precipitations\": 0.0}, {\"index\": \"2023-05-19T00:00:00\", \"precipitations\": 8.4}, {\"index\": \"2023-05-20T00:00:00\", \"precipitations\": 0.0}, {\"index\": \"2023-05-21T00:00:00\", \"precipitations\": 0.0}, {\"index\": \"2023-05-22T00:00:00\", \"precipitations\": 0.0}, {\"index\": \"2023-05-23T00:00:00\", \"precipitations\": 7.5}, {\"index\": \"2023-05-24T00:00:00\", \"precipitations\": 8.4}, {\"index\": \"2023-05-25T00:00:00\", \"precipitations\": 0.0}, {\"index\": \"2023-05-26T00:00:00\", \"precipitations\": 0.0}, {\"index\": \"2023-05-27T00:00:00\", \"precipitations\": 0.0}, {\"index\": \"2023-05-28T00:00:00\", \"precipitations\": 0.0}, {\"index\": \"2023-05-29T00:00:00\", \"precipitations\": 0.0}, {\"index\": \"2023-05-30T00:00:00\", \"precipitations\": 0.0}, {\"index\": \"2023-05-31T00:00:00\", \"precipitations\": 0.0}, {\"index\": \"2023-06-01T00:00:00\", \"precipitations\": 0.0}, {\"index\": \"2023-06-02T00:00:00\", \"precipitations\": 0.0}, {\"index\": \"2023-06-03T00:00:00\", \"precipitations\": 7.3}, {\"index\": \"2023-06-04T00:00:00\", \"precipitations\": 0.0}, {\"index\": \"2023-06-05T00:00:00\", \"precipitations\": 6.4}, {\"index\": \"2023-06-06T00:00:00\", \"precipitations\": 0.0}, {\"index\": \"2023-06-07T00:00:00\", \"precipitations\": 0.0}, {\"index\": \"2023-06-08T00:00:00\", \"precipitations\": 0.0}, {\"index\": \"2023-06-09T00:00:00\", \"precipitations\": 0.0}, {\"index\": \"2023-06-10T00:00:00\", \"precipitations\": 4.7}, {\"index\": \"2023-06-11T00:00:00\", \"precipitations\": 5.1}, {\"index\": \"2023-06-12T00:00:00\", \"precipitations\": 6.1}, {\"index\": \"2023-06-13T00:00:00\", \"precipitations\": 0.0}, {\"index\": \"2023-06-14T00:00:00\", \"precipitations\": 0.0}, {\"index\": \"2023-06-15T00:00:00\", \"precipitations\": 0.0}, {\"index\": \"2023-06-16T00:00:00\", \"precipitations\": 0.0}, {\"index\": \"2023-06-17T00:00:00\", \"precipitations\": 0.0}, {\"index\": \"2023-06-18T00:00:00\", \"precipitations\": 7.2}, {\"index\": \"2023-06-19T00:00:00\", \"precipitations\": 0.0}, {\"index\": \"2023-06-20T00:00:00\", \"precipitations\": 0.0}, {\"index\": \"2023-06-21T00:00:00\", \"precipitations\": 0.0}, {\"index\": \"2023-06-22T00:00:00\", \"precipitations\": 0.0}, {\"index\": \"2023-06-23T00:00:00\", \"precipitations\": 0.0}, {\"index\": \"2023-06-24T00:00:00\", \"precipitations\": 8.2}, {\"index\": \"2023-06-25T00:00:00\", \"precipitations\": 9.8}, {\"index\": \"2023-06-26T00:00:00\", \"precipitations\": 0.0}, {\"index\": \"2023-06-27T00:00:00\", \"precipitations\": 8.4}, {\"index\": \"2023-06-28T00:00:00\", \"precipitations\": 4.9}, {\"index\": \"2023-06-29T00:00:00\", \"precipitations\": 0.0}, {\"index\": \"2023-06-30T00:00:00\", \"precipitations\": 0.0}, {\"index\": \"2023-07-01T00:00:00\", \"precipitations\": 6.6}, {\"index\": \"2023-07-02T00:00:00\", \"precipitations\": 5.6}, {\"index\": \"2023-07-03T00:00:00\", \"precipitations\": 0.0}, {\"index\": \"2023-07-04T00:00:00\", \"precipitations\": 4.9}, {\"index\": \"2023-07-05T00:00:00\", \"precipitations\": 0.0}, {\"index\": \"2023-07-06T00:00:00\", \"precipitations\": 0.0}, {\"index\": \"2023-07-07T00:00:00\", \"precipitations\": 0.0}, {\"index\": \"2023-07-08T00:00:00\", \"precipitations\": 0.0}, {\"index\": \"2023-07-09T00:00:00\", \"precipitations\": 0.0}, {\"index\": \"2023-07-10T00:00:00\", \"precipitations\": 0.0}, {\"index\": \"2023-07-11T00:00:00\", \"precipitations\": 0.0}, {\"index\": \"2023-07-12T00:00:00\", \"precipitations\": 0.0}, {\"index\": \"2023-07-13T00:00:00\", \"precipitations\": 0.0}, {\"index\": \"2023-07-14T00:00:00\", \"precipitations\": 6.8}, {\"index\": \"2023-07-15T00:00:00\", \"precipitations\": 0.0}, {\"index\": \"2023-07-16T00:00:00\", \"precipitations\": 0.0}, {\"index\": \"2023-07-17T00:00:00\", \"precipitations\": 6.3}, {\"index\": \"2023-07-18T00:00:00\", \"precipitations\": 6.5}, {\"index\": \"2023-07-19T00:00:00\", \"precipitations\": 0.0}, {\"index\": \"2023-07-20T00:00:00\", \"precipitations\": 0.0}, {\"index\": \"2023-07-21T00:00:00\", \"precipitations\": 6.8}, {\"index\": \"2023-07-22T00:00:00\", \"precipitations\": 9.0}, {\"index\": \"2023-07-23T00:00:00\", \"precipitations\": 0.0}, {\"index\": \"2023-07-24T00:00:00\", \"precipitations\": 4.1}, {\"index\": \"2023-07-25T00:00:00\", \"precipitations\": 0.0}, {\"index\": \"2023-07-26T00:00:00\", \"precipitations\": 0.0}, {\"index\": \"2023-07-27T00:00:00\", \"precipitations\": 0.0}, {\"index\": \"2023-07-28T00:00:00\", \"precipitations\": 0.0}, {\"index\": \"2023-07-29T00:00:00\", \"precipitations\": 8.0}, {\"index\": \"2023-07-30T00:00:00\", \"precipitations\": 0.0}, {\"index\": \"2023-07-31T00:00:00\", \"precipitations\": 0.0}, {\"index\": \"2023-08-01T00:00:00\", \"precipitations\": 9.1}, {\"index\": \"2023-08-02T00:00:00\", \"precipitations\": 0.0}, {\"index\": \"2023-08-03T00:00:00\", \"precipitations\": 0.0}, {\"index\": \"2023-08-04T00:00:00\", \"precipitations\": 0.0}, {\"index\": \"2023-08-05T00:00:00\", \"precipitations\": 0.0}, {\"index\": \"2023-08-06T00:00:00\", \"precipitations\": 0.0}, {\"index\": \"2023-08-07T00:00:00\", \"precipitations\": 0.0}, {\"index\": \"2023-08-08T00:00:00\", \"precipitations\": 7.9}, {\"index\": \"2023-08-09T00:00:00\", \"precipitations\": 0.0}, {\"index\": \"2023-08-10T00:00:00\", \"precipitations\": 0.0}, {\"index\": \"2023-08-11T00:00:00\", \"precipitations\": 9.9}, {\"index\": \"2023-08-12T00:00:00\", \"precipitations\": 0.0}, {\"index\": \"2023-08-13T00:00:00\", \"precipitations\": 0.0}, {\"index\": \"2023-08-14T00:00:00\", \"precipitations\": 0.0}, {\"index\": \"2023-08-15T00:00:00\", \"precipitations\": 0.0}, {\"index\": \"2023-08-16T00:00:00\", \"precipitations\": 0.0}, {\"index\": \"2023-08-17T00:00:00\", \"precipitations\": 0.0}, {\"index\": \"2023-08-18T00:00:00\", \"precipitations\": 9.3}, {\"index\": \"2023-08-19T00:00:00\", \"precipitations\": 0.0}, {\"index\": \"2023-08-20T00:00:00\", \"precipitations\": 5.8}, {\"index\": \"2023-08-21T00:00:00\", \"precipitations\": 0.0}, {\"index\": \"2023-08-22T00:00:00\", \"precipitations\": 0.0}, {\"index\": \"2023-08-23T00:00:00\", \"precipitations\": 11.4}, {\"index\": \"2023-08-24T00:00:00\", \"precipitations\": 0.0}, {\"index\": \"2023-08-25T00:00:00\", \"precipitations\": 0.0}, {\"index\": \"2023-08-26T00:00:00\", \"precipitations\": 0.0}, {\"index\": \"2023-08-27T00:00:00\", \"precipitations\": 0.0}, {\"index\": \"2023-08-28T00:00:00\", \"precipitations\": 0.0}, {\"index\": \"2023-08-29T00:00:00\", \"precipitations\": 0.0}, {\"index\": \"2023-08-30T00:00:00\", \"precipitations\": 0.0}, {\"index\": \"2023-08-31T00:00:00\", \"precipitations\": 11.2}, {\"index\": \"2023-09-01T00:00:00\", \"precipitations\": 11.7}, {\"index\": \"2023-09-02T00:00:00\", \"precipitations\": 0.0}, {\"index\": \"2023-09-03T00:00:00\", \"precipitations\": 0.0}, {\"index\": \"2023-09-04T00:00:00\", \"precipitations\": 8.6}, {\"index\": \"2023-09-05T00:00:00\", \"precipitations\": 0.0}, {\"index\": \"2023-09-06T00:00:00\", \"precipitations\": 0.0}, {\"index\": \"2023-09-07T00:00:00\", \"precipitations\": 10.0}, {\"index\": \"2023-09-08T00:00:00\", \"precipitations\": 0.0}, {\"index\": \"2023-09-09T00:00:00\", \"precipitations\": 0.0}, {\"index\": \"2023-09-10T00:00:00\", \"precipitations\": 0.0}, {\"index\": \"2023-09-11T00:00:00\", \"precipitations\": 0.0}, {\"index\": \"2023-09-12T00:00:00\", \"precipitations\": 0.0}, {\"index\": \"2023-09-13T00:00:00\", \"precipitations\": 0.0}, {\"index\": \"2023-09-14T00:00:00\", \"precipitations\": 0.0}, {\"index\": \"2023-09-15T00:00:00\", \"precipitations\": 0.0}, {\"index\": \"2023-09-16T00:00:00\", \"precipitations\": 0.0}, {\"index\": \"2023-09-17T00:00:00\", \"precipitations\": 0.0}, {\"index\": \"2023-09-18T00:00:00\", \"precipitations\": 0.0}, {\"index\": \"2023-09-19T00:00:00\", \"precipitations\": 9.3}, {\"index\": \"2023-09-20T00:00:00\", \"precipitations\": 0.0}, {\"index\": \"2023-09-21T00:00:00\", \"precipitations\": 0.0}, {\"index\": \"2023-09-22T00:00:00\", \"precipitations\": 0.0}, {\"index\": \"2023-09-23T00:00:00\", \"precipitations\": 0.0}, {\"index\": \"2023-09-24T00:00:00\", \"precipitations\": 0.0}, {\"index\": \"2023-09-25T00:00:00\", \"precipitations\": 11.6}, {\"index\": \"2023-09-26T00:00:00\", \"precipitations\": 0.0}, {\"index\": \"2023-09-27T00:00:00\", \"precipitations\": 8.3}, {\"index\": \"2023-09-28T00:00:00\", \"precipitations\": 0.0}, {\"index\": \"2023-09-29T00:00:00\", \"precipitations\": 0.0}, {\"index\": \"2023-09-30T00:00:00\", \"precipitations\": 0.0}, {\"index\": \"2023-10-01T00:00:00\", \"precipitations\": 0.0}, {\"index\": \"2023-10-02T00:00:00\", \"precipitations\": 6.6}, {\"index\": \"2023-10-03T00:00:00\", \"precipitations\": 0.0}, {\"index\": \"2023-10-04T00:00:00\", \"precipitations\": 0.0}, {\"index\": \"2023-10-05T00:00:00\", \"precipitations\": 5.5}, {\"index\": \"2023-10-06T00:00:00\", \"precipitations\": 4.2}, {\"index\": \"2023-10-07T00:00:00\", \"precipitations\": 6.0}, {\"index\": \"2023-10-08T00:00:00\", \"precipitations\": 4.5}, {\"index\": \"2023-10-09T00:00:00\", \"precipitations\": 0.0}, {\"index\": \"2023-10-10T00:00:00\", \"precipitations\": 0.0}, {\"index\": \"2023-10-11T00:00:00\", \"precipitations\": 0.0}, {\"index\": \"2023-10-12T00:00:00\", \"precipitations\": 4.9}, {\"index\": \"2023-10-13T00:00:00\", \"precipitations\": 4.8}, {\"index\": \"2023-10-14T00:00:00\", \"precipitations\": 0.0}, {\"index\": \"2023-10-15T00:00:00\", \"precipitations\": 0.0}, {\"index\": \"2023-10-16T00:00:00\", \"precipitations\": 0.0}, {\"index\": \"2023-10-17T00:00:00\", \"precipitations\": 0.0}, {\"index\": \"2023-10-18T00:00:00\", \"precipitations\": 7.1}, {\"index\": \"2023-10-19T00:00:00\", \"precipitations\": 0.0}, {\"index\": \"2023-10-20T00:00:00\", \"precipitations\": 0.0}, {\"index\": \"2023-10-21T00:00:00\", \"precipitations\": 0.0}, {\"index\": \"2023-10-22T00:00:00\", \"precipitations\": 2.4}, {\"index\": \"2023-10-23T00:00:00\", \"precipitations\": 0.0}, {\"index\": \"2023-10-24T00:00:00\", \"precipitations\": 0.0}, {\"index\": \"2023-10-25T00:00:00\", \"precipitations\": 0.0}, {\"index\": \"2023-10-26T00:00:00\", \"precipitations\": 0.0}, {\"index\": \"2023-10-27T00:00:00\", \"precipitations\": 0.0}, {\"index\": \"2023-10-28T00:00:00\", \"precipitations\": 0.0}, {\"index\": \"2023-10-29T00:00:00\", \"precipitations\": 5.4}, {\"index\": \"2023-10-30T00:00:00\", \"precipitations\": 0.0}, {\"index\": \"2023-10-31T00:00:00\", \"precipitations\": 0.0}, {\"index\": \"2023-11-01T00:00:00\", \"precipitations\": 0.0}, {\"index\": \"2023-11-02T00:00:00\", \"precipitations\": 0.0}, {\"index\": \"2023-11-03T00:00:00\", \"precipitations\": 0.0}, {\"index\": \"2023-11-04T00:00:00\", \"precipitations\": 0.0}, {\"index\": \"2023-11-05T00:00:00\", \"precipitations\": 0.0}, {\"index\": \"2023-11-06T00:00:00\", \"precipitations\": 0.0}, {\"index\": \"2023-11-07T00:00:00\", \"precipitations\": 0.0}, {\"index\": \"2023-11-08T00:00:00\", \"precipitations\": 0.0}, {\"index\": \"2023-11-09T00:00:00\", \"precipitations\": 0.0}, {\"index\": \"2023-11-10T00:00:00\", \"precipitations\": 0.0}, {\"index\": \"2023-11-11T00:00:00\", \"precipitations\": 6.8}, {\"index\": \"2023-11-12T00:00:00\", \"precipitations\": 7.5}, {\"index\": \"2023-11-13T00:00:00\", \"precipitations\": 0.0}, {\"index\": \"2023-11-14T00:00:00\", \"precipitations\": 0.0}, {\"index\": \"2023-11-15T00:00:00\", \"precipitations\": 7.0}, {\"index\": \"2023-11-16T00:00:00\", \"precipitations\": 0.0}, {\"index\": \"2023-11-17T00:00:00\", \"precipitations\": 8.4}, {\"index\": \"2023-11-18T00:00:00\", \"precipitations\": 0.0}, {\"index\": \"2023-11-19T00:00:00\", \"precipitations\": 0.0}, {\"index\": \"2023-11-20T00:00:00\", \"precipitations\": 0.0}, {\"index\": \"2023-11-21T00:00:00\", \"precipitations\": 8.0}, {\"index\": \"2023-11-22T00:00:00\", \"precipitations\": 0.0}, {\"index\": \"2023-11-23T00:00:00\", \"precipitations\": 0.0}, {\"index\": \"2023-11-24T00:00:00\", \"precipitations\": 8.8}, {\"index\": \"2023-11-25T00:00:00\", \"precipitations\": 0.0}, {\"index\": \"2023-11-26T00:00:00\", \"precipitations\": 0.0}, {\"index\": \"2023-11-27T00:00:00\", \"precipitations\": 0.0}, {\"index\": \"2023-11-28T00:00:00\", \"precipitations\": 0.0}, {\"index\": \"2023-11-29T00:00:00\", \"precipitations\": 0.0}, {\"index\": \"2023-11-30T00:00:00\", \"precipitations\": 6.3}, {\"index\": \"2023-12-01T00:00:00\", \"precipitations\": 0.0}, {\"index\": \"2023-12-02T00:00:00\", \"precipitations\": 0.0}, {\"index\": \"2023-12-03T00:00:00\", \"precipitations\": 0.0}, {\"index\": \"2023-12-04T00:00:00\", \"precipitations\": 0.0}, {\"index\": \"2023-12-05T00:00:00\", \"precipitations\": 0.0}, {\"index\": \"2023-12-06T00:00:00\", \"precipitations\": 0.0}, {\"index\": \"2023-12-07T00:00:00\", \"precipitations\": 8.9}, {\"index\": \"2023-12-08T00:00:00\", \"precipitations\": 0.0}, {\"index\": \"2023-12-09T00:00:00\", \"precipitations\": 0.0}, {\"index\": \"2023-12-10T00:00:00\", \"precipitations\": 0.0}, {\"index\": \"2023-12-11T00:00:00\", \"precipitations\": 0.0}, {\"index\": \"2023-12-12T00:00:00\", \"precipitations\": 0.0}, {\"index\": \"2023-12-13T00:00:00\", \"precipitations\": 0.0}, {\"index\": \"2023-12-14T00:00:00\", \"precipitations\": 0.0}, {\"index\": \"2023-12-15T00:00:00\", \"precipitations\": 0.0}, {\"index\": \"2023-12-16T00:00:00\", \"precipitations\": 0.0}, {\"index\": \"2023-12-17T00:00:00\", \"precipitations\": 0.0}, {\"index\": \"2023-12-18T00:00:00\", \"precipitations\": 0.0}, {\"index\": \"2023-12-19T00:00:00\", \"precipitations\": 0.0}, {\"index\": \"2023-12-20T00:00:00\", \"precipitations\": 0.0}, {\"index\": \"2023-12-21T00:00:00\", \"precipitations\": 0.0}, {\"index\": \"2023-12-22T00:00:00\", \"precipitations\": 0.0}, {\"index\": \"2023-12-23T00:00:00\", \"precipitations\": 0.0}, {\"index\": \"2023-12-24T00:00:00\", \"precipitations\": 0.0}, {\"index\": \"2023-12-25T00:00:00\", \"precipitations\": 11.8}, {\"index\": \"2023-12-26T00:00:00\", \"precipitations\": 0.0}, {\"index\": \"2023-12-27T00:00:00\", \"precipitations\": 0.0}, {\"index\": \"2023-12-28T00:00:00\", \"precipitations\": 0.0}, {\"index\": \"2023-12-29T00:00:00\", \"precipitations\": 0.0}, {\"index\": \"2023-12-30T00:00:00\", \"precipitations\": 0.0}, {\"index\": \"2023-12-31T00:00:00\", \"precipitations\": 6.4}]}}, {\"mode\": \"vega-lite\"});\n",
       "</script>"
      ],
      "text/plain": [
       "alt.Chart(...)"
      ]
     },
     "execution_count": 8,
     "metadata": {},
     "output_type": "execute_result"
    }
   ],
   "source": [
    "#initialisation\n",
    "pluviometrie = pd.DataFrame({\"precipitations\" : np.zeros(365)}, index=pd.date_range(\"20230101\", periods=365))\n",
    "\n",
    "for month in range(len(moyenne_clermont['mois'])):\n",
    "    #nombre de jours ou il pleut\n",
    "    avg_days_obs = round(moyenne_clermont.loc[moyenne_clermont.index[month], 'nb_jours']) \n",
    "    avg_days = round(np.random.normal(avg_days_obs, avg_days_obs/4))\n",
    "    \n",
    "    # choix des jours\n",
    "    start_date = pluviometrie.loc[pluviometrie.index.month == month+1].index.min()\n",
    "    end_date =pluviometrie.loc[pluviometrie.index.month == month+1].index.max()\n",
    "    rainy_days = generate_random_dates(start_date, end_date, avg_days)\n",
    "\n",
    "    #hauteur tombee\n",
    "    avg_rain = moyenne_clermont.loc[moyenne_clermont.index[month], 'hauteur']/avg_days\n",
    "    obs_rain = generate_random_rain(avg_rain, avg_rain/4, avg_days)\n",
    "    \n",
    "    #remplacement des valeurs\n",
    "    pluviometrie.loc[pluviometrie.index.isin(rainy_days), \"precipitations\"] = obs_rain\n",
    "\n",
    "alt.Chart(pluviometrie.reset_index()).mark_bar().encode(\n",
    "    x=alt.X('index:T', title=\"Jour de l'année\"),\n",
    "    y=alt.Y('precipitations:Q', title=\"precipitations\"),\n",
    "    tooltip=[alt.Tooltip(\"precipitations:Q\")]\n",
    ").properties(width=600).interactive()\n",
    "\n"
   ]
  },
  {
   "cell_type": "code",
   "execution_count": 21,
   "metadata": {},
   "outputs": [
    {
     "data": {
      "text/html": [
       "\n",
       "<div id=\"altair-viz-8f48d2cddf10496a98f568a883f360a5\"></div>\n",
       "<script type=\"text/javascript\">\n",
       "  var VEGA_DEBUG = (typeof VEGA_DEBUG == \"undefined\") ? {} : VEGA_DEBUG;\n",
       "  (function(spec, embedOpt){\n",
       "    let outputDiv = document.currentScript.previousElementSibling;\n",
       "    if (outputDiv.id !== \"altair-viz-8f48d2cddf10496a98f568a883f360a5\") {\n",
       "      outputDiv = document.getElementById(\"altair-viz-8f48d2cddf10496a98f568a883f360a5\");\n",
       "    }\n",
       "    const paths = {\n",
       "      \"vega\": \"https://cdn.jsdelivr.net/npm//vega@5?noext\",\n",
       "      \"vega-lib\": \"https://cdn.jsdelivr.net/npm//vega-lib?noext\",\n",
       "      \"vega-lite\": \"https://cdn.jsdelivr.net/npm//vega-lite@4.17.0?noext\",\n",
       "      \"vega-embed\": \"https://cdn.jsdelivr.net/npm//vega-embed@6?noext\",\n",
       "    };\n",
       "\n",
       "    function maybeLoadScript(lib, version) {\n",
       "      var key = `${lib.replace(\"-\", \"\")}_version`;\n",
       "      return (VEGA_DEBUG[key] == version) ?\n",
       "        Promise.resolve(paths[lib]) :\n",
       "        new Promise(function(resolve, reject) {\n",
       "          var s = document.createElement('script');\n",
       "          document.getElementsByTagName(\"head\")[0].appendChild(s);\n",
       "          s.async = true;\n",
       "          s.onload = () => {\n",
       "            VEGA_DEBUG[key] = version;\n",
       "            return resolve(paths[lib]);\n",
       "          };\n",
       "          s.onerror = () => reject(`Error loading script: ${paths[lib]}`);\n",
       "          s.src = paths[lib];\n",
       "        });\n",
       "    }\n",
       "\n",
       "    function showError(err) {\n",
       "      outputDiv.innerHTML = `<div class=\"error\" style=\"color:red;\">${err}</div>`;\n",
       "      throw err;\n",
       "    }\n",
       "\n",
       "    function displayChart(vegaEmbed) {\n",
       "      vegaEmbed(outputDiv, spec, embedOpt)\n",
       "        .catch(err => showError(`Javascript Error: ${err.message}<br>This usually means there's a typo in your chart specification. See the javascript console for the full traceback.`));\n",
       "    }\n",
       "\n",
       "    if(typeof define === \"function\" && define.amd) {\n",
       "      requirejs.config({paths});\n",
       "      require([\"vega-embed\"], displayChart, err => showError(`Error loading script: ${err.message}`));\n",
       "    } else {\n",
       "      maybeLoadScript(\"vega\", \"5\")\n",
       "        .then(() => maybeLoadScript(\"vega-lite\", \"4.17.0\"))\n",
       "        .then(() => maybeLoadScript(\"vega-embed\", \"6\"))\n",
       "        .catch(showError)\n",
       "        .then(() => displayChart(vegaEmbed));\n",
       "    }\n",
       "  })({\"config\": {\"view\": {\"continuousWidth\": 400, \"continuousHeight\": 300}}, \"data\": {\"name\": \"data-e42bcc0a62db745830f7b1e809013696\"}, \"mark\": \"bar\", \"encoding\": {\"tooltip\": [{\"field\": \"precipitations\", \"type\": \"quantitative\"}], \"x\": {\"field\": \"index\", \"title\": \"Jour de l'ann\\u00e9e\", \"type\": \"temporal\"}, \"y\": {\"field\": \"rainfall\", \"title\": \"precipitations\", \"type\": \"quantitative\"}}, \"selection\": {\"selector008\": {\"type\": \"interval\", \"bind\": \"scales\", \"encodings\": [\"x\", \"y\"]}}, \"width\": 600, \"$schema\": \"https://vega.github.io/schema/vega-lite/v4.17.0.json\", \"datasets\": {\"data-e42bcc0a62db745830f7b1e809013696\": [{\"index\": \"2023-01-01T00:00:00\", \"rainfall\": 0.0}, {\"index\": \"2023-01-02T00:00:00\", \"rainfall\": 0.0}, {\"index\": \"2023-01-03T00:00:00\", \"rainfall\": 0.0}, {\"index\": \"2023-01-04T00:00:00\", \"rainfall\": 0.0}, {\"index\": \"2023-01-05T00:00:00\", \"rainfall\": 0.0}, {\"index\": \"2023-01-06T00:00:00\", \"rainfall\": 0.0}, {\"index\": \"2023-01-07T00:00:00\", \"rainfall\": 0.0}, {\"index\": \"2023-01-08T00:00:00\", \"rainfall\": 5.2}, {\"index\": \"2023-01-09T00:00:00\", \"rainfall\": 0.0}, {\"index\": \"2023-01-10T00:00:00\", \"rainfall\": 0.0}, {\"index\": \"2023-01-11T00:00:00\", \"rainfall\": 0.0}, {\"index\": \"2023-01-12T00:00:00\", \"rainfall\": 1.9}, {\"index\": \"2023-01-13T00:00:00\", \"rainfall\": 0.0}, {\"index\": \"2023-01-14T00:00:00\", \"rainfall\": 0.0}, {\"index\": \"2023-01-15T00:00:00\", \"rainfall\": 0.0}, {\"index\": \"2023-01-16T00:00:00\", \"rainfall\": 4.2}, {\"index\": \"2023-01-17T00:00:00\", \"rainfall\": 0.0}, {\"index\": \"2023-01-18T00:00:00\", \"rainfall\": 0.0}, {\"index\": \"2023-01-19T00:00:00\", \"rainfall\": 5.2}, {\"index\": \"2023-01-20T00:00:00\", \"rainfall\": 0.0}, {\"index\": \"2023-01-21T00:00:00\", \"rainfall\": 0.0}, {\"index\": \"2023-01-22T00:00:00\", \"rainfall\": 0.0}, {\"index\": \"2023-01-23T00:00:00\", \"rainfall\": 0.0}, {\"index\": \"2023-01-24T00:00:00\", \"rainfall\": 0.0}, {\"index\": \"2023-01-25T00:00:00\", \"rainfall\": 4.1}, {\"index\": \"2023-01-26T00:00:00\", \"rainfall\": 2.3}, {\"index\": \"2023-01-27T00:00:00\", \"rainfall\": 0.0}, {\"index\": \"2023-01-28T00:00:00\", \"rainfall\": 0.0}, {\"index\": \"2023-01-29T00:00:00\", \"rainfall\": 0.0}, {\"index\": \"2023-01-30T00:00:00\", \"rainfall\": 0.0}, {\"index\": \"2023-01-31T00:00:00\", \"rainfall\": 0.0}, {\"index\": \"2023-02-01T00:00:00\", \"rainfall\": 0.0}, {\"index\": \"2023-02-02T00:00:00\", \"rainfall\": 0.0}, {\"index\": \"2023-02-03T00:00:00\", \"rainfall\": 3.2}, {\"index\": \"2023-02-04T00:00:00\", \"rainfall\": 0.0}, {\"index\": \"2023-02-05T00:00:00\", \"rainfall\": 0.0}, {\"index\": \"2023-02-06T00:00:00\", \"rainfall\": 0.0}, {\"index\": \"2023-02-07T00:00:00\", \"rainfall\": 2.8}, {\"index\": \"2023-02-08T00:00:00\", \"rainfall\": 3.3}, {\"index\": \"2023-02-09T00:00:00\", \"rainfall\": 0.0}, {\"index\": \"2023-02-10T00:00:00\", \"rainfall\": 0.0}, {\"index\": \"2023-02-11T00:00:00\", \"rainfall\": 3.0}, {\"index\": \"2023-02-12T00:00:00\", \"rainfall\": 0.0}, {\"index\": \"2023-02-13T00:00:00\", \"rainfall\": 0.0}, {\"index\": \"2023-02-14T00:00:00\", \"rainfall\": 0.0}, {\"index\": \"2023-02-15T00:00:00\", \"rainfall\": 0.0}, {\"index\": \"2023-02-16T00:00:00\", \"rainfall\": 0.0}, {\"index\": \"2023-02-17T00:00:00\", \"rainfall\": 0.0}, {\"index\": \"2023-02-18T00:00:00\", \"rainfall\": 0.0}, {\"index\": \"2023-02-19T00:00:00\", \"rainfall\": 0.0}, {\"index\": \"2023-02-20T00:00:00\", \"rainfall\": 0.0}, {\"index\": \"2023-02-21T00:00:00\", \"rainfall\": 0.0}, {\"index\": \"2023-02-22T00:00:00\", \"rainfall\": 0.0}, {\"index\": \"2023-02-23T00:00:00\", \"rainfall\": 0.0}, {\"index\": \"2023-02-24T00:00:00\", \"rainfall\": 0.0}, {\"index\": \"2023-02-25T00:00:00\", \"rainfall\": 3.2}, {\"index\": \"2023-02-26T00:00:00\", \"rainfall\": 0.0}, {\"index\": \"2023-02-27T00:00:00\", \"rainfall\": 2.8}, {\"index\": \"2023-02-28T00:00:00\", \"rainfall\": 0.0}, {\"index\": \"2023-03-01T00:00:00\", \"rainfall\": 0.0}, {\"index\": \"2023-03-02T00:00:00\", \"rainfall\": 0.0}, {\"index\": \"2023-03-03T00:00:00\", \"rainfall\": 0.0}, {\"index\": \"2023-03-04T00:00:00\", \"rainfall\": 0.0}, {\"index\": \"2023-03-05T00:00:00\", \"rainfall\": 0.0}, {\"index\": \"2023-03-06T00:00:00\", \"rainfall\": 0.0}, {\"index\": \"2023-03-07T00:00:00\", \"rainfall\": 0.0}, {\"index\": \"2023-03-08T00:00:00\", \"rainfall\": 0.0}, {\"index\": \"2023-03-09T00:00:00\", \"rainfall\": 0.0}, {\"index\": \"2023-03-10T00:00:00\", \"rainfall\": 0.0}, {\"index\": \"2023-03-11T00:00:00\", \"rainfall\": 0.0}, {\"index\": \"2023-03-12T00:00:00\", \"rainfall\": 0.0}, {\"index\": \"2023-03-13T00:00:00\", \"rainfall\": 3.6}, {\"index\": \"2023-03-14T00:00:00\", \"rainfall\": 5.7}, {\"index\": \"2023-03-15T00:00:00\", \"rainfall\": 0.0}, {\"index\": \"2023-03-16T00:00:00\", \"rainfall\": 6.4}, {\"index\": \"2023-03-17T00:00:00\", \"rainfall\": 0.0}, {\"index\": \"2023-03-18T00:00:00\", \"rainfall\": 0.0}, {\"index\": \"2023-03-19T00:00:00\", \"rainfall\": 0.0}, {\"index\": \"2023-03-20T00:00:00\", \"rainfall\": 0.0}, {\"index\": \"2023-03-21T00:00:00\", \"rainfall\": 0.0}, {\"index\": \"2023-03-22T00:00:00\", \"rainfall\": 4.5}, {\"index\": \"2023-03-23T00:00:00\", \"rainfall\": 0.0}, {\"index\": \"2023-03-24T00:00:00\", \"rainfall\": 0.0}, {\"index\": \"2023-03-25T00:00:00\", \"rainfall\": 0.0}, {\"index\": \"2023-03-26T00:00:00\", \"rainfall\": 5.2}, {\"index\": \"2023-03-27T00:00:00\", \"rainfall\": 0.0}, {\"index\": \"2023-03-28T00:00:00\", \"rainfall\": 3.8}, {\"index\": \"2023-03-29T00:00:00\", \"rainfall\": 0.0}, {\"index\": \"2023-03-30T00:00:00\", \"rainfall\": 0.0}, {\"index\": \"2023-03-31T00:00:00\", \"rainfall\": 0.0}, {\"index\": \"2023-04-01T00:00:00\", \"rainfall\": 0.0}, {\"index\": \"2023-04-02T00:00:00\", \"rainfall\": 0.0}, {\"index\": \"2023-04-03T00:00:00\", \"rainfall\": 0.0}, {\"index\": \"2023-04-04T00:00:00\", \"rainfall\": 0.0}, {\"index\": \"2023-04-05T00:00:00\", \"rainfall\": 0.0}, {\"index\": \"2023-04-06T00:00:00\", \"rainfall\": 9.2}, {\"index\": \"2023-04-07T00:00:00\", \"rainfall\": 0.0}, {\"index\": \"2023-04-08T00:00:00\", \"rainfall\": 0.0}, {\"index\": \"2023-04-09T00:00:00\", \"rainfall\": 0.0}, {\"index\": \"2023-04-10T00:00:00\", \"rainfall\": 0.0}, {\"index\": \"2023-04-11T00:00:00\", \"rainfall\": 0.0}, {\"index\": \"2023-04-12T00:00:00\", \"rainfall\": 7.2}, {\"index\": \"2023-04-13T00:00:00\", \"rainfall\": 0.0}, {\"index\": \"2023-04-14T00:00:00\", \"rainfall\": 0.0}, {\"index\": \"2023-04-15T00:00:00\", \"rainfall\": 0.0}, {\"index\": \"2023-04-16T00:00:00\", \"rainfall\": 0.0}, {\"index\": \"2023-04-17T00:00:00\", \"rainfall\": 0.0}, {\"index\": \"2023-04-18T00:00:00\", \"rainfall\": 0.0}, {\"index\": \"2023-04-19T00:00:00\", \"rainfall\": 0.0}, {\"index\": \"2023-04-20T00:00:00\", \"rainfall\": 0.0}, {\"index\": \"2023-04-21T00:00:00\", \"rainfall\": 0.0}, {\"index\": \"2023-04-22T00:00:00\", \"rainfall\": 8.1}, {\"index\": \"2023-04-23T00:00:00\", \"rainfall\": 0.0}, {\"index\": \"2023-04-24T00:00:00\", \"rainfall\": 7.3}, {\"index\": \"2023-04-25T00:00:00\", \"rainfall\": 6.2}, {\"index\": \"2023-04-26T00:00:00\", \"rainfall\": 8.5}, {\"index\": \"2023-04-27T00:00:00\", \"rainfall\": 0.0}, {\"index\": \"2023-04-28T00:00:00\", \"rainfall\": 0.0}, {\"index\": \"2023-04-29T00:00:00\", \"rainfall\": 0.0}, {\"index\": \"2023-04-30T00:00:00\", \"rainfall\": 0.0}, {\"index\": \"2023-05-01T00:00:00\", \"rainfall\": 8.2}, {\"index\": \"2023-05-02T00:00:00\", \"rainfall\": 0.0}, {\"index\": \"2023-05-03T00:00:00\", \"rainfall\": 0.0}, {\"index\": \"2023-05-04T00:00:00\", \"rainfall\": 0.0}, {\"index\": \"2023-05-05T00:00:00\", \"rainfall\": 0.0}, {\"index\": \"2023-05-06T00:00:00\", \"rainfall\": 0.0}, {\"index\": \"2023-05-07T00:00:00\", \"rainfall\": 0.0}, {\"index\": \"2023-05-08T00:00:00\", \"rainfall\": 7.6}, {\"index\": \"2023-05-09T00:00:00\", \"rainfall\": 0.0}, {\"index\": \"2023-05-10T00:00:00\", \"rainfall\": 0.0}, {\"index\": \"2023-05-11T00:00:00\", \"rainfall\": 0.0}, {\"index\": \"2023-05-12T00:00:00\", \"rainfall\": 0.0}, {\"index\": \"2023-05-13T00:00:00\", \"rainfall\": 0.0}, {\"index\": \"2023-05-14T00:00:00\", \"rainfall\": 10.0}, {\"index\": \"2023-05-15T00:00:00\", \"rainfall\": 9.2}, {\"index\": \"2023-05-16T00:00:00\", \"rainfall\": 4.6}, {\"index\": \"2023-05-17T00:00:00\", \"rainfall\": 0.0}, {\"index\": \"2023-05-18T00:00:00\", \"rainfall\": 9.0}, {\"index\": \"2023-05-19T00:00:00\", \"rainfall\": 0.0}, {\"index\": \"2023-05-20T00:00:00\", \"rainfall\": 0.0}, {\"index\": \"2023-05-21T00:00:00\", \"rainfall\": 0.0}, {\"index\": \"2023-05-22T00:00:00\", \"rainfall\": 5.7}, {\"index\": \"2023-05-23T00:00:00\", \"rainfall\": 7.4}, {\"index\": \"2023-05-24T00:00:00\", \"rainfall\": 0.0}, {\"index\": \"2023-05-25T00:00:00\", \"rainfall\": 10.3}, {\"index\": \"2023-05-26T00:00:00\", \"rainfall\": 0.0}, {\"index\": \"2023-05-27T00:00:00\", \"rainfall\": 0.0}, {\"index\": \"2023-05-28T00:00:00\", \"rainfall\": 0.0}, {\"index\": \"2023-05-29T00:00:00\", \"rainfall\": 0.0}, {\"index\": \"2023-05-30T00:00:00\", \"rainfall\": 0.0}, {\"index\": \"2023-05-31T00:00:00\", \"rainfall\": 0.0}, {\"index\": \"2023-06-01T00:00:00\", \"rainfall\": 0.0}, {\"index\": \"2023-06-02T00:00:00\", \"rainfall\": 8.5}, {\"index\": \"2023-06-03T00:00:00\", \"rainfall\": 0.0}, {\"index\": \"2023-06-04T00:00:00\", \"rainfall\": 10.4}, {\"index\": \"2023-06-05T00:00:00\", \"rainfall\": 0.0}, {\"index\": \"2023-06-06T00:00:00\", \"rainfall\": 0.0}, {\"index\": \"2023-06-07T00:00:00\", \"rainfall\": 0.0}, {\"index\": \"2023-06-08T00:00:00\", \"rainfall\": 0.0}, {\"index\": \"2023-06-09T00:00:00\", \"rainfall\": 9.0}, {\"index\": \"2023-06-10T00:00:00\", \"rainfall\": 9.2}, {\"index\": \"2023-06-11T00:00:00\", \"rainfall\": 0.0}, {\"index\": \"2023-06-12T00:00:00\", \"rainfall\": 0.0}, {\"index\": \"2023-06-13T00:00:00\", \"rainfall\": 0.0}, {\"index\": \"2023-06-14T00:00:00\", \"rainfall\": 0.0}, {\"index\": \"2023-06-15T00:00:00\", \"rainfall\": 0.0}, {\"index\": \"2023-06-16T00:00:00\", \"rainfall\": 0.0}, {\"index\": \"2023-06-17T00:00:00\", \"rainfall\": 0.0}, {\"index\": \"2023-06-18T00:00:00\", \"rainfall\": 6.5}, {\"index\": \"2023-06-19T00:00:00\", \"rainfall\": 7.4}, {\"index\": \"2023-06-20T00:00:00\", \"rainfall\": 0.0}, {\"index\": \"2023-06-21T00:00:00\", \"rainfall\": 0.0}, {\"index\": \"2023-06-22T00:00:00\", \"rainfall\": 0.0}, {\"index\": \"2023-06-23T00:00:00\", \"rainfall\": 0.0}, {\"index\": \"2023-06-24T00:00:00\", \"rainfall\": 0.0}, {\"index\": \"2023-06-25T00:00:00\", \"rainfall\": 0.0}, {\"index\": \"2023-06-26T00:00:00\", \"rainfall\": 0.0}, {\"index\": \"2023-06-27T00:00:00\", \"rainfall\": 10.2}, {\"index\": \"2023-06-28T00:00:00\", \"rainfall\": 7.7}, {\"index\": \"2023-06-29T00:00:00\", \"rainfall\": 0.0}, {\"index\": \"2023-06-30T00:00:00\", \"rainfall\": 0.0}, {\"index\": \"2023-07-01T00:00:00\", \"rainfall\": 0.0}, {\"index\": \"2023-07-02T00:00:00\", \"rainfall\": 0.0}, {\"index\": \"2023-07-03T00:00:00\", \"rainfall\": 0.0}, {\"index\": \"2023-07-04T00:00:00\", \"rainfall\": 0.0}, {\"index\": \"2023-07-05T00:00:00\", \"rainfall\": 0.0}, {\"index\": \"2023-07-06T00:00:00\", \"rainfall\": 0.0}, {\"index\": \"2023-07-07T00:00:00\", \"rainfall\": 11.4}, {\"index\": \"2023-07-08T00:00:00\", \"rainfall\": 0.0}, {\"index\": \"2023-07-09T00:00:00\", \"rainfall\": 0.0}, {\"index\": \"2023-07-10T00:00:00\", \"rainfall\": 0.0}, {\"index\": \"2023-07-11T00:00:00\", \"rainfall\": 0.0}, {\"index\": \"2023-07-12T00:00:00\", \"rainfall\": 0.0}, {\"index\": \"2023-07-13T00:00:00\", \"rainfall\": 0.0}, {\"index\": \"2023-07-14T00:00:00\", \"rainfall\": 0.0}, {\"index\": \"2023-07-15T00:00:00\", \"rainfall\": 7.9}, {\"index\": \"2023-07-16T00:00:00\", \"rainfall\": 0.0}, {\"index\": \"2023-07-17T00:00:00\", \"rainfall\": 13.1}, {\"index\": \"2023-07-18T00:00:00\", \"rainfall\": 0.0}, {\"index\": \"2023-07-19T00:00:00\", \"rainfall\": 0.0}, {\"index\": \"2023-07-20T00:00:00\", \"rainfall\": 0.0}, {\"index\": \"2023-07-21T00:00:00\", \"rainfall\": 0.0}, {\"index\": \"2023-07-22T00:00:00\", \"rainfall\": 10.2}, {\"index\": \"2023-07-23T00:00:00\", \"rainfall\": 0.0}, {\"index\": \"2023-07-24T00:00:00\", \"rainfall\": 8.4}, {\"index\": \"2023-07-25T00:00:00\", \"rainfall\": 0.0}, {\"index\": \"2023-07-26T00:00:00\", \"rainfall\": 0.0}, {\"index\": \"2023-07-27T00:00:00\", \"rainfall\": 0.0}, {\"index\": \"2023-07-28T00:00:00\", \"rainfall\": 0.0}, {\"index\": \"2023-07-29T00:00:00\", \"rainfall\": 0.0}, {\"index\": \"2023-07-30T00:00:00\", \"rainfall\": 9.6}, {\"index\": \"2023-07-31T00:00:00\", \"rainfall\": 0.0}, {\"index\": \"2023-08-01T00:00:00\", \"rainfall\": 10.5}, {\"index\": \"2023-08-02T00:00:00\", \"rainfall\": 6.9}, {\"index\": \"2023-08-03T00:00:00\", \"rainfall\": 0.0}, {\"index\": \"2023-08-04T00:00:00\", \"rainfall\": 0.0}, {\"index\": \"2023-08-05T00:00:00\", \"rainfall\": 8.9}, {\"index\": \"2023-08-06T00:00:00\", \"rainfall\": 9.0}, {\"index\": \"2023-08-07T00:00:00\", \"rainfall\": 0.0}, {\"index\": \"2023-08-08T00:00:00\", \"rainfall\": 0.0}, {\"index\": \"2023-08-09T00:00:00\", \"rainfall\": 0.0}, {\"index\": \"2023-08-10T00:00:00\", \"rainfall\": 13.2}, {\"index\": \"2023-08-11T00:00:00\", \"rainfall\": 0.0}, {\"index\": \"2023-08-12T00:00:00\", \"rainfall\": 0.0}, {\"index\": \"2023-08-13T00:00:00\", \"rainfall\": 0.0}, {\"index\": \"2023-08-14T00:00:00\", \"rainfall\": 0.0}, {\"index\": \"2023-08-15T00:00:00\", \"rainfall\": 0.0}, {\"index\": \"2023-08-16T00:00:00\", \"rainfall\": 0.0}, {\"index\": \"2023-08-17T00:00:00\", \"rainfall\": 0.0}, {\"index\": \"2023-08-18T00:00:00\", \"rainfall\": 10.4}, {\"index\": \"2023-08-19T00:00:00\", \"rainfall\": 0.0}, {\"index\": \"2023-08-20T00:00:00\", \"rainfall\": 0.0}, {\"index\": \"2023-08-21T00:00:00\", \"rainfall\": 9.7}, {\"index\": \"2023-08-22T00:00:00\", \"rainfall\": 0.0}, {\"index\": \"2023-08-23T00:00:00\", \"rainfall\": 0.0}, {\"index\": \"2023-08-24T00:00:00\", \"rainfall\": 0.0}, {\"index\": \"2023-08-25T00:00:00\", \"rainfall\": 0.0}, {\"index\": \"2023-08-26T00:00:00\", \"rainfall\": 0.0}, {\"index\": \"2023-08-27T00:00:00\", \"rainfall\": 0.0}, {\"index\": \"2023-08-28T00:00:00\", \"rainfall\": 0.0}, {\"index\": \"2023-08-29T00:00:00\", \"rainfall\": 0.0}, {\"index\": \"2023-08-30T00:00:00\", \"rainfall\": 0.0}, {\"index\": \"2023-08-31T00:00:00\", \"rainfall\": 0.0}, {\"index\": \"2023-09-01T00:00:00\", \"rainfall\": 0.0}, {\"index\": \"2023-09-02T00:00:00\", \"rainfall\": 0.0}, {\"index\": \"2023-09-03T00:00:00\", \"rainfall\": 0.0}, {\"index\": \"2023-09-04T00:00:00\", \"rainfall\": 0.0}, {\"index\": \"2023-09-05T00:00:00\", \"rainfall\": 0.0}, {\"index\": \"2023-09-06T00:00:00\", \"rainfall\": 7.2}, {\"index\": \"2023-09-07T00:00:00\", \"rainfall\": 6.1}, {\"index\": \"2023-09-08T00:00:00\", \"rainfall\": 0.0}, {\"index\": \"2023-09-09T00:00:00\", \"rainfall\": 0.0}, {\"index\": \"2023-09-10T00:00:00\", \"rainfall\": 0.0}, {\"index\": \"2023-09-11T00:00:00\", \"rainfall\": 5.5}, {\"index\": \"2023-09-12T00:00:00\", \"rainfall\": 0.0}, {\"index\": \"2023-09-13T00:00:00\", \"rainfall\": 6.0}, {\"index\": \"2023-09-14T00:00:00\", \"rainfall\": 0.0}, {\"index\": \"2023-09-15T00:00:00\", \"rainfall\": 0.0}, {\"index\": \"2023-09-16T00:00:00\", \"rainfall\": 9.0}, {\"index\": \"2023-09-17T00:00:00\", \"rainfall\": 8.5}, {\"index\": \"2023-09-18T00:00:00\", \"rainfall\": 0.0}, {\"index\": \"2023-09-19T00:00:00\", \"rainfall\": 6.2}, {\"index\": \"2023-09-20T00:00:00\", \"rainfall\": 0.0}, {\"index\": \"2023-09-21T00:00:00\", \"rainfall\": 0.0}, {\"index\": \"2023-09-22T00:00:00\", \"rainfall\": 0.0}, {\"index\": \"2023-09-23T00:00:00\", \"rainfall\": 0.0}, {\"index\": \"2023-09-24T00:00:00\", \"rainfall\": 0.0}, {\"index\": \"2023-09-25T00:00:00\", \"rainfall\": 0.0}, {\"index\": \"2023-09-26T00:00:00\", \"rainfall\": 0.0}, {\"index\": \"2023-09-27T00:00:00\", \"rainfall\": 7.7}, {\"index\": \"2023-09-28T00:00:00\", \"rainfall\": 0.0}, {\"index\": \"2023-09-29T00:00:00\", \"rainfall\": 0.0}, {\"index\": \"2023-09-30T00:00:00\", \"rainfall\": 0.0}, {\"index\": \"2023-10-01T00:00:00\", \"rainfall\": 0.0}, {\"index\": \"2023-10-02T00:00:00\", \"rainfall\": 0.0}, {\"index\": \"2023-10-03T00:00:00\", \"rainfall\": 0.0}, {\"index\": \"2023-10-04T00:00:00\", \"rainfall\": 5.3}, {\"index\": \"2023-10-05T00:00:00\", \"rainfall\": 0.0}, {\"index\": \"2023-10-06T00:00:00\", \"rainfall\": 3.2}, {\"index\": \"2023-10-07T00:00:00\", \"rainfall\": 0.0}, {\"index\": \"2023-10-08T00:00:00\", \"rainfall\": 0.0}, {\"index\": \"2023-10-09T00:00:00\", \"rainfall\": 0.0}, {\"index\": \"2023-10-10T00:00:00\", \"rainfall\": 0.0}, {\"index\": \"2023-10-11T00:00:00\", \"rainfall\": 0.0}, {\"index\": \"2023-10-12T00:00:00\", \"rainfall\": 0.0}, {\"index\": \"2023-10-13T00:00:00\", \"rainfall\": 0.0}, {\"index\": \"2023-10-14T00:00:00\", \"rainfall\": 5.9}, {\"index\": \"2023-10-15T00:00:00\", \"rainfall\": 0.0}, {\"index\": \"2023-10-16T00:00:00\", \"rainfall\": 0.0}, {\"index\": \"2023-10-17T00:00:00\", \"rainfall\": 0.0}, {\"index\": \"2023-10-18T00:00:00\", \"rainfall\": 0.0}, {\"index\": \"2023-10-19T00:00:00\", \"rainfall\": 0.0}, {\"index\": \"2023-10-20T00:00:00\", \"rainfall\": 0.0}, {\"index\": \"2023-10-21T00:00:00\", \"rainfall\": 0.0}, {\"index\": \"2023-10-22T00:00:00\", \"rainfall\": 4.7}, {\"index\": \"2023-10-23T00:00:00\", \"rainfall\": 0.0}, {\"index\": \"2023-10-24T00:00:00\", \"rainfall\": 0.0}, {\"index\": \"2023-10-25T00:00:00\", \"rainfall\": 5.0}, {\"index\": \"2023-10-26T00:00:00\", \"rainfall\": 0.0}, {\"index\": \"2023-10-27T00:00:00\", \"rainfall\": 0.0}, {\"index\": \"2023-10-28T00:00:00\", \"rainfall\": 3.5}, {\"index\": \"2023-10-29T00:00:00\", \"rainfall\": 5.4}, {\"index\": \"2023-10-30T00:00:00\", \"rainfall\": 5.2}, {\"index\": \"2023-10-31T00:00:00\", \"rainfall\": 2.1}, {\"index\": \"2023-11-01T00:00:00\", \"rainfall\": 0.0}, {\"index\": \"2023-11-02T00:00:00\", \"rainfall\": 0.0}, {\"index\": \"2023-11-03T00:00:00\", \"rainfall\": 0.0}, {\"index\": \"2023-11-04T00:00:00\", \"rainfall\": 0.0}, {\"index\": \"2023-11-05T00:00:00\", \"rainfall\": 6.8}, {\"index\": \"2023-11-06T00:00:00\", \"rainfall\": 0.0}, {\"index\": \"2023-11-07T00:00:00\", \"rainfall\": 0.0}, {\"index\": \"2023-11-08T00:00:00\", \"rainfall\": 0.0}, {\"index\": \"2023-11-09T00:00:00\", \"rainfall\": 0.0}, {\"index\": \"2023-11-10T00:00:00\", \"rainfall\": 9.3}, {\"index\": \"2023-11-11T00:00:00\", \"rainfall\": 4.8}, {\"index\": \"2023-11-12T00:00:00\", \"rainfall\": 0.0}, {\"index\": \"2023-11-13T00:00:00\", \"rainfall\": 0.0}, {\"index\": \"2023-11-14T00:00:00\", \"rainfall\": 0.0}, {\"index\": \"2023-11-15T00:00:00\", \"rainfall\": 6.3}, {\"index\": \"2023-11-16T00:00:00\", \"rainfall\": 0.0}, {\"index\": \"2023-11-17T00:00:00\", \"rainfall\": 0.0}, {\"index\": \"2023-11-18T00:00:00\", \"rainfall\": 5.4}, {\"index\": \"2023-11-19T00:00:00\", \"rainfall\": 0.0}, {\"index\": \"2023-11-20T00:00:00\", \"rainfall\": 0.0}, {\"index\": \"2023-11-21T00:00:00\", \"rainfall\": 0.0}, {\"index\": \"2023-11-22T00:00:00\", \"rainfall\": 0.0}, {\"index\": \"2023-11-23T00:00:00\", \"rainfall\": 0.0}, {\"index\": \"2023-11-24T00:00:00\", \"rainfall\": 8.1}, {\"index\": \"2023-11-25T00:00:00\", \"rainfall\": 6.5}, {\"index\": \"2023-11-26T00:00:00\", \"rainfall\": 0.0}, {\"index\": \"2023-11-27T00:00:00\", \"rainfall\": 0.0}, {\"index\": \"2023-11-28T00:00:00\", \"rainfall\": 0.0}, {\"index\": \"2023-11-29T00:00:00\", \"rainfall\": 6.6}, {\"index\": \"2023-11-30T00:00:00\", \"rainfall\": 0.0}, {\"index\": \"2023-12-01T00:00:00\", \"rainfall\": 0.0}, {\"index\": \"2023-12-02T00:00:00\", \"rainfall\": 0.0}, {\"index\": \"2023-12-03T00:00:00\", \"rainfall\": 0.0}, {\"index\": \"2023-12-04T00:00:00\", \"rainfall\": 0.0}, {\"index\": \"2023-12-05T00:00:00\", \"rainfall\": 0.0}, {\"index\": \"2023-12-06T00:00:00\", \"rainfall\": 4.6}, {\"index\": \"2023-12-07T00:00:00\", \"rainfall\": 0.0}, {\"index\": \"2023-12-08T00:00:00\", \"rainfall\": 0.0}, {\"index\": \"2023-12-09T00:00:00\", \"rainfall\": 0.0}, {\"index\": \"2023-12-10T00:00:00\", \"rainfall\": 0.0}, {\"index\": \"2023-12-11T00:00:00\", \"rainfall\": 0.0}, {\"index\": \"2023-12-12T00:00:00\", \"rainfall\": 0.0}, {\"index\": \"2023-12-13T00:00:00\", \"rainfall\": 5.6}, {\"index\": \"2023-12-14T00:00:00\", \"rainfall\": 5.6}, {\"index\": \"2023-12-15T00:00:00\", \"rainfall\": 0.0}, {\"index\": \"2023-12-16T00:00:00\", \"rainfall\": 7.2}, {\"index\": \"2023-12-17T00:00:00\", \"rainfall\": 0.0}, {\"index\": \"2023-12-18T00:00:00\", \"rainfall\": 5.2}, {\"index\": \"2023-12-19T00:00:00\", \"rainfall\": 0.0}, {\"index\": \"2023-12-20T00:00:00\", \"rainfall\": 0.0}, {\"index\": \"2023-12-21T00:00:00\", \"rainfall\": 0.0}, {\"index\": \"2023-12-22T00:00:00\", \"rainfall\": 0.0}, {\"index\": \"2023-12-23T00:00:00\", \"rainfall\": 0.0}, {\"index\": \"2023-12-24T00:00:00\", \"rainfall\": 0.0}, {\"index\": \"2023-12-25T00:00:00\", \"rainfall\": 0.0}, {\"index\": \"2023-12-26T00:00:00\", \"rainfall\": 0.0}, {\"index\": \"2023-12-27T00:00:00\", \"rainfall\": 0.0}, {\"index\": \"2023-12-28T00:00:00\", \"rainfall\": 0.0}, {\"index\": \"2023-12-29T00:00:00\", \"rainfall\": 0.0}, {\"index\": \"2023-12-30T00:00:00\", \"rainfall\": 3.4}, {\"index\": \"2023-12-31T00:00:00\", \"rainfall\": 0.0}]}}, {\"mode\": \"vega-lite\"});\n",
       "</script>"
      ],
      "text/plain": [
       "alt.Chart(...)"
      ]
     },
     "execution_count": 21,
     "metadata": {},
     "output_type": "execute_result"
    }
   ],
   "source": [
    "pluvio2 = simulation.generate_rainfall(moyenne_clermont[\"nb_jours\"], moyenne_clermont[\"hauteur\"])\n",
    "alt.Chart(pluvio2.reset_index()).mark_bar().encode(\n",
    "    x=alt.X('index:T', title=\"Jour de l'année\"),\n",
    "    y=alt.Y('rainfall:Q', title=\"precipitations\"),\n",
    "    tooltip=[alt.Tooltip(\"precipitations:Q\")]\n",
    ").properties(width=600).interactive()"
   ]
  },
  {
   "attachments": {},
   "cell_type": "markdown",
   "metadata": {},
   "source": [
    "## Consommation\n",
    "\n",
    "### Typologie des consommations\n",
    "\n",
    "On distingue ici trois sortes de besoins : \n",
    "\n",
    "* irrigation (potager)\n",
    "* agricole (machines)\n",
    "* domestiques\n",
    "\n",
    "Dans un premier temps, nous ne considérerons que les besoins d'irrigation. \n",
    "\n",
    "### Besoins potager\n",
    "\n",
    "Le potager à irriguer a une surface de $60 m^2$ . \n",
    "\n",
    "Pour simplifier les calculs, on ne prendra que trois valeurs de besoins en eau du potager : \n",
    "\n",
    "* D'octobre à avril le potager est au repos et n'a pas besoin d'eau.\n",
    "* Entre juin et août : irrigation maximale.\n",
    "* En mai et septembre, irrigation modérée (moitié) \n",
    "\n",
    "Pour simplifier, on considérera que l'irrigation est de $20L/m^2$ tous les trois jours *sans paillage* au plus fort de l'été. \n",
    "Le paillage divise ces besoins par trois. \n",
    "\n"
   ]
  },
  {
   "cell_type": "code",
   "execution_count": 9,
   "metadata": {},
   "outputs": [
    {
     "data": {
      "text/html": [
       "\n",
       "<div id=\"altair-viz-8f048b0850ce40e2ae1a5981e80bfafe\"></div>\n",
       "<script type=\"text/javascript\">\n",
       "  var VEGA_DEBUG = (typeof VEGA_DEBUG == \"undefined\") ? {} : VEGA_DEBUG;\n",
       "  (function(spec, embedOpt){\n",
       "    let outputDiv = document.currentScript.previousElementSibling;\n",
       "    if (outputDiv.id !== \"altair-viz-8f048b0850ce40e2ae1a5981e80bfafe\") {\n",
       "      outputDiv = document.getElementById(\"altair-viz-8f048b0850ce40e2ae1a5981e80bfafe\");\n",
       "    }\n",
       "    const paths = {\n",
       "      \"vega\": \"https://cdn.jsdelivr.net/npm//vega@5?noext\",\n",
       "      \"vega-lib\": \"https://cdn.jsdelivr.net/npm//vega-lib?noext\",\n",
       "      \"vega-lite\": \"https://cdn.jsdelivr.net/npm//vega-lite@4.17.0?noext\",\n",
       "      \"vega-embed\": \"https://cdn.jsdelivr.net/npm//vega-embed@6?noext\",\n",
       "    };\n",
       "\n",
       "    function maybeLoadScript(lib, version) {\n",
       "      var key = `${lib.replace(\"-\", \"\")}_version`;\n",
       "      return (VEGA_DEBUG[key] == version) ?\n",
       "        Promise.resolve(paths[lib]) :\n",
       "        new Promise(function(resolve, reject) {\n",
       "          var s = document.createElement('script');\n",
       "          document.getElementsByTagName(\"head\")[0].appendChild(s);\n",
       "          s.async = true;\n",
       "          s.onload = () => {\n",
       "            VEGA_DEBUG[key] = version;\n",
       "            return resolve(paths[lib]);\n",
       "          };\n",
       "          s.onerror = () => reject(`Error loading script: ${paths[lib]}`);\n",
       "          s.src = paths[lib];\n",
       "        });\n",
       "    }\n",
       "\n",
       "    function showError(err) {\n",
       "      outputDiv.innerHTML = `<div class=\"error\" style=\"color:red;\">${err}</div>`;\n",
       "      throw err;\n",
       "    }\n",
       "\n",
       "    function displayChart(vegaEmbed) {\n",
       "      vegaEmbed(outputDiv, spec, embedOpt)\n",
       "        .catch(err => showError(`Javascript Error: ${err.message}<br>This usually means there's a typo in your chart specification. See the javascript console for the full traceback.`));\n",
       "    }\n",
       "\n",
       "    if(typeof define === \"function\" && define.amd) {\n",
       "      requirejs.config({paths});\n",
       "      require([\"vega-embed\"], displayChart, err => showError(`Error loading script: ${err.message}`));\n",
       "    } else {\n",
       "      maybeLoadScript(\"vega\", \"5\")\n",
       "        .then(() => maybeLoadScript(\"vega-lite\", \"4.17.0\"))\n",
       "        .then(() => maybeLoadScript(\"vega-embed\", \"6\"))\n",
       "        .catch(showError)\n",
       "        .then(() => displayChart(vegaEmbed));\n",
       "    }\n",
       "  })({\"config\": {\"view\": {\"continuousWidth\": 400, \"continuousHeight\": 300}}, \"data\": {\"name\": \"data-568968ce21f48e0973708282e8b4e96a\"}, \"mark\": \"line\", \"encoding\": {\"tooltip\": [{\"field\": \"conso_base\", \"type\": \"quantitative\"}], \"x\": {\"field\": \"index\", \"title\": \"Jour de l'ann\\u00e9e\", \"type\": \"temporal\"}, \"y\": {\"field\": \"potager\", \"title\": \"Consommation\", \"type\": \"quantitative\"}}, \"selection\": {\"selector003\": {\"type\": \"interval\", \"bind\": \"scales\", \"encodings\": [\"x\", \"y\"]}}, \"width\": 600, \"$schema\": \"https://vega.github.io/schema/vega-lite/v4.17.0.json\", \"datasets\": {\"data-568968ce21f48e0973708282e8b4e96a\": [{\"index\": \"2023-01-01T00:00:00\", \"potager\": 0.0, \"potager_paillage\": 0.0}, {\"index\": \"2023-01-02T00:00:00\", \"potager\": 0.0, \"potager_paillage\": 0.0}, {\"index\": \"2023-01-03T00:00:00\", \"potager\": 0.0, \"potager_paillage\": 0.0}, {\"index\": \"2023-01-04T00:00:00\", \"potager\": 0.0, \"potager_paillage\": 0.0}, {\"index\": \"2023-01-05T00:00:00\", \"potager\": 0.0, \"potager_paillage\": 0.0}, {\"index\": \"2023-01-06T00:00:00\", \"potager\": 0.0, \"potager_paillage\": 0.0}, {\"index\": \"2023-01-07T00:00:00\", \"potager\": 0.0, \"potager_paillage\": 0.0}, {\"index\": \"2023-01-08T00:00:00\", \"potager\": 0.0, \"potager_paillage\": 0.0}, {\"index\": \"2023-01-09T00:00:00\", \"potager\": 0.0, \"potager_paillage\": 0.0}, {\"index\": \"2023-01-10T00:00:00\", \"potager\": 0.0, \"potager_paillage\": 0.0}, {\"index\": \"2023-01-11T00:00:00\", \"potager\": 0.0, \"potager_paillage\": 0.0}, {\"index\": \"2023-01-12T00:00:00\", \"potager\": 0.0, \"potager_paillage\": 0.0}, {\"index\": \"2023-01-13T00:00:00\", \"potager\": 0.0, \"potager_paillage\": 0.0}, {\"index\": \"2023-01-14T00:00:00\", \"potager\": 0.0, \"potager_paillage\": 0.0}, {\"index\": \"2023-01-15T00:00:00\", \"potager\": 0.0, \"potager_paillage\": 0.0}, {\"index\": \"2023-01-16T00:00:00\", \"potager\": 0.0, \"potager_paillage\": 0.0}, {\"index\": \"2023-01-17T00:00:00\", \"potager\": 0.0, \"potager_paillage\": 0.0}, {\"index\": \"2023-01-18T00:00:00\", \"potager\": 0.0, \"potager_paillage\": 0.0}, {\"index\": \"2023-01-19T00:00:00\", \"potager\": 0.0, \"potager_paillage\": 0.0}, {\"index\": \"2023-01-20T00:00:00\", \"potager\": 0.0, \"potager_paillage\": 0.0}, {\"index\": \"2023-01-21T00:00:00\", \"potager\": 0.0, \"potager_paillage\": 0.0}, {\"index\": \"2023-01-22T00:00:00\", \"potager\": 0.0, \"potager_paillage\": 0.0}, {\"index\": \"2023-01-23T00:00:00\", \"potager\": 0.0, \"potager_paillage\": 0.0}, {\"index\": \"2023-01-24T00:00:00\", \"potager\": 0.0, \"potager_paillage\": 0.0}, {\"index\": \"2023-01-25T00:00:00\", \"potager\": 0.0, \"potager_paillage\": 0.0}, {\"index\": \"2023-01-26T00:00:00\", \"potager\": 0.0, \"potager_paillage\": 0.0}, {\"index\": \"2023-01-27T00:00:00\", \"potager\": 0.0, \"potager_paillage\": 0.0}, {\"index\": \"2023-01-28T00:00:00\", \"potager\": 0.0, \"potager_paillage\": 0.0}, {\"index\": \"2023-01-29T00:00:00\", \"potager\": 0.0, \"potager_paillage\": 0.0}, {\"index\": \"2023-01-30T00:00:00\", \"potager\": 0.0, \"potager_paillage\": 0.0}, {\"index\": \"2023-01-31T00:00:00\", \"potager\": 0.0, \"potager_paillage\": 0.0}, {\"index\": \"2023-02-01T00:00:00\", \"potager\": 0.0, \"potager_paillage\": 0.0}, {\"index\": \"2023-02-02T00:00:00\", \"potager\": 0.0, \"potager_paillage\": 0.0}, {\"index\": \"2023-02-03T00:00:00\", \"potager\": 0.0, \"potager_paillage\": 0.0}, {\"index\": \"2023-02-04T00:00:00\", \"potager\": 0.0, \"potager_paillage\": 0.0}, {\"index\": \"2023-02-05T00:00:00\", \"potager\": 0.0, \"potager_paillage\": 0.0}, {\"index\": \"2023-02-06T00:00:00\", \"potager\": 0.0, \"potager_paillage\": 0.0}, {\"index\": \"2023-02-07T00:00:00\", \"potager\": 0.0, \"potager_paillage\": 0.0}, {\"index\": \"2023-02-08T00:00:00\", \"potager\": 0.0, \"potager_paillage\": 0.0}, {\"index\": \"2023-02-09T00:00:00\", \"potager\": 0.0, \"potager_paillage\": 0.0}, {\"index\": \"2023-02-10T00:00:00\", \"potager\": 0.0, \"potager_paillage\": 0.0}, {\"index\": \"2023-02-11T00:00:00\", \"potager\": 0.0, \"potager_paillage\": 0.0}, {\"index\": \"2023-02-12T00:00:00\", \"potager\": 0.0, \"potager_paillage\": 0.0}, {\"index\": \"2023-02-13T00:00:00\", \"potager\": 0.0, \"potager_paillage\": 0.0}, {\"index\": \"2023-02-14T00:00:00\", \"potager\": 0.0, \"potager_paillage\": 0.0}, {\"index\": \"2023-02-15T00:00:00\", \"potager\": 0.0, \"potager_paillage\": 0.0}, {\"index\": \"2023-02-16T00:00:00\", \"potager\": 0.0, \"potager_paillage\": 0.0}, {\"index\": \"2023-02-17T00:00:00\", \"potager\": 0.0, \"potager_paillage\": 0.0}, {\"index\": \"2023-02-18T00:00:00\", \"potager\": 0.0, \"potager_paillage\": 0.0}, {\"index\": \"2023-02-19T00:00:00\", \"potager\": 0.0, \"potager_paillage\": 0.0}, {\"index\": \"2023-02-20T00:00:00\", \"potager\": 0.0, \"potager_paillage\": 0.0}, {\"index\": \"2023-02-21T00:00:00\", \"potager\": 0.0, \"potager_paillage\": 0.0}, {\"index\": \"2023-02-22T00:00:00\", \"potager\": 0.0, \"potager_paillage\": 0.0}, {\"index\": \"2023-02-23T00:00:00\", \"potager\": 0.0, \"potager_paillage\": 0.0}, {\"index\": \"2023-02-24T00:00:00\", \"potager\": 0.0, \"potager_paillage\": 0.0}, {\"index\": \"2023-02-25T00:00:00\", \"potager\": 0.0, \"potager_paillage\": 0.0}, {\"index\": \"2023-02-26T00:00:00\", \"potager\": 0.0, \"potager_paillage\": 0.0}, {\"index\": \"2023-02-27T00:00:00\", \"potager\": 0.0, \"potager_paillage\": 0.0}, {\"index\": \"2023-02-28T00:00:00\", \"potager\": 0.0, \"potager_paillage\": 0.0}, {\"index\": \"2023-03-01T00:00:00\", \"potager\": 0.0, \"potager_paillage\": 0.0}, {\"index\": \"2023-03-02T00:00:00\", \"potager\": 0.0, \"potager_paillage\": 0.0}, {\"index\": \"2023-03-03T00:00:00\", \"potager\": 0.0, \"potager_paillage\": 0.0}, {\"index\": \"2023-03-04T00:00:00\", \"potager\": 0.0, \"potager_paillage\": 0.0}, {\"index\": \"2023-03-05T00:00:00\", \"potager\": 0.0, \"potager_paillage\": 0.0}, {\"index\": \"2023-03-06T00:00:00\", \"potager\": 0.0, \"potager_paillage\": 0.0}, {\"index\": \"2023-03-07T00:00:00\", \"potager\": 0.0, \"potager_paillage\": 0.0}, {\"index\": \"2023-03-08T00:00:00\", \"potager\": 0.0, \"potager_paillage\": 0.0}, {\"index\": \"2023-03-09T00:00:00\", \"potager\": 0.0, \"potager_paillage\": 0.0}, {\"index\": \"2023-03-10T00:00:00\", \"potager\": 0.0, \"potager_paillage\": 0.0}, {\"index\": \"2023-03-11T00:00:00\", \"potager\": 0.0, \"potager_paillage\": 0.0}, {\"index\": \"2023-03-12T00:00:00\", \"potager\": 0.0, \"potager_paillage\": 0.0}, {\"index\": \"2023-03-13T00:00:00\", \"potager\": 0.0, \"potager_paillage\": 0.0}, {\"index\": \"2023-03-14T00:00:00\", \"potager\": 0.0, \"potager_paillage\": 0.0}, {\"index\": \"2023-03-15T00:00:00\", \"potager\": 0.0, \"potager_paillage\": 0.0}, {\"index\": \"2023-03-16T00:00:00\", \"potager\": 0.0, \"potager_paillage\": 0.0}, {\"index\": \"2023-03-17T00:00:00\", \"potager\": 0.0, \"potager_paillage\": 0.0}, {\"index\": \"2023-03-18T00:00:00\", \"potager\": 0.0, \"potager_paillage\": 0.0}, {\"index\": \"2023-03-19T00:00:00\", \"potager\": 0.0, \"potager_paillage\": 0.0}, {\"index\": \"2023-03-20T00:00:00\", \"potager\": 0.0, \"potager_paillage\": 0.0}, {\"index\": \"2023-03-21T00:00:00\", \"potager\": 0.0, \"potager_paillage\": 0.0}, {\"index\": \"2023-03-22T00:00:00\", \"potager\": 0.0, \"potager_paillage\": 0.0}, {\"index\": \"2023-03-23T00:00:00\", \"potager\": 0.0, \"potager_paillage\": 0.0}, {\"index\": \"2023-03-24T00:00:00\", \"potager\": 0.0, \"potager_paillage\": 0.0}, {\"index\": \"2023-03-25T00:00:00\", \"potager\": 0.0, \"potager_paillage\": 0.0}, {\"index\": \"2023-03-26T00:00:00\", \"potager\": 0.0, \"potager_paillage\": 0.0}, {\"index\": \"2023-03-27T00:00:00\", \"potager\": 0.0, \"potager_paillage\": 0.0}, {\"index\": \"2023-03-28T00:00:00\", \"potager\": 0.0, \"potager_paillage\": 0.0}, {\"index\": \"2023-03-29T00:00:00\", \"potager\": 0.0, \"potager_paillage\": 0.0}, {\"index\": \"2023-03-30T00:00:00\", \"potager\": 0.0, \"potager_paillage\": 0.0}, {\"index\": \"2023-03-31T00:00:00\", \"potager\": 0.0, \"potager_paillage\": 0.0}, {\"index\": \"2023-04-01T00:00:00\", \"potager\": 0.0, \"potager_paillage\": 0.0}, {\"index\": \"2023-04-02T00:00:00\", \"potager\": 0.0, \"potager_paillage\": 0.0}, {\"index\": \"2023-04-03T00:00:00\", \"potager\": 0.0, \"potager_paillage\": 0.0}, {\"index\": \"2023-04-04T00:00:00\", \"potager\": 0.0, \"potager_paillage\": 0.0}, {\"index\": \"2023-04-05T00:00:00\", \"potager\": 0.0, \"potager_paillage\": 0.0}, {\"index\": \"2023-04-06T00:00:00\", \"potager\": 0.0, \"potager_paillage\": 0.0}, {\"index\": \"2023-04-07T00:00:00\", \"potager\": 0.0, \"potager_paillage\": 0.0}, {\"index\": \"2023-04-08T00:00:00\", \"potager\": 0.0, \"potager_paillage\": 0.0}, {\"index\": \"2023-04-09T00:00:00\", \"potager\": 0.0, \"potager_paillage\": 0.0}, {\"index\": \"2023-04-10T00:00:00\", \"potager\": 0.0, \"potager_paillage\": 0.0}, {\"index\": \"2023-04-11T00:00:00\", \"potager\": 0.0, \"potager_paillage\": 0.0}, {\"index\": \"2023-04-12T00:00:00\", \"potager\": 0.0, \"potager_paillage\": 0.0}, {\"index\": \"2023-04-13T00:00:00\", \"potager\": 0.0, \"potager_paillage\": 0.0}, {\"index\": \"2023-04-14T00:00:00\", \"potager\": 0.0, \"potager_paillage\": 0.0}, {\"index\": \"2023-04-15T00:00:00\", \"potager\": 0.0, \"potager_paillage\": 0.0}, {\"index\": \"2023-04-16T00:00:00\", \"potager\": 0.0, \"potager_paillage\": 0.0}, {\"index\": \"2023-04-17T00:00:00\", \"potager\": 0.0, \"potager_paillage\": 0.0}, {\"index\": \"2023-04-18T00:00:00\", \"potager\": 0.0, \"potager_paillage\": 0.0}, {\"index\": \"2023-04-19T00:00:00\", \"potager\": 0.0, \"potager_paillage\": 0.0}, {\"index\": \"2023-04-20T00:00:00\", \"potager\": 0.0, \"potager_paillage\": 0.0}, {\"index\": \"2023-04-21T00:00:00\", \"potager\": 0.0, \"potager_paillage\": 0.0}, {\"index\": \"2023-04-22T00:00:00\", \"potager\": 0.0, \"potager_paillage\": 0.0}, {\"index\": \"2023-04-23T00:00:00\", \"potager\": 0.0, \"potager_paillage\": 0.0}, {\"index\": \"2023-04-24T00:00:00\", \"potager\": 0.0, \"potager_paillage\": 0.0}, {\"index\": \"2023-04-25T00:00:00\", \"potager\": 0.0, \"potager_paillage\": 0.0}, {\"index\": \"2023-04-26T00:00:00\", \"potager\": 0.0, \"potager_paillage\": 0.0}, {\"index\": \"2023-04-27T00:00:00\", \"potager\": 0.0, \"potager_paillage\": 0.0}, {\"index\": \"2023-04-28T00:00:00\", \"potager\": 0.0, \"potager_paillage\": 0.0}, {\"index\": \"2023-04-29T00:00:00\", \"potager\": 0.0, \"potager_paillage\": 0.0}, {\"index\": \"2023-04-30T00:00:00\", \"potager\": 0.0, \"potager_paillage\": 0.0}, {\"index\": \"2023-05-01T00:00:00\", \"potager\": 2.223333333333333, \"potager_paillage\": 0.741111111111111}, {\"index\": \"2023-05-02T00:00:00\", \"potager\": 2.223333333333333, \"potager_paillage\": 0.741111111111111}, {\"index\": \"2023-05-03T00:00:00\", \"potager\": 2.223333333333333, \"potager_paillage\": 0.741111111111111}, {\"index\": \"2023-05-04T00:00:00\", \"potager\": 2.223333333333333, \"potager_paillage\": 0.741111111111111}, {\"index\": \"2023-05-05T00:00:00\", \"potager\": 2.223333333333333, \"potager_paillage\": 0.741111111111111}, {\"index\": \"2023-05-06T00:00:00\", \"potager\": 2.223333333333333, \"potager_paillage\": 0.741111111111111}, {\"index\": \"2023-05-07T00:00:00\", \"potager\": 2.223333333333333, \"potager_paillage\": 0.741111111111111}, {\"index\": \"2023-05-08T00:00:00\", \"potager\": 2.223333333333333, \"potager_paillage\": 0.741111111111111}, {\"index\": \"2023-05-09T00:00:00\", \"potager\": 2.223333333333333, \"potager_paillage\": 0.741111111111111}, {\"index\": \"2023-05-10T00:00:00\", \"potager\": 2.223333333333333, \"potager_paillage\": 0.741111111111111}, {\"index\": \"2023-05-11T00:00:00\", \"potager\": 2.223333333333333, \"potager_paillage\": 0.741111111111111}, {\"index\": \"2023-05-12T00:00:00\", \"potager\": 2.223333333333333, \"potager_paillage\": 0.741111111111111}, {\"index\": \"2023-05-13T00:00:00\", \"potager\": 2.223333333333333, \"potager_paillage\": 0.741111111111111}, {\"index\": \"2023-05-14T00:00:00\", \"potager\": 2.223333333333333, \"potager_paillage\": 0.741111111111111}, {\"index\": \"2023-05-15T00:00:00\", \"potager\": 2.223333333333333, \"potager_paillage\": 0.741111111111111}, {\"index\": \"2023-05-16T00:00:00\", \"potager\": 2.223333333333333, \"potager_paillage\": 0.741111111111111}, {\"index\": \"2023-05-17T00:00:00\", \"potager\": 2.223333333333333, \"potager_paillage\": 0.741111111111111}, {\"index\": \"2023-05-18T00:00:00\", \"potager\": 2.223333333333333, \"potager_paillage\": 0.741111111111111}, {\"index\": \"2023-05-19T00:00:00\", \"potager\": 2.223333333333333, \"potager_paillage\": 0.741111111111111}, {\"index\": \"2023-05-20T00:00:00\", \"potager\": 2.223333333333333, \"potager_paillage\": 0.741111111111111}, {\"index\": \"2023-05-21T00:00:00\", \"potager\": 2.223333333333333, \"potager_paillage\": 0.741111111111111}, {\"index\": \"2023-05-22T00:00:00\", \"potager\": 2.223333333333333, \"potager_paillage\": 0.741111111111111}, {\"index\": \"2023-05-23T00:00:00\", \"potager\": 2.223333333333333, \"potager_paillage\": 0.741111111111111}, {\"index\": \"2023-05-24T00:00:00\", \"potager\": 2.223333333333333, \"potager_paillage\": 0.741111111111111}, {\"index\": \"2023-05-25T00:00:00\", \"potager\": 2.223333333333333, \"potager_paillage\": 0.741111111111111}, {\"index\": \"2023-05-26T00:00:00\", \"potager\": 2.223333333333333, \"potager_paillage\": 0.741111111111111}, {\"index\": \"2023-05-27T00:00:00\", \"potager\": 2.223333333333333, \"potager_paillage\": 0.741111111111111}, {\"index\": \"2023-05-28T00:00:00\", \"potager\": 2.223333333333333, \"potager_paillage\": 0.741111111111111}, {\"index\": \"2023-05-29T00:00:00\", \"potager\": 2.223333333333333, \"potager_paillage\": 0.741111111111111}, {\"index\": \"2023-05-30T00:00:00\", \"potager\": 2.223333333333333, \"potager_paillage\": 0.741111111111111}, {\"index\": \"2023-05-31T00:00:00\", \"potager\": 2.223333333333333, \"potager_paillage\": 0.741111111111111}, {\"index\": \"2023-06-01T00:00:00\", \"potager\": 6.67, \"potager_paillage\": 2.223333333333333}, {\"index\": \"2023-06-02T00:00:00\", \"potager\": 6.67, \"potager_paillage\": 2.223333333333333}, {\"index\": \"2023-06-03T00:00:00\", \"potager\": 6.67, \"potager_paillage\": 2.223333333333333}, {\"index\": \"2023-06-04T00:00:00\", \"potager\": 6.67, \"potager_paillage\": 2.223333333333333}, {\"index\": \"2023-06-05T00:00:00\", \"potager\": 6.67, \"potager_paillage\": 2.223333333333333}, {\"index\": \"2023-06-06T00:00:00\", \"potager\": 6.67, \"potager_paillage\": 2.223333333333333}, {\"index\": \"2023-06-07T00:00:00\", \"potager\": 6.67, \"potager_paillage\": 2.223333333333333}, {\"index\": \"2023-06-08T00:00:00\", \"potager\": 6.67, \"potager_paillage\": 2.223333333333333}, {\"index\": \"2023-06-09T00:00:00\", \"potager\": 6.67, \"potager_paillage\": 2.223333333333333}, {\"index\": \"2023-06-10T00:00:00\", \"potager\": 6.67, \"potager_paillage\": 2.223333333333333}, {\"index\": \"2023-06-11T00:00:00\", \"potager\": 6.67, \"potager_paillage\": 2.223333333333333}, {\"index\": \"2023-06-12T00:00:00\", \"potager\": 6.67, \"potager_paillage\": 2.223333333333333}, {\"index\": \"2023-06-13T00:00:00\", \"potager\": 6.67, \"potager_paillage\": 2.223333333333333}, {\"index\": \"2023-06-14T00:00:00\", \"potager\": 6.67, \"potager_paillage\": 2.223333333333333}, {\"index\": \"2023-06-15T00:00:00\", \"potager\": 6.67, \"potager_paillage\": 2.223333333333333}, {\"index\": \"2023-06-16T00:00:00\", \"potager\": 6.67, \"potager_paillage\": 2.223333333333333}, {\"index\": \"2023-06-17T00:00:00\", \"potager\": 6.67, \"potager_paillage\": 2.223333333333333}, {\"index\": \"2023-06-18T00:00:00\", \"potager\": 6.67, \"potager_paillage\": 2.223333333333333}, {\"index\": \"2023-06-19T00:00:00\", \"potager\": 6.67, \"potager_paillage\": 2.223333333333333}, {\"index\": \"2023-06-20T00:00:00\", \"potager\": 6.67, \"potager_paillage\": 2.223333333333333}, {\"index\": \"2023-06-21T00:00:00\", \"potager\": 6.67, \"potager_paillage\": 2.223333333333333}, {\"index\": \"2023-06-22T00:00:00\", \"potager\": 6.67, \"potager_paillage\": 2.223333333333333}, {\"index\": \"2023-06-23T00:00:00\", \"potager\": 6.67, \"potager_paillage\": 2.223333333333333}, {\"index\": \"2023-06-24T00:00:00\", \"potager\": 6.67, \"potager_paillage\": 2.223333333333333}, {\"index\": \"2023-06-25T00:00:00\", \"potager\": 6.67, \"potager_paillage\": 2.223333333333333}, {\"index\": \"2023-06-26T00:00:00\", \"potager\": 6.67, \"potager_paillage\": 2.223333333333333}, {\"index\": \"2023-06-27T00:00:00\", \"potager\": 6.67, \"potager_paillage\": 2.223333333333333}, {\"index\": \"2023-06-28T00:00:00\", \"potager\": 6.67, \"potager_paillage\": 2.223333333333333}, {\"index\": \"2023-06-29T00:00:00\", \"potager\": 6.67, \"potager_paillage\": 2.223333333333333}, {\"index\": \"2023-06-30T00:00:00\", \"potager\": 6.67, \"potager_paillage\": 2.223333333333333}, {\"index\": \"2023-07-01T00:00:00\", \"potager\": 6.67, \"potager_paillage\": 2.223333333333333}, {\"index\": \"2023-07-02T00:00:00\", \"potager\": 6.67, \"potager_paillage\": 2.223333333333333}, {\"index\": \"2023-07-03T00:00:00\", \"potager\": 6.67, \"potager_paillage\": 2.223333333333333}, {\"index\": \"2023-07-04T00:00:00\", \"potager\": 6.67, \"potager_paillage\": 2.223333333333333}, {\"index\": \"2023-07-05T00:00:00\", \"potager\": 6.67, \"potager_paillage\": 2.223333333333333}, {\"index\": \"2023-07-06T00:00:00\", \"potager\": 6.67, \"potager_paillage\": 2.223333333333333}, {\"index\": \"2023-07-07T00:00:00\", \"potager\": 6.67, \"potager_paillage\": 2.223333333333333}, {\"index\": \"2023-07-08T00:00:00\", \"potager\": 6.67, \"potager_paillage\": 2.223333333333333}, {\"index\": \"2023-07-09T00:00:00\", \"potager\": 6.67, \"potager_paillage\": 2.223333333333333}, {\"index\": \"2023-07-10T00:00:00\", \"potager\": 6.67, \"potager_paillage\": 2.223333333333333}, {\"index\": \"2023-07-11T00:00:00\", \"potager\": 6.67, \"potager_paillage\": 2.223333333333333}, {\"index\": \"2023-07-12T00:00:00\", \"potager\": 6.67, \"potager_paillage\": 2.223333333333333}, {\"index\": \"2023-07-13T00:00:00\", \"potager\": 6.67, \"potager_paillage\": 2.223333333333333}, {\"index\": \"2023-07-14T00:00:00\", \"potager\": 6.67, \"potager_paillage\": 2.223333333333333}, {\"index\": \"2023-07-15T00:00:00\", \"potager\": 6.67, \"potager_paillage\": 2.223333333333333}, {\"index\": \"2023-07-16T00:00:00\", \"potager\": 6.67, \"potager_paillage\": 2.223333333333333}, {\"index\": \"2023-07-17T00:00:00\", \"potager\": 6.67, \"potager_paillage\": 2.223333333333333}, {\"index\": \"2023-07-18T00:00:00\", \"potager\": 6.67, \"potager_paillage\": 2.223333333333333}, {\"index\": \"2023-07-19T00:00:00\", \"potager\": 6.67, \"potager_paillage\": 2.223333333333333}, {\"index\": \"2023-07-20T00:00:00\", \"potager\": 6.67, \"potager_paillage\": 2.223333333333333}, {\"index\": \"2023-07-21T00:00:00\", \"potager\": 6.67, \"potager_paillage\": 2.223333333333333}, {\"index\": \"2023-07-22T00:00:00\", \"potager\": 6.67, \"potager_paillage\": 2.223333333333333}, {\"index\": \"2023-07-23T00:00:00\", \"potager\": 6.67, \"potager_paillage\": 2.223333333333333}, {\"index\": \"2023-07-24T00:00:00\", \"potager\": 6.67, \"potager_paillage\": 2.223333333333333}, {\"index\": \"2023-07-25T00:00:00\", \"potager\": 6.67, \"potager_paillage\": 2.223333333333333}, {\"index\": \"2023-07-26T00:00:00\", \"potager\": 6.67, \"potager_paillage\": 2.223333333333333}, {\"index\": \"2023-07-27T00:00:00\", \"potager\": 6.67, \"potager_paillage\": 2.223333333333333}, {\"index\": \"2023-07-28T00:00:00\", \"potager\": 6.67, \"potager_paillage\": 2.223333333333333}, {\"index\": \"2023-07-29T00:00:00\", \"potager\": 6.67, \"potager_paillage\": 2.223333333333333}, {\"index\": \"2023-07-30T00:00:00\", \"potager\": 6.67, \"potager_paillage\": 2.223333333333333}, {\"index\": \"2023-07-31T00:00:00\", \"potager\": 6.67, \"potager_paillage\": 2.223333333333333}, {\"index\": \"2023-08-01T00:00:00\", \"potager\": 6.67, \"potager_paillage\": 2.223333333333333}, {\"index\": \"2023-08-02T00:00:00\", \"potager\": 6.67, \"potager_paillage\": 2.223333333333333}, {\"index\": \"2023-08-03T00:00:00\", \"potager\": 6.67, \"potager_paillage\": 2.223333333333333}, {\"index\": \"2023-08-04T00:00:00\", \"potager\": 6.67, \"potager_paillage\": 2.223333333333333}, {\"index\": \"2023-08-05T00:00:00\", \"potager\": 6.67, \"potager_paillage\": 2.223333333333333}, {\"index\": \"2023-08-06T00:00:00\", \"potager\": 6.67, \"potager_paillage\": 2.223333333333333}, {\"index\": \"2023-08-07T00:00:00\", \"potager\": 6.67, \"potager_paillage\": 2.223333333333333}, {\"index\": \"2023-08-08T00:00:00\", \"potager\": 6.67, \"potager_paillage\": 2.223333333333333}, {\"index\": \"2023-08-09T00:00:00\", \"potager\": 6.67, \"potager_paillage\": 2.223333333333333}, {\"index\": \"2023-08-10T00:00:00\", \"potager\": 6.67, \"potager_paillage\": 2.223333333333333}, {\"index\": \"2023-08-11T00:00:00\", \"potager\": 6.67, \"potager_paillage\": 2.223333333333333}, {\"index\": \"2023-08-12T00:00:00\", \"potager\": 6.67, \"potager_paillage\": 2.223333333333333}, {\"index\": \"2023-08-13T00:00:00\", \"potager\": 6.67, \"potager_paillage\": 2.223333333333333}, {\"index\": \"2023-08-14T00:00:00\", \"potager\": 6.67, \"potager_paillage\": 2.223333333333333}, {\"index\": \"2023-08-15T00:00:00\", \"potager\": 6.67, \"potager_paillage\": 2.223333333333333}, {\"index\": \"2023-08-16T00:00:00\", \"potager\": 6.67, \"potager_paillage\": 2.223333333333333}, {\"index\": \"2023-08-17T00:00:00\", \"potager\": 6.67, \"potager_paillage\": 2.223333333333333}, {\"index\": \"2023-08-18T00:00:00\", \"potager\": 6.67, \"potager_paillage\": 2.223333333333333}, {\"index\": \"2023-08-19T00:00:00\", \"potager\": 6.67, \"potager_paillage\": 2.223333333333333}, {\"index\": \"2023-08-20T00:00:00\", \"potager\": 6.67, \"potager_paillage\": 2.223333333333333}, {\"index\": \"2023-08-21T00:00:00\", \"potager\": 6.67, \"potager_paillage\": 2.223333333333333}, {\"index\": \"2023-08-22T00:00:00\", \"potager\": 6.67, \"potager_paillage\": 2.223333333333333}, {\"index\": \"2023-08-23T00:00:00\", \"potager\": 6.67, \"potager_paillage\": 2.223333333333333}, {\"index\": \"2023-08-24T00:00:00\", \"potager\": 6.67, \"potager_paillage\": 2.223333333333333}, {\"index\": \"2023-08-25T00:00:00\", \"potager\": 6.67, \"potager_paillage\": 2.223333333333333}, {\"index\": \"2023-08-26T00:00:00\", \"potager\": 6.67, \"potager_paillage\": 2.223333333333333}, {\"index\": \"2023-08-27T00:00:00\", \"potager\": 6.67, \"potager_paillage\": 2.223333333333333}, {\"index\": \"2023-08-28T00:00:00\", \"potager\": 6.67, \"potager_paillage\": 2.223333333333333}, {\"index\": \"2023-08-29T00:00:00\", \"potager\": 6.67, \"potager_paillage\": 2.223333333333333}, {\"index\": \"2023-08-30T00:00:00\", \"potager\": 6.67, \"potager_paillage\": 2.223333333333333}, {\"index\": \"2023-08-31T00:00:00\", \"potager\": 6.67, \"potager_paillage\": 2.223333333333333}, {\"index\": \"2023-09-01T00:00:00\", \"potager\": 2.223333333333333, \"potager_paillage\": 0.741111111111111}, {\"index\": \"2023-09-02T00:00:00\", \"potager\": 2.223333333333333, \"potager_paillage\": 0.741111111111111}, {\"index\": \"2023-09-03T00:00:00\", \"potager\": 2.223333333333333, \"potager_paillage\": 0.741111111111111}, {\"index\": \"2023-09-04T00:00:00\", \"potager\": 2.223333333333333, \"potager_paillage\": 0.741111111111111}, {\"index\": \"2023-09-05T00:00:00\", \"potager\": 2.223333333333333, \"potager_paillage\": 0.741111111111111}, {\"index\": \"2023-09-06T00:00:00\", \"potager\": 2.223333333333333, \"potager_paillage\": 0.741111111111111}, {\"index\": \"2023-09-07T00:00:00\", \"potager\": 2.223333333333333, \"potager_paillage\": 0.741111111111111}, {\"index\": \"2023-09-08T00:00:00\", \"potager\": 2.223333333333333, \"potager_paillage\": 0.741111111111111}, {\"index\": \"2023-09-09T00:00:00\", \"potager\": 2.223333333333333, \"potager_paillage\": 0.741111111111111}, {\"index\": \"2023-09-10T00:00:00\", \"potager\": 2.223333333333333, \"potager_paillage\": 0.741111111111111}, {\"index\": \"2023-09-11T00:00:00\", \"potager\": 2.223333333333333, \"potager_paillage\": 0.741111111111111}, {\"index\": \"2023-09-12T00:00:00\", \"potager\": 2.223333333333333, \"potager_paillage\": 0.741111111111111}, {\"index\": \"2023-09-13T00:00:00\", \"potager\": 2.223333333333333, \"potager_paillage\": 0.741111111111111}, {\"index\": \"2023-09-14T00:00:00\", \"potager\": 2.223333333333333, \"potager_paillage\": 0.741111111111111}, {\"index\": \"2023-09-15T00:00:00\", \"potager\": 2.223333333333333, \"potager_paillage\": 0.741111111111111}, {\"index\": \"2023-09-16T00:00:00\", \"potager\": 2.223333333333333, \"potager_paillage\": 0.741111111111111}, {\"index\": \"2023-09-17T00:00:00\", \"potager\": 2.223333333333333, \"potager_paillage\": 0.741111111111111}, {\"index\": \"2023-09-18T00:00:00\", \"potager\": 2.223333333333333, \"potager_paillage\": 0.741111111111111}, {\"index\": \"2023-09-19T00:00:00\", \"potager\": 2.223333333333333, \"potager_paillage\": 0.741111111111111}, {\"index\": \"2023-09-20T00:00:00\", \"potager\": 2.223333333333333, \"potager_paillage\": 0.741111111111111}, {\"index\": \"2023-09-21T00:00:00\", \"potager\": 2.223333333333333, \"potager_paillage\": 0.741111111111111}, {\"index\": \"2023-09-22T00:00:00\", \"potager\": 2.223333333333333, \"potager_paillage\": 0.741111111111111}, {\"index\": \"2023-09-23T00:00:00\", \"potager\": 2.223333333333333, \"potager_paillage\": 0.741111111111111}, {\"index\": \"2023-09-24T00:00:00\", \"potager\": 2.223333333333333, \"potager_paillage\": 0.741111111111111}, {\"index\": \"2023-09-25T00:00:00\", \"potager\": 2.223333333333333, \"potager_paillage\": 0.741111111111111}, {\"index\": \"2023-09-26T00:00:00\", \"potager\": 2.223333333333333, \"potager_paillage\": 0.741111111111111}, {\"index\": \"2023-09-27T00:00:00\", \"potager\": 2.223333333333333, \"potager_paillage\": 0.741111111111111}, {\"index\": \"2023-09-28T00:00:00\", \"potager\": 2.223333333333333, \"potager_paillage\": 0.741111111111111}, {\"index\": \"2023-09-29T00:00:00\", \"potager\": 2.223333333333333, \"potager_paillage\": 0.741111111111111}, {\"index\": \"2023-09-30T00:00:00\", \"potager\": 2.223333333333333, \"potager_paillage\": 0.741111111111111}, {\"index\": \"2023-10-01T00:00:00\", \"potager\": 0.0, \"potager_paillage\": 0.0}, {\"index\": \"2023-10-02T00:00:00\", \"potager\": 0.0, \"potager_paillage\": 0.0}, {\"index\": \"2023-10-03T00:00:00\", \"potager\": 0.0, \"potager_paillage\": 0.0}, {\"index\": \"2023-10-04T00:00:00\", \"potager\": 0.0, \"potager_paillage\": 0.0}, {\"index\": \"2023-10-05T00:00:00\", \"potager\": 0.0, \"potager_paillage\": 0.0}, {\"index\": \"2023-10-06T00:00:00\", \"potager\": 0.0, \"potager_paillage\": 0.0}, {\"index\": \"2023-10-07T00:00:00\", \"potager\": 0.0, \"potager_paillage\": 0.0}, {\"index\": \"2023-10-08T00:00:00\", \"potager\": 0.0, \"potager_paillage\": 0.0}, {\"index\": \"2023-10-09T00:00:00\", \"potager\": 0.0, \"potager_paillage\": 0.0}, {\"index\": \"2023-10-10T00:00:00\", \"potager\": 0.0, \"potager_paillage\": 0.0}, {\"index\": \"2023-10-11T00:00:00\", \"potager\": 0.0, \"potager_paillage\": 0.0}, {\"index\": \"2023-10-12T00:00:00\", \"potager\": 0.0, \"potager_paillage\": 0.0}, {\"index\": \"2023-10-13T00:00:00\", \"potager\": 0.0, \"potager_paillage\": 0.0}, {\"index\": \"2023-10-14T00:00:00\", \"potager\": 0.0, \"potager_paillage\": 0.0}, {\"index\": \"2023-10-15T00:00:00\", \"potager\": 0.0, \"potager_paillage\": 0.0}, {\"index\": \"2023-10-16T00:00:00\", \"potager\": 0.0, \"potager_paillage\": 0.0}, {\"index\": \"2023-10-17T00:00:00\", \"potager\": 0.0, \"potager_paillage\": 0.0}, {\"index\": \"2023-10-18T00:00:00\", \"potager\": 0.0, \"potager_paillage\": 0.0}, {\"index\": \"2023-10-19T00:00:00\", \"potager\": 0.0, \"potager_paillage\": 0.0}, {\"index\": \"2023-10-20T00:00:00\", \"potager\": 0.0, \"potager_paillage\": 0.0}, {\"index\": \"2023-10-21T00:00:00\", \"potager\": 0.0, \"potager_paillage\": 0.0}, {\"index\": \"2023-10-22T00:00:00\", \"potager\": 0.0, \"potager_paillage\": 0.0}, {\"index\": \"2023-10-23T00:00:00\", \"potager\": 0.0, \"potager_paillage\": 0.0}, {\"index\": \"2023-10-24T00:00:00\", \"potager\": 0.0, \"potager_paillage\": 0.0}, {\"index\": \"2023-10-25T00:00:00\", \"potager\": 0.0, \"potager_paillage\": 0.0}, {\"index\": \"2023-10-26T00:00:00\", \"potager\": 0.0, \"potager_paillage\": 0.0}, {\"index\": \"2023-10-27T00:00:00\", \"potager\": 0.0, \"potager_paillage\": 0.0}, {\"index\": \"2023-10-28T00:00:00\", \"potager\": 0.0, \"potager_paillage\": 0.0}, {\"index\": \"2023-10-29T00:00:00\", \"potager\": 0.0, \"potager_paillage\": 0.0}, {\"index\": \"2023-10-30T00:00:00\", \"potager\": 0.0, \"potager_paillage\": 0.0}, {\"index\": \"2023-10-31T00:00:00\", \"potager\": 0.0, \"potager_paillage\": 0.0}, {\"index\": \"2023-11-01T00:00:00\", \"potager\": 0.0, \"potager_paillage\": 0.0}, {\"index\": \"2023-11-02T00:00:00\", \"potager\": 0.0, \"potager_paillage\": 0.0}, {\"index\": \"2023-11-03T00:00:00\", \"potager\": 0.0, \"potager_paillage\": 0.0}, {\"index\": \"2023-11-04T00:00:00\", \"potager\": 0.0, \"potager_paillage\": 0.0}, {\"index\": \"2023-11-05T00:00:00\", \"potager\": 0.0, \"potager_paillage\": 0.0}, {\"index\": \"2023-11-06T00:00:00\", \"potager\": 0.0, \"potager_paillage\": 0.0}, {\"index\": \"2023-11-07T00:00:00\", \"potager\": 0.0, \"potager_paillage\": 0.0}, {\"index\": \"2023-11-08T00:00:00\", \"potager\": 0.0, \"potager_paillage\": 0.0}, {\"index\": \"2023-11-09T00:00:00\", \"potager\": 0.0, \"potager_paillage\": 0.0}, {\"index\": \"2023-11-10T00:00:00\", \"potager\": 0.0, \"potager_paillage\": 0.0}, {\"index\": \"2023-11-11T00:00:00\", \"potager\": 0.0, \"potager_paillage\": 0.0}, {\"index\": \"2023-11-12T00:00:00\", \"potager\": 0.0, \"potager_paillage\": 0.0}, {\"index\": \"2023-11-13T00:00:00\", \"potager\": 0.0, \"potager_paillage\": 0.0}, {\"index\": \"2023-11-14T00:00:00\", \"potager\": 0.0, \"potager_paillage\": 0.0}, {\"index\": \"2023-11-15T00:00:00\", \"potager\": 0.0, \"potager_paillage\": 0.0}, {\"index\": \"2023-11-16T00:00:00\", \"potager\": 0.0, \"potager_paillage\": 0.0}, {\"index\": \"2023-11-17T00:00:00\", \"potager\": 0.0, \"potager_paillage\": 0.0}, {\"index\": \"2023-11-18T00:00:00\", \"potager\": 0.0, \"potager_paillage\": 0.0}, {\"index\": \"2023-11-19T00:00:00\", \"potager\": 0.0, \"potager_paillage\": 0.0}, {\"index\": \"2023-11-20T00:00:00\", \"potager\": 0.0, \"potager_paillage\": 0.0}, {\"index\": \"2023-11-21T00:00:00\", \"potager\": 0.0, \"potager_paillage\": 0.0}, {\"index\": \"2023-11-22T00:00:00\", \"potager\": 0.0, \"potager_paillage\": 0.0}, {\"index\": \"2023-11-23T00:00:00\", \"potager\": 0.0, \"potager_paillage\": 0.0}, {\"index\": \"2023-11-24T00:00:00\", \"potager\": 0.0, \"potager_paillage\": 0.0}, {\"index\": \"2023-11-25T00:00:00\", \"potager\": 0.0, \"potager_paillage\": 0.0}, {\"index\": \"2023-11-26T00:00:00\", \"potager\": 0.0, \"potager_paillage\": 0.0}, {\"index\": \"2023-11-27T00:00:00\", \"potager\": 0.0, \"potager_paillage\": 0.0}, {\"index\": \"2023-11-28T00:00:00\", \"potager\": 0.0, \"potager_paillage\": 0.0}, {\"index\": \"2023-11-29T00:00:00\", \"potager\": 0.0, \"potager_paillage\": 0.0}, {\"index\": \"2023-11-30T00:00:00\", \"potager\": 0.0, \"potager_paillage\": 0.0}, {\"index\": \"2023-12-01T00:00:00\", \"potager\": 0.0, \"potager_paillage\": 0.0}, {\"index\": \"2023-12-02T00:00:00\", \"potager\": 0.0, \"potager_paillage\": 0.0}, {\"index\": \"2023-12-03T00:00:00\", \"potager\": 0.0, \"potager_paillage\": 0.0}, {\"index\": \"2023-12-04T00:00:00\", \"potager\": 0.0, \"potager_paillage\": 0.0}, {\"index\": \"2023-12-05T00:00:00\", \"potager\": 0.0, \"potager_paillage\": 0.0}, {\"index\": \"2023-12-06T00:00:00\", \"potager\": 0.0, \"potager_paillage\": 0.0}, {\"index\": \"2023-12-07T00:00:00\", \"potager\": 0.0, \"potager_paillage\": 0.0}, {\"index\": \"2023-12-08T00:00:00\", \"potager\": 0.0, \"potager_paillage\": 0.0}, {\"index\": \"2023-12-09T00:00:00\", \"potager\": 0.0, \"potager_paillage\": 0.0}, {\"index\": \"2023-12-10T00:00:00\", \"potager\": 0.0, \"potager_paillage\": 0.0}, {\"index\": \"2023-12-11T00:00:00\", \"potager\": 0.0, \"potager_paillage\": 0.0}, {\"index\": \"2023-12-12T00:00:00\", \"potager\": 0.0, \"potager_paillage\": 0.0}, {\"index\": \"2023-12-13T00:00:00\", \"potager\": 0.0, \"potager_paillage\": 0.0}, {\"index\": \"2023-12-14T00:00:00\", \"potager\": 0.0, \"potager_paillage\": 0.0}, {\"index\": \"2023-12-15T00:00:00\", \"potager\": 0.0, \"potager_paillage\": 0.0}, {\"index\": \"2023-12-16T00:00:00\", \"potager\": 0.0, \"potager_paillage\": 0.0}, {\"index\": \"2023-12-17T00:00:00\", \"potager\": 0.0, \"potager_paillage\": 0.0}, {\"index\": \"2023-12-18T00:00:00\", \"potager\": 0.0, \"potager_paillage\": 0.0}, {\"index\": \"2023-12-19T00:00:00\", \"potager\": 0.0, \"potager_paillage\": 0.0}, {\"index\": \"2023-12-20T00:00:00\", \"potager\": 0.0, \"potager_paillage\": 0.0}, {\"index\": \"2023-12-21T00:00:00\", \"potager\": 0.0, \"potager_paillage\": 0.0}, {\"index\": \"2023-12-22T00:00:00\", \"potager\": 0.0, \"potager_paillage\": 0.0}, {\"index\": \"2023-12-23T00:00:00\", \"potager\": 0.0, \"potager_paillage\": 0.0}, {\"index\": \"2023-12-24T00:00:00\", \"potager\": 0.0, \"potager_paillage\": 0.0}, {\"index\": \"2023-12-25T00:00:00\", \"potager\": 0.0, \"potager_paillage\": 0.0}, {\"index\": \"2023-12-26T00:00:00\", \"potager\": 0.0, \"potager_paillage\": 0.0}, {\"index\": \"2023-12-27T00:00:00\", \"potager\": 0.0, \"potager_paillage\": 0.0}, {\"index\": \"2023-12-28T00:00:00\", \"potager\": 0.0, \"potager_paillage\": 0.0}, {\"index\": \"2023-12-29T00:00:00\", \"potager\": 0.0, \"potager_paillage\": 0.0}, {\"index\": \"2023-12-30T00:00:00\", \"potager\": 0.0, \"potager_paillage\": 0.0}, {\"index\": \"2023-12-31T00:00:00\", \"potager\": 0.0, \"potager_paillage\": 0.0}]}}, {\"mode\": \"vega-lite\"});\n",
       "</script>"
      ],
      "text/plain": [
       "alt.Chart(...)"
      ]
     },
     "execution_count": 9,
     "metadata": {},
     "output_type": "execute_result"
    }
   ],
   "source": [
    "water_needs = pd.DataFrame({\"potager\" : np.zeros(365)}, index=pd.date_range(\"20230101\", periods=365))\n",
    "water_needs[\"20230501\":\"20230531\"] = toml_dict['water_needs']/3\n",
    "water_needs[\"20230901\":\"20230930\"] = toml_dict['water_needs']/3\n",
    "water_needs[\"20230601\":\"20230831\"] = toml_dict['water_needs']\n",
    "\n",
    "water_needs[\"potager_paillage\"] = water_needs[\"potager\"]/3\n",
    "\n",
    "alt.Chart(water_needs.reset_index()).mark_line().encode(\n",
    "    x=alt.X('index:T', title=\"Jour de l'année\"),\n",
    "    y=alt.Y('potager:Q', title=\"Consommation\"),\n",
    "    tooltip=[alt.Tooltip(\"conso_base:Q\")]\n",
    ").properties(width=600).interactive()\n",
    "\n"
   ]
  },
  {
   "attachments": {},
   "cell_type": "markdown",
   "metadata": {},
   "source": [
    "## Dimension de la cuve\n",
    "\n",
    "Quels sont les besoins totaux ? "
   ]
  },
  {
   "cell_type": "code",
   "execution_count": 10,
   "metadata": {},
   "outputs": [
    {
     "name": "stdout",
     "output_type": "stream",
     "text": [
      "74926.33333333333\n"
     ]
    }
   ],
   "source": [
    "print(np.sum(water_needs['potager']*100)) \n"
   ]
  },
  {
   "cell_type": "markdown",
   "metadata": {},
   "source": [
    "Le potager a donc besoin, en tout, de 82 $m^3$ au cours d'une année. \n",
    "Mais une partie de ces besoins est fournie par la pluie, lorsqu'elle tombe. "
   ]
  },
  {
   "cell_type": "code",
   "execution_count": 11,
   "metadata": {},
   "outputs": [
    {
     "data": {
      "text/html": [
       "\n",
       "<div id=\"altair-viz-d683f5bc856a431598f345de868c2f45\"></div>\n",
       "<script type=\"text/javascript\">\n",
       "  var VEGA_DEBUG = (typeof VEGA_DEBUG == \"undefined\") ? {} : VEGA_DEBUG;\n",
       "  (function(spec, embedOpt){\n",
       "    let outputDiv = document.currentScript.previousElementSibling;\n",
       "    if (outputDiv.id !== \"altair-viz-d683f5bc856a431598f345de868c2f45\") {\n",
       "      outputDiv = document.getElementById(\"altair-viz-d683f5bc856a431598f345de868c2f45\");\n",
       "    }\n",
       "    const paths = {\n",
       "      \"vega\": \"https://cdn.jsdelivr.net/npm//vega@5?noext\",\n",
       "      \"vega-lib\": \"https://cdn.jsdelivr.net/npm//vega-lib?noext\",\n",
       "      \"vega-lite\": \"https://cdn.jsdelivr.net/npm//vega-lite@4.17.0?noext\",\n",
       "      \"vega-embed\": \"https://cdn.jsdelivr.net/npm//vega-embed@6?noext\",\n",
       "    };\n",
       "\n",
       "    function maybeLoadScript(lib, version) {\n",
       "      var key = `${lib.replace(\"-\", \"\")}_version`;\n",
       "      return (VEGA_DEBUG[key] == version) ?\n",
       "        Promise.resolve(paths[lib]) :\n",
       "        new Promise(function(resolve, reject) {\n",
       "          var s = document.createElement('script');\n",
       "          document.getElementsByTagName(\"head\")[0].appendChild(s);\n",
       "          s.async = true;\n",
       "          s.onload = () => {\n",
       "            VEGA_DEBUG[key] = version;\n",
       "            return resolve(paths[lib]);\n",
       "          };\n",
       "          s.onerror = () => reject(`Error loading script: ${paths[lib]}`);\n",
       "          s.src = paths[lib];\n",
       "        });\n",
       "    }\n",
       "\n",
       "    function showError(err) {\n",
       "      outputDiv.innerHTML = `<div class=\"error\" style=\"color:red;\">${err}</div>`;\n",
       "      throw err;\n",
       "    }\n",
       "\n",
       "    function displayChart(vegaEmbed) {\n",
       "      vegaEmbed(outputDiv, spec, embedOpt)\n",
       "        .catch(err => showError(`Javascript Error: ${err.message}<br>This usually means there's a typo in your chart specification. See the javascript console for the full traceback.`));\n",
       "    }\n",
       "\n",
       "    if(typeof define === \"function\" && define.amd) {\n",
       "      requirejs.config({paths});\n",
       "      require([\"vega-embed\"], displayChart, err => showError(`Error loading script: ${err.message}`));\n",
       "    } else {\n",
       "      maybeLoadScript(\"vega\", \"5\")\n",
       "        .then(() => maybeLoadScript(\"vega-lite\", \"4.17.0\"))\n",
       "        .then(() => maybeLoadScript(\"vega-embed\", \"6\"))\n",
       "        .catch(showError)\n",
       "        .then(() => displayChart(vegaEmbed));\n",
       "    }\n",
       "  })({\"config\": {\"view\": {\"continuousWidth\": 400, \"continuousHeight\": 300}}, \"data\": {\"name\": \"data-e25588442a15fe0abfea76ad598d307c\"}, \"mark\": \"line\", \"encoding\": {\"x\": {\"field\": \"index\", \"title\": \"Jour de l'ann\\u00e9e\", \"type\": \"temporal\"}, \"y\": {\"field\": \"potager\", \"title\": \"Besoins en irrigation\", \"type\": \"quantitative\"}}, \"selection\": {\"selector004\": {\"type\": \"interval\", \"bind\": \"scales\", \"encodings\": [\"x\", \"y\"]}}, \"width\": 450, \"$schema\": \"https://vega.github.io/schema/vega-lite/v4.17.0.json\", \"datasets\": {\"data-e25588442a15fe0abfea76ad598d307c\": [{\"index\": \"2023-01-01T00:00:00\", \"precipitations\": 0.0, \"potager\": 0.0, \"potager_paillage\": 0.0}, {\"index\": \"2023-01-02T00:00:00\", \"precipitations\": 0.0, \"potager\": 0.0, \"potager_paillage\": 0.0}, {\"index\": \"2023-01-03T00:00:00\", \"precipitations\": 2.9, \"potager\": 0.0, \"potager_paillage\": 0.0}, {\"index\": \"2023-01-04T00:00:00\", \"precipitations\": 0.0, \"potager\": 0.0, \"potager_paillage\": 0.0}, {\"index\": \"2023-01-05T00:00:00\", \"precipitations\": 0.0, \"potager\": 0.0, \"potager_paillage\": 0.0}, {\"index\": \"2023-01-06T00:00:00\", \"precipitations\": 2.6, \"potager\": 0.0, \"potager_paillage\": 0.0}, {\"index\": \"2023-01-07T00:00:00\", \"precipitations\": 0.0, \"potager\": 0.0, \"potager_paillage\": 0.0}, {\"index\": \"2023-01-08T00:00:00\", \"precipitations\": 0.0, \"potager\": 0.0, \"potager_paillage\": 0.0}, {\"index\": \"2023-01-09T00:00:00\", \"precipitations\": 0.0, \"potager\": 0.0, \"potager_paillage\": 0.0}, {\"index\": \"2023-01-10T00:00:00\", \"precipitations\": 0.0, \"potager\": 0.0, \"potager_paillage\": 0.0}, {\"index\": \"2023-01-11T00:00:00\", \"precipitations\": 2.2, \"potager\": 0.0, \"potager_paillage\": 0.0}, {\"index\": \"2023-01-12T00:00:00\", \"precipitations\": 0.0, \"potager\": 0.0, \"potager_paillage\": 0.0}, {\"index\": \"2023-01-13T00:00:00\", \"precipitations\": 0.0, \"potager\": 0.0, \"potager_paillage\": 0.0}, {\"index\": \"2023-01-14T00:00:00\", \"precipitations\": 0.0, \"potager\": 0.0, \"potager_paillage\": 0.0}, {\"index\": \"2023-01-15T00:00:00\", \"precipitations\": 0.0, \"potager\": 0.0, \"potager_paillage\": 0.0}, {\"index\": \"2023-01-16T00:00:00\", \"precipitations\": 0.0, \"potager\": 0.0, \"potager_paillage\": 0.0}, {\"index\": \"2023-01-17T00:00:00\", \"precipitations\": 4.7, \"potager\": 0.0, \"potager_paillage\": 0.0}, {\"index\": \"2023-01-18T00:00:00\", \"precipitations\": 0.0, \"potager\": 0.0, \"potager_paillage\": 0.0}, {\"index\": \"2023-01-19T00:00:00\", \"precipitations\": 4.1, \"potager\": 0.0, \"potager_paillage\": 0.0}, {\"index\": \"2023-01-20T00:00:00\", \"precipitations\": 0.0, \"potager\": 0.0, \"potager_paillage\": 0.0}, {\"index\": \"2023-01-21T00:00:00\", \"precipitations\": 0.0, \"potager\": 0.0, \"potager_paillage\": 0.0}, {\"index\": \"2023-01-22T00:00:00\", \"precipitations\": 0.0, \"potager\": 0.0, \"potager_paillage\": 0.0}, {\"index\": \"2023-01-23T00:00:00\", \"precipitations\": 4.2, \"potager\": 0.0, \"potager_paillage\": 0.0}, {\"index\": \"2023-01-24T00:00:00\", \"precipitations\": 0.0, \"potager\": 0.0, \"potager_paillage\": 0.0}, {\"index\": \"2023-01-25T00:00:00\", \"precipitations\": 0.0, \"potager\": 0.0, \"potager_paillage\": 0.0}, {\"index\": \"2023-01-26T00:00:00\", \"precipitations\": 0.0, \"potager\": 0.0, \"potager_paillage\": 0.0}, {\"index\": \"2023-01-27T00:00:00\", \"precipitations\": 0.0, \"potager\": 0.0, \"potager_paillage\": 0.0}, {\"index\": \"2023-01-28T00:00:00\", \"precipitations\": 4.0, \"potager\": 0.0, \"potager_paillage\": 0.0}, {\"index\": \"2023-01-29T00:00:00\", \"precipitations\": 0.0, \"potager\": 0.0, \"potager_paillage\": 0.0}, {\"index\": \"2023-01-30T00:00:00\", \"precipitations\": 1.0, \"potager\": 0.0, \"potager_paillage\": 0.0}, {\"index\": \"2023-01-31T00:00:00\", \"precipitations\": 0.0, \"potager\": 0.0, \"potager_paillage\": 0.0}, {\"index\": \"2023-02-01T00:00:00\", \"precipitations\": 0.0, \"potager\": 0.0, \"potager_paillage\": 0.0}, {\"index\": \"2023-02-02T00:00:00\", \"precipitations\": 0.0, \"potager\": 0.0, \"potager_paillage\": 0.0}, {\"index\": \"2023-02-03T00:00:00\", \"precipitations\": 0.0, \"potager\": 0.0, \"potager_paillage\": 0.0}, {\"index\": \"2023-02-04T00:00:00\", \"precipitations\": 0.0, \"potager\": 0.0, \"potager_paillage\": 0.0}, {\"index\": \"2023-02-05T00:00:00\", \"precipitations\": 0.0, \"potager\": 0.0, \"potager_paillage\": 0.0}, {\"index\": \"2023-02-06T00:00:00\", \"precipitations\": 0.0, \"potager\": 0.0, \"potager_paillage\": 0.0}, {\"index\": \"2023-02-07T00:00:00\", \"precipitations\": 0.0, \"potager\": 0.0, \"potager_paillage\": 0.0}, {\"index\": \"2023-02-08T00:00:00\", \"precipitations\": 0.0, \"potager\": 0.0, \"potager_paillage\": 0.0}, {\"index\": \"2023-02-09T00:00:00\", \"precipitations\": 0.0, \"potager\": 0.0, \"potager_paillage\": 0.0}, {\"index\": \"2023-02-10T00:00:00\", \"precipitations\": 2.2, \"potager\": 0.0, \"potager_paillage\": 0.0}, {\"index\": \"2023-02-11T00:00:00\", \"precipitations\": 0.0, \"potager\": 0.0, \"potager_paillage\": 0.0}, {\"index\": \"2023-02-12T00:00:00\", \"precipitations\": 0.0, \"potager\": 0.0, \"potager_paillage\": 0.0}, {\"index\": \"2023-02-13T00:00:00\", \"precipitations\": 0.0, \"potager\": 0.0, \"potager_paillage\": 0.0}, {\"index\": \"2023-02-14T00:00:00\", \"precipitations\": 0.0, \"potager\": 0.0, \"potager_paillage\": 0.0}, {\"index\": \"2023-02-15T00:00:00\", \"precipitations\": 0.0, \"potager\": 0.0, \"potager_paillage\": 0.0}, {\"index\": \"2023-02-16T00:00:00\", \"precipitations\": 2.8, \"potager\": 0.0, \"potager_paillage\": 0.0}, {\"index\": \"2023-02-17T00:00:00\", \"precipitations\": 0.0, \"potager\": 0.0, \"potager_paillage\": 0.0}, {\"index\": \"2023-02-18T00:00:00\", \"precipitations\": 0.0, \"potager\": 0.0, \"potager_paillage\": 0.0}, {\"index\": \"2023-02-19T00:00:00\", \"precipitations\": 0.0, \"potager\": 0.0, \"potager_paillage\": 0.0}, {\"index\": \"2023-02-20T00:00:00\", \"precipitations\": 0.0, \"potager\": 0.0, \"potager_paillage\": 0.0}, {\"index\": \"2023-02-21T00:00:00\", \"precipitations\": 5.3, \"potager\": 0.0, \"potager_paillage\": 0.0}, {\"index\": \"2023-02-22T00:00:00\", \"precipitations\": 3.0, \"potager\": 0.0, \"potager_paillage\": 0.0}, {\"index\": \"2023-02-23T00:00:00\", \"precipitations\": 0.0, \"potager\": 0.0, \"potager_paillage\": 0.0}, {\"index\": \"2023-02-24T00:00:00\", \"precipitations\": 0.0, \"potager\": 0.0, \"potager_paillage\": 0.0}, {\"index\": \"2023-02-25T00:00:00\", \"precipitations\": 0.0, \"potager\": 0.0, \"potager_paillage\": 0.0}, {\"index\": \"2023-02-26T00:00:00\", \"precipitations\": 3.5, \"potager\": 0.0, \"potager_paillage\": 0.0}, {\"index\": \"2023-02-27T00:00:00\", \"precipitations\": 0.0, \"potager\": 0.0, \"potager_paillage\": 0.0}, {\"index\": \"2023-02-28T00:00:00\", \"precipitations\": 0.0, \"potager\": 0.0, \"potager_paillage\": 0.0}, {\"index\": \"2023-03-01T00:00:00\", \"precipitations\": 0.0, \"potager\": 0.0, \"potager_paillage\": 0.0}, {\"index\": \"2023-03-02T00:00:00\", \"precipitations\": 0.0, \"potager\": 0.0, \"potager_paillage\": 0.0}, {\"index\": \"2023-03-03T00:00:00\", \"precipitations\": 6.4, \"potager\": 0.0, \"potager_paillage\": 0.0}, {\"index\": \"2023-03-04T00:00:00\", \"precipitations\": 6.0, \"potager\": 0.0, \"potager_paillage\": 0.0}, {\"index\": \"2023-03-05T00:00:00\", \"precipitations\": 0.0, \"potager\": 0.0, \"potager_paillage\": 0.0}, {\"index\": \"2023-03-06T00:00:00\", \"precipitations\": 3.2, \"potager\": 0.0, \"potager_paillage\": 0.0}, {\"index\": \"2023-03-07T00:00:00\", \"precipitations\": 0.0, \"potager\": 0.0, \"potager_paillage\": 0.0}, {\"index\": \"2023-03-08T00:00:00\", \"precipitations\": 0.0, \"potager\": 0.0, \"potager_paillage\": 0.0}, {\"index\": \"2023-03-09T00:00:00\", \"precipitations\": 0.0, \"potager\": 0.0, \"potager_paillage\": 0.0}, {\"index\": \"2023-03-10T00:00:00\", \"precipitations\": 0.0, \"potager\": 0.0, \"potager_paillage\": 0.0}, {\"index\": \"2023-03-11T00:00:00\", \"precipitations\": 0.0, \"potager\": 0.0, \"potager_paillage\": 0.0}, {\"index\": \"2023-03-12T00:00:00\", \"precipitations\": 4.5, \"potager\": 0.0, \"potager_paillage\": 0.0}, {\"index\": \"2023-03-13T00:00:00\", \"precipitations\": 0.0, \"potager\": 0.0, \"potager_paillage\": 0.0}, {\"index\": \"2023-03-14T00:00:00\", \"precipitations\": 0.0, \"potager\": 0.0, \"potager_paillage\": 0.0}, {\"index\": \"2023-03-15T00:00:00\", \"precipitations\": 0.0, \"potager\": 0.0, \"potager_paillage\": 0.0}, {\"index\": \"2023-03-16T00:00:00\", \"precipitations\": 0.0, \"potager\": 0.0, \"potager_paillage\": 0.0}, {\"index\": \"2023-03-17T00:00:00\", \"precipitations\": 5.5, \"potager\": 0.0, \"potager_paillage\": 0.0}, {\"index\": \"2023-03-18T00:00:00\", \"precipitations\": 0.0, \"potager\": 0.0, \"potager_paillage\": 0.0}, {\"index\": \"2023-03-19T00:00:00\", \"precipitations\": 0.0, \"potager\": 0.0, \"potager_paillage\": 0.0}, {\"index\": \"2023-03-20T00:00:00\", \"precipitations\": 3.5, \"potager\": 0.0, \"potager_paillage\": 0.0}, {\"index\": \"2023-03-21T00:00:00\", \"precipitations\": 0.0, \"potager\": 0.0, \"potager_paillage\": 0.0}, {\"index\": \"2023-03-22T00:00:00\", \"precipitations\": 0.0, \"potager\": 0.0, \"potager_paillage\": 0.0}, {\"index\": \"2023-03-23T00:00:00\", \"precipitations\": 0.0, \"potager\": 0.0, \"potager_paillage\": 0.0}, {\"index\": \"2023-03-24T00:00:00\", \"precipitations\": 0.0, \"potager\": 0.0, \"potager_paillage\": 0.0}, {\"index\": \"2023-03-25T00:00:00\", \"precipitations\": 0.0, \"potager\": 0.0, \"potager_paillage\": 0.0}, {\"index\": \"2023-03-26T00:00:00\", \"precipitations\": 0.0, \"potager\": 0.0, \"potager_paillage\": 0.0}, {\"index\": \"2023-03-27T00:00:00\", \"precipitations\": 0.0, \"potager\": 0.0, \"potager_paillage\": 0.0}, {\"index\": \"2023-03-28T00:00:00\", \"precipitations\": 0.0, \"potager\": 0.0, \"potager_paillage\": 0.0}, {\"index\": \"2023-03-29T00:00:00\", \"precipitations\": 0.0, \"potager\": 0.0, \"potager_paillage\": 0.0}, {\"index\": \"2023-03-30T00:00:00\", \"precipitations\": 0.0, \"potager\": 0.0, \"potager_paillage\": 0.0}, {\"index\": \"2023-03-31T00:00:00\", \"precipitations\": 0.0, \"potager\": 0.0, \"potager_paillage\": 0.0}, {\"index\": \"2023-04-01T00:00:00\", \"precipitations\": 0.0, \"potager\": 0.0, \"potager_paillage\": 0.0}, {\"index\": \"2023-04-02T00:00:00\", \"precipitations\": 0.0, \"potager\": 0.0, \"potager_paillage\": 0.0}, {\"index\": \"2023-04-03T00:00:00\", \"precipitations\": 0.0, \"potager\": 0.0, \"potager_paillage\": 0.0}, {\"index\": \"2023-04-04T00:00:00\", \"precipitations\": 0.0, \"potager\": 0.0, \"potager_paillage\": 0.0}, {\"index\": \"2023-04-05T00:00:00\", \"precipitations\": 7.2, \"potager\": 0.0, \"potager_paillage\": 0.0}, {\"index\": \"2023-04-06T00:00:00\", \"precipitations\": 0.0, \"potager\": 0.0, \"potager_paillage\": 0.0}, {\"index\": \"2023-04-07T00:00:00\", \"precipitations\": 0.0, \"potager\": 0.0, \"potager_paillage\": 0.0}, {\"index\": \"2023-04-08T00:00:00\", \"precipitations\": 0.0, \"potager\": 0.0, \"potager_paillage\": 0.0}, {\"index\": \"2023-04-09T00:00:00\", \"precipitations\": 0.0, \"potager\": 0.0, \"potager_paillage\": 0.0}, {\"index\": \"2023-04-10T00:00:00\", \"precipitations\": 0.0, \"potager\": 0.0, \"potager_paillage\": 0.0}, {\"index\": \"2023-04-11T00:00:00\", \"precipitations\": 13.4, \"potager\": 0.0, \"potager_paillage\": 0.0}, {\"index\": \"2023-04-12T00:00:00\", \"precipitations\": 0.0, \"potager\": 0.0, \"potager_paillage\": 0.0}, {\"index\": \"2023-04-13T00:00:00\", \"precipitations\": 0.0, \"potager\": 0.0, \"potager_paillage\": 0.0}, {\"index\": \"2023-04-14T00:00:00\", \"precipitations\": 0.0, \"potager\": 0.0, \"potager_paillage\": 0.0}, {\"index\": \"2023-04-15T00:00:00\", \"precipitations\": 15.3, \"potager\": 0.0, \"potager_paillage\": 0.0}, {\"index\": \"2023-04-16T00:00:00\", \"precipitations\": 0.0, \"potager\": 0.0, \"potager_paillage\": 0.0}, {\"index\": \"2023-04-17T00:00:00\", \"precipitations\": 0.0, \"potager\": 0.0, \"potager_paillage\": 0.0}, {\"index\": \"2023-04-18T00:00:00\", \"precipitations\": 0.0, \"potager\": 0.0, \"potager_paillage\": 0.0}, {\"index\": \"2023-04-19T00:00:00\", \"precipitations\": 0.0, \"potager\": 0.0, \"potager_paillage\": 0.0}, {\"index\": \"2023-04-20T00:00:00\", \"precipitations\": 0.0, \"potager\": 0.0, \"potager_paillage\": 0.0}, {\"index\": \"2023-04-21T00:00:00\", \"precipitations\": 0.0, \"potager\": 0.0, \"potager_paillage\": 0.0}, {\"index\": \"2023-04-22T00:00:00\", \"precipitations\": 11.7, \"potager\": 0.0, \"potager_paillage\": 0.0}, {\"index\": \"2023-04-23T00:00:00\", \"precipitations\": 0.0, \"potager\": 0.0, \"potager_paillage\": 0.0}, {\"index\": \"2023-04-24T00:00:00\", \"precipitations\": 0.0, \"potager\": 0.0, \"potager_paillage\": 0.0}, {\"index\": \"2023-04-25T00:00:00\", \"precipitations\": 0.0, \"potager\": 0.0, \"potager_paillage\": 0.0}, {\"index\": \"2023-04-26T00:00:00\", \"precipitations\": 0.0, \"potager\": 0.0, \"potager_paillage\": 0.0}, {\"index\": \"2023-04-27T00:00:00\", \"precipitations\": 0.0, \"potager\": 0.0, \"potager_paillage\": 0.0}, {\"index\": \"2023-04-28T00:00:00\", \"precipitations\": 0.0, \"potager\": 0.0, \"potager_paillage\": 0.0}, {\"index\": \"2023-04-29T00:00:00\", \"precipitations\": 0.0, \"potager\": 0.0, \"potager_paillage\": 0.0}, {\"index\": \"2023-04-30T00:00:00\", \"precipitations\": 0.0, \"potager\": 0.0, \"potager_paillage\": 0.0}, {\"index\": \"2023-05-01T00:00:00\", \"precipitations\": 0.0, \"potager\": 2.223333333333333, \"potager_paillage\": 0.741111111111111}, {\"index\": \"2023-05-02T00:00:00\", \"precipitations\": 5.6, \"potager\": 0.0, \"potager_paillage\": 0.741111111111111}, {\"index\": \"2023-05-03T00:00:00\", \"precipitations\": 8.2, \"potager\": 0.0, \"potager_paillage\": 0.741111111111111}, {\"index\": \"2023-05-04T00:00:00\", \"precipitations\": 0.0, \"potager\": 0.0, \"potager_paillage\": 0.741111111111111}, {\"index\": \"2023-05-05T00:00:00\", \"precipitations\": 0.0, \"potager\": 0.0, \"potager_paillage\": 0.741111111111111}, {\"index\": \"2023-05-06T00:00:00\", \"precipitations\": 7.8, \"potager\": 0.0, \"potager_paillage\": 0.741111111111111}, {\"index\": \"2023-05-07T00:00:00\", \"precipitations\": 0.0, \"potager\": 0.0, \"potager_paillage\": 0.741111111111111}, {\"index\": \"2023-05-08T00:00:00\", \"precipitations\": 0.0, \"potager\": 0.0, \"potager_paillage\": 0.741111111111111}, {\"index\": \"2023-05-09T00:00:00\", \"precipitations\": 7.6, \"potager\": 0.0, \"potager_paillage\": 0.741111111111111}, {\"index\": \"2023-05-10T00:00:00\", \"precipitations\": 0.0, \"potager\": 0.0, \"potager_paillage\": 0.741111111111111}, {\"index\": \"2023-05-11T00:00:00\", \"precipitations\": 0.0, \"potager\": 0.0, \"potager_paillage\": 0.741111111111111}, {\"index\": \"2023-05-12T00:00:00\", \"precipitations\": 0.0, \"potager\": 0.0, \"potager_paillage\": 0.741111111111111}, {\"index\": \"2023-05-13T00:00:00\", \"precipitations\": 0.0, \"potager\": 0.0, \"potager_paillage\": 0.741111111111111}, {\"index\": \"2023-05-14T00:00:00\", \"precipitations\": 0.0, \"potager\": 0.0, \"potager_paillage\": 0.741111111111111}, {\"index\": \"2023-05-15T00:00:00\", \"precipitations\": 0.0, \"potager\": 1.9266666666666654, \"potager_paillage\": 0.741111111111111}, {\"index\": \"2023-05-16T00:00:00\", \"precipitations\": 8.9, \"potager\": 0.0, \"potager_paillage\": 0.741111111111111}, {\"index\": \"2023-05-17T00:00:00\", \"precipitations\": 0.0, \"potager\": 0.0, \"potager_paillage\": 0.741111111111111}, {\"index\": \"2023-05-18T00:00:00\", \"precipitations\": 0.0, \"potager\": 0.0, \"potager_paillage\": 0.741111111111111}, {\"index\": \"2023-05-19T00:00:00\", \"precipitations\": 8.4, \"potager\": 0.0, \"potager_paillage\": 0.741111111111111}, {\"index\": \"2023-05-20T00:00:00\", \"precipitations\": 0.0, \"potager\": 0.0, \"potager_paillage\": 0.741111111111111}, {\"index\": \"2023-05-21T00:00:00\", \"precipitations\": 0.0, \"potager\": 0.0, \"potager_paillage\": 0.741111111111111}, {\"index\": \"2023-05-22T00:00:00\", \"precipitations\": 0.0, \"potager\": 0.0, \"potager_paillage\": 0.741111111111111}, {\"index\": \"2023-05-23T00:00:00\", \"precipitations\": 7.5, \"potager\": 0.0, \"potager_paillage\": 0.741111111111111}, {\"index\": \"2023-05-24T00:00:00\", \"precipitations\": 8.4, \"potager\": 0.0, \"potager_paillage\": 0.741111111111111}, {\"index\": \"2023-05-25T00:00:00\", \"precipitations\": 0.0, \"potager\": 0.0, \"potager_paillage\": 0.741111111111111}, {\"index\": \"2023-05-26T00:00:00\", \"precipitations\": 0.0, \"potager\": 0.0, \"potager_paillage\": 0.741111111111111}, {\"index\": \"2023-05-27T00:00:00\", \"precipitations\": 0.0, \"potager\": 0.0, \"potager_paillage\": 0.741111111111111}, {\"index\": \"2023-05-28T00:00:00\", \"precipitations\": 0.0, \"potager\": 0.0, \"potager_paillage\": 0.741111111111111}, {\"index\": \"2023-05-29T00:00:00\", \"precipitations\": 0.0, \"potager\": 0.0, \"potager_paillage\": 0.741111111111111}, {\"index\": \"2023-05-30T00:00:00\", \"precipitations\": 0.0, \"potager\": 0.14999999999999458, \"potager_paillage\": 0.741111111111111}, {\"index\": \"2023-05-31T00:00:00\", \"precipitations\": 0.0, \"potager\": 2.223333333333333, \"potager_paillage\": 0.741111111111111}, {\"index\": \"2023-06-01T00:00:00\", \"precipitations\": 0.0, \"potager\": 6.67, \"potager_paillage\": 2.223333333333333}, {\"index\": \"2023-06-02T00:00:00\", \"precipitations\": 0.0, \"potager\": 6.67, \"potager_paillage\": 2.223333333333333}, {\"index\": \"2023-06-03T00:00:00\", \"precipitations\": 7.3, \"potager\": 0.0, \"potager_paillage\": 2.223333333333333}, {\"index\": \"2023-06-04T00:00:00\", \"precipitations\": 0.0, \"potager\": 6.04, \"potager_paillage\": 2.223333333333333}, {\"index\": \"2023-06-05T00:00:00\", \"precipitations\": 6.4, \"potager\": 0.2699999999999996, \"potager_paillage\": 2.223333333333333}, {\"index\": \"2023-06-06T00:00:00\", \"precipitations\": 0.0, \"potager\": 6.67, \"potager_paillage\": 2.223333333333333}, {\"index\": \"2023-06-07T00:00:00\", \"precipitations\": 0.0, \"potager\": 6.67, \"potager_paillage\": 2.223333333333333}, {\"index\": \"2023-06-08T00:00:00\", \"precipitations\": 0.0, \"potager\": 6.67, \"potager_paillage\": 2.223333333333333}, {\"index\": \"2023-06-09T00:00:00\", \"precipitations\": 0.0, \"potager\": 6.67, \"potager_paillage\": 2.223333333333333}, {\"index\": \"2023-06-10T00:00:00\", \"precipitations\": 4.7, \"potager\": 1.9699999999999998, \"potager_paillage\": 2.223333333333333}, {\"index\": \"2023-06-11T00:00:00\", \"precipitations\": 5.1, \"potager\": 1.5700000000000003, \"potager_paillage\": 2.223333333333333}, {\"index\": \"2023-06-12T00:00:00\", \"precipitations\": 6.1, \"potager\": 0.5700000000000003, \"potager_paillage\": 2.223333333333333}, {\"index\": \"2023-06-13T00:00:00\", \"precipitations\": 0.0, \"potager\": 6.67, \"potager_paillage\": 2.223333333333333}, {\"index\": \"2023-06-14T00:00:00\", \"precipitations\": 0.0, \"potager\": 6.67, \"potager_paillage\": 2.223333333333333}, {\"index\": \"2023-06-15T00:00:00\", \"precipitations\": 0.0, \"potager\": 6.67, \"potager_paillage\": 2.223333333333333}, {\"index\": \"2023-06-16T00:00:00\", \"precipitations\": 0.0, \"potager\": 6.67, \"potager_paillage\": 2.223333333333333}, {\"index\": \"2023-06-17T00:00:00\", \"precipitations\": 0.0, \"potager\": 6.67, \"potager_paillage\": 2.223333333333333}, {\"index\": \"2023-06-18T00:00:00\", \"precipitations\": 7.2, \"potager\": 0.0, \"potager_paillage\": 2.223333333333333}, {\"index\": \"2023-06-19T00:00:00\", \"precipitations\": 0.0, \"potager\": 6.14, \"potager_paillage\": 2.223333333333333}, {\"index\": \"2023-06-20T00:00:00\", \"precipitations\": 0.0, \"potager\": 6.67, \"potager_paillage\": 2.223333333333333}, {\"index\": \"2023-06-21T00:00:00\", \"precipitations\": 0.0, \"potager\": 6.67, \"potager_paillage\": 2.223333333333333}, {\"index\": \"2023-06-22T00:00:00\", \"precipitations\": 0.0, \"potager\": 6.67, \"potager_paillage\": 2.223333333333333}, {\"index\": \"2023-06-23T00:00:00\", \"precipitations\": 0.0, \"potager\": 6.67, \"potager_paillage\": 2.223333333333333}, {\"index\": \"2023-06-24T00:00:00\", \"precipitations\": 8.2, \"potager\": 0.0, \"potager_paillage\": 2.223333333333333}, {\"index\": \"2023-06-25T00:00:00\", \"precipitations\": 9.8, \"potager\": 0.0, \"potager_paillage\": 2.223333333333333}, {\"index\": \"2023-06-26T00:00:00\", \"precipitations\": 0.0, \"potager\": 2.01, \"potager_paillage\": 2.223333333333333}, {\"index\": \"2023-06-27T00:00:00\", \"precipitations\": 8.4, \"potager\": 0.0, \"potager_paillage\": 2.223333333333333}, {\"index\": \"2023-06-28T00:00:00\", \"precipitations\": 4.9, \"potager\": 0.03999999999999915, \"potager_paillage\": 2.223333333333333}, {\"index\": \"2023-06-29T00:00:00\", \"precipitations\": 0.0, \"potager\": 6.67, \"potager_paillage\": 2.223333333333333}, {\"index\": \"2023-06-30T00:00:00\", \"precipitations\": 0.0, \"potager\": 6.67, \"potager_paillage\": 2.223333333333333}, {\"index\": \"2023-07-01T00:00:00\", \"precipitations\": 6.6, \"potager\": 0.07000000000000028, \"potager_paillage\": 2.223333333333333}, {\"index\": \"2023-07-02T00:00:00\", \"precipitations\": 5.6, \"potager\": 1.0700000000000003, \"potager_paillage\": 2.223333333333333}, {\"index\": \"2023-07-03T00:00:00\", \"precipitations\": 0.0, \"potager\": 6.67, \"potager_paillage\": 2.223333333333333}, {\"index\": \"2023-07-04T00:00:00\", \"precipitations\": 4.9, \"potager\": 1.7699999999999996, \"potager_paillage\": 2.223333333333333}, {\"index\": \"2023-07-05T00:00:00\", \"precipitations\": 0.0, \"potager\": 6.67, \"potager_paillage\": 2.223333333333333}, {\"index\": \"2023-07-06T00:00:00\", \"precipitations\": 0.0, \"potager\": 6.67, \"potager_paillage\": 2.223333333333333}, {\"index\": \"2023-07-07T00:00:00\", \"precipitations\": 0.0, \"potager\": 6.67, \"potager_paillage\": 2.223333333333333}, {\"index\": \"2023-07-08T00:00:00\", \"precipitations\": 0.0, \"potager\": 6.67, \"potager_paillage\": 2.223333333333333}, {\"index\": \"2023-07-09T00:00:00\", \"precipitations\": 0.0, \"potager\": 6.67, \"potager_paillage\": 2.223333333333333}, {\"index\": \"2023-07-10T00:00:00\", \"precipitations\": 0.0, \"potager\": 6.67, \"potager_paillage\": 2.223333333333333}, {\"index\": \"2023-07-11T00:00:00\", \"precipitations\": 0.0, \"potager\": 6.67, \"potager_paillage\": 2.223333333333333}, {\"index\": \"2023-07-12T00:00:00\", \"precipitations\": 0.0, \"potager\": 6.67, \"potager_paillage\": 2.223333333333333}, {\"index\": \"2023-07-13T00:00:00\", \"precipitations\": 0.0, \"potager\": 6.67, \"potager_paillage\": 2.223333333333333}, {\"index\": \"2023-07-14T00:00:00\", \"precipitations\": 6.8, \"potager\": 0.0, \"potager_paillage\": 2.223333333333333}, {\"index\": \"2023-07-15T00:00:00\", \"precipitations\": 0.0, \"potager\": 6.54, \"potager_paillage\": 2.223333333333333}, {\"index\": \"2023-07-16T00:00:00\", \"precipitations\": 0.0, \"potager\": 6.67, \"potager_paillage\": 2.223333333333333}, {\"index\": \"2023-07-17T00:00:00\", \"precipitations\": 6.3, \"potager\": 0.3700000000000001, \"potager_paillage\": 2.223333333333333}, {\"index\": \"2023-07-18T00:00:00\", \"precipitations\": 6.5, \"potager\": 0.16999999999999993, \"potager_paillage\": 2.223333333333333}, {\"index\": \"2023-07-19T00:00:00\", \"precipitations\": 0.0, \"potager\": 6.67, \"potager_paillage\": 2.223333333333333}, {\"index\": \"2023-07-20T00:00:00\", \"precipitations\": 0.0, \"potager\": 6.67, \"potager_paillage\": 2.223333333333333}, {\"index\": \"2023-07-21T00:00:00\", \"precipitations\": 6.8, \"potager\": 0.0, \"potager_paillage\": 2.223333333333333}, {\"index\": \"2023-07-22T00:00:00\", \"precipitations\": 9.0, \"potager\": 0.0, \"potager_paillage\": 2.223333333333333}, {\"index\": \"2023-07-23T00:00:00\", \"precipitations\": 0.0, \"potager\": 4.21, \"potager_paillage\": 2.223333333333333}, {\"index\": \"2023-07-24T00:00:00\", \"precipitations\": 4.1, \"potager\": 2.5700000000000003, \"potager_paillage\": 2.223333333333333}, {\"index\": \"2023-07-25T00:00:00\", \"precipitations\": 0.0, \"potager\": 6.67, \"potager_paillage\": 2.223333333333333}, {\"index\": \"2023-07-26T00:00:00\", \"precipitations\": 0.0, \"potager\": 6.67, \"potager_paillage\": 2.223333333333333}, {\"index\": \"2023-07-27T00:00:00\", \"precipitations\": 0.0, \"potager\": 6.67, \"potager_paillage\": 2.223333333333333}, {\"index\": \"2023-07-28T00:00:00\", \"precipitations\": 0.0, \"potager\": 6.67, \"potager_paillage\": 2.223333333333333}, {\"index\": \"2023-07-29T00:00:00\", \"precipitations\": 8.0, \"potager\": 0.0, \"potager_paillage\": 2.223333333333333}, {\"index\": \"2023-07-30T00:00:00\", \"precipitations\": 0.0, \"potager\": 5.34, \"potager_paillage\": 2.223333333333333}, {\"index\": \"2023-07-31T00:00:00\", \"precipitations\": 0.0, \"potager\": 6.67, \"potager_paillage\": 2.223333333333333}, {\"index\": \"2023-08-01T00:00:00\", \"precipitations\": 9.1, \"potager\": 0.0, \"potager_paillage\": 2.223333333333333}, {\"index\": \"2023-08-02T00:00:00\", \"precipitations\": 0.0, \"potager\": 4.24, \"potager_paillage\": 2.223333333333333}, {\"index\": \"2023-08-03T00:00:00\", \"precipitations\": 0.0, \"potager\": 6.67, \"potager_paillage\": 2.223333333333333}, {\"index\": \"2023-08-04T00:00:00\", \"precipitations\": 0.0, \"potager\": 6.67, \"potager_paillage\": 2.223333333333333}, {\"index\": \"2023-08-05T00:00:00\", \"precipitations\": 0.0, \"potager\": 6.67, \"potager_paillage\": 2.223333333333333}, {\"index\": \"2023-08-06T00:00:00\", \"precipitations\": 0.0, \"potager\": 6.67, \"potager_paillage\": 2.223333333333333}, {\"index\": \"2023-08-07T00:00:00\", \"precipitations\": 0.0, \"potager\": 6.67, \"potager_paillage\": 2.223333333333333}, {\"index\": \"2023-08-08T00:00:00\", \"precipitations\": 7.9, \"potager\": 0.0, \"potager_paillage\": 2.223333333333333}, {\"index\": \"2023-08-09T00:00:00\", \"precipitations\": 0.0, \"potager\": 5.4399999999999995, \"potager_paillage\": 2.223333333333333}, {\"index\": \"2023-08-10T00:00:00\", \"precipitations\": 0.0, \"potager\": 6.67, \"potager_paillage\": 2.223333333333333}, {\"index\": \"2023-08-11T00:00:00\", \"precipitations\": 9.9, \"potager\": 0.0, \"potager_paillage\": 2.223333333333333}, {\"index\": \"2023-08-12T00:00:00\", \"precipitations\": 0.0, \"potager\": 3.4399999999999995, \"potager_paillage\": 2.223333333333333}, {\"index\": \"2023-08-13T00:00:00\", \"precipitations\": 0.0, \"potager\": 6.67, \"potager_paillage\": 2.223333333333333}, {\"index\": \"2023-08-14T00:00:00\", \"precipitations\": 0.0, \"potager\": 6.67, \"potager_paillage\": 2.223333333333333}, {\"index\": \"2023-08-15T00:00:00\", \"precipitations\": 0.0, \"potager\": 6.67, \"potager_paillage\": 2.223333333333333}, {\"index\": \"2023-08-16T00:00:00\", \"precipitations\": 0.0, \"potager\": 6.67, \"potager_paillage\": 2.223333333333333}, {\"index\": \"2023-08-17T00:00:00\", \"precipitations\": 0.0, \"potager\": 6.67, \"potager_paillage\": 2.223333333333333}, {\"index\": \"2023-08-18T00:00:00\", \"precipitations\": 9.3, \"potager\": 0.0, \"potager_paillage\": 2.223333333333333}, {\"index\": \"2023-08-19T00:00:00\", \"precipitations\": 0.0, \"potager\": 4.039999999999999, \"potager_paillage\": 2.223333333333333}, {\"index\": \"2023-08-20T00:00:00\", \"precipitations\": 5.8, \"potager\": 0.8700000000000001, \"potager_paillage\": 2.223333333333333}, {\"index\": \"2023-08-21T00:00:00\", \"precipitations\": 0.0, \"potager\": 6.67, \"potager_paillage\": 2.223333333333333}, {\"index\": \"2023-08-22T00:00:00\", \"precipitations\": 0.0, \"potager\": 6.67, \"potager_paillage\": 2.223333333333333}, {\"index\": \"2023-08-23T00:00:00\", \"precipitations\": 11.4, \"potager\": 0.0, \"potager_paillage\": 2.223333333333333}, {\"index\": \"2023-08-24T00:00:00\", \"precipitations\": 0.0, \"potager\": 1.9399999999999995, \"potager_paillage\": 2.223333333333333}, {\"index\": \"2023-08-25T00:00:00\", \"precipitations\": 0.0, \"potager\": 6.67, \"potager_paillage\": 2.223333333333333}, {\"index\": \"2023-08-26T00:00:00\", \"precipitations\": 0.0, \"potager\": 6.67, \"potager_paillage\": 2.223333333333333}, {\"index\": \"2023-08-27T00:00:00\", \"precipitations\": 0.0, \"potager\": 6.67, \"potager_paillage\": 2.223333333333333}, {\"index\": \"2023-08-28T00:00:00\", \"precipitations\": 0.0, \"potager\": 6.67, \"potager_paillage\": 2.223333333333333}, {\"index\": \"2023-08-29T00:00:00\", \"precipitations\": 0.0, \"potager\": 6.67, \"potager_paillage\": 2.223333333333333}, {\"index\": \"2023-08-30T00:00:00\", \"precipitations\": 0.0, \"potager\": 6.67, \"potager_paillage\": 2.223333333333333}, {\"index\": \"2023-08-31T00:00:00\", \"precipitations\": 11.2, \"potager\": 0.0, \"potager_paillage\": 2.223333333333333}, {\"index\": \"2023-09-01T00:00:00\", \"precipitations\": 11.7, \"potager\": 0.0, \"potager_paillage\": 0.741111111111111}, {\"index\": \"2023-09-02T00:00:00\", \"precipitations\": 0.0, \"potager\": 0.0, \"potager_paillage\": 0.741111111111111}, {\"index\": \"2023-09-03T00:00:00\", \"precipitations\": 0.0, \"potager\": 0.0, \"potager_paillage\": 0.741111111111111}, {\"index\": \"2023-09-04T00:00:00\", \"precipitations\": 8.6, \"potager\": 0.0, \"potager_paillage\": 0.741111111111111}, {\"index\": \"2023-09-05T00:00:00\", \"precipitations\": 0.0, \"potager\": 0.0, \"potager_paillage\": 0.741111111111111}, {\"index\": \"2023-09-06T00:00:00\", \"precipitations\": 0.0, \"potager\": 0.0, \"potager_paillage\": 0.741111111111111}, {\"index\": \"2023-09-07T00:00:00\", \"precipitations\": 10.0, \"potager\": 0.0, \"potager_paillage\": 0.741111111111111}, {\"index\": \"2023-09-08T00:00:00\", \"precipitations\": 0.0, \"potager\": 0.0, \"potager_paillage\": 0.741111111111111}, {\"index\": \"2023-09-09T00:00:00\", \"precipitations\": 0.0, \"potager\": 0.0, \"potager_paillage\": 0.741111111111111}, {\"index\": \"2023-09-10T00:00:00\", \"precipitations\": 0.0, \"potager\": 0.0, \"potager_paillage\": 0.741111111111111}, {\"index\": \"2023-09-11T00:00:00\", \"precipitations\": 0.0, \"potager\": 0.0, \"potager_paillage\": 0.741111111111111}, {\"index\": \"2023-09-12T00:00:00\", \"precipitations\": 0.0, \"potager\": 0.0, \"potager_paillage\": 0.741111111111111}, {\"index\": \"2023-09-13T00:00:00\", \"precipitations\": 0.0, \"potager\": 0.0, \"potager_paillage\": 0.741111111111111}, {\"index\": \"2023-09-14T00:00:00\", \"precipitations\": 0.0, \"potager\": 0.0, \"potager_paillage\": 0.741111111111111}, {\"index\": \"2023-09-15T00:00:00\", \"precipitations\": 0.0, \"potager\": 0.0, \"potager_paillage\": 0.741111111111111}, {\"index\": \"2023-09-16T00:00:00\", \"precipitations\": 0.0, \"potager\": 0.7433333333333292, \"potager_paillage\": 0.741111111111111}, {\"index\": \"2023-09-17T00:00:00\", \"precipitations\": 0.0, \"potager\": 2.223333333333333, \"potager_paillage\": 0.741111111111111}, {\"index\": \"2023-09-18T00:00:00\", \"precipitations\": 0.0, \"potager\": 2.223333333333333, \"potager_paillage\": 0.741111111111111}, {\"index\": \"2023-09-19T00:00:00\", \"precipitations\": 9.3, \"potager\": 0.0, \"potager_paillage\": 0.741111111111111}, {\"index\": \"2023-09-20T00:00:00\", \"precipitations\": 0.0, \"potager\": 0.0, \"potager_paillage\": 0.741111111111111}, {\"index\": \"2023-09-21T00:00:00\", \"precipitations\": 0.0, \"potager\": 0.0, \"potager_paillage\": 0.741111111111111}, {\"index\": \"2023-09-22T00:00:00\", \"precipitations\": 0.0, \"potager\": 0.0, \"potager_paillage\": 0.741111111111111}, {\"index\": \"2023-09-23T00:00:00\", \"precipitations\": 0.0, \"potager\": 1.8166666666666642, \"potager_paillage\": 0.741111111111111}, {\"index\": \"2023-09-24T00:00:00\", \"precipitations\": 0.0, \"potager\": 2.223333333333333, \"potager_paillage\": 0.741111111111111}, {\"index\": \"2023-09-25T00:00:00\", \"precipitations\": 11.6, \"potager\": 0.0, \"potager_paillage\": 0.741111111111111}, {\"index\": \"2023-09-26T00:00:00\", \"precipitations\": 0.0, \"potager\": 0.0, \"potager_paillage\": 0.741111111111111}, {\"index\": \"2023-09-27T00:00:00\", \"precipitations\": 8.3, \"potager\": 0.0, \"potager_paillage\": 0.741111111111111}, {\"index\": \"2023-09-28T00:00:00\", \"precipitations\": 0.0, \"potager\": 0.0, \"potager_paillage\": 0.741111111111111}, {\"index\": \"2023-09-29T00:00:00\", \"precipitations\": 0.0, \"potager\": 0.0, \"potager_paillage\": 0.741111111111111}, {\"index\": \"2023-09-30T00:00:00\", \"precipitations\": 0.0, \"potager\": 0.0, \"potager_paillage\": 0.741111111111111}, {\"index\": \"2023-10-01T00:00:00\", \"precipitations\": 0.0, \"potager\": 0.0, \"potager_paillage\": 0.0}, {\"index\": \"2023-10-02T00:00:00\", \"precipitations\": 6.6, \"potager\": 0.0, \"potager_paillage\": 0.0}, {\"index\": \"2023-10-03T00:00:00\", \"precipitations\": 0.0, \"potager\": 0.0, \"potager_paillage\": 0.0}, {\"index\": \"2023-10-04T00:00:00\", \"precipitations\": 0.0, \"potager\": 0.0, \"potager_paillage\": 0.0}, {\"index\": \"2023-10-05T00:00:00\", \"precipitations\": 5.5, \"potager\": 0.0, \"potager_paillage\": 0.0}, {\"index\": \"2023-10-06T00:00:00\", \"precipitations\": 4.2, \"potager\": 0.0, \"potager_paillage\": 0.0}, {\"index\": \"2023-10-07T00:00:00\", \"precipitations\": 6.0, \"potager\": 0.0, \"potager_paillage\": 0.0}, {\"index\": \"2023-10-08T00:00:00\", \"precipitations\": 4.5, \"potager\": 0.0, \"potager_paillage\": 0.0}, {\"index\": \"2023-10-09T00:00:00\", \"precipitations\": 0.0, \"potager\": 0.0, \"potager_paillage\": 0.0}, {\"index\": \"2023-10-10T00:00:00\", \"precipitations\": 0.0, \"potager\": 0.0, \"potager_paillage\": 0.0}, {\"index\": \"2023-10-11T00:00:00\", \"precipitations\": 0.0, \"potager\": 0.0, \"potager_paillage\": 0.0}, {\"index\": \"2023-10-12T00:00:00\", \"precipitations\": 4.9, \"potager\": 0.0, \"potager_paillage\": 0.0}, {\"index\": \"2023-10-13T00:00:00\", \"precipitations\": 4.8, \"potager\": 0.0, \"potager_paillage\": 0.0}, {\"index\": \"2023-10-14T00:00:00\", \"precipitations\": 0.0, \"potager\": 0.0, \"potager_paillage\": 0.0}, {\"index\": \"2023-10-15T00:00:00\", \"precipitations\": 0.0, \"potager\": 0.0, \"potager_paillage\": 0.0}, {\"index\": \"2023-10-16T00:00:00\", \"precipitations\": 0.0, \"potager\": 0.0, \"potager_paillage\": 0.0}, {\"index\": \"2023-10-17T00:00:00\", \"precipitations\": 0.0, \"potager\": 0.0, \"potager_paillage\": 0.0}, {\"index\": \"2023-10-18T00:00:00\", \"precipitations\": 7.1, \"potager\": 0.0, \"potager_paillage\": 0.0}, {\"index\": \"2023-10-19T00:00:00\", \"precipitations\": 0.0, \"potager\": 0.0, \"potager_paillage\": 0.0}, {\"index\": \"2023-10-20T00:00:00\", \"precipitations\": 0.0, \"potager\": 0.0, \"potager_paillage\": 0.0}, {\"index\": \"2023-10-21T00:00:00\", \"precipitations\": 0.0, \"potager\": 0.0, \"potager_paillage\": 0.0}, {\"index\": \"2023-10-22T00:00:00\", \"precipitations\": 2.4, \"potager\": 0.0, \"potager_paillage\": 0.0}, {\"index\": \"2023-10-23T00:00:00\", \"precipitations\": 0.0, \"potager\": 0.0, \"potager_paillage\": 0.0}, {\"index\": \"2023-10-24T00:00:00\", \"precipitations\": 0.0, \"potager\": 0.0, \"potager_paillage\": 0.0}, {\"index\": \"2023-10-25T00:00:00\", \"precipitations\": 0.0, \"potager\": 0.0, \"potager_paillage\": 0.0}, {\"index\": \"2023-10-26T00:00:00\", \"precipitations\": 0.0, \"potager\": 0.0, \"potager_paillage\": 0.0}, {\"index\": \"2023-10-27T00:00:00\", \"precipitations\": 0.0, \"potager\": 0.0, \"potager_paillage\": 0.0}, {\"index\": \"2023-10-28T00:00:00\", \"precipitations\": 0.0, \"potager\": 0.0, \"potager_paillage\": 0.0}, {\"index\": \"2023-10-29T00:00:00\", \"precipitations\": 5.4, \"potager\": 0.0, \"potager_paillage\": 0.0}, {\"index\": \"2023-10-30T00:00:00\", \"precipitations\": 0.0, \"potager\": 0.0, \"potager_paillage\": 0.0}, {\"index\": \"2023-10-31T00:00:00\", \"precipitations\": 0.0, \"potager\": 0.0, \"potager_paillage\": 0.0}, {\"index\": \"2023-11-01T00:00:00\", \"precipitations\": 0.0, \"potager\": 0.0, \"potager_paillage\": 0.0}, {\"index\": \"2023-11-02T00:00:00\", \"precipitations\": 0.0, \"potager\": 0.0, \"potager_paillage\": 0.0}, {\"index\": \"2023-11-03T00:00:00\", \"precipitations\": 0.0, \"potager\": 0.0, \"potager_paillage\": 0.0}, {\"index\": \"2023-11-04T00:00:00\", \"precipitations\": 0.0, \"potager\": 0.0, \"potager_paillage\": 0.0}, {\"index\": \"2023-11-05T00:00:00\", \"precipitations\": 0.0, \"potager\": 0.0, \"potager_paillage\": 0.0}, {\"index\": \"2023-11-06T00:00:00\", \"precipitations\": 0.0, \"potager\": 0.0, \"potager_paillage\": 0.0}, {\"index\": \"2023-11-07T00:00:00\", \"precipitations\": 0.0, \"potager\": 0.0, \"potager_paillage\": 0.0}, {\"index\": \"2023-11-08T00:00:00\", \"precipitations\": 0.0, \"potager\": 0.0, \"potager_paillage\": 0.0}, {\"index\": \"2023-11-09T00:00:00\", \"precipitations\": 0.0, \"potager\": 0.0, \"potager_paillage\": 0.0}, {\"index\": \"2023-11-10T00:00:00\", \"precipitations\": 0.0, \"potager\": 0.0, \"potager_paillage\": 0.0}, {\"index\": \"2023-11-11T00:00:00\", \"precipitations\": 6.8, \"potager\": 0.0, \"potager_paillage\": 0.0}, {\"index\": \"2023-11-12T00:00:00\", \"precipitations\": 7.5, \"potager\": 0.0, \"potager_paillage\": 0.0}, {\"index\": \"2023-11-13T00:00:00\", \"precipitations\": 0.0, \"potager\": 0.0, \"potager_paillage\": 0.0}, {\"index\": \"2023-11-14T00:00:00\", \"precipitations\": 0.0, \"potager\": 0.0, \"potager_paillage\": 0.0}, {\"index\": \"2023-11-15T00:00:00\", \"precipitations\": 7.0, \"potager\": 0.0, \"potager_paillage\": 0.0}, {\"index\": \"2023-11-16T00:00:00\", \"precipitations\": 0.0, \"potager\": 0.0, \"potager_paillage\": 0.0}, {\"index\": \"2023-11-17T00:00:00\", \"precipitations\": 8.4, \"potager\": 0.0, \"potager_paillage\": 0.0}, {\"index\": \"2023-11-18T00:00:00\", \"precipitations\": 0.0, \"potager\": 0.0, \"potager_paillage\": 0.0}, {\"index\": \"2023-11-19T00:00:00\", \"precipitations\": 0.0, \"potager\": 0.0, \"potager_paillage\": 0.0}, {\"index\": \"2023-11-20T00:00:00\", \"precipitations\": 0.0, \"potager\": 0.0, \"potager_paillage\": 0.0}, {\"index\": \"2023-11-21T00:00:00\", \"precipitations\": 8.0, \"potager\": 0.0, \"potager_paillage\": 0.0}, {\"index\": \"2023-11-22T00:00:00\", \"precipitations\": 0.0, \"potager\": 0.0, \"potager_paillage\": 0.0}, {\"index\": \"2023-11-23T00:00:00\", \"precipitations\": 0.0, \"potager\": 0.0, \"potager_paillage\": 0.0}, {\"index\": \"2023-11-24T00:00:00\", \"precipitations\": 8.8, \"potager\": 0.0, \"potager_paillage\": 0.0}, {\"index\": \"2023-11-25T00:00:00\", \"precipitations\": 0.0, \"potager\": 0.0, \"potager_paillage\": 0.0}, {\"index\": \"2023-11-26T00:00:00\", \"precipitations\": 0.0, \"potager\": 0.0, \"potager_paillage\": 0.0}, {\"index\": \"2023-11-27T00:00:00\", \"precipitations\": 0.0, \"potager\": 0.0, \"potager_paillage\": 0.0}, {\"index\": \"2023-11-28T00:00:00\", \"precipitations\": 0.0, \"potager\": 0.0, \"potager_paillage\": 0.0}, {\"index\": \"2023-11-29T00:00:00\", \"precipitations\": 0.0, \"potager\": 0.0, \"potager_paillage\": 0.0}, {\"index\": \"2023-11-30T00:00:00\", \"precipitations\": 6.3, \"potager\": 0.0, \"potager_paillage\": 0.0}, {\"index\": \"2023-12-01T00:00:00\", \"precipitations\": 0.0, \"potager\": 0.0, \"potager_paillage\": 0.0}, {\"index\": \"2023-12-02T00:00:00\", \"precipitations\": 0.0, \"potager\": 0.0, \"potager_paillage\": 0.0}, {\"index\": \"2023-12-03T00:00:00\", \"precipitations\": 0.0, \"potager\": 0.0, \"potager_paillage\": 0.0}, {\"index\": \"2023-12-04T00:00:00\", \"precipitations\": 0.0, \"potager\": 0.0, \"potager_paillage\": 0.0}, {\"index\": \"2023-12-05T00:00:00\", \"precipitations\": 0.0, \"potager\": 0.0, \"potager_paillage\": 0.0}, {\"index\": \"2023-12-06T00:00:00\", \"precipitations\": 0.0, \"potager\": 0.0, \"potager_paillage\": 0.0}, {\"index\": \"2023-12-07T00:00:00\", \"precipitations\": 8.9, \"potager\": 0.0, \"potager_paillage\": 0.0}, {\"index\": \"2023-12-08T00:00:00\", \"precipitations\": 0.0, \"potager\": 0.0, \"potager_paillage\": 0.0}, {\"index\": \"2023-12-09T00:00:00\", \"precipitations\": 0.0, \"potager\": 0.0, \"potager_paillage\": 0.0}, {\"index\": \"2023-12-10T00:00:00\", \"precipitations\": 0.0, \"potager\": 0.0, \"potager_paillage\": 0.0}, {\"index\": \"2023-12-11T00:00:00\", \"precipitations\": 0.0, \"potager\": 0.0, \"potager_paillage\": 0.0}, {\"index\": \"2023-12-12T00:00:00\", \"precipitations\": 0.0, \"potager\": 0.0, \"potager_paillage\": 0.0}, {\"index\": \"2023-12-13T00:00:00\", \"precipitations\": 0.0, \"potager\": 0.0, \"potager_paillage\": 0.0}, {\"index\": \"2023-12-14T00:00:00\", \"precipitations\": 0.0, \"potager\": 0.0, \"potager_paillage\": 0.0}, {\"index\": \"2023-12-15T00:00:00\", \"precipitations\": 0.0, \"potager\": 0.0, \"potager_paillage\": 0.0}, {\"index\": \"2023-12-16T00:00:00\", \"precipitations\": 0.0, \"potager\": 0.0, \"potager_paillage\": 0.0}, {\"index\": \"2023-12-17T00:00:00\", \"precipitations\": 0.0, \"potager\": 0.0, \"potager_paillage\": 0.0}, {\"index\": \"2023-12-18T00:00:00\", \"precipitations\": 0.0, \"potager\": 0.0, \"potager_paillage\": 0.0}, {\"index\": \"2023-12-19T00:00:00\", \"precipitations\": 0.0, \"potager\": 0.0, \"potager_paillage\": 0.0}, {\"index\": \"2023-12-20T00:00:00\", \"precipitations\": 0.0, \"potager\": 0.0, \"potager_paillage\": 0.0}, {\"index\": \"2023-12-21T00:00:00\", \"precipitations\": 0.0, \"potager\": 0.0, \"potager_paillage\": 0.0}, {\"index\": \"2023-12-22T00:00:00\", \"precipitations\": 0.0, \"potager\": 0.0, \"potager_paillage\": 0.0}, {\"index\": \"2023-12-23T00:00:00\", \"precipitations\": 0.0, \"potager\": 0.0, \"potager_paillage\": 0.0}, {\"index\": \"2023-12-24T00:00:00\", \"precipitations\": 0.0, \"potager\": 0.0, \"potager_paillage\": 0.0}, {\"index\": \"2023-12-25T00:00:00\", \"precipitations\": 11.8, \"potager\": 0.0, \"potager_paillage\": 0.0}, {\"index\": \"2023-12-26T00:00:00\", \"precipitations\": 0.0, \"potager\": 0.0, \"potager_paillage\": 0.0}, {\"index\": \"2023-12-27T00:00:00\", \"precipitations\": 0.0, \"potager\": 0.0, \"potager_paillage\": 0.0}, {\"index\": \"2023-12-28T00:00:00\", \"precipitations\": 0.0, \"potager\": 0.0, \"potager_paillage\": 0.0}, {\"index\": \"2023-12-29T00:00:00\", \"precipitations\": 0.0, \"potager\": 0.0, \"potager_paillage\": 0.0}, {\"index\": \"2023-12-30T00:00:00\", \"precipitations\": 0.0, \"potager\": 0.0, \"potager_paillage\": 0.0}, {\"index\": \"2023-12-31T00:00:00\", \"precipitations\": 6.4, \"potager\": 0.0, \"potager_paillage\": 0.0}]}}, {\"mode\": \"vega-lite\"});\n",
       "</script>"
      ],
      "text/plain": [
       "alt.Chart(...)"
      ]
     },
     "execution_count": 11,
     "metadata": {},
     "output_type": "execute_result"
    }
   ],
   "source": [
    "df = pd.concat([pluviometrie, water_needs],axis=1)\n",
    "\n",
    "df.loc[df['potager']>0, 'potager'] -=  df.loc[df['potager']>0, 'precipitations'] # quand il pleut les besoins sont reduits d'autant\n",
    "\n",
    "# On cherche les endroits où il a plu davantage que les besoins.\n",
    "negative_needs = df.loc[df['potager']<0, \"potager\"]\n",
    "\n",
    "while(negative_needs.count()>0):\n",
    "    # D'abord il n'y a plus de besoin pour le jour en question\n",
    "    df.loc[df.index.isin(negative_needs.index), \"potager\"] = 0\n",
    "    # l'excedent de pluie fournit les besoins du lendemain\n",
    "    negative_needs.index = negative_needs.index + pd.Timedelta('1 day')\n",
    "    df.loc[df.index.isin(negative_needs.index), \"potager\"] += negative_needs\n",
    "    # On recalcule le nombre de jours où il a trop plu\n",
    "    negative_needs = df.loc[df['potager']<0, \"potager\"]\n",
    "\n",
    "alt.Chart(df.reset_index()).mark_line().encode(\n",
    "    x = alt.X('index:T', title=\"Jour de l'année\"),\n",
    "    y = alt.Y('potager', title=\"Besoins en irrigation\")\n",
    ").properties(width=450).interactive()\n",
    "# NB attention au potentiel dernier jour\n"
   ]
  },
  {
   "cell_type": "code",
   "execution_count": 12,
   "metadata": {},
   "outputs": [],
   "source": [
    "# A partir des besoins et consommations par unité de surface,\n",
    "# On obtient les besoins et consommations pour l'ensemble du potager. \n",
    "df['total_needs'] = df[\"potager\"]*surface_garden\n",
    "df['sum_apports'] = df['precipitations']*surface_roof"
   ]
  },
  {
   "attachments": {},
   "cell_type": "markdown",
   "metadata": {},
   "source": [
    "On accède donc, via la surface du potager et celle du toit, à l'ensemble des besoins et l'ensemble des apports quotidiens. "
   ]
  },
  {
   "attachments": {},
   "cell_type": "markdown",
   "metadata": {},
   "source": [
    "\n",
    "### Dimension de la cuve"
   ]
  },
  {
   "attachments": {},
   "cell_type": "markdown",
   "metadata": {},
   "source": [
    "Simulons une cuve de volume infini, qui se remplit avec les précipitations et se vide via les utilisations, et suivons son volume. "
   ]
  },
  {
   "cell_type": "code",
   "execution_count": 14,
   "metadata": {},
   "outputs": [
    {
     "data": {
      "text/html": [
       "\n",
       "<div id=\"altair-viz-27f2d44e28ae4d11a1eddee557b131fb\"></div>\n",
       "<script type=\"text/javascript\">\n",
       "  var VEGA_DEBUG = (typeof VEGA_DEBUG == \"undefined\") ? {} : VEGA_DEBUG;\n",
       "  (function(spec, embedOpt){\n",
       "    let outputDiv = document.currentScript.previousElementSibling;\n",
       "    if (outputDiv.id !== \"altair-viz-27f2d44e28ae4d11a1eddee557b131fb\") {\n",
       "      outputDiv = document.getElementById(\"altair-viz-27f2d44e28ae4d11a1eddee557b131fb\");\n",
       "    }\n",
       "    const paths = {\n",
       "      \"vega\": \"https://cdn.jsdelivr.net/npm//vega@5?noext\",\n",
       "      \"vega-lib\": \"https://cdn.jsdelivr.net/npm//vega-lib?noext\",\n",
       "      \"vega-lite\": \"https://cdn.jsdelivr.net/npm//vega-lite@4.17.0?noext\",\n",
       "      \"vega-embed\": \"https://cdn.jsdelivr.net/npm//vega-embed@6?noext\",\n",
       "    };\n",
       "\n",
       "    function maybeLoadScript(lib, version) {\n",
       "      var key = `${lib.replace(\"-\", \"\")}_version`;\n",
       "      return (VEGA_DEBUG[key] == version) ?\n",
       "        Promise.resolve(paths[lib]) :\n",
       "        new Promise(function(resolve, reject) {\n",
       "          var s = document.createElement('script');\n",
       "          document.getElementsByTagName(\"head\")[0].appendChild(s);\n",
       "          s.async = true;\n",
       "          s.onload = () => {\n",
       "            VEGA_DEBUG[key] = version;\n",
       "            return resolve(paths[lib]);\n",
       "          };\n",
       "          s.onerror = () => reject(`Error loading script: ${paths[lib]}`);\n",
       "          s.src = paths[lib];\n",
       "        });\n",
       "    }\n",
       "\n",
       "    function showError(err) {\n",
       "      outputDiv.innerHTML = `<div class=\"error\" style=\"color:red;\">${err}</div>`;\n",
       "      throw err;\n",
       "    }\n",
       "\n",
       "    function displayChart(vegaEmbed) {\n",
       "      vegaEmbed(outputDiv, spec, embedOpt)\n",
       "        .catch(err => showError(`Javascript Error: ${err.message}<br>This usually means there's a typo in your chart specification. See the javascript console for the full traceback.`));\n",
       "    }\n",
       "\n",
       "    if(typeof define === \"function\" && define.amd) {\n",
       "      requirejs.config({paths});\n",
       "      require([\"vega-embed\"], displayChart, err => showError(`Error loading script: ${err.message}`));\n",
       "    } else {\n",
       "      maybeLoadScript(\"vega\", \"5\")\n",
       "        .then(() => maybeLoadScript(\"vega-lite\", \"4.17.0\"))\n",
       "        .then(() => maybeLoadScript(\"vega-embed\", \"6\"))\n",
       "        .catch(showError)\n",
       "        .then(() => displayChart(vegaEmbed));\n",
       "    }\n",
       "  })({\"config\": {\"view\": {\"continuousWidth\": 400, \"continuousHeight\": 300}}, \"data\": {\"name\": \"data-44e6262a0c9ab89a759d767725696a6f\"}, \"mark\": \"line\", \"encoding\": {\"tooltip\": [{\"field\": \"volume\", \"type\": \"quantitative\"}, {\"field\": \"index\", \"type\": \"temporal\"}], \"x\": {\"field\": \"index\", \"title\": \"Jour de l'ann\\u00e9e\", \"type\": \"temporal\"}, \"y\": {\"field\": \"volume\", \"title\": \"Volume de la cuve\", \"type\": \"quantitative\"}}, \"selection\": {\"selector005\": {\"type\": \"interval\", \"bind\": \"scales\", \"encodings\": [\"x\", \"y\"]}}, \"$schema\": \"https://vega.github.io/schema/vega-lite/v4.17.0.json\", \"datasets\": {\"data-44e6262a0c9ab89a759d767725696a6f\": [{\"index\": \"2023-01-01T00:00:00\", \"volume\": 0.0}, {\"index\": \"2023-01-02T00:00:00\", \"volume\": 0.0}, {\"index\": \"2023-01-03T00:00:00\", \"volume\": 0.0}, {\"index\": \"2023-01-04T00:00:00\", \"volume\": 580.0}, {\"index\": \"2023-01-05T00:00:00\", \"volume\": 580.0}, {\"index\": \"2023-01-06T00:00:00\", \"volume\": 580.0}, {\"index\": \"2023-01-07T00:00:00\", \"volume\": 1100.0}, {\"index\": \"2023-01-08T00:00:00\", \"volume\": 1100.0}, {\"index\": \"2023-01-09T00:00:00\", \"volume\": 1100.0}, {\"index\": \"2023-01-10T00:00:00\", \"volume\": 1100.0}, {\"index\": \"2023-01-11T00:00:00\", \"volume\": 1100.0}, {\"index\": \"2023-01-12T00:00:00\", \"volume\": 1540.0}, {\"index\": \"2023-01-13T00:00:00\", \"volume\": 1540.0}, {\"index\": \"2023-01-14T00:00:00\", \"volume\": 1540.0}, {\"index\": \"2023-01-15T00:00:00\", \"volume\": 1540.0}, {\"index\": \"2023-01-16T00:00:00\", \"volume\": 1540.0}, {\"index\": \"2023-01-17T00:00:00\", \"volume\": 1540.0}, {\"index\": \"2023-01-18T00:00:00\", \"volume\": 2480.0}, {\"index\": \"2023-01-19T00:00:00\", \"volume\": 2480.0}, {\"index\": \"2023-01-20T00:00:00\", \"volume\": 3300.0}, {\"index\": \"2023-01-21T00:00:00\", \"volume\": 3300.0}, {\"index\": \"2023-01-22T00:00:00\", \"volume\": 3300.0}, {\"index\": \"2023-01-23T00:00:00\", \"volume\": 3300.0}, {\"index\": \"2023-01-24T00:00:00\", \"volume\": 4140.0}, {\"index\": \"2023-01-25T00:00:00\", \"volume\": 4140.0}, {\"index\": \"2023-01-26T00:00:00\", \"volume\": 4140.0}, {\"index\": \"2023-01-27T00:00:00\", \"volume\": 4140.0}, {\"index\": \"2023-01-28T00:00:00\", \"volume\": 4140.0}, {\"index\": \"2023-01-29T00:00:00\", \"volume\": 4940.0}, {\"index\": \"2023-01-30T00:00:00\", \"volume\": 4940.0}, {\"index\": \"2023-01-31T00:00:00\", \"volume\": 5140.0}, {\"index\": \"2023-02-01T00:00:00\", \"volume\": 5140.0}, {\"index\": \"2023-02-02T00:00:00\", \"volume\": 5140.0}, {\"index\": \"2023-02-03T00:00:00\", \"volume\": 5140.0}, {\"index\": \"2023-02-04T00:00:00\", \"volume\": 5140.0}, {\"index\": \"2023-02-05T00:00:00\", \"volume\": 5140.0}, {\"index\": \"2023-02-06T00:00:00\", \"volume\": 5140.0}, {\"index\": \"2023-02-07T00:00:00\", \"volume\": 5140.0}, {\"index\": \"2023-02-08T00:00:00\", \"volume\": 5140.0}, {\"index\": \"2023-02-09T00:00:00\", \"volume\": 5140.0}, {\"index\": \"2023-02-10T00:00:00\", \"volume\": 5140.0}, {\"index\": \"2023-02-11T00:00:00\", \"volume\": 5580.0}, {\"index\": \"2023-02-12T00:00:00\", \"volume\": 5580.0}, {\"index\": \"2023-02-13T00:00:00\", \"volume\": 5580.0}, {\"index\": \"2023-02-14T00:00:00\", \"volume\": 5580.0}, {\"index\": \"2023-02-15T00:00:00\", \"volume\": 5580.0}, {\"index\": \"2023-02-16T00:00:00\", \"volume\": 5580.0}, {\"index\": \"2023-02-17T00:00:00\", \"volume\": 6140.0}, {\"index\": \"2023-02-18T00:00:00\", \"volume\": 6140.0}, {\"index\": \"2023-02-19T00:00:00\", \"volume\": 6140.0}, {\"index\": \"2023-02-20T00:00:00\", \"volume\": 6140.0}, {\"index\": \"2023-02-21T00:00:00\", \"volume\": 6140.0}, {\"index\": \"2023-02-22T00:00:00\", \"volume\": 7200.0}, {\"index\": \"2023-02-23T00:00:00\", \"volume\": 7800.0}, {\"index\": \"2023-02-24T00:00:00\", \"volume\": 7800.0}, {\"index\": \"2023-02-25T00:00:00\", \"volume\": 7800.0}, {\"index\": \"2023-02-26T00:00:00\", \"volume\": 7800.0}, {\"index\": \"2023-02-27T00:00:00\", \"volume\": 8500.0}, {\"index\": \"2023-02-28T00:00:00\", \"volume\": 8500.0}, {\"index\": \"2023-03-01T00:00:00\", \"volume\": 8500.0}, {\"index\": \"2023-03-02T00:00:00\", \"volume\": 8500.0}, {\"index\": \"2023-03-03T00:00:00\", \"volume\": 8500.0}, {\"index\": \"2023-03-04T00:00:00\", \"volume\": 9780.0}, {\"index\": \"2023-03-05T00:00:00\", \"volume\": 10980.0}, {\"index\": \"2023-03-06T00:00:00\", \"volume\": 10980.0}, {\"index\": \"2023-03-07T00:00:00\", \"volume\": 11620.0}, {\"index\": \"2023-03-08T00:00:00\", \"volume\": 11620.0}, {\"index\": \"2023-03-09T00:00:00\", \"volume\": 11620.0}, {\"index\": \"2023-03-10T00:00:00\", \"volume\": 11620.0}, {\"index\": \"2023-03-11T00:00:00\", \"volume\": 11620.0}, {\"index\": \"2023-03-12T00:00:00\", \"volume\": 11620.0}, {\"index\": \"2023-03-13T00:00:00\", \"volume\": 12520.0}, {\"index\": \"2023-03-14T00:00:00\", \"volume\": 12520.0}, {\"index\": \"2023-03-15T00:00:00\", \"volume\": 12520.0}, {\"index\": \"2023-03-16T00:00:00\", \"volume\": 12520.0}, {\"index\": \"2023-03-17T00:00:00\", \"volume\": 12520.0}, {\"index\": \"2023-03-18T00:00:00\", \"volume\": 13620.0}, {\"index\": \"2023-03-19T00:00:00\", \"volume\": 13620.0}, {\"index\": \"2023-03-20T00:00:00\", \"volume\": 13620.0}, {\"index\": \"2023-03-21T00:00:00\", \"volume\": 14320.0}, {\"index\": \"2023-03-22T00:00:00\", \"volume\": 14320.0}, {\"index\": \"2023-03-23T00:00:00\", \"volume\": 14320.0}, {\"index\": \"2023-03-24T00:00:00\", \"volume\": 14320.0}, {\"index\": \"2023-03-25T00:00:00\", \"volume\": 14320.0}, {\"index\": \"2023-03-26T00:00:00\", \"volume\": 14320.0}, {\"index\": \"2023-03-27T00:00:00\", \"volume\": 14320.0}, {\"index\": \"2023-03-28T00:00:00\", \"volume\": 14320.0}, {\"index\": \"2023-03-29T00:00:00\", \"volume\": 14320.0}, {\"index\": \"2023-03-30T00:00:00\", \"volume\": 14320.0}, {\"index\": \"2023-03-31T00:00:00\", \"volume\": 14320.0}, {\"index\": \"2023-04-01T00:00:00\", \"volume\": 14320.0}, {\"index\": \"2023-04-02T00:00:00\", \"volume\": 14320.0}, {\"index\": \"2023-04-03T00:00:00\", \"volume\": 14320.0}, {\"index\": \"2023-04-04T00:00:00\", \"volume\": 14320.0}, {\"index\": \"2023-04-05T00:00:00\", \"volume\": 14320.0}, {\"index\": \"2023-04-06T00:00:00\", \"volume\": 15760.0}, {\"index\": \"2023-04-07T00:00:00\", \"volume\": 15760.0}, {\"index\": \"2023-04-08T00:00:00\", \"volume\": 15760.0}, {\"index\": \"2023-04-09T00:00:00\", \"volume\": 15760.0}, {\"index\": \"2023-04-10T00:00:00\", \"volume\": 15760.0}, {\"index\": \"2023-04-11T00:00:00\", \"volume\": 15760.0}, {\"index\": \"2023-04-12T00:00:00\", \"volume\": 18440.0}, {\"index\": \"2023-04-13T00:00:00\", \"volume\": 18440.0}, {\"index\": \"2023-04-14T00:00:00\", \"volume\": 18440.0}, {\"index\": \"2023-04-15T00:00:00\", \"volume\": 18440.0}, {\"index\": \"2023-04-16T00:00:00\", \"volume\": 21500.0}, {\"index\": \"2023-04-17T00:00:00\", \"volume\": 21500.0}, {\"index\": \"2023-04-18T00:00:00\", \"volume\": 21500.0}, {\"index\": \"2023-04-19T00:00:00\", \"volume\": 21500.0}, {\"index\": \"2023-04-20T00:00:00\", \"volume\": 21500.0}, {\"index\": \"2023-04-21T00:00:00\", \"volume\": 21500.0}, {\"index\": \"2023-04-22T00:00:00\", \"volume\": 21500.0}, {\"index\": \"2023-04-23T00:00:00\", \"volume\": 23840.0}, {\"index\": \"2023-04-24T00:00:00\", \"volume\": 23840.0}, {\"index\": \"2023-04-25T00:00:00\", \"volume\": 23840.0}, {\"index\": \"2023-04-26T00:00:00\", \"volume\": 23840.0}, {\"index\": \"2023-04-27T00:00:00\", \"volume\": 23840.0}, {\"index\": \"2023-04-28T00:00:00\", \"volume\": 23840.0}, {\"index\": \"2023-04-29T00:00:00\", \"volume\": 23840.0}, {\"index\": \"2023-04-30T00:00:00\", \"volume\": 23840.0}, {\"index\": \"2023-05-01T00:00:00\", \"volume\": 23840.0}, {\"index\": \"2023-05-02T00:00:00\", \"volume\": 23706.6}, {\"index\": \"2023-05-03T00:00:00\", \"volume\": 24826.6}, {\"index\": \"2023-05-04T00:00:00\", \"volume\": 26466.6}, {\"index\": \"2023-05-05T00:00:00\", \"volume\": 26466.6}, {\"index\": \"2023-05-06T00:00:00\", \"volume\": 26466.6}, {\"index\": \"2023-05-07T00:00:00\", \"volume\": 28026.6}, {\"index\": \"2023-05-08T00:00:00\", \"volume\": 28026.6}, {\"index\": \"2023-05-09T00:00:00\", \"volume\": 28026.6}, {\"index\": \"2023-05-10T00:00:00\", \"volume\": 29546.6}, {\"index\": \"2023-05-11T00:00:00\", \"volume\": 29546.6}, {\"index\": \"2023-05-12T00:00:00\", \"volume\": 29546.6}, {\"index\": \"2023-05-13T00:00:00\", \"volume\": 29546.6}, {\"index\": \"2023-05-14T00:00:00\", \"volume\": 29546.6}, {\"index\": \"2023-05-15T00:00:00\", \"volume\": 29546.6}, {\"index\": \"2023-05-16T00:00:00\", \"volume\": 29431.0}, {\"index\": \"2023-05-17T00:00:00\", \"volume\": 31211.0}, {\"index\": \"2023-05-18T00:00:00\", \"volume\": 31211.0}, {\"index\": \"2023-05-19T00:00:00\", \"volume\": 31211.0}, {\"index\": \"2023-05-20T00:00:00\", \"volume\": 32891.0}, {\"index\": \"2023-05-21T00:00:00\", \"volume\": 32891.0}, {\"index\": \"2023-05-22T00:00:00\", \"volume\": 32891.0}, {\"index\": \"2023-05-23T00:00:00\", \"volume\": 32891.0}, {\"index\": \"2023-05-24T00:00:00\", \"volume\": 34391.0}, {\"index\": \"2023-05-25T00:00:00\", \"volume\": 36071.0}, {\"index\": \"2023-05-26T00:00:00\", \"volume\": 36071.0}, {\"index\": \"2023-05-27T00:00:00\", \"volume\": 36071.0}, {\"index\": \"2023-05-28T00:00:00\", \"volume\": 36071.0}, {\"index\": \"2023-05-29T00:00:00\", \"volume\": 36071.0}, {\"index\": \"2023-05-30T00:00:00\", \"volume\": 36071.0}, {\"index\": \"2023-05-31T00:00:00\", \"volume\": 36062.0}, {\"index\": \"2023-06-01T00:00:00\", \"volume\": 35928.6}, {\"index\": \"2023-06-02T00:00:00\", \"volume\": 35528.4}, {\"index\": \"2023-06-03T00:00:00\", \"volume\": 35128.200000000004}, {\"index\": \"2023-06-04T00:00:00\", \"volume\": 36588.200000000004}, {\"index\": \"2023-06-05T00:00:00\", \"volume\": 36225.8}, {\"index\": \"2023-06-06T00:00:00\", \"volume\": 37489.600000000006}, {\"index\": \"2023-06-07T00:00:00\", \"volume\": 37089.40000000001}, {\"index\": \"2023-06-08T00:00:00\", \"volume\": 36689.20000000001}, {\"index\": \"2023-06-09T00:00:00\", \"volume\": 36289.000000000015}, {\"index\": \"2023-06-10T00:00:00\", \"volume\": 35888.80000000002}, {\"index\": \"2023-06-11T00:00:00\", \"volume\": 36710.60000000002}, {\"index\": \"2023-06-12T00:00:00\", \"volume\": 37636.40000000002}, {\"index\": \"2023-06-13T00:00:00\", \"volume\": 38822.200000000026}, {\"index\": \"2023-06-14T00:00:00\", \"volume\": 38422.00000000003}, {\"index\": \"2023-06-15T00:00:00\", \"volume\": 38021.80000000003}, {\"index\": \"2023-06-16T00:00:00\", \"volume\": 37621.600000000035}, {\"index\": \"2023-06-17T00:00:00\", \"volume\": 37221.40000000004}, {\"index\": \"2023-06-18T00:00:00\", \"volume\": 36821.20000000004}, {\"index\": \"2023-06-19T00:00:00\", \"volume\": 38261.20000000004}, {\"index\": \"2023-06-20T00:00:00\", \"volume\": 37892.80000000004}, {\"index\": \"2023-06-21T00:00:00\", \"volume\": 37492.60000000004}, {\"index\": \"2023-06-22T00:00:00\", \"volume\": 37092.400000000045}, {\"index\": \"2023-06-23T00:00:00\", \"volume\": 36692.20000000005}, {\"index\": \"2023-06-24T00:00:00\", \"volume\": 36292.00000000005}, {\"index\": \"2023-06-25T00:00:00\", \"volume\": 37932.00000000005}, {\"index\": \"2023-06-26T00:00:00\", \"volume\": 39892.00000000005}, {\"index\": \"2023-06-27T00:00:00\", \"volume\": 39771.40000000005}, {\"index\": \"2023-06-28T00:00:00\", \"volume\": 41451.40000000005}, {\"index\": \"2023-06-29T00:00:00\", \"volume\": 42429.00000000005}, {\"index\": \"2023-06-30T00:00:00\", \"volume\": 42028.800000000054}, {\"index\": \"2023-07-01T00:00:00\", \"volume\": 41628.60000000006}, {\"index\": \"2023-07-02T00:00:00\", \"volume\": 42944.40000000006}, {\"index\": \"2023-07-03T00:00:00\", \"volume\": 44000.20000000006}, {\"index\": \"2023-07-04T00:00:00\", \"volume\": 43600.000000000065}, {\"index\": \"2023-07-05T00:00:00\", \"volume\": 44473.80000000007}, {\"index\": \"2023-07-06T00:00:00\", \"volume\": 44073.60000000007}, {\"index\": \"2023-07-07T00:00:00\", \"volume\": 43673.400000000074}, {\"index\": \"2023-07-08T00:00:00\", \"volume\": 43273.20000000008}, {\"index\": \"2023-07-09T00:00:00\", \"volume\": 42873.00000000008}, {\"index\": \"2023-07-10T00:00:00\", \"volume\": 42472.80000000008}, {\"index\": \"2023-07-11T00:00:00\", \"volume\": 42072.600000000086}, {\"index\": \"2023-07-12T00:00:00\", \"volume\": 41672.40000000009}, {\"index\": \"2023-07-13T00:00:00\", \"volume\": 41272.20000000009}, {\"index\": \"2023-07-14T00:00:00\", \"volume\": 40872.000000000095}, {\"index\": \"2023-07-15T00:00:00\", \"volume\": 42232.000000000095}, {\"index\": \"2023-07-16T00:00:00\", \"volume\": 41839.60000000009}, {\"index\": \"2023-07-17T00:00:00\", \"volume\": 41439.400000000096}, {\"index\": \"2023-07-18T00:00:00\", \"volume\": 42677.2000000001}, {\"index\": \"2023-07-19T00:00:00\", \"volume\": 43967.0000000001}, {\"index\": \"2023-07-20T00:00:00\", \"volume\": 43566.800000000105}, {\"index\": \"2023-07-21T00:00:00\", \"volume\": 43166.60000000011}, {\"index\": \"2023-07-22T00:00:00\", \"volume\": 44526.60000000011}, {\"index\": \"2023-07-23T00:00:00\", \"volume\": 46326.60000000011}, {\"index\": \"2023-07-24T00:00:00\", \"volume\": 46074.00000000011}, {\"index\": \"2023-07-25T00:00:00\", \"volume\": 46739.80000000011}, {\"index\": \"2023-07-26T00:00:00\", \"volume\": 46339.600000000115}, {\"index\": \"2023-07-27T00:00:00\", \"volume\": 45939.40000000012}, {\"index\": \"2023-07-28T00:00:00\", \"volume\": 45539.20000000012}, {\"index\": \"2023-07-29T00:00:00\", \"volume\": 45139.000000000124}, {\"index\": \"2023-07-30T00:00:00\", \"volume\": 46739.000000000124}, {\"index\": \"2023-07-31T00:00:00\", \"volume\": 46418.60000000012}, {\"index\": \"2023-08-01T00:00:00\", \"volume\": 46018.400000000125}, {\"index\": \"2023-08-02T00:00:00\", \"volume\": 47838.400000000125}, {\"index\": \"2023-08-03T00:00:00\", \"volume\": 47584.000000000124}, {\"index\": \"2023-08-04T00:00:00\", \"volume\": 47183.80000000013}, {\"index\": \"2023-08-05T00:00:00\", \"volume\": 46783.60000000013}, {\"index\": \"2023-08-06T00:00:00\", \"volume\": 46383.40000000013}, {\"index\": \"2023-08-07T00:00:00\", \"volume\": 45983.200000000135}, {\"index\": \"2023-08-08T00:00:00\", \"volume\": 45583.00000000014}, {\"index\": \"2023-08-09T00:00:00\", \"volume\": 47163.00000000014}, {\"index\": \"2023-08-10T00:00:00\", \"volume\": 46836.60000000014}, {\"index\": \"2023-08-11T00:00:00\", \"volume\": 46436.40000000014}, {\"index\": \"2023-08-12T00:00:00\", \"volume\": 48416.40000000014}, {\"index\": \"2023-08-13T00:00:00\", \"volume\": 48210.00000000014}, {\"index\": \"2023-08-14T00:00:00\", \"volume\": 47809.80000000014}, {\"index\": \"2023-08-15T00:00:00\", \"volume\": 47409.600000000144}, {\"index\": \"2023-08-16T00:00:00\", \"volume\": 47009.40000000015}, {\"index\": \"2023-08-17T00:00:00\", \"volume\": 46609.20000000015}, {\"index\": \"2023-08-18T00:00:00\", \"volume\": 46209.00000000015}, {\"index\": \"2023-08-19T00:00:00\", \"volume\": 48069.00000000015}, {\"index\": \"2023-08-20T00:00:00\", \"volume\": 47826.60000000015}, {\"index\": \"2023-08-21T00:00:00\", \"volume\": 48934.400000000154}, {\"index\": \"2023-08-22T00:00:00\", \"volume\": 48534.20000000016}, {\"index\": \"2023-08-23T00:00:00\", \"volume\": 48134.00000000016}, {\"index\": \"2023-08-24T00:00:00\", \"volume\": 50414.00000000016}, {\"index\": \"2023-08-25T00:00:00\", \"volume\": 50297.60000000016}, {\"index\": \"2023-08-26T00:00:00\", \"volume\": 49897.40000000016}, {\"index\": \"2023-08-27T00:00:00\", \"volume\": 49497.200000000164}, {\"index\": \"2023-08-28T00:00:00\", \"volume\": 49097.00000000017}, {\"index\": \"2023-08-29T00:00:00\", \"volume\": 48696.80000000017}, {\"index\": \"2023-08-30T00:00:00\", \"volume\": 48296.60000000017}, {\"index\": \"2023-08-31T00:00:00\", \"volume\": 47896.400000000176}, {\"index\": \"2023-09-01T00:00:00\", \"volume\": 50136.400000000176}, {\"index\": \"2023-09-02T00:00:00\", \"volume\": 52476.400000000176}, {\"index\": \"2023-09-03T00:00:00\", \"volume\": 52476.400000000176}, {\"index\": \"2023-09-04T00:00:00\", \"volume\": 52476.400000000176}, {\"index\": \"2023-09-05T00:00:00\", \"volume\": 54196.400000000176}, {\"index\": \"2023-09-06T00:00:00\", \"volume\": 54196.400000000176}, {\"index\": \"2023-09-07T00:00:00\", \"volume\": 54196.400000000176}, {\"index\": \"2023-09-08T00:00:00\", \"volume\": 56196.400000000176}, {\"index\": \"2023-09-09T00:00:00\", \"volume\": 56196.400000000176}, {\"index\": \"2023-09-10T00:00:00\", \"volume\": 56196.400000000176}, {\"index\": \"2023-09-11T00:00:00\", \"volume\": 56196.400000000176}, {\"index\": \"2023-09-12T00:00:00\", \"volume\": 56196.400000000176}, {\"index\": \"2023-09-13T00:00:00\", \"volume\": 56196.400000000176}, {\"index\": \"2023-09-14T00:00:00\", \"volume\": 56196.400000000176}, {\"index\": \"2023-09-15T00:00:00\", \"volume\": 56196.400000000176}, {\"index\": \"2023-09-16T00:00:00\", \"volume\": 56196.400000000176}, {\"index\": \"2023-09-17T00:00:00\", \"volume\": 56151.80000000018}, {\"index\": \"2023-09-18T00:00:00\", \"volume\": 56018.400000000176}, {\"index\": \"2023-09-19T00:00:00\", \"volume\": 55885.000000000175}, {\"index\": \"2023-09-20T00:00:00\", \"volume\": 57745.000000000175}, {\"index\": \"2023-09-21T00:00:00\", \"volume\": 57745.000000000175}, {\"index\": \"2023-09-22T00:00:00\", \"volume\": 57745.000000000175}, {\"index\": \"2023-09-23T00:00:00\", \"volume\": 57745.000000000175}, {\"index\": \"2023-09-24T00:00:00\", \"volume\": 57636.000000000175}, {\"index\": \"2023-09-25T00:00:00\", \"volume\": 57502.60000000017}, {\"index\": \"2023-09-26T00:00:00\", \"volume\": 59822.60000000017}, {\"index\": \"2023-09-27T00:00:00\", \"volume\": 59822.60000000017}, {\"index\": \"2023-09-28T00:00:00\", \"volume\": 61482.60000000017}, {\"index\": \"2023-09-29T00:00:00\", \"volume\": 61482.60000000017}, {\"index\": \"2023-09-30T00:00:00\", \"volume\": 61482.60000000017}, {\"index\": \"2023-10-01T00:00:00\", \"volume\": 61482.60000000017}, {\"index\": \"2023-10-02T00:00:00\", \"volume\": 61482.60000000017}, {\"index\": \"2023-10-03T00:00:00\", \"volume\": 62802.60000000017}, {\"index\": \"2023-10-04T00:00:00\", \"volume\": 62802.60000000017}, {\"index\": \"2023-10-05T00:00:00\", \"volume\": 62802.60000000017}, {\"index\": \"2023-10-06T00:00:00\", \"volume\": 63902.60000000017}, {\"index\": \"2023-10-07T00:00:00\", \"volume\": 64742.60000000017}, {\"index\": \"2023-10-08T00:00:00\", \"volume\": 65942.60000000018}, {\"index\": \"2023-10-09T00:00:00\", \"volume\": 66842.60000000018}, {\"index\": \"2023-10-10T00:00:00\", \"volume\": 66842.60000000018}, {\"index\": \"2023-10-11T00:00:00\", \"volume\": 66842.60000000018}, {\"index\": \"2023-10-12T00:00:00\", \"volume\": 66842.60000000018}, {\"index\": \"2023-10-13T00:00:00\", \"volume\": 67822.60000000018}, {\"index\": \"2023-10-14T00:00:00\", \"volume\": 68782.60000000018}, {\"index\": \"2023-10-15T00:00:00\", \"volume\": 68782.60000000018}, {\"index\": \"2023-10-16T00:00:00\", \"volume\": 68782.60000000018}, {\"index\": \"2023-10-17T00:00:00\", \"volume\": 68782.60000000018}, {\"index\": \"2023-10-18T00:00:00\", \"volume\": 68782.60000000018}, {\"index\": \"2023-10-19T00:00:00\", \"volume\": 70202.60000000018}, {\"index\": \"2023-10-20T00:00:00\", \"volume\": 70202.60000000018}, {\"index\": \"2023-10-21T00:00:00\", \"volume\": 70202.60000000018}, {\"index\": \"2023-10-22T00:00:00\", \"volume\": 70202.60000000018}, {\"index\": \"2023-10-23T00:00:00\", \"volume\": 70682.60000000018}, {\"index\": \"2023-10-24T00:00:00\", \"volume\": 70682.60000000018}, {\"index\": \"2023-10-25T00:00:00\", \"volume\": 70682.60000000018}, {\"index\": \"2023-10-26T00:00:00\", \"volume\": 70682.60000000018}, {\"index\": \"2023-10-27T00:00:00\", \"volume\": 70682.60000000018}, {\"index\": \"2023-10-28T00:00:00\", \"volume\": 70682.60000000018}, {\"index\": \"2023-10-29T00:00:00\", \"volume\": 70682.60000000018}, {\"index\": \"2023-10-30T00:00:00\", \"volume\": 71762.60000000018}, {\"index\": \"2023-10-31T00:00:00\", \"volume\": 71762.60000000018}, {\"index\": \"2023-11-01T00:00:00\", \"volume\": 71762.60000000018}, {\"index\": \"2023-11-02T00:00:00\", \"volume\": 71762.60000000018}, {\"index\": \"2023-11-03T00:00:00\", \"volume\": 71762.60000000018}, {\"index\": \"2023-11-04T00:00:00\", \"volume\": 71762.60000000018}, {\"index\": \"2023-11-05T00:00:00\", \"volume\": 71762.60000000018}, {\"index\": \"2023-11-06T00:00:00\", \"volume\": 71762.60000000018}, {\"index\": \"2023-11-07T00:00:00\", \"volume\": 71762.60000000018}, {\"index\": \"2023-11-08T00:00:00\", \"volume\": 71762.60000000018}, {\"index\": \"2023-11-09T00:00:00\", \"volume\": 71762.60000000018}, {\"index\": \"2023-11-10T00:00:00\", \"volume\": 71762.60000000018}, {\"index\": \"2023-11-11T00:00:00\", \"volume\": 71762.60000000018}, {\"index\": \"2023-11-12T00:00:00\", \"volume\": 73122.60000000018}, {\"index\": \"2023-11-13T00:00:00\", \"volume\": 74622.60000000018}, {\"index\": \"2023-11-14T00:00:00\", \"volume\": 74622.60000000018}, {\"index\": \"2023-11-15T00:00:00\", \"volume\": 74622.60000000018}, {\"index\": \"2023-11-16T00:00:00\", \"volume\": 76022.60000000018}, {\"index\": \"2023-11-17T00:00:00\", \"volume\": 76022.60000000018}, {\"index\": \"2023-11-18T00:00:00\", \"volume\": 77702.60000000018}, {\"index\": \"2023-11-19T00:00:00\", \"volume\": 77702.60000000018}, {\"index\": \"2023-11-20T00:00:00\", \"volume\": 77702.60000000018}, {\"index\": \"2023-11-21T00:00:00\", \"volume\": 77702.60000000018}, {\"index\": \"2023-11-22T00:00:00\", \"volume\": 79302.60000000018}, {\"index\": \"2023-11-23T00:00:00\", \"volume\": 79302.60000000018}, {\"index\": \"2023-11-24T00:00:00\", \"volume\": 79302.60000000018}, {\"index\": \"2023-11-25T00:00:00\", \"volume\": 81062.60000000018}, {\"index\": \"2023-11-26T00:00:00\", \"volume\": 81062.60000000018}, {\"index\": \"2023-11-27T00:00:00\", \"volume\": 81062.60000000018}, {\"index\": \"2023-11-28T00:00:00\", \"volume\": 81062.60000000018}, {\"index\": \"2023-11-29T00:00:00\", \"volume\": 81062.60000000018}, {\"index\": \"2023-11-30T00:00:00\", \"volume\": 81062.60000000018}, {\"index\": \"2023-12-01T00:00:00\", \"volume\": 82322.60000000018}, {\"index\": \"2023-12-02T00:00:00\", \"volume\": 82322.60000000018}, {\"index\": \"2023-12-03T00:00:00\", \"volume\": 82322.60000000018}, {\"index\": \"2023-12-04T00:00:00\", \"volume\": 82322.60000000018}, {\"index\": \"2023-12-05T00:00:00\", \"volume\": 82322.60000000018}, {\"index\": \"2023-12-06T00:00:00\", \"volume\": 82322.60000000018}, {\"index\": \"2023-12-07T00:00:00\", \"volume\": 82322.60000000018}, {\"index\": \"2023-12-08T00:00:00\", \"volume\": 84102.60000000018}, {\"index\": \"2023-12-09T00:00:00\", \"volume\": 84102.60000000018}, {\"index\": \"2023-12-10T00:00:00\", \"volume\": 84102.60000000018}, {\"index\": \"2023-12-11T00:00:00\", \"volume\": 84102.60000000018}, {\"index\": \"2023-12-12T00:00:00\", \"volume\": 84102.60000000018}, {\"index\": \"2023-12-13T00:00:00\", \"volume\": 84102.60000000018}, {\"index\": \"2023-12-14T00:00:00\", \"volume\": 84102.60000000018}, {\"index\": \"2023-12-15T00:00:00\", \"volume\": 84102.60000000018}, {\"index\": \"2023-12-16T00:00:00\", \"volume\": 84102.60000000018}, {\"index\": \"2023-12-17T00:00:00\", \"volume\": 84102.60000000018}, {\"index\": \"2023-12-18T00:00:00\", \"volume\": 84102.60000000018}, {\"index\": \"2023-12-19T00:00:00\", \"volume\": 84102.60000000018}, {\"index\": \"2023-12-20T00:00:00\", \"volume\": 84102.60000000018}, {\"index\": \"2023-12-21T00:00:00\", \"volume\": 84102.60000000018}, {\"index\": \"2023-12-22T00:00:00\", \"volume\": 84102.60000000018}, {\"index\": \"2023-12-23T00:00:00\", \"volume\": 84102.60000000018}, {\"index\": \"2023-12-24T00:00:00\", \"volume\": 84102.60000000018}, {\"index\": \"2023-12-25T00:00:00\", \"volume\": 84102.60000000018}, {\"index\": \"2023-12-26T00:00:00\", \"volume\": 86462.60000000018}, {\"index\": \"2023-12-27T00:00:00\", \"volume\": 86462.60000000018}, {\"index\": \"2023-12-28T00:00:00\", \"volume\": 86462.60000000018}, {\"index\": \"2023-12-29T00:00:00\", \"volume\": 86462.60000000018}, {\"index\": \"2023-12-30T00:00:00\", \"volume\": 86462.60000000018}, {\"index\": \"2023-12-31T00:00:00\", \"volume\": 86462.60000000018}]}}, {\"mode\": \"vega-lite\"});\n",
       "</script>"
      ],
      "text/plain": [
       "alt.Chart(...)"
      ]
     },
     "execution_count": 14,
     "metadata": {},
     "output_type": "execute_result"
    }
   ],
   "source": [
    "#initialisation \n",
    "cuve_infinie = pd.DataFrame({\"volume\" : np.zeros(365)}, index=pd.date_range(\"20230101\", periods=365))\n",
    "# remplissage au cours de l'annee\n",
    "for i in range(len(cuve_infinie.index)-1):\n",
    "    cuve_infinie[\"volume\"].iloc[i+1] = cuve_infinie[\"volume\"].iloc[i] + df['sum_apports'].iloc[i] - df['total_needs'].iloc[i]\n",
    "\n",
    "alt.Chart(cuve_infinie.reset_index()).mark_line().encode(\n",
    "    x=alt.X('index:T', title=\"Jour de l'année\"), \n",
    "    y=alt.Y('volume', title=\"Volume de la cuve\"), \n",
    "    tooltip=['volume', 'index']\n",
    ").interactive()\n"
   ]
  },
  {
   "attachments": {},
   "cell_type": "markdown",
   "metadata": {},
   "source": [
    "La cuve, initialement vide, se remplit pendant les mois d'hiver. \n",
    "Elle se vide pendant les mois d'été, où les besoins sont plus importants.\n",
    "Pour déterminer la taille minimale de la cuve, il faut que la quantité récoltée pendant l'hiver suffise exactement à combler le déficit de l'été. \n",
    "On fixe donc un volume maximal arbitraire, compris entre 0 et la pluviométrie cumulée pendant l'hiver. \n",
    "Puis la différence entre ce volume de remplissage et le volume minimal atteint pendant l'été donne la valeur minimale du volume de la cuve. "
   ]
  },
  {
   "cell_type": "code",
   "execution_count": 17,
   "metadata": {},
   "outputs": [
    {
     "name": "stdout",
     "output_type": "stream",
     "text": [
      "Volume minimal de la cuve :  3601.7999999999993\n",
      "-3601.7999999999993\n"
     ]
    },
    {
     "data": {
      "text/html": [
       "\n",
       "<div id=\"altair-viz-00376919bc3f415dae9fc890727e26fe\"></div>\n",
       "<script type=\"text/javascript\">\n",
       "  var VEGA_DEBUG = (typeof VEGA_DEBUG == \"undefined\") ? {} : VEGA_DEBUG;\n",
       "  (function(spec, embedOpt){\n",
       "    let outputDiv = document.currentScript.previousElementSibling;\n",
       "    if (outputDiv.id !== \"altair-viz-00376919bc3f415dae9fc890727e26fe\") {\n",
       "      outputDiv = document.getElementById(\"altair-viz-00376919bc3f415dae9fc890727e26fe\");\n",
       "    }\n",
       "    const paths = {\n",
       "      \"vega\": \"https://cdn.jsdelivr.net/npm//vega@5?noext\",\n",
       "      \"vega-lib\": \"https://cdn.jsdelivr.net/npm//vega-lib?noext\",\n",
       "      \"vega-lite\": \"https://cdn.jsdelivr.net/npm//vega-lite@4.17.0?noext\",\n",
       "      \"vega-embed\": \"https://cdn.jsdelivr.net/npm//vega-embed@6?noext\",\n",
       "    };\n",
       "\n",
       "    function maybeLoadScript(lib, version) {\n",
       "      var key = `${lib.replace(\"-\", \"\")}_version`;\n",
       "      return (VEGA_DEBUG[key] == version) ?\n",
       "        Promise.resolve(paths[lib]) :\n",
       "        new Promise(function(resolve, reject) {\n",
       "          var s = document.createElement('script');\n",
       "          document.getElementsByTagName(\"head\")[0].appendChild(s);\n",
       "          s.async = true;\n",
       "          s.onload = () => {\n",
       "            VEGA_DEBUG[key] = version;\n",
       "            return resolve(paths[lib]);\n",
       "          };\n",
       "          s.onerror = () => reject(`Error loading script: ${paths[lib]}`);\n",
       "          s.src = paths[lib];\n",
       "        });\n",
       "    }\n",
       "\n",
       "    function showError(err) {\n",
       "      outputDiv.innerHTML = `<div class=\"error\" style=\"color:red;\">${err}</div>`;\n",
       "      throw err;\n",
       "    }\n",
       "\n",
       "    function displayChart(vegaEmbed) {\n",
       "      vegaEmbed(outputDiv, spec, embedOpt)\n",
       "        .catch(err => showError(`Javascript Error: ${err.message}<br>This usually means there's a typo in your chart specification. See the javascript console for the full traceback.`));\n",
       "    }\n",
       "\n",
       "    if(typeof define === \"function\" && define.amd) {\n",
       "      requirejs.config({paths});\n",
       "      require([\"vega-embed\"], displayChart, err => showError(`Error loading script: ${err.message}`));\n",
       "    } else {\n",
       "      maybeLoadScript(\"vega\", \"5\")\n",
       "        .then(() => maybeLoadScript(\"vega-lite\", \"4.17.0\"))\n",
       "        .then(() => maybeLoadScript(\"vega-embed\", \"6\"))\n",
       "        .catch(showError)\n",
       "        .then(() => displayChart(vegaEmbed));\n",
       "    }\n",
       "  })({\"config\": {\"view\": {\"continuousWidth\": 400, \"continuousHeight\": 300}}, \"data\": {\"name\": \"data-c4564321a59460028bc7b7ffe473bdd5\"}, \"mark\": \"line\", \"encoding\": {\"tooltip\": [{\"field\": \"volume\", \"type\": \"quantitative\"}, {\"field\": \"index\", \"type\": \"temporal\"}], \"x\": {\"field\": \"index\", \"title\": \"Jour de l'ann\\u00e9e\", \"type\": \"temporal\"}, \"y\": {\"field\": \"volume\", \"title\": \"Volume de la cuve\", \"type\": \"quantitative\"}}, \"selection\": {\"selector007\": {\"type\": \"interval\", \"bind\": \"scales\", \"encodings\": [\"x\", \"y\"]}}, \"$schema\": \"https://vega.github.io/schema/vega-lite/v4.17.0.json\", \"datasets\": {\"data-c4564321a59460028bc7b7ffe473bdd5\": [{\"index\": \"2023-01-01T00:00:00\", \"volume\": 0.0}, {\"index\": \"2023-01-02T00:00:00\", \"volume\": 0.0}, {\"index\": \"2023-01-03T00:00:00\", \"volume\": 0.0}, {\"index\": \"2023-01-04T00:00:00\", \"volume\": 0.0}, {\"index\": \"2023-01-05T00:00:00\", \"volume\": 0.0}, {\"index\": \"2023-01-06T00:00:00\", \"volume\": 0.0}, {\"index\": \"2023-01-07T00:00:00\", \"volume\": 0.0}, {\"index\": \"2023-01-08T00:00:00\", \"volume\": 0.0}, {\"index\": \"2023-01-09T00:00:00\", \"volume\": 0.0}, {\"index\": \"2023-01-10T00:00:00\", \"volume\": 0.0}, {\"index\": \"2023-01-11T00:00:00\", \"volume\": 0.0}, {\"index\": \"2023-01-12T00:00:00\", \"volume\": 0.0}, {\"index\": \"2023-01-13T00:00:00\", \"volume\": 0.0}, {\"index\": \"2023-01-14T00:00:00\", \"volume\": 0.0}, {\"index\": \"2023-01-15T00:00:00\", \"volume\": 0.0}, {\"index\": \"2023-01-16T00:00:00\", \"volume\": 0.0}, {\"index\": \"2023-01-17T00:00:00\", \"volume\": 0.0}, {\"index\": \"2023-01-18T00:00:00\", \"volume\": 0.0}, {\"index\": \"2023-01-19T00:00:00\", \"volume\": 0.0}, {\"index\": \"2023-01-20T00:00:00\", \"volume\": 0.0}, {\"index\": \"2023-01-21T00:00:00\", \"volume\": 0.0}, {\"index\": \"2023-01-22T00:00:00\", \"volume\": 0.0}, {\"index\": \"2023-01-23T00:00:00\", \"volume\": 0.0}, {\"index\": \"2023-01-24T00:00:00\", \"volume\": 0.0}, {\"index\": \"2023-01-25T00:00:00\", \"volume\": 0.0}, {\"index\": \"2023-01-26T00:00:00\", \"volume\": 0.0}, {\"index\": \"2023-01-27T00:00:00\", \"volume\": 0.0}, {\"index\": \"2023-01-28T00:00:00\", \"volume\": 0.0}, {\"index\": \"2023-01-29T00:00:00\", \"volume\": 0.0}, {\"index\": \"2023-01-30T00:00:00\", \"volume\": 0.0}, {\"index\": \"2023-01-31T00:00:00\", \"volume\": 0.0}, {\"index\": \"2023-02-01T00:00:00\", \"volume\": 0.0}, {\"index\": \"2023-02-02T00:00:00\", \"volume\": 0.0}, {\"index\": \"2023-02-03T00:00:00\", \"volume\": 0.0}, {\"index\": \"2023-02-04T00:00:00\", \"volume\": 0.0}, {\"index\": \"2023-02-05T00:00:00\", \"volume\": 0.0}, {\"index\": \"2023-02-06T00:00:00\", \"volume\": 0.0}, {\"index\": \"2023-02-07T00:00:00\", \"volume\": 0.0}, {\"index\": \"2023-02-08T00:00:00\", \"volume\": 0.0}, {\"index\": \"2023-02-09T00:00:00\", \"volume\": 0.0}, {\"index\": \"2023-02-10T00:00:00\", \"volume\": 0.0}, {\"index\": \"2023-02-11T00:00:00\", \"volume\": 0.0}, {\"index\": \"2023-02-12T00:00:00\", \"volume\": 0.0}, {\"index\": \"2023-02-13T00:00:00\", \"volume\": 0.0}, {\"index\": \"2023-02-14T00:00:00\", \"volume\": 0.0}, {\"index\": \"2023-02-15T00:00:00\", \"volume\": 0.0}, {\"index\": \"2023-02-16T00:00:00\", \"volume\": 0.0}, {\"index\": \"2023-02-17T00:00:00\", \"volume\": 0.0}, {\"index\": \"2023-02-18T00:00:00\", \"volume\": 0.0}, {\"index\": \"2023-02-19T00:00:00\", \"volume\": 0.0}, {\"index\": \"2023-02-20T00:00:00\", \"volume\": 0.0}, {\"index\": \"2023-02-21T00:00:00\", \"volume\": 0.0}, {\"index\": \"2023-02-22T00:00:00\", \"volume\": 0.0}, {\"index\": \"2023-02-23T00:00:00\", \"volume\": 0.0}, {\"index\": \"2023-02-24T00:00:00\", \"volume\": 0.0}, {\"index\": \"2023-02-25T00:00:00\", \"volume\": 0.0}, {\"index\": \"2023-02-26T00:00:00\", \"volume\": 0.0}, {\"index\": \"2023-02-27T00:00:00\", \"volume\": 0.0}, {\"index\": \"2023-02-28T00:00:00\", \"volume\": 0.0}, {\"index\": \"2023-03-01T00:00:00\", \"volume\": 0.0}, {\"index\": \"2023-03-02T00:00:00\", \"volume\": 0.0}, {\"index\": \"2023-03-03T00:00:00\", \"volume\": 0.0}, {\"index\": \"2023-03-04T00:00:00\", \"volume\": 0.0}, {\"index\": \"2023-03-05T00:00:00\", \"volume\": 0.0}, {\"index\": \"2023-03-06T00:00:00\", \"volume\": 0.0}, {\"index\": \"2023-03-07T00:00:00\", \"volume\": 0.0}, {\"index\": \"2023-03-08T00:00:00\", \"volume\": 0.0}, {\"index\": \"2023-03-09T00:00:00\", \"volume\": 0.0}, {\"index\": \"2023-03-10T00:00:00\", \"volume\": 0.0}, {\"index\": \"2023-03-11T00:00:00\", \"volume\": 0.0}, {\"index\": \"2023-03-12T00:00:00\", \"volume\": 0.0}, {\"index\": \"2023-03-13T00:00:00\", \"volume\": 0.0}, {\"index\": \"2023-03-14T00:00:00\", \"volume\": 0.0}, {\"index\": \"2023-03-15T00:00:00\", \"volume\": 0.0}, {\"index\": \"2023-03-16T00:00:00\", \"volume\": 0.0}, {\"index\": \"2023-03-17T00:00:00\", \"volume\": 0.0}, {\"index\": \"2023-03-18T00:00:00\", \"volume\": 0.0}, {\"index\": \"2023-03-19T00:00:00\", \"volume\": 0.0}, {\"index\": \"2023-03-20T00:00:00\", \"volume\": 0.0}, {\"index\": \"2023-03-21T00:00:00\", \"volume\": 0.0}, {\"index\": \"2023-03-22T00:00:00\", \"volume\": 0.0}, {\"index\": \"2023-03-23T00:00:00\", \"volume\": 0.0}, {\"index\": \"2023-03-24T00:00:00\", \"volume\": 0.0}, {\"index\": \"2023-03-25T00:00:00\", \"volume\": 0.0}, {\"index\": \"2023-03-26T00:00:00\", \"volume\": 0.0}, {\"index\": \"2023-03-27T00:00:00\", \"volume\": 0.0}, {\"index\": \"2023-03-28T00:00:00\", \"volume\": 0.0}, {\"index\": \"2023-03-29T00:00:00\", \"volume\": 0.0}, {\"index\": \"2023-03-30T00:00:00\", \"volume\": 0.0}, {\"index\": \"2023-03-31T00:00:00\", \"volume\": 0.0}, {\"index\": \"2023-04-01T00:00:00\", \"volume\": 0.0}, {\"index\": \"2023-04-02T00:00:00\", \"volume\": 0.0}, {\"index\": \"2023-04-03T00:00:00\", \"volume\": 0.0}, {\"index\": \"2023-04-04T00:00:00\", \"volume\": 0.0}, {\"index\": \"2023-04-05T00:00:00\", \"volume\": 0.0}, {\"index\": \"2023-04-06T00:00:00\", \"volume\": 0.0}, {\"index\": \"2023-04-07T00:00:00\", \"volume\": 0.0}, {\"index\": \"2023-04-08T00:00:00\", \"volume\": 0.0}, {\"index\": \"2023-04-09T00:00:00\", \"volume\": 0.0}, {\"index\": \"2023-04-10T00:00:00\", \"volume\": 0.0}, {\"index\": \"2023-04-11T00:00:00\", \"volume\": 0.0}, {\"index\": \"2023-04-12T00:00:00\", \"volume\": 0.0}, {\"index\": \"2023-04-13T00:00:00\", \"volume\": 0.0}, {\"index\": \"2023-04-14T00:00:00\", \"volume\": 0.0}, {\"index\": \"2023-04-15T00:00:00\", \"volume\": 0.0}, {\"index\": \"2023-04-16T00:00:00\", \"volume\": 0.0}, {\"index\": \"2023-04-17T00:00:00\", \"volume\": 0.0}, {\"index\": \"2023-04-18T00:00:00\", \"volume\": 0.0}, {\"index\": \"2023-04-19T00:00:00\", \"volume\": 0.0}, {\"index\": \"2023-04-20T00:00:00\", \"volume\": 0.0}, {\"index\": \"2023-04-21T00:00:00\", \"volume\": 0.0}, {\"index\": \"2023-04-22T00:00:00\", \"volume\": 0.0}, {\"index\": \"2023-04-23T00:00:00\", \"volume\": 0.0}, {\"index\": \"2023-04-24T00:00:00\", \"volume\": 0.0}, {\"index\": \"2023-04-25T00:00:00\", \"volume\": 0.0}, {\"index\": \"2023-04-26T00:00:00\", \"volume\": 0.0}, {\"index\": \"2023-04-27T00:00:00\", \"volume\": 0.0}, {\"index\": \"2023-04-28T00:00:00\", \"volume\": 0.0}, {\"index\": \"2023-04-29T00:00:00\", \"volume\": 0.0}, {\"index\": \"2023-04-30T00:00:00\", \"volume\": 0.0}, {\"index\": \"2023-05-01T00:00:00\", \"volume\": 0.0}, {\"index\": \"2023-05-02T00:00:00\", \"volume\": -133.39999999999998}, {\"index\": \"2023-05-03T00:00:00\", \"volume\": 0.0}, {\"index\": \"2023-05-04T00:00:00\", \"volume\": 0.0}, {\"index\": \"2023-05-05T00:00:00\", \"volume\": 0.0}, {\"index\": \"2023-05-06T00:00:00\", \"volume\": 0.0}, {\"index\": \"2023-05-07T00:00:00\", \"volume\": 0.0}, {\"index\": \"2023-05-08T00:00:00\", \"volume\": 0.0}, {\"index\": \"2023-05-09T00:00:00\", \"volume\": 0.0}, {\"index\": \"2023-05-10T00:00:00\", \"volume\": 0.0}, {\"index\": \"2023-05-11T00:00:00\", \"volume\": 0.0}, {\"index\": \"2023-05-12T00:00:00\", \"volume\": 0.0}, {\"index\": \"2023-05-13T00:00:00\", \"volume\": 0.0}, {\"index\": \"2023-05-14T00:00:00\", \"volume\": 0.0}, {\"index\": \"2023-05-15T00:00:00\", \"volume\": 0.0}, {\"index\": \"2023-05-16T00:00:00\", \"volume\": -115.59999999999992}, {\"index\": \"2023-05-17T00:00:00\", \"volume\": 0.0}, {\"index\": \"2023-05-18T00:00:00\", \"volume\": 0.0}, {\"index\": \"2023-05-19T00:00:00\", \"volume\": 0.0}, {\"index\": \"2023-05-20T00:00:00\", \"volume\": 0.0}, {\"index\": \"2023-05-21T00:00:00\", \"volume\": 0.0}, {\"index\": \"2023-05-22T00:00:00\", \"volume\": 0.0}, {\"index\": \"2023-05-23T00:00:00\", \"volume\": 0.0}, {\"index\": \"2023-05-24T00:00:00\", \"volume\": 0.0}, {\"index\": \"2023-05-25T00:00:00\", \"volume\": 0.0}, {\"index\": \"2023-05-26T00:00:00\", \"volume\": 0.0}, {\"index\": \"2023-05-27T00:00:00\", \"volume\": 0.0}, {\"index\": \"2023-05-28T00:00:00\", \"volume\": 0.0}, {\"index\": \"2023-05-29T00:00:00\", \"volume\": 0.0}, {\"index\": \"2023-05-30T00:00:00\", \"volume\": 0.0}, {\"index\": \"2023-05-31T00:00:00\", \"volume\": -8.999999999999675}, {\"index\": \"2023-06-01T00:00:00\", \"volume\": -142.39999999999966}, {\"index\": \"2023-06-02T00:00:00\", \"volume\": -542.5999999999997}, {\"index\": \"2023-06-03T00:00:00\", \"volume\": -942.7999999999997}, {\"index\": \"2023-06-04T00:00:00\", \"volume\": 0.0}, {\"index\": \"2023-06-05T00:00:00\", \"volume\": -362.4}, {\"index\": \"2023-06-06T00:00:00\", \"volume\": 0.0}, {\"index\": \"2023-06-07T00:00:00\", \"volume\": -400.2}, {\"index\": \"2023-06-08T00:00:00\", \"volume\": -800.4}, {\"index\": \"2023-06-09T00:00:00\", \"volume\": -1200.6}, {\"index\": \"2023-06-10T00:00:00\", \"volume\": -1600.8}, {\"index\": \"2023-06-11T00:00:00\", \"volume\": -779.0}, {\"index\": \"2023-06-12T00:00:00\", \"volume\": 0.0}, {\"index\": \"2023-06-13T00:00:00\", \"volume\": 0.0}, {\"index\": \"2023-06-14T00:00:00\", \"volume\": -400.2}, {\"index\": \"2023-06-15T00:00:00\", \"volume\": -800.4}, {\"index\": \"2023-06-16T00:00:00\", \"volume\": -1200.6}, {\"index\": \"2023-06-17T00:00:00\", \"volume\": -1600.8}, {\"index\": \"2023-06-18T00:00:00\", \"volume\": -2001.0}, {\"index\": \"2023-06-19T00:00:00\", \"volume\": -561.0}, {\"index\": \"2023-06-20T00:00:00\", \"volume\": -929.4}, {\"index\": \"2023-06-21T00:00:00\", \"volume\": -1329.6}, {\"index\": \"2023-06-22T00:00:00\", \"volume\": -1729.8}, {\"index\": \"2023-06-23T00:00:00\", \"volume\": -2130.0}, {\"index\": \"2023-06-24T00:00:00\", \"volume\": -2530.2}, {\"index\": \"2023-06-25T00:00:00\", \"volume\": -890.2}, {\"index\": \"2023-06-26T00:00:00\", \"volume\": 0.0}, {\"index\": \"2023-06-27T00:00:00\", \"volume\": -120.6}, {\"index\": \"2023-06-28T00:00:00\", \"volume\": 0.0}, {\"index\": \"2023-06-29T00:00:00\", \"volume\": 0.0}, {\"index\": \"2023-06-30T00:00:00\", \"volume\": -400.2}, {\"index\": \"2023-07-01T00:00:00\", \"volume\": -800.4}, {\"index\": \"2023-07-02T00:00:00\", \"volume\": 0.0}, {\"index\": \"2023-07-03T00:00:00\", \"volume\": 0.0}, {\"index\": \"2023-07-04T00:00:00\", \"volume\": -400.2}, {\"index\": \"2023-07-05T00:00:00\", \"volume\": 0.0}, {\"index\": \"2023-07-06T00:00:00\", \"volume\": -400.2}, {\"index\": \"2023-07-07T00:00:00\", \"volume\": -800.4}, {\"index\": \"2023-07-08T00:00:00\", \"volume\": -1200.6}, {\"index\": \"2023-07-09T00:00:00\", \"volume\": -1600.8}, {\"index\": \"2023-07-10T00:00:00\", \"volume\": -2001.0}, {\"index\": \"2023-07-11T00:00:00\", \"volume\": -2401.2}, {\"index\": \"2023-07-12T00:00:00\", \"volume\": -2801.3999999999996}, {\"index\": \"2023-07-13T00:00:00\", \"volume\": -3201.5999999999995}, {\"index\": \"2023-07-14T00:00:00\", \"volume\": -3601.7999999999993}, {\"index\": \"2023-07-15T00:00:00\", \"volume\": -2241.7999999999993}, {\"index\": \"2023-07-16T00:00:00\", \"volume\": -2634.1999999999994}, {\"index\": \"2023-07-17T00:00:00\", \"volume\": -3034.399999999999}, {\"index\": \"2023-07-18T00:00:00\", \"volume\": -1796.5999999999992}, {\"index\": \"2023-07-19T00:00:00\", \"volume\": -506.7999999999992}, {\"index\": \"2023-07-20T00:00:00\", \"volume\": -906.9999999999992}, {\"index\": \"2023-07-21T00:00:00\", \"volume\": -1307.1999999999991}, {\"index\": \"2023-07-22T00:00:00\", \"volume\": 0.0}, {\"index\": \"2023-07-23T00:00:00\", \"volume\": 0.0}, {\"index\": \"2023-07-24T00:00:00\", \"volume\": -252.6}, {\"index\": \"2023-07-25T00:00:00\", \"volume\": 0.0}, {\"index\": \"2023-07-26T00:00:00\", \"volume\": -400.2}, {\"index\": \"2023-07-27T00:00:00\", \"volume\": -800.4}, {\"index\": \"2023-07-28T00:00:00\", \"volume\": -1200.6}, {\"index\": \"2023-07-29T00:00:00\", \"volume\": -1600.8}, {\"index\": \"2023-07-30T00:00:00\", \"volume\": -0.7999999999999545}, {\"index\": \"2023-07-31T00:00:00\", \"volume\": -321.19999999999993}, {\"index\": \"2023-08-01T00:00:00\", \"volume\": -721.3999999999999}, {\"index\": \"2023-08-02T00:00:00\", \"volume\": 0.0}, {\"index\": \"2023-08-03T00:00:00\", \"volume\": -254.4}, {\"index\": \"2023-08-04T00:00:00\", \"volume\": -654.6}, {\"index\": \"2023-08-05T00:00:00\", \"volume\": -1054.8}, {\"index\": \"2023-08-06T00:00:00\", \"volume\": -1455.0}, {\"index\": \"2023-08-07T00:00:00\", \"volume\": -1855.2}, {\"index\": \"2023-08-08T00:00:00\", \"volume\": -2255.4}, {\"index\": \"2023-08-09T00:00:00\", \"volume\": -675.4000000000001}, {\"index\": \"2023-08-10T00:00:00\", \"volume\": -1001.8000000000001}, {\"index\": \"2023-08-11T00:00:00\", \"volume\": -1402.0}, {\"index\": \"2023-08-12T00:00:00\", \"volume\": 0.0}, {\"index\": \"2023-08-13T00:00:00\", \"volume\": -206.39999999999998}, {\"index\": \"2023-08-14T00:00:00\", \"volume\": -606.5999999999999}, {\"index\": \"2023-08-15T00:00:00\", \"volume\": -1006.8}, {\"index\": \"2023-08-16T00:00:00\", \"volume\": -1407.0}, {\"index\": \"2023-08-17T00:00:00\", \"volume\": -1807.2}, {\"index\": \"2023-08-18T00:00:00\", \"volume\": -2207.4}, {\"index\": \"2023-08-19T00:00:00\", \"volume\": -347.39999999999986}, {\"index\": \"2023-08-20T00:00:00\", \"volume\": -589.7999999999998}, {\"index\": \"2023-08-21T00:00:00\", \"volume\": 0.0}, {\"index\": \"2023-08-22T00:00:00\", \"volume\": -400.2}, {\"index\": \"2023-08-23T00:00:00\", \"volume\": -800.4}, {\"index\": \"2023-08-24T00:00:00\", \"volume\": 0.0}, {\"index\": \"2023-08-25T00:00:00\", \"volume\": -116.39999999999998}, {\"index\": \"2023-08-26T00:00:00\", \"volume\": -516.5999999999999}, {\"index\": \"2023-08-27T00:00:00\", \"volume\": -916.8}, {\"index\": \"2023-08-28T00:00:00\", \"volume\": -1317.0}, {\"index\": \"2023-08-29T00:00:00\", \"volume\": -1717.2}, {\"index\": \"2023-08-30T00:00:00\", \"volume\": -2117.4}, {\"index\": \"2023-08-31T00:00:00\", \"volume\": -2517.6}, {\"index\": \"2023-09-01T00:00:00\", \"volume\": -277.5999999999999}, {\"index\": \"2023-09-02T00:00:00\", \"volume\": 0.0}, {\"index\": \"2023-09-03T00:00:00\", \"volume\": 0.0}, {\"index\": \"2023-09-04T00:00:00\", \"volume\": 0.0}, {\"index\": \"2023-09-05T00:00:00\", \"volume\": 0.0}, {\"index\": \"2023-09-06T00:00:00\", \"volume\": 0.0}, {\"index\": \"2023-09-07T00:00:00\", \"volume\": 0.0}, {\"index\": \"2023-09-08T00:00:00\", \"volume\": 0.0}, {\"index\": \"2023-09-09T00:00:00\", \"volume\": 0.0}, {\"index\": \"2023-09-10T00:00:00\", \"volume\": 0.0}, {\"index\": \"2023-09-11T00:00:00\", \"volume\": 0.0}, {\"index\": \"2023-09-12T00:00:00\", \"volume\": 0.0}, {\"index\": \"2023-09-13T00:00:00\", \"volume\": 0.0}, {\"index\": \"2023-09-14T00:00:00\", \"volume\": 0.0}, {\"index\": \"2023-09-15T00:00:00\", \"volume\": 0.0}, {\"index\": \"2023-09-16T00:00:00\", \"volume\": 0.0}, {\"index\": \"2023-09-17T00:00:00\", \"volume\": -44.59999999999975}, {\"index\": \"2023-09-18T00:00:00\", \"volume\": -177.99999999999972}, {\"index\": \"2023-09-19T00:00:00\", \"volume\": -311.3999999999997}, {\"index\": \"2023-09-20T00:00:00\", \"volume\": 0.0}, {\"index\": \"2023-09-21T00:00:00\", \"volume\": 0.0}, {\"index\": \"2023-09-22T00:00:00\", \"volume\": 0.0}, {\"index\": \"2023-09-23T00:00:00\", \"volume\": 0.0}, {\"index\": \"2023-09-24T00:00:00\", \"volume\": -108.99999999999986}, {\"index\": \"2023-09-25T00:00:00\", \"volume\": -242.39999999999984}, {\"index\": \"2023-09-26T00:00:00\", \"volume\": 0.0}, {\"index\": \"2023-09-27T00:00:00\", \"volume\": 0.0}, {\"index\": \"2023-09-28T00:00:00\", \"volume\": 0.0}, {\"index\": \"2023-09-29T00:00:00\", \"volume\": 0.0}, {\"index\": \"2023-09-30T00:00:00\", \"volume\": 0.0}, {\"index\": \"2023-10-01T00:00:00\", \"volume\": 0.0}, {\"index\": \"2023-10-02T00:00:00\", \"volume\": 0.0}, {\"index\": \"2023-10-03T00:00:00\", \"volume\": 0.0}, {\"index\": \"2023-10-04T00:00:00\", \"volume\": 0.0}, {\"index\": \"2023-10-05T00:00:00\", \"volume\": 0.0}, {\"index\": \"2023-10-06T00:00:00\", \"volume\": 0.0}, {\"index\": \"2023-10-07T00:00:00\", \"volume\": 0.0}, {\"index\": \"2023-10-08T00:00:00\", \"volume\": 0.0}, {\"index\": \"2023-10-09T00:00:00\", \"volume\": 0.0}, {\"index\": \"2023-10-10T00:00:00\", \"volume\": 0.0}, {\"index\": \"2023-10-11T00:00:00\", \"volume\": 0.0}, {\"index\": \"2023-10-12T00:00:00\", \"volume\": 0.0}, {\"index\": \"2023-10-13T00:00:00\", \"volume\": 0.0}, {\"index\": \"2023-10-14T00:00:00\", \"volume\": 0.0}, {\"index\": \"2023-10-15T00:00:00\", \"volume\": 0.0}, {\"index\": \"2023-10-16T00:00:00\", \"volume\": 0.0}, {\"index\": \"2023-10-17T00:00:00\", \"volume\": 0.0}, {\"index\": \"2023-10-18T00:00:00\", \"volume\": 0.0}, {\"index\": \"2023-10-19T00:00:00\", \"volume\": 0.0}, {\"index\": \"2023-10-20T00:00:00\", \"volume\": 0.0}, {\"index\": \"2023-10-21T00:00:00\", \"volume\": 0.0}, {\"index\": \"2023-10-22T00:00:00\", \"volume\": 0.0}, {\"index\": \"2023-10-23T00:00:00\", \"volume\": 0.0}, {\"index\": \"2023-10-24T00:00:00\", \"volume\": 0.0}, {\"index\": \"2023-10-25T00:00:00\", \"volume\": 0.0}, {\"index\": \"2023-10-26T00:00:00\", \"volume\": 0.0}, {\"index\": \"2023-10-27T00:00:00\", \"volume\": 0.0}, {\"index\": \"2023-10-28T00:00:00\", \"volume\": 0.0}, {\"index\": \"2023-10-29T00:00:00\", \"volume\": 0.0}, {\"index\": \"2023-10-30T00:00:00\", \"volume\": 0.0}, {\"index\": \"2023-10-31T00:00:00\", \"volume\": 0.0}, {\"index\": \"2023-11-01T00:00:00\", \"volume\": 0.0}, {\"index\": \"2023-11-02T00:00:00\", \"volume\": 0.0}, {\"index\": \"2023-11-03T00:00:00\", \"volume\": 0.0}, {\"index\": \"2023-11-04T00:00:00\", \"volume\": 0.0}, {\"index\": \"2023-11-05T00:00:00\", \"volume\": 0.0}, {\"index\": \"2023-11-06T00:00:00\", \"volume\": 0.0}, {\"index\": \"2023-11-07T00:00:00\", \"volume\": 0.0}, {\"index\": \"2023-11-08T00:00:00\", \"volume\": 0.0}, {\"index\": \"2023-11-09T00:00:00\", \"volume\": 0.0}, {\"index\": \"2023-11-10T00:00:00\", \"volume\": 0.0}, {\"index\": \"2023-11-11T00:00:00\", \"volume\": 0.0}, {\"index\": \"2023-11-12T00:00:00\", \"volume\": 0.0}, {\"index\": \"2023-11-13T00:00:00\", \"volume\": 0.0}, {\"index\": \"2023-11-14T00:00:00\", \"volume\": 0.0}, {\"index\": \"2023-11-15T00:00:00\", \"volume\": 0.0}, {\"index\": \"2023-11-16T00:00:00\", \"volume\": 0.0}, {\"index\": \"2023-11-17T00:00:00\", \"volume\": 0.0}, {\"index\": \"2023-11-18T00:00:00\", \"volume\": 0.0}, {\"index\": \"2023-11-19T00:00:00\", \"volume\": 0.0}, {\"index\": \"2023-11-20T00:00:00\", \"volume\": 0.0}, {\"index\": \"2023-11-21T00:00:00\", \"volume\": 0.0}, {\"index\": \"2023-11-22T00:00:00\", \"volume\": 0.0}, {\"index\": \"2023-11-23T00:00:00\", \"volume\": 0.0}, {\"index\": \"2023-11-24T00:00:00\", \"volume\": 0.0}, {\"index\": \"2023-11-25T00:00:00\", \"volume\": 0.0}, {\"index\": \"2023-11-26T00:00:00\", \"volume\": 0.0}, {\"index\": \"2023-11-27T00:00:00\", \"volume\": 0.0}, {\"index\": \"2023-11-28T00:00:00\", \"volume\": 0.0}, {\"index\": \"2023-11-29T00:00:00\", \"volume\": 0.0}, {\"index\": \"2023-11-30T00:00:00\", \"volume\": 0.0}, {\"index\": \"2023-12-01T00:00:00\", \"volume\": 0.0}, {\"index\": \"2023-12-02T00:00:00\", \"volume\": 0.0}, {\"index\": \"2023-12-03T00:00:00\", \"volume\": 0.0}, {\"index\": \"2023-12-04T00:00:00\", \"volume\": 0.0}, {\"index\": \"2023-12-05T00:00:00\", \"volume\": 0.0}, {\"index\": \"2023-12-06T00:00:00\", \"volume\": 0.0}, {\"index\": \"2023-12-07T00:00:00\", \"volume\": 0.0}, {\"index\": \"2023-12-08T00:00:00\", \"volume\": 0.0}, {\"index\": \"2023-12-09T00:00:00\", \"volume\": 0.0}, {\"index\": \"2023-12-10T00:00:00\", \"volume\": 0.0}, {\"index\": \"2023-12-11T00:00:00\", \"volume\": 0.0}, {\"index\": \"2023-12-12T00:00:00\", \"volume\": 0.0}, {\"index\": \"2023-12-13T00:00:00\", \"volume\": 0.0}, {\"index\": \"2023-12-14T00:00:00\", \"volume\": 0.0}, {\"index\": \"2023-12-15T00:00:00\", \"volume\": 0.0}, {\"index\": \"2023-12-16T00:00:00\", \"volume\": 0.0}, {\"index\": \"2023-12-17T00:00:00\", \"volume\": 0.0}, {\"index\": \"2023-12-18T00:00:00\", \"volume\": 0.0}, {\"index\": \"2023-12-19T00:00:00\", \"volume\": 0.0}, {\"index\": \"2023-12-20T00:00:00\", \"volume\": 0.0}, {\"index\": \"2023-12-21T00:00:00\", \"volume\": 0.0}, {\"index\": \"2023-12-22T00:00:00\", \"volume\": 0.0}, {\"index\": \"2023-12-23T00:00:00\", \"volume\": 0.0}, {\"index\": \"2023-12-24T00:00:00\", \"volume\": 0.0}, {\"index\": \"2023-12-25T00:00:00\", \"volume\": 0.0}, {\"index\": \"2023-12-26T00:00:00\", \"volume\": 0.0}, {\"index\": \"2023-12-27T00:00:00\", \"volume\": 0.0}, {\"index\": \"2023-12-28T00:00:00\", \"volume\": 0.0}, {\"index\": \"2023-12-29T00:00:00\", \"volume\": 0.0}, {\"index\": \"2023-12-30T00:00:00\", \"volume\": 0.0}, {\"index\": \"2023-12-31T00:00:00\", \"volume\": 0.0}]}}, {\"mode\": \"vega-lite\"});\n",
       "</script>"
      ],
      "text/plain": [
       "alt.Chart(...)"
      ]
     },
     "execution_count": 17,
     "metadata": {},
     "output_type": "execute_result"
    }
   ],
   "source": [
    "#### obsolete\n",
    "\n",
    "#Prenons d'abord une cuve vide\n",
    "cuve = pd.DataFrame({\"volume\" : np.zeros(365)}, index=pd.date_range(\"20230101\", periods=365))\n",
    "#Prenons un volume limite pour la cuve, par exemple le remplissage à la fin de l'hiver.\n",
    "vol_temoin=0\n",
    "#vol_temoin = cuve_infinie.loc[\"20230501\", \"volume\"]\n",
    "# remplissage au cours de l'annee\n",
    "for i in range(len(cuve.index)-1):\n",
    "    cuve[\"volume\"].iloc[i+1] = min(vol_temoin,cuve[\"volume\"].iloc[i] + df['sum_apports'].iloc[i] - df['total_needs'].iloc[i])\n",
    "#Le minimum atteint par la cuve donne le volume nécessaire\n",
    "#volume minimal\n",
    "volume_minimal = cuve[\"20230501\":\"20231031\"][\"volume\"].min()\n",
    "vol_necessaire = vol_temoin - volume_minimal\n",
    "print('Volume minimal de la cuve : ',vol_necessaire)\n",
    "print(cuve[\"20230101\":\"20231231\"][\"volume\"].min())\n",
    "alt.Chart(cuve.reset_index()).mark_line().encode(\n",
    "    x=alt.X('index:T', title=\"Jour de l'année\"), \n",
    "    y=alt.Y('volume', title=\"Volume de la cuve\"), \n",
    "    tooltip=['volume', 'index']\n",
    ").interactive()"
   ]
  },
  {
   "cell_type": "code",
   "execution_count": 18,
   "metadata": {},
   "outputs": [
    {
     "data": {
      "text/plain": [
       "3601.7999999999993"
      ]
     },
     "execution_count": 18,
     "metadata": {},
     "output_type": "execute_result"
    }
   ],
   "source": [
    "var = simulation.min_reservoir_volume(df['sum_apports'], df['total_needs'])\n",
    "var"
   ]
  },
  {
   "cell_type": "markdown",
   "metadata": {},
   "source": [
    "Vérification avec le nouveau volume de cuve : "
   ]
  },
  {
   "cell_type": "code",
   "execution_count": null,
   "metadata": {},
   "outputs": [
    {
     "data": {
      "text/html": [
       "\n",
       "<div id=\"altair-viz-7a967e5d6ec64de78d906466d083a600\"></div>\n",
       "<script type=\"text/javascript\">\n",
       "  var VEGA_DEBUG = (typeof VEGA_DEBUG == \"undefined\") ? {} : VEGA_DEBUG;\n",
       "  (function(spec, embedOpt){\n",
       "    let outputDiv = document.currentScript.previousElementSibling;\n",
       "    if (outputDiv.id !== \"altair-viz-7a967e5d6ec64de78d906466d083a600\") {\n",
       "      outputDiv = document.getElementById(\"altair-viz-7a967e5d6ec64de78d906466d083a600\");\n",
       "    }\n",
       "    const paths = {\n",
       "      \"vega\": \"https://cdn.jsdelivr.net/npm//vega@5?noext\",\n",
       "      \"vega-lib\": \"https://cdn.jsdelivr.net/npm//vega-lib?noext\",\n",
       "      \"vega-lite\": \"https://cdn.jsdelivr.net/npm//vega-lite@4.17.0?noext\",\n",
       "      \"vega-embed\": \"https://cdn.jsdelivr.net/npm//vega-embed@6?noext\",\n",
       "    };\n",
       "\n",
       "    function maybeLoadScript(lib, version) {\n",
       "      var key = `${lib.replace(\"-\", \"\")}_version`;\n",
       "      return (VEGA_DEBUG[key] == version) ?\n",
       "        Promise.resolve(paths[lib]) :\n",
       "        new Promise(function(resolve, reject) {\n",
       "          var s = document.createElement('script');\n",
       "          document.getElementsByTagName(\"head\")[0].appendChild(s);\n",
       "          s.async = true;\n",
       "          s.onload = () => {\n",
       "            VEGA_DEBUG[key] = version;\n",
       "            return resolve(paths[lib]);\n",
       "          };\n",
       "          s.onerror = () => reject(`Error loading script: ${paths[lib]}`);\n",
       "          s.src = paths[lib];\n",
       "        });\n",
       "    }\n",
       "\n",
       "    function showError(err) {\n",
       "      outputDiv.innerHTML = `<div class=\"error\" style=\"color:red;\">${err}</div>`;\n",
       "      throw err;\n",
       "    }\n",
       "\n",
       "    function displayChart(vegaEmbed) {\n",
       "      vegaEmbed(outputDiv, spec, embedOpt)\n",
       "        .catch(err => showError(`Javascript Error: ${err.message}<br>This usually means there's a typo in your chart specification. See the javascript console for the full traceback.`));\n",
       "    }\n",
       "\n",
       "    if(typeof define === \"function\" && define.amd) {\n",
       "      requirejs.config({paths});\n",
       "      require([\"vega-embed\"], displayChart, err => showError(`Error loading script: ${err.message}`));\n",
       "    } else {\n",
       "      maybeLoadScript(\"vega\", \"5\")\n",
       "        .then(() => maybeLoadScript(\"vega-lite\", \"4.17.0\"))\n",
       "        .then(() => maybeLoadScript(\"vega-embed\", \"6\"))\n",
       "        .catch(showError)\n",
       "        .then(() => displayChart(vegaEmbed));\n",
       "    }\n",
       "  })({\"config\": {\"view\": {\"continuousWidth\": 400, \"continuousHeight\": 300}}, \"data\": {\"name\": \"data-3c90cda54a53c745e11dcfd70878e8f0\"}, \"mark\": \"line\", \"encoding\": {\"tooltip\": [{\"field\": \"volume\", \"type\": \"quantitative\"}, {\"field\": \"index\", \"type\": \"temporal\"}], \"x\": {\"field\": \"index\", \"title\": \"Jour de l'ann\\u00e9e\", \"type\": \"temporal\"}, \"y\": {\"field\": \"volume\", \"title\": \"Volume de la cuve\", \"type\": \"quantitative\"}}, \"selection\": {\"selector121\": {\"type\": \"interval\", \"bind\": \"scales\", \"encodings\": [\"x\", \"y\"]}}, \"$schema\": \"https://vega.github.io/schema/vega-lite/v4.17.0.json\", \"datasets\": {\"data-3c90cda54a53c745e11dcfd70878e8f0\": [{\"index\": \"2023-01-01T00:00:00\", \"volume\": 0.0}, {\"index\": \"2023-01-02T00:00:00\", \"volume\": 0.0}, {\"index\": \"2023-01-03T00:00:00\", \"volume\": 0.0}, {\"index\": \"2023-01-04T00:00:00\", \"volume\": 0.0}, {\"index\": \"2023-01-05T00:00:00\", \"volume\": 0.0}, {\"index\": \"2023-01-06T00:00:00\", \"volume\": 0.0}, {\"index\": \"2023-01-07T00:00:00\", \"volume\": 0.0}, {\"index\": \"2023-01-08T00:00:00\", \"volume\": 0.0}, {\"index\": \"2023-01-09T00:00:00\", \"volume\": 1540.0}, {\"index\": \"2023-01-10T00:00:00\", \"volume\": 2580.0}, {\"index\": \"2023-01-11T00:00:00\", \"volume\": 2580.0}, {\"index\": \"2023-01-12T00:00:00\", \"volume\": 2580.0}, {\"index\": \"2023-01-13T00:00:00\", \"volume\": 2580.0}, {\"index\": \"2023-01-14T00:00:00\", \"volume\": 2580.0}, {\"index\": \"2023-01-15T00:00:00\", \"volume\": 3480.0}, {\"index\": \"2023-01-16T00:00:00\", \"volume\": 3480.0}, {\"index\": \"2023-01-17T00:00:00\", \"volume\": 3480.0}, {\"index\": \"2023-01-18T00:00:00\", \"volume\": 3480.0}, {\"index\": \"2023-01-19T00:00:00\", \"volume\": 3480.0}, {\"index\": \"2023-01-20T00:00:00\", \"volume\": 3480.0}, {\"index\": \"2023-01-21T00:00:00\", \"volume\": 3480.0}, {\"index\": \"2023-01-22T00:00:00\", \"volume\": 3480.0}, {\"index\": \"2023-01-23T00:00:00\", \"volume\": 3480.0}, {\"index\": \"2023-01-24T00:00:00\", \"volume\": 3480.0}, {\"index\": \"2023-01-25T00:00:00\", \"volume\": 3480.0}, {\"index\": \"2023-01-26T00:00:00\", \"volume\": 3480.0}, {\"index\": \"2023-01-27T00:00:00\", \"volume\": 3480.0}, {\"index\": \"2023-01-28T00:00:00\", \"volume\": 3480.0}, {\"index\": \"2023-01-29T00:00:00\", \"volume\": 3480.0}, {\"index\": \"2023-01-30T00:00:00\", \"volume\": 3480.0}, {\"index\": \"2023-01-31T00:00:00\", \"volume\": 4251.600000000017}, {\"index\": \"2023-02-01T00:00:00\", \"volume\": 4251.600000000017}, {\"index\": \"2023-02-02T00:00:00\", \"volume\": 4251.600000000017}, {\"index\": \"2023-02-03T00:00:00\", \"volume\": 4251.600000000017}, {\"index\": \"2023-02-04T00:00:00\", \"volume\": 4251.600000000017}, {\"index\": \"2023-02-05T00:00:00\", \"volume\": 4251.600000000017}, {\"index\": \"2023-02-06T00:00:00\", \"volume\": 4251.600000000017}, {\"index\": \"2023-02-07T00:00:00\", \"volume\": 4251.600000000017}, {\"index\": \"2023-02-08T00:00:00\", \"volume\": 4251.600000000017}, {\"index\": \"2023-02-09T00:00:00\", \"volume\": 4251.600000000017}, {\"index\": \"2023-02-10T00:00:00\", \"volume\": 4251.600000000017}, {\"index\": \"2023-02-11T00:00:00\", \"volume\": 4251.600000000017}, {\"index\": \"2023-02-12T00:00:00\", \"volume\": 4251.600000000017}, {\"index\": \"2023-02-13T00:00:00\", \"volume\": 4251.600000000017}, {\"index\": \"2023-02-14T00:00:00\", \"volume\": 4251.600000000017}, {\"index\": \"2023-02-15T00:00:00\", \"volume\": 4251.600000000017}, {\"index\": \"2023-02-16T00:00:00\", \"volume\": 4251.600000000017}, {\"index\": \"2023-02-17T00:00:00\", \"volume\": 4251.600000000017}, {\"index\": \"2023-02-18T00:00:00\", \"volume\": 4251.600000000017}, {\"index\": \"2023-02-19T00:00:00\", \"volume\": 4251.600000000017}, {\"index\": \"2023-02-20T00:00:00\", \"volume\": 4251.600000000017}, {\"index\": \"2023-02-21T00:00:00\", \"volume\": 4251.600000000017}, {\"index\": \"2023-02-22T00:00:00\", \"volume\": 4251.600000000017}, {\"index\": \"2023-02-23T00:00:00\", \"volume\": 4251.600000000017}, {\"index\": \"2023-02-24T00:00:00\", \"volume\": 4251.600000000017}, {\"index\": \"2023-02-25T00:00:00\", \"volume\": 4251.600000000017}, {\"index\": \"2023-02-26T00:00:00\", \"volume\": 4251.600000000017}, {\"index\": \"2023-02-27T00:00:00\", \"volume\": 4251.600000000017}, {\"index\": \"2023-02-28T00:00:00\", \"volume\": 4251.600000000017}, {\"index\": \"2023-03-01T00:00:00\", \"volume\": 4251.600000000017}, {\"index\": \"2023-03-02T00:00:00\", \"volume\": 4251.600000000017}, {\"index\": \"2023-03-03T00:00:00\", \"volume\": 4251.600000000017}, {\"index\": \"2023-03-04T00:00:00\", \"volume\": 4251.600000000017}, {\"index\": \"2023-03-05T00:00:00\", \"volume\": 4251.600000000017}, {\"index\": \"2023-03-06T00:00:00\", \"volume\": 4251.600000000017}, {\"index\": \"2023-03-07T00:00:00\", \"volume\": 4251.600000000017}, {\"index\": \"2023-03-08T00:00:00\", \"volume\": 4251.600000000017}, {\"index\": \"2023-03-09T00:00:00\", \"volume\": 4251.600000000017}, {\"index\": \"2023-03-10T00:00:00\", \"volume\": 4251.600000000017}, {\"index\": \"2023-03-11T00:00:00\", \"volume\": 4251.600000000017}, {\"index\": \"2023-03-12T00:00:00\", \"volume\": 4251.600000000017}, {\"index\": \"2023-03-13T00:00:00\", \"volume\": 4251.600000000017}, {\"index\": \"2023-03-14T00:00:00\", \"volume\": 4251.600000000017}, {\"index\": \"2023-03-15T00:00:00\", \"volume\": 4251.600000000017}, {\"index\": \"2023-03-16T00:00:00\", \"volume\": 4251.600000000017}, {\"index\": \"2023-03-17T00:00:00\", \"volume\": 4251.600000000017}, {\"index\": \"2023-03-18T00:00:00\", \"volume\": 4251.600000000017}, {\"index\": \"2023-03-19T00:00:00\", \"volume\": 4251.600000000017}, {\"index\": \"2023-03-20T00:00:00\", \"volume\": 4251.600000000017}, {\"index\": \"2023-03-21T00:00:00\", \"volume\": 4251.600000000017}, {\"index\": \"2023-03-22T00:00:00\", \"volume\": 4251.600000000017}, {\"index\": \"2023-03-23T00:00:00\", \"volume\": 4251.600000000017}, {\"index\": \"2023-03-24T00:00:00\", \"volume\": 4251.600000000017}, {\"index\": \"2023-03-25T00:00:00\", \"volume\": 4251.600000000017}, {\"index\": \"2023-03-26T00:00:00\", \"volume\": 4251.600000000017}, {\"index\": \"2023-03-27T00:00:00\", \"volume\": 4251.600000000017}, {\"index\": \"2023-03-28T00:00:00\", \"volume\": 4251.600000000017}, {\"index\": \"2023-03-29T00:00:00\", \"volume\": 4251.600000000017}, {\"index\": \"2023-03-30T00:00:00\", \"volume\": 4251.600000000017}, {\"index\": \"2023-03-31T00:00:00\", \"volume\": 4251.600000000017}, {\"index\": \"2023-04-01T00:00:00\", \"volume\": 4251.600000000017}, {\"index\": \"2023-04-02T00:00:00\", \"volume\": 4251.600000000017}, {\"index\": \"2023-04-03T00:00:00\", \"volume\": 4251.600000000017}, {\"index\": \"2023-04-04T00:00:00\", \"volume\": 4251.600000000017}, {\"index\": \"2023-04-05T00:00:00\", \"volume\": 4251.600000000017}, {\"index\": \"2023-04-06T00:00:00\", \"volume\": 4251.600000000017}, {\"index\": \"2023-04-07T00:00:00\", \"volume\": 4251.600000000017}, {\"index\": \"2023-04-08T00:00:00\", \"volume\": 4251.600000000017}, {\"index\": \"2023-04-09T00:00:00\", \"volume\": 4251.600000000017}, {\"index\": \"2023-04-10T00:00:00\", \"volume\": 4251.600000000017}, {\"index\": \"2023-04-11T00:00:00\", \"volume\": 4251.600000000017}, {\"index\": \"2023-04-12T00:00:00\", \"volume\": 4251.600000000017}, {\"index\": \"2023-04-13T00:00:00\", \"volume\": 4251.600000000017}, {\"index\": \"2023-04-14T00:00:00\", \"volume\": 4251.600000000017}, {\"index\": \"2023-04-15T00:00:00\", \"volume\": 4251.600000000017}, {\"index\": \"2023-04-16T00:00:00\", \"volume\": 4251.600000000017}, {\"index\": \"2023-04-17T00:00:00\", \"volume\": 4251.600000000017}, {\"index\": \"2023-04-18T00:00:00\", \"volume\": 4251.600000000017}, {\"index\": \"2023-04-19T00:00:00\", \"volume\": 4251.600000000017}, {\"index\": \"2023-04-20T00:00:00\", \"volume\": 4251.600000000017}, {\"index\": \"2023-04-21T00:00:00\", \"volume\": 4251.600000000017}, {\"index\": \"2023-04-22T00:00:00\", \"volume\": 4251.600000000017}, {\"index\": \"2023-04-23T00:00:00\", \"volume\": 4251.600000000017}, {\"index\": \"2023-04-24T00:00:00\", \"volume\": 4251.600000000017}, {\"index\": \"2023-04-25T00:00:00\", \"volume\": 4251.600000000017}, {\"index\": \"2023-04-26T00:00:00\", \"volume\": 4251.600000000017}, {\"index\": \"2023-04-27T00:00:00\", \"volume\": 4251.600000000017}, {\"index\": \"2023-04-28T00:00:00\", \"volume\": 4251.600000000017}, {\"index\": \"2023-04-29T00:00:00\", \"volume\": 4251.600000000017}, {\"index\": \"2023-04-30T00:00:00\", \"volume\": 4251.600000000017}, {\"index\": \"2023-05-01T00:00:00\", \"volume\": 4251.600000000017}, {\"index\": \"2023-05-02T00:00:00\", \"volume\": 4251.600000000017}, {\"index\": \"2023-05-03T00:00:00\", \"volume\": 4251.600000000017}, {\"index\": \"2023-05-04T00:00:00\", \"volume\": 4251.600000000017}, {\"index\": \"2023-05-05T00:00:00\", \"volume\": 4251.600000000017}, {\"index\": \"2023-05-06T00:00:00\", \"volume\": 4140.600000000017}, {\"index\": \"2023-05-07T00:00:00\", \"volume\": 3940.8000000000166}, {\"index\": \"2023-05-08T00:00:00\", \"volume\": 4251.600000000017}, {\"index\": \"2023-05-09T00:00:00\", \"volume\": 4251.600000000017}, {\"index\": \"2023-05-10T00:00:00\", \"volume\": 4251.600000000017}, {\"index\": \"2023-05-11T00:00:00\", \"volume\": 4251.600000000017}, {\"index\": \"2023-05-12T00:00:00\", \"volume\": 4251.600000000017}, {\"index\": \"2023-05-13T00:00:00\", \"volume\": 4251.600000000017}, {\"index\": \"2023-05-14T00:00:00\", \"volume\": 4251.600000000017}, {\"index\": \"2023-05-15T00:00:00\", \"volume\": 4251.600000000017}, {\"index\": \"2023-05-16T00:00:00\", \"volume\": 4187.400000000017}, {\"index\": \"2023-05-17T00:00:00\", \"volume\": 3987.6000000000167}, {\"index\": \"2023-05-18T00:00:00\", \"volume\": 3787.8000000000166}, {\"index\": \"2023-05-19T00:00:00\", \"volume\": 3588.0000000000164}, {\"index\": \"2023-05-20T00:00:00\", \"volume\": 3388.200000000016}, {\"index\": \"2023-05-21T00:00:00\", \"volume\": 3188.400000000016}, {\"index\": \"2023-05-22T00:00:00\", \"volume\": 2988.600000000016}, {\"index\": \"2023-05-23T00:00:00\", \"volume\": 2788.8000000000156}, {\"index\": \"2023-05-24T00:00:00\", \"volume\": 2589.0000000000155}, {\"index\": \"2023-05-25T00:00:00\", \"volume\": 3509.0000000000155}, {\"index\": \"2023-05-26T00:00:00\", \"volume\": 3385.4000000000156}, {\"index\": \"2023-05-27T00:00:00\", \"volume\": 4251.600000000017}, {\"index\": \"2023-05-28T00:00:00\", \"volume\": 4251.600000000017}, {\"index\": \"2023-05-29T00:00:00\", \"volume\": 4251.600000000017}, {\"index\": \"2023-05-30T00:00:00\", \"volume\": 4058.400000000017}, {\"index\": \"2023-05-31T00:00:00\", \"volume\": 4251.600000000017}, {\"index\": \"2023-06-01T00:00:00\", \"volume\": 4251.600000000017}, {\"index\": \"2023-06-02T00:00:00\", \"volume\": 3997.8000000000166}, {\"index\": \"2023-06-03T00:00:00\", \"volume\": 3597.6000000000167}, {\"index\": \"2023-06-04T00:00:00\", \"volume\": 3197.400000000017}, {\"index\": \"2023-06-05T00:00:00\", \"volume\": 2797.200000000017}, {\"index\": \"2023-06-06T00:00:00\", \"volume\": 4251.600000000017}, {\"index\": \"2023-06-07T00:00:00\", \"volume\": 4251.600000000017}, {\"index\": \"2023-06-08T00:00:00\", \"volume\": 4251.600000000017}, {\"index\": \"2023-06-09T00:00:00\", \"volume\": 4168.800000000017}, {\"index\": \"2023-06-10T00:00:00\", \"volume\": 3768.6000000000167}, {\"index\": \"2023-06-11T00:00:00\", \"volume\": 3368.400000000017}, {\"index\": \"2023-06-12T00:00:00\", \"volume\": 2968.200000000017}, {\"index\": \"2023-06-13T00:00:00\", \"volume\": 4232.000000000017}, {\"index\": \"2023-06-14T00:00:00\", \"volume\": 3831.8000000000175}, {\"index\": \"2023-06-15T00:00:00\", \"volume\": 3431.6000000000176}, {\"index\": \"2023-06-16T00:00:00\", \"volume\": 3031.400000000018}, {\"index\": \"2023-06-17T00:00:00\", \"volume\": 2631.200000000018}, {\"index\": \"2023-06-18T00:00:00\", \"volume\": 4231.200000000018}, {\"index\": \"2023-06-19T00:00:00\", \"volume\": 3910.800000000018}, {\"index\": \"2023-06-20T00:00:00\", \"volume\": 3510.600000000018}, {\"index\": \"2023-06-21T00:00:00\", \"volume\": 3110.4000000000183}, {\"index\": \"2023-06-22T00:00:00\", \"volume\": 2710.2000000000185}, {\"index\": \"2023-06-23T00:00:00\", \"volume\": 4251.600000000017}, {\"index\": \"2023-06-24T00:00:00\", \"volume\": 4251.600000000017}, {\"index\": \"2023-06-25T00:00:00\", \"volume\": 3897.000000000017}, {\"index\": \"2023-06-26T00:00:00\", \"volume\": 3496.800000000017}, {\"index\": \"2023-06-27T00:00:00\", \"volume\": 3096.600000000017}, {\"index\": \"2023-06-28T00:00:00\", \"volume\": 2696.4000000000174}, {\"index\": \"2023-06-29T00:00:00\", \"volume\": 4251.600000000017}, {\"index\": \"2023-06-30T00:00:00\", \"volume\": 4251.600000000017}, {\"index\": \"2023-07-01T00:00:00\", \"volume\": 4005.000000000017}, {\"index\": \"2023-07-02T00:00:00\", \"volume\": 3604.800000000017}, {\"index\": \"2023-07-03T00:00:00\", \"volume\": 3204.600000000017}, {\"index\": \"2023-07-04T00:00:00\", \"volume\": 4251.600000000017}, {\"index\": \"2023-07-05T00:00:00\", \"volume\": 4177.200000000017}, {\"index\": \"2023-07-06T00:00:00\", \"volume\": 3777.0000000000173}, {\"index\": \"2023-07-07T00:00:00\", \"volume\": 3376.8000000000175}, {\"index\": \"2023-07-08T00:00:00\", \"volume\": 2976.6000000000176}, {\"index\": \"2023-07-09T00:00:00\", \"volume\": 4251.600000000017}, {\"index\": \"2023-07-10T00:00:00\", \"volume\": 3919.2000000000166}, {\"index\": \"2023-07-11T00:00:00\", \"volume\": 3519.000000000017}, {\"index\": \"2023-07-12T00:00:00\", \"volume\": 3118.800000000017}, {\"index\": \"2023-07-13T00:00:00\", \"volume\": 4251.600000000017}, {\"index\": \"2023-07-14T00:00:00\", \"volume\": 4251.600000000017}, {\"index\": \"2023-07-15T00:00:00\", \"volume\": 4065.000000000017}, {\"index\": \"2023-07-16T00:00:00\", \"volume\": 3664.800000000017}, {\"index\": \"2023-07-17T00:00:00\", \"volume\": 3264.600000000017}, {\"index\": \"2023-07-18T00:00:00\", \"volume\": 2864.4000000000174}, {\"index\": \"2023-07-19T00:00:00\", \"volume\": 2464.2000000000176}, {\"index\": \"2023-07-20T00:00:00\", \"volume\": 2064.0000000000177}, {\"index\": \"2023-07-21T00:00:00\", \"volume\": 1663.8000000000177}, {\"index\": \"2023-07-22T00:00:00\", \"volume\": 1263.6000000000176}, {\"index\": \"2023-07-23T00:00:00\", \"volume\": 4251.600000000017}, {\"index\": \"2023-07-24T00:00:00\", \"volume\": 4251.600000000017}, {\"index\": \"2023-07-25T00:00:00\", \"volume\": 3999.000000000017}, {\"index\": \"2023-07-26T00:00:00\", \"volume\": 3598.800000000017}, {\"index\": \"2023-07-27T00:00:00\", \"volume\": 3198.600000000017}, {\"index\": \"2023-07-28T00:00:00\", \"volume\": 2798.4000000000174}, {\"index\": \"2023-07-29T00:00:00\", \"volume\": 2398.2000000000176}, {\"index\": \"2023-07-30T00:00:00\", \"volume\": 1998.0000000000175}, {\"index\": \"2023-07-31T00:00:00\", \"volume\": 1597.8000000000175}, {\"index\": \"2023-08-01T00:00:00\", \"volume\": 1197.6000000000174}, {\"index\": \"2023-08-02T00:00:00\", \"volume\": 797.4000000000174}, {\"index\": \"2023-08-03T00:00:00\", \"volume\": 397.2000000000174}, {\"index\": \"2023-08-04T00:00:00\", \"volume\": 1661.0000000000173}, {\"index\": \"2023-08-05T00:00:00\", \"volume\": 2196.8000000000175}, {\"index\": \"2023-08-06T00:00:00\", \"volume\": 1796.6000000000174}, {\"index\": \"2023-08-07T00:00:00\", \"volume\": 1396.4000000000174}, {\"index\": \"2023-08-08T00:00:00\", \"volume\": 2876.4000000000174}, {\"index\": \"2023-08-09T00:00:00\", \"volume\": 2520.0000000000173}, {\"index\": \"2023-08-10T00:00:00\", \"volume\": 2119.8000000000175}, {\"index\": \"2023-08-11T00:00:00\", \"volume\": 1719.6000000000174}, {\"index\": \"2023-08-12T00:00:00\", \"volume\": 1319.4000000000174}, {\"index\": \"2023-08-13T00:00:00\", \"volume\": 919.2000000000173}, {\"index\": \"2023-08-14T00:00:00\", \"volume\": 519.0000000000173}, {\"index\": \"2023-08-15T00:00:00\", \"volume\": 118.80000000001729}, {\"index\": \"2023-08-16T00:00:00\", \"volume\": 1200.6000000000172}, {\"index\": \"2023-08-17T00:00:00\", \"volume\": 800.4000000000171}, {\"index\": \"2023-08-18T00:00:00\", \"volume\": 400.20000000001716}, {\"index\": \"2023-08-19T00:00:00\", \"volume\": 1.716671249596402e-11}, {\"index\": \"2023-08-20T00:00:00\", \"volume\": 1740.0000000000168}, {\"index\": \"2023-08-21T00:00:00\", \"volume\": 1461.6000000000167}, {\"index\": \"2023-08-22T00:00:00\", \"volume\": 3001.6000000000167}, {\"index\": \"2023-08-23T00:00:00\", \"volume\": 2663.2000000000166}, {\"index\": \"2023-08-24T00:00:00\", \"volume\": 2263.000000000017}, {\"index\": \"2023-08-25T00:00:00\", \"volume\": 4083.000000000017}, {\"index\": \"2023-08-26T00:00:00\", \"volume\": 3828.6000000000167}, {\"index\": \"2023-08-27T00:00:00\", \"volume\": 3428.400000000017}, {\"index\": \"2023-08-28T00:00:00\", \"volume\": 3028.200000000017}, {\"index\": \"2023-08-29T00:00:00\", \"volume\": 4251.600000000017}, {\"index\": \"2023-08-30T00:00:00\", \"volume\": 4251.600000000017}, {\"index\": \"2023-08-31T00:00:00\", \"volume\": 4065.000000000017}, {\"index\": \"2023-09-01T00:00:00\", \"volume\": 3664.800000000017}, {\"index\": \"2023-09-02T00:00:00\", \"volume\": 3465.000000000017}, {\"index\": \"2023-09-03T00:00:00\", \"volume\": 3265.2000000000166}, {\"index\": \"2023-09-04T00:00:00\", \"volume\": 3065.4000000000165}, {\"index\": \"2023-09-05T00:00:00\", \"volume\": 3723.6000000000163}, {\"index\": \"2023-09-06T00:00:00\", \"volume\": 3523.800000000016}, {\"index\": \"2023-09-07T00:00:00\", \"volume\": 4182.0000000000155}, {\"index\": \"2023-09-08T00:00:00\", \"volume\": 4251.600000000017}, {\"index\": \"2023-09-09T00:00:00\", \"volume\": 4080.000000000017}, {\"index\": \"2023-09-10T00:00:00\", \"volume\": 3880.2000000000166}, {\"index\": \"2023-09-11T00:00:00\", \"volume\": 3680.4000000000165}, {\"index\": \"2023-09-12T00:00:00\", \"volume\": 3480.6000000000163}, {\"index\": \"2023-09-13T00:00:00\", \"volume\": 3280.800000000016}, {\"index\": \"2023-09-14T00:00:00\", \"volume\": 4251.600000000017}, {\"index\": \"2023-09-15T00:00:00\", \"volume\": 4251.600000000017}, {\"index\": \"2023-09-16T00:00:00\", \"volume\": 4251.600000000017}, {\"index\": \"2023-09-17T00:00:00\", \"volume\": 4251.600000000017}, {\"index\": \"2023-09-18T00:00:00\", \"volume\": 4194.600000000017}, {\"index\": \"2023-09-19T00:00:00\", \"volume\": 3994.8000000000166}, {\"index\": \"2023-09-20T00:00:00\", \"volume\": 4251.600000000017}, {\"index\": \"2023-09-21T00:00:00\", \"volume\": 4251.600000000017}, {\"index\": \"2023-09-22T00:00:00\", \"volume\": 4186.200000000017}, {\"index\": \"2023-09-23T00:00:00\", \"volume\": 3986.400000000017}, {\"index\": \"2023-09-24T00:00:00\", \"volume\": 4251.600000000017}, {\"index\": \"2023-09-25T00:00:00\", \"volume\": 4251.600000000017}, {\"index\": \"2023-09-26T00:00:00\", \"volume\": 4251.600000000017}, {\"index\": \"2023-09-27T00:00:00\", \"volume\": 4142.400000000017}, {\"index\": \"2023-09-28T00:00:00\", \"volume\": 3942.6000000000167}, {\"index\": \"2023-09-29T00:00:00\", \"volume\": 3742.8000000000166}, {\"index\": \"2023-09-30T00:00:00\", \"volume\": 3543.0000000000164}, {\"index\": \"2023-10-01T00:00:00\", \"volume\": 4251.600000000017}, {\"index\": \"2023-10-02T00:00:00\", \"volume\": 4251.600000000017}, {\"index\": \"2023-10-03T00:00:00\", \"volume\": 4251.600000000017}, {\"index\": \"2023-10-04T00:00:00\", \"volume\": 4251.600000000017}, {\"index\": \"2023-10-05T00:00:00\", \"volume\": 4251.600000000017}, {\"index\": \"2023-10-06T00:00:00\", \"volume\": 4251.600000000017}, {\"index\": \"2023-10-07T00:00:00\", \"volume\": 4251.600000000017}, {\"index\": \"2023-10-08T00:00:00\", \"volume\": 4251.600000000017}, {\"index\": \"2023-10-09T00:00:00\", \"volume\": 4251.600000000017}, {\"index\": \"2023-10-10T00:00:00\", \"volume\": 4251.600000000017}, {\"index\": \"2023-10-11T00:00:00\", \"volume\": 4251.600000000017}, {\"index\": \"2023-10-12T00:00:00\", \"volume\": 4251.600000000017}, {\"index\": \"2023-10-13T00:00:00\", \"volume\": 4251.600000000017}, {\"index\": \"2023-10-14T00:00:00\", \"volume\": 4251.600000000017}, {\"index\": \"2023-10-15T00:00:00\", \"volume\": 4251.600000000017}, {\"index\": \"2023-10-16T00:00:00\", \"volume\": 4251.600000000017}, {\"index\": \"2023-10-17T00:00:00\", \"volume\": 4251.600000000017}, {\"index\": \"2023-10-18T00:00:00\", \"volume\": 4251.600000000017}, {\"index\": \"2023-10-19T00:00:00\", \"volume\": 4251.600000000017}, {\"index\": \"2023-10-20T00:00:00\", \"volume\": 4251.600000000017}, {\"index\": \"2023-10-21T00:00:00\", \"volume\": 4251.600000000017}, {\"index\": \"2023-10-22T00:00:00\", \"volume\": 4251.600000000017}, {\"index\": \"2023-10-23T00:00:00\", \"volume\": 4251.600000000017}, {\"index\": \"2023-10-24T00:00:00\", \"volume\": 4251.600000000017}, {\"index\": \"2023-10-25T00:00:00\", \"volume\": 4251.600000000017}, {\"index\": \"2023-10-26T00:00:00\", \"volume\": 4251.600000000017}, {\"index\": \"2023-10-27T00:00:00\", \"volume\": 4251.600000000017}, {\"index\": \"2023-10-28T00:00:00\", \"volume\": 4251.600000000017}, {\"index\": \"2023-10-29T00:00:00\", \"volume\": 4251.600000000017}, {\"index\": \"2023-10-30T00:00:00\", \"volume\": 4251.600000000017}, {\"index\": \"2023-10-31T00:00:00\", \"volume\": 4251.600000000017}, {\"index\": \"2023-11-01T00:00:00\", \"volume\": 4251.600000000017}, {\"index\": \"2023-11-02T00:00:00\", \"volume\": 4251.600000000017}, {\"index\": \"2023-11-03T00:00:00\", \"volume\": 4251.600000000017}, {\"index\": \"2023-11-04T00:00:00\", \"volume\": 4251.600000000017}, {\"index\": \"2023-11-05T00:00:00\", \"volume\": 4251.600000000017}, {\"index\": \"2023-11-06T00:00:00\", \"volume\": 4251.600000000017}, {\"index\": \"2023-11-07T00:00:00\", \"volume\": 4251.600000000017}, {\"index\": \"2023-11-08T00:00:00\", \"volume\": 4251.600000000017}, {\"index\": \"2023-11-09T00:00:00\", \"volume\": 4251.600000000017}, {\"index\": \"2023-11-10T00:00:00\", \"volume\": 4251.600000000017}, {\"index\": \"2023-11-11T00:00:00\", \"volume\": 4251.600000000017}, {\"index\": \"2023-11-12T00:00:00\", \"volume\": 4251.600000000017}, {\"index\": \"2023-11-13T00:00:00\", \"volume\": 4251.600000000017}, {\"index\": \"2023-11-14T00:00:00\", \"volume\": 4251.600000000017}, {\"index\": \"2023-11-15T00:00:00\", \"volume\": 4251.600000000017}, {\"index\": \"2023-11-16T00:00:00\", \"volume\": 4251.600000000017}, {\"index\": \"2023-11-17T00:00:00\", \"volume\": 4251.600000000017}, {\"index\": \"2023-11-18T00:00:00\", \"volume\": 4251.600000000017}, {\"index\": \"2023-11-19T00:00:00\", \"volume\": 4251.600000000017}, {\"index\": \"2023-11-20T00:00:00\", \"volume\": 4251.600000000017}, {\"index\": \"2023-11-21T00:00:00\", \"volume\": 4251.600000000017}, {\"index\": \"2023-11-22T00:00:00\", \"volume\": 4251.600000000017}, {\"index\": \"2023-11-23T00:00:00\", \"volume\": 4251.600000000017}, {\"index\": \"2023-11-24T00:00:00\", \"volume\": 4251.600000000017}, {\"index\": \"2023-11-25T00:00:00\", \"volume\": 4251.600000000017}, {\"index\": \"2023-11-26T00:00:00\", \"volume\": 4251.600000000017}, {\"index\": \"2023-11-27T00:00:00\", \"volume\": 4251.600000000017}, {\"index\": \"2023-11-28T00:00:00\", \"volume\": 4251.600000000017}, {\"index\": \"2023-11-29T00:00:00\", \"volume\": 4251.600000000017}, {\"index\": \"2023-11-30T00:00:00\", \"volume\": 4251.600000000017}, {\"index\": \"2023-12-01T00:00:00\", \"volume\": 4251.600000000017}, {\"index\": \"2023-12-02T00:00:00\", \"volume\": 4251.600000000017}, {\"index\": \"2023-12-03T00:00:00\", \"volume\": 4251.600000000017}, {\"index\": \"2023-12-04T00:00:00\", \"volume\": 4251.600000000017}, {\"index\": \"2023-12-05T00:00:00\", \"volume\": 4251.600000000017}, {\"index\": \"2023-12-06T00:00:00\", \"volume\": 4251.600000000017}, {\"index\": \"2023-12-07T00:00:00\", \"volume\": 4251.600000000017}, {\"index\": \"2023-12-08T00:00:00\", \"volume\": 4251.600000000017}, {\"index\": \"2023-12-09T00:00:00\", \"volume\": 4251.600000000017}, {\"index\": \"2023-12-10T00:00:00\", \"volume\": 4251.600000000017}, {\"index\": \"2023-12-11T00:00:00\", \"volume\": 4251.600000000017}, {\"index\": \"2023-12-12T00:00:00\", \"volume\": 4251.600000000017}, {\"index\": \"2023-12-13T00:00:00\", \"volume\": 4251.600000000017}, {\"index\": \"2023-12-14T00:00:00\", \"volume\": 4251.600000000017}, {\"index\": \"2023-12-15T00:00:00\", \"volume\": 4251.600000000017}, {\"index\": \"2023-12-16T00:00:00\", \"volume\": 4251.600000000017}, {\"index\": \"2023-12-17T00:00:00\", \"volume\": 4251.600000000017}, {\"index\": \"2023-12-18T00:00:00\", \"volume\": 4251.600000000017}, {\"index\": \"2023-12-19T00:00:00\", \"volume\": 4251.600000000017}, {\"index\": \"2023-12-20T00:00:00\", \"volume\": 4251.600000000017}, {\"index\": \"2023-12-21T00:00:00\", \"volume\": 4251.600000000017}, {\"index\": \"2023-12-22T00:00:00\", \"volume\": 4251.600000000017}, {\"index\": \"2023-12-23T00:00:00\", \"volume\": 4251.600000000017}, {\"index\": \"2023-12-24T00:00:00\", \"volume\": 4251.600000000017}, {\"index\": \"2023-12-25T00:00:00\", \"volume\": 4251.600000000017}, {\"index\": \"2023-12-26T00:00:00\", \"volume\": 4251.600000000017}, {\"index\": \"2023-12-27T00:00:00\", \"volume\": 4251.600000000017}, {\"index\": \"2023-12-28T00:00:00\", \"volume\": 4251.600000000017}, {\"index\": \"2023-12-29T00:00:00\", \"volume\": 4251.600000000017}, {\"index\": \"2023-12-30T00:00:00\", \"volume\": 4251.600000000017}, {\"index\": \"2023-12-31T00:00:00\", \"volume\": 4251.600000000017}]}}, {\"mode\": \"vega-lite\"});\n",
       "</script>"
      ],
      "text/plain": [
       "alt.Chart(...)"
      ]
     },
     "execution_count": 621,
     "metadata": {},
     "output_type": "execute_result"
    }
   ],
   "source": [
    "#Nouvelle itération \n",
    "for i in range(len(cuve.index)-1):\n",
    "    cuve[\"volume\"].iloc[i+1] = min(vol_necessaire,cuve[\"volume\"].iloc[i] + df['sum_apports'].iloc[i] - df['total_needs'].iloc[i])\n",
    "\n",
    "#Illustration\n",
    "alt.Chart(cuve.reset_index()).mark_line().encode(\n",
    "    x=alt.X('index:T', title=\"Jour de l'année\"), \n",
    "    y=alt.Y('volume', title=\"Volume de la cuve\"), \n",
    "    tooltip=['volume', 'index']\n",
    ").interactive()\n"
   ]
  },
  {
   "attachments": {},
   "cell_type": "markdown",
   "metadata": {},
   "source": [
    "Vérifions le comportement d'une telle cuve. "
   ]
  },
  {
   "cell_type": "code",
   "execution_count": null,
   "metadata": {},
   "outputs": [
    {
     "name": "stdout",
     "output_type": "stream",
     "text": [
      "4251.5999999999985\n"
     ]
    }
   ],
   "source": [
    "print(vol_necessaire)"
   ]
  },
  {
   "cell_type": "markdown",
   "metadata": {},
   "source": [
    "Let's run it a thousand times ! "
   ]
  },
  {
   "cell_type": "code",
   "execution_count": 22,
   "metadata": {},
   "outputs": [
    {
     "ename": "ValueError",
     "evalue": "The truth value of a Series is ambiguous. Use a.empty, a.bool(), a.item(), a.any() or a.all().",
     "output_type": "error",
     "traceback": [
      "\u001b[0;31m---------------------------------------------------------------------------\u001b[0m",
      "\u001b[0;31mValueError\u001b[0m                                Traceback (most recent call last)",
      "Cell \u001b[0;32mIn[22], line 4\u001b[0m\n\u001b[1;32m      2\u001b[0m \u001b[39mfor\u001b[39;00m index \u001b[39min\u001b[39;00m \u001b[39mrange\u001b[39m(\u001b[39mlen\u001b[39m(volumes)):\n\u001b[1;32m      3\u001b[0m     pluviosim \u001b[39m=\u001b[39m simulation\u001b[39m.\u001b[39mgenerate_rainfall(moyenne_clermont[\u001b[39m\"\u001b[39m\u001b[39mnb_jours\u001b[39m\u001b[39m\"\u001b[39m], moyenne_clermont[\u001b[39m\"\u001b[39m\u001b[39mhauteur\u001b[39m\u001b[39m\"\u001b[39m])\n\u001b[0;32m----> 4\u001b[0m     volmin\u001b[39m=\u001b[39msimulation\u001b[39m.\u001b[39;49mmin_reservoir_volume(surface_roof\u001b[39m*\u001b[39;49mpluviosim, df[\u001b[39m'\u001b[39;49m\u001b[39mtotal_needs\u001b[39;49m\u001b[39m'\u001b[39;49m])\n\u001b[1;32m      5\u001b[0m     volumes\u001b[39m.\u001b[39mloc[index]\u001b[39m=\u001b[39mvolmin\n",
      "File \u001b[0;32m~/Code/recuperation_eau_pluie/recuperation_eau_pluie/simulation.py:46\u001b[0m, in \u001b[0;36mmin_reservoir_volume\u001b[0;34m(water_input, water_consumption)\u001b[0m\n\u001b[1;32m     44\u001b[0m reservoir \u001b[39m=\u001b[39m pd\u001b[39m.\u001b[39mDataFrame({\u001b[39m\"\u001b[39m\u001b[39mvolume\u001b[39m\u001b[39m\"\u001b[39m : np\u001b[39m.\u001b[39mzeros(\u001b[39m365\u001b[39m)}, index\u001b[39m=\u001b[39mpd\u001b[39m.\u001b[39mdate_range(\u001b[39m\"\u001b[39m\u001b[39m20230101\u001b[39m\u001b[39m\"\u001b[39m, periods\u001b[39m=\u001b[39m\u001b[39m365\u001b[39m))\n\u001b[1;32m     45\u001b[0m \u001b[39mfor\u001b[39;00m i \u001b[39min\u001b[39;00m \u001b[39mrange\u001b[39m(\u001b[39mlen\u001b[39m(reservoir\u001b[39m.\u001b[39mindex)\u001b[39m-\u001b[39m\u001b[39m1\u001b[39m):\n\u001b[0;32m---> 46\u001b[0m    reservoir[\u001b[39m\"\u001b[39m\u001b[39mvolume\u001b[39m\u001b[39m\"\u001b[39m]\u001b[39m.\u001b[39miloc[i\u001b[39m+\u001b[39m\u001b[39m1\u001b[39m] \u001b[39m=\u001b[39m \u001b[39mmin\u001b[39;49m(\u001b[39m0\u001b[39;49m,reservoir[\u001b[39m\"\u001b[39;49m\u001b[39mvolume\u001b[39;49m\u001b[39m\"\u001b[39;49m]\u001b[39m.\u001b[39;49miloc[i] \u001b[39m+\u001b[39;49m water_input\u001b[39m.\u001b[39;49miloc[i] \u001b[39m-\u001b[39;49m water_consumption\u001b[39m.\u001b[39;49miloc[i])\n\u001b[1;32m     47\u001b[0m result \u001b[39m=\u001b[39m \u001b[39m-\u001b[39m reservoir[\u001b[39m\"\u001b[39m\u001b[39mvolume\u001b[39m\u001b[39m\"\u001b[39m]\u001b[39m.\u001b[39mmin()\n\u001b[1;32m     48\u001b[0m \u001b[39mreturn\u001b[39;00m result\n",
      "File \u001b[0;32m~/Code/recuperation_eau_pluie/.venv/lib/python3.11/site-packages/pandas/core/generic.py:1527\u001b[0m, in \u001b[0;36mNDFrame.__nonzero__\u001b[0;34m(self)\u001b[0m\n\u001b[1;32m   1525\u001b[0m \u001b[39m@final\u001b[39m\n\u001b[1;32m   1526\u001b[0m \u001b[39mdef\u001b[39;00m \u001b[39m__nonzero__\u001b[39m(\u001b[39mself\u001b[39m) \u001b[39m-\u001b[39m\u001b[39m>\u001b[39m NoReturn:\n\u001b[0;32m-> 1527\u001b[0m     \u001b[39mraise\u001b[39;00m \u001b[39mValueError\u001b[39;00m(\n\u001b[1;32m   1528\u001b[0m         \u001b[39mf\u001b[39m\u001b[39m\"\u001b[39m\u001b[39mThe truth value of a \u001b[39m\u001b[39m{\u001b[39;00m\u001b[39mtype\u001b[39m(\u001b[39mself\u001b[39m)\u001b[39m.\u001b[39m\u001b[39m__name__\u001b[39m\u001b[39m}\u001b[39;00m\u001b[39m is ambiguous. \u001b[39m\u001b[39m\"\u001b[39m\n\u001b[1;32m   1529\u001b[0m         \u001b[39m\"\u001b[39m\u001b[39mUse a.empty, a.bool(), a.item(), a.any() or a.all().\u001b[39m\u001b[39m\"\u001b[39m\n\u001b[1;32m   1530\u001b[0m     )\n",
      "\u001b[0;31mValueError\u001b[0m: The truth value of a Series is ambiguous. Use a.empty, a.bool(), a.item(), a.any() or a.all()."
     ]
    }
   ],
   "source": [
    "volumes = pd.DataFrame({\"volume\" : np.zeros(100)})\n",
    "for index in range(len(volumes)):\n",
    "    pluviosim = simulation.generate_rainfall(moyenne_clermont[\"nb_jours\"], moyenne_clermont[\"hauteur\"])\n",
    "    volmin=simulation.min_reservoir_volume(surface_roof*pluviosim, df['total_needs'])\n",
    "    volumes.loc[index]=volmin"
   ]
  },
  {
   "attachments": {},
   "cell_type": "markdown",
   "metadata": {},
   "source": [
    "## PLUS ULTRA\n",
    "\n",
    "Les projets pour la suite "
   ]
  },
  {
   "attachments": {},
   "cell_type": "markdown",
   "metadata": {},
   "source": [
    "### tentative d'appel de fonction dans un dossier parent\n",
    "\n",
    "La première étape est de mettre les fonctions dans la librairie pour y faire appel. \n",
    "\n",
    "Il faut aussi faire en priorité la version \"paillage\", qui est la plus réaliste. \n",
    "\n",
    "Puis stocker les résultats de n simulations.\n",
    "\n",
    "Enfin évaluer les hypothèses de génération des pluies, pour faire apparaître par exemple des sécheresses. "
   ]
  },
  {
   "cell_type": "code",
   "execution_count": null,
   "metadata": {},
   "outputs": [],
   "source": [
    "# Il faut que tu importes depuis un endroit connu\n",
    "# Ton projet définit la _library_ `recuperation_eau_pluie`,\n",
    "# et l'installe automatiquement de façon éditable\n",
    "# (on en discute à l'occasion si ça t'intéresse)\n",
    "from recuperation_eau_pluie import simulation\n"
   ]
  },
  {
   "cell_type": "code",
   "execution_count": null,
   "metadata": {},
   "outputs": [
    {
     "name": "stdout",
     "output_type": "stream",
     "text": [
      "Hello World ! 4\n"
     ]
    }
   ],
   "source": [
    "simulation.test_function()"
   ]
  },
  {
   "cell_type": "code",
   "execution_count": null,
   "metadata": {},
   "outputs": [],
   "source": [
    "import tomli\n",
    "\n",
    "with open(\"../data/conf.toml\", \"rb\") as f:\n",
    "    toml_dict = tomli.load(f)\n",
    "n_inhabitants = toml_dict['inhabitants']\n",
    "surface_garden = toml_dict['surface_garden']\n",
    "surface_roof = toml_dict['surface_roof']\n"
   ]
  },
  {
   "cell_type": "code",
   "execution_count": null,
   "metadata": {},
   "outputs": [
    {
     "data": {
      "text/plain": [
       "{'surface_garden': 60,\n",
       " 'surface_roof': 200,\n",
       " 'mean_human_daily_consumption': 0.15,\n",
       " 'inhabitants': 6}"
      ]
     },
     "execution_count": 28,
     "metadata": {},
     "output_type": "execute_result"
    }
   ],
   "source": [
    "toml_dict"
   ]
  },
  {
   "cell_type": "code",
   "execution_count": null,
   "metadata": {},
   "outputs": [
    {
     "data": {
      "text/plain": [
       "6"
      ]
     },
     "execution_count": 29,
     "metadata": {},
     "output_type": "execute_result"
    }
   ],
   "source": []
  },
  {
   "cell_type": "code",
   "execution_count": null,
   "metadata": {},
   "outputs": [],
   "source": []
  }
 ],
 "metadata": {
  "kernelspec": {
   "display_name": ".venv",
   "language": "python",
   "name": "python3"
  },
  "language_info": {
   "codemirror_mode": {
    "name": "ipython",
    "version": 3
   },
   "file_extension": ".py",
   "mimetype": "text/x-python",
   "name": "python",
   "nbconvert_exporter": "python",
   "pygments_lexer": "ipython3",
   "version": "3.11.2"
  },
  "orig_nbformat": 4,
  "vscode": {
   "interpreter": {
    "hash": "e90112cafb4d1c901daea2540376a25af3d49cb7f6758657662eedef0022234f"
   }
  }
 },
 "nbformat": 4,
 "nbformat_minor": 2
}
